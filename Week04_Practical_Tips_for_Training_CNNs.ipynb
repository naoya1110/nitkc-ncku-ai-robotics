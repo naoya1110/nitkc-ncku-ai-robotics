{
  "nbformat": 4,
  "nbformat_minor": 0,
  "metadata": {
    "colab": {
      "name": "Week04_Practical_Tips_for_Training_CNNs.ipynb",
      "provenance": [],
      "collapsed_sections": [],
      "authorship_tag": "ABX9TyPjsF1UZxAmjMJ2k+rFLgK5",
      "include_colab_link": true
    },
    "kernelspec": {
      "name": "python3",
      "display_name": "Python 3"
    },
    "language_info": {
      "name": "python"
    },
    "accelerator": "GPU",
    "widgets": {
      "application/vnd.jupyter.widget-state+json": {
        "586fdf4db09b4dadb1665d57949bdaf4": {
          "model_module": "@jupyter-widgets/controls",
          "model_name": "HBoxModel",
          "model_module_version": "1.5.0",
          "state": {
            "_view_name": "HBoxView",
            "_dom_classes": [],
            "_model_name": "HBoxModel",
            "_view_module": "@jupyter-widgets/controls",
            "_model_module_version": "1.5.0",
            "_view_count": null,
            "_view_module_version": "1.5.0",
            "box_style": "",
            "layout": "IPY_MODEL_f6f35dac54d041c7b8b5e790e072f313",
            "_model_module": "@jupyter-widgets/controls",
            "children": [
              "IPY_MODEL_a601ba2d8a8c4bdb8e8fda3dfea42225",
              "IPY_MODEL_d99f3c1105b742bea8ac5319ef63e12a",
              "IPY_MODEL_6a079ed7154045079b5e77d0e77e4c6c"
            ]
          }
        },
        "f6f35dac54d041c7b8b5e790e072f313": {
          "model_module": "@jupyter-widgets/base",
          "model_name": "LayoutModel",
          "model_module_version": "1.2.0",
          "state": {
            "_view_name": "LayoutView",
            "grid_template_rows": null,
            "right": null,
            "justify_content": null,
            "_view_module": "@jupyter-widgets/base",
            "overflow": null,
            "_model_module_version": "1.2.0",
            "_view_count": null,
            "flex_flow": null,
            "width": null,
            "min_width": null,
            "border": null,
            "align_items": null,
            "bottom": null,
            "_model_module": "@jupyter-widgets/base",
            "top": null,
            "grid_column": null,
            "overflow_y": null,
            "overflow_x": null,
            "grid_auto_flow": null,
            "grid_area": null,
            "grid_template_columns": null,
            "flex": null,
            "_model_name": "LayoutModel",
            "justify_items": null,
            "grid_row": null,
            "max_height": null,
            "align_content": null,
            "visibility": null,
            "align_self": null,
            "height": null,
            "min_height": null,
            "padding": null,
            "grid_auto_rows": null,
            "grid_gap": null,
            "max_width": null,
            "order": null,
            "_view_module_version": "1.2.0",
            "grid_template_areas": null,
            "object_position": null,
            "object_fit": null,
            "grid_auto_columns": null,
            "margin": null,
            "display": null,
            "left": null
          }
        },
        "a601ba2d8a8c4bdb8e8fda3dfea42225": {
          "model_module": "@jupyter-widgets/controls",
          "model_name": "HTMLModel",
          "model_module_version": "1.5.0",
          "state": {
            "_view_name": "HTMLView",
            "style": "IPY_MODEL_05c2e957d06f4d90af1b510e57c11334",
            "_dom_classes": [],
            "description": "",
            "_model_name": "HTMLModel",
            "placeholder": "​",
            "_view_module": "@jupyter-widgets/controls",
            "_model_module_version": "1.5.0",
            "value": "100%",
            "_view_count": null,
            "_view_module_version": "1.5.0",
            "description_tooltip": null,
            "_model_module": "@jupyter-widgets/controls",
            "layout": "IPY_MODEL_77bd6f2e82fe4309a1869996aa948d7d"
          }
        },
        "d99f3c1105b742bea8ac5319ef63e12a": {
          "model_module": "@jupyter-widgets/controls",
          "model_name": "FloatProgressModel",
          "model_module_version": "1.5.0",
          "state": {
            "_view_name": "ProgressView",
            "style": "IPY_MODEL_a3825f9a9f72447585323cff00937f71",
            "_dom_classes": [],
            "description": "",
            "_model_name": "FloatProgressModel",
            "bar_style": "success",
            "max": 50000,
            "_view_module": "@jupyter-widgets/controls",
            "_model_module_version": "1.5.0",
            "value": 50000,
            "_view_count": null,
            "_view_module_version": "1.5.0",
            "orientation": "horizontal",
            "min": 0,
            "description_tooltip": null,
            "_model_module": "@jupyter-widgets/controls",
            "layout": "IPY_MODEL_4f53741403954e398d874b2423dbc8cb"
          }
        },
        "6a079ed7154045079b5e77d0e77e4c6c": {
          "model_module": "@jupyter-widgets/controls",
          "model_name": "HTMLModel",
          "model_module_version": "1.5.0",
          "state": {
            "_view_name": "HTMLView",
            "style": "IPY_MODEL_8e376b7c59ae401c8df4056d6108a20f",
            "_dom_classes": [],
            "description": "",
            "_model_name": "HTMLModel",
            "placeholder": "​",
            "_view_module": "@jupyter-widgets/controls",
            "_model_module_version": "1.5.0",
            "value": " 50000/50000 [00:05&lt;00:00, 9297.69it/s]",
            "_view_count": null,
            "_view_module_version": "1.5.0",
            "description_tooltip": null,
            "_model_module": "@jupyter-widgets/controls",
            "layout": "IPY_MODEL_c52719610f684319ad4b5dd3a4ae6dce"
          }
        },
        "05c2e957d06f4d90af1b510e57c11334": {
          "model_module": "@jupyter-widgets/controls",
          "model_name": "DescriptionStyleModel",
          "model_module_version": "1.5.0",
          "state": {
            "_view_name": "StyleView",
            "_model_name": "DescriptionStyleModel",
            "description_width": "",
            "_view_module": "@jupyter-widgets/base",
            "_model_module_version": "1.5.0",
            "_view_count": null,
            "_view_module_version": "1.2.0",
            "_model_module": "@jupyter-widgets/controls"
          }
        },
        "77bd6f2e82fe4309a1869996aa948d7d": {
          "model_module": "@jupyter-widgets/base",
          "model_name": "LayoutModel",
          "model_module_version": "1.2.0",
          "state": {
            "_view_name": "LayoutView",
            "grid_template_rows": null,
            "right": null,
            "justify_content": null,
            "_view_module": "@jupyter-widgets/base",
            "overflow": null,
            "_model_module_version": "1.2.0",
            "_view_count": null,
            "flex_flow": null,
            "width": null,
            "min_width": null,
            "border": null,
            "align_items": null,
            "bottom": null,
            "_model_module": "@jupyter-widgets/base",
            "top": null,
            "grid_column": null,
            "overflow_y": null,
            "overflow_x": null,
            "grid_auto_flow": null,
            "grid_area": null,
            "grid_template_columns": null,
            "flex": null,
            "_model_name": "LayoutModel",
            "justify_items": null,
            "grid_row": null,
            "max_height": null,
            "align_content": null,
            "visibility": null,
            "align_self": null,
            "height": null,
            "min_height": null,
            "padding": null,
            "grid_auto_rows": null,
            "grid_gap": null,
            "max_width": null,
            "order": null,
            "_view_module_version": "1.2.0",
            "grid_template_areas": null,
            "object_position": null,
            "object_fit": null,
            "grid_auto_columns": null,
            "margin": null,
            "display": null,
            "left": null
          }
        },
        "a3825f9a9f72447585323cff00937f71": {
          "model_module": "@jupyter-widgets/controls",
          "model_name": "ProgressStyleModel",
          "model_module_version": "1.5.0",
          "state": {
            "_view_name": "StyleView",
            "_model_name": "ProgressStyleModel",
            "description_width": "",
            "_view_module": "@jupyter-widgets/base",
            "_model_module_version": "1.5.0",
            "_view_count": null,
            "_view_module_version": "1.2.0",
            "bar_color": null,
            "_model_module": "@jupyter-widgets/controls"
          }
        },
        "4f53741403954e398d874b2423dbc8cb": {
          "model_module": "@jupyter-widgets/base",
          "model_name": "LayoutModel",
          "model_module_version": "1.2.0",
          "state": {
            "_view_name": "LayoutView",
            "grid_template_rows": null,
            "right": null,
            "justify_content": null,
            "_view_module": "@jupyter-widgets/base",
            "overflow": null,
            "_model_module_version": "1.2.0",
            "_view_count": null,
            "flex_flow": null,
            "width": null,
            "min_width": null,
            "border": null,
            "align_items": null,
            "bottom": null,
            "_model_module": "@jupyter-widgets/base",
            "top": null,
            "grid_column": null,
            "overflow_y": null,
            "overflow_x": null,
            "grid_auto_flow": null,
            "grid_area": null,
            "grid_template_columns": null,
            "flex": null,
            "_model_name": "LayoutModel",
            "justify_items": null,
            "grid_row": null,
            "max_height": null,
            "align_content": null,
            "visibility": null,
            "align_self": null,
            "height": null,
            "min_height": null,
            "padding": null,
            "grid_auto_rows": null,
            "grid_gap": null,
            "max_width": null,
            "order": null,
            "_view_module_version": "1.2.0",
            "grid_template_areas": null,
            "object_position": null,
            "object_fit": null,
            "grid_auto_columns": null,
            "margin": null,
            "display": null,
            "left": null
          }
        },
        "8e376b7c59ae401c8df4056d6108a20f": {
          "model_module": "@jupyter-widgets/controls",
          "model_name": "DescriptionStyleModel",
          "model_module_version": "1.5.0",
          "state": {
            "_view_name": "StyleView",
            "_model_name": "DescriptionStyleModel",
            "description_width": "",
            "_view_module": "@jupyter-widgets/base",
            "_model_module_version": "1.5.0",
            "_view_count": null,
            "_view_module_version": "1.2.0",
            "_model_module": "@jupyter-widgets/controls"
          }
        },
        "c52719610f684319ad4b5dd3a4ae6dce": {
          "model_module": "@jupyter-widgets/base",
          "model_name": "LayoutModel",
          "model_module_version": "1.2.0",
          "state": {
            "_view_name": "LayoutView",
            "grid_template_rows": null,
            "right": null,
            "justify_content": null,
            "_view_module": "@jupyter-widgets/base",
            "overflow": null,
            "_model_module_version": "1.2.0",
            "_view_count": null,
            "flex_flow": null,
            "width": null,
            "min_width": null,
            "border": null,
            "align_items": null,
            "bottom": null,
            "_model_module": "@jupyter-widgets/base",
            "top": null,
            "grid_column": null,
            "overflow_y": null,
            "overflow_x": null,
            "grid_auto_flow": null,
            "grid_area": null,
            "grid_template_columns": null,
            "flex": null,
            "_model_name": "LayoutModel",
            "justify_items": null,
            "grid_row": null,
            "max_height": null,
            "align_content": null,
            "visibility": null,
            "align_self": null,
            "height": null,
            "min_height": null,
            "padding": null,
            "grid_auto_rows": null,
            "grid_gap": null,
            "max_width": null,
            "order": null,
            "_view_module_version": "1.2.0",
            "grid_template_areas": null,
            "object_position": null,
            "object_fit": null,
            "grid_auto_columns": null,
            "margin": null,
            "display": null,
            "left": null
          }
        },
        "cad6e452a112435b840571fdecd2ba86": {
          "model_module": "@jupyter-widgets/controls",
          "model_name": "HBoxModel",
          "model_module_version": "1.5.0",
          "state": {
            "_view_name": "HBoxView",
            "_dom_classes": [],
            "_model_name": "HBoxModel",
            "_view_module": "@jupyter-widgets/controls",
            "_model_module_version": "1.5.0",
            "_view_count": null,
            "_view_module_version": "1.5.0",
            "box_style": "",
            "layout": "IPY_MODEL_4465f0127e164123a47374d9f5a49aff",
            "_model_module": "@jupyter-widgets/controls",
            "children": [
              "IPY_MODEL_3e8854fe1c7149638f2e7976a766639e",
              "IPY_MODEL_5e967ab7953a4c05ac9308971348e68a",
              "IPY_MODEL_56c51fdb4bb24a9ca130d648ce51396b"
            ]
          }
        },
        "4465f0127e164123a47374d9f5a49aff": {
          "model_module": "@jupyter-widgets/base",
          "model_name": "LayoutModel",
          "model_module_version": "1.2.0",
          "state": {
            "_view_name": "LayoutView",
            "grid_template_rows": null,
            "right": null,
            "justify_content": null,
            "_view_module": "@jupyter-widgets/base",
            "overflow": null,
            "_model_module_version": "1.2.0",
            "_view_count": null,
            "flex_flow": null,
            "width": null,
            "min_width": null,
            "border": null,
            "align_items": null,
            "bottom": null,
            "_model_module": "@jupyter-widgets/base",
            "top": null,
            "grid_column": null,
            "overflow_y": null,
            "overflow_x": null,
            "grid_auto_flow": null,
            "grid_area": null,
            "grid_template_columns": null,
            "flex": null,
            "_model_name": "LayoutModel",
            "justify_items": null,
            "grid_row": null,
            "max_height": null,
            "align_content": null,
            "visibility": null,
            "align_self": null,
            "height": null,
            "min_height": null,
            "padding": null,
            "grid_auto_rows": null,
            "grid_gap": null,
            "max_width": null,
            "order": null,
            "_view_module_version": "1.2.0",
            "grid_template_areas": null,
            "object_position": null,
            "object_fit": null,
            "grid_auto_columns": null,
            "margin": null,
            "display": null,
            "left": null
          }
        },
        "3e8854fe1c7149638f2e7976a766639e": {
          "model_module": "@jupyter-widgets/controls",
          "model_name": "HTMLModel",
          "model_module_version": "1.5.0",
          "state": {
            "_view_name": "HTMLView",
            "style": "IPY_MODEL_8f93f275bb6b4066abdddd873156526d",
            "_dom_classes": [],
            "description": "",
            "_model_name": "HTMLModel",
            "placeholder": "​",
            "_view_module": "@jupyter-widgets/controls",
            "_model_module_version": "1.5.0",
            "value": "100%",
            "_view_count": null,
            "_view_module_version": "1.5.0",
            "description_tooltip": null,
            "_model_module": "@jupyter-widgets/controls",
            "layout": "IPY_MODEL_1dd30bc3ceb743c686f4bf8612bacfb7"
          }
        },
        "5e967ab7953a4c05ac9308971348e68a": {
          "model_module": "@jupyter-widgets/controls",
          "model_name": "FloatProgressModel",
          "model_module_version": "1.5.0",
          "state": {
            "_view_name": "ProgressView",
            "style": "IPY_MODEL_b7cbc7f468e947fd802c5b83ca07405e",
            "_dom_classes": [],
            "description": "",
            "_model_name": "FloatProgressModel",
            "bar_style": "success",
            "max": 1563,
            "_view_module": "@jupyter-widgets/controls",
            "_model_module_version": "1.5.0",
            "value": 1563,
            "_view_count": null,
            "_view_module_version": "1.5.0",
            "orientation": "horizontal",
            "min": 0,
            "description_tooltip": null,
            "_model_module": "@jupyter-widgets/controls",
            "layout": "IPY_MODEL_98876188ccdd4d6682d0ad272eb111fd"
          }
        },
        "56c51fdb4bb24a9ca130d648ce51396b": {
          "model_module": "@jupyter-widgets/controls",
          "model_name": "HTMLModel",
          "model_module_version": "1.5.0",
          "state": {
            "_view_name": "HTMLView",
            "style": "IPY_MODEL_8fd36d145f8c47b3af1b49f557e61bcb",
            "_dom_classes": [],
            "description": "",
            "_model_name": "HTMLModel",
            "placeholder": "​",
            "_view_module": "@jupyter-widgets/controls",
            "_model_module_version": "1.5.0",
            "value": " 1563/1563 [01:19&lt;00:00, 19.65it/s]",
            "_view_count": null,
            "_view_module_version": "1.5.0",
            "description_tooltip": null,
            "_model_module": "@jupyter-widgets/controls",
            "layout": "IPY_MODEL_835cfd0b716d492c8abcebf82be830ef"
          }
        },
        "8f93f275bb6b4066abdddd873156526d": {
          "model_module": "@jupyter-widgets/controls",
          "model_name": "DescriptionStyleModel",
          "model_module_version": "1.5.0",
          "state": {
            "_view_name": "StyleView",
            "_model_name": "DescriptionStyleModel",
            "description_width": "",
            "_view_module": "@jupyter-widgets/base",
            "_model_module_version": "1.5.0",
            "_view_count": null,
            "_view_module_version": "1.2.0",
            "_model_module": "@jupyter-widgets/controls"
          }
        },
        "1dd30bc3ceb743c686f4bf8612bacfb7": {
          "model_module": "@jupyter-widgets/base",
          "model_name": "LayoutModel",
          "model_module_version": "1.2.0",
          "state": {
            "_view_name": "LayoutView",
            "grid_template_rows": null,
            "right": null,
            "justify_content": null,
            "_view_module": "@jupyter-widgets/base",
            "overflow": null,
            "_model_module_version": "1.2.0",
            "_view_count": null,
            "flex_flow": null,
            "width": null,
            "min_width": null,
            "border": null,
            "align_items": null,
            "bottom": null,
            "_model_module": "@jupyter-widgets/base",
            "top": null,
            "grid_column": null,
            "overflow_y": null,
            "overflow_x": null,
            "grid_auto_flow": null,
            "grid_area": null,
            "grid_template_columns": null,
            "flex": null,
            "_model_name": "LayoutModel",
            "justify_items": null,
            "grid_row": null,
            "max_height": null,
            "align_content": null,
            "visibility": null,
            "align_self": null,
            "height": null,
            "min_height": null,
            "padding": null,
            "grid_auto_rows": null,
            "grid_gap": null,
            "max_width": null,
            "order": null,
            "_view_module_version": "1.2.0",
            "grid_template_areas": null,
            "object_position": null,
            "object_fit": null,
            "grid_auto_columns": null,
            "margin": null,
            "display": null,
            "left": null
          }
        },
        "b7cbc7f468e947fd802c5b83ca07405e": {
          "model_module": "@jupyter-widgets/controls",
          "model_name": "ProgressStyleModel",
          "model_module_version": "1.5.0",
          "state": {
            "_view_name": "StyleView",
            "_model_name": "ProgressStyleModel",
            "description_width": "",
            "_view_module": "@jupyter-widgets/base",
            "_model_module_version": "1.5.0",
            "_view_count": null,
            "_view_module_version": "1.2.0",
            "bar_color": null,
            "_model_module": "@jupyter-widgets/controls"
          }
        },
        "98876188ccdd4d6682d0ad272eb111fd": {
          "model_module": "@jupyter-widgets/base",
          "model_name": "LayoutModel",
          "model_module_version": "1.2.0",
          "state": {
            "_view_name": "LayoutView",
            "grid_template_rows": null,
            "right": null,
            "justify_content": null,
            "_view_module": "@jupyter-widgets/base",
            "overflow": null,
            "_model_module_version": "1.2.0",
            "_view_count": null,
            "flex_flow": null,
            "width": null,
            "min_width": null,
            "border": null,
            "align_items": null,
            "bottom": null,
            "_model_module": "@jupyter-widgets/base",
            "top": null,
            "grid_column": null,
            "overflow_y": null,
            "overflow_x": null,
            "grid_auto_flow": null,
            "grid_area": null,
            "grid_template_columns": null,
            "flex": null,
            "_model_name": "LayoutModel",
            "justify_items": null,
            "grid_row": null,
            "max_height": null,
            "align_content": null,
            "visibility": null,
            "align_self": null,
            "height": null,
            "min_height": null,
            "padding": null,
            "grid_auto_rows": null,
            "grid_gap": null,
            "max_width": null,
            "order": null,
            "_view_module_version": "1.2.0",
            "grid_template_areas": null,
            "object_position": null,
            "object_fit": null,
            "grid_auto_columns": null,
            "margin": null,
            "display": null,
            "left": null
          }
        },
        "8fd36d145f8c47b3af1b49f557e61bcb": {
          "model_module": "@jupyter-widgets/controls",
          "model_name": "DescriptionStyleModel",
          "model_module_version": "1.5.0",
          "state": {
            "_view_name": "StyleView",
            "_model_name": "DescriptionStyleModel",
            "description_width": "",
            "_view_module": "@jupyter-widgets/base",
            "_model_module_version": "1.5.0",
            "_view_count": null,
            "_view_module_version": "1.2.0",
            "_model_module": "@jupyter-widgets/controls"
          }
        },
        "835cfd0b716d492c8abcebf82be830ef": {
          "model_module": "@jupyter-widgets/base",
          "model_name": "LayoutModel",
          "model_module_version": "1.2.0",
          "state": {
            "_view_name": "LayoutView",
            "grid_template_rows": null,
            "right": null,
            "justify_content": null,
            "_view_module": "@jupyter-widgets/base",
            "overflow": null,
            "_model_module_version": "1.2.0",
            "_view_count": null,
            "flex_flow": null,
            "width": null,
            "min_width": null,
            "border": null,
            "align_items": null,
            "bottom": null,
            "_model_module": "@jupyter-widgets/base",
            "top": null,
            "grid_column": null,
            "overflow_y": null,
            "overflow_x": null,
            "grid_auto_flow": null,
            "grid_area": null,
            "grid_template_columns": null,
            "flex": null,
            "_model_name": "LayoutModel",
            "justify_items": null,
            "grid_row": null,
            "max_height": null,
            "align_content": null,
            "visibility": null,
            "align_self": null,
            "height": null,
            "min_height": null,
            "padding": null,
            "grid_auto_rows": null,
            "grid_gap": null,
            "max_width": null,
            "order": null,
            "_view_module_version": "1.2.0",
            "grid_template_areas": null,
            "object_position": null,
            "object_fit": null,
            "grid_auto_columns": null,
            "margin": null,
            "display": null,
            "left": null
          }
        },
        "e2d9961b3a2a441e95c6bd3056350988": {
          "model_module": "@jupyter-widgets/controls",
          "model_name": "HBoxModel",
          "model_module_version": "1.5.0",
          "state": {
            "_view_name": "HBoxView",
            "_dom_classes": [],
            "_model_name": "HBoxModel",
            "_view_module": "@jupyter-widgets/controls",
            "_model_module_version": "1.5.0",
            "_view_count": null,
            "_view_module_version": "1.5.0",
            "box_style": "",
            "layout": "IPY_MODEL_1915422a2b434d6f9e735859620c9b95",
            "_model_module": "@jupyter-widgets/controls",
            "children": [
              "IPY_MODEL_016740d262a5481897d46a92ff1e454b",
              "IPY_MODEL_17e98dcad7044c2498dcb2e837c3fc4f",
              "IPY_MODEL_c3d96cb44fd846c6b70b8c3ecfda8192"
            ]
          }
        },
        "1915422a2b434d6f9e735859620c9b95": {
          "model_module": "@jupyter-widgets/base",
          "model_name": "LayoutModel",
          "model_module_version": "1.2.0",
          "state": {
            "_view_name": "LayoutView",
            "grid_template_rows": null,
            "right": null,
            "justify_content": null,
            "_view_module": "@jupyter-widgets/base",
            "overflow": null,
            "_model_module_version": "1.2.0",
            "_view_count": null,
            "flex_flow": null,
            "width": null,
            "min_width": null,
            "border": null,
            "align_items": null,
            "bottom": null,
            "_model_module": "@jupyter-widgets/base",
            "top": null,
            "grid_column": null,
            "overflow_y": null,
            "overflow_x": null,
            "grid_auto_flow": null,
            "grid_area": null,
            "grid_template_columns": null,
            "flex": null,
            "_model_name": "LayoutModel",
            "justify_items": null,
            "grid_row": null,
            "max_height": null,
            "align_content": null,
            "visibility": null,
            "align_self": null,
            "height": null,
            "min_height": null,
            "padding": null,
            "grid_auto_rows": null,
            "grid_gap": null,
            "max_width": null,
            "order": null,
            "_view_module_version": "1.2.0",
            "grid_template_areas": null,
            "object_position": null,
            "object_fit": null,
            "grid_auto_columns": null,
            "margin": null,
            "display": null,
            "left": null
          }
        },
        "016740d262a5481897d46a92ff1e454b": {
          "model_module": "@jupyter-widgets/controls",
          "model_name": "HTMLModel",
          "model_module_version": "1.5.0",
          "state": {
            "_view_name": "HTMLView",
            "style": "IPY_MODEL_81e6c9ed28b04cc081f9cf6d8d494464",
            "_dom_classes": [],
            "description": "",
            "_model_name": "HTMLModel",
            "placeholder": "​",
            "_view_module": "@jupyter-widgets/controls",
            "_model_module_version": "1.5.0",
            "value": "100%",
            "_view_count": null,
            "_view_module_version": "1.5.0",
            "description_tooltip": null,
            "_model_module": "@jupyter-widgets/controls",
            "layout": "IPY_MODEL_d38ec3f2a2e747e6a71d1413a9d490ee"
          }
        },
        "17e98dcad7044c2498dcb2e837c3fc4f": {
          "model_module": "@jupyter-widgets/controls",
          "model_name": "FloatProgressModel",
          "model_module_version": "1.5.0",
          "state": {
            "_view_name": "ProgressView",
            "style": "IPY_MODEL_4ad792436e8b48deab914b6346f6bb7d",
            "_dom_classes": [],
            "description": "",
            "_model_name": "FloatProgressModel",
            "bar_style": "success",
            "max": 313,
            "_view_module": "@jupyter-widgets/controls",
            "_model_module_version": "1.5.0",
            "value": 313,
            "_view_count": null,
            "_view_module_version": "1.5.0",
            "orientation": "horizontal",
            "min": 0,
            "description_tooltip": null,
            "_model_module": "@jupyter-widgets/controls",
            "layout": "IPY_MODEL_c2d945cf263c4952829307826218454d"
          }
        },
        "c3d96cb44fd846c6b70b8c3ecfda8192": {
          "model_module": "@jupyter-widgets/controls",
          "model_name": "HTMLModel",
          "model_module_version": "1.5.0",
          "state": {
            "_view_name": "HTMLView",
            "style": "IPY_MODEL_21e4a987f51a4dcaa6cb886db1407d6a",
            "_dom_classes": [],
            "description": "",
            "_model_name": "HTMLModel",
            "placeholder": "​",
            "_view_module": "@jupyter-widgets/controls",
            "_model_module_version": "1.5.0",
            "value": " 313/313 [00:03&lt;00:00, 83.30it/s]",
            "_view_count": null,
            "_view_module_version": "1.5.0",
            "description_tooltip": null,
            "_model_module": "@jupyter-widgets/controls",
            "layout": "IPY_MODEL_a7f59b9ec5d44987a6ccc137fa5baa71"
          }
        },
        "81e6c9ed28b04cc081f9cf6d8d494464": {
          "model_module": "@jupyter-widgets/controls",
          "model_name": "DescriptionStyleModel",
          "model_module_version": "1.5.0",
          "state": {
            "_view_name": "StyleView",
            "_model_name": "DescriptionStyleModel",
            "description_width": "",
            "_view_module": "@jupyter-widgets/base",
            "_model_module_version": "1.5.0",
            "_view_count": null,
            "_view_module_version": "1.2.0",
            "_model_module": "@jupyter-widgets/controls"
          }
        },
        "d38ec3f2a2e747e6a71d1413a9d490ee": {
          "model_module": "@jupyter-widgets/base",
          "model_name": "LayoutModel",
          "model_module_version": "1.2.0",
          "state": {
            "_view_name": "LayoutView",
            "grid_template_rows": null,
            "right": null,
            "justify_content": null,
            "_view_module": "@jupyter-widgets/base",
            "overflow": null,
            "_model_module_version": "1.2.0",
            "_view_count": null,
            "flex_flow": null,
            "width": null,
            "min_width": null,
            "border": null,
            "align_items": null,
            "bottom": null,
            "_model_module": "@jupyter-widgets/base",
            "top": null,
            "grid_column": null,
            "overflow_y": null,
            "overflow_x": null,
            "grid_auto_flow": null,
            "grid_area": null,
            "grid_template_columns": null,
            "flex": null,
            "_model_name": "LayoutModel",
            "justify_items": null,
            "grid_row": null,
            "max_height": null,
            "align_content": null,
            "visibility": null,
            "align_self": null,
            "height": null,
            "min_height": null,
            "padding": null,
            "grid_auto_rows": null,
            "grid_gap": null,
            "max_width": null,
            "order": null,
            "_view_module_version": "1.2.0",
            "grid_template_areas": null,
            "object_position": null,
            "object_fit": null,
            "grid_auto_columns": null,
            "margin": null,
            "display": null,
            "left": null
          }
        },
        "4ad792436e8b48deab914b6346f6bb7d": {
          "model_module": "@jupyter-widgets/controls",
          "model_name": "ProgressStyleModel",
          "model_module_version": "1.5.0",
          "state": {
            "_view_name": "StyleView",
            "_model_name": "ProgressStyleModel",
            "description_width": "",
            "_view_module": "@jupyter-widgets/base",
            "_model_module_version": "1.5.0",
            "_view_count": null,
            "_view_module_version": "1.2.0",
            "bar_color": null,
            "_model_module": "@jupyter-widgets/controls"
          }
        },
        "c2d945cf263c4952829307826218454d": {
          "model_module": "@jupyter-widgets/base",
          "model_name": "LayoutModel",
          "model_module_version": "1.2.0",
          "state": {
            "_view_name": "LayoutView",
            "grid_template_rows": null,
            "right": null,
            "justify_content": null,
            "_view_module": "@jupyter-widgets/base",
            "overflow": null,
            "_model_module_version": "1.2.0",
            "_view_count": null,
            "flex_flow": null,
            "width": null,
            "min_width": null,
            "border": null,
            "align_items": null,
            "bottom": null,
            "_model_module": "@jupyter-widgets/base",
            "top": null,
            "grid_column": null,
            "overflow_y": null,
            "overflow_x": null,
            "grid_auto_flow": null,
            "grid_area": null,
            "grid_template_columns": null,
            "flex": null,
            "_model_name": "LayoutModel",
            "justify_items": null,
            "grid_row": null,
            "max_height": null,
            "align_content": null,
            "visibility": null,
            "align_self": null,
            "height": null,
            "min_height": null,
            "padding": null,
            "grid_auto_rows": null,
            "grid_gap": null,
            "max_width": null,
            "order": null,
            "_view_module_version": "1.2.0",
            "grid_template_areas": null,
            "object_position": null,
            "object_fit": null,
            "grid_auto_columns": null,
            "margin": null,
            "display": null,
            "left": null
          }
        },
        "21e4a987f51a4dcaa6cb886db1407d6a": {
          "model_module": "@jupyter-widgets/controls",
          "model_name": "DescriptionStyleModel",
          "model_module_version": "1.5.0",
          "state": {
            "_view_name": "StyleView",
            "_model_name": "DescriptionStyleModel",
            "description_width": "",
            "_view_module": "@jupyter-widgets/base",
            "_model_module_version": "1.5.0",
            "_view_count": null,
            "_view_module_version": "1.2.0",
            "_model_module": "@jupyter-widgets/controls"
          }
        },
        "a7f59b9ec5d44987a6ccc137fa5baa71": {
          "model_module": "@jupyter-widgets/base",
          "model_name": "LayoutModel",
          "model_module_version": "1.2.0",
          "state": {
            "_view_name": "LayoutView",
            "grid_template_rows": null,
            "right": null,
            "justify_content": null,
            "_view_module": "@jupyter-widgets/base",
            "overflow": null,
            "_model_module_version": "1.2.0",
            "_view_count": null,
            "flex_flow": null,
            "width": null,
            "min_width": null,
            "border": null,
            "align_items": null,
            "bottom": null,
            "_model_module": "@jupyter-widgets/base",
            "top": null,
            "grid_column": null,
            "overflow_y": null,
            "overflow_x": null,
            "grid_auto_flow": null,
            "grid_area": null,
            "grid_template_columns": null,
            "flex": null,
            "_model_name": "LayoutModel",
            "justify_items": null,
            "grid_row": null,
            "max_height": null,
            "align_content": null,
            "visibility": null,
            "align_self": null,
            "height": null,
            "min_height": null,
            "padding": null,
            "grid_auto_rows": null,
            "grid_gap": null,
            "max_width": null,
            "order": null,
            "_view_module_version": "1.2.0",
            "grid_template_areas": null,
            "object_position": null,
            "object_fit": null,
            "grid_auto_columns": null,
            "margin": null,
            "display": null,
            "left": null
          }
        },
        "50d8ad154be34e1690987bb2294a60ed": {
          "model_module": "@jupyter-widgets/controls",
          "model_name": "HBoxModel",
          "model_module_version": "1.5.0",
          "state": {
            "_view_name": "HBoxView",
            "_dom_classes": [],
            "_model_name": "HBoxModel",
            "_view_module": "@jupyter-widgets/controls",
            "_model_module_version": "1.5.0",
            "_view_count": null,
            "_view_module_version": "1.5.0",
            "box_style": "",
            "layout": "IPY_MODEL_52f4e76ab9104dd79370a3bbfa9a81f2",
            "_model_module": "@jupyter-widgets/controls",
            "children": [
              "IPY_MODEL_66629a5e3b5d40218b809750511aee51",
              "IPY_MODEL_7a422a67a99e49238fd086d91e737df6",
              "IPY_MODEL_e8d88300b056442fb6b7517d24486601"
            ]
          }
        },
        "52f4e76ab9104dd79370a3bbfa9a81f2": {
          "model_module": "@jupyter-widgets/base",
          "model_name": "LayoutModel",
          "model_module_version": "1.2.0",
          "state": {
            "_view_name": "LayoutView",
            "grid_template_rows": null,
            "right": null,
            "justify_content": null,
            "_view_module": "@jupyter-widgets/base",
            "overflow": null,
            "_model_module_version": "1.2.0",
            "_view_count": null,
            "flex_flow": null,
            "width": null,
            "min_width": null,
            "border": null,
            "align_items": null,
            "bottom": null,
            "_model_module": "@jupyter-widgets/base",
            "top": null,
            "grid_column": null,
            "overflow_y": null,
            "overflow_x": null,
            "grid_auto_flow": null,
            "grid_area": null,
            "grid_template_columns": null,
            "flex": null,
            "_model_name": "LayoutModel",
            "justify_items": null,
            "grid_row": null,
            "max_height": null,
            "align_content": null,
            "visibility": null,
            "align_self": null,
            "height": null,
            "min_height": null,
            "padding": null,
            "grid_auto_rows": null,
            "grid_gap": null,
            "max_width": null,
            "order": null,
            "_view_module_version": "1.2.0",
            "grid_template_areas": null,
            "object_position": null,
            "object_fit": null,
            "grid_auto_columns": null,
            "margin": null,
            "display": null,
            "left": null
          }
        },
        "66629a5e3b5d40218b809750511aee51": {
          "model_module": "@jupyter-widgets/controls",
          "model_name": "HTMLModel",
          "model_module_version": "1.5.0",
          "state": {
            "_view_name": "HTMLView",
            "style": "IPY_MODEL_500cbfd6f4a74e4b86cfdc3b623d6113",
            "_dom_classes": [],
            "description": "",
            "_model_name": "HTMLModel",
            "placeholder": "​",
            "_view_module": "@jupyter-widgets/controls",
            "_model_module_version": "1.5.0",
            "value": "100%",
            "_view_count": null,
            "_view_module_version": "1.5.0",
            "description_tooltip": null,
            "_model_module": "@jupyter-widgets/controls",
            "layout": "IPY_MODEL_9629b6c1a4054be28a96db2c62061056"
          }
        },
        "7a422a67a99e49238fd086d91e737df6": {
          "model_module": "@jupyter-widgets/controls",
          "model_name": "FloatProgressModel",
          "model_module_version": "1.5.0",
          "state": {
            "_view_name": "ProgressView",
            "style": "IPY_MODEL_4a42591fe53a4ac6ae4dcea9f8cc14c0",
            "_dom_classes": [],
            "description": "",
            "_model_name": "FloatProgressModel",
            "bar_style": "success",
            "max": 1563,
            "_view_module": "@jupyter-widgets/controls",
            "_model_module_version": "1.5.0",
            "value": 1563,
            "_view_count": null,
            "_view_module_version": "1.5.0",
            "orientation": "horizontal",
            "min": 0,
            "description_tooltip": null,
            "_model_module": "@jupyter-widgets/controls",
            "layout": "IPY_MODEL_322c371047ba454abc670cf1b19cd627"
          }
        },
        "e8d88300b056442fb6b7517d24486601": {
          "model_module": "@jupyter-widgets/controls",
          "model_name": "HTMLModel",
          "model_module_version": "1.5.0",
          "state": {
            "_view_name": "HTMLView",
            "style": "IPY_MODEL_4a499f0b5761444f8b4c68449b363df8",
            "_dom_classes": [],
            "description": "",
            "_model_name": "HTMLModel",
            "placeholder": "​",
            "_view_module": "@jupyter-widgets/controls",
            "_model_module_version": "1.5.0",
            "value": " 1563/1563 [01:18&lt;00:00, 20.18it/s]",
            "_view_count": null,
            "_view_module_version": "1.5.0",
            "description_tooltip": null,
            "_model_module": "@jupyter-widgets/controls",
            "layout": "IPY_MODEL_3900f82422bb4396b46e6fc3be71762e"
          }
        },
        "500cbfd6f4a74e4b86cfdc3b623d6113": {
          "model_module": "@jupyter-widgets/controls",
          "model_name": "DescriptionStyleModel",
          "model_module_version": "1.5.0",
          "state": {
            "_view_name": "StyleView",
            "_model_name": "DescriptionStyleModel",
            "description_width": "",
            "_view_module": "@jupyter-widgets/base",
            "_model_module_version": "1.5.0",
            "_view_count": null,
            "_view_module_version": "1.2.0",
            "_model_module": "@jupyter-widgets/controls"
          }
        },
        "9629b6c1a4054be28a96db2c62061056": {
          "model_module": "@jupyter-widgets/base",
          "model_name": "LayoutModel",
          "model_module_version": "1.2.0",
          "state": {
            "_view_name": "LayoutView",
            "grid_template_rows": null,
            "right": null,
            "justify_content": null,
            "_view_module": "@jupyter-widgets/base",
            "overflow": null,
            "_model_module_version": "1.2.0",
            "_view_count": null,
            "flex_flow": null,
            "width": null,
            "min_width": null,
            "border": null,
            "align_items": null,
            "bottom": null,
            "_model_module": "@jupyter-widgets/base",
            "top": null,
            "grid_column": null,
            "overflow_y": null,
            "overflow_x": null,
            "grid_auto_flow": null,
            "grid_area": null,
            "grid_template_columns": null,
            "flex": null,
            "_model_name": "LayoutModel",
            "justify_items": null,
            "grid_row": null,
            "max_height": null,
            "align_content": null,
            "visibility": null,
            "align_self": null,
            "height": null,
            "min_height": null,
            "padding": null,
            "grid_auto_rows": null,
            "grid_gap": null,
            "max_width": null,
            "order": null,
            "_view_module_version": "1.2.0",
            "grid_template_areas": null,
            "object_position": null,
            "object_fit": null,
            "grid_auto_columns": null,
            "margin": null,
            "display": null,
            "left": null
          }
        },
        "4a42591fe53a4ac6ae4dcea9f8cc14c0": {
          "model_module": "@jupyter-widgets/controls",
          "model_name": "ProgressStyleModel",
          "model_module_version": "1.5.0",
          "state": {
            "_view_name": "StyleView",
            "_model_name": "ProgressStyleModel",
            "description_width": "",
            "_view_module": "@jupyter-widgets/base",
            "_model_module_version": "1.5.0",
            "_view_count": null,
            "_view_module_version": "1.2.0",
            "bar_color": null,
            "_model_module": "@jupyter-widgets/controls"
          }
        },
        "322c371047ba454abc670cf1b19cd627": {
          "model_module": "@jupyter-widgets/base",
          "model_name": "LayoutModel",
          "model_module_version": "1.2.0",
          "state": {
            "_view_name": "LayoutView",
            "grid_template_rows": null,
            "right": null,
            "justify_content": null,
            "_view_module": "@jupyter-widgets/base",
            "overflow": null,
            "_model_module_version": "1.2.0",
            "_view_count": null,
            "flex_flow": null,
            "width": null,
            "min_width": null,
            "border": null,
            "align_items": null,
            "bottom": null,
            "_model_module": "@jupyter-widgets/base",
            "top": null,
            "grid_column": null,
            "overflow_y": null,
            "overflow_x": null,
            "grid_auto_flow": null,
            "grid_area": null,
            "grid_template_columns": null,
            "flex": null,
            "_model_name": "LayoutModel",
            "justify_items": null,
            "grid_row": null,
            "max_height": null,
            "align_content": null,
            "visibility": null,
            "align_self": null,
            "height": null,
            "min_height": null,
            "padding": null,
            "grid_auto_rows": null,
            "grid_gap": null,
            "max_width": null,
            "order": null,
            "_view_module_version": "1.2.0",
            "grid_template_areas": null,
            "object_position": null,
            "object_fit": null,
            "grid_auto_columns": null,
            "margin": null,
            "display": null,
            "left": null
          }
        },
        "4a499f0b5761444f8b4c68449b363df8": {
          "model_module": "@jupyter-widgets/controls",
          "model_name": "DescriptionStyleModel",
          "model_module_version": "1.5.0",
          "state": {
            "_view_name": "StyleView",
            "_model_name": "DescriptionStyleModel",
            "description_width": "",
            "_view_module": "@jupyter-widgets/base",
            "_model_module_version": "1.5.0",
            "_view_count": null,
            "_view_module_version": "1.2.0",
            "_model_module": "@jupyter-widgets/controls"
          }
        },
        "3900f82422bb4396b46e6fc3be71762e": {
          "model_module": "@jupyter-widgets/base",
          "model_name": "LayoutModel",
          "model_module_version": "1.2.0",
          "state": {
            "_view_name": "LayoutView",
            "grid_template_rows": null,
            "right": null,
            "justify_content": null,
            "_view_module": "@jupyter-widgets/base",
            "overflow": null,
            "_model_module_version": "1.2.0",
            "_view_count": null,
            "flex_flow": null,
            "width": null,
            "min_width": null,
            "border": null,
            "align_items": null,
            "bottom": null,
            "_model_module": "@jupyter-widgets/base",
            "top": null,
            "grid_column": null,
            "overflow_y": null,
            "overflow_x": null,
            "grid_auto_flow": null,
            "grid_area": null,
            "grid_template_columns": null,
            "flex": null,
            "_model_name": "LayoutModel",
            "justify_items": null,
            "grid_row": null,
            "max_height": null,
            "align_content": null,
            "visibility": null,
            "align_self": null,
            "height": null,
            "min_height": null,
            "padding": null,
            "grid_auto_rows": null,
            "grid_gap": null,
            "max_width": null,
            "order": null,
            "_view_module_version": "1.2.0",
            "grid_template_areas": null,
            "object_position": null,
            "object_fit": null,
            "grid_auto_columns": null,
            "margin": null,
            "display": null,
            "left": null
          }
        },
        "738bfbebbe924d4cba61e7ea5d63d280": {
          "model_module": "@jupyter-widgets/controls",
          "model_name": "HBoxModel",
          "model_module_version": "1.5.0",
          "state": {
            "_view_name": "HBoxView",
            "_dom_classes": [],
            "_model_name": "HBoxModel",
            "_view_module": "@jupyter-widgets/controls",
            "_model_module_version": "1.5.0",
            "_view_count": null,
            "_view_module_version": "1.5.0",
            "box_style": "",
            "layout": "IPY_MODEL_d302e4bc42e84543aa93b408e0c498c2",
            "_model_module": "@jupyter-widgets/controls",
            "children": [
              "IPY_MODEL_8e350b668aff444898e9f35e578e59ab",
              "IPY_MODEL_7de1783d889c4e93a6d56b9569959eac",
              "IPY_MODEL_94f58d9a52df4b99a9e6a65edf58664d"
            ]
          }
        },
        "d302e4bc42e84543aa93b408e0c498c2": {
          "model_module": "@jupyter-widgets/base",
          "model_name": "LayoutModel",
          "model_module_version": "1.2.0",
          "state": {
            "_view_name": "LayoutView",
            "grid_template_rows": null,
            "right": null,
            "justify_content": null,
            "_view_module": "@jupyter-widgets/base",
            "overflow": null,
            "_model_module_version": "1.2.0",
            "_view_count": null,
            "flex_flow": null,
            "width": null,
            "min_width": null,
            "border": null,
            "align_items": null,
            "bottom": null,
            "_model_module": "@jupyter-widgets/base",
            "top": null,
            "grid_column": null,
            "overflow_y": null,
            "overflow_x": null,
            "grid_auto_flow": null,
            "grid_area": null,
            "grid_template_columns": null,
            "flex": null,
            "_model_name": "LayoutModel",
            "justify_items": null,
            "grid_row": null,
            "max_height": null,
            "align_content": null,
            "visibility": null,
            "align_self": null,
            "height": null,
            "min_height": null,
            "padding": null,
            "grid_auto_rows": null,
            "grid_gap": null,
            "max_width": null,
            "order": null,
            "_view_module_version": "1.2.0",
            "grid_template_areas": null,
            "object_position": null,
            "object_fit": null,
            "grid_auto_columns": null,
            "margin": null,
            "display": null,
            "left": null
          }
        },
        "8e350b668aff444898e9f35e578e59ab": {
          "model_module": "@jupyter-widgets/controls",
          "model_name": "HTMLModel",
          "model_module_version": "1.5.0",
          "state": {
            "_view_name": "HTMLView",
            "style": "IPY_MODEL_2febb86742594c499c201d7dabe5e7f6",
            "_dom_classes": [],
            "description": "",
            "_model_name": "HTMLModel",
            "placeholder": "​",
            "_view_module": "@jupyter-widgets/controls",
            "_model_module_version": "1.5.0",
            "value": "100%",
            "_view_count": null,
            "_view_module_version": "1.5.0",
            "description_tooltip": null,
            "_model_module": "@jupyter-widgets/controls",
            "layout": "IPY_MODEL_9fae49776ba34742a3b092a975c47e85"
          }
        },
        "7de1783d889c4e93a6d56b9569959eac": {
          "model_module": "@jupyter-widgets/controls",
          "model_name": "FloatProgressModel",
          "model_module_version": "1.5.0",
          "state": {
            "_view_name": "ProgressView",
            "style": "IPY_MODEL_2319582bc2a04468b6ea464ac6e45fa1",
            "_dom_classes": [],
            "description": "",
            "_model_name": "FloatProgressModel",
            "bar_style": "success",
            "max": 313,
            "_view_module": "@jupyter-widgets/controls",
            "_model_module_version": "1.5.0",
            "value": 313,
            "_view_count": null,
            "_view_module_version": "1.5.0",
            "orientation": "horizontal",
            "min": 0,
            "description_tooltip": null,
            "_model_module": "@jupyter-widgets/controls",
            "layout": "IPY_MODEL_49aa4b1c4647492ba6fc337579e0412d"
          }
        },
        "94f58d9a52df4b99a9e6a65edf58664d": {
          "model_module": "@jupyter-widgets/controls",
          "model_name": "HTMLModel",
          "model_module_version": "1.5.0",
          "state": {
            "_view_name": "HTMLView",
            "style": "IPY_MODEL_0d4e9ac7bf494e248b27e40bca33f73b",
            "_dom_classes": [],
            "description": "",
            "_model_name": "HTMLModel",
            "placeholder": "​",
            "_view_module": "@jupyter-widgets/controls",
            "_model_module_version": "1.5.0",
            "value": " 313/313 [00:03&lt;00:00, 83.44it/s]",
            "_view_count": null,
            "_view_module_version": "1.5.0",
            "description_tooltip": null,
            "_model_module": "@jupyter-widgets/controls",
            "layout": "IPY_MODEL_8f17311bb05240ef91fe71d86682e6dc"
          }
        },
        "2febb86742594c499c201d7dabe5e7f6": {
          "model_module": "@jupyter-widgets/controls",
          "model_name": "DescriptionStyleModel",
          "model_module_version": "1.5.0",
          "state": {
            "_view_name": "StyleView",
            "_model_name": "DescriptionStyleModel",
            "description_width": "",
            "_view_module": "@jupyter-widgets/base",
            "_model_module_version": "1.5.0",
            "_view_count": null,
            "_view_module_version": "1.2.0",
            "_model_module": "@jupyter-widgets/controls"
          }
        },
        "9fae49776ba34742a3b092a975c47e85": {
          "model_module": "@jupyter-widgets/base",
          "model_name": "LayoutModel",
          "model_module_version": "1.2.0",
          "state": {
            "_view_name": "LayoutView",
            "grid_template_rows": null,
            "right": null,
            "justify_content": null,
            "_view_module": "@jupyter-widgets/base",
            "overflow": null,
            "_model_module_version": "1.2.0",
            "_view_count": null,
            "flex_flow": null,
            "width": null,
            "min_width": null,
            "border": null,
            "align_items": null,
            "bottom": null,
            "_model_module": "@jupyter-widgets/base",
            "top": null,
            "grid_column": null,
            "overflow_y": null,
            "overflow_x": null,
            "grid_auto_flow": null,
            "grid_area": null,
            "grid_template_columns": null,
            "flex": null,
            "_model_name": "LayoutModel",
            "justify_items": null,
            "grid_row": null,
            "max_height": null,
            "align_content": null,
            "visibility": null,
            "align_self": null,
            "height": null,
            "min_height": null,
            "padding": null,
            "grid_auto_rows": null,
            "grid_gap": null,
            "max_width": null,
            "order": null,
            "_view_module_version": "1.2.0",
            "grid_template_areas": null,
            "object_position": null,
            "object_fit": null,
            "grid_auto_columns": null,
            "margin": null,
            "display": null,
            "left": null
          }
        },
        "2319582bc2a04468b6ea464ac6e45fa1": {
          "model_module": "@jupyter-widgets/controls",
          "model_name": "ProgressStyleModel",
          "model_module_version": "1.5.0",
          "state": {
            "_view_name": "StyleView",
            "_model_name": "ProgressStyleModel",
            "description_width": "",
            "_view_module": "@jupyter-widgets/base",
            "_model_module_version": "1.5.0",
            "_view_count": null,
            "_view_module_version": "1.2.0",
            "bar_color": null,
            "_model_module": "@jupyter-widgets/controls"
          }
        },
        "49aa4b1c4647492ba6fc337579e0412d": {
          "model_module": "@jupyter-widgets/base",
          "model_name": "LayoutModel",
          "model_module_version": "1.2.0",
          "state": {
            "_view_name": "LayoutView",
            "grid_template_rows": null,
            "right": null,
            "justify_content": null,
            "_view_module": "@jupyter-widgets/base",
            "overflow": null,
            "_model_module_version": "1.2.0",
            "_view_count": null,
            "flex_flow": null,
            "width": null,
            "min_width": null,
            "border": null,
            "align_items": null,
            "bottom": null,
            "_model_module": "@jupyter-widgets/base",
            "top": null,
            "grid_column": null,
            "overflow_y": null,
            "overflow_x": null,
            "grid_auto_flow": null,
            "grid_area": null,
            "grid_template_columns": null,
            "flex": null,
            "_model_name": "LayoutModel",
            "justify_items": null,
            "grid_row": null,
            "max_height": null,
            "align_content": null,
            "visibility": null,
            "align_self": null,
            "height": null,
            "min_height": null,
            "padding": null,
            "grid_auto_rows": null,
            "grid_gap": null,
            "max_width": null,
            "order": null,
            "_view_module_version": "1.2.0",
            "grid_template_areas": null,
            "object_position": null,
            "object_fit": null,
            "grid_auto_columns": null,
            "margin": null,
            "display": null,
            "left": null
          }
        },
        "0d4e9ac7bf494e248b27e40bca33f73b": {
          "model_module": "@jupyter-widgets/controls",
          "model_name": "DescriptionStyleModel",
          "model_module_version": "1.5.0",
          "state": {
            "_view_name": "StyleView",
            "_model_name": "DescriptionStyleModel",
            "description_width": "",
            "_view_module": "@jupyter-widgets/base",
            "_model_module_version": "1.5.0",
            "_view_count": null,
            "_view_module_version": "1.2.0",
            "_model_module": "@jupyter-widgets/controls"
          }
        },
        "8f17311bb05240ef91fe71d86682e6dc": {
          "model_module": "@jupyter-widgets/base",
          "model_name": "LayoutModel",
          "model_module_version": "1.2.0",
          "state": {
            "_view_name": "LayoutView",
            "grid_template_rows": null,
            "right": null,
            "justify_content": null,
            "_view_module": "@jupyter-widgets/base",
            "overflow": null,
            "_model_module_version": "1.2.0",
            "_view_count": null,
            "flex_flow": null,
            "width": null,
            "min_width": null,
            "border": null,
            "align_items": null,
            "bottom": null,
            "_model_module": "@jupyter-widgets/base",
            "top": null,
            "grid_column": null,
            "overflow_y": null,
            "overflow_x": null,
            "grid_auto_flow": null,
            "grid_area": null,
            "grid_template_columns": null,
            "flex": null,
            "_model_name": "LayoutModel",
            "justify_items": null,
            "grid_row": null,
            "max_height": null,
            "align_content": null,
            "visibility": null,
            "align_self": null,
            "height": null,
            "min_height": null,
            "padding": null,
            "grid_auto_rows": null,
            "grid_gap": null,
            "max_width": null,
            "order": null,
            "_view_module_version": "1.2.0",
            "grid_template_areas": null,
            "object_position": null,
            "object_fit": null,
            "grid_auto_columns": null,
            "margin": null,
            "display": null,
            "left": null
          }
        },
        "5ffedd179a614ca38b86291c9c1b4de9": {
          "model_module": "@jupyter-widgets/controls",
          "model_name": "HBoxModel",
          "model_module_version": "1.5.0",
          "state": {
            "_view_name": "HBoxView",
            "_dom_classes": [],
            "_model_name": "HBoxModel",
            "_view_module": "@jupyter-widgets/controls",
            "_model_module_version": "1.5.0",
            "_view_count": null,
            "_view_module_version": "1.5.0",
            "box_style": "",
            "layout": "IPY_MODEL_b3de096941b849928fbc5c7d0984d78b",
            "_model_module": "@jupyter-widgets/controls",
            "children": [
              "IPY_MODEL_515a1847d4284e10a1fca9007c1a3768",
              "IPY_MODEL_260b5c2665bb443494db618de86b6dbc",
              "IPY_MODEL_d1cb4576d7d844b6a70cb5ce134d2ab8"
            ]
          }
        },
        "b3de096941b849928fbc5c7d0984d78b": {
          "model_module": "@jupyter-widgets/base",
          "model_name": "LayoutModel",
          "model_module_version": "1.2.0",
          "state": {
            "_view_name": "LayoutView",
            "grid_template_rows": null,
            "right": null,
            "justify_content": null,
            "_view_module": "@jupyter-widgets/base",
            "overflow": null,
            "_model_module_version": "1.2.0",
            "_view_count": null,
            "flex_flow": null,
            "width": null,
            "min_width": null,
            "border": null,
            "align_items": null,
            "bottom": null,
            "_model_module": "@jupyter-widgets/base",
            "top": null,
            "grid_column": null,
            "overflow_y": null,
            "overflow_x": null,
            "grid_auto_flow": null,
            "grid_area": null,
            "grid_template_columns": null,
            "flex": null,
            "_model_name": "LayoutModel",
            "justify_items": null,
            "grid_row": null,
            "max_height": null,
            "align_content": null,
            "visibility": null,
            "align_self": null,
            "height": null,
            "min_height": null,
            "padding": null,
            "grid_auto_rows": null,
            "grid_gap": null,
            "max_width": null,
            "order": null,
            "_view_module_version": "1.2.0",
            "grid_template_areas": null,
            "object_position": null,
            "object_fit": null,
            "grid_auto_columns": null,
            "margin": null,
            "display": null,
            "left": null
          }
        },
        "515a1847d4284e10a1fca9007c1a3768": {
          "model_module": "@jupyter-widgets/controls",
          "model_name": "HTMLModel",
          "model_module_version": "1.5.0",
          "state": {
            "_view_name": "HTMLView",
            "style": "IPY_MODEL_f6987c17b6b04425a925985a6304dc32",
            "_dom_classes": [],
            "description": "",
            "_model_name": "HTMLModel",
            "placeholder": "​",
            "_view_module": "@jupyter-widgets/controls",
            "_model_module_version": "1.5.0",
            "value": "100%",
            "_view_count": null,
            "_view_module_version": "1.5.0",
            "description_tooltip": null,
            "_model_module": "@jupyter-widgets/controls",
            "layout": "IPY_MODEL_64b7286608104faa8c5858f7431032bb"
          }
        },
        "260b5c2665bb443494db618de86b6dbc": {
          "model_module": "@jupyter-widgets/controls",
          "model_name": "FloatProgressModel",
          "model_module_version": "1.5.0",
          "state": {
            "_view_name": "ProgressView",
            "style": "IPY_MODEL_90936b2d185441199fb617456db0cb7e",
            "_dom_classes": [],
            "description": "",
            "_model_name": "FloatProgressModel",
            "bar_style": "success",
            "max": 1563,
            "_view_module": "@jupyter-widgets/controls",
            "_model_module_version": "1.5.0",
            "value": 1563,
            "_view_count": null,
            "_view_module_version": "1.5.0",
            "orientation": "horizontal",
            "min": 0,
            "description_tooltip": null,
            "_model_module": "@jupyter-widgets/controls",
            "layout": "IPY_MODEL_f10dacc3e0c04d2e81fef951f9caa792"
          }
        },
        "d1cb4576d7d844b6a70cb5ce134d2ab8": {
          "model_module": "@jupyter-widgets/controls",
          "model_name": "HTMLModel",
          "model_module_version": "1.5.0",
          "state": {
            "_view_name": "HTMLView",
            "style": "IPY_MODEL_86fc5f93cc724f2fabf12072c1352be1",
            "_dom_classes": [],
            "description": "",
            "_model_name": "HTMLModel",
            "placeholder": "​",
            "_view_module": "@jupyter-widgets/controls",
            "_model_module_version": "1.5.0",
            "value": " 1563/1563 [01:19&lt;00:00, 21.12it/s]",
            "_view_count": null,
            "_view_module_version": "1.5.0",
            "description_tooltip": null,
            "_model_module": "@jupyter-widgets/controls",
            "layout": "IPY_MODEL_713cf3b73f3f488ea89b8030abef0a77"
          }
        },
        "f6987c17b6b04425a925985a6304dc32": {
          "model_module": "@jupyter-widgets/controls",
          "model_name": "DescriptionStyleModel",
          "model_module_version": "1.5.0",
          "state": {
            "_view_name": "StyleView",
            "_model_name": "DescriptionStyleModel",
            "description_width": "",
            "_view_module": "@jupyter-widgets/base",
            "_model_module_version": "1.5.0",
            "_view_count": null,
            "_view_module_version": "1.2.0",
            "_model_module": "@jupyter-widgets/controls"
          }
        },
        "64b7286608104faa8c5858f7431032bb": {
          "model_module": "@jupyter-widgets/base",
          "model_name": "LayoutModel",
          "model_module_version": "1.2.0",
          "state": {
            "_view_name": "LayoutView",
            "grid_template_rows": null,
            "right": null,
            "justify_content": null,
            "_view_module": "@jupyter-widgets/base",
            "overflow": null,
            "_model_module_version": "1.2.0",
            "_view_count": null,
            "flex_flow": null,
            "width": null,
            "min_width": null,
            "border": null,
            "align_items": null,
            "bottom": null,
            "_model_module": "@jupyter-widgets/base",
            "top": null,
            "grid_column": null,
            "overflow_y": null,
            "overflow_x": null,
            "grid_auto_flow": null,
            "grid_area": null,
            "grid_template_columns": null,
            "flex": null,
            "_model_name": "LayoutModel",
            "justify_items": null,
            "grid_row": null,
            "max_height": null,
            "align_content": null,
            "visibility": null,
            "align_self": null,
            "height": null,
            "min_height": null,
            "padding": null,
            "grid_auto_rows": null,
            "grid_gap": null,
            "max_width": null,
            "order": null,
            "_view_module_version": "1.2.0",
            "grid_template_areas": null,
            "object_position": null,
            "object_fit": null,
            "grid_auto_columns": null,
            "margin": null,
            "display": null,
            "left": null
          }
        },
        "90936b2d185441199fb617456db0cb7e": {
          "model_module": "@jupyter-widgets/controls",
          "model_name": "ProgressStyleModel",
          "model_module_version": "1.5.0",
          "state": {
            "_view_name": "StyleView",
            "_model_name": "ProgressStyleModel",
            "description_width": "",
            "_view_module": "@jupyter-widgets/base",
            "_model_module_version": "1.5.0",
            "_view_count": null,
            "_view_module_version": "1.2.0",
            "bar_color": null,
            "_model_module": "@jupyter-widgets/controls"
          }
        },
        "f10dacc3e0c04d2e81fef951f9caa792": {
          "model_module": "@jupyter-widgets/base",
          "model_name": "LayoutModel",
          "model_module_version": "1.2.0",
          "state": {
            "_view_name": "LayoutView",
            "grid_template_rows": null,
            "right": null,
            "justify_content": null,
            "_view_module": "@jupyter-widgets/base",
            "overflow": null,
            "_model_module_version": "1.2.0",
            "_view_count": null,
            "flex_flow": null,
            "width": null,
            "min_width": null,
            "border": null,
            "align_items": null,
            "bottom": null,
            "_model_module": "@jupyter-widgets/base",
            "top": null,
            "grid_column": null,
            "overflow_y": null,
            "overflow_x": null,
            "grid_auto_flow": null,
            "grid_area": null,
            "grid_template_columns": null,
            "flex": null,
            "_model_name": "LayoutModel",
            "justify_items": null,
            "grid_row": null,
            "max_height": null,
            "align_content": null,
            "visibility": null,
            "align_self": null,
            "height": null,
            "min_height": null,
            "padding": null,
            "grid_auto_rows": null,
            "grid_gap": null,
            "max_width": null,
            "order": null,
            "_view_module_version": "1.2.0",
            "grid_template_areas": null,
            "object_position": null,
            "object_fit": null,
            "grid_auto_columns": null,
            "margin": null,
            "display": null,
            "left": null
          }
        },
        "86fc5f93cc724f2fabf12072c1352be1": {
          "model_module": "@jupyter-widgets/controls",
          "model_name": "DescriptionStyleModel",
          "model_module_version": "1.5.0",
          "state": {
            "_view_name": "StyleView",
            "_model_name": "DescriptionStyleModel",
            "description_width": "",
            "_view_module": "@jupyter-widgets/base",
            "_model_module_version": "1.5.0",
            "_view_count": null,
            "_view_module_version": "1.2.0",
            "_model_module": "@jupyter-widgets/controls"
          }
        },
        "713cf3b73f3f488ea89b8030abef0a77": {
          "model_module": "@jupyter-widgets/base",
          "model_name": "LayoutModel",
          "model_module_version": "1.2.0",
          "state": {
            "_view_name": "LayoutView",
            "grid_template_rows": null,
            "right": null,
            "justify_content": null,
            "_view_module": "@jupyter-widgets/base",
            "overflow": null,
            "_model_module_version": "1.2.0",
            "_view_count": null,
            "flex_flow": null,
            "width": null,
            "min_width": null,
            "border": null,
            "align_items": null,
            "bottom": null,
            "_model_module": "@jupyter-widgets/base",
            "top": null,
            "grid_column": null,
            "overflow_y": null,
            "overflow_x": null,
            "grid_auto_flow": null,
            "grid_area": null,
            "grid_template_columns": null,
            "flex": null,
            "_model_name": "LayoutModel",
            "justify_items": null,
            "grid_row": null,
            "max_height": null,
            "align_content": null,
            "visibility": null,
            "align_self": null,
            "height": null,
            "min_height": null,
            "padding": null,
            "grid_auto_rows": null,
            "grid_gap": null,
            "max_width": null,
            "order": null,
            "_view_module_version": "1.2.0",
            "grid_template_areas": null,
            "object_position": null,
            "object_fit": null,
            "grid_auto_columns": null,
            "margin": null,
            "display": null,
            "left": null
          }
        },
        "2730201c7c4244ec82318c9df626a528": {
          "model_module": "@jupyter-widgets/controls",
          "model_name": "HBoxModel",
          "model_module_version": "1.5.0",
          "state": {
            "_view_name": "HBoxView",
            "_dom_classes": [],
            "_model_name": "HBoxModel",
            "_view_module": "@jupyter-widgets/controls",
            "_model_module_version": "1.5.0",
            "_view_count": null,
            "_view_module_version": "1.5.0",
            "box_style": "",
            "layout": "IPY_MODEL_5354f01e016f41cbae9a987eb1db742c",
            "_model_module": "@jupyter-widgets/controls",
            "children": [
              "IPY_MODEL_7db9e3ed363747fa89c422fb3e584f1a",
              "IPY_MODEL_86c0df008bc24b4abdee05c428ae2cf8",
              "IPY_MODEL_f72b178264724fb29543165b0cce4cf0"
            ]
          }
        },
        "5354f01e016f41cbae9a987eb1db742c": {
          "model_module": "@jupyter-widgets/base",
          "model_name": "LayoutModel",
          "model_module_version": "1.2.0",
          "state": {
            "_view_name": "LayoutView",
            "grid_template_rows": null,
            "right": null,
            "justify_content": null,
            "_view_module": "@jupyter-widgets/base",
            "overflow": null,
            "_model_module_version": "1.2.0",
            "_view_count": null,
            "flex_flow": null,
            "width": null,
            "min_width": null,
            "border": null,
            "align_items": null,
            "bottom": null,
            "_model_module": "@jupyter-widgets/base",
            "top": null,
            "grid_column": null,
            "overflow_y": null,
            "overflow_x": null,
            "grid_auto_flow": null,
            "grid_area": null,
            "grid_template_columns": null,
            "flex": null,
            "_model_name": "LayoutModel",
            "justify_items": null,
            "grid_row": null,
            "max_height": null,
            "align_content": null,
            "visibility": null,
            "align_self": null,
            "height": null,
            "min_height": null,
            "padding": null,
            "grid_auto_rows": null,
            "grid_gap": null,
            "max_width": null,
            "order": null,
            "_view_module_version": "1.2.0",
            "grid_template_areas": null,
            "object_position": null,
            "object_fit": null,
            "grid_auto_columns": null,
            "margin": null,
            "display": null,
            "left": null
          }
        },
        "7db9e3ed363747fa89c422fb3e584f1a": {
          "model_module": "@jupyter-widgets/controls",
          "model_name": "HTMLModel",
          "model_module_version": "1.5.0",
          "state": {
            "_view_name": "HTMLView",
            "style": "IPY_MODEL_1e04d88430b0415aae3277e31ba831d8",
            "_dom_classes": [],
            "description": "",
            "_model_name": "HTMLModel",
            "placeholder": "​",
            "_view_module": "@jupyter-widgets/controls",
            "_model_module_version": "1.5.0",
            "value": "100%",
            "_view_count": null,
            "_view_module_version": "1.5.0",
            "description_tooltip": null,
            "_model_module": "@jupyter-widgets/controls",
            "layout": "IPY_MODEL_d1f630f85d2b411d8449ccb42008248e"
          }
        },
        "86c0df008bc24b4abdee05c428ae2cf8": {
          "model_module": "@jupyter-widgets/controls",
          "model_name": "FloatProgressModel",
          "model_module_version": "1.5.0",
          "state": {
            "_view_name": "ProgressView",
            "style": "IPY_MODEL_5bd540e3a38f49db94ccc4ccd65c2396",
            "_dom_classes": [],
            "description": "",
            "_model_name": "FloatProgressModel",
            "bar_style": "success",
            "max": 313,
            "_view_module": "@jupyter-widgets/controls",
            "_model_module_version": "1.5.0",
            "value": 313,
            "_view_count": null,
            "_view_module_version": "1.5.0",
            "orientation": "horizontal",
            "min": 0,
            "description_tooltip": null,
            "_model_module": "@jupyter-widgets/controls",
            "layout": "IPY_MODEL_7984628ad7374edfa330ee1969152e48"
          }
        },
        "f72b178264724fb29543165b0cce4cf0": {
          "model_module": "@jupyter-widgets/controls",
          "model_name": "HTMLModel",
          "model_module_version": "1.5.0",
          "state": {
            "_view_name": "HTMLView",
            "style": "IPY_MODEL_32b3575fc974465bb178a0dc7a6670f7",
            "_dom_classes": [],
            "description": "",
            "_model_name": "HTMLModel",
            "placeholder": "​",
            "_view_module": "@jupyter-widgets/controls",
            "_model_module_version": "1.5.0",
            "value": " 313/313 [00:03&lt;00:00, 85.19it/s]",
            "_view_count": null,
            "_view_module_version": "1.5.0",
            "description_tooltip": null,
            "_model_module": "@jupyter-widgets/controls",
            "layout": "IPY_MODEL_fe36b2c47c044af3b107d5f7db18e5b2"
          }
        },
        "1e04d88430b0415aae3277e31ba831d8": {
          "model_module": "@jupyter-widgets/controls",
          "model_name": "DescriptionStyleModel",
          "model_module_version": "1.5.0",
          "state": {
            "_view_name": "StyleView",
            "_model_name": "DescriptionStyleModel",
            "description_width": "",
            "_view_module": "@jupyter-widgets/base",
            "_model_module_version": "1.5.0",
            "_view_count": null,
            "_view_module_version": "1.2.0",
            "_model_module": "@jupyter-widgets/controls"
          }
        },
        "d1f630f85d2b411d8449ccb42008248e": {
          "model_module": "@jupyter-widgets/base",
          "model_name": "LayoutModel",
          "model_module_version": "1.2.0",
          "state": {
            "_view_name": "LayoutView",
            "grid_template_rows": null,
            "right": null,
            "justify_content": null,
            "_view_module": "@jupyter-widgets/base",
            "overflow": null,
            "_model_module_version": "1.2.0",
            "_view_count": null,
            "flex_flow": null,
            "width": null,
            "min_width": null,
            "border": null,
            "align_items": null,
            "bottom": null,
            "_model_module": "@jupyter-widgets/base",
            "top": null,
            "grid_column": null,
            "overflow_y": null,
            "overflow_x": null,
            "grid_auto_flow": null,
            "grid_area": null,
            "grid_template_columns": null,
            "flex": null,
            "_model_name": "LayoutModel",
            "justify_items": null,
            "grid_row": null,
            "max_height": null,
            "align_content": null,
            "visibility": null,
            "align_self": null,
            "height": null,
            "min_height": null,
            "padding": null,
            "grid_auto_rows": null,
            "grid_gap": null,
            "max_width": null,
            "order": null,
            "_view_module_version": "1.2.0",
            "grid_template_areas": null,
            "object_position": null,
            "object_fit": null,
            "grid_auto_columns": null,
            "margin": null,
            "display": null,
            "left": null
          }
        },
        "5bd540e3a38f49db94ccc4ccd65c2396": {
          "model_module": "@jupyter-widgets/controls",
          "model_name": "ProgressStyleModel",
          "model_module_version": "1.5.0",
          "state": {
            "_view_name": "StyleView",
            "_model_name": "ProgressStyleModel",
            "description_width": "",
            "_view_module": "@jupyter-widgets/base",
            "_model_module_version": "1.5.0",
            "_view_count": null,
            "_view_module_version": "1.2.0",
            "bar_color": null,
            "_model_module": "@jupyter-widgets/controls"
          }
        },
        "7984628ad7374edfa330ee1969152e48": {
          "model_module": "@jupyter-widgets/base",
          "model_name": "LayoutModel",
          "model_module_version": "1.2.0",
          "state": {
            "_view_name": "LayoutView",
            "grid_template_rows": null,
            "right": null,
            "justify_content": null,
            "_view_module": "@jupyter-widgets/base",
            "overflow": null,
            "_model_module_version": "1.2.0",
            "_view_count": null,
            "flex_flow": null,
            "width": null,
            "min_width": null,
            "border": null,
            "align_items": null,
            "bottom": null,
            "_model_module": "@jupyter-widgets/base",
            "top": null,
            "grid_column": null,
            "overflow_y": null,
            "overflow_x": null,
            "grid_auto_flow": null,
            "grid_area": null,
            "grid_template_columns": null,
            "flex": null,
            "_model_name": "LayoutModel",
            "justify_items": null,
            "grid_row": null,
            "max_height": null,
            "align_content": null,
            "visibility": null,
            "align_self": null,
            "height": null,
            "min_height": null,
            "padding": null,
            "grid_auto_rows": null,
            "grid_gap": null,
            "max_width": null,
            "order": null,
            "_view_module_version": "1.2.0",
            "grid_template_areas": null,
            "object_position": null,
            "object_fit": null,
            "grid_auto_columns": null,
            "margin": null,
            "display": null,
            "left": null
          }
        },
        "32b3575fc974465bb178a0dc7a6670f7": {
          "model_module": "@jupyter-widgets/controls",
          "model_name": "DescriptionStyleModel",
          "model_module_version": "1.5.0",
          "state": {
            "_view_name": "StyleView",
            "_model_name": "DescriptionStyleModel",
            "description_width": "",
            "_view_module": "@jupyter-widgets/base",
            "_model_module_version": "1.5.0",
            "_view_count": null,
            "_view_module_version": "1.2.0",
            "_model_module": "@jupyter-widgets/controls"
          }
        },
        "fe36b2c47c044af3b107d5f7db18e5b2": {
          "model_module": "@jupyter-widgets/base",
          "model_name": "LayoutModel",
          "model_module_version": "1.2.0",
          "state": {
            "_view_name": "LayoutView",
            "grid_template_rows": null,
            "right": null,
            "justify_content": null,
            "_view_module": "@jupyter-widgets/base",
            "overflow": null,
            "_model_module_version": "1.2.0",
            "_view_count": null,
            "flex_flow": null,
            "width": null,
            "min_width": null,
            "border": null,
            "align_items": null,
            "bottom": null,
            "_model_module": "@jupyter-widgets/base",
            "top": null,
            "grid_column": null,
            "overflow_y": null,
            "overflow_x": null,
            "grid_auto_flow": null,
            "grid_area": null,
            "grid_template_columns": null,
            "flex": null,
            "_model_name": "LayoutModel",
            "justify_items": null,
            "grid_row": null,
            "max_height": null,
            "align_content": null,
            "visibility": null,
            "align_self": null,
            "height": null,
            "min_height": null,
            "padding": null,
            "grid_auto_rows": null,
            "grid_gap": null,
            "max_width": null,
            "order": null,
            "_view_module_version": "1.2.0",
            "grid_template_areas": null,
            "object_position": null,
            "object_fit": null,
            "grid_auto_columns": null,
            "margin": null,
            "display": null,
            "left": null
          }
        },
        "5d038f9c9dd147219c2c3a9651b3860b": {
          "model_module": "@jupyter-widgets/controls",
          "model_name": "HBoxModel",
          "model_module_version": "1.5.0",
          "state": {
            "_view_name": "HBoxView",
            "_dom_classes": [],
            "_model_name": "HBoxModel",
            "_view_module": "@jupyter-widgets/controls",
            "_model_module_version": "1.5.0",
            "_view_count": null,
            "_view_module_version": "1.5.0",
            "box_style": "",
            "layout": "IPY_MODEL_d496eb482daa4c859096b1a0becdf748",
            "_model_module": "@jupyter-widgets/controls",
            "children": [
              "IPY_MODEL_a25f4b26a74541d8af1a2f55b4e31587",
              "IPY_MODEL_39cf53d7a8814427b760fedd396e1049",
              "IPY_MODEL_7aa4d851084a4101947b5bec09ff2ac7"
            ]
          }
        },
        "d496eb482daa4c859096b1a0becdf748": {
          "model_module": "@jupyter-widgets/base",
          "model_name": "LayoutModel",
          "model_module_version": "1.2.0",
          "state": {
            "_view_name": "LayoutView",
            "grid_template_rows": null,
            "right": null,
            "justify_content": null,
            "_view_module": "@jupyter-widgets/base",
            "overflow": null,
            "_model_module_version": "1.2.0",
            "_view_count": null,
            "flex_flow": null,
            "width": null,
            "min_width": null,
            "border": null,
            "align_items": null,
            "bottom": null,
            "_model_module": "@jupyter-widgets/base",
            "top": null,
            "grid_column": null,
            "overflow_y": null,
            "overflow_x": null,
            "grid_auto_flow": null,
            "grid_area": null,
            "grid_template_columns": null,
            "flex": null,
            "_model_name": "LayoutModel",
            "justify_items": null,
            "grid_row": null,
            "max_height": null,
            "align_content": null,
            "visibility": null,
            "align_self": null,
            "height": null,
            "min_height": null,
            "padding": null,
            "grid_auto_rows": null,
            "grid_gap": null,
            "max_width": null,
            "order": null,
            "_view_module_version": "1.2.0",
            "grid_template_areas": null,
            "object_position": null,
            "object_fit": null,
            "grid_auto_columns": null,
            "margin": null,
            "display": null,
            "left": null
          }
        },
        "a25f4b26a74541d8af1a2f55b4e31587": {
          "model_module": "@jupyter-widgets/controls",
          "model_name": "HTMLModel",
          "model_module_version": "1.5.0",
          "state": {
            "_view_name": "HTMLView",
            "style": "IPY_MODEL_642b446599eb44bcb9910559a7c4f666",
            "_dom_classes": [],
            "description": "",
            "_model_name": "HTMLModel",
            "placeholder": "​",
            "_view_module": "@jupyter-widgets/controls",
            "_model_module_version": "1.5.0",
            "value": "100%",
            "_view_count": null,
            "_view_module_version": "1.5.0",
            "description_tooltip": null,
            "_model_module": "@jupyter-widgets/controls",
            "layout": "IPY_MODEL_8fddd4f84b3d461daf32892bb65ca6ef"
          }
        },
        "39cf53d7a8814427b760fedd396e1049": {
          "model_module": "@jupyter-widgets/controls",
          "model_name": "FloatProgressModel",
          "model_module_version": "1.5.0",
          "state": {
            "_view_name": "ProgressView",
            "style": "IPY_MODEL_e711dd9065d846e6a973acb2c98b9375",
            "_dom_classes": [],
            "description": "",
            "_model_name": "FloatProgressModel",
            "bar_style": "success",
            "max": 1563,
            "_view_module": "@jupyter-widgets/controls",
            "_model_module_version": "1.5.0",
            "value": 1563,
            "_view_count": null,
            "_view_module_version": "1.5.0",
            "orientation": "horizontal",
            "min": 0,
            "description_tooltip": null,
            "_model_module": "@jupyter-widgets/controls",
            "layout": "IPY_MODEL_d519e9951a4c41368e52d09d25e036e4"
          }
        },
        "7aa4d851084a4101947b5bec09ff2ac7": {
          "model_module": "@jupyter-widgets/controls",
          "model_name": "HTMLModel",
          "model_module_version": "1.5.0",
          "state": {
            "_view_name": "HTMLView",
            "style": "IPY_MODEL_8f2cd4f29d974605a838bf2589453cdc",
            "_dom_classes": [],
            "description": "",
            "_model_name": "HTMLModel",
            "placeholder": "​",
            "_view_module": "@jupyter-widgets/controls",
            "_model_module_version": "1.5.0",
            "value": " 1563/1563 [01:18&lt;00:00, 20.12it/s]",
            "_view_count": null,
            "_view_module_version": "1.5.0",
            "description_tooltip": null,
            "_model_module": "@jupyter-widgets/controls",
            "layout": "IPY_MODEL_a37f01677b6f4dc18bbdc49959bdde09"
          }
        },
        "642b446599eb44bcb9910559a7c4f666": {
          "model_module": "@jupyter-widgets/controls",
          "model_name": "DescriptionStyleModel",
          "model_module_version": "1.5.0",
          "state": {
            "_view_name": "StyleView",
            "_model_name": "DescriptionStyleModel",
            "description_width": "",
            "_view_module": "@jupyter-widgets/base",
            "_model_module_version": "1.5.0",
            "_view_count": null,
            "_view_module_version": "1.2.0",
            "_model_module": "@jupyter-widgets/controls"
          }
        },
        "8fddd4f84b3d461daf32892bb65ca6ef": {
          "model_module": "@jupyter-widgets/base",
          "model_name": "LayoutModel",
          "model_module_version": "1.2.0",
          "state": {
            "_view_name": "LayoutView",
            "grid_template_rows": null,
            "right": null,
            "justify_content": null,
            "_view_module": "@jupyter-widgets/base",
            "overflow": null,
            "_model_module_version": "1.2.0",
            "_view_count": null,
            "flex_flow": null,
            "width": null,
            "min_width": null,
            "border": null,
            "align_items": null,
            "bottom": null,
            "_model_module": "@jupyter-widgets/base",
            "top": null,
            "grid_column": null,
            "overflow_y": null,
            "overflow_x": null,
            "grid_auto_flow": null,
            "grid_area": null,
            "grid_template_columns": null,
            "flex": null,
            "_model_name": "LayoutModel",
            "justify_items": null,
            "grid_row": null,
            "max_height": null,
            "align_content": null,
            "visibility": null,
            "align_self": null,
            "height": null,
            "min_height": null,
            "padding": null,
            "grid_auto_rows": null,
            "grid_gap": null,
            "max_width": null,
            "order": null,
            "_view_module_version": "1.2.0",
            "grid_template_areas": null,
            "object_position": null,
            "object_fit": null,
            "grid_auto_columns": null,
            "margin": null,
            "display": null,
            "left": null
          }
        },
        "e711dd9065d846e6a973acb2c98b9375": {
          "model_module": "@jupyter-widgets/controls",
          "model_name": "ProgressStyleModel",
          "model_module_version": "1.5.0",
          "state": {
            "_view_name": "StyleView",
            "_model_name": "ProgressStyleModel",
            "description_width": "",
            "_view_module": "@jupyter-widgets/base",
            "_model_module_version": "1.5.0",
            "_view_count": null,
            "_view_module_version": "1.2.0",
            "bar_color": null,
            "_model_module": "@jupyter-widgets/controls"
          }
        },
        "d519e9951a4c41368e52d09d25e036e4": {
          "model_module": "@jupyter-widgets/base",
          "model_name": "LayoutModel",
          "model_module_version": "1.2.0",
          "state": {
            "_view_name": "LayoutView",
            "grid_template_rows": null,
            "right": null,
            "justify_content": null,
            "_view_module": "@jupyter-widgets/base",
            "overflow": null,
            "_model_module_version": "1.2.0",
            "_view_count": null,
            "flex_flow": null,
            "width": null,
            "min_width": null,
            "border": null,
            "align_items": null,
            "bottom": null,
            "_model_module": "@jupyter-widgets/base",
            "top": null,
            "grid_column": null,
            "overflow_y": null,
            "overflow_x": null,
            "grid_auto_flow": null,
            "grid_area": null,
            "grid_template_columns": null,
            "flex": null,
            "_model_name": "LayoutModel",
            "justify_items": null,
            "grid_row": null,
            "max_height": null,
            "align_content": null,
            "visibility": null,
            "align_self": null,
            "height": null,
            "min_height": null,
            "padding": null,
            "grid_auto_rows": null,
            "grid_gap": null,
            "max_width": null,
            "order": null,
            "_view_module_version": "1.2.0",
            "grid_template_areas": null,
            "object_position": null,
            "object_fit": null,
            "grid_auto_columns": null,
            "margin": null,
            "display": null,
            "left": null
          }
        },
        "8f2cd4f29d974605a838bf2589453cdc": {
          "model_module": "@jupyter-widgets/controls",
          "model_name": "DescriptionStyleModel",
          "model_module_version": "1.5.0",
          "state": {
            "_view_name": "StyleView",
            "_model_name": "DescriptionStyleModel",
            "description_width": "",
            "_view_module": "@jupyter-widgets/base",
            "_model_module_version": "1.5.0",
            "_view_count": null,
            "_view_module_version": "1.2.0",
            "_model_module": "@jupyter-widgets/controls"
          }
        },
        "a37f01677b6f4dc18bbdc49959bdde09": {
          "model_module": "@jupyter-widgets/base",
          "model_name": "LayoutModel",
          "model_module_version": "1.2.0",
          "state": {
            "_view_name": "LayoutView",
            "grid_template_rows": null,
            "right": null,
            "justify_content": null,
            "_view_module": "@jupyter-widgets/base",
            "overflow": null,
            "_model_module_version": "1.2.0",
            "_view_count": null,
            "flex_flow": null,
            "width": null,
            "min_width": null,
            "border": null,
            "align_items": null,
            "bottom": null,
            "_model_module": "@jupyter-widgets/base",
            "top": null,
            "grid_column": null,
            "overflow_y": null,
            "overflow_x": null,
            "grid_auto_flow": null,
            "grid_area": null,
            "grid_template_columns": null,
            "flex": null,
            "_model_name": "LayoutModel",
            "justify_items": null,
            "grid_row": null,
            "max_height": null,
            "align_content": null,
            "visibility": null,
            "align_self": null,
            "height": null,
            "min_height": null,
            "padding": null,
            "grid_auto_rows": null,
            "grid_gap": null,
            "max_width": null,
            "order": null,
            "_view_module_version": "1.2.0",
            "grid_template_areas": null,
            "object_position": null,
            "object_fit": null,
            "grid_auto_columns": null,
            "margin": null,
            "display": null,
            "left": null
          }
        },
        "1ea0e7a3adeb40bd8a3c5aa2062021a0": {
          "model_module": "@jupyter-widgets/controls",
          "model_name": "HBoxModel",
          "model_module_version": "1.5.0",
          "state": {
            "_view_name": "HBoxView",
            "_dom_classes": [],
            "_model_name": "HBoxModel",
            "_view_module": "@jupyter-widgets/controls",
            "_model_module_version": "1.5.0",
            "_view_count": null,
            "_view_module_version": "1.5.0",
            "box_style": "",
            "layout": "IPY_MODEL_7472154936bc4e528c709a6a95e4b458",
            "_model_module": "@jupyter-widgets/controls",
            "children": [
              "IPY_MODEL_10909b7023e943508803aaee3156b5a9",
              "IPY_MODEL_f2d2ccbd11554eb2a6f2ae0f3ac80f84",
              "IPY_MODEL_b13f960beca34075ae9c04915ebf95fb"
            ]
          }
        },
        "7472154936bc4e528c709a6a95e4b458": {
          "model_module": "@jupyter-widgets/base",
          "model_name": "LayoutModel",
          "model_module_version": "1.2.0",
          "state": {
            "_view_name": "LayoutView",
            "grid_template_rows": null,
            "right": null,
            "justify_content": null,
            "_view_module": "@jupyter-widgets/base",
            "overflow": null,
            "_model_module_version": "1.2.0",
            "_view_count": null,
            "flex_flow": null,
            "width": null,
            "min_width": null,
            "border": null,
            "align_items": null,
            "bottom": null,
            "_model_module": "@jupyter-widgets/base",
            "top": null,
            "grid_column": null,
            "overflow_y": null,
            "overflow_x": null,
            "grid_auto_flow": null,
            "grid_area": null,
            "grid_template_columns": null,
            "flex": null,
            "_model_name": "LayoutModel",
            "justify_items": null,
            "grid_row": null,
            "max_height": null,
            "align_content": null,
            "visibility": null,
            "align_self": null,
            "height": null,
            "min_height": null,
            "padding": null,
            "grid_auto_rows": null,
            "grid_gap": null,
            "max_width": null,
            "order": null,
            "_view_module_version": "1.2.0",
            "grid_template_areas": null,
            "object_position": null,
            "object_fit": null,
            "grid_auto_columns": null,
            "margin": null,
            "display": null,
            "left": null
          }
        },
        "10909b7023e943508803aaee3156b5a9": {
          "model_module": "@jupyter-widgets/controls",
          "model_name": "HTMLModel",
          "model_module_version": "1.5.0",
          "state": {
            "_view_name": "HTMLView",
            "style": "IPY_MODEL_4a6a27dd6c3c48469f2ff57781bc4f26",
            "_dom_classes": [],
            "description": "",
            "_model_name": "HTMLModel",
            "placeholder": "​",
            "_view_module": "@jupyter-widgets/controls",
            "_model_module_version": "1.5.0",
            "value": "100%",
            "_view_count": null,
            "_view_module_version": "1.5.0",
            "description_tooltip": null,
            "_model_module": "@jupyter-widgets/controls",
            "layout": "IPY_MODEL_5faef5656b7b4d43bd905fff3940d983"
          }
        },
        "f2d2ccbd11554eb2a6f2ae0f3ac80f84": {
          "model_module": "@jupyter-widgets/controls",
          "model_name": "FloatProgressModel",
          "model_module_version": "1.5.0",
          "state": {
            "_view_name": "ProgressView",
            "style": "IPY_MODEL_79aacff4409b48ba8e16c3d0da7f4fd2",
            "_dom_classes": [],
            "description": "",
            "_model_name": "FloatProgressModel",
            "bar_style": "success",
            "max": 313,
            "_view_module": "@jupyter-widgets/controls",
            "_model_module_version": "1.5.0",
            "value": 313,
            "_view_count": null,
            "_view_module_version": "1.5.0",
            "orientation": "horizontal",
            "min": 0,
            "description_tooltip": null,
            "_model_module": "@jupyter-widgets/controls",
            "layout": "IPY_MODEL_4497f5fc6bc14bbeb730111fd48a799c"
          }
        },
        "b13f960beca34075ae9c04915ebf95fb": {
          "model_module": "@jupyter-widgets/controls",
          "model_name": "HTMLModel",
          "model_module_version": "1.5.0",
          "state": {
            "_view_name": "HTMLView",
            "style": "IPY_MODEL_b6ba4eebed9649ebab69072802fb292b",
            "_dom_classes": [],
            "description": "",
            "_model_name": "HTMLModel",
            "placeholder": "​",
            "_view_module": "@jupyter-widgets/controls",
            "_model_module_version": "1.5.0",
            "value": " 313/313 [00:03&lt;00:00, 85.76it/s]",
            "_view_count": null,
            "_view_module_version": "1.5.0",
            "description_tooltip": null,
            "_model_module": "@jupyter-widgets/controls",
            "layout": "IPY_MODEL_4f40d051deb7421f88db8b50020f031b"
          }
        },
        "4a6a27dd6c3c48469f2ff57781bc4f26": {
          "model_module": "@jupyter-widgets/controls",
          "model_name": "DescriptionStyleModel",
          "model_module_version": "1.5.0",
          "state": {
            "_view_name": "StyleView",
            "_model_name": "DescriptionStyleModel",
            "description_width": "",
            "_view_module": "@jupyter-widgets/base",
            "_model_module_version": "1.5.0",
            "_view_count": null,
            "_view_module_version": "1.2.0",
            "_model_module": "@jupyter-widgets/controls"
          }
        },
        "5faef5656b7b4d43bd905fff3940d983": {
          "model_module": "@jupyter-widgets/base",
          "model_name": "LayoutModel",
          "model_module_version": "1.2.0",
          "state": {
            "_view_name": "LayoutView",
            "grid_template_rows": null,
            "right": null,
            "justify_content": null,
            "_view_module": "@jupyter-widgets/base",
            "overflow": null,
            "_model_module_version": "1.2.0",
            "_view_count": null,
            "flex_flow": null,
            "width": null,
            "min_width": null,
            "border": null,
            "align_items": null,
            "bottom": null,
            "_model_module": "@jupyter-widgets/base",
            "top": null,
            "grid_column": null,
            "overflow_y": null,
            "overflow_x": null,
            "grid_auto_flow": null,
            "grid_area": null,
            "grid_template_columns": null,
            "flex": null,
            "_model_name": "LayoutModel",
            "justify_items": null,
            "grid_row": null,
            "max_height": null,
            "align_content": null,
            "visibility": null,
            "align_self": null,
            "height": null,
            "min_height": null,
            "padding": null,
            "grid_auto_rows": null,
            "grid_gap": null,
            "max_width": null,
            "order": null,
            "_view_module_version": "1.2.0",
            "grid_template_areas": null,
            "object_position": null,
            "object_fit": null,
            "grid_auto_columns": null,
            "margin": null,
            "display": null,
            "left": null
          }
        },
        "79aacff4409b48ba8e16c3d0da7f4fd2": {
          "model_module": "@jupyter-widgets/controls",
          "model_name": "ProgressStyleModel",
          "model_module_version": "1.5.0",
          "state": {
            "_view_name": "StyleView",
            "_model_name": "ProgressStyleModel",
            "description_width": "",
            "_view_module": "@jupyter-widgets/base",
            "_model_module_version": "1.5.0",
            "_view_count": null,
            "_view_module_version": "1.2.0",
            "bar_color": null,
            "_model_module": "@jupyter-widgets/controls"
          }
        },
        "4497f5fc6bc14bbeb730111fd48a799c": {
          "model_module": "@jupyter-widgets/base",
          "model_name": "LayoutModel",
          "model_module_version": "1.2.0",
          "state": {
            "_view_name": "LayoutView",
            "grid_template_rows": null,
            "right": null,
            "justify_content": null,
            "_view_module": "@jupyter-widgets/base",
            "overflow": null,
            "_model_module_version": "1.2.0",
            "_view_count": null,
            "flex_flow": null,
            "width": null,
            "min_width": null,
            "border": null,
            "align_items": null,
            "bottom": null,
            "_model_module": "@jupyter-widgets/base",
            "top": null,
            "grid_column": null,
            "overflow_y": null,
            "overflow_x": null,
            "grid_auto_flow": null,
            "grid_area": null,
            "grid_template_columns": null,
            "flex": null,
            "_model_name": "LayoutModel",
            "justify_items": null,
            "grid_row": null,
            "max_height": null,
            "align_content": null,
            "visibility": null,
            "align_self": null,
            "height": null,
            "min_height": null,
            "padding": null,
            "grid_auto_rows": null,
            "grid_gap": null,
            "max_width": null,
            "order": null,
            "_view_module_version": "1.2.0",
            "grid_template_areas": null,
            "object_position": null,
            "object_fit": null,
            "grid_auto_columns": null,
            "margin": null,
            "display": null,
            "left": null
          }
        },
        "b6ba4eebed9649ebab69072802fb292b": {
          "model_module": "@jupyter-widgets/controls",
          "model_name": "DescriptionStyleModel",
          "model_module_version": "1.5.0",
          "state": {
            "_view_name": "StyleView",
            "_model_name": "DescriptionStyleModel",
            "description_width": "",
            "_view_module": "@jupyter-widgets/base",
            "_model_module_version": "1.5.0",
            "_view_count": null,
            "_view_module_version": "1.2.0",
            "_model_module": "@jupyter-widgets/controls"
          }
        },
        "4f40d051deb7421f88db8b50020f031b": {
          "model_module": "@jupyter-widgets/base",
          "model_name": "LayoutModel",
          "model_module_version": "1.2.0",
          "state": {
            "_view_name": "LayoutView",
            "grid_template_rows": null,
            "right": null,
            "justify_content": null,
            "_view_module": "@jupyter-widgets/base",
            "overflow": null,
            "_model_module_version": "1.2.0",
            "_view_count": null,
            "flex_flow": null,
            "width": null,
            "min_width": null,
            "border": null,
            "align_items": null,
            "bottom": null,
            "_model_module": "@jupyter-widgets/base",
            "top": null,
            "grid_column": null,
            "overflow_y": null,
            "overflow_x": null,
            "grid_auto_flow": null,
            "grid_area": null,
            "grid_template_columns": null,
            "flex": null,
            "_model_name": "LayoutModel",
            "justify_items": null,
            "grid_row": null,
            "max_height": null,
            "align_content": null,
            "visibility": null,
            "align_self": null,
            "height": null,
            "min_height": null,
            "padding": null,
            "grid_auto_rows": null,
            "grid_gap": null,
            "max_width": null,
            "order": null,
            "_view_module_version": "1.2.0",
            "grid_template_areas": null,
            "object_position": null,
            "object_fit": null,
            "grid_auto_columns": null,
            "margin": null,
            "display": null,
            "left": null
          }
        },
        "7ba3542c111048d8abed9ab70bf39b80": {
          "model_module": "@jupyter-widgets/controls",
          "model_name": "HBoxModel",
          "model_module_version": "1.5.0",
          "state": {
            "_view_name": "HBoxView",
            "_dom_classes": [],
            "_model_name": "HBoxModel",
            "_view_module": "@jupyter-widgets/controls",
            "_model_module_version": "1.5.0",
            "_view_count": null,
            "_view_module_version": "1.5.0",
            "box_style": "",
            "layout": "IPY_MODEL_61a2656c4e194392b55fb3d6813d79c0",
            "_model_module": "@jupyter-widgets/controls",
            "children": [
              "IPY_MODEL_0775755ad17044ad9183f4ee72bb9e5e",
              "IPY_MODEL_b04df8adf00247edb461a00015341a48",
              "IPY_MODEL_0bbef37b239f4fa78ca7ca574cb55ba3"
            ]
          }
        },
        "61a2656c4e194392b55fb3d6813d79c0": {
          "model_module": "@jupyter-widgets/base",
          "model_name": "LayoutModel",
          "model_module_version": "1.2.0",
          "state": {
            "_view_name": "LayoutView",
            "grid_template_rows": null,
            "right": null,
            "justify_content": null,
            "_view_module": "@jupyter-widgets/base",
            "overflow": null,
            "_model_module_version": "1.2.0",
            "_view_count": null,
            "flex_flow": null,
            "width": null,
            "min_width": null,
            "border": null,
            "align_items": null,
            "bottom": null,
            "_model_module": "@jupyter-widgets/base",
            "top": null,
            "grid_column": null,
            "overflow_y": null,
            "overflow_x": null,
            "grid_auto_flow": null,
            "grid_area": null,
            "grid_template_columns": null,
            "flex": null,
            "_model_name": "LayoutModel",
            "justify_items": null,
            "grid_row": null,
            "max_height": null,
            "align_content": null,
            "visibility": null,
            "align_self": null,
            "height": null,
            "min_height": null,
            "padding": null,
            "grid_auto_rows": null,
            "grid_gap": null,
            "max_width": null,
            "order": null,
            "_view_module_version": "1.2.0",
            "grid_template_areas": null,
            "object_position": null,
            "object_fit": null,
            "grid_auto_columns": null,
            "margin": null,
            "display": null,
            "left": null
          }
        },
        "0775755ad17044ad9183f4ee72bb9e5e": {
          "model_module": "@jupyter-widgets/controls",
          "model_name": "HTMLModel",
          "model_module_version": "1.5.0",
          "state": {
            "_view_name": "HTMLView",
            "style": "IPY_MODEL_783880a0e2cb4cc1b785fa6fbd5bbd44",
            "_dom_classes": [],
            "description": "",
            "_model_name": "HTMLModel",
            "placeholder": "​",
            "_view_module": "@jupyter-widgets/controls",
            "_model_module_version": "1.5.0",
            "value": "100%",
            "_view_count": null,
            "_view_module_version": "1.5.0",
            "description_tooltip": null,
            "_model_module": "@jupyter-widgets/controls",
            "layout": "IPY_MODEL_64dc12e673ab40658add5d95558c3def"
          }
        },
        "b04df8adf00247edb461a00015341a48": {
          "model_module": "@jupyter-widgets/controls",
          "model_name": "FloatProgressModel",
          "model_module_version": "1.5.0",
          "state": {
            "_view_name": "ProgressView",
            "style": "IPY_MODEL_eedfdfc871bb4958b6078c1322baea97",
            "_dom_classes": [],
            "description": "",
            "_model_name": "FloatProgressModel",
            "bar_style": "success",
            "max": 1563,
            "_view_module": "@jupyter-widgets/controls",
            "_model_module_version": "1.5.0",
            "value": 1563,
            "_view_count": null,
            "_view_module_version": "1.5.0",
            "orientation": "horizontal",
            "min": 0,
            "description_tooltip": null,
            "_model_module": "@jupyter-widgets/controls",
            "layout": "IPY_MODEL_18b5d04bf7f14a86a99dab0fc4844790"
          }
        },
        "0bbef37b239f4fa78ca7ca574cb55ba3": {
          "model_module": "@jupyter-widgets/controls",
          "model_name": "HTMLModel",
          "model_module_version": "1.5.0",
          "state": {
            "_view_name": "HTMLView",
            "style": "IPY_MODEL_ea232e2ac6454a08a42fe5d2439532c3",
            "_dom_classes": [],
            "description": "",
            "_model_name": "HTMLModel",
            "placeholder": "​",
            "_view_module": "@jupyter-widgets/controls",
            "_model_module_version": "1.5.0",
            "value": " 1563/1563 [01:22&lt;00:00, 18.62it/s]",
            "_view_count": null,
            "_view_module_version": "1.5.0",
            "description_tooltip": null,
            "_model_module": "@jupyter-widgets/controls",
            "layout": "IPY_MODEL_bcddca2b45ef449e880aad0f44b08a24"
          }
        },
        "783880a0e2cb4cc1b785fa6fbd5bbd44": {
          "model_module": "@jupyter-widgets/controls",
          "model_name": "DescriptionStyleModel",
          "model_module_version": "1.5.0",
          "state": {
            "_view_name": "StyleView",
            "_model_name": "DescriptionStyleModel",
            "description_width": "",
            "_view_module": "@jupyter-widgets/base",
            "_model_module_version": "1.5.0",
            "_view_count": null,
            "_view_module_version": "1.2.0",
            "_model_module": "@jupyter-widgets/controls"
          }
        },
        "64dc12e673ab40658add5d95558c3def": {
          "model_module": "@jupyter-widgets/base",
          "model_name": "LayoutModel",
          "model_module_version": "1.2.0",
          "state": {
            "_view_name": "LayoutView",
            "grid_template_rows": null,
            "right": null,
            "justify_content": null,
            "_view_module": "@jupyter-widgets/base",
            "overflow": null,
            "_model_module_version": "1.2.0",
            "_view_count": null,
            "flex_flow": null,
            "width": null,
            "min_width": null,
            "border": null,
            "align_items": null,
            "bottom": null,
            "_model_module": "@jupyter-widgets/base",
            "top": null,
            "grid_column": null,
            "overflow_y": null,
            "overflow_x": null,
            "grid_auto_flow": null,
            "grid_area": null,
            "grid_template_columns": null,
            "flex": null,
            "_model_name": "LayoutModel",
            "justify_items": null,
            "grid_row": null,
            "max_height": null,
            "align_content": null,
            "visibility": null,
            "align_self": null,
            "height": null,
            "min_height": null,
            "padding": null,
            "grid_auto_rows": null,
            "grid_gap": null,
            "max_width": null,
            "order": null,
            "_view_module_version": "1.2.0",
            "grid_template_areas": null,
            "object_position": null,
            "object_fit": null,
            "grid_auto_columns": null,
            "margin": null,
            "display": null,
            "left": null
          }
        },
        "eedfdfc871bb4958b6078c1322baea97": {
          "model_module": "@jupyter-widgets/controls",
          "model_name": "ProgressStyleModel",
          "model_module_version": "1.5.0",
          "state": {
            "_view_name": "StyleView",
            "_model_name": "ProgressStyleModel",
            "description_width": "",
            "_view_module": "@jupyter-widgets/base",
            "_model_module_version": "1.5.0",
            "_view_count": null,
            "_view_module_version": "1.2.0",
            "bar_color": null,
            "_model_module": "@jupyter-widgets/controls"
          }
        },
        "18b5d04bf7f14a86a99dab0fc4844790": {
          "model_module": "@jupyter-widgets/base",
          "model_name": "LayoutModel",
          "model_module_version": "1.2.0",
          "state": {
            "_view_name": "LayoutView",
            "grid_template_rows": null,
            "right": null,
            "justify_content": null,
            "_view_module": "@jupyter-widgets/base",
            "overflow": null,
            "_model_module_version": "1.2.0",
            "_view_count": null,
            "flex_flow": null,
            "width": null,
            "min_width": null,
            "border": null,
            "align_items": null,
            "bottom": null,
            "_model_module": "@jupyter-widgets/base",
            "top": null,
            "grid_column": null,
            "overflow_y": null,
            "overflow_x": null,
            "grid_auto_flow": null,
            "grid_area": null,
            "grid_template_columns": null,
            "flex": null,
            "_model_name": "LayoutModel",
            "justify_items": null,
            "grid_row": null,
            "max_height": null,
            "align_content": null,
            "visibility": null,
            "align_self": null,
            "height": null,
            "min_height": null,
            "padding": null,
            "grid_auto_rows": null,
            "grid_gap": null,
            "max_width": null,
            "order": null,
            "_view_module_version": "1.2.0",
            "grid_template_areas": null,
            "object_position": null,
            "object_fit": null,
            "grid_auto_columns": null,
            "margin": null,
            "display": null,
            "left": null
          }
        },
        "ea232e2ac6454a08a42fe5d2439532c3": {
          "model_module": "@jupyter-widgets/controls",
          "model_name": "DescriptionStyleModel",
          "model_module_version": "1.5.0",
          "state": {
            "_view_name": "StyleView",
            "_model_name": "DescriptionStyleModel",
            "description_width": "",
            "_view_module": "@jupyter-widgets/base",
            "_model_module_version": "1.5.0",
            "_view_count": null,
            "_view_module_version": "1.2.0",
            "_model_module": "@jupyter-widgets/controls"
          }
        },
        "bcddca2b45ef449e880aad0f44b08a24": {
          "model_module": "@jupyter-widgets/base",
          "model_name": "LayoutModel",
          "model_module_version": "1.2.0",
          "state": {
            "_view_name": "LayoutView",
            "grid_template_rows": null,
            "right": null,
            "justify_content": null,
            "_view_module": "@jupyter-widgets/base",
            "overflow": null,
            "_model_module_version": "1.2.0",
            "_view_count": null,
            "flex_flow": null,
            "width": null,
            "min_width": null,
            "border": null,
            "align_items": null,
            "bottom": null,
            "_model_module": "@jupyter-widgets/base",
            "top": null,
            "grid_column": null,
            "overflow_y": null,
            "overflow_x": null,
            "grid_auto_flow": null,
            "grid_area": null,
            "grid_template_columns": null,
            "flex": null,
            "_model_name": "LayoutModel",
            "justify_items": null,
            "grid_row": null,
            "max_height": null,
            "align_content": null,
            "visibility": null,
            "align_self": null,
            "height": null,
            "min_height": null,
            "padding": null,
            "grid_auto_rows": null,
            "grid_gap": null,
            "max_width": null,
            "order": null,
            "_view_module_version": "1.2.0",
            "grid_template_areas": null,
            "object_position": null,
            "object_fit": null,
            "grid_auto_columns": null,
            "margin": null,
            "display": null,
            "left": null
          }
        },
        "409b2f9a01184a6598846530f324747e": {
          "model_module": "@jupyter-widgets/controls",
          "model_name": "HBoxModel",
          "model_module_version": "1.5.0",
          "state": {
            "_view_name": "HBoxView",
            "_dom_classes": [],
            "_model_name": "HBoxModel",
            "_view_module": "@jupyter-widgets/controls",
            "_model_module_version": "1.5.0",
            "_view_count": null,
            "_view_module_version": "1.5.0",
            "box_style": "",
            "layout": "IPY_MODEL_c4498912973c4bb8a7964521deb322a0",
            "_model_module": "@jupyter-widgets/controls",
            "children": [
              "IPY_MODEL_92f1e48f352342d2b8b64a57afa5ae44",
              "IPY_MODEL_023cf5d411464131b7316dbbb8c124b9",
              "IPY_MODEL_3e8355cec88244849da46119cbd01ee7"
            ]
          }
        },
        "c4498912973c4bb8a7964521deb322a0": {
          "model_module": "@jupyter-widgets/base",
          "model_name": "LayoutModel",
          "model_module_version": "1.2.0",
          "state": {
            "_view_name": "LayoutView",
            "grid_template_rows": null,
            "right": null,
            "justify_content": null,
            "_view_module": "@jupyter-widgets/base",
            "overflow": null,
            "_model_module_version": "1.2.0",
            "_view_count": null,
            "flex_flow": null,
            "width": null,
            "min_width": null,
            "border": null,
            "align_items": null,
            "bottom": null,
            "_model_module": "@jupyter-widgets/base",
            "top": null,
            "grid_column": null,
            "overflow_y": null,
            "overflow_x": null,
            "grid_auto_flow": null,
            "grid_area": null,
            "grid_template_columns": null,
            "flex": null,
            "_model_name": "LayoutModel",
            "justify_items": null,
            "grid_row": null,
            "max_height": null,
            "align_content": null,
            "visibility": null,
            "align_self": null,
            "height": null,
            "min_height": null,
            "padding": null,
            "grid_auto_rows": null,
            "grid_gap": null,
            "max_width": null,
            "order": null,
            "_view_module_version": "1.2.0",
            "grid_template_areas": null,
            "object_position": null,
            "object_fit": null,
            "grid_auto_columns": null,
            "margin": null,
            "display": null,
            "left": null
          }
        },
        "92f1e48f352342d2b8b64a57afa5ae44": {
          "model_module": "@jupyter-widgets/controls",
          "model_name": "HTMLModel",
          "model_module_version": "1.5.0",
          "state": {
            "_view_name": "HTMLView",
            "style": "IPY_MODEL_6f8c9cba49d749aaadf4f7da1fa60f9d",
            "_dom_classes": [],
            "description": "",
            "_model_name": "HTMLModel",
            "placeholder": "​",
            "_view_module": "@jupyter-widgets/controls",
            "_model_module_version": "1.5.0",
            "value": "100%",
            "_view_count": null,
            "_view_module_version": "1.5.0",
            "description_tooltip": null,
            "_model_module": "@jupyter-widgets/controls",
            "layout": "IPY_MODEL_1b90e118b5684199bbe3dabb02a9afa5"
          }
        },
        "023cf5d411464131b7316dbbb8c124b9": {
          "model_module": "@jupyter-widgets/controls",
          "model_name": "FloatProgressModel",
          "model_module_version": "1.5.0",
          "state": {
            "_view_name": "ProgressView",
            "style": "IPY_MODEL_03b44243a5e94ae18f0e8ba3550988c5",
            "_dom_classes": [],
            "description": "",
            "_model_name": "FloatProgressModel",
            "bar_style": "success",
            "max": 313,
            "_view_module": "@jupyter-widgets/controls",
            "_model_module_version": "1.5.0",
            "value": 313,
            "_view_count": null,
            "_view_module_version": "1.5.0",
            "orientation": "horizontal",
            "min": 0,
            "description_tooltip": null,
            "_model_module": "@jupyter-widgets/controls",
            "layout": "IPY_MODEL_1dee302371fb421eb4bea84f5098a040"
          }
        },
        "3e8355cec88244849da46119cbd01ee7": {
          "model_module": "@jupyter-widgets/controls",
          "model_name": "HTMLModel",
          "model_module_version": "1.5.0",
          "state": {
            "_view_name": "HTMLView",
            "style": "IPY_MODEL_f2f659884b7a46f7be84dd9a5f3dfd6a",
            "_dom_classes": [],
            "description": "",
            "_model_name": "HTMLModel",
            "placeholder": "​",
            "_view_module": "@jupyter-widgets/controls",
            "_model_module_version": "1.5.0",
            "value": " 313/313 [00:03&lt;00:00, 81.10it/s]",
            "_view_count": null,
            "_view_module_version": "1.5.0",
            "description_tooltip": null,
            "_model_module": "@jupyter-widgets/controls",
            "layout": "IPY_MODEL_c87a93f679114ee2bc459a38b30b540c"
          }
        },
        "6f8c9cba49d749aaadf4f7da1fa60f9d": {
          "model_module": "@jupyter-widgets/controls",
          "model_name": "DescriptionStyleModel",
          "model_module_version": "1.5.0",
          "state": {
            "_view_name": "StyleView",
            "_model_name": "DescriptionStyleModel",
            "description_width": "",
            "_view_module": "@jupyter-widgets/base",
            "_model_module_version": "1.5.0",
            "_view_count": null,
            "_view_module_version": "1.2.0",
            "_model_module": "@jupyter-widgets/controls"
          }
        },
        "1b90e118b5684199bbe3dabb02a9afa5": {
          "model_module": "@jupyter-widgets/base",
          "model_name": "LayoutModel",
          "model_module_version": "1.2.0",
          "state": {
            "_view_name": "LayoutView",
            "grid_template_rows": null,
            "right": null,
            "justify_content": null,
            "_view_module": "@jupyter-widgets/base",
            "overflow": null,
            "_model_module_version": "1.2.0",
            "_view_count": null,
            "flex_flow": null,
            "width": null,
            "min_width": null,
            "border": null,
            "align_items": null,
            "bottom": null,
            "_model_module": "@jupyter-widgets/base",
            "top": null,
            "grid_column": null,
            "overflow_y": null,
            "overflow_x": null,
            "grid_auto_flow": null,
            "grid_area": null,
            "grid_template_columns": null,
            "flex": null,
            "_model_name": "LayoutModel",
            "justify_items": null,
            "grid_row": null,
            "max_height": null,
            "align_content": null,
            "visibility": null,
            "align_self": null,
            "height": null,
            "min_height": null,
            "padding": null,
            "grid_auto_rows": null,
            "grid_gap": null,
            "max_width": null,
            "order": null,
            "_view_module_version": "1.2.0",
            "grid_template_areas": null,
            "object_position": null,
            "object_fit": null,
            "grid_auto_columns": null,
            "margin": null,
            "display": null,
            "left": null
          }
        },
        "03b44243a5e94ae18f0e8ba3550988c5": {
          "model_module": "@jupyter-widgets/controls",
          "model_name": "ProgressStyleModel",
          "model_module_version": "1.5.0",
          "state": {
            "_view_name": "StyleView",
            "_model_name": "ProgressStyleModel",
            "description_width": "",
            "_view_module": "@jupyter-widgets/base",
            "_model_module_version": "1.5.0",
            "_view_count": null,
            "_view_module_version": "1.2.0",
            "bar_color": null,
            "_model_module": "@jupyter-widgets/controls"
          }
        },
        "1dee302371fb421eb4bea84f5098a040": {
          "model_module": "@jupyter-widgets/base",
          "model_name": "LayoutModel",
          "model_module_version": "1.2.0",
          "state": {
            "_view_name": "LayoutView",
            "grid_template_rows": null,
            "right": null,
            "justify_content": null,
            "_view_module": "@jupyter-widgets/base",
            "overflow": null,
            "_model_module_version": "1.2.0",
            "_view_count": null,
            "flex_flow": null,
            "width": null,
            "min_width": null,
            "border": null,
            "align_items": null,
            "bottom": null,
            "_model_module": "@jupyter-widgets/base",
            "top": null,
            "grid_column": null,
            "overflow_y": null,
            "overflow_x": null,
            "grid_auto_flow": null,
            "grid_area": null,
            "grid_template_columns": null,
            "flex": null,
            "_model_name": "LayoutModel",
            "justify_items": null,
            "grid_row": null,
            "max_height": null,
            "align_content": null,
            "visibility": null,
            "align_self": null,
            "height": null,
            "min_height": null,
            "padding": null,
            "grid_auto_rows": null,
            "grid_gap": null,
            "max_width": null,
            "order": null,
            "_view_module_version": "1.2.0",
            "grid_template_areas": null,
            "object_position": null,
            "object_fit": null,
            "grid_auto_columns": null,
            "margin": null,
            "display": null,
            "left": null
          }
        },
        "f2f659884b7a46f7be84dd9a5f3dfd6a": {
          "model_module": "@jupyter-widgets/controls",
          "model_name": "DescriptionStyleModel",
          "model_module_version": "1.5.0",
          "state": {
            "_view_name": "StyleView",
            "_model_name": "DescriptionStyleModel",
            "description_width": "",
            "_view_module": "@jupyter-widgets/base",
            "_model_module_version": "1.5.0",
            "_view_count": null,
            "_view_module_version": "1.2.0",
            "_model_module": "@jupyter-widgets/controls"
          }
        },
        "c87a93f679114ee2bc459a38b30b540c": {
          "model_module": "@jupyter-widgets/base",
          "model_name": "LayoutModel",
          "model_module_version": "1.2.0",
          "state": {
            "_view_name": "LayoutView",
            "grid_template_rows": null,
            "right": null,
            "justify_content": null,
            "_view_module": "@jupyter-widgets/base",
            "overflow": null,
            "_model_module_version": "1.2.0",
            "_view_count": null,
            "flex_flow": null,
            "width": null,
            "min_width": null,
            "border": null,
            "align_items": null,
            "bottom": null,
            "_model_module": "@jupyter-widgets/base",
            "top": null,
            "grid_column": null,
            "overflow_y": null,
            "overflow_x": null,
            "grid_auto_flow": null,
            "grid_area": null,
            "grid_template_columns": null,
            "flex": null,
            "_model_name": "LayoutModel",
            "justify_items": null,
            "grid_row": null,
            "max_height": null,
            "align_content": null,
            "visibility": null,
            "align_self": null,
            "height": null,
            "min_height": null,
            "padding": null,
            "grid_auto_rows": null,
            "grid_gap": null,
            "max_width": null,
            "order": null,
            "_view_module_version": "1.2.0",
            "grid_template_areas": null,
            "object_position": null,
            "object_fit": null,
            "grid_auto_columns": null,
            "margin": null,
            "display": null,
            "left": null
          }
        },
        "969990466e564ee7b6ade3db32d9774a": {
          "model_module": "@jupyter-widgets/controls",
          "model_name": "HBoxModel",
          "model_module_version": "1.5.0",
          "state": {
            "_view_name": "HBoxView",
            "_dom_classes": [],
            "_model_name": "HBoxModel",
            "_view_module": "@jupyter-widgets/controls",
            "_model_module_version": "1.5.0",
            "_view_count": null,
            "_view_module_version": "1.5.0",
            "box_style": "",
            "layout": "IPY_MODEL_806c0a986511482cb812e4688972919b",
            "_model_module": "@jupyter-widgets/controls",
            "children": [
              "IPY_MODEL_a8b9208e365d4d53b14b95744207e968",
              "IPY_MODEL_b955c647d8bb474cac036c69ac26e468",
              "IPY_MODEL_bcba410641be4187b899de79e5cbeed8"
            ]
          }
        },
        "806c0a986511482cb812e4688972919b": {
          "model_module": "@jupyter-widgets/base",
          "model_name": "LayoutModel",
          "model_module_version": "1.2.0",
          "state": {
            "_view_name": "LayoutView",
            "grid_template_rows": null,
            "right": null,
            "justify_content": null,
            "_view_module": "@jupyter-widgets/base",
            "overflow": null,
            "_model_module_version": "1.2.0",
            "_view_count": null,
            "flex_flow": null,
            "width": null,
            "min_width": null,
            "border": null,
            "align_items": null,
            "bottom": null,
            "_model_module": "@jupyter-widgets/base",
            "top": null,
            "grid_column": null,
            "overflow_y": null,
            "overflow_x": null,
            "grid_auto_flow": null,
            "grid_area": null,
            "grid_template_columns": null,
            "flex": null,
            "_model_name": "LayoutModel",
            "justify_items": null,
            "grid_row": null,
            "max_height": null,
            "align_content": null,
            "visibility": null,
            "align_self": null,
            "height": null,
            "min_height": null,
            "padding": null,
            "grid_auto_rows": null,
            "grid_gap": null,
            "max_width": null,
            "order": null,
            "_view_module_version": "1.2.0",
            "grid_template_areas": null,
            "object_position": null,
            "object_fit": null,
            "grid_auto_columns": null,
            "margin": null,
            "display": null,
            "left": null
          }
        },
        "a8b9208e365d4d53b14b95744207e968": {
          "model_module": "@jupyter-widgets/controls",
          "model_name": "HTMLModel",
          "model_module_version": "1.5.0",
          "state": {
            "_view_name": "HTMLView",
            "style": "IPY_MODEL_0fecfbcef4604e4d90aa976428b0a42a",
            "_dom_classes": [],
            "description": "",
            "_model_name": "HTMLModel",
            "placeholder": "​",
            "_view_module": "@jupyter-widgets/controls",
            "_model_module_version": "1.5.0",
            "value": "100%",
            "_view_count": null,
            "_view_module_version": "1.5.0",
            "description_tooltip": null,
            "_model_module": "@jupyter-widgets/controls",
            "layout": "IPY_MODEL_8dd8bfdcc115405fbd1c35ab24f17fae"
          }
        },
        "b955c647d8bb474cac036c69ac26e468": {
          "model_module": "@jupyter-widgets/controls",
          "model_name": "FloatProgressModel",
          "model_module_version": "1.5.0",
          "state": {
            "_view_name": "ProgressView",
            "style": "IPY_MODEL_95dc0565c3cf471fb718c9cbea361fca",
            "_dom_classes": [],
            "description": "",
            "_model_name": "FloatProgressModel",
            "bar_style": "success",
            "max": 1563,
            "_view_module": "@jupyter-widgets/controls",
            "_model_module_version": "1.5.0",
            "value": 1563,
            "_view_count": null,
            "_view_module_version": "1.5.0",
            "orientation": "horizontal",
            "min": 0,
            "description_tooltip": null,
            "_model_module": "@jupyter-widgets/controls",
            "layout": "IPY_MODEL_ea920efb446c4f549c4f328e88000619"
          }
        },
        "bcba410641be4187b899de79e5cbeed8": {
          "model_module": "@jupyter-widgets/controls",
          "model_name": "HTMLModel",
          "model_module_version": "1.5.0",
          "state": {
            "_view_name": "HTMLView",
            "style": "IPY_MODEL_023bf4104878411a9b860ca21b5fcbab",
            "_dom_classes": [],
            "description": "",
            "_model_name": "HTMLModel",
            "placeholder": "​",
            "_view_module": "@jupyter-widgets/controls",
            "_model_module_version": "1.5.0",
            "value": " 1563/1563 [01:19&lt;00:00, 19.59it/s]",
            "_view_count": null,
            "_view_module_version": "1.5.0",
            "description_tooltip": null,
            "_model_module": "@jupyter-widgets/controls",
            "layout": "IPY_MODEL_44db62afe2c04686b15a802d465718db"
          }
        },
        "0fecfbcef4604e4d90aa976428b0a42a": {
          "model_module": "@jupyter-widgets/controls",
          "model_name": "DescriptionStyleModel",
          "model_module_version": "1.5.0",
          "state": {
            "_view_name": "StyleView",
            "_model_name": "DescriptionStyleModel",
            "description_width": "",
            "_view_module": "@jupyter-widgets/base",
            "_model_module_version": "1.5.0",
            "_view_count": null,
            "_view_module_version": "1.2.0",
            "_model_module": "@jupyter-widgets/controls"
          }
        },
        "8dd8bfdcc115405fbd1c35ab24f17fae": {
          "model_module": "@jupyter-widgets/base",
          "model_name": "LayoutModel",
          "model_module_version": "1.2.0",
          "state": {
            "_view_name": "LayoutView",
            "grid_template_rows": null,
            "right": null,
            "justify_content": null,
            "_view_module": "@jupyter-widgets/base",
            "overflow": null,
            "_model_module_version": "1.2.0",
            "_view_count": null,
            "flex_flow": null,
            "width": null,
            "min_width": null,
            "border": null,
            "align_items": null,
            "bottom": null,
            "_model_module": "@jupyter-widgets/base",
            "top": null,
            "grid_column": null,
            "overflow_y": null,
            "overflow_x": null,
            "grid_auto_flow": null,
            "grid_area": null,
            "grid_template_columns": null,
            "flex": null,
            "_model_name": "LayoutModel",
            "justify_items": null,
            "grid_row": null,
            "max_height": null,
            "align_content": null,
            "visibility": null,
            "align_self": null,
            "height": null,
            "min_height": null,
            "padding": null,
            "grid_auto_rows": null,
            "grid_gap": null,
            "max_width": null,
            "order": null,
            "_view_module_version": "1.2.0",
            "grid_template_areas": null,
            "object_position": null,
            "object_fit": null,
            "grid_auto_columns": null,
            "margin": null,
            "display": null,
            "left": null
          }
        },
        "95dc0565c3cf471fb718c9cbea361fca": {
          "model_module": "@jupyter-widgets/controls",
          "model_name": "ProgressStyleModel",
          "model_module_version": "1.5.0",
          "state": {
            "_view_name": "StyleView",
            "_model_name": "ProgressStyleModel",
            "description_width": "",
            "_view_module": "@jupyter-widgets/base",
            "_model_module_version": "1.5.0",
            "_view_count": null,
            "_view_module_version": "1.2.0",
            "bar_color": null,
            "_model_module": "@jupyter-widgets/controls"
          }
        },
        "ea920efb446c4f549c4f328e88000619": {
          "model_module": "@jupyter-widgets/base",
          "model_name": "LayoutModel",
          "model_module_version": "1.2.0",
          "state": {
            "_view_name": "LayoutView",
            "grid_template_rows": null,
            "right": null,
            "justify_content": null,
            "_view_module": "@jupyter-widgets/base",
            "overflow": null,
            "_model_module_version": "1.2.0",
            "_view_count": null,
            "flex_flow": null,
            "width": null,
            "min_width": null,
            "border": null,
            "align_items": null,
            "bottom": null,
            "_model_module": "@jupyter-widgets/base",
            "top": null,
            "grid_column": null,
            "overflow_y": null,
            "overflow_x": null,
            "grid_auto_flow": null,
            "grid_area": null,
            "grid_template_columns": null,
            "flex": null,
            "_model_name": "LayoutModel",
            "justify_items": null,
            "grid_row": null,
            "max_height": null,
            "align_content": null,
            "visibility": null,
            "align_self": null,
            "height": null,
            "min_height": null,
            "padding": null,
            "grid_auto_rows": null,
            "grid_gap": null,
            "max_width": null,
            "order": null,
            "_view_module_version": "1.2.0",
            "grid_template_areas": null,
            "object_position": null,
            "object_fit": null,
            "grid_auto_columns": null,
            "margin": null,
            "display": null,
            "left": null
          }
        },
        "023bf4104878411a9b860ca21b5fcbab": {
          "model_module": "@jupyter-widgets/controls",
          "model_name": "DescriptionStyleModel",
          "model_module_version": "1.5.0",
          "state": {
            "_view_name": "StyleView",
            "_model_name": "DescriptionStyleModel",
            "description_width": "",
            "_view_module": "@jupyter-widgets/base",
            "_model_module_version": "1.5.0",
            "_view_count": null,
            "_view_module_version": "1.2.0",
            "_model_module": "@jupyter-widgets/controls"
          }
        },
        "44db62afe2c04686b15a802d465718db": {
          "model_module": "@jupyter-widgets/base",
          "model_name": "LayoutModel",
          "model_module_version": "1.2.0",
          "state": {
            "_view_name": "LayoutView",
            "grid_template_rows": null,
            "right": null,
            "justify_content": null,
            "_view_module": "@jupyter-widgets/base",
            "overflow": null,
            "_model_module_version": "1.2.0",
            "_view_count": null,
            "flex_flow": null,
            "width": null,
            "min_width": null,
            "border": null,
            "align_items": null,
            "bottom": null,
            "_model_module": "@jupyter-widgets/base",
            "top": null,
            "grid_column": null,
            "overflow_y": null,
            "overflow_x": null,
            "grid_auto_flow": null,
            "grid_area": null,
            "grid_template_columns": null,
            "flex": null,
            "_model_name": "LayoutModel",
            "justify_items": null,
            "grid_row": null,
            "max_height": null,
            "align_content": null,
            "visibility": null,
            "align_self": null,
            "height": null,
            "min_height": null,
            "padding": null,
            "grid_auto_rows": null,
            "grid_gap": null,
            "max_width": null,
            "order": null,
            "_view_module_version": "1.2.0",
            "grid_template_areas": null,
            "object_position": null,
            "object_fit": null,
            "grid_auto_columns": null,
            "margin": null,
            "display": null,
            "left": null
          }
        },
        "876c0d404da54d03a7913bf8db7d83b3": {
          "model_module": "@jupyter-widgets/controls",
          "model_name": "HBoxModel",
          "model_module_version": "1.5.0",
          "state": {
            "_view_name": "HBoxView",
            "_dom_classes": [],
            "_model_name": "HBoxModel",
            "_view_module": "@jupyter-widgets/controls",
            "_model_module_version": "1.5.0",
            "_view_count": null,
            "_view_module_version": "1.5.0",
            "box_style": "",
            "layout": "IPY_MODEL_8b123cf0bd7e44b78be69feb1d3fcaa8",
            "_model_module": "@jupyter-widgets/controls",
            "children": [
              "IPY_MODEL_04dfa1f22ee44c28baccbf930b4133e1",
              "IPY_MODEL_88e159cb14454f588905314dc3434820",
              "IPY_MODEL_3c22521b7f3641b7a840cf18daff1946"
            ]
          }
        },
        "8b123cf0bd7e44b78be69feb1d3fcaa8": {
          "model_module": "@jupyter-widgets/base",
          "model_name": "LayoutModel",
          "model_module_version": "1.2.0",
          "state": {
            "_view_name": "LayoutView",
            "grid_template_rows": null,
            "right": null,
            "justify_content": null,
            "_view_module": "@jupyter-widgets/base",
            "overflow": null,
            "_model_module_version": "1.2.0",
            "_view_count": null,
            "flex_flow": null,
            "width": null,
            "min_width": null,
            "border": null,
            "align_items": null,
            "bottom": null,
            "_model_module": "@jupyter-widgets/base",
            "top": null,
            "grid_column": null,
            "overflow_y": null,
            "overflow_x": null,
            "grid_auto_flow": null,
            "grid_area": null,
            "grid_template_columns": null,
            "flex": null,
            "_model_name": "LayoutModel",
            "justify_items": null,
            "grid_row": null,
            "max_height": null,
            "align_content": null,
            "visibility": null,
            "align_self": null,
            "height": null,
            "min_height": null,
            "padding": null,
            "grid_auto_rows": null,
            "grid_gap": null,
            "max_width": null,
            "order": null,
            "_view_module_version": "1.2.0",
            "grid_template_areas": null,
            "object_position": null,
            "object_fit": null,
            "grid_auto_columns": null,
            "margin": null,
            "display": null,
            "left": null
          }
        },
        "04dfa1f22ee44c28baccbf930b4133e1": {
          "model_module": "@jupyter-widgets/controls",
          "model_name": "HTMLModel",
          "model_module_version": "1.5.0",
          "state": {
            "_view_name": "HTMLView",
            "style": "IPY_MODEL_7dd485dba2a04ef9b99838593dc5ad70",
            "_dom_classes": [],
            "description": "",
            "_model_name": "HTMLModel",
            "placeholder": "​",
            "_view_module": "@jupyter-widgets/controls",
            "_model_module_version": "1.5.0",
            "value": "100%",
            "_view_count": null,
            "_view_module_version": "1.5.0",
            "description_tooltip": null,
            "_model_module": "@jupyter-widgets/controls",
            "layout": "IPY_MODEL_cfecdb5c3a6f476f963784e0ef5b23f5"
          }
        },
        "88e159cb14454f588905314dc3434820": {
          "model_module": "@jupyter-widgets/controls",
          "model_name": "FloatProgressModel",
          "model_module_version": "1.5.0",
          "state": {
            "_view_name": "ProgressView",
            "style": "IPY_MODEL_19e0cf8b9a1448efb70baa44a9a67cc8",
            "_dom_classes": [],
            "description": "",
            "_model_name": "FloatProgressModel",
            "bar_style": "success",
            "max": 313,
            "_view_module": "@jupyter-widgets/controls",
            "_model_module_version": "1.5.0",
            "value": 313,
            "_view_count": null,
            "_view_module_version": "1.5.0",
            "orientation": "horizontal",
            "min": 0,
            "description_tooltip": null,
            "_model_module": "@jupyter-widgets/controls",
            "layout": "IPY_MODEL_d4309dbfa5fa4612af7ed8f245f22fbd"
          }
        },
        "3c22521b7f3641b7a840cf18daff1946": {
          "model_module": "@jupyter-widgets/controls",
          "model_name": "HTMLModel",
          "model_module_version": "1.5.0",
          "state": {
            "_view_name": "HTMLView",
            "style": "IPY_MODEL_9128f0cfb7ed4d54a7f5c85d273c09f3",
            "_dom_classes": [],
            "description": "",
            "_model_name": "HTMLModel",
            "placeholder": "​",
            "_view_module": "@jupyter-widgets/controls",
            "_model_module_version": "1.5.0",
            "value": " 313/313 [00:03&lt;00:00, 83.77it/s]",
            "_view_count": null,
            "_view_module_version": "1.5.0",
            "description_tooltip": null,
            "_model_module": "@jupyter-widgets/controls",
            "layout": "IPY_MODEL_2413f6e9e6a64e5199e8204b0eb9c2f2"
          }
        },
        "7dd485dba2a04ef9b99838593dc5ad70": {
          "model_module": "@jupyter-widgets/controls",
          "model_name": "DescriptionStyleModel",
          "model_module_version": "1.5.0",
          "state": {
            "_view_name": "StyleView",
            "_model_name": "DescriptionStyleModel",
            "description_width": "",
            "_view_module": "@jupyter-widgets/base",
            "_model_module_version": "1.5.0",
            "_view_count": null,
            "_view_module_version": "1.2.0",
            "_model_module": "@jupyter-widgets/controls"
          }
        },
        "cfecdb5c3a6f476f963784e0ef5b23f5": {
          "model_module": "@jupyter-widgets/base",
          "model_name": "LayoutModel",
          "model_module_version": "1.2.0",
          "state": {
            "_view_name": "LayoutView",
            "grid_template_rows": null,
            "right": null,
            "justify_content": null,
            "_view_module": "@jupyter-widgets/base",
            "overflow": null,
            "_model_module_version": "1.2.0",
            "_view_count": null,
            "flex_flow": null,
            "width": null,
            "min_width": null,
            "border": null,
            "align_items": null,
            "bottom": null,
            "_model_module": "@jupyter-widgets/base",
            "top": null,
            "grid_column": null,
            "overflow_y": null,
            "overflow_x": null,
            "grid_auto_flow": null,
            "grid_area": null,
            "grid_template_columns": null,
            "flex": null,
            "_model_name": "LayoutModel",
            "justify_items": null,
            "grid_row": null,
            "max_height": null,
            "align_content": null,
            "visibility": null,
            "align_self": null,
            "height": null,
            "min_height": null,
            "padding": null,
            "grid_auto_rows": null,
            "grid_gap": null,
            "max_width": null,
            "order": null,
            "_view_module_version": "1.2.0",
            "grid_template_areas": null,
            "object_position": null,
            "object_fit": null,
            "grid_auto_columns": null,
            "margin": null,
            "display": null,
            "left": null
          }
        },
        "19e0cf8b9a1448efb70baa44a9a67cc8": {
          "model_module": "@jupyter-widgets/controls",
          "model_name": "ProgressStyleModel",
          "model_module_version": "1.5.0",
          "state": {
            "_view_name": "StyleView",
            "_model_name": "ProgressStyleModel",
            "description_width": "",
            "_view_module": "@jupyter-widgets/base",
            "_model_module_version": "1.5.0",
            "_view_count": null,
            "_view_module_version": "1.2.0",
            "bar_color": null,
            "_model_module": "@jupyter-widgets/controls"
          }
        },
        "d4309dbfa5fa4612af7ed8f245f22fbd": {
          "model_module": "@jupyter-widgets/base",
          "model_name": "LayoutModel",
          "model_module_version": "1.2.0",
          "state": {
            "_view_name": "LayoutView",
            "grid_template_rows": null,
            "right": null,
            "justify_content": null,
            "_view_module": "@jupyter-widgets/base",
            "overflow": null,
            "_model_module_version": "1.2.0",
            "_view_count": null,
            "flex_flow": null,
            "width": null,
            "min_width": null,
            "border": null,
            "align_items": null,
            "bottom": null,
            "_model_module": "@jupyter-widgets/base",
            "top": null,
            "grid_column": null,
            "overflow_y": null,
            "overflow_x": null,
            "grid_auto_flow": null,
            "grid_area": null,
            "grid_template_columns": null,
            "flex": null,
            "_model_name": "LayoutModel",
            "justify_items": null,
            "grid_row": null,
            "max_height": null,
            "align_content": null,
            "visibility": null,
            "align_self": null,
            "height": null,
            "min_height": null,
            "padding": null,
            "grid_auto_rows": null,
            "grid_gap": null,
            "max_width": null,
            "order": null,
            "_view_module_version": "1.2.0",
            "grid_template_areas": null,
            "object_position": null,
            "object_fit": null,
            "grid_auto_columns": null,
            "margin": null,
            "display": null,
            "left": null
          }
        },
        "9128f0cfb7ed4d54a7f5c85d273c09f3": {
          "model_module": "@jupyter-widgets/controls",
          "model_name": "DescriptionStyleModel",
          "model_module_version": "1.5.0",
          "state": {
            "_view_name": "StyleView",
            "_model_name": "DescriptionStyleModel",
            "description_width": "",
            "_view_module": "@jupyter-widgets/base",
            "_model_module_version": "1.5.0",
            "_view_count": null,
            "_view_module_version": "1.2.0",
            "_model_module": "@jupyter-widgets/controls"
          }
        },
        "2413f6e9e6a64e5199e8204b0eb9c2f2": {
          "model_module": "@jupyter-widgets/base",
          "model_name": "LayoutModel",
          "model_module_version": "1.2.0",
          "state": {
            "_view_name": "LayoutView",
            "grid_template_rows": null,
            "right": null,
            "justify_content": null,
            "_view_module": "@jupyter-widgets/base",
            "overflow": null,
            "_model_module_version": "1.2.0",
            "_view_count": null,
            "flex_flow": null,
            "width": null,
            "min_width": null,
            "border": null,
            "align_items": null,
            "bottom": null,
            "_model_module": "@jupyter-widgets/base",
            "top": null,
            "grid_column": null,
            "overflow_y": null,
            "overflow_x": null,
            "grid_auto_flow": null,
            "grid_area": null,
            "grid_template_columns": null,
            "flex": null,
            "_model_name": "LayoutModel",
            "justify_items": null,
            "grid_row": null,
            "max_height": null,
            "align_content": null,
            "visibility": null,
            "align_self": null,
            "height": null,
            "min_height": null,
            "padding": null,
            "grid_auto_rows": null,
            "grid_gap": null,
            "max_width": null,
            "order": null,
            "_view_module_version": "1.2.0",
            "grid_template_areas": null,
            "object_position": null,
            "object_fit": null,
            "grid_auto_columns": null,
            "margin": null,
            "display": null,
            "left": null
          }
        },
        "bb8a2a00d35b41018a9cf3d48711a6e9": {
          "model_module": "@jupyter-widgets/controls",
          "model_name": "HBoxModel",
          "model_module_version": "1.5.0",
          "state": {
            "_view_name": "HBoxView",
            "_dom_classes": [],
            "_model_name": "HBoxModel",
            "_view_module": "@jupyter-widgets/controls",
            "_model_module_version": "1.5.0",
            "_view_count": null,
            "_view_module_version": "1.5.0",
            "box_style": "",
            "layout": "IPY_MODEL_123371174f454166ba42f40f230e6194",
            "_model_module": "@jupyter-widgets/controls",
            "children": [
              "IPY_MODEL_f75e3f04f47749b49553bb299da99295",
              "IPY_MODEL_88e5d0c8436d4ed192db8b8eb7bdb2d8",
              "IPY_MODEL_5658574a42e44b42ac401fd9b6a9e42a"
            ]
          }
        },
        "123371174f454166ba42f40f230e6194": {
          "model_module": "@jupyter-widgets/base",
          "model_name": "LayoutModel",
          "model_module_version": "1.2.0",
          "state": {
            "_view_name": "LayoutView",
            "grid_template_rows": null,
            "right": null,
            "justify_content": null,
            "_view_module": "@jupyter-widgets/base",
            "overflow": null,
            "_model_module_version": "1.2.0",
            "_view_count": null,
            "flex_flow": null,
            "width": null,
            "min_width": null,
            "border": null,
            "align_items": null,
            "bottom": null,
            "_model_module": "@jupyter-widgets/base",
            "top": null,
            "grid_column": null,
            "overflow_y": null,
            "overflow_x": null,
            "grid_auto_flow": null,
            "grid_area": null,
            "grid_template_columns": null,
            "flex": null,
            "_model_name": "LayoutModel",
            "justify_items": null,
            "grid_row": null,
            "max_height": null,
            "align_content": null,
            "visibility": null,
            "align_self": null,
            "height": null,
            "min_height": null,
            "padding": null,
            "grid_auto_rows": null,
            "grid_gap": null,
            "max_width": null,
            "order": null,
            "_view_module_version": "1.2.0",
            "grid_template_areas": null,
            "object_position": null,
            "object_fit": null,
            "grid_auto_columns": null,
            "margin": null,
            "display": null,
            "left": null
          }
        },
        "f75e3f04f47749b49553bb299da99295": {
          "model_module": "@jupyter-widgets/controls",
          "model_name": "HTMLModel",
          "model_module_version": "1.5.0",
          "state": {
            "_view_name": "HTMLView",
            "style": "IPY_MODEL_03163bec80df44409bb12fb733675766",
            "_dom_classes": [],
            "description": "",
            "_model_name": "HTMLModel",
            "placeholder": "​",
            "_view_module": "@jupyter-widgets/controls",
            "_model_module_version": "1.5.0",
            "value": "100%",
            "_view_count": null,
            "_view_module_version": "1.5.0",
            "description_tooltip": null,
            "_model_module": "@jupyter-widgets/controls",
            "layout": "IPY_MODEL_d1c2ac1886b04ca9be4b2b0851d6152b"
          }
        },
        "88e5d0c8436d4ed192db8b8eb7bdb2d8": {
          "model_module": "@jupyter-widgets/controls",
          "model_name": "FloatProgressModel",
          "model_module_version": "1.5.0",
          "state": {
            "_view_name": "ProgressView",
            "style": "IPY_MODEL_fb5a772941ad4c99b120e7d3c5b3d1e0",
            "_dom_classes": [],
            "description": "",
            "_model_name": "FloatProgressModel",
            "bar_style": "success",
            "max": 1563,
            "_view_module": "@jupyter-widgets/controls",
            "_model_module_version": "1.5.0",
            "value": 1563,
            "_view_count": null,
            "_view_module_version": "1.5.0",
            "orientation": "horizontal",
            "min": 0,
            "description_tooltip": null,
            "_model_module": "@jupyter-widgets/controls",
            "layout": "IPY_MODEL_b7743b432118414e86c51fbab96460a3"
          }
        },
        "5658574a42e44b42ac401fd9b6a9e42a": {
          "model_module": "@jupyter-widgets/controls",
          "model_name": "HTMLModel",
          "model_module_version": "1.5.0",
          "state": {
            "_view_name": "HTMLView",
            "style": "IPY_MODEL_dee41d1a89a54655a93bdcaa9e754412",
            "_dom_classes": [],
            "description": "",
            "_model_name": "HTMLModel",
            "placeholder": "​",
            "_view_module": "@jupyter-widgets/controls",
            "_model_module_version": "1.5.0",
            "value": " 1563/1563 [01:21&lt;00:00, 18.77it/s]",
            "_view_count": null,
            "_view_module_version": "1.5.0",
            "description_tooltip": null,
            "_model_module": "@jupyter-widgets/controls",
            "layout": "IPY_MODEL_af38549e6ef4461c82deb3c5f469dc2a"
          }
        },
        "03163bec80df44409bb12fb733675766": {
          "model_module": "@jupyter-widgets/controls",
          "model_name": "DescriptionStyleModel",
          "model_module_version": "1.5.0",
          "state": {
            "_view_name": "StyleView",
            "_model_name": "DescriptionStyleModel",
            "description_width": "",
            "_view_module": "@jupyter-widgets/base",
            "_model_module_version": "1.5.0",
            "_view_count": null,
            "_view_module_version": "1.2.0",
            "_model_module": "@jupyter-widgets/controls"
          }
        },
        "d1c2ac1886b04ca9be4b2b0851d6152b": {
          "model_module": "@jupyter-widgets/base",
          "model_name": "LayoutModel",
          "model_module_version": "1.2.0",
          "state": {
            "_view_name": "LayoutView",
            "grid_template_rows": null,
            "right": null,
            "justify_content": null,
            "_view_module": "@jupyter-widgets/base",
            "overflow": null,
            "_model_module_version": "1.2.0",
            "_view_count": null,
            "flex_flow": null,
            "width": null,
            "min_width": null,
            "border": null,
            "align_items": null,
            "bottom": null,
            "_model_module": "@jupyter-widgets/base",
            "top": null,
            "grid_column": null,
            "overflow_y": null,
            "overflow_x": null,
            "grid_auto_flow": null,
            "grid_area": null,
            "grid_template_columns": null,
            "flex": null,
            "_model_name": "LayoutModel",
            "justify_items": null,
            "grid_row": null,
            "max_height": null,
            "align_content": null,
            "visibility": null,
            "align_self": null,
            "height": null,
            "min_height": null,
            "padding": null,
            "grid_auto_rows": null,
            "grid_gap": null,
            "max_width": null,
            "order": null,
            "_view_module_version": "1.2.0",
            "grid_template_areas": null,
            "object_position": null,
            "object_fit": null,
            "grid_auto_columns": null,
            "margin": null,
            "display": null,
            "left": null
          }
        },
        "fb5a772941ad4c99b120e7d3c5b3d1e0": {
          "model_module": "@jupyter-widgets/controls",
          "model_name": "ProgressStyleModel",
          "model_module_version": "1.5.0",
          "state": {
            "_view_name": "StyleView",
            "_model_name": "ProgressStyleModel",
            "description_width": "",
            "_view_module": "@jupyter-widgets/base",
            "_model_module_version": "1.5.0",
            "_view_count": null,
            "_view_module_version": "1.2.0",
            "bar_color": null,
            "_model_module": "@jupyter-widgets/controls"
          }
        },
        "b7743b432118414e86c51fbab96460a3": {
          "model_module": "@jupyter-widgets/base",
          "model_name": "LayoutModel",
          "model_module_version": "1.2.0",
          "state": {
            "_view_name": "LayoutView",
            "grid_template_rows": null,
            "right": null,
            "justify_content": null,
            "_view_module": "@jupyter-widgets/base",
            "overflow": null,
            "_model_module_version": "1.2.0",
            "_view_count": null,
            "flex_flow": null,
            "width": null,
            "min_width": null,
            "border": null,
            "align_items": null,
            "bottom": null,
            "_model_module": "@jupyter-widgets/base",
            "top": null,
            "grid_column": null,
            "overflow_y": null,
            "overflow_x": null,
            "grid_auto_flow": null,
            "grid_area": null,
            "grid_template_columns": null,
            "flex": null,
            "_model_name": "LayoutModel",
            "justify_items": null,
            "grid_row": null,
            "max_height": null,
            "align_content": null,
            "visibility": null,
            "align_self": null,
            "height": null,
            "min_height": null,
            "padding": null,
            "grid_auto_rows": null,
            "grid_gap": null,
            "max_width": null,
            "order": null,
            "_view_module_version": "1.2.0",
            "grid_template_areas": null,
            "object_position": null,
            "object_fit": null,
            "grid_auto_columns": null,
            "margin": null,
            "display": null,
            "left": null
          }
        },
        "dee41d1a89a54655a93bdcaa9e754412": {
          "model_module": "@jupyter-widgets/controls",
          "model_name": "DescriptionStyleModel",
          "model_module_version": "1.5.0",
          "state": {
            "_view_name": "StyleView",
            "_model_name": "DescriptionStyleModel",
            "description_width": "",
            "_view_module": "@jupyter-widgets/base",
            "_model_module_version": "1.5.0",
            "_view_count": null,
            "_view_module_version": "1.2.0",
            "_model_module": "@jupyter-widgets/controls"
          }
        },
        "af38549e6ef4461c82deb3c5f469dc2a": {
          "model_module": "@jupyter-widgets/base",
          "model_name": "LayoutModel",
          "model_module_version": "1.2.0",
          "state": {
            "_view_name": "LayoutView",
            "grid_template_rows": null,
            "right": null,
            "justify_content": null,
            "_view_module": "@jupyter-widgets/base",
            "overflow": null,
            "_model_module_version": "1.2.0",
            "_view_count": null,
            "flex_flow": null,
            "width": null,
            "min_width": null,
            "border": null,
            "align_items": null,
            "bottom": null,
            "_model_module": "@jupyter-widgets/base",
            "top": null,
            "grid_column": null,
            "overflow_y": null,
            "overflow_x": null,
            "grid_auto_flow": null,
            "grid_area": null,
            "grid_template_columns": null,
            "flex": null,
            "_model_name": "LayoutModel",
            "justify_items": null,
            "grid_row": null,
            "max_height": null,
            "align_content": null,
            "visibility": null,
            "align_self": null,
            "height": null,
            "min_height": null,
            "padding": null,
            "grid_auto_rows": null,
            "grid_gap": null,
            "max_width": null,
            "order": null,
            "_view_module_version": "1.2.0",
            "grid_template_areas": null,
            "object_position": null,
            "object_fit": null,
            "grid_auto_columns": null,
            "margin": null,
            "display": null,
            "left": null
          }
        },
        "50b1d77580bb45a49d9b9522c6b101f1": {
          "model_module": "@jupyter-widgets/controls",
          "model_name": "HBoxModel",
          "model_module_version": "1.5.0",
          "state": {
            "_view_name": "HBoxView",
            "_dom_classes": [],
            "_model_name": "HBoxModel",
            "_view_module": "@jupyter-widgets/controls",
            "_model_module_version": "1.5.0",
            "_view_count": null,
            "_view_module_version": "1.5.0",
            "box_style": "",
            "layout": "IPY_MODEL_071c363559ff4fd79adc9e16646ea497",
            "_model_module": "@jupyter-widgets/controls",
            "children": [
              "IPY_MODEL_5811c92032cd440d8e8c2903491f5909",
              "IPY_MODEL_5a9609d1cb39457eb3be99c95ba74229",
              "IPY_MODEL_cc489854f24d4680a83787ab7d31c9b3"
            ]
          }
        },
        "071c363559ff4fd79adc9e16646ea497": {
          "model_module": "@jupyter-widgets/base",
          "model_name": "LayoutModel",
          "model_module_version": "1.2.0",
          "state": {
            "_view_name": "LayoutView",
            "grid_template_rows": null,
            "right": null,
            "justify_content": null,
            "_view_module": "@jupyter-widgets/base",
            "overflow": null,
            "_model_module_version": "1.2.0",
            "_view_count": null,
            "flex_flow": null,
            "width": null,
            "min_width": null,
            "border": null,
            "align_items": null,
            "bottom": null,
            "_model_module": "@jupyter-widgets/base",
            "top": null,
            "grid_column": null,
            "overflow_y": null,
            "overflow_x": null,
            "grid_auto_flow": null,
            "grid_area": null,
            "grid_template_columns": null,
            "flex": null,
            "_model_name": "LayoutModel",
            "justify_items": null,
            "grid_row": null,
            "max_height": null,
            "align_content": null,
            "visibility": null,
            "align_self": null,
            "height": null,
            "min_height": null,
            "padding": null,
            "grid_auto_rows": null,
            "grid_gap": null,
            "max_width": null,
            "order": null,
            "_view_module_version": "1.2.0",
            "grid_template_areas": null,
            "object_position": null,
            "object_fit": null,
            "grid_auto_columns": null,
            "margin": null,
            "display": null,
            "left": null
          }
        },
        "5811c92032cd440d8e8c2903491f5909": {
          "model_module": "@jupyter-widgets/controls",
          "model_name": "HTMLModel",
          "model_module_version": "1.5.0",
          "state": {
            "_view_name": "HTMLView",
            "style": "IPY_MODEL_d4478d44910b4fd8a3357a9b11510da3",
            "_dom_classes": [],
            "description": "",
            "_model_name": "HTMLModel",
            "placeholder": "​",
            "_view_module": "@jupyter-widgets/controls",
            "_model_module_version": "1.5.0",
            "value": "100%",
            "_view_count": null,
            "_view_module_version": "1.5.0",
            "description_tooltip": null,
            "_model_module": "@jupyter-widgets/controls",
            "layout": "IPY_MODEL_a53aa38bc5dc41f2a07dab46c49bb725"
          }
        },
        "5a9609d1cb39457eb3be99c95ba74229": {
          "model_module": "@jupyter-widgets/controls",
          "model_name": "FloatProgressModel",
          "model_module_version": "1.5.0",
          "state": {
            "_view_name": "ProgressView",
            "style": "IPY_MODEL_44e90c9da8044d108486658f375f1930",
            "_dom_classes": [],
            "description": "",
            "_model_name": "FloatProgressModel",
            "bar_style": "success",
            "max": 313,
            "_view_module": "@jupyter-widgets/controls",
            "_model_module_version": "1.5.0",
            "value": 313,
            "_view_count": null,
            "_view_module_version": "1.5.0",
            "orientation": "horizontal",
            "min": 0,
            "description_tooltip": null,
            "_model_module": "@jupyter-widgets/controls",
            "layout": "IPY_MODEL_ca817723e55248b0a00f5aff732e7766"
          }
        },
        "cc489854f24d4680a83787ab7d31c9b3": {
          "model_module": "@jupyter-widgets/controls",
          "model_name": "HTMLModel",
          "model_module_version": "1.5.0",
          "state": {
            "_view_name": "HTMLView",
            "style": "IPY_MODEL_87d7a5d4b09f4ac2bbe9422013d8aa96",
            "_dom_classes": [],
            "description": "",
            "_model_name": "HTMLModel",
            "placeholder": "​",
            "_view_module": "@jupyter-widgets/controls",
            "_model_module_version": "1.5.0",
            "value": " 313/313 [00:03&lt;00:00, 84.27it/s]",
            "_view_count": null,
            "_view_module_version": "1.5.0",
            "description_tooltip": null,
            "_model_module": "@jupyter-widgets/controls",
            "layout": "IPY_MODEL_09362ce586964d908214879670e1da79"
          }
        },
        "d4478d44910b4fd8a3357a9b11510da3": {
          "model_module": "@jupyter-widgets/controls",
          "model_name": "DescriptionStyleModel",
          "model_module_version": "1.5.0",
          "state": {
            "_view_name": "StyleView",
            "_model_name": "DescriptionStyleModel",
            "description_width": "",
            "_view_module": "@jupyter-widgets/base",
            "_model_module_version": "1.5.0",
            "_view_count": null,
            "_view_module_version": "1.2.0",
            "_model_module": "@jupyter-widgets/controls"
          }
        },
        "a53aa38bc5dc41f2a07dab46c49bb725": {
          "model_module": "@jupyter-widgets/base",
          "model_name": "LayoutModel",
          "model_module_version": "1.2.0",
          "state": {
            "_view_name": "LayoutView",
            "grid_template_rows": null,
            "right": null,
            "justify_content": null,
            "_view_module": "@jupyter-widgets/base",
            "overflow": null,
            "_model_module_version": "1.2.0",
            "_view_count": null,
            "flex_flow": null,
            "width": null,
            "min_width": null,
            "border": null,
            "align_items": null,
            "bottom": null,
            "_model_module": "@jupyter-widgets/base",
            "top": null,
            "grid_column": null,
            "overflow_y": null,
            "overflow_x": null,
            "grid_auto_flow": null,
            "grid_area": null,
            "grid_template_columns": null,
            "flex": null,
            "_model_name": "LayoutModel",
            "justify_items": null,
            "grid_row": null,
            "max_height": null,
            "align_content": null,
            "visibility": null,
            "align_self": null,
            "height": null,
            "min_height": null,
            "padding": null,
            "grid_auto_rows": null,
            "grid_gap": null,
            "max_width": null,
            "order": null,
            "_view_module_version": "1.2.0",
            "grid_template_areas": null,
            "object_position": null,
            "object_fit": null,
            "grid_auto_columns": null,
            "margin": null,
            "display": null,
            "left": null
          }
        },
        "44e90c9da8044d108486658f375f1930": {
          "model_module": "@jupyter-widgets/controls",
          "model_name": "ProgressStyleModel",
          "model_module_version": "1.5.0",
          "state": {
            "_view_name": "StyleView",
            "_model_name": "ProgressStyleModel",
            "description_width": "",
            "_view_module": "@jupyter-widgets/base",
            "_model_module_version": "1.5.0",
            "_view_count": null,
            "_view_module_version": "1.2.0",
            "bar_color": null,
            "_model_module": "@jupyter-widgets/controls"
          }
        },
        "ca817723e55248b0a00f5aff732e7766": {
          "model_module": "@jupyter-widgets/base",
          "model_name": "LayoutModel",
          "model_module_version": "1.2.0",
          "state": {
            "_view_name": "LayoutView",
            "grid_template_rows": null,
            "right": null,
            "justify_content": null,
            "_view_module": "@jupyter-widgets/base",
            "overflow": null,
            "_model_module_version": "1.2.0",
            "_view_count": null,
            "flex_flow": null,
            "width": null,
            "min_width": null,
            "border": null,
            "align_items": null,
            "bottom": null,
            "_model_module": "@jupyter-widgets/base",
            "top": null,
            "grid_column": null,
            "overflow_y": null,
            "overflow_x": null,
            "grid_auto_flow": null,
            "grid_area": null,
            "grid_template_columns": null,
            "flex": null,
            "_model_name": "LayoutModel",
            "justify_items": null,
            "grid_row": null,
            "max_height": null,
            "align_content": null,
            "visibility": null,
            "align_self": null,
            "height": null,
            "min_height": null,
            "padding": null,
            "grid_auto_rows": null,
            "grid_gap": null,
            "max_width": null,
            "order": null,
            "_view_module_version": "1.2.0",
            "grid_template_areas": null,
            "object_position": null,
            "object_fit": null,
            "grid_auto_columns": null,
            "margin": null,
            "display": null,
            "left": null
          }
        },
        "87d7a5d4b09f4ac2bbe9422013d8aa96": {
          "model_module": "@jupyter-widgets/controls",
          "model_name": "DescriptionStyleModel",
          "model_module_version": "1.5.0",
          "state": {
            "_view_name": "StyleView",
            "_model_name": "DescriptionStyleModel",
            "description_width": "",
            "_view_module": "@jupyter-widgets/base",
            "_model_module_version": "1.5.0",
            "_view_count": null,
            "_view_module_version": "1.2.0",
            "_model_module": "@jupyter-widgets/controls"
          }
        },
        "09362ce586964d908214879670e1da79": {
          "model_module": "@jupyter-widgets/base",
          "model_name": "LayoutModel",
          "model_module_version": "1.2.0",
          "state": {
            "_view_name": "LayoutView",
            "grid_template_rows": null,
            "right": null,
            "justify_content": null,
            "_view_module": "@jupyter-widgets/base",
            "overflow": null,
            "_model_module_version": "1.2.0",
            "_view_count": null,
            "flex_flow": null,
            "width": null,
            "min_width": null,
            "border": null,
            "align_items": null,
            "bottom": null,
            "_model_module": "@jupyter-widgets/base",
            "top": null,
            "grid_column": null,
            "overflow_y": null,
            "overflow_x": null,
            "grid_auto_flow": null,
            "grid_area": null,
            "grid_template_columns": null,
            "flex": null,
            "_model_name": "LayoutModel",
            "justify_items": null,
            "grid_row": null,
            "max_height": null,
            "align_content": null,
            "visibility": null,
            "align_self": null,
            "height": null,
            "min_height": null,
            "padding": null,
            "grid_auto_rows": null,
            "grid_gap": null,
            "max_width": null,
            "order": null,
            "_view_module_version": "1.2.0",
            "grid_template_areas": null,
            "object_position": null,
            "object_fit": null,
            "grid_auto_columns": null,
            "margin": null,
            "display": null,
            "left": null
          }
        },
        "fde9da81916e44589fd95c89e931fc5d": {
          "model_module": "@jupyter-widgets/controls",
          "model_name": "HBoxModel",
          "model_module_version": "1.5.0",
          "state": {
            "_view_name": "HBoxView",
            "_dom_classes": [],
            "_model_name": "HBoxModel",
            "_view_module": "@jupyter-widgets/controls",
            "_model_module_version": "1.5.0",
            "_view_count": null,
            "_view_module_version": "1.5.0",
            "box_style": "",
            "layout": "IPY_MODEL_3338e8d2149a4cbfbaec795b807b9d37",
            "_model_module": "@jupyter-widgets/controls",
            "children": [
              "IPY_MODEL_6ee8ac44e064474faa18a8190759b50f",
              "IPY_MODEL_f78a8a7a2ce64e5bac0c872fec44208f",
              "IPY_MODEL_4253643d30bc42faba4eb3e734a8fa1c"
            ]
          }
        },
        "3338e8d2149a4cbfbaec795b807b9d37": {
          "model_module": "@jupyter-widgets/base",
          "model_name": "LayoutModel",
          "model_module_version": "1.2.0",
          "state": {
            "_view_name": "LayoutView",
            "grid_template_rows": null,
            "right": null,
            "justify_content": null,
            "_view_module": "@jupyter-widgets/base",
            "overflow": null,
            "_model_module_version": "1.2.0",
            "_view_count": null,
            "flex_flow": null,
            "width": null,
            "min_width": null,
            "border": null,
            "align_items": null,
            "bottom": null,
            "_model_module": "@jupyter-widgets/base",
            "top": null,
            "grid_column": null,
            "overflow_y": null,
            "overflow_x": null,
            "grid_auto_flow": null,
            "grid_area": null,
            "grid_template_columns": null,
            "flex": null,
            "_model_name": "LayoutModel",
            "justify_items": null,
            "grid_row": null,
            "max_height": null,
            "align_content": null,
            "visibility": null,
            "align_self": null,
            "height": null,
            "min_height": null,
            "padding": null,
            "grid_auto_rows": null,
            "grid_gap": null,
            "max_width": null,
            "order": null,
            "_view_module_version": "1.2.0",
            "grid_template_areas": null,
            "object_position": null,
            "object_fit": null,
            "grid_auto_columns": null,
            "margin": null,
            "display": null,
            "left": null
          }
        },
        "6ee8ac44e064474faa18a8190759b50f": {
          "model_module": "@jupyter-widgets/controls",
          "model_name": "HTMLModel",
          "model_module_version": "1.5.0",
          "state": {
            "_view_name": "HTMLView",
            "style": "IPY_MODEL_854aafe8458f4568ae72349d78d8aba6",
            "_dom_classes": [],
            "description": "",
            "_model_name": "HTMLModel",
            "placeholder": "​",
            "_view_module": "@jupyter-widgets/controls",
            "_model_module_version": "1.5.0",
            "value": "100%",
            "_view_count": null,
            "_view_module_version": "1.5.0",
            "description_tooltip": null,
            "_model_module": "@jupyter-widgets/controls",
            "layout": "IPY_MODEL_87355dcbfda94170b3c8e011fca0531d"
          }
        },
        "f78a8a7a2ce64e5bac0c872fec44208f": {
          "model_module": "@jupyter-widgets/controls",
          "model_name": "FloatProgressModel",
          "model_module_version": "1.5.0",
          "state": {
            "_view_name": "ProgressView",
            "style": "IPY_MODEL_1b2b90a270064c97b730c3e8aea39b3d",
            "_dom_classes": [],
            "description": "",
            "_model_name": "FloatProgressModel",
            "bar_style": "success",
            "max": 1563,
            "_view_module": "@jupyter-widgets/controls",
            "_model_module_version": "1.5.0",
            "value": 1563,
            "_view_count": null,
            "_view_module_version": "1.5.0",
            "orientation": "horizontal",
            "min": 0,
            "description_tooltip": null,
            "_model_module": "@jupyter-widgets/controls",
            "layout": "IPY_MODEL_344b5a414c93488a8008f190b336863a"
          }
        },
        "4253643d30bc42faba4eb3e734a8fa1c": {
          "model_module": "@jupyter-widgets/controls",
          "model_name": "HTMLModel",
          "model_module_version": "1.5.0",
          "state": {
            "_view_name": "HTMLView",
            "style": "IPY_MODEL_b0e1c101737d418dbc6bf132dba8ba71",
            "_dom_classes": [],
            "description": "",
            "_model_name": "HTMLModel",
            "placeholder": "​",
            "_view_module": "@jupyter-widgets/controls",
            "_model_module_version": "1.5.0",
            "value": " 1563/1563 [01:19&lt;00:00, 19.99it/s]",
            "_view_count": null,
            "_view_module_version": "1.5.0",
            "description_tooltip": null,
            "_model_module": "@jupyter-widgets/controls",
            "layout": "IPY_MODEL_637261f82ae6420da4c1b2d8d04cc9e5"
          }
        },
        "854aafe8458f4568ae72349d78d8aba6": {
          "model_module": "@jupyter-widgets/controls",
          "model_name": "DescriptionStyleModel",
          "model_module_version": "1.5.0",
          "state": {
            "_view_name": "StyleView",
            "_model_name": "DescriptionStyleModel",
            "description_width": "",
            "_view_module": "@jupyter-widgets/base",
            "_model_module_version": "1.5.0",
            "_view_count": null,
            "_view_module_version": "1.2.0",
            "_model_module": "@jupyter-widgets/controls"
          }
        },
        "87355dcbfda94170b3c8e011fca0531d": {
          "model_module": "@jupyter-widgets/base",
          "model_name": "LayoutModel",
          "model_module_version": "1.2.0",
          "state": {
            "_view_name": "LayoutView",
            "grid_template_rows": null,
            "right": null,
            "justify_content": null,
            "_view_module": "@jupyter-widgets/base",
            "overflow": null,
            "_model_module_version": "1.2.0",
            "_view_count": null,
            "flex_flow": null,
            "width": null,
            "min_width": null,
            "border": null,
            "align_items": null,
            "bottom": null,
            "_model_module": "@jupyter-widgets/base",
            "top": null,
            "grid_column": null,
            "overflow_y": null,
            "overflow_x": null,
            "grid_auto_flow": null,
            "grid_area": null,
            "grid_template_columns": null,
            "flex": null,
            "_model_name": "LayoutModel",
            "justify_items": null,
            "grid_row": null,
            "max_height": null,
            "align_content": null,
            "visibility": null,
            "align_self": null,
            "height": null,
            "min_height": null,
            "padding": null,
            "grid_auto_rows": null,
            "grid_gap": null,
            "max_width": null,
            "order": null,
            "_view_module_version": "1.2.0",
            "grid_template_areas": null,
            "object_position": null,
            "object_fit": null,
            "grid_auto_columns": null,
            "margin": null,
            "display": null,
            "left": null
          }
        },
        "1b2b90a270064c97b730c3e8aea39b3d": {
          "model_module": "@jupyter-widgets/controls",
          "model_name": "ProgressStyleModel",
          "model_module_version": "1.5.0",
          "state": {
            "_view_name": "StyleView",
            "_model_name": "ProgressStyleModel",
            "description_width": "",
            "_view_module": "@jupyter-widgets/base",
            "_model_module_version": "1.5.0",
            "_view_count": null,
            "_view_module_version": "1.2.0",
            "bar_color": null,
            "_model_module": "@jupyter-widgets/controls"
          }
        },
        "344b5a414c93488a8008f190b336863a": {
          "model_module": "@jupyter-widgets/base",
          "model_name": "LayoutModel",
          "model_module_version": "1.2.0",
          "state": {
            "_view_name": "LayoutView",
            "grid_template_rows": null,
            "right": null,
            "justify_content": null,
            "_view_module": "@jupyter-widgets/base",
            "overflow": null,
            "_model_module_version": "1.2.0",
            "_view_count": null,
            "flex_flow": null,
            "width": null,
            "min_width": null,
            "border": null,
            "align_items": null,
            "bottom": null,
            "_model_module": "@jupyter-widgets/base",
            "top": null,
            "grid_column": null,
            "overflow_y": null,
            "overflow_x": null,
            "grid_auto_flow": null,
            "grid_area": null,
            "grid_template_columns": null,
            "flex": null,
            "_model_name": "LayoutModel",
            "justify_items": null,
            "grid_row": null,
            "max_height": null,
            "align_content": null,
            "visibility": null,
            "align_self": null,
            "height": null,
            "min_height": null,
            "padding": null,
            "grid_auto_rows": null,
            "grid_gap": null,
            "max_width": null,
            "order": null,
            "_view_module_version": "1.2.0",
            "grid_template_areas": null,
            "object_position": null,
            "object_fit": null,
            "grid_auto_columns": null,
            "margin": null,
            "display": null,
            "left": null
          }
        },
        "b0e1c101737d418dbc6bf132dba8ba71": {
          "model_module": "@jupyter-widgets/controls",
          "model_name": "DescriptionStyleModel",
          "model_module_version": "1.5.0",
          "state": {
            "_view_name": "StyleView",
            "_model_name": "DescriptionStyleModel",
            "description_width": "",
            "_view_module": "@jupyter-widgets/base",
            "_model_module_version": "1.5.0",
            "_view_count": null,
            "_view_module_version": "1.2.0",
            "_model_module": "@jupyter-widgets/controls"
          }
        },
        "637261f82ae6420da4c1b2d8d04cc9e5": {
          "model_module": "@jupyter-widgets/base",
          "model_name": "LayoutModel",
          "model_module_version": "1.2.0",
          "state": {
            "_view_name": "LayoutView",
            "grid_template_rows": null,
            "right": null,
            "justify_content": null,
            "_view_module": "@jupyter-widgets/base",
            "overflow": null,
            "_model_module_version": "1.2.0",
            "_view_count": null,
            "flex_flow": null,
            "width": null,
            "min_width": null,
            "border": null,
            "align_items": null,
            "bottom": null,
            "_model_module": "@jupyter-widgets/base",
            "top": null,
            "grid_column": null,
            "overflow_y": null,
            "overflow_x": null,
            "grid_auto_flow": null,
            "grid_area": null,
            "grid_template_columns": null,
            "flex": null,
            "_model_name": "LayoutModel",
            "justify_items": null,
            "grid_row": null,
            "max_height": null,
            "align_content": null,
            "visibility": null,
            "align_self": null,
            "height": null,
            "min_height": null,
            "padding": null,
            "grid_auto_rows": null,
            "grid_gap": null,
            "max_width": null,
            "order": null,
            "_view_module_version": "1.2.0",
            "grid_template_areas": null,
            "object_position": null,
            "object_fit": null,
            "grid_auto_columns": null,
            "margin": null,
            "display": null,
            "left": null
          }
        },
        "ee083371ace440dd981b00a02e21de0d": {
          "model_module": "@jupyter-widgets/controls",
          "model_name": "HBoxModel",
          "model_module_version": "1.5.0",
          "state": {
            "_view_name": "HBoxView",
            "_dom_classes": [],
            "_model_name": "HBoxModel",
            "_view_module": "@jupyter-widgets/controls",
            "_model_module_version": "1.5.0",
            "_view_count": null,
            "_view_module_version": "1.5.0",
            "box_style": "",
            "layout": "IPY_MODEL_9b1076eb08164d5cb517850109ef3779",
            "_model_module": "@jupyter-widgets/controls",
            "children": [
              "IPY_MODEL_e38158cf3be546868d0b19b0416f938d",
              "IPY_MODEL_5dd5abb581d5432183450fa7cdac8df9",
              "IPY_MODEL_e282adbfbff24e5c850baf0d0b629ad6"
            ]
          }
        },
        "9b1076eb08164d5cb517850109ef3779": {
          "model_module": "@jupyter-widgets/base",
          "model_name": "LayoutModel",
          "model_module_version": "1.2.0",
          "state": {
            "_view_name": "LayoutView",
            "grid_template_rows": null,
            "right": null,
            "justify_content": null,
            "_view_module": "@jupyter-widgets/base",
            "overflow": null,
            "_model_module_version": "1.2.0",
            "_view_count": null,
            "flex_flow": null,
            "width": null,
            "min_width": null,
            "border": null,
            "align_items": null,
            "bottom": null,
            "_model_module": "@jupyter-widgets/base",
            "top": null,
            "grid_column": null,
            "overflow_y": null,
            "overflow_x": null,
            "grid_auto_flow": null,
            "grid_area": null,
            "grid_template_columns": null,
            "flex": null,
            "_model_name": "LayoutModel",
            "justify_items": null,
            "grid_row": null,
            "max_height": null,
            "align_content": null,
            "visibility": null,
            "align_self": null,
            "height": null,
            "min_height": null,
            "padding": null,
            "grid_auto_rows": null,
            "grid_gap": null,
            "max_width": null,
            "order": null,
            "_view_module_version": "1.2.0",
            "grid_template_areas": null,
            "object_position": null,
            "object_fit": null,
            "grid_auto_columns": null,
            "margin": null,
            "display": null,
            "left": null
          }
        },
        "e38158cf3be546868d0b19b0416f938d": {
          "model_module": "@jupyter-widgets/controls",
          "model_name": "HTMLModel",
          "model_module_version": "1.5.0",
          "state": {
            "_view_name": "HTMLView",
            "style": "IPY_MODEL_db34f22a79f2496a9490e2aa4ed57538",
            "_dom_classes": [],
            "description": "",
            "_model_name": "HTMLModel",
            "placeholder": "​",
            "_view_module": "@jupyter-widgets/controls",
            "_model_module_version": "1.5.0",
            "value": "100%",
            "_view_count": null,
            "_view_module_version": "1.5.0",
            "description_tooltip": null,
            "_model_module": "@jupyter-widgets/controls",
            "layout": "IPY_MODEL_79007bfd8a5248d5a746827fbd0aa88a"
          }
        },
        "5dd5abb581d5432183450fa7cdac8df9": {
          "model_module": "@jupyter-widgets/controls",
          "model_name": "FloatProgressModel",
          "model_module_version": "1.5.0",
          "state": {
            "_view_name": "ProgressView",
            "style": "IPY_MODEL_afb2d661eb9440e3a26a132f7c3a7cbc",
            "_dom_classes": [],
            "description": "",
            "_model_name": "FloatProgressModel",
            "bar_style": "success",
            "max": 313,
            "_view_module": "@jupyter-widgets/controls",
            "_model_module_version": "1.5.0",
            "value": 313,
            "_view_count": null,
            "_view_module_version": "1.5.0",
            "orientation": "horizontal",
            "min": 0,
            "description_tooltip": null,
            "_model_module": "@jupyter-widgets/controls",
            "layout": "IPY_MODEL_efcc38f40a7042f3ae1ba32be2b11326"
          }
        },
        "e282adbfbff24e5c850baf0d0b629ad6": {
          "model_module": "@jupyter-widgets/controls",
          "model_name": "HTMLModel",
          "model_module_version": "1.5.0",
          "state": {
            "_view_name": "HTMLView",
            "style": "IPY_MODEL_521de918b01447d5997602d4827903b4",
            "_dom_classes": [],
            "description": "",
            "_model_name": "HTMLModel",
            "placeholder": "​",
            "_view_module": "@jupyter-widgets/controls",
            "_model_module_version": "1.5.0",
            "value": " 313/313 [00:03&lt;00:00, 83.79it/s]",
            "_view_count": null,
            "_view_module_version": "1.5.0",
            "description_tooltip": null,
            "_model_module": "@jupyter-widgets/controls",
            "layout": "IPY_MODEL_ed57411adb454e0fad50071c54e0870b"
          }
        },
        "db34f22a79f2496a9490e2aa4ed57538": {
          "model_module": "@jupyter-widgets/controls",
          "model_name": "DescriptionStyleModel",
          "model_module_version": "1.5.0",
          "state": {
            "_view_name": "StyleView",
            "_model_name": "DescriptionStyleModel",
            "description_width": "",
            "_view_module": "@jupyter-widgets/base",
            "_model_module_version": "1.5.0",
            "_view_count": null,
            "_view_module_version": "1.2.0",
            "_model_module": "@jupyter-widgets/controls"
          }
        },
        "79007bfd8a5248d5a746827fbd0aa88a": {
          "model_module": "@jupyter-widgets/base",
          "model_name": "LayoutModel",
          "model_module_version": "1.2.0",
          "state": {
            "_view_name": "LayoutView",
            "grid_template_rows": null,
            "right": null,
            "justify_content": null,
            "_view_module": "@jupyter-widgets/base",
            "overflow": null,
            "_model_module_version": "1.2.0",
            "_view_count": null,
            "flex_flow": null,
            "width": null,
            "min_width": null,
            "border": null,
            "align_items": null,
            "bottom": null,
            "_model_module": "@jupyter-widgets/base",
            "top": null,
            "grid_column": null,
            "overflow_y": null,
            "overflow_x": null,
            "grid_auto_flow": null,
            "grid_area": null,
            "grid_template_columns": null,
            "flex": null,
            "_model_name": "LayoutModel",
            "justify_items": null,
            "grid_row": null,
            "max_height": null,
            "align_content": null,
            "visibility": null,
            "align_self": null,
            "height": null,
            "min_height": null,
            "padding": null,
            "grid_auto_rows": null,
            "grid_gap": null,
            "max_width": null,
            "order": null,
            "_view_module_version": "1.2.0",
            "grid_template_areas": null,
            "object_position": null,
            "object_fit": null,
            "grid_auto_columns": null,
            "margin": null,
            "display": null,
            "left": null
          }
        },
        "afb2d661eb9440e3a26a132f7c3a7cbc": {
          "model_module": "@jupyter-widgets/controls",
          "model_name": "ProgressStyleModel",
          "model_module_version": "1.5.0",
          "state": {
            "_view_name": "StyleView",
            "_model_name": "ProgressStyleModel",
            "description_width": "",
            "_view_module": "@jupyter-widgets/base",
            "_model_module_version": "1.5.0",
            "_view_count": null,
            "_view_module_version": "1.2.0",
            "bar_color": null,
            "_model_module": "@jupyter-widgets/controls"
          }
        },
        "efcc38f40a7042f3ae1ba32be2b11326": {
          "model_module": "@jupyter-widgets/base",
          "model_name": "LayoutModel",
          "model_module_version": "1.2.0",
          "state": {
            "_view_name": "LayoutView",
            "grid_template_rows": null,
            "right": null,
            "justify_content": null,
            "_view_module": "@jupyter-widgets/base",
            "overflow": null,
            "_model_module_version": "1.2.0",
            "_view_count": null,
            "flex_flow": null,
            "width": null,
            "min_width": null,
            "border": null,
            "align_items": null,
            "bottom": null,
            "_model_module": "@jupyter-widgets/base",
            "top": null,
            "grid_column": null,
            "overflow_y": null,
            "overflow_x": null,
            "grid_auto_flow": null,
            "grid_area": null,
            "grid_template_columns": null,
            "flex": null,
            "_model_name": "LayoutModel",
            "justify_items": null,
            "grid_row": null,
            "max_height": null,
            "align_content": null,
            "visibility": null,
            "align_self": null,
            "height": null,
            "min_height": null,
            "padding": null,
            "grid_auto_rows": null,
            "grid_gap": null,
            "max_width": null,
            "order": null,
            "_view_module_version": "1.2.0",
            "grid_template_areas": null,
            "object_position": null,
            "object_fit": null,
            "grid_auto_columns": null,
            "margin": null,
            "display": null,
            "left": null
          }
        },
        "521de918b01447d5997602d4827903b4": {
          "model_module": "@jupyter-widgets/controls",
          "model_name": "DescriptionStyleModel",
          "model_module_version": "1.5.0",
          "state": {
            "_view_name": "StyleView",
            "_model_name": "DescriptionStyleModel",
            "description_width": "",
            "_view_module": "@jupyter-widgets/base",
            "_model_module_version": "1.5.0",
            "_view_count": null,
            "_view_module_version": "1.2.0",
            "_model_module": "@jupyter-widgets/controls"
          }
        },
        "ed57411adb454e0fad50071c54e0870b": {
          "model_module": "@jupyter-widgets/base",
          "model_name": "LayoutModel",
          "model_module_version": "1.2.0",
          "state": {
            "_view_name": "LayoutView",
            "grid_template_rows": null,
            "right": null,
            "justify_content": null,
            "_view_module": "@jupyter-widgets/base",
            "overflow": null,
            "_model_module_version": "1.2.0",
            "_view_count": null,
            "flex_flow": null,
            "width": null,
            "min_width": null,
            "border": null,
            "align_items": null,
            "bottom": null,
            "_model_module": "@jupyter-widgets/base",
            "top": null,
            "grid_column": null,
            "overflow_y": null,
            "overflow_x": null,
            "grid_auto_flow": null,
            "grid_area": null,
            "grid_template_columns": null,
            "flex": null,
            "_model_name": "LayoutModel",
            "justify_items": null,
            "grid_row": null,
            "max_height": null,
            "align_content": null,
            "visibility": null,
            "align_self": null,
            "height": null,
            "min_height": null,
            "padding": null,
            "grid_auto_rows": null,
            "grid_gap": null,
            "max_width": null,
            "order": null,
            "_view_module_version": "1.2.0",
            "grid_template_areas": null,
            "object_position": null,
            "object_fit": null,
            "grid_auto_columns": null,
            "margin": null,
            "display": null,
            "left": null
          }
        },
        "0079f427e3814521b656dbe10e6b92fa": {
          "model_module": "@jupyter-widgets/controls",
          "model_name": "HBoxModel",
          "model_module_version": "1.5.0",
          "state": {
            "_view_name": "HBoxView",
            "_dom_classes": [],
            "_model_name": "HBoxModel",
            "_view_module": "@jupyter-widgets/controls",
            "_model_module_version": "1.5.0",
            "_view_count": null,
            "_view_module_version": "1.5.0",
            "box_style": "",
            "layout": "IPY_MODEL_f7d21275b54244a98629551b482f593b",
            "_model_module": "@jupyter-widgets/controls",
            "children": [
              "IPY_MODEL_4ab6343f78ec42a3baf12453184d1495",
              "IPY_MODEL_e4c548a968d045fc8d3d66972e2fcfea",
              "IPY_MODEL_78c368fc85e64f1a90ddab379ec5ab5f"
            ]
          }
        },
        "f7d21275b54244a98629551b482f593b": {
          "model_module": "@jupyter-widgets/base",
          "model_name": "LayoutModel",
          "model_module_version": "1.2.0",
          "state": {
            "_view_name": "LayoutView",
            "grid_template_rows": null,
            "right": null,
            "justify_content": null,
            "_view_module": "@jupyter-widgets/base",
            "overflow": null,
            "_model_module_version": "1.2.0",
            "_view_count": null,
            "flex_flow": null,
            "width": null,
            "min_width": null,
            "border": null,
            "align_items": null,
            "bottom": null,
            "_model_module": "@jupyter-widgets/base",
            "top": null,
            "grid_column": null,
            "overflow_y": null,
            "overflow_x": null,
            "grid_auto_flow": null,
            "grid_area": null,
            "grid_template_columns": null,
            "flex": null,
            "_model_name": "LayoutModel",
            "justify_items": null,
            "grid_row": null,
            "max_height": null,
            "align_content": null,
            "visibility": null,
            "align_self": null,
            "height": null,
            "min_height": null,
            "padding": null,
            "grid_auto_rows": null,
            "grid_gap": null,
            "max_width": null,
            "order": null,
            "_view_module_version": "1.2.0",
            "grid_template_areas": null,
            "object_position": null,
            "object_fit": null,
            "grid_auto_columns": null,
            "margin": null,
            "display": null,
            "left": null
          }
        },
        "4ab6343f78ec42a3baf12453184d1495": {
          "model_module": "@jupyter-widgets/controls",
          "model_name": "HTMLModel",
          "model_module_version": "1.5.0",
          "state": {
            "_view_name": "HTMLView",
            "style": "IPY_MODEL_855f7dd342a84d7983491d0cf5aabd69",
            "_dom_classes": [],
            "description": "",
            "_model_name": "HTMLModel",
            "placeholder": "​",
            "_view_module": "@jupyter-widgets/controls",
            "_model_module_version": "1.5.0",
            "value": "100%",
            "_view_count": null,
            "_view_module_version": "1.5.0",
            "description_tooltip": null,
            "_model_module": "@jupyter-widgets/controls",
            "layout": "IPY_MODEL_f0618b902c494246bb88f79efd246e20"
          }
        },
        "e4c548a968d045fc8d3d66972e2fcfea": {
          "model_module": "@jupyter-widgets/controls",
          "model_name": "FloatProgressModel",
          "model_module_version": "1.5.0",
          "state": {
            "_view_name": "ProgressView",
            "style": "IPY_MODEL_de5aea05f4364d5fb4aabe4f817331df",
            "_dom_classes": [],
            "description": "",
            "_model_name": "FloatProgressModel",
            "bar_style": "success",
            "max": 1563,
            "_view_module": "@jupyter-widgets/controls",
            "_model_module_version": "1.5.0",
            "value": 1563,
            "_view_count": null,
            "_view_module_version": "1.5.0",
            "orientation": "horizontal",
            "min": 0,
            "description_tooltip": null,
            "_model_module": "@jupyter-widgets/controls",
            "layout": "IPY_MODEL_a59bc0e989be420ea0ff5dedf0eb9912"
          }
        },
        "78c368fc85e64f1a90ddab379ec5ab5f": {
          "model_module": "@jupyter-widgets/controls",
          "model_name": "HTMLModel",
          "model_module_version": "1.5.0",
          "state": {
            "_view_name": "HTMLView",
            "style": "IPY_MODEL_7ca80c2a616243588d0637dbc8604e8f",
            "_dom_classes": [],
            "description": "",
            "_model_name": "HTMLModel",
            "placeholder": "​",
            "_view_module": "@jupyter-widgets/controls",
            "_model_module_version": "1.5.0",
            "value": " 1563/1563 [01:20&lt;00:00, 19.26it/s]",
            "_view_count": null,
            "_view_module_version": "1.5.0",
            "description_tooltip": null,
            "_model_module": "@jupyter-widgets/controls",
            "layout": "IPY_MODEL_a96ea3fe8dac469fa18681bcc681291b"
          }
        },
        "855f7dd342a84d7983491d0cf5aabd69": {
          "model_module": "@jupyter-widgets/controls",
          "model_name": "DescriptionStyleModel",
          "model_module_version": "1.5.0",
          "state": {
            "_view_name": "StyleView",
            "_model_name": "DescriptionStyleModel",
            "description_width": "",
            "_view_module": "@jupyter-widgets/base",
            "_model_module_version": "1.5.0",
            "_view_count": null,
            "_view_module_version": "1.2.0",
            "_model_module": "@jupyter-widgets/controls"
          }
        },
        "f0618b902c494246bb88f79efd246e20": {
          "model_module": "@jupyter-widgets/base",
          "model_name": "LayoutModel",
          "model_module_version": "1.2.0",
          "state": {
            "_view_name": "LayoutView",
            "grid_template_rows": null,
            "right": null,
            "justify_content": null,
            "_view_module": "@jupyter-widgets/base",
            "overflow": null,
            "_model_module_version": "1.2.0",
            "_view_count": null,
            "flex_flow": null,
            "width": null,
            "min_width": null,
            "border": null,
            "align_items": null,
            "bottom": null,
            "_model_module": "@jupyter-widgets/base",
            "top": null,
            "grid_column": null,
            "overflow_y": null,
            "overflow_x": null,
            "grid_auto_flow": null,
            "grid_area": null,
            "grid_template_columns": null,
            "flex": null,
            "_model_name": "LayoutModel",
            "justify_items": null,
            "grid_row": null,
            "max_height": null,
            "align_content": null,
            "visibility": null,
            "align_self": null,
            "height": null,
            "min_height": null,
            "padding": null,
            "grid_auto_rows": null,
            "grid_gap": null,
            "max_width": null,
            "order": null,
            "_view_module_version": "1.2.0",
            "grid_template_areas": null,
            "object_position": null,
            "object_fit": null,
            "grid_auto_columns": null,
            "margin": null,
            "display": null,
            "left": null
          }
        },
        "de5aea05f4364d5fb4aabe4f817331df": {
          "model_module": "@jupyter-widgets/controls",
          "model_name": "ProgressStyleModel",
          "model_module_version": "1.5.0",
          "state": {
            "_view_name": "StyleView",
            "_model_name": "ProgressStyleModel",
            "description_width": "",
            "_view_module": "@jupyter-widgets/base",
            "_model_module_version": "1.5.0",
            "_view_count": null,
            "_view_module_version": "1.2.0",
            "bar_color": null,
            "_model_module": "@jupyter-widgets/controls"
          }
        },
        "a59bc0e989be420ea0ff5dedf0eb9912": {
          "model_module": "@jupyter-widgets/base",
          "model_name": "LayoutModel",
          "model_module_version": "1.2.0",
          "state": {
            "_view_name": "LayoutView",
            "grid_template_rows": null,
            "right": null,
            "justify_content": null,
            "_view_module": "@jupyter-widgets/base",
            "overflow": null,
            "_model_module_version": "1.2.0",
            "_view_count": null,
            "flex_flow": null,
            "width": null,
            "min_width": null,
            "border": null,
            "align_items": null,
            "bottom": null,
            "_model_module": "@jupyter-widgets/base",
            "top": null,
            "grid_column": null,
            "overflow_y": null,
            "overflow_x": null,
            "grid_auto_flow": null,
            "grid_area": null,
            "grid_template_columns": null,
            "flex": null,
            "_model_name": "LayoutModel",
            "justify_items": null,
            "grid_row": null,
            "max_height": null,
            "align_content": null,
            "visibility": null,
            "align_self": null,
            "height": null,
            "min_height": null,
            "padding": null,
            "grid_auto_rows": null,
            "grid_gap": null,
            "max_width": null,
            "order": null,
            "_view_module_version": "1.2.0",
            "grid_template_areas": null,
            "object_position": null,
            "object_fit": null,
            "grid_auto_columns": null,
            "margin": null,
            "display": null,
            "left": null
          }
        },
        "7ca80c2a616243588d0637dbc8604e8f": {
          "model_module": "@jupyter-widgets/controls",
          "model_name": "DescriptionStyleModel",
          "model_module_version": "1.5.0",
          "state": {
            "_view_name": "StyleView",
            "_model_name": "DescriptionStyleModel",
            "description_width": "",
            "_view_module": "@jupyter-widgets/base",
            "_model_module_version": "1.5.0",
            "_view_count": null,
            "_view_module_version": "1.2.0",
            "_model_module": "@jupyter-widgets/controls"
          }
        },
        "a96ea3fe8dac469fa18681bcc681291b": {
          "model_module": "@jupyter-widgets/base",
          "model_name": "LayoutModel",
          "model_module_version": "1.2.0",
          "state": {
            "_view_name": "LayoutView",
            "grid_template_rows": null,
            "right": null,
            "justify_content": null,
            "_view_module": "@jupyter-widgets/base",
            "overflow": null,
            "_model_module_version": "1.2.0",
            "_view_count": null,
            "flex_flow": null,
            "width": null,
            "min_width": null,
            "border": null,
            "align_items": null,
            "bottom": null,
            "_model_module": "@jupyter-widgets/base",
            "top": null,
            "grid_column": null,
            "overflow_y": null,
            "overflow_x": null,
            "grid_auto_flow": null,
            "grid_area": null,
            "grid_template_columns": null,
            "flex": null,
            "_model_name": "LayoutModel",
            "justify_items": null,
            "grid_row": null,
            "max_height": null,
            "align_content": null,
            "visibility": null,
            "align_self": null,
            "height": null,
            "min_height": null,
            "padding": null,
            "grid_auto_rows": null,
            "grid_gap": null,
            "max_width": null,
            "order": null,
            "_view_module_version": "1.2.0",
            "grid_template_areas": null,
            "object_position": null,
            "object_fit": null,
            "grid_auto_columns": null,
            "margin": null,
            "display": null,
            "left": null
          }
        },
        "2e531c9ba8a74fddb969134ce2e7fa30": {
          "model_module": "@jupyter-widgets/controls",
          "model_name": "HBoxModel",
          "model_module_version": "1.5.0",
          "state": {
            "_view_name": "HBoxView",
            "_dom_classes": [],
            "_model_name": "HBoxModel",
            "_view_module": "@jupyter-widgets/controls",
            "_model_module_version": "1.5.0",
            "_view_count": null,
            "_view_module_version": "1.5.0",
            "box_style": "",
            "layout": "IPY_MODEL_548da94a2a074ab19a0077b082554a5d",
            "_model_module": "@jupyter-widgets/controls",
            "children": [
              "IPY_MODEL_6dcfc7d9aa2544a190cae8cda0a18d52",
              "IPY_MODEL_43306b5a7d8b48bc8f6dbd631b5a08ac",
              "IPY_MODEL_2c8ddd9e2f5a45caa8bc19d120806987"
            ]
          }
        },
        "548da94a2a074ab19a0077b082554a5d": {
          "model_module": "@jupyter-widgets/base",
          "model_name": "LayoutModel",
          "model_module_version": "1.2.0",
          "state": {
            "_view_name": "LayoutView",
            "grid_template_rows": null,
            "right": null,
            "justify_content": null,
            "_view_module": "@jupyter-widgets/base",
            "overflow": null,
            "_model_module_version": "1.2.0",
            "_view_count": null,
            "flex_flow": null,
            "width": null,
            "min_width": null,
            "border": null,
            "align_items": null,
            "bottom": null,
            "_model_module": "@jupyter-widgets/base",
            "top": null,
            "grid_column": null,
            "overflow_y": null,
            "overflow_x": null,
            "grid_auto_flow": null,
            "grid_area": null,
            "grid_template_columns": null,
            "flex": null,
            "_model_name": "LayoutModel",
            "justify_items": null,
            "grid_row": null,
            "max_height": null,
            "align_content": null,
            "visibility": null,
            "align_self": null,
            "height": null,
            "min_height": null,
            "padding": null,
            "grid_auto_rows": null,
            "grid_gap": null,
            "max_width": null,
            "order": null,
            "_view_module_version": "1.2.0",
            "grid_template_areas": null,
            "object_position": null,
            "object_fit": null,
            "grid_auto_columns": null,
            "margin": null,
            "display": null,
            "left": null
          }
        },
        "6dcfc7d9aa2544a190cae8cda0a18d52": {
          "model_module": "@jupyter-widgets/controls",
          "model_name": "HTMLModel",
          "model_module_version": "1.5.0",
          "state": {
            "_view_name": "HTMLView",
            "style": "IPY_MODEL_e002a6ca7eba4061ba56f7d7642265d0",
            "_dom_classes": [],
            "description": "",
            "_model_name": "HTMLModel",
            "placeholder": "​",
            "_view_module": "@jupyter-widgets/controls",
            "_model_module_version": "1.5.0",
            "value": "100%",
            "_view_count": null,
            "_view_module_version": "1.5.0",
            "description_tooltip": null,
            "_model_module": "@jupyter-widgets/controls",
            "layout": "IPY_MODEL_f49229e5ebd1422888a973b6c57957c7"
          }
        },
        "43306b5a7d8b48bc8f6dbd631b5a08ac": {
          "model_module": "@jupyter-widgets/controls",
          "model_name": "FloatProgressModel",
          "model_module_version": "1.5.0",
          "state": {
            "_view_name": "ProgressView",
            "style": "IPY_MODEL_2a8b3e5765f2431fb2235c0d182f19ad",
            "_dom_classes": [],
            "description": "",
            "_model_name": "FloatProgressModel",
            "bar_style": "success",
            "max": 313,
            "_view_module": "@jupyter-widgets/controls",
            "_model_module_version": "1.5.0",
            "value": 313,
            "_view_count": null,
            "_view_module_version": "1.5.0",
            "orientation": "horizontal",
            "min": 0,
            "description_tooltip": null,
            "_model_module": "@jupyter-widgets/controls",
            "layout": "IPY_MODEL_043a5fa87d3f44c3aaee734fa6555a3e"
          }
        },
        "2c8ddd9e2f5a45caa8bc19d120806987": {
          "model_module": "@jupyter-widgets/controls",
          "model_name": "HTMLModel",
          "model_module_version": "1.5.0",
          "state": {
            "_view_name": "HTMLView",
            "style": "IPY_MODEL_00218a17b6b74b03bd8df24da85ba32a",
            "_dom_classes": [],
            "description": "",
            "_model_name": "HTMLModel",
            "placeholder": "​",
            "_view_module": "@jupyter-widgets/controls",
            "_model_module_version": "1.5.0",
            "value": " 313/313 [00:03&lt;00:00, 84.65it/s]",
            "_view_count": null,
            "_view_module_version": "1.5.0",
            "description_tooltip": null,
            "_model_module": "@jupyter-widgets/controls",
            "layout": "IPY_MODEL_51659667063948b486d195e71f98ef6e"
          }
        },
        "e002a6ca7eba4061ba56f7d7642265d0": {
          "model_module": "@jupyter-widgets/controls",
          "model_name": "DescriptionStyleModel",
          "model_module_version": "1.5.0",
          "state": {
            "_view_name": "StyleView",
            "_model_name": "DescriptionStyleModel",
            "description_width": "",
            "_view_module": "@jupyter-widgets/base",
            "_model_module_version": "1.5.0",
            "_view_count": null,
            "_view_module_version": "1.2.0",
            "_model_module": "@jupyter-widgets/controls"
          }
        },
        "f49229e5ebd1422888a973b6c57957c7": {
          "model_module": "@jupyter-widgets/base",
          "model_name": "LayoutModel",
          "model_module_version": "1.2.0",
          "state": {
            "_view_name": "LayoutView",
            "grid_template_rows": null,
            "right": null,
            "justify_content": null,
            "_view_module": "@jupyter-widgets/base",
            "overflow": null,
            "_model_module_version": "1.2.0",
            "_view_count": null,
            "flex_flow": null,
            "width": null,
            "min_width": null,
            "border": null,
            "align_items": null,
            "bottom": null,
            "_model_module": "@jupyter-widgets/base",
            "top": null,
            "grid_column": null,
            "overflow_y": null,
            "overflow_x": null,
            "grid_auto_flow": null,
            "grid_area": null,
            "grid_template_columns": null,
            "flex": null,
            "_model_name": "LayoutModel",
            "justify_items": null,
            "grid_row": null,
            "max_height": null,
            "align_content": null,
            "visibility": null,
            "align_self": null,
            "height": null,
            "min_height": null,
            "padding": null,
            "grid_auto_rows": null,
            "grid_gap": null,
            "max_width": null,
            "order": null,
            "_view_module_version": "1.2.0",
            "grid_template_areas": null,
            "object_position": null,
            "object_fit": null,
            "grid_auto_columns": null,
            "margin": null,
            "display": null,
            "left": null
          }
        },
        "2a8b3e5765f2431fb2235c0d182f19ad": {
          "model_module": "@jupyter-widgets/controls",
          "model_name": "ProgressStyleModel",
          "model_module_version": "1.5.0",
          "state": {
            "_view_name": "StyleView",
            "_model_name": "ProgressStyleModel",
            "description_width": "",
            "_view_module": "@jupyter-widgets/base",
            "_model_module_version": "1.5.0",
            "_view_count": null,
            "_view_module_version": "1.2.0",
            "bar_color": null,
            "_model_module": "@jupyter-widgets/controls"
          }
        },
        "043a5fa87d3f44c3aaee734fa6555a3e": {
          "model_module": "@jupyter-widgets/base",
          "model_name": "LayoutModel",
          "model_module_version": "1.2.0",
          "state": {
            "_view_name": "LayoutView",
            "grid_template_rows": null,
            "right": null,
            "justify_content": null,
            "_view_module": "@jupyter-widgets/base",
            "overflow": null,
            "_model_module_version": "1.2.0",
            "_view_count": null,
            "flex_flow": null,
            "width": null,
            "min_width": null,
            "border": null,
            "align_items": null,
            "bottom": null,
            "_model_module": "@jupyter-widgets/base",
            "top": null,
            "grid_column": null,
            "overflow_y": null,
            "overflow_x": null,
            "grid_auto_flow": null,
            "grid_area": null,
            "grid_template_columns": null,
            "flex": null,
            "_model_name": "LayoutModel",
            "justify_items": null,
            "grid_row": null,
            "max_height": null,
            "align_content": null,
            "visibility": null,
            "align_self": null,
            "height": null,
            "min_height": null,
            "padding": null,
            "grid_auto_rows": null,
            "grid_gap": null,
            "max_width": null,
            "order": null,
            "_view_module_version": "1.2.0",
            "grid_template_areas": null,
            "object_position": null,
            "object_fit": null,
            "grid_auto_columns": null,
            "margin": null,
            "display": null,
            "left": null
          }
        },
        "00218a17b6b74b03bd8df24da85ba32a": {
          "model_module": "@jupyter-widgets/controls",
          "model_name": "DescriptionStyleModel",
          "model_module_version": "1.5.0",
          "state": {
            "_view_name": "StyleView",
            "_model_name": "DescriptionStyleModel",
            "description_width": "",
            "_view_module": "@jupyter-widgets/base",
            "_model_module_version": "1.5.0",
            "_view_count": null,
            "_view_module_version": "1.2.0",
            "_model_module": "@jupyter-widgets/controls"
          }
        },
        "51659667063948b486d195e71f98ef6e": {
          "model_module": "@jupyter-widgets/base",
          "model_name": "LayoutModel",
          "model_module_version": "1.2.0",
          "state": {
            "_view_name": "LayoutView",
            "grid_template_rows": null,
            "right": null,
            "justify_content": null,
            "_view_module": "@jupyter-widgets/base",
            "overflow": null,
            "_model_module_version": "1.2.0",
            "_view_count": null,
            "flex_flow": null,
            "width": null,
            "min_width": null,
            "border": null,
            "align_items": null,
            "bottom": null,
            "_model_module": "@jupyter-widgets/base",
            "top": null,
            "grid_column": null,
            "overflow_y": null,
            "overflow_x": null,
            "grid_auto_flow": null,
            "grid_area": null,
            "grid_template_columns": null,
            "flex": null,
            "_model_name": "LayoutModel",
            "justify_items": null,
            "grid_row": null,
            "max_height": null,
            "align_content": null,
            "visibility": null,
            "align_self": null,
            "height": null,
            "min_height": null,
            "padding": null,
            "grid_auto_rows": null,
            "grid_gap": null,
            "max_width": null,
            "order": null,
            "_view_module_version": "1.2.0",
            "grid_template_areas": null,
            "object_position": null,
            "object_fit": null,
            "grid_auto_columns": null,
            "margin": null,
            "display": null,
            "left": null
          }
        },
        "97c743d6dd4c46bb9028050209612431": {
          "model_module": "@jupyter-widgets/controls",
          "model_name": "HBoxModel",
          "model_module_version": "1.5.0",
          "state": {
            "_view_name": "HBoxView",
            "_dom_classes": [],
            "_model_name": "HBoxModel",
            "_view_module": "@jupyter-widgets/controls",
            "_model_module_version": "1.5.0",
            "_view_count": null,
            "_view_module_version": "1.5.0",
            "box_style": "",
            "layout": "IPY_MODEL_c5157c64373f45ce89b60a8c6f32554a",
            "_model_module": "@jupyter-widgets/controls",
            "children": [
              "IPY_MODEL_4e3474b064a04938a5bc7ae39700b130",
              "IPY_MODEL_ebeedc7163cc4d33bcbea2997a9f7e6b",
              "IPY_MODEL_a63c31cfa6114d838e1c3a33544d4312"
            ]
          }
        },
        "c5157c64373f45ce89b60a8c6f32554a": {
          "model_module": "@jupyter-widgets/base",
          "model_name": "LayoutModel",
          "model_module_version": "1.2.0",
          "state": {
            "_view_name": "LayoutView",
            "grid_template_rows": null,
            "right": null,
            "justify_content": null,
            "_view_module": "@jupyter-widgets/base",
            "overflow": null,
            "_model_module_version": "1.2.0",
            "_view_count": null,
            "flex_flow": null,
            "width": null,
            "min_width": null,
            "border": null,
            "align_items": null,
            "bottom": null,
            "_model_module": "@jupyter-widgets/base",
            "top": null,
            "grid_column": null,
            "overflow_y": null,
            "overflow_x": null,
            "grid_auto_flow": null,
            "grid_area": null,
            "grid_template_columns": null,
            "flex": null,
            "_model_name": "LayoutModel",
            "justify_items": null,
            "grid_row": null,
            "max_height": null,
            "align_content": null,
            "visibility": null,
            "align_self": null,
            "height": null,
            "min_height": null,
            "padding": null,
            "grid_auto_rows": null,
            "grid_gap": null,
            "max_width": null,
            "order": null,
            "_view_module_version": "1.2.0",
            "grid_template_areas": null,
            "object_position": null,
            "object_fit": null,
            "grid_auto_columns": null,
            "margin": null,
            "display": null,
            "left": null
          }
        },
        "4e3474b064a04938a5bc7ae39700b130": {
          "model_module": "@jupyter-widgets/controls",
          "model_name": "HTMLModel",
          "model_module_version": "1.5.0",
          "state": {
            "_view_name": "HTMLView",
            "style": "IPY_MODEL_78a110af145b45f8b92ffd617ddc4eee",
            "_dom_classes": [],
            "description": "",
            "_model_name": "HTMLModel",
            "placeholder": "​",
            "_view_module": "@jupyter-widgets/controls",
            "_model_module_version": "1.5.0",
            "value": "100%",
            "_view_count": null,
            "_view_module_version": "1.5.0",
            "description_tooltip": null,
            "_model_module": "@jupyter-widgets/controls",
            "layout": "IPY_MODEL_e82d9d9ac8b4479384fb69644479cb36"
          }
        },
        "ebeedc7163cc4d33bcbea2997a9f7e6b": {
          "model_module": "@jupyter-widgets/controls",
          "model_name": "FloatProgressModel",
          "model_module_version": "1.5.0",
          "state": {
            "_view_name": "ProgressView",
            "style": "IPY_MODEL_a1cdd37e596048b391d1bd1cf6d2d4b6",
            "_dom_classes": [],
            "description": "",
            "_model_name": "FloatProgressModel",
            "bar_style": "success",
            "max": 1563,
            "_view_module": "@jupyter-widgets/controls",
            "_model_module_version": "1.5.0",
            "value": 1563,
            "_view_count": null,
            "_view_module_version": "1.5.0",
            "orientation": "horizontal",
            "min": 0,
            "description_tooltip": null,
            "_model_module": "@jupyter-widgets/controls",
            "layout": "IPY_MODEL_c3b4c76fb0dd462883ae5ea2c21b90df"
          }
        },
        "a63c31cfa6114d838e1c3a33544d4312": {
          "model_module": "@jupyter-widgets/controls",
          "model_name": "HTMLModel",
          "model_module_version": "1.5.0",
          "state": {
            "_view_name": "HTMLView",
            "style": "IPY_MODEL_8cca1fe347cf454a8085bbbf73ad900c",
            "_dom_classes": [],
            "description": "",
            "_model_name": "HTMLModel",
            "placeholder": "​",
            "_view_module": "@jupyter-widgets/controls",
            "_model_module_version": "1.5.0",
            "value": " 1563/1563 [01:19&lt;00:00, 18.73it/s]",
            "_view_count": null,
            "_view_module_version": "1.5.0",
            "description_tooltip": null,
            "_model_module": "@jupyter-widgets/controls",
            "layout": "IPY_MODEL_f46ebf4edb1d4e97bfa20958a07ae730"
          }
        },
        "78a110af145b45f8b92ffd617ddc4eee": {
          "model_module": "@jupyter-widgets/controls",
          "model_name": "DescriptionStyleModel",
          "model_module_version": "1.5.0",
          "state": {
            "_view_name": "StyleView",
            "_model_name": "DescriptionStyleModel",
            "description_width": "",
            "_view_module": "@jupyter-widgets/base",
            "_model_module_version": "1.5.0",
            "_view_count": null,
            "_view_module_version": "1.2.0",
            "_model_module": "@jupyter-widgets/controls"
          }
        },
        "e82d9d9ac8b4479384fb69644479cb36": {
          "model_module": "@jupyter-widgets/base",
          "model_name": "LayoutModel",
          "model_module_version": "1.2.0",
          "state": {
            "_view_name": "LayoutView",
            "grid_template_rows": null,
            "right": null,
            "justify_content": null,
            "_view_module": "@jupyter-widgets/base",
            "overflow": null,
            "_model_module_version": "1.2.0",
            "_view_count": null,
            "flex_flow": null,
            "width": null,
            "min_width": null,
            "border": null,
            "align_items": null,
            "bottom": null,
            "_model_module": "@jupyter-widgets/base",
            "top": null,
            "grid_column": null,
            "overflow_y": null,
            "overflow_x": null,
            "grid_auto_flow": null,
            "grid_area": null,
            "grid_template_columns": null,
            "flex": null,
            "_model_name": "LayoutModel",
            "justify_items": null,
            "grid_row": null,
            "max_height": null,
            "align_content": null,
            "visibility": null,
            "align_self": null,
            "height": null,
            "min_height": null,
            "padding": null,
            "grid_auto_rows": null,
            "grid_gap": null,
            "max_width": null,
            "order": null,
            "_view_module_version": "1.2.0",
            "grid_template_areas": null,
            "object_position": null,
            "object_fit": null,
            "grid_auto_columns": null,
            "margin": null,
            "display": null,
            "left": null
          }
        },
        "a1cdd37e596048b391d1bd1cf6d2d4b6": {
          "model_module": "@jupyter-widgets/controls",
          "model_name": "ProgressStyleModel",
          "model_module_version": "1.5.0",
          "state": {
            "_view_name": "StyleView",
            "_model_name": "ProgressStyleModel",
            "description_width": "",
            "_view_module": "@jupyter-widgets/base",
            "_model_module_version": "1.5.0",
            "_view_count": null,
            "_view_module_version": "1.2.0",
            "bar_color": null,
            "_model_module": "@jupyter-widgets/controls"
          }
        },
        "c3b4c76fb0dd462883ae5ea2c21b90df": {
          "model_module": "@jupyter-widgets/base",
          "model_name": "LayoutModel",
          "model_module_version": "1.2.0",
          "state": {
            "_view_name": "LayoutView",
            "grid_template_rows": null,
            "right": null,
            "justify_content": null,
            "_view_module": "@jupyter-widgets/base",
            "overflow": null,
            "_model_module_version": "1.2.0",
            "_view_count": null,
            "flex_flow": null,
            "width": null,
            "min_width": null,
            "border": null,
            "align_items": null,
            "bottom": null,
            "_model_module": "@jupyter-widgets/base",
            "top": null,
            "grid_column": null,
            "overflow_y": null,
            "overflow_x": null,
            "grid_auto_flow": null,
            "grid_area": null,
            "grid_template_columns": null,
            "flex": null,
            "_model_name": "LayoutModel",
            "justify_items": null,
            "grid_row": null,
            "max_height": null,
            "align_content": null,
            "visibility": null,
            "align_self": null,
            "height": null,
            "min_height": null,
            "padding": null,
            "grid_auto_rows": null,
            "grid_gap": null,
            "max_width": null,
            "order": null,
            "_view_module_version": "1.2.0",
            "grid_template_areas": null,
            "object_position": null,
            "object_fit": null,
            "grid_auto_columns": null,
            "margin": null,
            "display": null,
            "left": null
          }
        },
        "8cca1fe347cf454a8085bbbf73ad900c": {
          "model_module": "@jupyter-widgets/controls",
          "model_name": "DescriptionStyleModel",
          "model_module_version": "1.5.0",
          "state": {
            "_view_name": "StyleView",
            "_model_name": "DescriptionStyleModel",
            "description_width": "",
            "_view_module": "@jupyter-widgets/base",
            "_model_module_version": "1.5.0",
            "_view_count": null,
            "_view_module_version": "1.2.0",
            "_model_module": "@jupyter-widgets/controls"
          }
        },
        "f46ebf4edb1d4e97bfa20958a07ae730": {
          "model_module": "@jupyter-widgets/base",
          "model_name": "LayoutModel",
          "model_module_version": "1.2.0",
          "state": {
            "_view_name": "LayoutView",
            "grid_template_rows": null,
            "right": null,
            "justify_content": null,
            "_view_module": "@jupyter-widgets/base",
            "overflow": null,
            "_model_module_version": "1.2.0",
            "_view_count": null,
            "flex_flow": null,
            "width": null,
            "min_width": null,
            "border": null,
            "align_items": null,
            "bottom": null,
            "_model_module": "@jupyter-widgets/base",
            "top": null,
            "grid_column": null,
            "overflow_y": null,
            "overflow_x": null,
            "grid_auto_flow": null,
            "grid_area": null,
            "grid_template_columns": null,
            "flex": null,
            "_model_name": "LayoutModel",
            "justify_items": null,
            "grid_row": null,
            "max_height": null,
            "align_content": null,
            "visibility": null,
            "align_self": null,
            "height": null,
            "min_height": null,
            "padding": null,
            "grid_auto_rows": null,
            "grid_gap": null,
            "max_width": null,
            "order": null,
            "_view_module_version": "1.2.0",
            "grid_template_areas": null,
            "object_position": null,
            "object_fit": null,
            "grid_auto_columns": null,
            "margin": null,
            "display": null,
            "left": null
          }
        },
        "f3c5ccccec1743d1b02ae5bc7606b27b": {
          "model_module": "@jupyter-widgets/controls",
          "model_name": "HBoxModel",
          "model_module_version": "1.5.0",
          "state": {
            "_view_name": "HBoxView",
            "_dom_classes": [],
            "_model_name": "HBoxModel",
            "_view_module": "@jupyter-widgets/controls",
            "_model_module_version": "1.5.0",
            "_view_count": null,
            "_view_module_version": "1.5.0",
            "box_style": "",
            "layout": "IPY_MODEL_6882512f2c924d14a3a4e80d141593ba",
            "_model_module": "@jupyter-widgets/controls",
            "children": [
              "IPY_MODEL_0115ea2e590f40c29db77b215eaa6e6d",
              "IPY_MODEL_c113455f91fe45cb8d965707d3b2cb25",
              "IPY_MODEL_898616b8fa684fc1b0ee4ae456f3f99a"
            ]
          }
        },
        "6882512f2c924d14a3a4e80d141593ba": {
          "model_module": "@jupyter-widgets/base",
          "model_name": "LayoutModel",
          "model_module_version": "1.2.0",
          "state": {
            "_view_name": "LayoutView",
            "grid_template_rows": null,
            "right": null,
            "justify_content": null,
            "_view_module": "@jupyter-widgets/base",
            "overflow": null,
            "_model_module_version": "1.2.0",
            "_view_count": null,
            "flex_flow": null,
            "width": null,
            "min_width": null,
            "border": null,
            "align_items": null,
            "bottom": null,
            "_model_module": "@jupyter-widgets/base",
            "top": null,
            "grid_column": null,
            "overflow_y": null,
            "overflow_x": null,
            "grid_auto_flow": null,
            "grid_area": null,
            "grid_template_columns": null,
            "flex": null,
            "_model_name": "LayoutModel",
            "justify_items": null,
            "grid_row": null,
            "max_height": null,
            "align_content": null,
            "visibility": null,
            "align_self": null,
            "height": null,
            "min_height": null,
            "padding": null,
            "grid_auto_rows": null,
            "grid_gap": null,
            "max_width": null,
            "order": null,
            "_view_module_version": "1.2.0",
            "grid_template_areas": null,
            "object_position": null,
            "object_fit": null,
            "grid_auto_columns": null,
            "margin": null,
            "display": null,
            "left": null
          }
        },
        "0115ea2e590f40c29db77b215eaa6e6d": {
          "model_module": "@jupyter-widgets/controls",
          "model_name": "HTMLModel",
          "model_module_version": "1.5.0",
          "state": {
            "_view_name": "HTMLView",
            "style": "IPY_MODEL_9efab4bf5ae147fa8531cd7b40fd20c3",
            "_dom_classes": [],
            "description": "",
            "_model_name": "HTMLModel",
            "placeholder": "​",
            "_view_module": "@jupyter-widgets/controls",
            "_model_module_version": "1.5.0",
            "value": "100%",
            "_view_count": null,
            "_view_module_version": "1.5.0",
            "description_tooltip": null,
            "_model_module": "@jupyter-widgets/controls",
            "layout": "IPY_MODEL_6542a7187f49479a85140cd7823d1116"
          }
        },
        "c113455f91fe45cb8d965707d3b2cb25": {
          "model_module": "@jupyter-widgets/controls",
          "model_name": "FloatProgressModel",
          "model_module_version": "1.5.0",
          "state": {
            "_view_name": "ProgressView",
            "style": "IPY_MODEL_64b604b5d84d46e3974c02b749097b2a",
            "_dom_classes": [],
            "description": "",
            "_model_name": "FloatProgressModel",
            "bar_style": "success",
            "max": 313,
            "_view_module": "@jupyter-widgets/controls",
            "_model_module_version": "1.5.0",
            "value": 313,
            "_view_count": null,
            "_view_module_version": "1.5.0",
            "orientation": "horizontal",
            "min": 0,
            "description_tooltip": null,
            "_model_module": "@jupyter-widgets/controls",
            "layout": "IPY_MODEL_d01a5c8b511e4788bc8e54ade54ceb2d"
          }
        },
        "898616b8fa684fc1b0ee4ae456f3f99a": {
          "model_module": "@jupyter-widgets/controls",
          "model_name": "HTMLModel",
          "model_module_version": "1.5.0",
          "state": {
            "_view_name": "HTMLView",
            "style": "IPY_MODEL_7bf549e07bb8460b8582a8c31f24d121",
            "_dom_classes": [],
            "description": "",
            "_model_name": "HTMLModel",
            "placeholder": "​",
            "_view_module": "@jupyter-widgets/controls",
            "_model_module_version": "1.5.0",
            "value": " 313/313 [00:03&lt;00:00, 84.99it/s]",
            "_view_count": null,
            "_view_module_version": "1.5.0",
            "description_tooltip": null,
            "_model_module": "@jupyter-widgets/controls",
            "layout": "IPY_MODEL_037b9aa076414049ac09099376e1ffe3"
          }
        },
        "9efab4bf5ae147fa8531cd7b40fd20c3": {
          "model_module": "@jupyter-widgets/controls",
          "model_name": "DescriptionStyleModel",
          "model_module_version": "1.5.0",
          "state": {
            "_view_name": "StyleView",
            "_model_name": "DescriptionStyleModel",
            "description_width": "",
            "_view_module": "@jupyter-widgets/base",
            "_model_module_version": "1.5.0",
            "_view_count": null,
            "_view_module_version": "1.2.0",
            "_model_module": "@jupyter-widgets/controls"
          }
        },
        "6542a7187f49479a85140cd7823d1116": {
          "model_module": "@jupyter-widgets/base",
          "model_name": "LayoutModel",
          "model_module_version": "1.2.0",
          "state": {
            "_view_name": "LayoutView",
            "grid_template_rows": null,
            "right": null,
            "justify_content": null,
            "_view_module": "@jupyter-widgets/base",
            "overflow": null,
            "_model_module_version": "1.2.0",
            "_view_count": null,
            "flex_flow": null,
            "width": null,
            "min_width": null,
            "border": null,
            "align_items": null,
            "bottom": null,
            "_model_module": "@jupyter-widgets/base",
            "top": null,
            "grid_column": null,
            "overflow_y": null,
            "overflow_x": null,
            "grid_auto_flow": null,
            "grid_area": null,
            "grid_template_columns": null,
            "flex": null,
            "_model_name": "LayoutModel",
            "justify_items": null,
            "grid_row": null,
            "max_height": null,
            "align_content": null,
            "visibility": null,
            "align_self": null,
            "height": null,
            "min_height": null,
            "padding": null,
            "grid_auto_rows": null,
            "grid_gap": null,
            "max_width": null,
            "order": null,
            "_view_module_version": "1.2.0",
            "grid_template_areas": null,
            "object_position": null,
            "object_fit": null,
            "grid_auto_columns": null,
            "margin": null,
            "display": null,
            "left": null
          }
        },
        "64b604b5d84d46e3974c02b749097b2a": {
          "model_module": "@jupyter-widgets/controls",
          "model_name": "ProgressStyleModel",
          "model_module_version": "1.5.0",
          "state": {
            "_view_name": "StyleView",
            "_model_name": "ProgressStyleModel",
            "description_width": "",
            "_view_module": "@jupyter-widgets/base",
            "_model_module_version": "1.5.0",
            "_view_count": null,
            "_view_module_version": "1.2.0",
            "bar_color": null,
            "_model_module": "@jupyter-widgets/controls"
          }
        },
        "d01a5c8b511e4788bc8e54ade54ceb2d": {
          "model_module": "@jupyter-widgets/base",
          "model_name": "LayoutModel",
          "model_module_version": "1.2.0",
          "state": {
            "_view_name": "LayoutView",
            "grid_template_rows": null,
            "right": null,
            "justify_content": null,
            "_view_module": "@jupyter-widgets/base",
            "overflow": null,
            "_model_module_version": "1.2.0",
            "_view_count": null,
            "flex_flow": null,
            "width": null,
            "min_width": null,
            "border": null,
            "align_items": null,
            "bottom": null,
            "_model_module": "@jupyter-widgets/base",
            "top": null,
            "grid_column": null,
            "overflow_y": null,
            "overflow_x": null,
            "grid_auto_flow": null,
            "grid_area": null,
            "grid_template_columns": null,
            "flex": null,
            "_model_name": "LayoutModel",
            "justify_items": null,
            "grid_row": null,
            "max_height": null,
            "align_content": null,
            "visibility": null,
            "align_self": null,
            "height": null,
            "min_height": null,
            "padding": null,
            "grid_auto_rows": null,
            "grid_gap": null,
            "max_width": null,
            "order": null,
            "_view_module_version": "1.2.0",
            "grid_template_areas": null,
            "object_position": null,
            "object_fit": null,
            "grid_auto_columns": null,
            "margin": null,
            "display": null,
            "left": null
          }
        },
        "7bf549e07bb8460b8582a8c31f24d121": {
          "model_module": "@jupyter-widgets/controls",
          "model_name": "DescriptionStyleModel",
          "model_module_version": "1.5.0",
          "state": {
            "_view_name": "StyleView",
            "_model_name": "DescriptionStyleModel",
            "description_width": "",
            "_view_module": "@jupyter-widgets/base",
            "_model_module_version": "1.5.0",
            "_view_count": null,
            "_view_module_version": "1.2.0",
            "_model_module": "@jupyter-widgets/controls"
          }
        },
        "037b9aa076414049ac09099376e1ffe3": {
          "model_module": "@jupyter-widgets/base",
          "model_name": "LayoutModel",
          "model_module_version": "1.2.0",
          "state": {
            "_view_name": "LayoutView",
            "grid_template_rows": null,
            "right": null,
            "justify_content": null,
            "_view_module": "@jupyter-widgets/base",
            "overflow": null,
            "_model_module_version": "1.2.0",
            "_view_count": null,
            "flex_flow": null,
            "width": null,
            "min_width": null,
            "border": null,
            "align_items": null,
            "bottom": null,
            "_model_module": "@jupyter-widgets/base",
            "top": null,
            "grid_column": null,
            "overflow_y": null,
            "overflow_x": null,
            "grid_auto_flow": null,
            "grid_area": null,
            "grid_template_columns": null,
            "flex": null,
            "_model_name": "LayoutModel",
            "justify_items": null,
            "grid_row": null,
            "max_height": null,
            "align_content": null,
            "visibility": null,
            "align_self": null,
            "height": null,
            "min_height": null,
            "padding": null,
            "grid_auto_rows": null,
            "grid_gap": null,
            "max_width": null,
            "order": null,
            "_view_module_version": "1.2.0",
            "grid_template_areas": null,
            "object_position": null,
            "object_fit": null,
            "grid_auto_columns": null,
            "margin": null,
            "display": null,
            "left": null
          }
        }
      }
    }
  },
  "cells": [
    {
      "cell_type": "markdown",
      "metadata": {
        "id": "view-in-github",
        "colab_type": "text"
      },
      "source": [
        "<a href=\"https://colab.research.google.com/github/naoya1110/nitkc-ncku-ai-robotics/blob/main/Week04_Practical_Tips_for_Training_CNNs.ipynb\" target=\"_parent\"><img src=\"https://colab.research.google.com/assets/colab-badge.svg\" alt=\"Open In Colab\"/></a>"
      ]
    },
    {
      "cell_type": "markdown",
      "metadata": {
        "id": "vPlzxYAbJQmc"
      },
      "source": [
        "# Introduction"
      ]
    },
    {
      "cell_type": "markdown",
      "metadata": {
        "id": "NfXlnZElde0Z"
      },
      "source": [
        "In this week we are going to learn about practical techniques for training convolutional neural network (CNN) models including\n",
        "\n",
        "\n",
        "*   Data Standardization\n",
        "*   Data Augmentation\n",
        "*   Dropout Layer\n",
        "\n",
        "\n",
        "\n",
        " As we have seen last week deep neural network models including CNNs can easily fall into the overfit state. So we always have to be careful about the models not to be overfitted during the training. However thanks to the intensive researches in this field, a lot of practical techniques that are effective for avoiding overfitting are already developed. In this notebook we are going to implement some of those techniques and see how they work."
      ]
    },
    {
      "cell_type": "markdown",
      "metadata": {
        "id": "VYw3uTxyQMFq"
      },
      "source": [
        "**GPU**\n",
        "\n",
        "We will need a GPU to train CNN models, so please make sure your runtime type is GPU (cuda)."
      ]
    },
    {
      "cell_type": "code",
      "metadata": {
        "colab": {
          "base_uri": "https://localhost:8080/"
        },
        "id": "LlOLjP7qjakr",
        "outputId": "0d2398fa-f9b3-4d3e-e266-d710b3a8ca81"
      },
      "source": [
        "import torch\n",
        "\n",
        "if torch.cuda.is_available():\n",
        "    device = \"cuda\"\n",
        "else:\n",
        "    device = \"cpu\"\n",
        "\n",
        "print(device)"
      ],
      "execution_count": 1,
      "outputs": [
        {
          "output_type": "stream",
          "text": [
            "cuda\n"
          ],
          "name": "stdout"
        }
      ]
    },
    {
      "cell_type": "markdown",
      "metadata": {
        "id": "4r6qw_6s_hyU"
      },
      "source": [
        "**General Packages**\n",
        "\n",
        "Then let's import some general Python packages."
      ]
    },
    {
      "cell_type": "code",
      "metadata": {
        "id": "uBE01BMv7DVI"
      },
      "source": [
        "import numpy as np\n",
        "import pandas as pd\n",
        "import matplotlib.pyplot as plt\n",
        "import seaborn as sns\n",
        "from tqdm.notebook import tqdm"
      ],
      "execution_count": 2,
      "outputs": []
    },
    {
      "cell_type": "markdown",
      "metadata": {
        "id": "ZX-bp6XjJSdL"
      },
      "source": [
        "# Data Preparation"
      ]
    },
    {
      "cell_type": "markdown",
      "metadata": {
        "id": "YKruW7wm7Dtg"
      },
      "source": [
        "**CIFAR10**\n",
        "\n",
        "We will use CIFAR10 dataset again."
      ]
    },
    {
      "cell_type": "code",
      "metadata": {
        "colab": {
          "base_uri": "https://localhost:8080/"
        },
        "id": "RP5pCP3GZX3k",
        "outputId": "ab69d33e-1eb0-4529-a2f1-b036d68eb488"
      },
      "source": [
        "from torchvision.datasets import CIFAR10\n",
        "\n",
        "xy_train = CIFAR10(root=\"cifar10\", train=True, download=True)\n",
        "xy_test = CIFAR10(root=\"cifar10\", train=False, download=True)\n",
        "\n",
        "classnames = {0:\"plane\", \n",
        "              1:\"car\", \n",
        "              2:\"bird\", \n",
        "              3:\"cat\", \n",
        "              4:\"deer\",\n",
        "              5:\"dog\", \n",
        "              6:\"frog\", \n",
        "              7:\"horse\",\n",
        "              8:\"ship\",\n",
        "              9:\"truck\"}"
      ],
      "execution_count": 3,
      "outputs": [
        {
          "output_type": "stream",
          "text": [
            "Files already downloaded and verified\n",
            "Files already downloaded and verified\n"
          ],
          "name": "stdout"
        }
      ]
    },
    {
      "cell_type": "markdown",
      "metadata": {
        "id": "gLiwE5Ea_Nil"
      },
      "source": [
        "**Rescaling Data (Standardization, z-score normalization)**\n",
        "\n",
        "Data rescaling is often performed as a preprocessing step before training. One of the data rescaling methods is standardization (aka. z-score normalization). The standardized data $z_i$ is converted from the raw data $x_i$ by the equation below, where $\\mu$ and $\\sigma$ are mean and standard deviation of all raw data, respectively.\n",
        "\n",
        "$\\displaystyle z_i=\\dfrac{x_i-\\mu}{\\sigma}$ \n",
        "\n",
        "The mean and the standard deviation of the standardized data will be 0 and 1 respectively."
      ]
    },
    {
      "cell_type": "markdown",
      "metadata": {
        "id": "lJavoZVdedzb"
      },
      "source": [
        "![image.png](data:image/png;base64,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)"
      ]
    },
    {
      "cell_type": "markdown",
      "metadata": {
        "id": "likI2ZCCPPc5"
      },
      "source": [
        "In order to standardize CIFAR10 image data, we need to know means $\\mu$ and standard deviations $\\sigma$ of red, green, blue pixels in training data. To do this, first we collect all red, green and blue pixels data in numpy arrays."
      ]
    },
    {
      "cell_type": "code",
      "metadata": {
        "id": "wYavpB4WILQS",
        "colab": {
          "base_uri": "https://localhost:8080/",
          "height": 100,
          "referenced_widgets": [
            "586fdf4db09b4dadb1665d57949bdaf4",
            "f6f35dac54d041c7b8b5e790e072f313",
            "a601ba2d8a8c4bdb8e8fda3dfea42225",
            "d99f3c1105b742bea8ac5319ef63e12a",
            "6a079ed7154045079b5e77d0e77e4c6c",
            "05c2e957d06f4d90af1b510e57c11334",
            "77bd6f2e82fe4309a1869996aa948d7d",
            "a3825f9a9f72447585323cff00937f71",
            "4f53741403954e398d874b2423dbc8cb",
            "8e376b7c59ae401c8df4056d6108a20f",
            "c52719610f684319ad4b5dd3a4ae6dce"
          ]
        },
        "outputId": "2d0b9c05-4f02-4d88-81c5-bc2da4856ad6"
      },
      "source": [
        "red_pixels = []\n",
        "green_pixels = []\n",
        "blue_pixels = []\n",
        "\n",
        "for image, label in tqdm(xy_train):\n",
        "    image = np.array(image)/255.     # normalize data from 0-255 to 0.0-1.0\n",
        "    image = image.astype(\"float32\")\n",
        "\n",
        "    red_pixels.append(image[:,:,0])       # red pixels\n",
        "    green_pixels.append(image[:,:,1])   # green pixels\n",
        "    blue_pixels.append(image[:,:,2])     # blue pixels\n",
        "\n",
        "# convert data to 1D array\n",
        "red_pixels = np.array(red_pixels).flatten()\n",
        "green_pixels = np.array(green_pixels).flatten()\n",
        "blue_pixels = np.array(blue_pixels).flatten()\n",
        "\n",
        "print(\"red pixels\", red_pixels.shape)\n",
        "print(\"green pixels\", green_pixels.shape)\n",
        "print(\"blue pixels\", blue_pixels.shape)"
      ],
      "execution_count": 4,
      "outputs": [
        {
          "output_type": "display_data",
          "data": {
            "application/vnd.jupyter.widget-view+json": {
              "model_id": "586fdf4db09b4dadb1665d57949bdaf4",
              "version_minor": 0,
              "version_major": 2
            },
            "text/plain": [
              "  0%|          | 0/50000 [00:00<?, ?it/s]"
            ]
          },
          "metadata": {}
        },
        {
          "output_type": "stream",
          "text": [
            "red pixels (51200000,)\n",
            "green pixels (51200000,)\n",
            "blue pixels (51200000,)\n"
          ],
          "name": "stdout"
        }
      ]
    },
    {
      "cell_type": "markdown",
      "metadata": {
        "id": "G_lwc2CoRmdZ"
      },
      "source": [
        "Let's take a look at their distributions."
      ]
    },
    {
      "cell_type": "code",
      "metadata": {
        "colab": {
          "base_uri": "https://localhost:8080/",
          "height": 450
        },
        "id": "09319F9NLVUY",
        "outputId": "fe48368e-aa97-4398-bca2-2210742263aa"
      },
      "source": [
        "plt.figure(figsize=(5, 5))\n",
        "\n",
        "bins = np.arange(0, 1.01, 0.05)\n",
        "\n",
        "plt.subplot(3, 1, 1)\n",
        "plt.hist(red_pixels, bins=bins, color=\"r\")\n",
        "\n",
        "plt.subplot(3, 1, 2)\n",
        "plt.hist(green_pixels, bins=bins, color=\"g\")\n",
        "\n",
        "plt.subplot(3, 1, 3)\n",
        "plt.hist(blue_pixels, bins=bins, color=\"b\")"
      ],
      "execution_count": 5,
      "outputs": [
        {
          "output_type": "execute_result",
          "data": {
            "text/plain": [
              "(array([1551988., 2281534., 2971214., 3189966., 3747945., 3881195.,\n",
              "        3823561., 3368245., 3428782., 3141754., 2837695., 2386688.,\n",
              "        2341215., 2117185., 1936989., 1645889., 1617958., 1472561.,\n",
              "        1328403., 2129233.]),\n",
              " array([0.  , 0.05, 0.1 , 0.15, 0.2 , 0.25, 0.3 , 0.35, 0.4 , 0.45, 0.5 ,\n",
              "        0.55, 0.6 , 0.65, 0.7 , 0.75, 0.8 , 0.85, 0.9 , 0.95, 1.  ]),\n",
              " <a list of 20 Patch objects>)"
            ]
          },
          "metadata": {},
          "execution_count": 5
        },
        {
          "output_type": "display_data",
          "data": {
            "image/png": "[encoded data removed]",
            "text/plain": [
              "<Figure size 360x360 with 3 Axes>"
            ]
          },
          "metadata": {
            "needs_background": "light"
          }
        }
      ]
    },
    {
      "cell_type": "markdown",
      "metadata": {
        "id": "mAQqNi4JRuX5"
      },
      "source": [
        "Now we can determine means of red, green and blue pixels."
      ]
    },
    {
      "cell_type": "code",
      "metadata": {
        "colab": {
          "base_uri": "https://localhost:8080/"
        },
        "id": "oVzdkiXWJ2xK",
        "outputId": "82e96181-1305-4bd2-d3ea-b5d7e435057c"
      },
      "source": [
        "means = (red_pixels.mean(), green_pixels.mean(), blue_pixels.mean())\n",
        "means"
      ],
      "execution_count": 6,
      "outputs": [
        {
          "output_type": "execute_result",
          "data": {
            "text/plain": [
              "(0.49139968, 0.48215827, 0.44653124)"
            ]
          },
          "metadata": {},
          "execution_count": 6
        }
      ]
    },
    {
      "cell_type": "markdown",
      "metadata": {
        "id": "hi-zNuRyR21A"
      },
      "source": [
        "Also standard deviations of red, green and blue pixels."
      ]
    },
    {
      "cell_type": "code",
      "metadata": {
        "colab": {
          "base_uri": "https://localhost:8080/"
        },
        "id": "SVsVfhkCK3Ov",
        "outputId": "58f939a7-2aad-4aef-a363-be27a1d1d5fa"
      },
      "source": [
        "stds = (red_pixels.std(), green_pixels.std(), blue_pixels.std())\n",
        "stds"
      ],
      "execution_count": 7,
      "outputs": [
        {
          "output_type": "execute_result",
          "data": {
            "text/plain": [
              "(0.24703233, 0.24348505, 0.26158768)"
            ]
          },
          "metadata": {},
          "execution_count": 7
        }
      ]
    },
    {
      "cell_type": "markdown",
      "metadata": {
        "id": "jQ6C0P2KDHhE"
      },
      "source": [
        "Then we can standardize the raw data by using `means` and `stds` data, and see how the standardized data distributes."
      ]
    },
    {
      "cell_type": "code",
      "metadata": {
        "colab": {
          "base_uri": "https://localhost:8080/",
          "height": 569
        },
        "id": "eXO1x5twP2UF",
        "outputId": "ba00ee03-cd60-4892-8615-65b7e7645ca3"
      },
      "source": [
        "# standardization\n",
        "red_pixels_z = (red_pixels-means[0])/stds[0]\n",
        "green_pixels_z = (green_pixels-means[1])/stds[1]\n",
        "blue_pixels_z = (blue_pixels-means[2])/stds[2]\n",
        "\n",
        "# visualize distributions\n",
        "plt.figure(figsize=(5, 5))\n",
        "\n",
        "bins=np.arange(-3,3.1,0.2)\n",
        "\n",
        "plt.subplot(3, 1, 1)\n",
        "plt.hist(red_pixels_z, bins=bins, color=\"r\")\n",
        "\n",
        "plt.subplot(3, 1, 2)\n",
        "plt.hist(green_pixels_z, bins=bins, color=\"g\")\n",
        "\n",
        "plt.subplot(3, 1, 3)\n",
        "plt.hist(blue_pixels_z, bins=bins, color=\"b\")"
      ],
      "execution_count": 8,
      "outputs": [
        {
          "output_type": "execute_result",
          "data": {
            "text/plain": [
              "(array([      0.,       0.,       0.,       0.,       0.,       0.,\n",
              "         898852., 1966181., 2732543., 3569531., 3693052., 3868509.,\n",
              "        4139301., 3673354., 3447925., 3396936., 2837695., 2575272.,\n",
              "        2490425., 2086986., 1916065., 1876472., 1569945., 1423793.,\n",
              "        1400024., 1637139.,       0.,       0.,       0.,       0.]),\n",
              " array([-3.00000000e+00, -2.80000000e+00, -2.60000000e+00, -2.40000000e+00,\n",
              "        -2.20000000e+00, -2.00000000e+00, -1.80000000e+00, -1.60000000e+00,\n",
              "        -1.40000000e+00, -1.20000000e+00, -1.00000000e+00, -8.00000000e-01,\n",
              "        -6.00000000e-01, -4.00000000e-01, -2.00000000e-01,  2.66453526e-15,\n",
              "         2.00000000e-01,  4.00000000e-01,  6.00000000e-01,  8.00000000e-01,\n",
              "         1.00000000e+00,  1.20000000e+00,  1.40000000e+00,  1.60000000e+00,\n",
              "         1.80000000e+00,  2.00000000e+00,  2.20000000e+00,  2.40000000e+00,\n",
              "         2.60000000e+00,  2.80000000e+00,  3.00000000e+00]),\n",
              " <a list of 30 Patch objects>)"
            ]
          },
          "metadata": {},
          "execution_count": 8
        },
        {
          "output_type": "display_data",
          "data": {
            "image/png": "[encoded data removed]",
            "text/plain": [
              "<Figure size 360x360 with 3 Axes>"
            ]
          },
          "metadata": {
            "needs_background": "light"
          }
        }
      ]
    },
    {
      "cell_type": "markdown",
      "metadata": {
        "id": "noFAUvTfXmFe"
      },
      "source": [
        "We will use the `means` and `stds` data later when we reload the CIFAR10 data as `torch.tensor` format."
      ]
    },
    {
      "cell_type": "markdown",
      "metadata": {
        "id": "hH_7MJz0cAlr"
      },
      "source": [
        "**Data Augmentation**\n",
        "\n",
        "Another technique that is often used as a preprocessing step is data augmentation. Data augmentation is very powerful for avoiding the model being overfitted especially when number of training data is limited. In each training epoch, slightly modified copies of images are generated from original images and those copies will be used for training.This is effective to prevent the model from just remembering training data because the model will never see exactly same data. The data augmention can be implemented very easily by using `torchvision.transforms` module.\n",
        "\n",
        "Here we take one image from training data and let's see how this image can be augmented."
      ]
    },
    {
      "cell_type": "code",
      "metadata": {
        "colab": {
          "base_uri": "https://localhost:8080/",
          "height": 281
        },
        "id": "XVWJPehLZ1ox",
        "outputId": "caa7fc49-215a-4f8c-9d81-143187154e87"
      },
      "source": [
        "image, label = xy_train[1]\n",
        "plt.imshow(image)\n",
        "plt.title(classnames[label])\n",
        "\n",
        "x = image"
      ],
      "execution_count": 9,
      "outputs": [
        {
          "output_type": "display_data",
          "data": {
            "image/png": "[encoded data removed]",
            "text/plain": [
              "<Figure size 432x288 with 1 Axes>"
            ]
          },
          "metadata": {
            "needs_background": "light"
          }
        }
      ]
    },
    {
      "cell_type": "markdown",
      "metadata": {
        "id": "2G6BFbOKib7k"
      },
      "source": [
        "Random Horizontal Flip\n",
        "\n"
      ]
    },
    {
      "cell_type": "code",
      "metadata": {
        "colab": {
          "base_uri": "https://localhost:8080/",
          "height": 166
        },
        "id": "lU84qQFZWLrb",
        "outputId": "15845f7d-ecf8-4a38-cee1-f3278c1882a0"
      },
      "source": [
        "from torchvision import transforms\n",
        "transform = transforms.RandomHorizontalFlip(p=0.5)\n",
        "\n",
        "def show_transformed_images(transform, x):\n",
        "    plt.figure(figsize=(12, 3))\n",
        "    for i in range(5):\n",
        "        output_image = transform(x)\n",
        "        plt.subplot(1, 5, i+1)\n",
        "        plt.imshow(output_image)\n",
        "\n",
        "show_transformed_images(transform, x)"
      ],
      "execution_count": 10,
      "outputs": [
        {
          "output_type": "display_data",
          "data": {
            "image/png": "[encoded data removed]",
            "text/plain": [
              "<Figure size 864x216 with 5 Axes>"
            ]
          },
          "metadata": {
            "needs_background": "light"
          }
        }
      ]
    },
    {
      "cell_type": "markdown",
      "metadata": {
        "id": "EpdUF-oliirr"
      },
      "source": [
        "Random Vertical Flip"
      ]
    },
    {
      "cell_type": "code",
      "metadata": {
        "colab": {
          "base_uri": "https://localhost:8080/",
          "height": 166
        },
        "id": "tT6WZLh1XYvX",
        "outputId": "e5937a98-7c82-41fb-ecd1-436d8aefdc8c"
      },
      "source": [
        "transform = transforms.RandomVerticalFlip(p=0.5)\n",
        "\n",
        "show_transformed_images(transform, x)"
      ],
      "execution_count": 11,
      "outputs": [
        {
          "output_type": "display_data",
          "data": {
            "image/png": "[encoded data removed]",
            "text/plain": [
              "<Figure size 864x216 with 5 Axes>"
            ]
          },
          "metadata": {
            "needs_background": "light"
          }
        }
      ]
    },
    {
      "cell_type": "markdown",
      "metadata": {
        "id": "NXwOrPzhimkn"
      },
      "source": [
        "Random Roation"
      ]
    },
    {
      "cell_type": "code",
      "metadata": {
        "colab": {
          "base_uri": "https://localhost:8080/",
          "height": 166
        },
        "id": "qLfRInF6Vwwt",
        "outputId": "57fd270b-1b7c-4ba0-f8de-55f66f5cf599"
      },
      "source": [
        "transform = transforms.RandomRotation(degrees=30)\n",
        "\n",
        "show_transformed_images(transform, x)"
      ],
      "execution_count": 12,
      "outputs": [
        {
          "output_type": "display_data",
          "data": {
            "image/png": "[encoded data removed]",
            "text/plain": [
              "<Figure size 864x216 with 5 Axes>"
            ]
          },
          "metadata": {
            "needs_background": "light"
          }
        }
      ]
    },
    {
      "cell_type": "markdown",
      "metadata": {
        "id": "eN9BGOsAipyG"
      },
      "source": [
        "Random Perspective"
      ]
    },
    {
      "cell_type": "code",
      "metadata": {
        "colab": {
          "base_uri": "https://localhost:8080/",
          "height": 339
        },
        "id": "Fjsmc1SgYqDz",
        "outputId": "3e1db0d2-26f5-472c-d6b6-abc7e390f103"
      },
      "source": [
        "transform = transforms.RandomPerspective(distortion_scale=0.5, p=0.5)\n",
        "\n",
        "show_transformed_images(transform, x)"
      ],
      "execution_count": 13,
      "outputs": [
        {
          "output_type": "stream",
          "text": [
            "/usr/local/lib/python3.7/dist-packages/torchvision/transforms/functional.py:594: UserWarning: torch.lstsq is deprecated in favor of torch.linalg.lstsq and will be removed in a future PyTorch release.\n",
            "torch.linalg.lstsq has reversed arguments and does not return the QR decomposition in the returned tuple (although it returns other information about the problem).\n",
            "To get the qr decomposition consider using torch.linalg.qr.\n",
            "The returned solution in torch.lstsq stored the residuals of the solution in the last m - n columns of the returned value whenever m > n. In torch.linalg.lstsq, the residuals in the field 'residuals' of the returned named tuple.\n",
            "The unpacking of the solution, as in\n",
            "X, _ = torch.lstsq(B, A).solution[:A.size(1)]\n",
            "should be replaced with\n",
            "X = torch.linalg.lstsq(A, B).solution (Triggered internally at  /pytorch/aten/src/ATen/LegacyTHFunctionsCPU.cpp:389.)\n",
            "  res = torch.lstsq(b_matrix, a_matrix)[0]\n"
          ],
          "name": "stderr"
        },
        {
          "output_type": "display_data",
          "data": {
            "image/png": "[encoded data removed]",
            "text/plain": [
              "<Figure size 864x216 with 5 Axes>"
            ]
          },
          "metadata": {
            "needs_background": "light"
          }
        }
      ]
    },
    {
      "cell_type": "markdown",
      "metadata": {
        "id": "R__uA3j2tWch"
      },
      "source": [
        "We can combine several different transoforms by using `transform.Compose()`."
      ]
    },
    {
      "cell_type": "code",
      "metadata": {
        "colab": {
          "base_uri": "https://localhost:8080/",
          "height": 166
        },
        "id": "e3bgWFH5tE-h",
        "outputId": "4d02f8ad-e3ab-4554-f9b3-f9671368e7fe"
      },
      "source": [
        "transform = transforms.Compose([\n",
        "                                transforms.RandomHorizontalFlip(p=0.5),\n",
        "                                transforms.RandomRotation(degrees=30),\n",
        "                                transforms.RandomPerspective(distortion_scale=0.5, p=0.5)\n",
        "])\n",
        "\n",
        "show_transformed_images(transform, x)"
      ],
      "execution_count": 14,
      "outputs": [
        {
          "output_type": "display_data",
          "data": {
            "image/png": "[encoded data removed]",
            "text/plain": [
              "<Figure size 864x216 with 5 Axes>"
            ]
          },
          "metadata": {
            "needs_background": "light"
          }
        }
      ]
    },
    {
      "cell_type": "markdown",
      "metadata": {
        "id": "XAKdrX6BtnzL"
      },
      "source": [
        "There are lots of other transforms' modules that can be used for data augmentation. Please refer the information below.\n",
        "\n",
        "`torchvision.transforms` https://pytorch.org/vision/stable/transforms.html"
      ]
    },
    {
      "cell_type": "markdown",
      "metadata": {
        "id": "-HjPSgjrkMG3"
      },
      "source": [
        "**Reload Data**\n",
        "\n",
        "Now we reload CIFAR10 dataset in `torch.tensor` format. At the same time we enable the data standardization and the data augmentation. The standardization should be enabled for testing data too, but data augmentation should not."
      ]
    },
    {
      "cell_type": "code",
      "metadata": {
        "id": "rbkcR_cbdqwz"
      },
      "source": [
        "from torchvision import transforms\n",
        "\n",
        "xy_train = CIFAR10(root=\"cifar10\", train=True, download=False, \n",
        "                   transform=transforms.Compose([\n",
        "                                                  transforms.ToTensor(),\n",
        "                                                  transforms.Normalize(means, stds),              # standardization\n",
        "                                                  transforms.RandomRotation(degrees=10),    # data augmentation\n",
        "                                                  transforms.RandomHorizontalFlip(p=0.5),\n",
        "                                                  transforms.RandomPerspective(distortion_scale=0.5, p=0.5)\n",
        "                                                  ])\n",
        "                   )\n",
        "                   \n",
        "xy_test = CIFAR10(root=\"cifar10\", train=False, download=False,\n",
        "                   transform=transforms.Compose([\n",
        "                                                  transforms.ToTensor(),\n",
        "                                                  transforms.Normalize(means, stds)\n",
        "                                                  ])\n",
        "                   )"
      ],
      "execution_count": 15,
      "outputs": []
    },
    {
      "cell_type": "markdown",
      "metadata": {
        "id": "irrugvHJ4yRb"
      },
      "source": [
        "**Data Loader**\n",
        "\n",
        "Then we create `DataLoader` objects for feeding data to the model. This is exactly same as we did with Iris dataset."
      ]
    },
    {
      "cell_type": "code",
      "metadata": {
        "id": "11_M7Y70CrX2"
      },
      "source": [
        "from torch.utils.data import DataLoader\n",
        "\n",
        "train_loader = DataLoader(xy_train, batch_size=32, shuffle=True)\n",
        "test_loader = DataLoader(xy_test, batch_size=32, shuffle=False)"
      ],
      "execution_count": 16,
      "outputs": []
    },
    {
      "cell_type": "markdown",
      "metadata": {
        "id": "Rfk-lz-g60Tc"
      },
      "source": [
        "That's it for data preparation!"
      ]
    },
    {
      "cell_type": "markdown",
      "metadata": {
        "id": "QhtajLTTNmSx"
      },
      "source": [
        "# Model Building"
      ]
    },
    {
      "cell_type": "markdown",
      "metadata": {
        "id": "xrHtrmLj65gs"
      },
      "source": [
        "**Model Architecture**\n",
        "\n",
        "Next step is to build a convolutional neural network (CNN) and load it to GPU."
      ]
    },
    {
      "cell_type": "code",
      "metadata": {
        "colab": {
          "base_uri": "https://localhost:8080/"
        },
        "id": "T6bJXIb_f0qV",
        "outputId": "4faeb982-3fff-473b-940e-d10272cbcafc"
      },
      "source": [
        "import torch.nn as nn\n",
        "import torch.nn.functional as F\n",
        "\n",
        "class Model(nn.Module):\n",
        "\n",
        "    def __init__(self):\n",
        "        super(Model, self).__init__()\n",
        "        self.features = nn.Sequential(\n",
        "            nn.Conv2d(in_channels=3, out_channels=64, kernel_size=3, padding=1),\n",
        "            nn.ReLU(),\n",
        "            nn.MaxPool2d(kernel_size=2),\n",
        "            nn.Conv2d(in_channels=64, out_channels=128, kernel_size=3, padding=1),\n",
        "            nn.ReLU(),\n",
        "            nn.MaxPool2d(kernel_size=2),\n",
        "        )\n",
        "\n",
        "        self.classifier = nn.Sequential(\n",
        "            nn.Linear(128*8*8, 256),\n",
        "            nn.ReLU(),\n",
        "            nn.Dropout(p=0.5),    # add a dropout layer\n",
        "            nn.Linear(256, 10)\n",
        "        )\n",
        "\n",
        "    def forward(self, x):\n",
        "        x = self.features(x)\n",
        "        x = torch.flatten(x, 1)\n",
        "        x = self.classifier(x)  \n",
        "        return x\n",
        "    \n",
        "model = Model().to(device)\n",
        "print(model)"
      ],
      "execution_count": 17,
      "outputs": [
        {
          "output_type": "stream",
          "text": [
            "Model(\n",
            "  (features): Sequential(\n",
            "    (0): Conv2d(3, 64, kernel_size=(3, 3), stride=(1, 1), padding=(1, 1))\n",
            "    (1): ReLU()\n",
            "    (2): MaxPool2d(kernel_size=2, stride=2, padding=0, dilation=1, ceil_mode=False)\n",
            "    (3): Conv2d(64, 128, kernel_size=(3, 3), stride=(1, 1), padding=(1, 1))\n",
            "    (4): ReLU()\n",
            "    (5): MaxPool2d(kernel_size=2, stride=2, padding=0, dilation=1, ceil_mode=False)\n",
            "  )\n",
            "  (classifier): Sequential(\n",
            "    (0): Linear(in_features=8192, out_features=256, bias=True)\n",
            "    (1): ReLU()\n",
            "    (2): Dropout(p=0.5, inplace=False)\n",
            "    (3): Linear(in_features=256, out_features=10, bias=True)\n",
            "  )\n",
            ")\n"
          ],
          "name": "stdout"
        }
      ]
    },
    {
      "cell_type": "markdown",
      "metadata": {
        "id": "LBth8hitQSzd"
      },
      "source": [
        "**Dropout Layer**\n",
        "\n",
        "The model we defined here is identical to one we used last week, except for the dropout layer in the classifier. The dropout layer zeros some of input nodes randomly with the probability of `p` during training. Since less information will be propageted through the dropout layer, the model will be trained under more difficult condition. This will make the model more rubust."
      ]
    },
    {
      "cell_type": "markdown",
      "metadata": {
        "id": "AOesnRNXDbCw"
      },
      "source": [
        "![image.png](data:image/png;base64,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)"
      ]
    },
    {
      "cell_type": "markdown",
      "metadata": {
        "id": "Zx70tleP-boX"
      },
      "source": [
        "The dropout layer can be implemented with `nn.Dropout()`. The parameter `p` indicates the probabitlty of nodes to be 0 with a Bernoulli distribution. Also non-zero nodes will be scaled by a factor of 1/(1-p).\n",
        "\n",
        "`nn.Dropout()` https://pytorch.org/docs/stable/generated/torch.nn.Dropout.html"
      ]
    },
    {
      "cell_type": "code",
      "metadata": {
        "colab": {
          "base_uri": "https://localhost:8080/"
        },
        "id": "UCCELpQe90C3",
        "outputId": "db1c961f-5a51-4b31-ffcf-bb11f3684184"
      },
      "source": [
        "x = torch.ones(10)\n",
        "y = nn.Dropout(p=0.3)(x)\n",
        "print(y)"
      ],
      "execution_count": 18,
      "outputs": [
        {
          "output_type": "stream",
          "text": [
            "tensor([1.4286, 1.4286, 1.4286, 1.4286, 0.0000, 1.4286, 0.0000, 1.4286, 0.0000,\n",
            "        0.0000])\n"
          ],
          "name": "stdout"
        }
      ]
    },
    {
      "cell_type": "markdown",
      "metadata": {
        "id": "TdLLqTr2pLXx"
      },
      "source": [
        "Let's see the model archtecture."
      ]
    },
    {
      "cell_type": "code",
      "metadata": {
        "colab": {
          "base_uri": "https://localhost:8080/"
        },
        "id": "9rICJ-KOhQaS",
        "outputId": "3393c05c-dff8-4539-bdc9-aeec16dfcc1c"
      },
      "source": [
        "! pip install torchinfo\n",
        "from torchinfo import summary\n",
        "\n",
        "for x_batch, _ in train_loader:\n",
        "    break\n",
        "\n",
        "input_shape = x_batch.shape\n",
        "print(input_shape)\n",
        "\n",
        "summary(model, input_shape)"
      ],
      "execution_count": 19,
      "outputs": [
        {
          "output_type": "stream",
          "text": [
            "Requirement already satisfied: torchinfo in /usr/local/lib/python3.7/dist-packages (1.5.3)\n",
            "torch.Size([32, 3, 32, 32])\n"
          ],
          "name": "stdout"
        },
        {
          "output_type": "stream",
          "text": [
            "/usr/local/lib/python3.7/dist-packages/torch/nn/functional.py:718: UserWarning: Named tensors and all their associated APIs are an experimental feature and subject to change. Please do not use them for anything important until they are released as stable. (Triggered internally at  /pytorch/c10/core/TensorImpl.h:1156.)\n",
            "  return torch.max_pool2d(input, kernel_size, stride, padding, dilation, ceil_mode)\n"
          ],
          "name": "stderr"
        },
        {
          "output_type": "execute_result",
          "data": {
            "text/plain": [
              "==========================================================================================\n",
              "Layer (type:depth-idx)                   Output Shape              Param #\n",
              "==========================================================================================\n",
              "Model                                    --                        --\n",
              "├─Sequential: 1-1                        [32, 128, 8, 8]           --\n",
              "│    └─Conv2d: 2-1                       [32, 64, 32, 32]          1,792\n",
              "│    └─ReLU: 2-2                         [32, 64, 32, 32]          --\n",
              "│    └─MaxPool2d: 2-3                    [32, 64, 16, 16]          --\n",
              "│    └─Conv2d: 2-4                       [32, 128, 16, 16]         73,856\n",
              "│    └─ReLU: 2-5                         [32, 128, 16, 16]         --\n",
              "│    └─MaxPool2d: 2-6                    [32, 128, 8, 8]           --\n",
              "├─Sequential: 1-2                        [32, 10]                  --\n",
              "│    └─Linear: 2-7                       [32, 256]                 2,097,408\n",
              "│    └─ReLU: 2-8                         [32, 256]                 --\n",
              "│    └─Dropout: 2-9                      [32, 256]                 --\n",
              "│    └─Linear: 2-10                      [32, 10]                  2,570\n",
              "==========================================================================================\n",
              "Total params: 2,175,626\n",
              "Trainable params: 2,175,626\n",
              "Non-trainable params: 0\n",
              "Total mult-adds (M): 730.95\n",
              "==========================================================================================\n",
              "Input size (MB): 0.39\n",
              "Forward/backward pass size (MB): 25.23\n",
              "Params size (MB): 8.70\n",
              "Estimated Total Size (MB): 34.33\n",
              "=========================================================================================="
            ]
          },
          "metadata": {},
          "execution_count": 19
        }
      ]
    },
    {
      "cell_type": "markdown",
      "metadata": {
        "id": "aAlXGXFDRsjw"
      },
      "source": [
        "# Training"
      ]
    },
    {
      "cell_type": "markdown",
      "metadata": {
        "id": "tXO7oPT_PKN4"
      },
      "source": [
        "**Loss Function**\n",
        "\n",
        "We use the cross-entropy loss as the loss function since this is a classification task."
      ]
    },
    {
      "cell_type": "code",
      "metadata": {
        "id": "lU5T3gRuUHtQ"
      },
      "source": [
        "loss_func = nn.CrossEntropyLoss()"
      ],
      "execution_count": 20,
      "outputs": []
    },
    {
      "cell_type": "markdown",
      "metadata": {
        "id": "52Qod7jdQusX"
      },
      "source": [
        "**Optimizer**\n",
        "\n",
        "We use the Adam optimizer."
      ]
    },
    {
      "cell_type": "code",
      "metadata": {
        "id": "wZWtxHVoUL44"
      },
      "source": [
        "import torch.optim as optim\n",
        "\n",
        "optimizer = optim.Adam(model.parameters(), lr=1E-3)"
      ],
      "execution_count": 21,
      "outputs": []
    },
    {
      "cell_type": "markdown",
      "metadata": {
        "id": "MCzH5589Rn-7"
      },
      "source": [
        "**Training Loop**\n",
        "\n",
        "Now we train the model. This time we save the model after each epoch if the test accuracy is better than before. Then later we can load the best model.\n",
        "\n",
        "\n",
        "\n",
        "\n",
        "\n"
      ]
    },
    {
      "cell_type": "code",
      "metadata": {
        "colab": {
          "base_uri": "https://localhost:8080/",
          "height": 1000,
          "referenced_widgets": [
            "cad6e452a112435b840571fdecd2ba86",
            "4465f0127e164123a47374d9f5a49aff",
            "3e8854fe1c7149638f2e7976a766639e",
            "5e967ab7953a4c05ac9308971348e68a",
            "56c51fdb4bb24a9ca130d648ce51396b",
            "8f93f275bb6b4066abdddd873156526d",
            "1dd30bc3ceb743c686f4bf8612bacfb7",
            "b7cbc7f468e947fd802c5b83ca07405e",
            "98876188ccdd4d6682d0ad272eb111fd",
            "8fd36d145f8c47b3af1b49f557e61bcb",
            "835cfd0b716d492c8abcebf82be830ef",
            "e2d9961b3a2a441e95c6bd3056350988",
            "1915422a2b434d6f9e735859620c9b95",
            "016740d262a5481897d46a92ff1e454b",
            "17e98dcad7044c2498dcb2e837c3fc4f",
            "c3d96cb44fd846c6b70b8c3ecfda8192",
            "81e6c9ed28b04cc081f9cf6d8d494464",
            "d38ec3f2a2e747e6a71d1413a9d490ee",
            "4ad792436e8b48deab914b6346f6bb7d",
            "c2d945cf263c4952829307826218454d",
            "21e4a987f51a4dcaa6cb886db1407d6a",
            "a7f59b9ec5d44987a6ccc137fa5baa71",
            "50d8ad154be34e1690987bb2294a60ed",
            "52f4e76ab9104dd79370a3bbfa9a81f2",
            "66629a5e3b5d40218b809750511aee51",
            "7a422a67a99e49238fd086d91e737df6",
            "e8d88300b056442fb6b7517d24486601",
            "500cbfd6f4a74e4b86cfdc3b623d6113",
            "9629b6c1a4054be28a96db2c62061056",
            "4a42591fe53a4ac6ae4dcea9f8cc14c0",
            "322c371047ba454abc670cf1b19cd627",
            "4a499f0b5761444f8b4c68449b363df8",
            "3900f82422bb4396b46e6fc3be71762e",
            "738bfbebbe924d4cba61e7ea5d63d280",
            "d302e4bc42e84543aa93b408e0c498c2",
            "8e350b668aff444898e9f35e578e59ab",
            "7de1783d889c4e93a6d56b9569959eac",
            "94f58d9a52df4b99a9e6a65edf58664d",
            "2febb86742594c499c201d7dabe5e7f6",
            "9fae49776ba34742a3b092a975c47e85",
            "2319582bc2a04468b6ea464ac6e45fa1",
            "49aa4b1c4647492ba6fc337579e0412d",
            "0d4e9ac7bf494e248b27e40bca33f73b",
            "8f17311bb05240ef91fe71d86682e6dc",
            "5ffedd179a614ca38b86291c9c1b4de9",
            "b3de096941b849928fbc5c7d0984d78b",
            "515a1847d4284e10a1fca9007c1a3768",
            "260b5c2665bb443494db618de86b6dbc",
            "d1cb4576d7d844b6a70cb5ce134d2ab8",
            "f6987c17b6b04425a925985a6304dc32",
            "64b7286608104faa8c5858f7431032bb",
            "90936b2d185441199fb617456db0cb7e",
            "f10dacc3e0c04d2e81fef951f9caa792",
            "86fc5f93cc724f2fabf12072c1352be1",
            "713cf3b73f3f488ea89b8030abef0a77",
            "2730201c7c4244ec82318c9df626a528",
            "5354f01e016f41cbae9a987eb1db742c",
            "7db9e3ed363747fa89c422fb3e584f1a",
            "86c0df008bc24b4abdee05c428ae2cf8",
            "f72b178264724fb29543165b0cce4cf0",
            "1e04d88430b0415aae3277e31ba831d8",
            "d1f630f85d2b411d8449ccb42008248e",
            "5bd540e3a38f49db94ccc4ccd65c2396",
            "7984628ad7374edfa330ee1969152e48",
            "32b3575fc974465bb178a0dc7a6670f7",
            "fe36b2c47c044af3b107d5f7db18e5b2",
            "5d038f9c9dd147219c2c3a9651b3860b",
            "d496eb482daa4c859096b1a0becdf748",
            "a25f4b26a74541d8af1a2f55b4e31587",
            "39cf53d7a8814427b760fedd396e1049",
            "7aa4d851084a4101947b5bec09ff2ac7",
            "642b446599eb44bcb9910559a7c4f666",
            "8fddd4f84b3d461daf32892bb65ca6ef",
            "e711dd9065d846e6a973acb2c98b9375",
            "d519e9951a4c41368e52d09d25e036e4",
            "8f2cd4f29d974605a838bf2589453cdc",
            "a37f01677b6f4dc18bbdc49959bdde09",
            "1ea0e7a3adeb40bd8a3c5aa2062021a0",
            "7472154936bc4e528c709a6a95e4b458",
            "10909b7023e943508803aaee3156b5a9",
            "f2d2ccbd11554eb2a6f2ae0f3ac80f84",
            "b13f960beca34075ae9c04915ebf95fb",
            "4a6a27dd6c3c48469f2ff57781bc4f26",
            "5faef5656b7b4d43bd905fff3940d983",
            "79aacff4409b48ba8e16c3d0da7f4fd2",
            "4497f5fc6bc14bbeb730111fd48a799c",
            "b6ba4eebed9649ebab69072802fb292b",
            "4f40d051deb7421f88db8b50020f031b",
            "7ba3542c111048d8abed9ab70bf39b80",
            "61a2656c4e194392b55fb3d6813d79c0",
            "0775755ad17044ad9183f4ee72bb9e5e",
            "b04df8adf00247edb461a00015341a48",
            "0bbef37b239f4fa78ca7ca574cb55ba3",
            "783880a0e2cb4cc1b785fa6fbd5bbd44",
            "64dc12e673ab40658add5d95558c3def",
            "eedfdfc871bb4958b6078c1322baea97",
            "18b5d04bf7f14a86a99dab0fc4844790",
            "ea232e2ac6454a08a42fe5d2439532c3",
            "bcddca2b45ef449e880aad0f44b08a24",
            "409b2f9a01184a6598846530f324747e",
            "c4498912973c4bb8a7964521deb322a0",
            "92f1e48f352342d2b8b64a57afa5ae44",
            "023cf5d411464131b7316dbbb8c124b9",
            "3e8355cec88244849da46119cbd01ee7",
            "6f8c9cba49d749aaadf4f7da1fa60f9d",
            "1b90e118b5684199bbe3dabb02a9afa5",
            "03b44243a5e94ae18f0e8ba3550988c5",
            "1dee302371fb421eb4bea84f5098a040",
            "f2f659884b7a46f7be84dd9a5f3dfd6a",
            "c87a93f679114ee2bc459a38b30b540c",
            "969990466e564ee7b6ade3db32d9774a",
            "806c0a986511482cb812e4688972919b",
            "a8b9208e365d4d53b14b95744207e968",
            "b955c647d8bb474cac036c69ac26e468",
            "bcba410641be4187b899de79e5cbeed8",
            "0fecfbcef4604e4d90aa976428b0a42a",
            "8dd8bfdcc115405fbd1c35ab24f17fae",
            "95dc0565c3cf471fb718c9cbea361fca",
            "ea920efb446c4f549c4f328e88000619",
            "023bf4104878411a9b860ca21b5fcbab",
            "44db62afe2c04686b15a802d465718db",
            "876c0d404da54d03a7913bf8db7d83b3",
            "8b123cf0bd7e44b78be69feb1d3fcaa8",
            "04dfa1f22ee44c28baccbf930b4133e1",
            "88e159cb14454f588905314dc3434820",
            "3c22521b7f3641b7a840cf18daff1946",
            "7dd485dba2a04ef9b99838593dc5ad70",
            "cfecdb5c3a6f476f963784e0ef5b23f5",
            "19e0cf8b9a1448efb70baa44a9a67cc8",
            "d4309dbfa5fa4612af7ed8f245f22fbd",
            "9128f0cfb7ed4d54a7f5c85d273c09f3",
            "2413f6e9e6a64e5199e8204b0eb9c2f2",
            "bb8a2a00d35b41018a9cf3d48711a6e9",
            "123371174f454166ba42f40f230e6194",
            "f75e3f04f47749b49553bb299da99295",
            "88e5d0c8436d4ed192db8b8eb7bdb2d8",
            "5658574a42e44b42ac401fd9b6a9e42a",
            "03163bec80df44409bb12fb733675766",
            "d1c2ac1886b04ca9be4b2b0851d6152b",
            "fb5a772941ad4c99b120e7d3c5b3d1e0",
            "b7743b432118414e86c51fbab96460a3",
            "dee41d1a89a54655a93bdcaa9e754412",
            "af38549e6ef4461c82deb3c5f469dc2a",
            "50b1d77580bb45a49d9b9522c6b101f1",
            "071c363559ff4fd79adc9e16646ea497",
            "5811c92032cd440d8e8c2903491f5909",
            "5a9609d1cb39457eb3be99c95ba74229",
            "cc489854f24d4680a83787ab7d31c9b3",
            "d4478d44910b4fd8a3357a9b11510da3",
            "a53aa38bc5dc41f2a07dab46c49bb725",
            "44e90c9da8044d108486658f375f1930",
            "ca817723e55248b0a00f5aff732e7766",
            "87d7a5d4b09f4ac2bbe9422013d8aa96",
            "09362ce586964d908214879670e1da79",
            "fde9da81916e44589fd95c89e931fc5d",
            "3338e8d2149a4cbfbaec795b807b9d37",
            "6ee8ac44e064474faa18a8190759b50f",
            "f78a8a7a2ce64e5bac0c872fec44208f",
            "4253643d30bc42faba4eb3e734a8fa1c",
            "854aafe8458f4568ae72349d78d8aba6",
            "87355dcbfda94170b3c8e011fca0531d",
            "1b2b90a270064c97b730c3e8aea39b3d",
            "344b5a414c93488a8008f190b336863a",
            "b0e1c101737d418dbc6bf132dba8ba71",
            "637261f82ae6420da4c1b2d8d04cc9e5",
            "ee083371ace440dd981b00a02e21de0d",
            "9b1076eb08164d5cb517850109ef3779",
            "e38158cf3be546868d0b19b0416f938d",
            "5dd5abb581d5432183450fa7cdac8df9",
            "e282adbfbff24e5c850baf0d0b629ad6",
            "db34f22a79f2496a9490e2aa4ed57538",
            "79007bfd8a5248d5a746827fbd0aa88a",
            "afb2d661eb9440e3a26a132f7c3a7cbc",
            "efcc38f40a7042f3ae1ba32be2b11326",
            "521de918b01447d5997602d4827903b4",
            "ed57411adb454e0fad50071c54e0870b",
            "0079f427e3814521b656dbe10e6b92fa",
            "f7d21275b54244a98629551b482f593b",
            "4ab6343f78ec42a3baf12453184d1495",
            "e4c548a968d045fc8d3d66972e2fcfea",
            "78c368fc85e64f1a90ddab379ec5ab5f",
            "855f7dd342a84d7983491d0cf5aabd69",
            "f0618b902c494246bb88f79efd246e20",
            "de5aea05f4364d5fb4aabe4f817331df",
            "a59bc0e989be420ea0ff5dedf0eb9912",
            "7ca80c2a616243588d0637dbc8604e8f",
            "a96ea3fe8dac469fa18681bcc681291b",
            "2e531c9ba8a74fddb969134ce2e7fa30",
            "548da94a2a074ab19a0077b082554a5d",
            "6dcfc7d9aa2544a190cae8cda0a18d52",
            "43306b5a7d8b48bc8f6dbd631b5a08ac",
            "2c8ddd9e2f5a45caa8bc19d120806987",
            "e002a6ca7eba4061ba56f7d7642265d0",
            "f49229e5ebd1422888a973b6c57957c7",
            "2a8b3e5765f2431fb2235c0d182f19ad",
            "043a5fa87d3f44c3aaee734fa6555a3e",
            "00218a17b6b74b03bd8df24da85ba32a",
            "51659667063948b486d195e71f98ef6e",
            "97c743d6dd4c46bb9028050209612431",
            "c5157c64373f45ce89b60a8c6f32554a",
            "4e3474b064a04938a5bc7ae39700b130",
            "ebeedc7163cc4d33bcbea2997a9f7e6b",
            "a63c31cfa6114d838e1c3a33544d4312",
            "78a110af145b45f8b92ffd617ddc4eee",
            "e82d9d9ac8b4479384fb69644479cb36",
            "a1cdd37e596048b391d1bd1cf6d2d4b6",
            "c3b4c76fb0dd462883ae5ea2c21b90df",
            "8cca1fe347cf454a8085bbbf73ad900c",
            "f46ebf4edb1d4e97bfa20958a07ae730",
            "f3c5ccccec1743d1b02ae5bc7606b27b",
            "6882512f2c924d14a3a4e80d141593ba",
            "0115ea2e590f40c29db77b215eaa6e6d",
            "c113455f91fe45cb8d965707d3b2cb25",
            "898616b8fa684fc1b0ee4ae456f3f99a",
            "9efab4bf5ae147fa8531cd7b40fd20c3",
            "6542a7187f49479a85140cd7823d1116",
            "64b604b5d84d46e3974c02b749097b2a",
            "d01a5c8b511e4788bc8e54ade54ceb2d",
            "7bf549e07bb8460b8582a8c31f24d121",
            "037b9aa076414049ac09099376e1ffe3"
          ]
        },
        "id": "B9ONh4giaSQD",
        "outputId": "edffffbf-2bf1-4a6f-d515-a8b52a2f06d9"
      },
      "source": [
        "epochs = 10\n",
        "best_model_path = 'best_model.pth'\n",
        "best_accuracy = 0.0\n",
        "\n",
        "# create empty lists for saving metrics during training\n",
        "train_loss_list = []\n",
        "train_accuracy_list = []\n",
        "test_loss_list = []\n",
        "test_accuracy_list = []\n",
        "\n",
        "for epoch in range(epochs):\n",
        "\n",
        "    print(f\"Epoch {epoch+1}/{epochs}\")\n",
        "\n",
        "    # initialize metrics value\n",
        "    train_accuracy = 0\n",
        "    train_loss = 0\n",
        "    test_accuracy = 0\n",
        "    test_loss = 0\n",
        "\n",
        "    model.train()          # set model to training mode\n",
        "\n",
        "    for x_batch, y_batch in tqdm(train_loader):      # take mini batch data from train_loader\n",
        "        \n",
        "        x_batch = x_batch.to(device)     # load x_batch data on GPU\n",
        "        y_batch = y_batch.to(device)     # load y_batch data on GPU\n",
        "        \n",
        "        optimizer.zero_grad()                  # reset gradients to 0\n",
        "        p_batch = model(x_batch)                # do prediction\n",
        "        loss = loss_func(p_batch, y_batch)        # measure loss\n",
        "        loss.backward()                        # calculate gradients\n",
        "        optimizer.step()                       # update model parameters\n",
        "\n",
        "        train_loss += loss.item()                           # accumulate loss value\n",
        "        p_batch_label = torch.argmax(p_batch, dim=1)          # \n",
        "        train_accuracy += (p_batch_label == y_batch).sum()   # count up number of correct predictions\n",
        "\n",
        "    with torch.no_grad():     # disable autograd for saving memory usage\n",
        "        model.eval()          # set model to evaluation mode\n",
        "\n",
        "        for x_batch, y_batch in tqdm(test_loader):   # take mini batch data from test_loader\n",
        "\n",
        "            x_batch = x_batch.to(device)     # load x_batch data on GPU\n",
        "            y_batch = y_batch.to(device)     # load y_batch data on GPU\n",
        "\n",
        "            p_batch = model(x_batch)            # do prediction\n",
        "            loss = loss_func(p_batch, y_batch)    # measure loss\n",
        "\n",
        "            test_loss += loss.item()                          # accumulate loss value\n",
        "            p_batch_label = torch.argmax(p_batch, dim=1)        # convert p_batch vector to target class index\n",
        "            test_accuracy += (p_batch_label == y_batch).sum()  # count up number of correct predictions\n",
        "\n",
        "    train_accuracy = train_accuracy/len(xy_train)   # determine accuracy for training data\n",
        "    test_accuracy = test_accuracy/len(xy_test)      # determin accuracy for test data\n",
        "    train_loss = train_loss/len(train_loader)           # determin loss for training data\n",
        "    test_loss = test_loss/len(test_loader)              # determin loss for test data \n",
        "\n",
        "    # show and store metrics\n",
        "    print(f\"Train: Accuracy={train_accuracy:.3f} Loss={train_loss:.3f}, Test: Accuracy={test_accuracy:.3f} Loss={test_loss:.3f}\")\n",
        "    train_accuracy_list.append(train_accuracy)\n",
        "    train_loss_list.append(train_loss)\n",
        "    test_accuracy_list.append(test_accuracy)\n",
        "    test_loss_list.append(test_loss)\n",
        "\n",
        "    # save the model if test accuracy is better than before\n",
        "    if test_accuracy > best_accuracy:\n",
        "        torch.save(model.state_dict(), best_model_path)\n",
        "        print(f\"Test accuracy improved from {best_accuracy:.3f} to {test_accuracy:.3f}\")\n",
        "        print(f\"Model saved at {best_model_path}\\n\")\n",
        "        best_accuracy = test_accuracy"
      ],
      "execution_count": 22,
      "outputs": [
        {
          "output_type": "stream",
          "text": [
            "Epoch 1/10\n"
          ],
          "name": "stdout"
        },
        {
          "output_type": "display_data",
          "data": {
            "application/vnd.jupyter.widget-view+json": {
              "model_id": "cad6e452a112435b840571fdecd2ba86",
              "version_minor": 0,
              "version_major": 2
            },
            "text/plain": [
              "  0%|          | 0/1563 [00:00<?, ?it/s]"
            ]
          },
          "metadata": {}
        },
        {
          "output_type": "display_data",
          "data": {
            "application/vnd.jupyter.widget-view+json": {
              "model_id": "e2d9961b3a2a441e95c6bd3056350988",
              "version_minor": 0,
              "version_major": 2
            },
            "text/plain": [
              "  0%|          | 0/313 [00:00<?, ?it/s]"
            ]
          },
          "metadata": {}
        },
        {
          "output_type": "stream",
          "text": [
            "Train: Accuracy=0.417 Loss=1.599, Test: Accuracy=0.561 Loss=1.217\n",
            "Test accuracy improved from 0.000 to 0.561\n",
            "Model saved at best_model.pth\n",
            "\n",
            "Epoch 2/10\n"
          ],
          "name": "stdout"
        },
        {
          "output_type": "display_data",
          "data": {
            "application/vnd.jupyter.widget-view+json": {
              "model_id": "50d8ad154be34e1690987bb2294a60ed",
              "version_minor": 0,
              "version_major": 2
            },
            "text/plain": [
              "  0%|          | 0/1563 [00:00<?, ?it/s]"
            ]
          },
          "metadata": {}
        },
        {
          "output_type": "display_data",
          "data": {
            "application/vnd.jupyter.widget-view+json": {
              "model_id": "738bfbebbe924d4cba61e7ea5d63d280",
              "version_minor": 0,
              "version_major": 2
            },
            "text/plain": [
              "  0%|          | 0/313 [00:00<?, ?it/s]"
            ]
          },
          "metadata": {}
        },
        {
          "output_type": "stream",
          "text": [
            "Train: Accuracy=0.515 Loss=1.351, Test: Accuracy=0.608 Loss=1.096\n",
            "Test accuracy improved from 0.561 to 0.608\n",
            "Model saved at best_model.pth\n",
            "\n",
            "Epoch 3/10\n"
          ],
          "name": "stdout"
        },
        {
          "output_type": "display_data",
          "data": {
            "application/vnd.jupyter.widget-view+json": {
              "model_id": "5ffedd179a614ca38b86291c9c1b4de9",
              "version_minor": 0,
              "version_major": 2
            },
            "text/plain": [
              "  0%|          | 0/1563 [00:00<?, ?it/s]"
            ]
          },
          "metadata": {}
        },
        {
          "output_type": "display_data",
          "data": {
            "application/vnd.jupyter.widget-view+json": {
              "model_id": "2730201c7c4244ec82318c9df626a528",
              "version_minor": 0,
              "version_major": 2
            },
            "text/plain": [
              "  0%|          | 0/313 [00:00<?, ?it/s]"
            ]
          },
          "metadata": {}
        },
        {
          "output_type": "stream",
          "text": [
            "Train: Accuracy=0.548 Loss=1.265, Test: Accuracy=0.641 Loss=1.015\n",
            "Test accuracy improved from 0.608 to 0.641\n",
            "Model saved at best_model.pth\n",
            "\n",
            "Epoch 4/10\n"
          ],
          "name": "stdout"
        },
        {
          "output_type": "display_data",
          "data": {
            "application/vnd.jupyter.widget-view+json": {
              "model_id": "5d038f9c9dd147219c2c3a9651b3860b",
              "version_minor": 0,
              "version_major": 2
            },
            "text/plain": [
              "  0%|          | 0/1563 [00:00<?, ?it/s]"
            ]
          },
          "metadata": {}
        },
        {
          "output_type": "display_data",
          "data": {
            "application/vnd.jupyter.widget-view+json": {
              "model_id": "1ea0e7a3adeb40bd8a3c5aa2062021a0",
              "version_minor": 0,
              "version_major": 2
            },
            "text/plain": [
              "  0%|          | 0/313 [00:00<?, ?it/s]"
            ]
          },
          "metadata": {}
        },
        {
          "output_type": "stream",
          "text": [
            "Train: Accuracy=0.567 Loss=1.212, Test: Accuracy=0.667 Loss=0.940\n",
            "Test accuracy improved from 0.641 to 0.667\n",
            "Model saved at best_model.pth\n",
            "\n",
            "Epoch 5/10\n"
          ],
          "name": "stdout"
        },
        {
          "output_type": "display_data",
          "data": {
            "application/vnd.jupyter.widget-view+json": {
              "model_id": "7ba3542c111048d8abed9ab70bf39b80",
              "version_minor": 0,
              "version_major": 2
            },
            "text/plain": [
              "  0%|          | 0/1563 [00:00<?, ?it/s]"
            ]
          },
          "metadata": {}
        },
        {
          "output_type": "display_data",
          "data": {
            "application/vnd.jupyter.widget-view+json": {
              "model_id": "409b2f9a01184a6598846530f324747e",
              "version_minor": 0,
              "version_major": 2
            },
            "text/plain": [
              "  0%|          | 0/313 [00:00<?, ?it/s]"
            ]
          },
          "metadata": {}
        },
        {
          "output_type": "stream",
          "text": [
            "Train: Accuracy=0.585 Loss=1.172, Test: Accuracy=0.668 Loss=0.931\n",
            "Test accuracy improved from 0.667 to 0.668\n",
            "Model saved at best_model.pth\n",
            "\n",
            "Epoch 6/10\n"
          ],
          "name": "stdout"
        },
        {
          "output_type": "display_data",
          "data": {
            "application/vnd.jupyter.widget-view+json": {
              "model_id": "969990466e564ee7b6ade3db32d9774a",
              "version_minor": 0,
              "version_major": 2
            },
            "text/plain": [
              "  0%|          | 0/1563 [00:00<?, ?it/s]"
            ]
          },
          "metadata": {}
        },
        {
          "output_type": "display_data",
          "data": {
            "application/vnd.jupyter.widget-view+json": {
              "model_id": "876c0d404da54d03a7913bf8db7d83b3",
              "version_minor": 0,
              "version_major": 2
            },
            "text/plain": [
              "  0%|          | 0/313 [00:00<?, ?it/s]"
            ]
          },
          "metadata": {}
        },
        {
          "output_type": "stream",
          "text": [
            "Train: Accuracy=0.598 Loss=1.134, Test: Accuracy=0.686 Loss=0.897\n",
            "Test accuracy improved from 0.668 to 0.686\n",
            "Model saved at best_model.pth\n",
            "\n",
            "Epoch 7/10\n"
          ],
          "name": "stdout"
        },
        {
          "output_type": "display_data",
          "data": {
            "application/vnd.jupyter.widget-view+json": {
              "model_id": "bb8a2a00d35b41018a9cf3d48711a6e9",
              "version_minor": 0,
              "version_major": 2
            },
            "text/plain": [
              "  0%|          | 0/1563 [00:00<?, ?it/s]"
            ]
          },
          "metadata": {}
        },
        {
          "output_type": "display_data",
          "data": {
            "application/vnd.jupyter.widget-view+json": {
              "model_id": "50b1d77580bb45a49d9b9522c6b101f1",
              "version_minor": 0,
              "version_major": 2
            },
            "text/plain": [
              "  0%|          | 0/313 [00:00<?, ?it/s]"
            ]
          },
          "metadata": {}
        },
        {
          "output_type": "stream",
          "text": [
            "Train: Accuracy=0.608 Loss=1.118, Test: Accuracy=0.688 Loss=0.885\n",
            "Test accuracy improved from 0.686 to 0.688\n",
            "Model saved at best_model.pth\n",
            "\n",
            "Epoch 8/10\n"
          ],
          "name": "stdout"
        },
        {
          "output_type": "display_data",
          "data": {
            "application/vnd.jupyter.widget-view+json": {
              "model_id": "fde9da81916e44589fd95c89e931fc5d",
              "version_minor": 0,
              "version_major": 2
            },
            "text/plain": [
              "  0%|          | 0/1563 [00:00<?, ?it/s]"
            ]
          },
          "metadata": {}
        },
        {
          "output_type": "display_data",
          "data": {
            "application/vnd.jupyter.widget-view+json": {
              "model_id": "ee083371ace440dd981b00a02e21de0d",
              "version_minor": 0,
              "version_major": 2
            },
            "text/plain": [
              "  0%|          | 0/313 [00:00<?, ?it/s]"
            ]
          },
          "metadata": {}
        },
        {
          "output_type": "stream",
          "text": [
            "Train: Accuracy=0.611 Loss=1.093, Test: Accuracy=0.698 Loss=0.866\n",
            "Test accuracy improved from 0.688 to 0.698\n",
            "Model saved at best_model.pth\n",
            "\n",
            "Epoch 9/10\n"
          ],
          "name": "stdout"
        },
        {
          "output_type": "display_data",
          "data": {
            "application/vnd.jupyter.widget-view+json": {
              "model_id": "0079f427e3814521b656dbe10e6b92fa",
              "version_minor": 0,
              "version_major": 2
            },
            "text/plain": [
              "  0%|          | 0/1563 [00:00<?, ?it/s]"
            ]
          },
          "metadata": {}
        },
        {
          "output_type": "display_data",
          "data": {
            "application/vnd.jupyter.widget-view+json": {
              "model_id": "2e531c9ba8a74fddb969134ce2e7fa30",
              "version_minor": 0,
              "version_major": 2
            },
            "text/plain": [
              "  0%|          | 0/313 [00:00<?, ?it/s]"
            ]
          },
          "metadata": {}
        },
        {
          "output_type": "stream",
          "text": [
            "Train: Accuracy=0.621 Loss=1.080, Test: Accuracy=0.688 Loss=0.878\n",
            "Epoch 10/10\n"
          ],
          "name": "stdout"
        },
        {
          "output_type": "display_data",
          "data": {
            "application/vnd.jupyter.widget-view+json": {
              "model_id": "97c743d6dd4c46bb9028050209612431",
              "version_minor": 0,
              "version_major": 2
            },
            "text/plain": [
              "  0%|          | 0/1563 [00:00<?, ?it/s]"
            ]
          },
          "metadata": {}
        },
        {
          "output_type": "display_data",
          "data": {
            "application/vnd.jupyter.widget-view+json": {
              "model_id": "f3c5ccccec1743d1b02ae5bc7606b27b",
              "version_minor": 0,
              "version_major": 2
            },
            "text/plain": [
              "  0%|          | 0/313 [00:00<?, ?it/s]"
            ]
          },
          "metadata": {}
        },
        {
          "output_type": "stream",
          "text": [
            "Train: Accuracy=0.624 Loss=1.067, Test: Accuracy=0.720 Loss=0.805\n",
            "Test accuracy improved from 0.698 to 0.720\n",
            "Model saved at best_model.pth\n",
            "\n"
          ],
          "name": "stdout"
        }
      ]
    },
    {
      "cell_type": "markdown",
      "metadata": {
        "id": "77tsvYTj_MjF"
      },
      "source": [
        "**Learning Curves**\n",
        "\n",
        "Let's visualize the accuracy and the loss curves for train and test data."
      ]
    },
    {
      "cell_type": "code",
      "metadata": {
        "colab": {
          "base_uri": "https://localhost:8080/",
          "height": 296
        },
        "id": "r41u3qmIig-t",
        "outputId": "fb1950d3-abf5-477b-be78-df4722859d60"
      },
      "source": [
        "plt.plot(np.arange(epochs)+1, train_accuracy_list, label=\"train\")\n",
        "plt.plot(np.arange(epochs)+1, test_accuracy_list, label=\"test\")\n",
        "plt.xlabel(\"Epoch\")\n",
        "plt.ylabel(\"Accuracy\")\n",
        "plt.grid()\n",
        "plt.legend()"
      ],
      "execution_count": 23,
      "outputs": [
        {
          "output_type": "execute_result",
          "data": {
            "text/plain": [
              "<matplotlib.legend.Legend at 0x7f6109052210>"
            ]
          },
          "metadata": {},
          "execution_count": 23
        },
        {
          "output_type": "display_data",
          "data": {
            "image/png": "[encoded data removed]",
            "text/plain": [
              "<Figure size 432x288 with 1 Axes>"
            ]
          },
          "metadata": {
            "needs_background": "light"
          }
        }
      ]
    },
    {
      "cell_type": "code",
      "metadata": {
        "colab": {
          "base_uri": "https://localhost:8080/",
          "height": 296
        },
        "id": "gEfROle1leF7",
        "outputId": "89be57fb-9a21-46db-b36a-c428914938d3"
      },
      "source": [
        "plt.plot(np.arange(epochs)+1, train_loss_list, label=\"train\")\n",
        "plt.plot(np.arange(epochs)+1, test_loss_list, label=\"test\")\n",
        "plt.xlabel(\"Epoch\")\n",
        "plt.ylabel(\"Loss\")\n",
        "plt.grid()\n",
        "plt.legend()"
      ],
      "execution_count": 24,
      "outputs": [
        {
          "output_type": "execute_result",
          "data": {
            "text/plain": [
              "<matplotlib.legend.Legend at 0x7f610926f510>"
            ]
          },
          "metadata": {},
          "execution_count": 24
        },
        {
          "output_type": "display_data",
          "data": {
            "image/png": "[encoded data removed]",
            "text/plain": [
              "<Figure size 432x288 with 1 Axes>"
            ]
          },
          "metadata": {
            "needs_background": "light"
          }
        }
      ]
    },
    {
      "cell_type": "markdown",
      "metadata": {
        "id": "8eDR3R1BULUJ"
      },
      "source": [
        "As you see above, the test accuracy keeps increasing up to at least 10 epochs and is still higher than the train accuracy. Similarly the test loss keeps decreasing up to at least 10 epochs and still lower than the test loss. This indicates the model is not overfitted yet. Therefore we can continue to train the model until we see the overfitting."
      ]
    },
    {
      "cell_type": "markdown",
      "metadata": {
        "id": "JXu1FpcD6fod"
      },
      "source": [
        "# Evaluation"
      ]
    },
    {
      "cell_type": "markdown",
      "metadata": {
        "id": "O3SGX3oKxNfP"
      },
      "source": [
        "**Load the Best Model**\n",
        "\n",
        "Now we can load the best model."
      ]
    },
    {
      "cell_type": "code",
      "metadata": {
        "colab": {
          "base_uri": "https://localhost:8080/"
        },
        "id": "XovWZ9dteQGz",
        "outputId": "d011ee9c-ff88-4e89-cb1c-c584b923fd61"
      },
      "source": [
        "model = Model().to(device)\n",
        "model.load_state_dict(torch.load(best_model_path))"
      ],
      "execution_count": 25,
      "outputs": [
        {
          "output_type": "execute_result",
          "data": {
            "text/plain": [
              "<All keys matched successfully>"
            ]
          },
          "metadata": {},
          "execution_count": 25
        }
      ]
    },
    {
      "cell_type": "markdown",
      "metadata": {
        "id": "wPvNhkGzK2QY"
      },
      "source": [
        "**Predictions for Test Data**\n",
        "\n",
        "Let's see predictions for some test data."
      ]
    },
    {
      "cell_type": "code",
      "metadata": {
        "colab": {
          "base_uri": "https://localhost:8080/",
          "height": 363
        },
        "id": "h7payXveIf_Y",
        "outputId": "5ccc44d9-398b-4267-9bd8-f3bfe101a6d5"
      },
      "source": [
        "with torch.no_grad():\n",
        "    model.eval()\n",
        "\n",
        "    for x_batch, y_batch in test_loader:\n",
        "        x_batch = x_batch.to(device)\n",
        "        y_batch = y_batch.to(device)\n",
        "        p_batch = model(x_batch)\n",
        "        p_batch_label = torch.argmax(p_batch, dim=1)\n",
        "\n",
        "        plt.figure(figsize=(15, 6))\n",
        "        for i in range(30):\n",
        "            image = x_batch[i].to(\"cpu\").numpy()\n",
        "            image = np.transpose(image, (1,2,0))\n",
        "            image[:,:,0] = image[:,:,0]*stds[0]+means[0]\n",
        "            image[:,:,1] = image[:,:,1]*stds[1]+means[1]\n",
        "            image[:,:,2] = image[:,:,2]*stds[2]+means[2]\n",
        "            plt.subplot(3, 10, i+1)\n",
        "            plt.imshow(image)\n",
        "\n",
        "            true_class = classnames[y_batch[i].item()]\n",
        "            pred_class = classnames[p_batch_label[i].item()]\n",
        "            if true_class == pred_class:\n",
        "                color = \"green\"\n",
        "            else:\n",
        "                color = \"red\"\n",
        "            plt.title(f\"True={true_class}\\nPred={pred_class}\", color=color)\n",
        "            plt.axis(\"off\")\n",
        "        \n",
        "        break"
      ],
      "execution_count": 26,
      "outputs": [
        {
          "output_type": "display_data",
          "data": {
            "image/png": "[encoded data removed]",
            "text/plain": [
              "<Figure size 1080x432 with 30 Axes>"
            ]
          },
          "metadata": {
            "needs_background": "light"
          }
        }
      ]
    },
    {
      "cell_type": "markdown",
      "metadata": {
        "id": "5s6cASjZdghi"
      },
      "source": [
        "**Test Accuracy**\n",
        "\n",
        "We should check accuracy of the model for all of the test data."
      ]
    },
    {
      "cell_type": "code",
      "metadata": {
        "colab": {
          "base_uri": "https://localhost:8080/"
        },
        "id": "Y-0SvVqUp92Z",
        "outputId": "1c0ea434-61a8-4fec-98c7-6f367099a3cd"
      },
      "source": [
        "correct_count = 0\n",
        "y_true_all = np.array([])\n",
        "p_batch_label_all = np.array([])\n",
        "\n",
        "with torch.no_grad():\n",
        "    model.eval()\n",
        "    for x_batch, y_batch in test_loader:\n",
        "        x_batch = x_batch.to(device)\n",
        "        y_batch = y_batch.to(device)\n",
        "        p_batch = model(x_batch)\n",
        "        p_batch_label = torch.argmax(p_batch, dim=1)\n",
        "\n",
        "        correct_count += (y_batch == p_batch_label).sum()\n",
        "\n",
        "        y_true_all = np.append(y_true_all, y_batch.to(\"cpu\").numpy())\n",
        "        p_batch_label_all = np.append(p_batch_label_all, p_batch_label.to(\"cpu\").numpy())\n",
        "\n",
        "test_accuracy = correct_count/len(xy_test)\n",
        "test_accuracy = test_accuracy.item()\n",
        "print(f\"Test Accuracy = {test_accuracy:.3f}\")"
      ],
      "execution_count": 27,
      "outputs": [
        {
          "output_type": "stream",
          "text": [
            "Test Accuracy = 0.720\n"
          ],
          "name": "stdout"
        }
      ]
    },
    {
      "cell_type": "markdown",
      "metadata": {
        "id": "fgk35ZoQeXHJ"
      },
      "source": [
        "**Confusion Matrix**\n",
        "\n",
        "Then let's check the confusion matrix."
      ]
    },
    {
      "cell_type": "code",
      "metadata": {
        "colab": {
          "base_uri": "https://localhost:8080/",
          "height": 452
        },
        "id": "MIqnDbffcVM6",
        "outputId": "dbe69348-2920-4e72-a268-1f05f6c7259e"
      },
      "source": [
        "from sklearn.metrics import confusion_matrix\n",
        "\n",
        "cmx = confusion_matrix(y_true_all, p_batch_label_all)\n",
        "\n",
        "cmx_pct = np.zeros(cmx.shape)\n",
        "\n",
        "for i in range(cmx.shape[0]):\n",
        "    for j in range(cmx.shape[1]):\n",
        "        cmx_pct[i, j] = cmx[i, j]/cmx[i, :].sum()\n",
        "\n",
        "plt.figure(figsize=(8,7))\n",
        "labels = classnames.values()\n",
        "\n",
        "sns.heatmap(cmx_pct, annot=True, fmt=\".2f\", cmap=\"Blues\", vmin=0, vmax=1,\n",
        "            xticklabels=classnames.values(), yticklabels=classnames.values(), square=True)\n",
        "\n",
        "plt.ylabel(\"True\")\n",
        "plt.xlabel(\"Pred\")\n",
        "plt.title(\"confusion matrix\")"
      ],
      "execution_count": 28,
      "outputs": [
        {
          "output_type": "execute_result",
          "data": {
            "text/plain": [
              "Text(0.5, 1.0, 'confusion matrix')"
            ]
          },
          "metadata": {},
          "execution_count": 28
        },
        {
          "output_type": "display_data",
          "data": {
            "image/png": "[encoded data removed]",
            "text/plain": [
              "<Figure size 576x504 with 2 Axes>"
            ]
          },
          "metadata": {
            "needs_background": "light"
          }
        }
      ]
    },
    {
      "cell_type": "markdown",
      "metadata": {
        "id": "wke7cdi2fVBZ"
      },
      "source": [
        "# Conclusion"
      ]
    },
    {
      "cell_type": "markdown",
      "metadata": {
        "id": "bBKeg1o-fWd5"
      },
      "source": [
        "That's it for this week. Now you can try to increase the test accuracy by changing data augmentation methods, model architecture, training epochs and so on..."
      ]
    }
  ]
}