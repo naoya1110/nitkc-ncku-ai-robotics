{
  "nbformat": 4,
  "nbformat_minor": 0,
  "metadata": {
    "colab": {
      "name": "Supplemental_Week1_PyTorch_Simple_Linear_Regression_Example.ipynb",
      "provenance": [],
      "authorship_tag": "ABX9TyNOVqcgqFoc0EFj8reezl4+",
      "include_colab_link": true
    },
    "kernelspec": {
      "name": "python3",
      "display_name": "Python 3"
    },
    "language_info": {
      "name": "python"
    }
  },
  "cells": [
    {
      "cell_type": "markdown",
      "metadata": {
        "id": "view-in-github",
        "colab_type": "text"
      },
      "source": [
        "<a href=\"https://colab.research.google.com/github/naoya1110/nitkc-ncku-ai-robotics/blob/main/_Supplemental_Week1_PyTorch_Simple_Linear_Regression_Example.ipynb\" target=\"_parent\"><img src=\"https://colab.research.google.com/assets/colab-badge.svg\" alt=\"Open In Colab\"/></a>"
      ]
    },
    {
      "cell_type": "markdown",
      "metadata": {
        "id": "f3N0fVQqIH-w"
      },
      "source": [
        "This is supplemental notebook for Week1.\n",
        "\n",
        "In this example, we are going to implement a linear regression model with PyTorch.\n",
        "\n",
        "First of all, let's import packages of PyTorch, Numpy and Matplotlib."
      ]
    },
    {
      "cell_type": "code",
      "metadata": {
        "id": "PVx3kr0D4Ppr"
      },
      "source": [
        "import torch\n",
        "import numpy as np\n",
        "import matplotlib.pyplot as plt"
      ],
      "execution_count": 104,
      "outputs": []
    },
    {
      "cell_type": "markdown",
      "metadata": {
        "id": "iFGAxPumJKhm"
      },
      "source": [
        "Here we create a dataset of $x$ (input) and $y$ (output) with a simple linear function below. Note that output data $y$ contains some random noise. \n",
        "\n",
        "$y = 5x + 3 + \\mathrm{noise}$"
      ]
    },
    {
      "cell_type": "code",
      "metadata": {
        "colab": {
          "base_uri": "https://localhost:8080/",
          "height": 279
        },
        "id": "d12jiZah4lAV",
        "outputId": "72b44357-8b63-4ad5-eded-0a09edc76b54"
      },
      "source": [
        "x = 10*np.random.rand(100)-5\n",
        "noise = 5*np.random.randn(x.shape[0])\n",
        "y = 5*x + 3 + noise\n",
        "plt.plot(x, y, marker=\"o\", lw= 0, label=\"data\")\n",
        "plt.xlabel(\"x\")\n",
        "plt.ylabel(\"y\")\n",
        "plt.legend()\n",
        "plt.grid()"
      ],
      "execution_count": 105,
      "outputs": [
        {
          "output_type": "display_data",
          "data": {
            "image/png": "[encoded data removed]",
            "text/plain": [
              "<Figure size 432x288 with 1 Axes>"
            ]
          },
          "metadata": {
            "needs_background": "light"
          }
        }
      ]
    },
    {
      "cell_type": "markdown",
      "metadata": {
        "id": "V1d9TcZJKOAH"
      },
      "source": [
        "Our goal is to find a linear function model (equation) that can fit the x-y dataset well.\n",
        "\n",
        "Instead of using PyTorch, we can simply use `np.polyfit()` to fit the dataset. Then we can obtain the fitting parameters of $w$ and $b$ of a linear function of $y = wx + b$, where $w$ and $b$ are called weight and bias, respectively."
      ]
    },
    {
      "cell_type": "code",
      "metadata": {
        "colab": {
          "base_uri": "https://localhost:8080/"
        },
        "id": "REAk1xWzG4cs",
        "outputId": "7c66cd9e-c719-4fe6-8962-b223d33e04e1"
      },
      "source": [
        "w, b = np.polyfit(x, y, 1)\n",
        "print(f\"w={w:.3f}, b={b:.3f}\")"
      ],
      "execution_count": 106,
      "outputs": [
        {
          "output_type": "stream",
          "text": [
            "w=5.136, b=3.217\n"
          ],
          "name": "stdout"
        }
      ]
    },
    {
      "cell_type": "markdown",
      "metadata": {
        "id": "beBJ2jmvOnsi"
      },
      "source": [
        "Because the x-y dataset contains some noise, obtained $w$ and $b$ are not exactly same as we used for creating the dataset, but they are close enough. Anyway we can make a fitting line with the obtained parameters of $w$ and $b$."
      ]
    },
    {
      "cell_type": "code",
      "metadata": {
        "colab": {
          "base_uri": "https://localhost:8080/",
          "height": 279
        },
        "id": "7KIJCGZ_5KD8",
        "outputId": "029d5801-ed3c-4213-bfe4-56535df6b9de"
      },
      "source": [
        "y_fit = w*x + b\n",
        "\n",
        "plt.plot(x, y, marker=\"o\", lw=0, label=\"data\")\n",
        "plt.plot(x, y_fit, lw=2, label=\"fit\")\n",
        "plt.xlabel(\"x\")\n",
        "plt.ylabel(\"y\")\n",
        "plt.legend()\n",
        "plt.grid()"
      ],
      "execution_count": 107,
      "outputs": [
        {
          "output_type": "display_data",
          "data": {
            "image/png": "[encoded data removed]",
            "text/plain": [
              "<Figure size 432x288 with 1 Axes>"
            ]
          },
          "metadata": {
            "needs_background": "light"
          }
        }
      ]
    },
    {
      "cell_type": "markdown",
      "metadata": {
        "id": "CAT9dny8FhRW"
      },
      "source": [
        "So `np.polyfit()` works very well. But in this example we will do the same thing with PyTorch.\n",
        "\n",
        "Now we convert the dataset of $x$ and $y$ into PyTorch Tensor."
      ]
    },
    {
      "cell_type": "code",
      "metadata": {
        "id": "3mbf0APf5yYF",
        "colab": {
          "base_uri": "https://localhost:8080/"
        },
        "outputId": "8e358530-29b8-4f44-8af6-b1c51d9645fb"
      },
      "source": [
        "x = torch.from_numpy(x)\n",
        "y = torch.from_numpy(y)\n",
        "\n",
        "print(type(x))\n",
        "print(type(y))"
      ],
      "execution_count": 108,
      "outputs": [
        {
          "output_type": "stream",
          "text": [
            "<class 'torch.Tensor'>\n",
            "<class 'torch.Tensor'>\n"
          ],
          "name": "stdout"
        }
      ]
    },
    {
      "cell_type": "markdown",
      "metadata": {
        "id": "GWY-KZbAJopr"
      },
      "source": [
        "Then we define a function named `model()` to predict output values of $y$ from input values of $x$ with the parameters of $w$ and $b$."
      ]
    },
    {
      "cell_type": "code",
      "metadata": {
        "id": "T-FhluBo7Ea1"
      },
      "source": [
        "def model(x):\n",
        "    return w*x + b"
      ],
      "execution_count": 109,
      "outputs": []
    },
    {
      "cell_type": "markdown",
      "metadata": {
        "id": "vemQxk48K_mz"
      },
      "source": [
        "Also we define a function named `loss_func()` to determine mean squared error between $p$ and $y$, where $p$ is the output values, i.e. prediction, of the `model()`. This type of function is called loss function which can be used for measuring how wrong the model prediction was."
      ]
    },
    {
      "cell_type": "code",
      "metadata": {
        "id": "BJX-xDCl7Le1"
      },
      "source": [
        "def loss_func(p, y):\n",
        "    return ((p-y)**2).mean()"
      ],
      "execution_count": 110,
      "outputs": []
    },
    {
      "cell_type": "markdown",
      "metadata": {
        "id": "MZdLCxF8NkXD"
      },
      "source": [
        "At this point we don't know what are $w$ and $b$ exactly. So we initialize those values with arbitary numbers."
      ]
    },
    {
      "cell_type": "code",
      "metadata": {
        "id": "m_fsb7vWO6Dy"
      },
      "source": [
        "w = torch.tensor(3.0, requires_grad=True)\n",
        "b = torch.tensor(-1.0, requires_grad=True)"
      ],
      "execution_count": 111,
      "outputs": []
    },
    {
      "cell_type": "markdown",
      "metadata": {
        "id": "s_4S2EQYO8wl"
      },
      "source": [
        "Now we can make a prediction using `model()`"
      ]
    },
    {
      "cell_type": "code",
      "metadata": {
        "id": "WLHoWRI7O8Rz",
        "colab": {
          "base_uri": "https://localhost:8080/"
        },
        "outputId": "5e3891e5-3cd5-48a3-fec3-976331a8864f"
      },
      "source": [
        "p = model(x)\n",
        "print(p)"
      ],
      "execution_count": 112,
      "outputs": [
        {
          "output_type": "stream",
          "text": [
            "tensor([-11.7284,   9.8811,   8.7748,  -1.5742,  -7.2284,  -4.1247, -12.7101,\n",
            "          9.0249,   9.1765,  13.0394,  -8.7973,   9.1713,   1.8455,  -1.1256,\n",
            "          0.5124, -10.3695,   9.7155,  -6.3388,  -9.4392, -15.9476,  -6.8296,\n",
            "        -13.3532,  -7.9131, -13.4783,   5.7245,  -4.7102,  -5.0616,  -0.1217,\n",
            "         11.1980, -11.5168,  -6.8594,  -5.8543,   8.1051,  -6.0388, -13.4085,\n",
            "         10.0870,   2.0201,  -0.7597,  -3.3116,  13.7774,  11.8663,  13.1381,\n",
            "        -13.4588,  -8.6599,  -2.9813,   5.2875,  12.6969,   4.7663,  11.0351,\n",
            "        -14.7670, -12.4664,  -1.7830, -10.6035,  10.4284,   9.9443,   6.0411,\n",
            "         -8.2080,   0.8459,   6.5321, -11.8168,  -8.6248,   2.0953,   8.9970,\n",
            "        -13.0550, -10.6078,  12.1454,  11.6719,   5.8175,  -6.4146,   5.2420,\n",
            "        -13.3301,  -6.8279,   7.1681,  -7.6916,  -2.1434,   5.9122,   0.4192,\n",
            "         -8.5308, -10.7282,  -0.2557,  -6.5325,   0.4810,  -5.5434,  -2.4208,\n",
            "         -6.6437,  13.7045, -13.2220,  11.8270,  -5.6372,  13.8002,   1.2776,\n",
            "         -1.6380,  11.3049,   4.0577,   0.9837, -14.6817,   0.5113,  -8.0257,\n",
            "        -11.7157,   1.0622], dtype=torch.float64, grad_fn=<AddBackward0>)\n"
          ],
          "name": "stdout"
        }
      ]
    },
    {
      "cell_type": "markdown",
      "metadata": {
        "id": "PV7CxsLjPsnR"
      },
      "source": [
        "Then we calculate loss (mean squared error) value by using `loss_func()`. Note that the loss value is very large because $w$ and $b$ are arbitaly values and not optimized yet."
      ]
    },
    {
      "cell_type": "code",
      "metadata": {
        "colab": {
          "base_uri": "https://localhost:8080/"
        },
        "id": "EIXfD63wPzVm",
        "outputId": "84d8c973-7cbf-4dbd-f7c8-0c9d39a09026"
      },
      "source": [
        "loss = loss_func(p, y)\n",
        "print(loss)"
      ],
      "execution_count": 113,
      "outputs": [
        {
          "output_type": "stream",
          "text": [
            "tensor(76.6486, dtype=torch.float64, grad_fn=<MeanBackward0>)\n"
          ],
          "name": "stdout"
        }
      ]
    },
    {
      "cell_type": "markdown",
      "metadata": {
        "id": "roLiOg-dQp_q"
      },
      "source": [
        "In order to optimize $w$ amd $b$, we need to know the gradients of loss around current $w$ and $b$ respectively. This can be done with `loss.backward()`. The gradients can be accessed by `w.grad` and `b.grad`."
      ]
    },
    {
      "cell_type": "code",
      "metadata": {
        "colab": {
          "base_uri": "https://localhost:8080/"
        },
        "id": "kNT7UuCnQh2X",
        "outputId": "3080d8c9-8438-4014-aa72-a3607606c5c7"
      },
      "source": [
        "loss.backward()\n",
        "print(w.grad)\n",
        "print(b.grad)"
      ],
      "execution_count": 114,
      "outputs": [
        {
          "output_type": "stream",
          "text": [
            "tensor(-36.4497)\n",
            "tensor(-8.3692)\n"
          ],
          "name": "stdout"
        }
      ]
    },
    {
      "cell_type": "markdown",
      "metadata": {
        "id": "DWPnNfKsTLW_"
      },
      "source": [
        "Then we can update $w$ and $b$ in response to their gradients and `lr`. `lr` is called learning rate which controls how much parameters to change in respose to the gradients.\n",
        "\n",
        "When we update those values we don't want to calculate the gradients. For this purpose `with torch.no_grad()` is stated."
      ]
    },
    {
      "cell_type": "code",
      "metadata": {
        "id": "mpoxdQ0WTK9X"
      },
      "source": [
        "lr = 0.1\n",
        "\n",
        "with torch.no_grad():    # disable gradients calculations\n",
        "    w -= w.grad*lr         # update w\n",
        "    b -= b.grad*lr          # update b"
      ],
      "execution_count": 115,
      "outputs": []
    },
    {
      "cell_type": "markdown",
      "metadata": {
        "id": "aen0JWycU6BN"
      },
      "source": [
        "At this point you can find the values of $w$ and $b$ are a bit closer to the true values (w=5.0, b=3.0) than the initial values (w=3.0, b=-1.0)"
      ]
    },
    {
      "cell_type": "code",
      "metadata": {
        "colab": {
          "base_uri": "https://localhost:8080/"
        },
        "id": "3H6yLMDgU4Yr",
        "outputId": "3b71de97-3813-4bd6-84e0-bd88abac9e97"
      },
      "source": [
        "print(w)\n",
        "print(b)"
      ],
      "execution_count": 116,
      "outputs": [
        {
          "output_type": "stream",
          "text": [
            "tensor(6.6450, requires_grad=True)\n",
            "tensor(-0.1631, requires_grad=True)\n"
          ],
          "name": "stdout"
        }
      ]
    },
    {
      "cell_type": "markdown",
      "metadata": {
        "id": "2G7G6xIpYnlk"
      },
      "source": [
        "In order to optimize `w` and `b` further, we repeat above process many times."
      ]
    },
    {
      "cell_type": "code",
      "metadata": {
        "colab": {
          "base_uri": "https://localhost:8080/"
        },
        "id": "oVJCrKHR7UPk",
        "outputId": "42bd472c-958d-4985-ab59-43bf3f7f7944"
      },
      "source": [
        "lr = 0.1\n",
        "epochs = 50  # how many times we repeat training\n",
        "\n",
        "w = torch.tensor(3.0, requires_grad=True)\n",
        "b = torch.tensor(-1.0, requires_grad=True)\n",
        "\n",
        "loss_list = []\n",
        "w_list = []\n",
        "b_list = []\n",
        "\n",
        "for epoch in range(epochs):\n",
        " \n",
        "    p = model(x) #prediction\n",
        "    loss = mse(p, y)\n",
        "    loss.backward()\n",
        "\n",
        "    with torch.no_grad():\n",
        "        w -= w.grad*lr\n",
        "        b -= b.grad*lr\n",
        "        w.grad.zero_() # reset gradient\n",
        "        b.grad.zero_() # reset gradient\n",
        "\n",
        "    loss_list.append(loss.item())\n",
        "    w_list.append(w.item())\n",
        "    b_list.append(b.item())\n",
        "\n",
        "    print(f\"Epoch {epoch+1}, loss={loss.item():.3f}, w={w.item():.3f}, b={b.item():.3f}\")"
      ],
      "execution_count": 117,
      "outputs": [
        {
          "output_type": "stream",
          "text": [
            "Epoch 1, loss=76.649, w=6.645, b=-0.163\n",
            "Epoch 2, loss=51.152, w=4.051, b=0.517\n",
            "Epoch 3, loss=37.361, w=5.901, b=1.054\n",
            "Epoch 4, loss=29.817, w=4.584, b=1.489\n",
            "Epoch 5, loss=25.640, w=5.524, b=1.833\n",
            "Epoch 6, loss=23.297, w=4.855, b=2.111\n",
            "Epoch 7, loss=21.965, w=5.332, b=2.331\n",
            "Epoch 8, loss=21.198, w=4.993, b=2.509\n",
            "Epoch 9, loss=20.750, w=5.235, b=2.650\n",
            "Epoch 10, loss=20.485, w=5.063, b=2.764\n",
            "Epoch 11, loss=20.327, w=5.186, b=2.854\n",
            "Epoch 12, loss=20.231, w=5.099, b=2.927\n",
            "Epoch 13, loss=20.173, w=5.161, b=2.985\n",
            "Epoch 14, loss=20.137, w=5.117, b=3.031\n",
            "Epoch 15, loss=20.115, w=5.149, b=3.068\n",
            "Epoch 16, loss=20.101, w=5.126, b=3.098\n",
            "Epoch 17, loss=20.092, w=5.142, b=3.122\n",
            "Epoch 18, loss=20.087, w=5.131, b=3.141\n",
            "Epoch 19, loss=20.083, w=5.139, b=3.156\n",
            "Epoch 20, loss=20.081, w=5.133, b=3.168\n",
            "Epoch 21, loss=20.080, w=5.138, b=3.178\n",
            "Epoch 22, loss=20.079, w=5.135, b=3.186\n",
            "Epoch 23, loss=20.078, w=5.137, b=3.192\n",
            "Epoch 24, loss=20.078, w=5.135, b=3.197\n",
            "Epoch 25, loss=20.078, w=5.136, b=3.201\n",
            "Epoch 26, loss=20.078, w=5.136, b=3.204\n",
            "Epoch 27, loss=20.078, w=5.136, b=3.206\n",
            "Epoch 28, loss=20.077, w=5.136, b=3.209\n",
            "Epoch 29, loss=20.077, w=5.136, b=3.210\n",
            "Epoch 30, loss=20.077, w=5.136, b=3.211\n",
            "Epoch 31, loss=20.077, w=5.136, b=3.212\n",
            "Epoch 32, loss=20.077, w=5.136, b=3.213\n",
            "Epoch 33, loss=20.077, w=5.136, b=3.214\n",
            "Epoch 34, loss=20.077, w=5.136, b=3.215\n",
            "Epoch 35, loss=20.077, w=5.136, b=3.215\n",
            "Epoch 36, loss=20.077, w=5.136, b=3.215\n",
            "Epoch 37, loss=20.077, w=5.136, b=3.216\n",
            "Epoch 38, loss=20.077, w=5.136, b=3.216\n",
            "Epoch 39, loss=20.077, w=5.136, b=3.216\n",
            "Epoch 40, loss=20.077, w=5.136, b=3.216\n",
            "Epoch 41, loss=20.077, w=5.136, b=3.216\n",
            "Epoch 42, loss=20.077, w=5.136, b=3.216\n",
            "Epoch 43, loss=20.077, w=5.136, b=3.216\n",
            "Epoch 44, loss=20.077, w=5.136, b=3.216\n",
            "Epoch 45, loss=20.077, w=5.136, b=3.216\n",
            "Epoch 46, loss=20.077, w=5.136, b=3.217\n",
            "Epoch 47, loss=20.077, w=5.136, b=3.217\n",
            "Epoch 48, loss=20.077, w=5.136, b=3.217\n",
            "Epoch 49, loss=20.077, w=5.136, b=3.217\n",
            "Epoch 50, loss=20.077, w=5.136, b=3.217\n"
          ],
          "name": "stdout"
        }
      ]
    },
    {
      "cell_type": "markdown",
      "metadata": {
        "id": "P7wmY5X4VF8I"
      },
      "source": [
        "Now you see w is close to 5.0 and b is close to 3.0."
      ]
    },
    {
      "cell_type": "markdown",
      "metadata": {
        "id": "prLVOe3NUHXZ"
      },
      "source": [
        "Let's visualize how the loss value decreased."
      ]
    },
    {
      "cell_type": "code",
      "metadata": {
        "colab": {
          "base_uri": "https://localhost:8080/",
          "height": 279
        },
        "id": "jKNMYl8W-YPu",
        "outputId": "c8678a73-3e4f-481b-a716-ff1112793a74"
      },
      "source": [
        "plt.plot(np.arange(epochs)+1, loss_list)\n",
        "plt.xlabel(\"Epochs\")\n",
        "plt.ylabel(\"Loss\")\n",
        "plt.grid()"
      ],
      "execution_count": 118,
      "outputs": [
        {
          "output_type": "display_data",
          "data": {
            "image/png": "[encoded data removed]",
            "text/plain": [
              "<Figure size 432x288 with 1 Axes>"
            ]
          },
          "metadata": {
            "needs_background": "light"
          }
        }
      ]
    },
    {
      "cell_type": "markdown",
      "metadata": {
        "id": "SuWi5tIEUNty"
      },
      "source": [
        "Let's visualize how the `w` value updated with epochs."
      ]
    },
    {
      "cell_type": "code",
      "metadata": {
        "colab": {
          "base_uri": "https://localhost:8080/",
          "height": 279
        },
        "id": "7g9-IoVMT5dB",
        "outputId": "3a794395-e67b-4817-b3dc-04ae16251a2e"
      },
      "source": [
        "plt.plot(np.arange(epochs)+1, w_list)\n",
        "plt.xlabel(\"Epochs\")\n",
        "plt.ylabel(\"w\")\n",
        "plt.grid()"
      ],
      "execution_count": 119,
      "outputs": [
        {
          "output_type": "display_data",
          "data": {
            "image/png": "[encoded data removed]",
            "text/plain": [
              "<Figure size 432x288 with 1 Axes>"
            ]
          },
          "metadata": {
            "needs_background": "light"
          }
        }
      ]
    },
    {
      "cell_type": "markdown",
      "metadata": {
        "id": "8NimP-NFUW7p"
      },
      "source": [
        "Let's visualize how the `b` value updated with epochs."
      ]
    },
    {
      "cell_type": "code",
      "metadata": {
        "colab": {
          "base_uri": "https://localhost:8080/",
          "height": 279
        },
        "id": "1hgnOPXWUA_p",
        "outputId": "64515f7f-6d55-4d6a-cba9-fbb3eabff8e0"
      },
      "source": [
        "plt.plot(np.arange(epochs)+1, b_list)\n",
        "plt.xlabel(\"Epochs\")\n",
        "plt.ylabel(\"b\")\n",
        "plt.grid()"
      ],
      "execution_count": 120,
      "outputs": [
        {
          "output_type": "display_data",
          "data": {
            "image/png": "[encoded data removed]",
            "text/plain": [
              "<Figure size 432x288 with 1 Axes>"
            ]
          },
          "metadata": {
            "needs_background": "light"
          }
        }
      ]
    },
    {
      "cell_type": "markdown",
      "metadata": {
        "id": "iU83IdbgUqfo"
      },
      "source": [
        "Now you can try to change initial values of `epochs`, `lr`, `w`, `b` etc. and see what happens."
      ]
    }
  ]
}