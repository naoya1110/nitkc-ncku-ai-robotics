{
  "nbformat": 4,
  "nbformat_minor": 0,
  "metadata": {
    "colab": {
      "name": "Week06_Practical_Tips_for_Training_CNNs.ipynb",
      "provenance": [],
      "collapsed_sections": [],
      "authorship_tag": "ABX9TyNiCyTo1PegI1o0FRlc7YLy",
      "include_colab_link": true
    },
    "kernelspec": {
      "name": "python3",
      "display_name": "Python 3"
    },
    "language_info": {
      "name": "python"
    },
    "accelerator": "GPU",
    "widgets": {
      "application/vnd.jupyter.widget-state+json": {
        "37851efa6f704678b12dbc66e5c2f65d": {
          "model_module": "@jupyter-widgets/controls",
          "model_name": "HBoxModel",
          "model_module_version": "1.5.0",
          "state": {
            "_view_name": "HBoxView",
            "_dom_classes": [],
            "_model_name": "HBoxModel",
            "_view_module": "@jupyter-widgets/controls",
            "_model_module_version": "1.5.0",
            "_view_count": null,
            "_view_module_version": "1.5.0",
            "box_style": "",
            "layout": "IPY_MODEL_94c50d4f0ed84ec59a5c41b7dae589d8",
            "_model_module": "@jupyter-widgets/controls",
            "children": [
              "IPY_MODEL_53e0e6a43deb43e2ae83020d36d48b25",
              "IPY_MODEL_e63910826cf9414ab227a49370650f47",
              "IPY_MODEL_c2585a622bb74e1abcbe1f96cf5f7875"
            ]
          }
        },
        "94c50d4f0ed84ec59a5c41b7dae589d8": {
          "model_module": "@jupyter-widgets/base",
          "model_name": "LayoutModel",
          "model_module_version": "1.2.0",
          "state": {
            "_view_name": "LayoutView",
            "grid_template_rows": null,
            "right": null,
            "justify_content": null,
            "_view_module": "@jupyter-widgets/base",
            "overflow": null,
            "_model_module_version": "1.2.0",
            "_view_count": null,
            "flex_flow": null,
            "width": null,
            "min_width": null,
            "border": null,
            "align_items": null,
            "bottom": null,
            "_model_module": "@jupyter-widgets/base",
            "top": null,
            "grid_column": null,
            "overflow_y": null,
            "overflow_x": null,
            "grid_auto_flow": null,
            "grid_area": null,
            "grid_template_columns": null,
            "flex": null,
            "_model_name": "LayoutModel",
            "justify_items": null,
            "grid_row": null,
            "max_height": null,
            "align_content": null,
            "visibility": null,
            "align_self": null,
            "height": null,
            "min_height": null,
            "padding": null,
            "grid_auto_rows": null,
            "grid_gap": null,
            "max_width": null,
            "order": null,
            "_view_module_version": "1.2.0",
            "grid_template_areas": null,
            "object_position": null,
            "object_fit": null,
            "grid_auto_columns": null,
            "margin": null,
            "display": null,
            "left": null
          }
        },
        "53e0e6a43deb43e2ae83020d36d48b25": {
          "model_module": "@jupyter-widgets/controls",
          "model_name": "HTMLModel",
          "model_module_version": "1.5.0",
          "state": {
            "_view_name": "HTMLView",
            "style": "IPY_MODEL_a3eef58dad9d4b158c3eb7800fffc4e9",
            "_dom_classes": [],
            "description": "",
            "_model_name": "HTMLModel",
            "placeholder": "​",
            "_view_module": "@jupyter-widgets/controls",
            "_model_module_version": "1.5.0",
            "value": "",
            "_view_count": null,
            "_view_module_version": "1.5.0",
            "description_tooltip": null,
            "_model_module": "@jupyter-widgets/controls",
            "layout": "IPY_MODEL_21d9764ce09e4d15a757f9dff7c479fe"
          }
        },
        "e63910826cf9414ab227a49370650f47": {
          "model_module": "@jupyter-widgets/controls",
          "model_name": "FloatProgressModel",
          "model_module_version": "1.5.0",
          "state": {
            "_view_name": "ProgressView",
            "style": "IPY_MODEL_b0b6cde22ed3443fb0e544a77ad74cda",
            "_dom_classes": [],
            "description": "",
            "_model_name": "FloatProgressModel",
            "bar_style": "success",
            "max": 170498071,
            "_view_module": "@jupyter-widgets/controls",
            "_model_module_version": "1.5.0",
            "value": 170498071,
            "_view_count": null,
            "_view_module_version": "1.5.0",
            "orientation": "horizontal",
            "min": 0,
            "description_tooltip": null,
            "_model_module": "@jupyter-widgets/controls",
            "layout": "IPY_MODEL_f492ae5fc8f94bb097768f0b105d1464"
          }
        },
        "c2585a622bb74e1abcbe1f96cf5f7875": {
          "model_module": "@jupyter-widgets/controls",
          "model_name": "HTMLModel",
          "model_module_version": "1.5.0",
          "state": {
            "_view_name": "HTMLView",
            "style": "IPY_MODEL_2e05aa4252d9404cbe8600a2f76c4631",
            "_dom_classes": [],
            "description": "",
            "_model_name": "HTMLModel",
            "placeholder": "​",
            "_view_module": "@jupyter-widgets/controls",
            "_model_module_version": "1.5.0",
            "value": " 170499072/? [00:03&lt;00:00, 58498502.80it/s]",
            "_view_count": null,
            "_view_module_version": "1.5.0",
            "description_tooltip": null,
            "_model_module": "@jupyter-widgets/controls",
            "layout": "IPY_MODEL_79aca80061b6401c8341394ab5c37bc9"
          }
        },
        "a3eef58dad9d4b158c3eb7800fffc4e9": {
          "model_module": "@jupyter-widgets/controls",
          "model_name": "DescriptionStyleModel",
          "model_module_version": "1.5.0",
          "state": {
            "_view_name": "StyleView",
            "_model_name": "DescriptionStyleModel",
            "description_width": "",
            "_view_module": "@jupyter-widgets/base",
            "_model_module_version": "1.5.0",
            "_view_count": null,
            "_view_module_version": "1.2.0",
            "_model_module": "@jupyter-widgets/controls"
          }
        },
        "21d9764ce09e4d15a757f9dff7c479fe": {
          "model_module": "@jupyter-widgets/base",
          "model_name": "LayoutModel",
          "model_module_version": "1.2.0",
          "state": {
            "_view_name": "LayoutView",
            "grid_template_rows": null,
            "right": null,
            "justify_content": null,
            "_view_module": "@jupyter-widgets/base",
            "overflow": null,
            "_model_module_version": "1.2.0",
            "_view_count": null,
            "flex_flow": null,
            "width": null,
            "min_width": null,
            "border": null,
            "align_items": null,
            "bottom": null,
            "_model_module": "@jupyter-widgets/base",
            "top": null,
            "grid_column": null,
            "overflow_y": null,
            "overflow_x": null,
            "grid_auto_flow": null,
            "grid_area": null,
            "grid_template_columns": null,
            "flex": null,
            "_model_name": "LayoutModel",
            "justify_items": null,
            "grid_row": null,
            "max_height": null,
            "align_content": null,
            "visibility": null,
            "align_self": null,
            "height": null,
            "min_height": null,
            "padding": null,
            "grid_auto_rows": null,
            "grid_gap": null,
            "max_width": null,
            "order": null,
            "_view_module_version": "1.2.0",
            "grid_template_areas": null,
            "object_position": null,
            "object_fit": null,
            "grid_auto_columns": null,
            "margin": null,
            "display": null,
            "left": null
          }
        },
        "b0b6cde22ed3443fb0e544a77ad74cda": {
          "model_module": "@jupyter-widgets/controls",
          "model_name": "ProgressStyleModel",
          "model_module_version": "1.5.0",
          "state": {
            "_view_name": "StyleView",
            "_model_name": "ProgressStyleModel",
            "description_width": "",
            "_view_module": "@jupyter-widgets/base",
            "_model_module_version": "1.5.0",
            "_view_count": null,
            "_view_module_version": "1.2.0",
            "bar_color": null,
            "_model_module": "@jupyter-widgets/controls"
          }
        },
        "f492ae5fc8f94bb097768f0b105d1464": {
          "model_module": "@jupyter-widgets/base",
          "model_name": "LayoutModel",
          "model_module_version": "1.2.0",
          "state": {
            "_view_name": "LayoutView",
            "grid_template_rows": null,
            "right": null,
            "justify_content": null,
            "_view_module": "@jupyter-widgets/base",
            "overflow": null,
            "_model_module_version": "1.2.0",
            "_view_count": null,
            "flex_flow": null,
            "width": null,
            "min_width": null,
            "border": null,
            "align_items": null,
            "bottom": null,
            "_model_module": "@jupyter-widgets/base",
            "top": null,
            "grid_column": null,
            "overflow_y": null,
            "overflow_x": null,
            "grid_auto_flow": null,
            "grid_area": null,
            "grid_template_columns": null,
            "flex": null,
            "_model_name": "LayoutModel",
            "justify_items": null,
            "grid_row": null,
            "max_height": null,
            "align_content": null,
            "visibility": null,
            "align_self": null,
            "height": null,
            "min_height": null,
            "padding": null,
            "grid_auto_rows": null,
            "grid_gap": null,
            "max_width": null,
            "order": null,
            "_view_module_version": "1.2.0",
            "grid_template_areas": null,
            "object_position": null,
            "object_fit": null,
            "grid_auto_columns": null,
            "margin": null,
            "display": null,
            "left": null
          }
        },
        "2e05aa4252d9404cbe8600a2f76c4631": {
          "model_module": "@jupyter-widgets/controls",
          "model_name": "DescriptionStyleModel",
          "model_module_version": "1.5.0",
          "state": {
            "_view_name": "StyleView",
            "_model_name": "DescriptionStyleModel",
            "description_width": "",
            "_view_module": "@jupyter-widgets/base",
            "_model_module_version": "1.5.0",
            "_view_count": null,
            "_view_module_version": "1.2.0",
            "_model_module": "@jupyter-widgets/controls"
          }
        },
        "79aca80061b6401c8341394ab5c37bc9": {
          "model_module": "@jupyter-widgets/base",
          "model_name": "LayoutModel",
          "model_module_version": "1.2.0",
          "state": {
            "_view_name": "LayoutView",
            "grid_template_rows": null,
            "right": null,
            "justify_content": null,
            "_view_module": "@jupyter-widgets/base",
            "overflow": null,
            "_model_module_version": "1.2.0",
            "_view_count": null,
            "flex_flow": null,
            "width": null,
            "min_width": null,
            "border": null,
            "align_items": null,
            "bottom": null,
            "_model_module": "@jupyter-widgets/base",
            "top": null,
            "grid_column": null,
            "overflow_y": null,
            "overflow_x": null,
            "grid_auto_flow": null,
            "grid_area": null,
            "grid_template_columns": null,
            "flex": null,
            "_model_name": "LayoutModel",
            "justify_items": null,
            "grid_row": null,
            "max_height": null,
            "align_content": null,
            "visibility": null,
            "align_self": null,
            "height": null,
            "min_height": null,
            "padding": null,
            "grid_auto_rows": null,
            "grid_gap": null,
            "max_width": null,
            "order": null,
            "_view_module_version": "1.2.0",
            "grid_template_areas": null,
            "object_position": null,
            "object_fit": null,
            "grid_auto_columns": null,
            "margin": null,
            "display": null,
            "left": null
          }
        },
        "6be860bb6b6f43918bce3804b33d90b8": {
          "model_module": "@jupyter-widgets/controls",
          "model_name": "HBoxModel",
          "model_module_version": "1.5.0",
          "state": {
            "_view_name": "HBoxView",
            "_dom_classes": [],
            "_model_name": "HBoxModel",
            "_view_module": "@jupyter-widgets/controls",
            "_model_module_version": "1.5.0",
            "_view_count": null,
            "_view_module_version": "1.5.0",
            "box_style": "",
            "layout": "IPY_MODEL_3f9afd2f539a4564bf7f13b98b955c47",
            "_model_module": "@jupyter-widgets/controls",
            "children": [
              "IPY_MODEL_26bbc608247148318e666ac7245dd01f",
              "IPY_MODEL_22422e38245648a0bc5616c22f7adf99",
              "IPY_MODEL_ab12ae2a8c154c52928f08050611a423"
            ]
          }
        },
        "3f9afd2f539a4564bf7f13b98b955c47": {
          "model_module": "@jupyter-widgets/base",
          "model_name": "LayoutModel",
          "model_module_version": "1.2.0",
          "state": {
            "_view_name": "LayoutView",
            "grid_template_rows": null,
            "right": null,
            "justify_content": null,
            "_view_module": "@jupyter-widgets/base",
            "overflow": null,
            "_model_module_version": "1.2.0",
            "_view_count": null,
            "flex_flow": null,
            "width": null,
            "min_width": null,
            "border": null,
            "align_items": null,
            "bottom": null,
            "_model_module": "@jupyter-widgets/base",
            "top": null,
            "grid_column": null,
            "overflow_y": null,
            "overflow_x": null,
            "grid_auto_flow": null,
            "grid_area": null,
            "grid_template_columns": null,
            "flex": null,
            "_model_name": "LayoutModel",
            "justify_items": null,
            "grid_row": null,
            "max_height": null,
            "align_content": null,
            "visibility": null,
            "align_self": null,
            "height": null,
            "min_height": null,
            "padding": null,
            "grid_auto_rows": null,
            "grid_gap": null,
            "max_width": null,
            "order": null,
            "_view_module_version": "1.2.0",
            "grid_template_areas": null,
            "object_position": null,
            "object_fit": null,
            "grid_auto_columns": null,
            "margin": null,
            "display": null,
            "left": null
          }
        },
        "26bbc608247148318e666ac7245dd01f": {
          "model_module": "@jupyter-widgets/controls",
          "model_name": "HTMLModel",
          "model_module_version": "1.5.0",
          "state": {
            "_view_name": "HTMLView",
            "style": "IPY_MODEL_82a85111869a48eb94e3e5257f62189d",
            "_dom_classes": [],
            "description": "",
            "_model_name": "HTMLModel",
            "placeholder": "​",
            "_view_module": "@jupyter-widgets/controls",
            "_model_module_version": "1.5.0",
            "value": "100%",
            "_view_count": null,
            "_view_module_version": "1.5.0",
            "description_tooltip": null,
            "_model_module": "@jupyter-widgets/controls",
            "layout": "IPY_MODEL_319b4a4d686c4bb1b16d59c265cda8fc"
          }
        },
        "22422e38245648a0bc5616c22f7adf99": {
          "model_module": "@jupyter-widgets/controls",
          "model_name": "FloatProgressModel",
          "model_module_version": "1.5.0",
          "state": {
            "_view_name": "ProgressView",
            "style": "IPY_MODEL_f9bc89c368d040518cbb07281f8b2864",
            "_dom_classes": [],
            "description": "",
            "_model_name": "FloatProgressModel",
            "bar_style": "success",
            "max": 50000,
            "_view_module": "@jupyter-widgets/controls",
            "_model_module_version": "1.5.0",
            "value": 50000,
            "_view_count": null,
            "_view_module_version": "1.5.0",
            "orientation": "horizontal",
            "min": 0,
            "description_tooltip": null,
            "_model_module": "@jupyter-widgets/controls",
            "layout": "IPY_MODEL_8768897999304cac98dc96487b86cfa5"
          }
        },
        "ab12ae2a8c154c52928f08050611a423": {
          "model_module": "@jupyter-widgets/controls",
          "model_name": "HTMLModel",
          "model_module_version": "1.5.0",
          "state": {
            "_view_name": "HTMLView",
            "style": "IPY_MODEL_eca73bf370b94cca9baf5861d22cd874",
            "_dom_classes": [],
            "description": "",
            "_model_name": "HTMLModel",
            "placeholder": "​",
            "_view_module": "@jupyter-widgets/controls",
            "_model_module_version": "1.5.0",
            "value": " 50000/50000 [00:06&lt;00:00, 8164.61it/s]",
            "_view_count": null,
            "_view_module_version": "1.5.0",
            "description_tooltip": null,
            "_model_module": "@jupyter-widgets/controls",
            "layout": "IPY_MODEL_d094c8c7a4434db1a9a180352a6f33e4"
          }
        },
        "82a85111869a48eb94e3e5257f62189d": {
          "model_module": "@jupyter-widgets/controls",
          "model_name": "DescriptionStyleModel",
          "model_module_version": "1.5.0",
          "state": {
            "_view_name": "StyleView",
            "_model_name": "DescriptionStyleModel",
            "description_width": "",
            "_view_module": "@jupyter-widgets/base",
            "_model_module_version": "1.5.0",
            "_view_count": null,
            "_view_module_version": "1.2.0",
            "_model_module": "@jupyter-widgets/controls"
          }
        },
        "319b4a4d686c4bb1b16d59c265cda8fc": {
          "model_module": "@jupyter-widgets/base",
          "model_name": "LayoutModel",
          "model_module_version": "1.2.0",
          "state": {
            "_view_name": "LayoutView",
            "grid_template_rows": null,
            "right": null,
            "justify_content": null,
            "_view_module": "@jupyter-widgets/base",
            "overflow": null,
            "_model_module_version": "1.2.0",
            "_view_count": null,
            "flex_flow": null,
            "width": null,
            "min_width": null,
            "border": null,
            "align_items": null,
            "bottom": null,
            "_model_module": "@jupyter-widgets/base",
            "top": null,
            "grid_column": null,
            "overflow_y": null,
            "overflow_x": null,
            "grid_auto_flow": null,
            "grid_area": null,
            "grid_template_columns": null,
            "flex": null,
            "_model_name": "LayoutModel",
            "justify_items": null,
            "grid_row": null,
            "max_height": null,
            "align_content": null,
            "visibility": null,
            "align_self": null,
            "height": null,
            "min_height": null,
            "padding": null,
            "grid_auto_rows": null,
            "grid_gap": null,
            "max_width": null,
            "order": null,
            "_view_module_version": "1.2.0",
            "grid_template_areas": null,
            "object_position": null,
            "object_fit": null,
            "grid_auto_columns": null,
            "margin": null,
            "display": null,
            "left": null
          }
        },
        "f9bc89c368d040518cbb07281f8b2864": {
          "model_module": "@jupyter-widgets/controls",
          "model_name": "ProgressStyleModel",
          "model_module_version": "1.5.0",
          "state": {
            "_view_name": "StyleView",
            "_model_name": "ProgressStyleModel",
            "description_width": "",
            "_view_module": "@jupyter-widgets/base",
            "_model_module_version": "1.5.0",
            "_view_count": null,
            "_view_module_version": "1.2.0",
            "bar_color": null,
            "_model_module": "@jupyter-widgets/controls"
          }
        },
        "8768897999304cac98dc96487b86cfa5": {
          "model_module": "@jupyter-widgets/base",
          "model_name": "LayoutModel",
          "model_module_version": "1.2.0",
          "state": {
            "_view_name": "LayoutView",
            "grid_template_rows": null,
            "right": null,
            "justify_content": null,
            "_view_module": "@jupyter-widgets/base",
            "overflow": null,
            "_model_module_version": "1.2.0",
            "_view_count": null,
            "flex_flow": null,
            "width": null,
            "min_width": null,
            "border": null,
            "align_items": null,
            "bottom": null,
            "_model_module": "@jupyter-widgets/base",
            "top": null,
            "grid_column": null,
            "overflow_y": null,
            "overflow_x": null,
            "grid_auto_flow": null,
            "grid_area": null,
            "grid_template_columns": null,
            "flex": null,
            "_model_name": "LayoutModel",
            "justify_items": null,
            "grid_row": null,
            "max_height": null,
            "align_content": null,
            "visibility": null,
            "align_self": null,
            "height": null,
            "min_height": null,
            "padding": null,
            "grid_auto_rows": null,
            "grid_gap": null,
            "max_width": null,
            "order": null,
            "_view_module_version": "1.2.0",
            "grid_template_areas": null,
            "object_position": null,
            "object_fit": null,
            "grid_auto_columns": null,
            "margin": null,
            "display": null,
            "left": null
          }
        },
        "eca73bf370b94cca9baf5861d22cd874": {
          "model_module": "@jupyter-widgets/controls",
          "model_name": "DescriptionStyleModel",
          "model_module_version": "1.5.0",
          "state": {
            "_view_name": "StyleView",
            "_model_name": "DescriptionStyleModel",
            "description_width": "",
            "_view_module": "@jupyter-widgets/base",
            "_model_module_version": "1.5.0",
            "_view_count": null,
            "_view_module_version": "1.2.0",
            "_model_module": "@jupyter-widgets/controls"
          }
        },
        "d094c8c7a4434db1a9a180352a6f33e4": {
          "model_module": "@jupyter-widgets/base",
          "model_name": "LayoutModel",
          "model_module_version": "1.2.0",
          "state": {
            "_view_name": "LayoutView",
            "grid_template_rows": null,
            "right": null,
            "justify_content": null,
            "_view_module": "@jupyter-widgets/base",
            "overflow": null,
            "_model_module_version": "1.2.0",
            "_view_count": null,
            "flex_flow": null,
            "width": null,
            "min_width": null,
            "border": null,
            "align_items": null,
            "bottom": null,
            "_model_module": "@jupyter-widgets/base",
            "top": null,
            "grid_column": null,
            "overflow_y": null,
            "overflow_x": null,
            "grid_auto_flow": null,
            "grid_area": null,
            "grid_template_columns": null,
            "flex": null,
            "_model_name": "LayoutModel",
            "justify_items": null,
            "grid_row": null,
            "max_height": null,
            "align_content": null,
            "visibility": null,
            "align_self": null,
            "height": null,
            "min_height": null,
            "padding": null,
            "grid_auto_rows": null,
            "grid_gap": null,
            "max_width": null,
            "order": null,
            "_view_module_version": "1.2.0",
            "grid_template_areas": null,
            "object_position": null,
            "object_fit": null,
            "grid_auto_columns": null,
            "margin": null,
            "display": null,
            "left": null
          }
        },
        "b33e93393f5b4621955943db60d49f5d": {
          "model_module": "@jupyter-widgets/controls",
          "model_name": "HBoxModel",
          "model_module_version": "1.5.0",
          "state": {
            "_view_name": "HBoxView",
            "_dom_classes": [],
            "_model_name": "HBoxModel",
            "_view_module": "@jupyter-widgets/controls",
            "_model_module_version": "1.5.0",
            "_view_count": null,
            "_view_module_version": "1.5.0",
            "box_style": "",
            "layout": "IPY_MODEL_8d701ff54a2f43c8b267ac4835c215fa",
            "_model_module": "@jupyter-widgets/controls",
            "children": [
              "IPY_MODEL_4c6cce2fac8c44fabc4c2c62896801d9",
              "IPY_MODEL_6a4c08affb96454caf6c99a784697532",
              "IPY_MODEL_21702411f69844f9b091cdaca33280d4"
            ]
          }
        },
        "8d701ff54a2f43c8b267ac4835c215fa": {
          "model_module": "@jupyter-widgets/base",
          "model_name": "LayoutModel",
          "model_module_version": "1.2.0",
          "state": {
            "_view_name": "LayoutView",
            "grid_template_rows": null,
            "right": null,
            "justify_content": null,
            "_view_module": "@jupyter-widgets/base",
            "overflow": null,
            "_model_module_version": "1.2.0",
            "_view_count": null,
            "flex_flow": null,
            "width": null,
            "min_width": null,
            "border": null,
            "align_items": null,
            "bottom": null,
            "_model_module": "@jupyter-widgets/base",
            "top": null,
            "grid_column": null,
            "overflow_y": null,
            "overflow_x": null,
            "grid_auto_flow": null,
            "grid_area": null,
            "grid_template_columns": null,
            "flex": null,
            "_model_name": "LayoutModel",
            "justify_items": null,
            "grid_row": null,
            "max_height": null,
            "align_content": null,
            "visibility": null,
            "align_self": null,
            "height": null,
            "min_height": null,
            "padding": null,
            "grid_auto_rows": null,
            "grid_gap": null,
            "max_width": null,
            "order": null,
            "_view_module_version": "1.2.0",
            "grid_template_areas": null,
            "object_position": null,
            "object_fit": null,
            "grid_auto_columns": null,
            "margin": null,
            "display": null,
            "left": null
          }
        },
        "4c6cce2fac8c44fabc4c2c62896801d9": {
          "model_module": "@jupyter-widgets/controls",
          "model_name": "HTMLModel",
          "model_module_version": "1.5.0",
          "state": {
            "_view_name": "HTMLView",
            "style": "IPY_MODEL_9e58bdf0ba2a484f8a2a439df01fe605",
            "_dom_classes": [],
            "description": "",
            "_model_name": "HTMLModel",
            "placeholder": "​",
            "_view_module": "@jupyter-widgets/controls",
            "_model_module_version": "1.5.0",
            "value": "100%",
            "_view_count": null,
            "_view_module_version": "1.5.0",
            "description_tooltip": null,
            "_model_module": "@jupyter-widgets/controls",
            "layout": "IPY_MODEL_f7ba4249f39b43639defd80d81ae3595"
          }
        },
        "6a4c08affb96454caf6c99a784697532": {
          "model_module": "@jupyter-widgets/controls",
          "model_name": "FloatProgressModel",
          "model_module_version": "1.5.0",
          "state": {
            "_view_name": "ProgressView",
            "style": "IPY_MODEL_fe34fa0cb249451b8815f0ed0a09e9ed",
            "_dom_classes": [],
            "description": "",
            "_model_name": "FloatProgressModel",
            "bar_style": "success",
            "max": 1563,
            "_view_module": "@jupyter-widgets/controls",
            "_model_module_version": "1.5.0",
            "value": 1563,
            "_view_count": null,
            "_view_module_version": "1.5.0",
            "orientation": "horizontal",
            "min": 0,
            "description_tooltip": null,
            "_model_module": "@jupyter-widgets/controls",
            "layout": "IPY_MODEL_ddaaaca8bbf6480298bf75f13fac7821"
          }
        },
        "21702411f69844f9b091cdaca33280d4": {
          "model_module": "@jupyter-widgets/controls",
          "model_name": "HTMLModel",
          "model_module_version": "1.5.0",
          "state": {
            "_view_name": "HTMLView",
            "style": "IPY_MODEL_f1f8a7c774ed4bd399ccc02a9c03b484",
            "_dom_classes": [],
            "description": "",
            "_model_name": "HTMLModel",
            "placeholder": "​",
            "_view_module": "@jupyter-widgets/controls",
            "_model_module_version": "1.5.0",
            "value": " 1563/1563 [01:28&lt;00:00, 18.00it/s]",
            "_view_count": null,
            "_view_module_version": "1.5.0",
            "description_tooltip": null,
            "_model_module": "@jupyter-widgets/controls",
            "layout": "IPY_MODEL_c459093a4303440091c730114ab3708d"
          }
        },
        "9e58bdf0ba2a484f8a2a439df01fe605": {
          "model_module": "@jupyter-widgets/controls",
          "model_name": "DescriptionStyleModel",
          "model_module_version": "1.5.0",
          "state": {
            "_view_name": "StyleView",
            "_model_name": "DescriptionStyleModel",
            "description_width": "",
            "_view_module": "@jupyter-widgets/base",
            "_model_module_version": "1.5.0",
            "_view_count": null,
            "_view_module_version": "1.2.0",
            "_model_module": "@jupyter-widgets/controls"
          }
        },
        "f7ba4249f39b43639defd80d81ae3595": {
          "model_module": "@jupyter-widgets/base",
          "model_name": "LayoutModel",
          "model_module_version": "1.2.0",
          "state": {
            "_view_name": "LayoutView",
            "grid_template_rows": null,
            "right": null,
            "justify_content": null,
            "_view_module": "@jupyter-widgets/base",
            "overflow": null,
            "_model_module_version": "1.2.0",
            "_view_count": null,
            "flex_flow": null,
            "width": null,
            "min_width": null,
            "border": null,
            "align_items": null,
            "bottom": null,
            "_model_module": "@jupyter-widgets/base",
            "top": null,
            "grid_column": null,
            "overflow_y": null,
            "overflow_x": null,
            "grid_auto_flow": null,
            "grid_area": null,
            "grid_template_columns": null,
            "flex": null,
            "_model_name": "LayoutModel",
            "justify_items": null,
            "grid_row": null,
            "max_height": null,
            "align_content": null,
            "visibility": null,
            "align_self": null,
            "height": null,
            "min_height": null,
            "padding": null,
            "grid_auto_rows": null,
            "grid_gap": null,
            "max_width": null,
            "order": null,
            "_view_module_version": "1.2.0",
            "grid_template_areas": null,
            "object_position": null,
            "object_fit": null,
            "grid_auto_columns": null,
            "margin": null,
            "display": null,
            "left": null
          }
        },
        "fe34fa0cb249451b8815f0ed0a09e9ed": {
          "model_module": "@jupyter-widgets/controls",
          "model_name": "ProgressStyleModel",
          "model_module_version": "1.5.0",
          "state": {
            "_view_name": "StyleView",
            "_model_name": "ProgressStyleModel",
            "description_width": "",
            "_view_module": "@jupyter-widgets/base",
            "_model_module_version": "1.5.0",
            "_view_count": null,
            "_view_module_version": "1.2.0",
            "bar_color": null,
            "_model_module": "@jupyter-widgets/controls"
          }
        },
        "ddaaaca8bbf6480298bf75f13fac7821": {
          "model_module": "@jupyter-widgets/base",
          "model_name": "LayoutModel",
          "model_module_version": "1.2.0",
          "state": {
            "_view_name": "LayoutView",
            "grid_template_rows": null,
            "right": null,
            "justify_content": null,
            "_view_module": "@jupyter-widgets/base",
            "overflow": null,
            "_model_module_version": "1.2.0",
            "_view_count": null,
            "flex_flow": null,
            "width": null,
            "min_width": null,
            "border": null,
            "align_items": null,
            "bottom": null,
            "_model_module": "@jupyter-widgets/base",
            "top": null,
            "grid_column": null,
            "overflow_y": null,
            "overflow_x": null,
            "grid_auto_flow": null,
            "grid_area": null,
            "grid_template_columns": null,
            "flex": null,
            "_model_name": "LayoutModel",
            "justify_items": null,
            "grid_row": null,
            "max_height": null,
            "align_content": null,
            "visibility": null,
            "align_self": null,
            "height": null,
            "min_height": null,
            "padding": null,
            "grid_auto_rows": null,
            "grid_gap": null,
            "max_width": null,
            "order": null,
            "_view_module_version": "1.2.0",
            "grid_template_areas": null,
            "object_position": null,
            "object_fit": null,
            "grid_auto_columns": null,
            "margin": null,
            "display": null,
            "left": null
          }
        },
        "f1f8a7c774ed4bd399ccc02a9c03b484": {
          "model_module": "@jupyter-widgets/controls",
          "model_name": "DescriptionStyleModel",
          "model_module_version": "1.5.0",
          "state": {
            "_view_name": "StyleView",
            "_model_name": "DescriptionStyleModel",
            "description_width": "",
            "_view_module": "@jupyter-widgets/base",
            "_model_module_version": "1.5.0",
            "_view_count": null,
            "_view_module_version": "1.2.0",
            "_model_module": "@jupyter-widgets/controls"
          }
        },
        "c459093a4303440091c730114ab3708d": {
          "model_module": "@jupyter-widgets/base",
          "model_name": "LayoutModel",
          "model_module_version": "1.2.0",
          "state": {
            "_view_name": "LayoutView",
            "grid_template_rows": null,
            "right": null,
            "justify_content": null,
            "_view_module": "@jupyter-widgets/base",
            "overflow": null,
            "_model_module_version": "1.2.0",
            "_view_count": null,
            "flex_flow": null,
            "width": null,
            "min_width": null,
            "border": null,
            "align_items": null,
            "bottom": null,
            "_model_module": "@jupyter-widgets/base",
            "top": null,
            "grid_column": null,
            "overflow_y": null,
            "overflow_x": null,
            "grid_auto_flow": null,
            "grid_area": null,
            "grid_template_columns": null,
            "flex": null,
            "_model_name": "LayoutModel",
            "justify_items": null,
            "grid_row": null,
            "max_height": null,
            "align_content": null,
            "visibility": null,
            "align_self": null,
            "height": null,
            "min_height": null,
            "padding": null,
            "grid_auto_rows": null,
            "grid_gap": null,
            "max_width": null,
            "order": null,
            "_view_module_version": "1.2.0",
            "grid_template_areas": null,
            "object_position": null,
            "object_fit": null,
            "grid_auto_columns": null,
            "margin": null,
            "display": null,
            "left": null
          }
        },
        "8b2186b28d3b4687bb8268164c142c02": {
          "model_module": "@jupyter-widgets/controls",
          "model_name": "HBoxModel",
          "model_module_version": "1.5.0",
          "state": {
            "_view_name": "HBoxView",
            "_dom_classes": [],
            "_model_name": "HBoxModel",
            "_view_module": "@jupyter-widgets/controls",
            "_model_module_version": "1.5.0",
            "_view_count": null,
            "_view_module_version": "1.5.0",
            "box_style": "",
            "layout": "IPY_MODEL_3751e2fa9f644c759cc05a97593d29f4",
            "_model_module": "@jupyter-widgets/controls",
            "children": [
              "IPY_MODEL_64016b28848a4e7388c5ee674dbd8033",
              "IPY_MODEL_dfc2589771bc4d038c47ecd6a7c08215",
              "IPY_MODEL_4605d389383b40cf8bfd88008e084c52"
            ]
          }
        },
        "3751e2fa9f644c759cc05a97593d29f4": {
          "model_module": "@jupyter-widgets/base",
          "model_name": "LayoutModel",
          "model_module_version": "1.2.0",
          "state": {
            "_view_name": "LayoutView",
            "grid_template_rows": null,
            "right": null,
            "justify_content": null,
            "_view_module": "@jupyter-widgets/base",
            "overflow": null,
            "_model_module_version": "1.2.0",
            "_view_count": null,
            "flex_flow": null,
            "width": null,
            "min_width": null,
            "border": null,
            "align_items": null,
            "bottom": null,
            "_model_module": "@jupyter-widgets/base",
            "top": null,
            "grid_column": null,
            "overflow_y": null,
            "overflow_x": null,
            "grid_auto_flow": null,
            "grid_area": null,
            "grid_template_columns": null,
            "flex": null,
            "_model_name": "LayoutModel",
            "justify_items": null,
            "grid_row": null,
            "max_height": null,
            "align_content": null,
            "visibility": null,
            "align_self": null,
            "height": null,
            "min_height": null,
            "padding": null,
            "grid_auto_rows": null,
            "grid_gap": null,
            "max_width": null,
            "order": null,
            "_view_module_version": "1.2.0",
            "grid_template_areas": null,
            "object_position": null,
            "object_fit": null,
            "grid_auto_columns": null,
            "margin": null,
            "display": null,
            "left": null
          }
        },
        "64016b28848a4e7388c5ee674dbd8033": {
          "model_module": "@jupyter-widgets/controls",
          "model_name": "HTMLModel",
          "model_module_version": "1.5.0",
          "state": {
            "_view_name": "HTMLView",
            "style": "IPY_MODEL_598a2b7173e04aeca03d3ecb677fcfeb",
            "_dom_classes": [],
            "description": "",
            "_model_name": "HTMLModel",
            "placeholder": "​",
            "_view_module": "@jupyter-widgets/controls",
            "_model_module_version": "1.5.0",
            "value": "100%",
            "_view_count": null,
            "_view_module_version": "1.5.0",
            "description_tooltip": null,
            "_model_module": "@jupyter-widgets/controls",
            "layout": "IPY_MODEL_4ed74991986a4f7985dadb94197836d9"
          }
        },
        "dfc2589771bc4d038c47ecd6a7c08215": {
          "model_module": "@jupyter-widgets/controls",
          "model_name": "FloatProgressModel",
          "model_module_version": "1.5.0",
          "state": {
            "_view_name": "ProgressView",
            "style": "IPY_MODEL_e29e5edc65aa44c5a88a1a7eaf46b060",
            "_dom_classes": [],
            "description": "",
            "_model_name": "FloatProgressModel",
            "bar_style": "success",
            "max": 313,
            "_view_module": "@jupyter-widgets/controls",
            "_model_module_version": "1.5.0",
            "value": 313,
            "_view_count": null,
            "_view_module_version": "1.5.0",
            "orientation": "horizontal",
            "min": 0,
            "description_tooltip": null,
            "_model_module": "@jupyter-widgets/controls",
            "layout": "IPY_MODEL_8ed51fb09768450088808237c8781c6c"
          }
        },
        "4605d389383b40cf8bfd88008e084c52": {
          "model_module": "@jupyter-widgets/controls",
          "model_name": "HTMLModel",
          "model_module_version": "1.5.0",
          "state": {
            "_view_name": "HTMLView",
            "style": "IPY_MODEL_519e5ca5b71a4e15a6b690b75dd59697",
            "_dom_classes": [],
            "description": "",
            "_model_name": "HTMLModel",
            "placeholder": "​",
            "_view_module": "@jupyter-widgets/controls",
            "_model_module_version": "1.5.0",
            "value": " 313/313 [00:04&lt;00:00, 75.06it/s]",
            "_view_count": null,
            "_view_module_version": "1.5.0",
            "description_tooltip": null,
            "_model_module": "@jupyter-widgets/controls",
            "layout": "IPY_MODEL_042381a635a74e6cb0214dbaf0a64404"
          }
        },
        "598a2b7173e04aeca03d3ecb677fcfeb": {
          "model_module": "@jupyter-widgets/controls",
          "model_name": "DescriptionStyleModel",
          "model_module_version": "1.5.0",
          "state": {
            "_view_name": "StyleView",
            "_model_name": "DescriptionStyleModel",
            "description_width": "",
            "_view_module": "@jupyter-widgets/base",
            "_model_module_version": "1.5.0",
            "_view_count": null,
            "_view_module_version": "1.2.0",
            "_model_module": "@jupyter-widgets/controls"
          }
        },
        "4ed74991986a4f7985dadb94197836d9": {
          "model_module": "@jupyter-widgets/base",
          "model_name": "LayoutModel",
          "model_module_version": "1.2.0",
          "state": {
            "_view_name": "LayoutView",
            "grid_template_rows": null,
            "right": null,
            "justify_content": null,
            "_view_module": "@jupyter-widgets/base",
            "overflow": null,
            "_model_module_version": "1.2.0",
            "_view_count": null,
            "flex_flow": null,
            "width": null,
            "min_width": null,
            "border": null,
            "align_items": null,
            "bottom": null,
            "_model_module": "@jupyter-widgets/base",
            "top": null,
            "grid_column": null,
            "overflow_y": null,
            "overflow_x": null,
            "grid_auto_flow": null,
            "grid_area": null,
            "grid_template_columns": null,
            "flex": null,
            "_model_name": "LayoutModel",
            "justify_items": null,
            "grid_row": null,
            "max_height": null,
            "align_content": null,
            "visibility": null,
            "align_self": null,
            "height": null,
            "min_height": null,
            "padding": null,
            "grid_auto_rows": null,
            "grid_gap": null,
            "max_width": null,
            "order": null,
            "_view_module_version": "1.2.0",
            "grid_template_areas": null,
            "object_position": null,
            "object_fit": null,
            "grid_auto_columns": null,
            "margin": null,
            "display": null,
            "left": null
          }
        },
        "e29e5edc65aa44c5a88a1a7eaf46b060": {
          "model_module": "@jupyter-widgets/controls",
          "model_name": "ProgressStyleModel",
          "model_module_version": "1.5.0",
          "state": {
            "_view_name": "StyleView",
            "_model_name": "ProgressStyleModel",
            "description_width": "",
            "_view_module": "@jupyter-widgets/base",
            "_model_module_version": "1.5.0",
            "_view_count": null,
            "_view_module_version": "1.2.0",
            "bar_color": null,
            "_model_module": "@jupyter-widgets/controls"
          }
        },
        "8ed51fb09768450088808237c8781c6c": {
          "model_module": "@jupyter-widgets/base",
          "model_name": "LayoutModel",
          "model_module_version": "1.2.0",
          "state": {
            "_view_name": "LayoutView",
            "grid_template_rows": null,
            "right": null,
            "justify_content": null,
            "_view_module": "@jupyter-widgets/base",
            "overflow": null,
            "_model_module_version": "1.2.0",
            "_view_count": null,
            "flex_flow": null,
            "width": null,
            "min_width": null,
            "border": null,
            "align_items": null,
            "bottom": null,
            "_model_module": "@jupyter-widgets/base",
            "top": null,
            "grid_column": null,
            "overflow_y": null,
            "overflow_x": null,
            "grid_auto_flow": null,
            "grid_area": null,
            "grid_template_columns": null,
            "flex": null,
            "_model_name": "LayoutModel",
            "justify_items": null,
            "grid_row": null,
            "max_height": null,
            "align_content": null,
            "visibility": null,
            "align_self": null,
            "height": null,
            "min_height": null,
            "padding": null,
            "grid_auto_rows": null,
            "grid_gap": null,
            "max_width": null,
            "order": null,
            "_view_module_version": "1.2.0",
            "grid_template_areas": null,
            "object_position": null,
            "object_fit": null,
            "grid_auto_columns": null,
            "margin": null,
            "display": null,
            "left": null
          }
        },
        "519e5ca5b71a4e15a6b690b75dd59697": {
          "model_module": "@jupyter-widgets/controls",
          "model_name": "DescriptionStyleModel",
          "model_module_version": "1.5.0",
          "state": {
            "_view_name": "StyleView",
            "_model_name": "DescriptionStyleModel",
            "description_width": "",
            "_view_module": "@jupyter-widgets/base",
            "_model_module_version": "1.5.0",
            "_view_count": null,
            "_view_module_version": "1.2.0",
            "_model_module": "@jupyter-widgets/controls"
          }
        },
        "042381a635a74e6cb0214dbaf0a64404": {
          "model_module": "@jupyter-widgets/base",
          "model_name": "LayoutModel",
          "model_module_version": "1.2.0",
          "state": {
            "_view_name": "LayoutView",
            "grid_template_rows": null,
            "right": null,
            "justify_content": null,
            "_view_module": "@jupyter-widgets/base",
            "overflow": null,
            "_model_module_version": "1.2.0",
            "_view_count": null,
            "flex_flow": null,
            "width": null,
            "min_width": null,
            "border": null,
            "align_items": null,
            "bottom": null,
            "_model_module": "@jupyter-widgets/base",
            "top": null,
            "grid_column": null,
            "overflow_y": null,
            "overflow_x": null,
            "grid_auto_flow": null,
            "grid_area": null,
            "grid_template_columns": null,
            "flex": null,
            "_model_name": "LayoutModel",
            "justify_items": null,
            "grid_row": null,
            "max_height": null,
            "align_content": null,
            "visibility": null,
            "align_self": null,
            "height": null,
            "min_height": null,
            "padding": null,
            "grid_auto_rows": null,
            "grid_gap": null,
            "max_width": null,
            "order": null,
            "_view_module_version": "1.2.0",
            "grid_template_areas": null,
            "object_position": null,
            "object_fit": null,
            "grid_auto_columns": null,
            "margin": null,
            "display": null,
            "left": null
          }
        },
        "6f89be8572b44eafb507d202efd7f7ab": {
          "model_module": "@jupyter-widgets/controls",
          "model_name": "HBoxModel",
          "model_module_version": "1.5.0",
          "state": {
            "_view_name": "HBoxView",
            "_dom_classes": [],
            "_model_name": "HBoxModel",
            "_view_module": "@jupyter-widgets/controls",
            "_model_module_version": "1.5.0",
            "_view_count": null,
            "_view_module_version": "1.5.0",
            "box_style": "",
            "layout": "IPY_MODEL_3e25aa6a5ed74fefa5df908c5c8c273a",
            "_model_module": "@jupyter-widgets/controls",
            "children": [
              "IPY_MODEL_c1da8127456245fe8ecf60e9125c2f92",
              "IPY_MODEL_59377159027942f797ea0b89fc3a5266",
              "IPY_MODEL_50da573ef2ba47d6921d49c4d8c4e383"
            ]
          }
        },
        "3e25aa6a5ed74fefa5df908c5c8c273a": {
          "model_module": "@jupyter-widgets/base",
          "model_name": "LayoutModel",
          "model_module_version": "1.2.0",
          "state": {
            "_view_name": "LayoutView",
            "grid_template_rows": null,
            "right": null,
            "justify_content": null,
            "_view_module": "@jupyter-widgets/base",
            "overflow": null,
            "_model_module_version": "1.2.0",
            "_view_count": null,
            "flex_flow": null,
            "width": null,
            "min_width": null,
            "border": null,
            "align_items": null,
            "bottom": null,
            "_model_module": "@jupyter-widgets/base",
            "top": null,
            "grid_column": null,
            "overflow_y": null,
            "overflow_x": null,
            "grid_auto_flow": null,
            "grid_area": null,
            "grid_template_columns": null,
            "flex": null,
            "_model_name": "LayoutModel",
            "justify_items": null,
            "grid_row": null,
            "max_height": null,
            "align_content": null,
            "visibility": null,
            "align_self": null,
            "height": null,
            "min_height": null,
            "padding": null,
            "grid_auto_rows": null,
            "grid_gap": null,
            "max_width": null,
            "order": null,
            "_view_module_version": "1.2.0",
            "grid_template_areas": null,
            "object_position": null,
            "object_fit": null,
            "grid_auto_columns": null,
            "margin": null,
            "display": null,
            "left": null
          }
        },
        "c1da8127456245fe8ecf60e9125c2f92": {
          "model_module": "@jupyter-widgets/controls",
          "model_name": "HTMLModel",
          "model_module_version": "1.5.0",
          "state": {
            "_view_name": "HTMLView",
            "style": "IPY_MODEL_3276d0dc2c674c4d9227987c3eb4798e",
            "_dom_classes": [],
            "description": "",
            "_model_name": "HTMLModel",
            "placeholder": "​",
            "_view_module": "@jupyter-widgets/controls",
            "_model_module_version": "1.5.0",
            "value": "100%",
            "_view_count": null,
            "_view_module_version": "1.5.0",
            "description_tooltip": null,
            "_model_module": "@jupyter-widgets/controls",
            "layout": "IPY_MODEL_2ca0fd9982294ed0934071655d217a5d"
          }
        },
        "59377159027942f797ea0b89fc3a5266": {
          "model_module": "@jupyter-widgets/controls",
          "model_name": "FloatProgressModel",
          "model_module_version": "1.5.0",
          "state": {
            "_view_name": "ProgressView",
            "style": "IPY_MODEL_141119dabd724cefb9f1b2487abd97c0",
            "_dom_classes": [],
            "description": "",
            "_model_name": "FloatProgressModel",
            "bar_style": "success",
            "max": 1563,
            "_view_module": "@jupyter-widgets/controls",
            "_model_module_version": "1.5.0",
            "value": 1563,
            "_view_count": null,
            "_view_module_version": "1.5.0",
            "orientation": "horizontal",
            "min": 0,
            "description_tooltip": null,
            "_model_module": "@jupyter-widgets/controls",
            "layout": "IPY_MODEL_c63c7a557d71440da8405a69bdbc582b"
          }
        },
        "50da573ef2ba47d6921d49c4d8c4e383": {
          "model_module": "@jupyter-widgets/controls",
          "model_name": "HTMLModel",
          "model_module_version": "1.5.0",
          "state": {
            "_view_name": "HTMLView",
            "style": "IPY_MODEL_4d04190bf86a45f9842cc9b53fb22c6e",
            "_dom_classes": [],
            "description": "",
            "_model_name": "HTMLModel",
            "placeholder": "​",
            "_view_module": "@jupyter-widgets/controls",
            "_model_module_version": "1.5.0",
            "value": " 1563/1563 [01:27&lt;00:00, 18.12it/s]",
            "_view_count": null,
            "_view_module_version": "1.5.0",
            "description_tooltip": null,
            "_model_module": "@jupyter-widgets/controls",
            "layout": "IPY_MODEL_902fc9faf6384d4d8b64f581b7c10283"
          }
        },
        "3276d0dc2c674c4d9227987c3eb4798e": {
          "model_module": "@jupyter-widgets/controls",
          "model_name": "DescriptionStyleModel",
          "model_module_version": "1.5.0",
          "state": {
            "_view_name": "StyleView",
            "_model_name": "DescriptionStyleModel",
            "description_width": "",
            "_view_module": "@jupyter-widgets/base",
            "_model_module_version": "1.5.0",
            "_view_count": null,
            "_view_module_version": "1.2.0",
            "_model_module": "@jupyter-widgets/controls"
          }
        },
        "2ca0fd9982294ed0934071655d217a5d": {
          "model_module": "@jupyter-widgets/base",
          "model_name": "LayoutModel",
          "model_module_version": "1.2.0",
          "state": {
            "_view_name": "LayoutView",
            "grid_template_rows": null,
            "right": null,
            "justify_content": null,
            "_view_module": "@jupyter-widgets/base",
            "overflow": null,
            "_model_module_version": "1.2.0",
            "_view_count": null,
            "flex_flow": null,
            "width": null,
            "min_width": null,
            "border": null,
            "align_items": null,
            "bottom": null,
            "_model_module": "@jupyter-widgets/base",
            "top": null,
            "grid_column": null,
            "overflow_y": null,
            "overflow_x": null,
            "grid_auto_flow": null,
            "grid_area": null,
            "grid_template_columns": null,
            "flex": null,
            "_model_name": "LayoutModel",
            "justify_items": null,
            "grid_row": null,
            "max_height": null,
            "align_content": null,
            "visibility": null,
            "align_self": null,
            "height": null,
            "min_height": null,
            "padding": null,
            "grid_auto_rows": null,
            "grid_gap": null,
            "max_width": null,
            "order": null,
            "_view_module_version": "1.2.0",
            "grid_template_areas": null,
            "object_position": null,
            "object_fit": null,
            "grid_auto_columns": null,
            "margin": null,
            "display": null,
            "left": null
          }
        },
        "141119dabd724cefb9f1b2487abd97c0": {
          "model_module": "@jupyter-widgets/controls",
          "model_name": "ProgressStyleModel",
          "model_module_version": "1.5.0",
          "state": {
            "_view_name": "StyleView",
            "_model_name": "ProgressStyleModel",
            "description_width": "",
            "_view_module": "@jupyter-widgets/base",
            "_model_module_version": "1.5.0",
            "_view_count": null,
            "_view_module_version": "1.2.0",
            "bar_color": null,
            "_model_module": "@jupyter-widgets/controls"
          }
        },
        "c63c7a557d71440da8405a69bdbc582b": {
          "model_module": "@jupyter-widgets/base",
          "model_name": "LayoutModel",
          "model_module_version": "1.2.0",
          "state": {
            "_view_name": "LayoutView",
            "grid_template_rows": null,
            "right": null,
            "justify_content": null,
            "_view_module": "@jupyter-widgets/base",
            "overflow": null,
            "_model_module_version": "1.2.0",
            "_view_count": null,
            "flex_flow": null,
            "width": null,
            "min_width": null,
            "border": null,
            "align_items": null,
            "bottom": null,
            "_model_module": "@jupyter-widgets/base",
            "top": null,
            "grid_column": null,
            "overflow_y": null,
            "overflow_x": null,
            "grid_auto_flow": null,
            "grid_area": null,
            "grid_template_columns": null,
            "flex": null,
            "_model_name": "LayoutModel",
            "justify_items": null,
            "grid_row": null,
            "max_height": null,
            "align_content": null,
            "visibility": null,
            "align_self": null,
            "height": null,
            "min_height": null,
            "padding": null,
            "grid_auto_rows": null,
            "grid_gap": null,
            "max_width": null,
            "order": null,
            "_view_module_version": "1.2.0",
            "grid_template_areas": null,
            "object_position": null,
            "object_fit": null,
            "grid_auto_columns": null,
            "margin": null,
            "display": null,
            "left": null
          }
        },
        "4d04190bf86a45f9842cc9b53fb22c6e": {
          "model_module": "@jupyter-widgets/controls",
          "model_name": "DescriptionStyleModel",
          "model_module_version": "1.5.0",
          "state": {
            "_view_name": "StyleView",
            "_model_name": "DescriptionStyleModel",
            "description_width": "",
            "_view_module": "@jupyter-widgets/base",
            "_model_module_version": "1.5.0",
            "_view_count": null,
            "_view_module_version": "1.2.0",
            "_model_module": "@jupyter-widgets/controls"
          }
        },
        "902fc9faf6384d4d8b64f581b7c10283": {
          "model_module": "@jupyter-widgets/base",
          "model_name": "LayoutModel",
          "model_module_version": "1.2.0",
          "state": {
            "_view_name": "LayoutView",
            "grid_template_rows": null,
            "right": null,
            "justify_content": null,
            "_view_module": "@jupyter-widgets/base",
            "overflow": null,
            "_model_module_version": "1.2.0",
            "_view_count": null,
            "flex_flow": null,
            "width": null,
            "min_width": null,
            "border": null,
            "align_items": null,
            "bottom": null,
            "_model_module": "@jupyter-widgets/base",
            "top": null,
            "grid_column": null,
            "overflow_y": null,
            "overflow_x": null,
            "grid_auto_flow": null,
            "grid_area": null,
            "grid_template_columns": null,
            "flex": null,
            "_model_name": "LayoutModel",
            "justify_items": null,
            "grid_row": null,
            "max_height": null,
            "align_content": null,
            "visibility": null,
            "align_self": null,
            "height": null,
            "min_height": null,
            "padding": null,
            "grid_auto_rows": null,
            "grid_gap": null,
            "max_width": null,
            "order": null,
            "_view_module_version": "1.2.0",
            "grid_template_areas": null,
            "object_position": null,
            "object_fit": null,
            "grid_auto_columns": null,
            "margin": null,
            "display": null,
            "left": null
          }
        },
        "459959ee210849b9ba19b97f69f823c4": {
          "model_module": "@jupyter-widgets/controls",
          "model_name": "HBoxModel",
          "model_module_version": "1.5.0",
          "state": {
            "_view_name": "HBoxView",
            "_dom_classes": [],
            "_model_name": "HBoxModel",
            "_view_module": "@jupyter-widgets/controls",
            "_model_module_version": "1.5.0",
            "_view_count": null,
            "_view_module_version": "1.5.0",
            "box_style": "",
            "layout": "IPY_MODEL_081571ffd87849f5aeb975c27f854ba4",
            "_model_module": "@jupyter-widgets/controls",
            "children": [
              "IPY_MODEL_83821b148b7b407c97cf83e6e91d5743",
              "IPY_MODEL_59e54672e39749829c185c49a5271b58",
              "IPY_MODEL_5066bf22b3ab4357a1b9325db46902ad"
            ]
          }
        },
        "081571ffd87849f5aeb975c27f854ba4": {
          "model_module": "@jupyter-widgets/base",
          "model_name": "LayoutModel",
          "model_module_version": "1.2.0",
          "state": {
            "_view_name": "LayoutView",
            "grid_template_rows": null,
            "right": null,
            "justify_content": null,
            "_view_module": "@jupyter-widgets/base",
            "overflow": null,
            "_model_module_version": "1.2.0",
            "_view_count": null,
            "flex_flow": null,
            "width": null,
            "min_width": null,
            "border": null,
            "align_items": null,
            "bottom": null,
            "_model_module": "@jupyter-widgets/base",
            "top": null,
            "grid_column": null,
            "overflow_y": null,
            "overflow_x": null,
            "grid_auto_flow": null,
            "grid_area": null,
            "grid_template_columns": null,
            "flex": null,
            "_model_name": "LayoutModel",
            "justify_items": null,
            "grid_row": null,
            "max_height": null,
            "align_content": null,
            "visibility": null,
            "align_self": null,
            "height": null,
            "min_height": null,
            "padding": null,
            "grid_auto_rows": null,
            "grid_gap": null,
            "max_width": null,
            "order": null,
            "_view_module_version": "1.2.0",
            "grid_template_areas": null,
            "object_position": null,
            "object_fit": null,
            "grid_auto_columns": null,
            "margin": null,
            "display": null,
            "left": null
          }
        },
        "83821b148b7b407c97cf83e6e91d5743": {
          "model_module": "@jupyter-widgets/controls",
          "model_name": "HTMLModel",
          "model_module_version": "1.5.0",
          "state": {
            "_view_name": "HTMLView",
            "style": "IPY_MODEL_2c286a0882c14151a0de5a965336a651",
            "_dom_classes": [],
            "description": "",
            "_model_name": "HTMLModel",
            "placeholder": "​",
            "_view_module": "@jupyter-widgets/controls",
            "_model_module_version": "1.5.0",
            "value": "100%",
            "_view_count": null,
            "_view_module_version": "1.5.0",
            "description_tooltip": null,
            "_model_module": "@jupyter-widgets/controls",
            "layout": "IPY_MODEL_5fa263ec18fd49a49fd84a8bb2f11f73"
          }
        },
        "59e54672e39749829c185c49a5271b58": {
          "model_module": "@jupyter-widgets/controls",
          "model_name": "FloatProgressModel",
          "model_module_version": "1.5.0",
          "state": {
            "_view_name": "ProgressView",
            "style": "IPY_MODEL_35e63041ac2244a8afb54b6eb0275dce",
            "_dom_classes": [],
            "description": "",
            "_model_name": "FloatProgressModel",
            "bar_style": "success",
            "max": 313,
            "_view_module": "@jupyter-widgets/controls",
            "_model_module_version": "1.5.0",
            "value": 313,
            "_view_count": null,
            "_view_module_version": "1.5.0",
            "orientation": "horizontal",
            "min": 0,
            "description_tooltip": null,
            "_model_module": "@jupyter-widgets/controls",
            "layout": "IPY_MODEL_baba3101b0a741aeb6c0c062706292de"
          }
        },
        "5066bf22b3ab4357a1b9325db46902ad": {
          "model_module": "@jupyter-widgets/controls",
          "model_name": "HTMLModel",
          "model_module_version": "1.5.0",
          "state": {
            "_view_name": "HTMLView",
            "style": "IPY_MODEL_4fe829288ae54f6b8871b2eed191fe56",
            "_dom_classes": [],
            "description": "",
            "_model_name": "HTMLModel",
            "placeholder": "​",
            "_view_module": "@jupyter-widgets/controls",
            "_model_module_version": "1.5.0",
            "value": " 313/313 [00:04&lt;00:00, 73.09it/s]",
            "_view_count": null,
            "_view_module_version": "1.5.0",
            "description_tooltip": null,
            "_model_module": "@jupyter-widgets/controls",
            "layout": "IPY_MODEL_1222a92538ea4be9bcc4edfc9cf50316"
          }
        },
        "2c286a0882c14151a0de5a965336a651": {
          "model_module": "@jupyter-widgets/controls",
          "model_name": "DescriptionStyleModel",
          "model_module_version": "1.5.0",
          "state": {
            "_view_name": "StyleView",
            "_model_name": "DescriptionStyleModel",
            "description_width": "",
            "_view_module": "@jupyter-widgets/base",
            "_model_module_version": "1.5.0",
            "_view_count": null,
            "_view_module_version": "1.2.0",
            "_model_module": "@jupyter-widgets/controls"
          }
        },
        "5fa263ec18fd49a49fd84a8bb2f11f73": {
          "model_module": "@jupyter-widgets/base",
          "model_name": "LayoutModel",
          "model_module_version": "1.2.0",
          "state": {
            "_view_name": "LayoutView",
            "grid_template_rows": null,
            "right": null,
            "justify_content": null,
            "_view_module": "@jupyter-widgets/base",
            "overflow": null,
            "_model_module_version": "1.2.0",
            "_view_count": null,
            "flex_flow": null,
            "width": null,
            "min_width": null,
            "border": null,
            "align_items": null,
            "bottom": null,
            "_model_module": "@jupyter-widgets/base",
            "top": null,
            "grid_column": null,
            "overflow_y": null,
            "overflow_x": null,
            "grid_auto_flow": null,
            "grid_area": null,
            "grid_template_columns": null,
            "flex": null,
            "_model_name": "LayoutModel",
            "justify_items": null,
            "grid_row": null,
            "max_height": null,
            "align_content": null,
            "visibility": null,
            "align_self": null,
            "height": null,
            "min_height": null,
            "padding": null,
            "grid_auto_rows": null,
            "grid_gap": null,
            "max_width": null,
            "order": null,
            "_view_module_version": "1.2.0",
            "grid_template_areas": null,
            "object_position": null,
            "object_fit": null,
            "grid_auto_columns": null,
            "margin": null,
            "display": null,
            "left": null
          }
        },
        "35e63041ac2244a8afb54b6eb0275dce": {
          "model_module": "@jupyter-widgets/controls",
          "model_name": "ProgressStyleModel",
          "model_module_version": "1.5.0",
          "state": {
            "_view_name": "StyleView",
            "_model_name": "ProgressStyleModel",
            "description_width": "",
            "_view_module": "@jupyter-widgets/base",
            "_model_module_version": "1.5.0",
            "_view_count": null,
            "_view_module_version": "1.2.0",
            "bar_color": null,
            "_model_module": "@jupyter-widgets/controls"
          }
        },
        "baba3101b0a741aeb6c0c062706292de": {
          "model_module": "@jupyter-widgets/base",
          "model_name": "LayoutModel",
          "model_module_version": "1.2.0",
          "state": {
            "_view_name": "LayoutView",
            "grid_template_rows": null,
            "right": null,
            "justify_content": null,
            "_view_module": "@jupyter-widgets/base",
            "overflow": null,
            "_model_module_version": "1.2.0",
            "_view_count": null,
            "flex_flow": null,
            "width": null,
            "min_width": null,
            "border": null,
            "align_items": null,
            "bottom": null,
            "_model_module": "@jupyter-widgets/base",
            "top": null,
            "grid_column": null,
            "overflow_y": null,
            "overflow_x": null,
            "grid_auto_flow": null,
            "grid_area": null,
            "grid_template_columns": null,
            "flex": null,
            "_model_name": "LayoutModel",
            "justify_items": null,
            "grid_row": null,
            "max_height": null,
            "align_content": null,
            "visibility": null,
            "align_self": null,
            "height": null,
            "min_height": null,
            "padding": null,
            "grid_auto_rows": null,
            "grid_gap": null,
            "max_width": null,
            "order": null,
            "_view_module_version": "1.2.0",
            "grid_template_areas": null,
            "object_position": null,
            "object_fit": null,
            "grid_auto_columns": null,
            "margin": null,
            "display": null,
            "left": null
          }
        },
        "4fe829288ae54f6b8871b2eed191fe56": {
          "model_module": "@jupyter-widgets/controls",
          "model_name": "DescriptionStyleModel",
          "model_module_version": "1.5.0",
          "state": {
            "_view_name": "StyleView",
            "_model_name": "DescriptionStyleModel",
            "description_width": "",
            "_view_module": "@jupyter-widgets/base",
            "_model_module_version": "1.5.0",
            "_view_count": null,
            "_view_module_version": "1.2.0",
            "_model_module": "@jupyter-widgets/controls"
          }
        },
        "1222a92538ea4be9bcc4edfc9cf50316": {
          "model_module": "@jupyter-widgets/base",
          "model_name": "LayoutModel",
          "model_module_version": "1.2.0",
          "state": {
            "_view_name": "LayoutView",
            "grid_template_rows": null,
            "right": null,
            "justify_content": null,
            "_view_module": "@jupyter-widgets/base",
            "overflow": null,
            "_model_module_version": "1.2.0",
            "_view_count": null,
            "flex_flow": null,
            "width": null,
            "min_width": null,
            "border": null,
            "align_items": null,
            "bottom": null,
            "_model_module": "@jupyter-widgets/base",
            "top": null,
            "grid_column": null,
            "overflow_y": null,
            "overflow_x": null,
            "grid_auto_flow": null,
            "grid_area": null,
            "grid_template_columns": null,
            "flex": null,
            "_model_name": "LayoutModel",
            "justify_items": null,
            "grid_row": null,
            "max_height": null,
            "align_content": null,
            "visibility": null,
            "align_self": null,
            "height": null,
            "min_height": null,
            "padding": null,
            "grid_auto_rows": null,
            "grid_gap": null,
            "max_width": null,
            "order": null,
            "_view_module_version": "1.2.0",
            "grid_template_areas": null,
            "object_position": null,
            "object_fit": null,
            "grid_auto_columns": null,
            "margin": null,
            "display": null,
            "left": null
          }
        },
        "38407ab06e2f46a3ba93e188f756629c": {
          "model_module": "@jupyter-widgets/controls",
          "model_name": "HBoxModel",
          "model_module_version": "1.5.0",
          "state": {
            "_view_name": "HBoxView",
            "_dom_classes": [],
            "_model_name": "HBoxModel",
            "_view_module": "@jupyter-widgets/controls",
            "_model_module_version": "1.5.0",
            "_view_count": null,
            "_view_module_version": "1.5.0",
            "box_style": "",
            "layout": "IPY_MODEL_22164eb4d7fb4b61a5ffab3021dca138",
            "_model_module": "@jupyter-widgets/controls",
            "children": [
              "IPY_MODEL_ffa20eec17a246d694e6965453947b68",
              "IPY_MODEL_17edd5725ef2482eafb70e22d6de5b67",
              "IPY_MODEL_35e3f071d7d24a50bc6fd90e8e6b6f2d"
            ]
          }
        },
        "22164eb4d7fb4b61a5ffab3021dca138": {
          "model_module": "@jupyter-widgets/base",
          "model_name": "LayoutModel",
          "model_module_version": "1.2.0",
          "state": {
            "_view_name": "LayoutView",
            "grid_template_rows": null,
            "right": null,
            "justify_content": null,
            "_view_module": "@jupyter-widgets/base",
            "overflow": null,
            "_model_module_version": "1.2.0",
            "_view_count": null,
            "flex_flow": null,
            "width": null,
            "min_width": null,
            "border": null,
            "align_items": null,
            "bottom": null,
            "_model_module": "@jupyter-widgets/base",
            "top": null,
            "grid_column": null,
            "overflow_y": null,
            "overflow_x": null,
            "grid_auto_flow": null,
            "grid_area": null,
            "grid_template_columns": null,
            "flex": null,
            "_model_name": "LayoutModel",
            "justify_items": null,
            "grid_row": null,
            "max_height": null,
            "align_content": null,
            "visibility": null,
            "align_self": null,
            "height": null,
            "min_height": null,
            "padding": null,
            "grid_auto_rows": null,
            "grid_gap": null,
            "max_width": null,
            "order": null,
            "_view_module_version": "1.2.0",
            "grid_template_areas": null,
            "object_position": null,
            "object_fit": null,
            "grid_auto_columns": null,
            "margin": null,
            "display": null,
            "left": null
          }
        },
        "ffa20eec17a246d694e6965453947b68": {
          "model_module": "@jupyter-widgets/controls",
          "model_name": "HTMLModel",
          "model_module_version": "1.5.0",
          "state": {
            "_view_name": "HTMLView",
            "style": "IPY_MODEL_91cd6c87567a4eb986e0bf2b5a91276d",
            "_dom_classes": [],
            "description": "",
            "_model_name": "HTMLModel",
            "placeholder": "​",
            "_view_module": "@jupyter-widgets/controls",
            "_model_module_version": "1.5.0",
            "value": "100%",
            "_view_count": null,
            "_view_module_version": "1.5.0",
            "description_tooltip": null,
            "_model_module": "@jupyter-widgets/controls",
            "layout": "IPY_MODEL_1c2b861588c747e499cf5a98729c8862"
          }
        },
        "17edd5725ef2482eafb70e22d6de5b67": {
          "model_module": "@jupyter-widgets/controls",
          "model_name": "FloatProgressModel",
          "model_module_version": "1.5.0",
          "state": {
            "_view_name": "ProgressView",
            "style": "IPY_MODEL_42603c8cca7f4509b472137602e1ae6e",
            "_dom_classes": [],
            "description": "",
            "_model_name": "FloatProgressModel",
            "bar_style": "success",
            "max": 1563,
            "_view_module": "@jupyter-widgets/controls",
            "_model_module_version": "1.5.0",
            "value": 1563,
            "_view_count": null,
            "_view_module_version": "1.5.0",
            "orientation": "horizontal",
            "min": 0,
            "description_tooltip": null,
            "_model_module": "@jupyter-widgets/controls",
            "layout": "IPY_MODEL_be599d08427d4c6c9d9beef7495e2729"
          }
        },
        "35e3f071d7d24a50bc6fd90e8e6b6f2d": {
          "model_module": "@jupyter-widgets/controls",
          "model_name": "HTMLModel",
          "model_module_version": "1.5.0",
          "state": {
            "_view_name": "HTMLView",
            "style": "IPY_MODEL_f7a8984b41ac49c39efe1d102d4930e8",
            "_dom_classes": [],
            "description": "",
            "_model_name": "HTMLModel",
            "placeholder": "​",
            "_view_module": "@jupyter-widgets/controls",
            "_model_module_version": "1.5.0",
            "value": " 1563/1563 [01:29&lt;00:00, 17.15it/s]",
            "_view_count": null,
            "_view_module_version": "1.5.0",
            "description_tooltip": null,
            "_model_module": "@jupyter-widgets/controls",
            "layout": "IPY_MODEL_dbfa7c707f344ee1b9506e81929a4d88"
          }
        },
        "91cd6c87567a4eb986e0bf2b5a91276d": {
          "model_module": "@jupyter-widgets/controls",
          "model_name": "DescriptionStyleModel",
          "model_module_version": "1.5.0",
          "state": {
            "_view_name": "StyleView",
            "_model_name": "DescriptionStyleModel",
            "description_width": "",
            "_view_module": "@jupyter-widgets/base",
            "_model_module_version": "1.5.0",
            "_view_count": null,
            "_view_module_version": "1.2.0",
            "_model_module": "@jupyter-widgets/controls"
          }
        },
        "1c2b861588c747e499cf5a98729c8862": {
          "model_module": "@jupyter-widgets/base",
          "model_name": "LayoutModel",
          "model_module_version": "1.2.0",
          "state": {
            "_view_name": "LayoutView",
            "grid_template_rows": null,
            "right": null,
            "justify_content": null,
            "_view_module": "@jupyter-widgets/base",
            "overflow": null,
            "_model_module_version": "1.2.0",
            "_view_count": null,
            "flex_flow": null,
            "width": null,
            "min_width": null,
            "border": null,
            "align_items": null,
            "bottom": null,
            "_model_module": "@jupyter-widgets/base",
            "top": null,
            "grid_column": null,
            "overflow_y": null,
            "overflow_x": null,
            "grid_auto_flow": null,
            "grid_area": null,
            "grid_template_columns": null,
            "flex": null,
            "_model_name": "LayoutModel",
            "justify_items": null,
            "grid_row": null,
            "max_height": null,
            "align_content": null,
            "visibility": null,
            "align_self": null,
            "height": null,
            "min_height": null,
            "padding": null,
            "grid_auto_rows": null,
            "grid_gap": null,
            "max_width": null,
            "order": null,
            "_view_module_version": "1.2.0",
            "grid_template_areas": null,
            "object_position": null,
            "object_fit": null,
            "grid_auto_columns": null,
            "margin": null,
            "display": null,
            "left": null
          }
        },
        "42603c8cca7f4509b472137602e1ae6e": {
          "model_module": "@jupyter-widgets/controls",
          "model_name": "ProgressStyleModel",
          "model_module_version": "1.5.0",
          "state": {
            "_view_name": "StyleView",
            "_model_name": "ProgressStyleModel",
            "description_width": "",
            "_view_module": "@jupyter-widgets/base",
            "_model_module_version": "1.5.0",
            "_view_count": null,
            "_view_module_version": "1.2.0",
            "bar_color": null,
            "_model_module": "@jupyter-widgets/controls"
          }
        },
        "be599d08427d4c6c9d9beef7495e2729": {
          "model_module": "@jupyter-widgets/base",
          "model_name": "LayoutModel",
          "model_module_version": "1.2.0",
          "state": {
            "_view_name": "LayoutView",
            "grid_template_rows": null,
            "right": null,
            "justify_content": null,
            "_view_module": "@jupyter-widgets/base",
            "overflow": null,
            "_model_module_version": "1.2.0",
            "_view_count": null,
            "flex_flow": null,
            "width": null,
            "min_width": null,
            "border": null,
            "align_items": null,
            "bottom": null,
            "_model_module": "@jupyter-widgets/base",
            "top": null,
            "grid_column": null,
            "overflow_y": null,
            "overflow_x": null,
            "grid_auto_flow": null,
            "grid_area": null,
            "grid_template_columns": null,
            "flex": null,
            "_model_name": "LayoutModel",
            "justify_items": null,
            "grid_row": null,
            "max_height": null,
            "align_content": null,
            "visibility": null,
            "align_self": null,
            "height": null,
            "min_height": null,
            "padding": null,
            "grid_auto_rows": null,
            "grid_gap": null,
            "max_width": null,
            "order": null,
            "_view_module_version": "1.2.0",
            "grid_template_areas": null,
            "object_position": null,
            "object_fit": null,
            "grid_auto_columns": null,
            "margin": null,
            "display": null,
            "left": null
          }
        },
        "f7a8984b41ac49c39efe1d102d4930e8": {
          "model_module": "@jupyter-widgets/controls",
          "model_name": "DescriptionStyleModel",
          "model_module_version": "1.5.0",
          "state": {
            "_view_name": "StyleView",
            "_model_name": "DescriptionStyleModel",
            "description_width": "",
            "_view_module": "@jupyter-widgets/base",
            "_model_module_version": "1.5.0",
            "_view_count": null,
            "_view_module_version": "1.2.0",
            "_model_module": "@jupyter-widgets/controls"
          }
        },
        "dbfa7c707f344ee1b9506e81929a4d88": {
          "model_module": "@jupyter-widgets/base",
          "model_name": "LayoutModel",
          "model_module_version": "1.2.0",
          "state": {
            "_view_name": "LayoutView",
            "grid_template_rows": null,
            "right": null,
            "justify_content": null,
            "_view_module": "@jupyter-widgets/base",
            "overflow": null,
            "_model_module_version": "1.2.0",
            "_view_count": null,
            "flex_flow": null,
            "width": null,
            "min_width": null,
            "border": null,
            "align_items": null,
            "bottom": null,
            "_model_module": "@jupyter-widgets/base",
            "top": null,
            "grid_column": null,
            "overflow_y": null,
            "overflow_x": null,
            "grid_auto_flow": null,
            "grid_area": null,
            "grid_template_columns": null,
            "flex": null,
            "_model_name": "LayoutModel",
            "justify_items": null,
            "grid_row": null,
            "max_height": null,
            "align_content": null,
            "visibility": null,
            "align_self": null,
            "height": null,
            "min_height": null,
            "padding": null,
            "grid_auto_rows": null,
            "grid_gap": null,
            "max_width": null,
            "order": null,
            "_view_module_version": "1.2.0",
            "grid_template_areas": null,
            "object_position": null,
            "object_fit": null,
            "grid_auto_columns": null,
            "margin": null,
            "display": null,
            "left": null
          }
        },
        "8ae0fb3aadb544028f6f849eb2d7e99e": {
          "model_module": "@jupyter-widgets/controls",
          "model_name": "HBoxModel",
          "model_module_version": "1.5.0",
          "state": {
            "_view_name": "HBoxView",
            "_dom_classes": [],
            "_model_name": "HBoxModel",
            "_view_module": "@jupyter-widgets/controls",
            "_model_module_version": "1.5.0",
            "_view_count": null,
            "_view_module_version": "1.5.0",
            "box_style": "",
            "layout": "IPY_MODEL_06596dad322a443f9af418d2dc54561a",
            "_model_module": "@jupyter-widgets/controls",
            "children": [
              "IPY_MODEL_1539e5acb8314c698c59017189705b64",
              "IPY_MODEL_55c3490cf6334f589ffe0f492d8397d0",
              "IPY_MODEL_5f1bb815da364c4abc45bea860d29443"
            ]
          }
        },
        "06596dad322a443f9af418d2dc54561a": {
          "model_module": "@jupyter-widgets/base",
          "model_name": "LayoutModel",
          "model_module_version": "1.2.0",
          "state": {
            "_view_name": "LayoutView",
            "grid_template_rows": null,
            "right": null,
            "justify_content": null,
            "_view_module": "@jupyter-widgets/base",
            "overflow": null,
            "_model_module_version": "1.2.0",
            "_view_count": null,
            "flex_flow": null,
            "width": null,
            "min_width": null,
            "border": null,
            "align_items": null,
            "bottom": null,
            "_model_module": "@jupyter-widgets/base",
            "top": null,
            "grid_column": null,
            "overflow_y": null,
            "overflow_x": null,
            "grid_auto_flow": null,
            "grid_area": null,
            "grid_template_columns": null,
            "flex": null,
            "_model_name": "LayoutModel",
            "justify_items": null,
            "grid_row": null,
            "max_height": null,
            "align_content": null,
            "visibility": null,
            "align_self": null,
            "height": null,
            "min_height": null,
            "padding": null,
            "grid_auto_rows": null,
            "grid_gap": null,
            "max_width": null,
            "order": null,
            "_view_module_version": "1.2.0",
            "grid_template_areas": null,
            "object_position": null,
            "object_fit": null,
            "grid_auto_columns": null,
            "margin": null,
            "display": null,
            "left": null
          }
        },
        "1539e5acb8314c698c59017189705b64": {
          "model_module": "@jupyter-widgets/controls",
          "model_name": "HTMLModel",
          "model_module_version": "1.5.0",
          "state": {
            "_view_name": "HTMLView",
            "style": "IPY_MODEL_8343b9881a664068b2a8f82e28698b86",
            "_dom_classes": [],
            "description": "",
            "_model_name": "HTMLModel",
            "placeholder": "​",
            "_view_module": "@jupyter-widgets/controls",
            "_model_module_version": "1.5.0",
            "value": "100%",
            "_view_count": null,
            "_view_module_version": "1.5.0",
            "description_tooltip": null,
            "_model_module": "@jupyter-widgets/controls",
            "layout": "IPY_MODEL_01fa1314db3943a08c95546bd5166afb"
          }
        },
        "55c3490cf6334f589ffe0f492d8397d0": {
          "model_module": "@jupyter-widgets/controls",
          "model_name": "FloatProgressModel",
          "model_module_version": "1.5.0",
          "state": {
            "_view_name": "ProgressView",
            "style": "IPY_MODEL_b707b8d3e6964aff9083f0dcd50f08d5",
            "_dom_classes": [],
            "description": "",
            "_model_name": "FloatProgressModel",
            "bar_style": "success",
            "max": 313,
            "_view_module": "@jupyter-widgets/controls",
            "_model_module_version": "1.5.0",
            "value": 313,
            "_view_count": null,
            "_view_module_version": "1.5.0",
            "orientation": "horizontal",
            "min": 0,
            "description_tooltip": null,
            "_model_module": "@jupyter-widgets/controls",
            "layout": "IPY_MODEL_1f68a82022c24ea09a06ae3e3942e930"
          }
        },
        "5f1bb815da364c4abc45bea860d29443": {
          "model_module": "@jupyter-widgets/controls",
          "model_name": "HTMLModel",
          "model_module_version": "1.5.0",
          "state": {
            "_view_name": "HTMLView",
            "style": "IPY_MODEL_4db72e8b9d7c4ad394a301e406766d40",
            "_dom_classes": [],
            "description": "",
            "_model_name": "HTMLModel",
            "placeholder": "​",
            "_view_module": "@jupyter-widgets/controls",
            "_model_module_version": "1.5.0",
            "value": " 313/313 [00:04&lt;00:00, 75.11it/s]",
            "_view_count": null,
            "_view_module_version": "1.5.0",
            "description_tooltip": null,
            "_model_module": "@jupyter-widgets/controls",
            "layout": "IPY_MODEL_61885071b42e4347a00c03feada74d5e"
          }
        },
        "8343b9881a664068b2a8f82e28698b86": {
          "model_module": "@jupyter-widgets/controls",
          "model_name": "DescriptionStyleModel",
          "model_module_version": "1.5.0",
          "state": {
            "_view_name": "StyleView",
            "_model_name": "DescriptionStyleModel",
            "description_width": "",
            "_view_module": "@jupyter-widgets/base",
            "_model_module_version": "1.5.0",
            "_view_count": null,
            "_view_module_version": "1.2.0",
            "_model_module": "@jupyter-widgets/controls"
          }
        },
        "01fa1314db3943a08c95546bd5166afb": {
          "model_module": "@jupyter-widgets/base",
          "model_name": "LayoutModel",
          "model_module_version": "1.2.0",
          "state": {
            "_view_name": "LayoutView",
            "grid_template_rows": null,
            "right": null,
            "justify_content": null,
            "_view_module": "@jupyter-widgets/base",
            "overflow": null,
            "_model_module_version": "1.2.0",
            "_view_count": null,
            "flex_flow": null,
            "width": null,
            "min_width": null,
            "border": null,
            "align_items": null,
            "bottom": null,
            "_model_module": "@jupyter-widgets/base",
            "top": null,
            "grid_column": null,
            "overflow_y": null,
            "overflow_x": null,
            "grid_auto_flow": null,
            "grid_area": null,
            "grid_template_columns": null,
            "flex": null,
            "_model_name": "LayoutModel",
            "justify_items": null,
            "grid_row": null,
            "max_height": null,
            "align_content": null,
            "visibility": null,
            "align_self": null,
            "height": null,
            "min_height": null,
            "padding": null,
            "grid_auto_rows": null,
            "grid_gap": null,
            "max_width": null,
            "order": null,
            "_view_module_version": "1.2.0",
            "grid_template_areas": null,
            "object_position": null,
            "object_fit": null,
            "grid_auto_columns": null,
            "margin": null,
            "display": null,
            "left": null
          }
        },
        "b707b8d3e6964aff9083f0dcd50f08d5": {
          "model_module": "@jupyter-widgets/controls",
          "model_name": "ProgressStyleModel",
          "model_module_version": "1.5.0",
          "state": {
            "_view_name": "StyleView",
            "_model_name": "ProgressStyleModel",
            "description_width": "",
            "_view_module": "@jupyter-widgets/base",
            "_model_module_version": "1.5.0",
            "_view_count": null,
            "_view_module_version": "1.2.0",
            "bar_color": null,
            "_model_module": "@jupyter-widgets/controls"
          }
        },
        "1f68a82022c24ea09a06ae3e3942e930": {
          "model_module": "@jupyter-widgets/base",
          "model_name": "LayoutModel",
          "model_module_version": "1.2.0",
          "state": {
            "_view_name": "LayoutView",
            "grid_template_rows": null,
            "right": null,
            "justify_content": null,
            "_view_module": "@jupyter-widgets/base",
            "overflow": null,
            "_model_module_version": "1.2.0",
            "_view_count": null,
            "flex_flow": null,
            "width": null,
            "min_width": null,
            "border": null,
            "align_items": null,
            "bottom": null,
            "_model_module": "@jupyter-widgets/base",
            "top": null,
            "grid_column": null,
            "overflow_y": null,
            "overflow_x": null,
            "grid_auto_flow": null,
            "grid_area": null,
            "grid_template_columns": null,
            "flex": null,
            "_model_name": "LayoutModel",
            "justify_items": null,
            "grid_row": null,
            "max_height": null,
            "align_content": null,
            "visibility": null,
            "align_self": null,
            "height": null,
            "min_height": null,
            "padding": null,
            "grid_auto_rows": null,
            "grid_gap": null,
            "max_width": null,
            "order": null,
            "_view_module_version": "1.2.0",
            "grid_template_areas": null,
            "object_position": null,
            "object_fit": null,
            "grid_auto_columns": null,
            "margin": null,
            "display": null,
            "left": null
          }
        },
        "4db72e8b9d7c4ad394a301e406766d40": {
          "model_module": "@jupyter-widgets/controls",
          "model_name": "DescriptionStyleModel",
          "model_module_version": "1.5.0",
          "state": {
            "_view_name": "StyleView",
            "_model_name": "DescriptionStyleModel",
            "description_width": "",
            "_view_module": "@jupyter-widgets/base",
            "_model_module_version": "1.5.0",
            "_view_count": null,
            "_view_module_version": "1.2.0",
            "_model_module": "@jupyter-widgets/controls"
          }
        },
        "61885071b42e4347a00c03feada74d5e": {
          "model_module": "@jupyter-widgets/base",
          "model_name": "LayoutModel",
          "model_module_version": "1.2.0",
          "state": {
            "_view_name": "LayoutView",
            "grid_template_rows": null,
            "right": null,
            "justify_content": null,
            "_view_module": "@jupyter-widgets/base",
            "overflow": null,
            "_model_module_version": "1.2.0",
            "_view_count": null,
            "flex_flow": null,
            "width": null,
            "min_width": null,
            "border": null,
            "align_items": null,
            "bottom": null,
            "_model_module": "@jupyter-widgets/base",
            "top": null,
            "grid_column": null,
            "overflow_y": null,
            "overflow_x": null,
            "grid_auto_flow": null,
            "grid_area": null,
            "grid_template_columns": null,
            "flex": null,
            "_model_name": "LayoutModel",
            "justify_items": null,
            "grid_row": null,
            "max_height": null,
            "align_content": null,
            "visibility": null,
            "align_self": null,
            "height": null,
            "min_height": null,
            "padding": null,
            "grid_auto_rows": null,
            "grid_gap": null,
            "max_width": null,
            "order": null,
            "_view_module_version": "1.2.0",
            "grid_template_areas": null,
            "object_position": null,
            "object_fit": null,
            "grid_auto_columns": null,
            "margin": null,
            "display": null,
            "left": null
          }
        },
        "e4b0ec04b1264a44a3158ef958d9a214": {
          "model_module": "@jupyter-widgets/controls",
          "model_name": "HBoxModel",
          "model_module_version": "1.5.0",
          "state": {
            "_view_name": "HBoxView",
            "_dom_classes": [],
            "_model_name": "HBoxModel",
            "_view_module": "@jupyter-widgets/controls",
            "_model_module_version": "1.5.0",
            "_view_count": null,
            "_view_module_version": "1.5.0",
            "box_style": "",
            "layout": "IPY_MODEL_6e89fc23c14c4341a3892e090bb833e4",
            "_model_module": "@jupyter-widgets/controls",
            "children": [
              "IPY_MODEL_0a430aa2bff74436bfcef290d49bbeea",
              "IPY_MODEL_dc441927024b4368a8fc189e8927d110",
              "IPY_MODEL_31443ba7ee354acfa9d19fa46a74d451"
            ]
          }
        },
        "6e89fc23c14c4341a3892e090bb833e4": {
          "model_module": "@jupyter-widgets/base",
          "model_name": "LayoutModel",
          "model_module_version": "1.2.0",
          "state": {
            "_view_name": "LayoutView",
            "grid_template_rows": null,
            "right": null,
            "justify_content": null,
            "_view_module": "@jupyter-widgets/base",
            "overflow": null,
            "_model_module_version": "1.2.0",
            "_view_count": null,
            "flex_flow": null,
            "width": null,
            "min_width": null,
            "border": null,
            "align_items": null,
            "bottom": null,
            "_model_module": "@jupyter-widgets/base",
            "top": null,
            "grid_column": null,
            "overflow_y": null,
            "overflow_x": null,
            "grid_auto_flow": null,
            "grid_area": null,
            "grid_template_columns": null,
            "flex": null,
            "_model_name": "LayoutModel",
            "justify_items": null,
            "grid_row": null,
            "max_height": null,
            "align_content": null,
            "visibility": null,
            "align_self": null,
            "height": null,
            "min_height": null,
            "padding": null,
            "grid_auto_rows": null,
            "grid_gap": null,
            "max_width": null,
            "order": null,
            "_view_module_version": "1.2.0",
            "grid_template_areas": null,
            "object_position": null,
            "object_fit": null,
            "grid_auto_columns": null,
            "margin": null,
            "display": null,
            "left": null
          }
        },
        "0a430aa2bff74436bfcef290d49bbeea": {
          "model_module": "@jupyter-widgets/controls",
          "model_name": "HTMLModel",
          "model_module_version": "1.5.0",
          "state": {
            "_view_name": "HTMLView",
            "style": "IPY_MODEL_e8c3699aa87d45dab678f71d8aa90f07",
            "_dom_classes": [],
            "description": "",
            "_model_name": "HTMLModel",
            "placeholder": "​",
            "_view_module": "@jupyter-widgets/controls",
            "_model_module_version": "1.5.0",
            "value": "100%",
            "_view_count": null,
            "_view_module_version": "1.5.0",
            "description_tooltip": null,
            "_model_module": "@jupyter-widgets/controls",
            "layout": "IPY_MODEL_9f2b9f3764484e8c8f9f97a6c79b818d"
          }
        },
        "dc441927024b4368a8fc189e8927d110": {
          "model_module": "@jupyter-widgets/controls",
          "model_name": "FloatProgressModel",
          "model_module_version": "1.5.0",
          "state": {
            "_view_name": "ProgressView",
            "style": "IPY_MODEL_686ca5d5104f47b2ab46ebfb46ce37e6",
            "_dom_classes": [],
            "description": "",
            "_model_name": "FloatProgressModel",
            "bar_style": "success",
            "max": 1563,
            "_view_module": "@jupyter-widgets/controls",
            "_model_module_version": "1.5.0",
            "value": 1563,
            "_view_count": null,
            "_view_module_version": "1.5.0",
            "orientation": "horizontal",
            "min": 0,
            "description_tooltip": null,
            "_model_module": "@jupyter-widgets/controls",
            "layout": "IPY_MODEL_f2a87d31f8784da49f52b71625fc192b"
          }
        },
        "31443ba7ee354acfa9d19fa46a74d451": {
          "model_module": "@jupyter-widgets/controls",
          "model_name": "HTMLModel",
          "model_module_version": "1.5.0",
          "state": {
            "_view_name": "HTMLView",
            "style": "IPY_MODEL_00d039bf072147138b2a31e9e967d367",
            "_dom_classes": [],
            "description": "",
            "_model_name": "HTMLModel",
            "placeholder": "​",
            "_view_module": "@jupyter-widgets/controls",
            "_model_module_version": "1.5.0",
            "value": " 1563/1563 [01:27&lt;00:00, 17.19it/s]",
            "_view_count": null,
            "_view_module_version": "1.5.0",
            "description_tooltip": null,
            "_model_module": "@jupyter-widgets/controls",
            "layout": "IPY_MODEL_6888630caa4049fb95c187b3d7e7fbd8"
          }
        },
        "e8c3699aa87d45dab678f71d8aa90f07": {
          "model_module": "@jupyter-widgets/controls",
          "model_name": "DescriptionStyleModel",
          "model_module_version": "1.5.0",
          "state": {
            "_view_name": "StyleView",
            "_model_name": "DescriptionStyleModel",
            "description_width": "",
            "_view_module": "@jupyter-widgets/base",
            "_model_module_version": "1.5.0",
            "_view_count": null,
            "_view_module_version": "1.2.0",
            "_model_module": "@jupyter-widgets/controls"
          }
        },
        "9f2b9f3764484e8c8f9f97a6c79b818d": {
          "model_module": "@jupyter-widgets/base",
          "model_name": "LayoutModel",
          "model_module_version": "1.2.0",
          "state": {
            "_view_name": "LayoutView",
            "grid_template_rows": null,
            "right": null,
            "justify_content": null,
            "_view_module": "@jupyter-widgets/base",
            "overflow": null,
            "_model_module_version": "1.2.0",
            "_view_count": null,
            "flex_flow": null,
            "width": null,
            "min_width": null,
            "border": null,
            "align_items": null,
            "bottom": null,
            "_model_module": "@jupyter-widgets/base",
            "top": null,
            "grid_column": null,
            "overflow_y": null,
            "overflow_x": null,
            "grid_auto_flow": null,
            "grid_area": null,
            "grid_template_columns": null,
            "flex": null,
            "_model_name": "LayoutModel",
            "justify_items": null,
            "grid_row": null,
            "max_height": null,
            "align_content": null,
            "visibility": null,
            "align_self": null,
            "height": null,
            "min_height": null,
            "padding": null,
            "grid_auto_rows": null,
            "grid_gap": null,
            "max_width": null,
            "order": null,
            "_view_module_version": "1.2.0",
            "grid_template_areas": null,
            "object_position": null,
            "object_fit": null,
            "grid_auto_columns": null,
            "margin": null,
            "display": null,
            "left": null
          }
        },
        "686ca5d5104f47b2ab46ebfb46ce37e6": {
          "model_module": "@jupyter-widgets/controls",
          "model_name": "ProgressStyleModel",
          "model_module_version": "1.5.0",
          "state": {
            "_view_name": "StyleView",
            "_model_name": "ProgressStyleModel",
            "description_width": "",
            "_view_module": "@jupyter-widgets/base",
            "_model_module_version": "1.5.0",
            "_view_count": null,
            "_view_module_version": "1.2.0",
            "bar_color": null,
            "_model_module": "@jupyter-widgets/controls"
          }
        },
        "f2a87d31f8784da49f52b71625fc192b": {
          "model_module": "@jupyter-widgets/base",
          "model_name": "LayoutModel",
          "model_module_version": "1.2.0",
          "state": {
            "_view_name": "LayoutView",
            "grid_template_rows": null,
            "right": null,
            "justify_content": null,
            "_view_module": "@jupyter-widgets/base",
            "overflow": null,
            "_model_module_version": "1.2.0",
            "_view_count": null,
            "flex_flow": null,
            "width": null,
            "min_width": null,
            "border": null,
            "align_items": null,
            "bottom": null,
            "_model_module": "@jupyter-widgets/base",
            "top": null,
            "grid_column": null,
            "overflow_y": null,
            "overflow_x": null,
            "grid_auto_flow": null,
            "grid_area": null,
            "grid_template_columns": null,
            "flex": null,
            "_model_name": "LayoutModel",
            "justify_items": null,
            "grid_row": null,
            "max_height": null,
            "align_content": null,
            "visibility": null,
            "align_self": null,
            "height": null,
            "min_height": null,
            "padding": null,
            "grid_auto_rows": null,
            "grid_gap": null,
            "max_width": null,
            "order": null,
            "_view_module_version": "1.2.0",
            "grid_template_areas": null,
            "object_position": null,
            "object_fit": null,
            "grid_auto_columns": null,
            "margin": null,
            "display": null,
            "left": null
          }
        },
        "00d039bf072147138b2a31e9e967d367": {
          "model_module": "@jupyter-widgets/controls",
          "model_name": "DescriptionStyleModel",
          "model_module_version": "1.5.0",
          "state": {
            "_view_name": "StyleView",
            "_model_name": "DescriptionStyleModel",
            "description_width": "",
            "_view_module": "@jupyter-widgets/base",
            "_model_module_version": "1.5.0",
            "_view_count": null,
            "_view_module_version": "1.2.0",
            "_model_module": "@jupyter-widgets/controls"
          }
        },
        "6888630caa4049fb95c187b3d7e7fbd8": {
          "model_module": "@jupyter-widgets/base",
          "model_name": "LayoutModel",
          "model_module_version": "1.2.0",
          "state": {
            "_view_name": "LayoutView",
            "grid_template_rows": null,
            "right": null,
            "justify_content": null,
            "_view_module": "@jupyter-widgets/base",
            "overflow": null,
            "_model_module_version": "1.2.0",
            "_view_count": null,
            "flex_flow": null,
            "width": null,
            "min_width": null,
            "border": null,
            "align_items": null,
            "bottom": null,
            "_model_module": "@jupyter-widgets/base",
            "top": null,
            "grid_column": null,
            "overflow_y": null,
            "overflow_x": null,
            "grid_auto_flow": null,
            "grid_area": null,
            "grid_template_columns": null,
            "flex": null,
            "_model_name": "LayoutModel",
            "justify_items": null,
            "grid_row": null,
            "max_height": null,
            "align_content": null,
            "visibility": null,
            "align_self": null,
            "height": null,
            "min_height": null,
            "padding": null,
            "grid_auto_rows": null,
            "grid_gap": null,
            "max_width": null,
            "order": null,
            "_view_module_version": "1.2.0",
            "grid_template_areas": null,
            "object_position": null,
            "object_fit": null,
            "grid_auto_columns": null,
            "margin": null,
            "display": null,
            "left": null
          }
        },
        "e810de4a00ba4c8d911338e0aeb788a2": {
          "model_module": "@jupyter-widgets/controls",
          "model_name": "HBoxModel",
          "model_module_version": "1.5.0",
          "state": {
            "_view_name": "HBoxView",
            "_dom_classes": [],
            "_model_name": "HBoxModel",
            "_view_module": "@jupyter-widgets/controls",
            "_model_module_version": "1.5.0",
            "_view_count": null,
            "_view_module_version": "1.5.0",
            "box_style": "",
            "layout": "IPY_MODEL_ab06eeddec54412c85fd30f14f7315b8",
            "_model_module": "@jupyter-widgets/controls",
            "children": [
              "IPY_MODEL_c0b3d829092449708b011f65b5d122df",
              "IPY_MODEL_774be40cbb4940cf941461566aa7569d",
              "IPY_MODEL_0414d9745d6e481f9be631046eb48dab"
            ]
          }
        },
        "ab06eeddec54412c85fd30f14f7315b8": {
          "model_module": "@jupyter-widgets/base",
          "model_name": "LayoutModel",
          "model_module_version": "1.2.0",
          "state": {
            "_view_name": "LayoutView",
            "grid_template_rows": null,
            "right": null,
            "justify_content": null,
            "_view_module": "@jupyter-widgets/base",
            "overflow": null,
            "_model_module_version": "1.2.0",
            "_view_count": null,
            "flex_flow": null,
            "width": null,
            "min_width": null,
            "border": null,
            "align_items": null,
            "bottom": null,
            "_model_module": "@jupyter-widgets/base",
            "top": null,
            "grid_column": null,
            "overflow_y": null,
            "overflow_x": null,
            "grid_auto_flow": null,
            "grid_area": null,
            "grid_template_columns": null,
            "flex": null,
            "_model_name": "LayoutModel",
            "justify_items": null,
            "grid_row": null,
            "max_height": null,
            "align_content": null,
            "visibility": null,
            "align_self": null,
            "height": null,
            "min_height": null,
            "padding": null,
            "grid_auto_rows": null,
            "grid_gap": null,
            "max_width": null,
            "order": null,
            "_view_module_version": "1.2.0",
            "grid_template_areas": null,
            "object_position": null,
            "object_fit": null,
            "grid_auto_columns": null,
            "margin": null,
            "display": null,
            "left": null
          }
        },
        "c0b3d829092449708b011f65b5d122df": {
          "model_module": "@jupyter-widgets/controls",
          "model_name": "HTMLModel",
          "model_module_version": "1.5.0",
          "state": {
            "_view_name": "HTMLView",
            "style": "IPY_MODEL_59cb4c23b7c64c868d5aa7f335253b29",
            "_dom_classes": [],
            "description": "",
            "_model_name": "HTMLModel",
            "placeholder": "​",
            "_view_module": "@jupyter-widgets/controls",
            "_model_module_version": "1.5.0",
            "value": "100%",
            "_view_count": null,
            "_view_module_version": "1.5.0",
            "description_tooltip": null,
            "_model_module": "@jupyter-widgets/controls",
            "layout": "IPY_MODEL_a21b94146fb4486e90bcf3f6a10f1daa"
          }
        },
        "774be40cbb4940cf941461566aa7569d": {
          "model_module": "@jupyter-widgets/controls",
          "model_name": "FloatProgressModel",
          "model_module_version": "1.5.0",
          "state": {
            "_view_name": "ProgressView",
            "style": "IPY_MODEL_22eadb8939044d22a34b30e3ff86de11",
            "_dom_classes": [],
            "description": "",
            "_model_name": "FloatProgressModel",
            "bar_style": "success",
            "max": 313,
            "_view_module": "@jupyter-widgets/controls",
            "_model_module_version": "1.5.0",
            "value": 313,
            "_view_count": null,
            "_view_module_version": "1.5.0",
            "orientation": "horizontal",
            "min": 0,
            "description_tooltip": null,
            "_model_module": "@jupyter-widgets/controls",
            "layout": "IPY_MODEL_433714da11f1435dbedb8ea8fc3dc2fc"
          }
        },
        "0414d9745d6e481f9be631046eb48dab": {
          "model_module": "@jupyter-widgets/controls",
          "model_name": "HTMLModel",
          "model_module_version": "1.5.0",
          "state": {
            "_view_name": "HTMLView",
            "style": "IPY_MODEL_00079806872a42dfbce37d2cc23df052",
            "_dom_classes": [],
            "description": "",
            "_model_name": "HTMLModel",
            "placeholder": "​",
            "_view_module": "@jupyter-widgets/controls",
            "_model_module_version": "1.5.0",
            "value": " 313/313 [00:04&lt;00:00, 71.97it/s]",
            "_view_count": null,
            "_view_module_version": "1.5.0",
            "description_tooltip": null,
            "_model_module": "@jupyter-widgets/controls",
            "layout": "IPY_MODEL_91f5d4dbc4754d029e330200da6885eb"
          }
        },
        "59cb4c23b7c64c868d5aa7f335253b29": {
          "model_module": "@jupyter-widgets/controls",
          "model_name": "DescriptionStyleModel",
          "model_module_version": "1.5.0",
          "state": {
            "_view_name": "StyleView",
            "_model_name": "DescriptionStyleModel",
            "description_width": "",
            "_view_module": "@jupyter-widgets/base",
            "_model_module_version": "1.5.0",
            "_view_count": null,
            "_view_module_version": "1.2.0",
            "_model_module": "@jupyter-widgets/controls"
          }
        },
        "a21b94146fb4486e90bcf3f6a10f1daa": {
          "model_module": "@jupyter-widgets/base",
          "model_name": "LayoutModel",
          "model_module_version": "1.2.0",
          "state": {
            "_view_name": "LayoutView",
            "grid_template_rows": null,
            "right": null,
            "justify_content": null,
            "_view_module": "@jupyter-widgets/base",
            "overflow": null,
            "_model_module_version": "1.2.0",
            "_view_count": null,
            "flex_flow": null,
            "width": null,
            "min_width": null,
            "border": null,
            "align_items": null,
            "bottom": null,
            "_model_module": "@jupyter-widgets/base",
            "top": null,
            "grid_column": null,
            "overflow_y": null,
            "overflow_x": null,
            "grid_auto_flow": null,
            "grid_area": null,
            "grid_template_columns": null,
            "flex": null,
            "_model_name": "LayoutModel",
            "justify_items": null,
            "grid_row": null,
            "max_height": null,
            "align_content": null,
            "visibility": null,
            "align_self": null,
            "height": null,
            "min_height": null,
            "padding": null,
            "grid_auto_rows": null,
            "grid_gap": null,
            "max_width": null,
            "order": null,
            "_view_module_version": "1.2.0",
            "grid_template_areas": null,
            "object_position": null,
            "object_fit": null,
            "grid_auto_columns": null,
            "margin": null,
            "display": null,
            "left": null
          }
        },
        "22eadb8939044d22a34b30e3ff86de11": {
          "model_module": "@jupyter-widgets/controls",
          "model_name": "ProgressStyleModel",
          "model_module_version": "1.5.0",
          "state": {
            "_view_name": "StyleView",
            "_model_name": "ProgressStyleModel",
            "description_width": "",
            "_view_module": "@jupyter-widgets/base",
            "_model_module_version": "1.5.0",
            "_view_count": null,
            "_view_module_version": "1.2.0",
            "bar_color": null,
            "_model_module": "@jupyter-widgets/controls"
          }
        },
        "433714da11f1435dbedb8ea8fc3dc2fc": {
          "model_module": "@jupyter-widgets/base",
          "model_name": "LayoutModel",
          "model_module_version": "1.2.0",
          "state": {
            "_view_name": "LayoutView",
            "grid_template_rows": null,
            "right": null,
            "justify_content": null,
            "_view_module": "@jupyter-widgets/base",
            "overflow": null,
            "_model_module_version": "1.2.0",
            "_view_count": null,
            "flex_flow": null,
            "width": null,
            "min_width": null,
            "border": null,
            "align_items": null,
            "bottom": null,
            "_model_module": "@jupyter-widgets/base",
            "top": null,
            "grid_column": null,
            "overflow_y": null,
            "overflow_x": null,
            "grid_auto_flow": null,
            "grid_area": null,
            "grid_template_columns": null,
            "flex": null,
            "_model_name": "LayoutModel",
            "justify_items": null,
            "grid_row": null,
            "max_height": null,
            "align_content": null,
            "visibility": null,
            "align_self": null,
            "height": null,
            "min_height": null,
            "padding": null,
            "grid_auto_rows": null,
            "grid_gap": null,
            "max_width": null,
            "order": null,
            "_view_module_version": "1.2.0",
            "grid_template_areas": null,
            "object_position": null,
            "object_fit": null,
            "grid_auto_columns": null,
            "margin": null,
            "display": null,
            "left": null
          }
        },
        "00079806872a42dfbce37d2cc23df052": {
          "model_module": "@jupyter-widgets/controls",
          "model_name": "DescriptionStyleModel",
          "model_module_version": "1.5.0",
          "state": {
            "_view_name": "StyleView",
            "_model_name": "DescriptionStyleModel",
            "description_width": "",
            "_view_module": "@jupyter-widgets/base",
            "_model_module_version": "1.5.0",
            "_view_count": null,
            "_view_module_version": "1.2.0",
            "_model_module": "@jupyter-widgets/controls"
          }
        },
        "91f5d4dbc4754d029e330200da6885eb": {
          "model_module": "@jupyter-widgets/base",
          "model_name": "LayoutModel",
          "model_module_version": "1.2.0",
          "state": {
            "_view_name": "LayoutView",
            "grid_template_rows": null,
            "right": null,
            "justify_content": null,
            "_view_module": "@jupyter-widgets/base",
            "overflow": null,
            "_model_module_version": "1.2.0",
            "_view_count": null,
            "flex_flow": null,
            "width": null,
            "min_width": null,
            "border": null,
            "align_items": null,
            "bottom": null,
            "_model_module": "@jupyter-widgets/base",
            "top": null,
            "grid_column": null,
            "overflow_y": null,
            "overflow_x": null,
            "grid_auto_flow": null,
            "grid_area": null,
            "grid_template_columns": null,
            "flex": null,
            "_model_name": "LayoutModel",
            "justify_items": null,
            "grid_row": null,
            "max_height": null,
            "align_content": null,
            "visibility": null,
            "align_self": null,
            "height": null,
            "min_height": null,
            "padding": null,
            "grid_auto_rows": null,
            "grid_gap": null,
            "max_width": null,
            "order": null,
            "_view_module_version": "1.2.0",
            "grid_template_areas": null,
            "object_position": null,
            "object_fit": null,
            "grid_auto_columns": null,
            "margin": null,
            "display": null,
            "left": null
          }
        },
        "b09c57ab4ac54614a8028ad90a865ad7": {
          "model_module": "@jupyter-widgets/controls",
          "model_name": "HBoxModel",
          "model_module_version": "1.5.0",
          "state": {
            "_view_name": "HBoxView",
            "_dom_classes": [],
            "_model_name": "HBoxModel",
            "_view_module": "@jupyter-widgets/controls",
            "_model_module_version": "1.5.0",
            "_view_count": null,
            "_view_module_version": "1.5.0",
            "box_style": "",
            "layout": "IPY_MODEL_618707388c3947e59a6c07b2b302670d",
            "_model_module": "@jupyter-widgets/controls",
            "children": [
              "IPY_MODEL_bcb7875df9cd41adbda4d364dfac3908",
              "IPY_MODEL_223d5d96d06b4b5ab59249bfe3cf699a",
              "IPY_MODEL_c2e0cc6d2a7c469e8d300afd76d4c833"
            ]
          }
        },
        "618707388c3947e59a6c07b2b302670d": {
          "model_module": "@jupyter-widgets/base",
          "model_name": "LayoutModel",
          "model_module_version": "1.2.0",
          "state": {
            "_view_name": "LayoutView",
            "grid_template_rows": null,
            "right": null,
            "justify_content": null,
            "_view_module": "@jupyter-widgets/base",
            "overflow": null,
            "_model_module_version": "1.2.0",
            "_view_count": null,
            "flex_flow": null,
            "width": null,
            "min_width": null,
            "border": null,
            "align_items": null,
            "bottom": null,
            "_model_module": "@jupyter-widgets/base",
            "top": null,
            "grid_column": null,
            "overflow_y": null,
            "overflow_x": null,
            "grid_auto_flow": null,
            "grid_area": null,
            "grid_template_columns": null,
            "flex": null,
            "_model_name": "LayoutModel",
            "justify_items": null,
            "grid_row": null,
            "max_height": null,
            "align_content": null,
            "visibility": null,
            "align_self": null,
            "height": null,
            "min_height": null,
            "padding": null,
            "grid_auto_rows": null,
            "grid_gap": null,
            "max_width": null,
            "order": null,
            "_view_module_version": "1.2.0",
            "grid_template_areas": null,
            "object_position": null,
            "object_fit": null,
            "grid_auto_columns": null,
            "margin": null,
            "display": null,
            "left": null
          }
        },
        "bcb7875df9cd41adbda4d364dfac3908": {
          "model_module": "@jupyter-widgets/controls",
          "model_name": "HTMLModel",
          "model_module_version": "1.5.0",
          "state": {
            "_view_name": "HTMLView",
            "style": "IPY_MODEL_3258bfdacb0349b4b2a1f847b7955c05",
            "_dom_classes": [],
            "description": "",
            "_model_name": "HTMLModel",
            "placeholder": "​",
            "_view_module": "@jupyter-widgets/controls",
            "_model_module_version": "1.5.0",
            "value": "100%",
            "_view_count": null,
            "_view_module_version": "1.5.0",
            "description_tooltip": null,
            "_model_module": "@jupyter-widgets/controls",
            "layout": "IPY_MODEL_fbc2cc34395e4c48acd60e27e132189b"
          }
        },
        "223d5d96d06b4b5ab59249bfe3cf699a": {
          "model_module": "@jupyter-widgets/controls",
          "model_name": "FloatProgressModel",
          "model_module_version": "1.5.0",
          "state": {
            "_view_name": "ProgressView",
            "style": "IPY_MODEL_97cacf350a924063bee8f3fd30b1ec2c",
            "_dom_classes": [],
            "description": "",
            "_model_name": "FloatProgressModel",
            "bar_style": "success",
            "max": 1563,
            "_view_module": "@jupyter-widgets/controls",
            "_model_module_version": "1.5.0",
            "value": 1563,
            "_view_count": null,
            "_view_module_version": "1.5.0",
            "orientation": "horizontal",
            "min": 0,
            "description_tooltip": null,
            "_model_module": "@jupyter-widgets/controls",
            "layout": "IPY_MODEL_c9e0e96cdc684085ab6d6c2e1b02d6c6"
          }
        },
        "c2e0cc6d2a7c469e8d300afd76d4c833": {
          "model_module": "@jupyter-widgets/controls",
          "model_name": "HTMLModel",
          "model_module_version": "1.5.0",
          "state": {
            "_view_name": "HTMLView",
            "style": "IPY_MODEL_dfdb9b29892449a289996d11be3b929d",
            "_dom_classes": [],
            "description": "",
            "_model_name": "HTMLModel",
            "placeholder": "​",
            "_view_module": "@jupyter-widgets/controls",
            "_model_module_version": "1.5.0",
            "value": " 1563/1563 [01:28&lt;00:00, 17.83it/s]",
            "_view_count": null,
            "_view_module_version": "1.5.0",
            "description_tooltip": null,
            "_model_module": "@jupyter-widgets/controls",
            "layout": "IPY_MODEL_d54dfee7e0db44688fd5d130bebc1f5a"
          }
        },
        "3258bfdacb0349b4b2a1f847b7955c05": {
          "model_module": "@jupyter-widgets/controls",
          "model_name": "DescriptionStyleModel",
          "model_module_version": "1.5.0",
          "state": {
            "_view_name": "StyleView",
            "_model_name": "DescriptionStyleModel",
            "description_width": "",
            "_view_module": "@jupyter-widgets/base",
            "_model_module_version": "1.5.0",
            "_view_count": null,
            "_view_module_version": "1.2.0",
            "_model_module": "@jupyter-widgets/controls"
          }
        },
        "fbc2cc34395e4c48acd60e27e132189b": {
          "model_module": "@jupyter-widgets/base",
          "model_name": "LayoutModel",
          "model_module_version": "1.2.0",
          "state": {
            "_view_name": "LayoutView",
            "grid_template_rows": null,
            "right": null,
            "justify_content": null,
            "_view_module": "@jupyter-widgets/base",
            "overflow": null,
            "_model_module_version": "1.2.0",
            "_view_count": null,
            "flex_flow": null,
            "width": null,
            "min_width": null,
            "border": null,
            "align_items": null,
            "bottom": null,
            "_model_module": "@jupyter-widgets/base",
            "top": null,
            "grid_column": null,
            "overflow_y": null,
            "overflow_x": null,
            "grid_auto_flow": null,
            "grid_area": null,
            "grid_template_columns": null,
            "flex": null,
            "_model_name": "LayoutModel",
            "justify_items": null,
            "grid_row": null,
            "max_height": null,
            "align_content": null,
            "visibility": null,
            "align_self": null,
            "height": null,
            "min_height": null,
            "padding": null,
            "grid_auto_rows": null,
            "grid_gap": null,
            "max_width": null,
            "order": null,
            "_view_module_version": "1.2.0",
            "grid_template_areas": null,
            "object_position": null,
            "object_fit": null,
            "grid_auto_columns": null,
            "margin": null,
            "display": null,
            "left": null
          }
        },
        "97cacf350a924063bee8f3fd30b1ec2c": {
          "model_module": "@jupyter-widgets/controls",
          "model_name": "ProgressStyleModel",
          "model_module_version": "1.5.0",
          "state": {
            "_view_name": "StyleView",
            "_model_name": "ProgressStyleModel",
            "description_width": "",
            "_view_module": "@jupyter-widgets/base",
            "_model_module_version": "1.5.0",
            "_view_count": null,
            "_view_module_version": "1.2.0",
            "bar_color": null,
            "_model_module": "@jupyter-widgets/controls"
          }
        },
        "c9e0e96cdc684085ab6d6c2e1b02d6c6": {
          "model_module": "@jupyter-widgets/base",
          "model_name": "LayoutModel",
          "model_module_version": "1.2.0",
          "state": {
            "_view_name": "LayoutView",
            "grid_template_rows": null,
            "right": null,
            "justify_content": null,
            "_view_module": "@jupyter-widgets/base",
            "overflow": null,
            "_model_module_version": "1.2.0",
            "_view_count": null,
            "flex_flow": null,
            "width": null,
            "min_width": null,
            "border": null,
            "align_items": null,
            "bottom": null,
            "_model_module": "@jupyter-widgets/base",
            "top": null,
            "grid_column": null,
            "overflow_y": null,
            "overflow_x": null,
            "grid_auto_flow": null,
            "grid_area": null,
            "grid_template_columns": null,
            "flex": null,
            "_model_name": "LayoutModel",
            "justify_items": null,
            "grid_row": null,
            "max_height": null,
            "align_content": null,
            "visibility": null,
            "align_self": null,
            "height": null,
            "min_height": null,
            "padding": null,
            "grid_auto_rows": null,
            "grid_gap": null,
            "max_width": null,
            "order": null,
            "_view_module_version": "1.2.0",
            "grid_template_areas": null,
            "object_position": null,
            "object_fit": null,
            "grid_auto_columns": null,
            "margin": null,
            "display": null,
            "left": null
          }
        },
        "dfdb9b29892449a289996d11be3b929d": {
          "model_module": "@jupyter-widgets/controls",
          "model_name": "DescriptionStyleModel",
          "model_module_version": "1.5.0",
          "state": {
            "_view_name": "StyleView",
            "_model_name": "DescriptionStyleModel",
            "description_width": "",
            "_view_module": "@jupyter-widgets/base",
            "_model_module_version": "1.5.0",
            "_view_count": null,
            "_view_module_version": "1.2.0",
            "_model_module": "@jupyter-widgets/controls"
          }
        },
        "d54dfee7e0db44688fd5d130bebc1f5a": {
          "model_module": "@jupyter-widgets/base",
          "model_name": "LayoutModel",
          "model_module_version": "1.2.0",
          "state": {
            "_view_name": "LayoutView",
            "grid_template_rows": null,
            "right": null,
            "justify_content": null,
            "_view_module": "@jupyter-widgets/base",
            "overflow": null,
            "_model_module_version": "1.2.0",
            "_view_count": null,
            "flex_flow": null,
            "width": null,
            "min_width": null,
            "border": null,
            "align_items": null,
            "bottom": null,
            "_model_module": "@jupyter-widgets/base",
            "top": null,
            "grid_column": null,
            "overflow_y": null,
            "overflow_x": null,
            "grid_auto_flow": null,
            "grid_area": null,
            "grid_template_columns": null,
            "flex": null,
            "_model_name": "LayoutModel",
            "justify_items": null,
            "grid_row": null,
            "max_height": null,
            "align_content": null,
            "visibility": null,
            "align_self": null,
            "height": null,
            "min_height": null,
            "padding": null,
            "grid_auto_rows": null,
            "grid_gap": null,
            "max_width": null,
            "order": null,
            "_view_module_version": "1.2.0",
            "grid_template_areas": null,
            "object_position": null,
            "object_fit": null,
            "grid_auto_columns": null,
            "margin": null,
            "display": null,
            "left": null
          }
        },
        "0537d140d5184632af269ee39115417c": {
          "model_module": "@jupyter-widgets/controls",
          "model_name": "HBoxModel",
          "model_module_version": "1.5.0",
          "state": {
            "_view_name": "HBoxView",
            "_dom_classes": [],
            "_model_name": "HBoxModel",
            "_view_module": "@jupyter-widgets/controls",
            "_model_module_version": "1.5.0",
            "_view_count": null,
            "_view_module_version": "1.5.0",
            "box_style": "",
            "layout": "IPY_MODEL_d56e055b176c44a7b6ada0cfcec8ffd3",
            "_model_module": "@jupyter-widgets/controls",
            "children": [
              "IPY_MODEL_53ec8f1910204466b607c3126892f7a2",
              "IPY_MODEL_17659cd412274453921176c25209e884",
              "IPY_MODEL_868d4d75d56442feaa380ffb91db97fa"
            ]
          }
        },
        "d56e055b176c44a7b6ada0cfcec8ffd3": {
          "model_module": "@jupyter-widgets/base",
          "model_name": "LayoutModel",
          "model_module_version": "1.2.0",
          "state": {
            "_view_name": "LayoutView",
            "grid_template_rows": null,
            "right": null,
            "justify_content": null,
            "_view_module": "@jupyter-widgets/base",
            "overflow": null,
            "_model_module_version": "1.2.0",
            "_view_count": null,
            "flex_flow": null,
            "width": null,
            "min_width": null,
            "border": null,
            "align_items": null,
            "bottom": null,
            "_model_module": "@jupyter-widgets/base",
            "top": null,
            "grid_column": null,
            "overflow_y": null,
            "overflow_x": null,
            "grid_auto_flow": null,
            "grid_area": null,
            "grid_template_columns": null,
            "flex": null,
            "_model_name": "LayoutModel",
            "justify_items": null,
            "grid_row": null,
            "max_height": null,
            "align_content": null,
            "visibility": null,
            "align_self": null,
            "height": null,
            "min_height": null,
            "padding": null,
            "grid_auto_rows": null,
            "grid_gap": null,
            "max_width": null,
            "order": null,
            "_view_module_version": "1.2.0",
            "grid_template_areas": null,
            "object_position": null,
            "object_fit": null,
            "grid_auto_columns": null,
            "margin": null,
            "display": null,
            "left": null
          }
        },
        "53ec8f1910204466b607c3126892f7a2": {
          "model_module": "@jupyter-widgets/controls",
          "model_name": "HTMLModel",
          "model_module_version": "1.5.0",
          "state": {
            "_view_name": "HTMLView",
            "style": "IPY_MODEL_beb30bd7c2fa4b018fbd39b3e0b80122",
            "_dom_classes": [],
            "description": "",
            "_model_name": "HTMLModel",
            "placeholder": "​",
            "_view_module": "@jupyter-widgets/controls",
            "_model_module_version": "1.5.0",
            "value": "100%",
            "_view_count": null,
            "_view_module_version": "1.5.0",
            "description_tooltip": null,
            "_model_module": "@jupyter-widgets/controls",
            "layout": "IPY_MODEL_87dbe1f368bd4974a39cf219735c5113"
          }
        },
        "17659cd412274453921176c25209e884": {
          "model_module": "@jupyter-widgets/controls",
          "model_name": "FloatProgressModel",
          "model_module_version": "1.5.0",
          "state": {
            "_view_name": "ProgressView",
            "style": "IPY_MODEL_4160a46405ed4880b0664e91bb9a4a0e",
            "_dom_classes": [],
            "description": "",
            "_model_name": "FloatProgressModel",
            "bar_style": "success",
            "max": 313,
            "_view_module": "@jupyter-widgets/controls",
            "_model_module_version": "1.5.0",
            "value": 313,
            "_view_count": null,
            "_view_module_version": "1.5.0",
            "orientation": "horizontal",
            "min": 0,
            "description_tooltip": null,
            "_model_module": "@jupyter-widgets/controls",
            "layout": "IPY_MODEL_3fa7f435ad394f648bfa6fc98bfb3b1d"
          }
        },
        "868d4d75d56442feaa380ffb91db97fa": {
          "model_module": "@jupyter-widgets/controls",
          "model_name": "HTMLModel",
          "model_module_version": "1.5.0",
          "state": {
            "_view_name": "HTMLView",
            "style": "IPY_MODEL_39d5b4d1f7ed4958836891f33e08273c",
            "_dom_classes": [],
            "description": "",
            "_model_name": "HTMLModel",
            "placeholder": "​",
            "_view_module": "@jupyter-widgets/controls",
            "_model_module_version": "1.5.0",
            "value": " 313/313 [00:04&lt;00:00, 76.51it/s]",
            "_view_count": null,
            "_view_module_version": "1.5.0",
            "description_tooltip": null,
            "_model_module": "@jupyter-widgets/controls",
            "layout": "IPY_MODEL_b4945d15296f418f8ec9388ebdf16632"
          }
        },
        "beb30bd7c2fa4b018fbd39b3e0b80122": {
          "model_module": "@jupyter-widgets/controls",
          "model_name": "DescriptionStyleModel",
          "model_module_version": "1.5.0",
          "state": {
            "_view_name": "StyleView",
            "_model_name": "DescriptionStyleModel",
            "description_width": "",
            "_view_module": "@jupyter-widgets/base",
            "_model_module_version": "1.5.0",
            "_view_count": null,
            "_view_module_version": "1.2.0",
            "_model_module": "@jupyter-widgets/controls"
          }
        },
        "87dbe1f368bd4974a39cf219735c5113": {
          "model_module": "@jupyter-widgets/base",
          "model_name": "LayoutModel",
          "model_module_version": "1.2.0",
          "state": {
            "_view_name": "LayoutView",
            "grid_template_rows": null,
            "right": null,
            "justify_content": null,
            "_view_module": "@jupyter-widgets/base",
            "overflow": null,
            "_model_module_version": "1.2.0",
            "_view_count": null,
            "flex_flow": null,
            "width": null,
            "min_width": null,
            "border": null,
            "align_items": null,
            "bottom": null,
            "_model_module": "@jupyter-widgets/base",
            "top": null,
            "grid_column": null,
            "overflow_y": null,
            "overflow_x": null,
            "grid_auto_flow": null,
            "grid_area": null,
            "grid_template_columns": null,
            "flex": null,
            "_model_name": "LayoutModel",
            "justify_items": null,
            "grid_row": null,
            "max_height": null,
            "align_content": null,
            "visibility": null,
            "align_self": null,
            "height": null,
            "min_height": null,
            "padding": null,
            "grid_auto_rows": null,
            "grid_gap": null,
            "max_width": null,
            "order": null,
            "_view_module_version": "1.2.0",
            "grid_template_areas": null,
            "object_position": null,
            "object_fit": null,
            "grid_auto_columns": null,
            "margin": null,
            "display": null,
            "left": null
          }
        },
        "4160a46405ed4880b0664e91bb9a4a0e": {
          "model_module": "@jupyter-widgets/controls",
          "model_name": "ProgressStyleModel",
          "model_module_version": "1.5.0",
          "state": {
            "_view_name": "StyleView",
            "_model_name": "ProgressStyleModel",
            "description_width": "",
            "_view_module": "@jupyter-widgets/base",
            "_model_module_version": "1.5.0",
            "_view_count": null,
            "_view_module_version": "1.2.0",
            "bar_color": null,
            "_model_module": "@jupyter-widgets/controls"
          }
        },
        "3fa7f435ad394f648bfa6fc98bfb3b1d": {
          "model_module": "@jupyter-widgets/base",
          "model_name": "LayoutModel",
          "model_module_version": "1.2.0",
          "state": {
            "_view_name": "LayoutView",
            "grid_template_rows": null,
            "right": null,
            "justify_content": null,
            "_view_module": "@jupyter-widgets/base",
            "overflow": null,
            "_model_module_version": "1.2.0",
            "_view_count": null,
            "flex_flow": null,
            "width": null,
            "min_width": null,
            "border": null,
            "align_items": null,
            "bottom": null,
            "_model_module": "@jupyter-widgets/base",
            "top": null,
            "grid_column": null,
            "overflow_y": null,
            "overflow_x": null,
            "grid_auto_flow": null,
            "grid_area": null,
            "grid_template_columns": null,
            "flex": null,
            "_model_name": "LayoutModel",
            "justify_items": null,
            "grid_row": null,
            "max_height": null,
            "align_content": null,
            "visibility": null,
            "align_self": null,
            "height": null,
            "min_height": null,
            "padding": null,
            "grid_auto_rows": null,
            "grid_gap": null,
            "max_width": null,
            "order": null,
            "_view_module_version": "1.2.0",
            "grid_template_areas": null,
            "object_position": null,
            "object_fit": null,
            "grid_auto_columns": null,
            "margin": null,
            "display": null,
            "left": null
          }
        },
        "39d5b4d1f7ed4958836891f33e08273c": {
          "model_module": "@jupyter-widgets/controls",
          "model_name": "DescriptionStyleModel",
          "model_module_version": "1.5.0",
          "state": {
            "_view_name": "StyleView",
            "_model_name": "DescriptionStyleModel",
            "description_width": "",
            "_view_module": "@jupyter-widgets/base",
            "_model_module_version": "1.5.0",
            "_view_count": null,
            "_view_module_version": "1.2.0",
            "_model_module": "@jupyter-widgets/controls"
          }
        },
        "b4945d15296f418f8ec9388ebdf16632": {
          "model_module": "@jupyter-widgets/base",
          "model_name": "LayoutModel",
          "model_module_version": "1.2.0",
          "state": {
            "_view_name": "LayoutView",
            "grid_template_rows": null,
            "right": null,
            "justify_content": null,
            "_view_module": "@jupyter-widgets/base",
            "overflow": null,
            "_model_module_version": "1.2.0",
            "_view_count": null,
            "flex_flow": null,
            "width": null,
            "min_width": null,
            "border": null,
            "align_items": null,
            "bottom": null,
            "_model_module": "@jupyter-widgets/base",
            "top": null,
            "grid_column": null,
            "overflow_y": null,
            "overflow_x": null,
            "grid_auto_flow": null,
            "grid_area": null,
            "grid_template_columns": null,
            "flex": null,
            "_model_name": "LayoutModel",
            "justify_items": null,
            "grid_row": null,
            "max_height": null,
            "align_content": null,
            "visibility": null,
            "align_self": null,
            "height": null,
            "min_height": null,
            "padding": null,
            "grid_auto_rows": null,
            "grid_gap": null,
            "max_width": null,
            "order": null,
            "_view_module_version": "1.2.0",
            "grid_template_areas": null,
            "object_position": null,
            "object_fit": null,
            "grid_auto_columns": null,
            "margin": null,
            "display": null,
            "left": null
          }
        },
        "5dadfdc278d74e12811d49f349af7b99": {
          "model_module": "@jupyter-widgets/controls",
          "model_name": "HBoxModel",
          "model_module_version": "1.5.0",
          "state": {
            "_view_name": "HBoxView",
            "_dom_classes": [],
            "_model_name": "HBoxModel",
            "_view_module": "@jupyter-widgets/controls",
            "_model_module_version": "1.5.0",
            "_view_count": null,
            "_view_module_version": "1.5.0",
            "box_style": "",
            "layout": "IPY_MODEL_e3866727f7d240ae869d4f4c60fe7a82",
            "_model_module": "@jupyter-widgets/controls",
            "children": [
              "IPY_MODEL_a047cd01464249369931422a94687931",
              "IPY_MODEL_20e8f17423ee415987a8157c32296cd1",
              "IPY_MODEL_de84f0d1b65447bc9fc8122c79feeb29"
            ]
          }
        },
        "e3866727f7d240ae869d4f4c60fe7a82": {
          "model_module": "@jupyter-widgets/base",
          "model_name": "LayoutModel",
          "model_module_version": "1.2.0",
          "state": {
            "_view_name": "LayoutView",
            "grid_template_rows": null,
            "right": null,
            "justify_content": null,
            "_view_module": "@jupyter-widgets/base",
            "overflow": null,
            "_model_module_version": "1.2.0",
            "_view_count": null,
            "flex_flow": null,
            "width": null,
            "min_width": null,
            "border": null,
            "align_items": null,
            "bottom": null,
            "_model_module": "@jupyter-widgets/base",
            "top": null,
            "grid_column": null,
            "overflow_y": null,
            "overflow_x": null,
            "grid_auto_flow": null,
            "grid_area": null,
            "grid_template_columns": null,
            "flex": null,
            "_model_name": "LayoutModel",
            "justify_items": null,
            "grid_row": null,
            "max_height": null,
            "align_content": null,
            "visibility": null,
            "align_self": null,
            "height": null,
            "min_height": null,
            "padding": null,
            "grid_auto_rows": null,
            "grid_gap": null,
            "max_width": null,
            "order": null,
            "_view_module_version": "1.2.0",
            "grid_template_areas": null,
            "object_position": null,
            "object_fit": null,
            "grid_auto_columns": null,
            "margin": null,
            "display": null,
            "left": null
          }
        },
        "a047cd01464249369931422a94687931": {
          "model_module": "@jupyter-widgets/controls",
          "model_name": "HTMLModel",
          "model_module_version": "1.5.0",
          "state": {
            "_view_name": "HTMLView",
            "style": "IPY_MODEL_5f7784f5aafd49c58414e01f58c9cacd",
            "_dom_classes": [],
            "description": "",
            "_model_name": "HTMLModel",
            "placeholder": "​",
            "_view_module": "@jupyter-widgets/controls",
            "_model_module_version": "1.5.0",
            "value": "100%",
            "_view_count": null,
            "_view_module_version": "1.5.0",
            "description_tooltip": null,
            "_model_module": "@jupyter-widgets/controls",
            "layout": "IPY_MODEL_7673e7d0bc074dc5a4722faf980767ee"
          }
        },
        "20e8f17423ee415987a8157c32296cd1": {
          "model_module": "@jupyter-widgets/controls",
          "model_name": "FloatProgressModel",
          "model_module_version": "1.5.0",
          "state": {
            "_view_name": "ProgressView",
            "style": "IPY_MODEL_a3dc5a8027d44b43aeeef3e382e55f44",
            "_dom_classes": [],
            "description": "",
            "_model_name": "FloatProgressModel",
            "bar_style": "success",
            "max": 1563,
            "_view_module": "@jupyter-widgets/controls",
            "_model_module_version": "1.5.0",
            "value": 1563,
            "_view_count": null,
            "_view_module_version": "1.5.0",
            "orientation": "horizontal",
            "min": 0,
            "description_tooltip": null,
            "_model_module": "@jupyter-widgets/controls",
            "layout": "IPY_MODEL_45d5cb18a9e44b8e88185467a1b8b84e"
          }
        },
        "de84f0d1b65447bc9fc8122c79feeb29": {
          "model_module": "@jupyter-widgets/controls",
          "model_name": "HTMLModel",
          "model_module_version": "1.5.0",
          "state": {
            "_view_name": "HTMLView",
            "style": "IPY_MODEL_490949acf0fa41e78cd7d611406cc294",
            "_dom_classes": [],
            "description": "",
            "_model_name": "HTMLModel",
            "placeholder": "​",
            "_view_module": "@jupyter-widgets/controls",
            "_model_module_version": "1.5.0",
            "value": " 1563/1563 [01:27&lt;00:00, 17.21it/s]",
            "_view_count": null,
            "_view_module_version": "1.5.0",
            "description_tooltip": null,
            "_model_module": "@jupyter-widgets/controls",
            "layout": "IPY_MODEL_0b806f3d4751445e8f90401f62766b80"
          }
        },
        "5f7784f5aafd49c58414e01f58c9cacd": {
          "model_module": "@jupyter-widgets/controls",
          "model_name": "DescriptionStyleModel",
          "model_module_version": "1.5.0",
          "state": {
            "_view_name": "StyleView",
            "_model_name": "DescriptionStyleModel",
            "description_width": "",
            "_view_module": "@jupyter-widgets/base",
            "_model_module_version": "1.5.0",
            "_view_count": null,
            "_view_module_version": "1.2.0",
            "_model_module": "@jupyter-widgets/controls"
          }
        },
        "7673e7d0bc074dc5a4722faf980767ee": {
          "model_module": "@jupyter-widgets/base",
          "model_name": "LayoutModel",
          "model_module_version": "1.2.0",
          "state": {
            "_view_name": "LayoutView",
            "grid_template_rows": null,
            "right": null,
            "justify_content": null,
            "_view_module": "@jupyter-widgets/base",
            "overflow": null,
            "_model_module_version": "1.2.0",
            "_view_count": null,
            "flex_flow": null,
            "width": null,
            "min_width": null,
            "border": null,
            "align_items": null,
            "bottom": null,
            "_model_module": "@jupyter-widgets/base",
            "top": null,
            "grid_column": null,
            "overflow_y": null,
            "overflow_x": null,
            "grid_auto_flow": null,
            "grid_area": null,
            "grid_template_columns": null,
            "flex": null,
            "_model_name": "LayoutModel",
            "justify_items": null,
            "grid_row": null,
            "max_height": null,
            "align_content": null,
            "visibility": null,
            "align_self": null,
            "height": null,
            "min_height": null,
            "padding": null,
            "grid_auto_rows": null,
            "grid_gap": null,
            "max_width": null,
            "order": null,
            "_view_module_version": "1.2.0",
            "grid_template_areas": null,
            "object_position": null,
            "object_fit": null,
            "grid_auto_columns": null,
            "margin": null,
            "display": null,
            "left": null
          }
        },
        "a3dc5a8027d44b43aeeef3e382e55f44": {
          "model_module": "@jupyter-widgets/controls",
          "model_name": "ProgressStyleModel",
          "model_module_version": "1.5.0",
          "state": {
            "_view_name": "StyleView",
            "_model_name": "ProgressStyleModel",
            "description_width": "",
            "_view_module": "@jupyter-widgets/base",
            "_model_module_version": "1.5.0",
            "_view_count": null,
            "_view_module_version": "1.2.0",
            "bar_color": null,
            "_model_module": "@jupyter-widgets/controls"
          }
        },
        "45d5cb18a9e44b8e88185467a1b8b84e": {
          "model_module": "@jupyter-widgets/base",
          "model_name": "LayoutModel",
          "model_module_version": "1.2.0",
          "state": {
            "_view_name": "LayoutView",
            "grid_template_rows": null,
            "right": null,
            "justify_content": null,
            "_view_module": "@jupyter-widgets/base",
            "overflow": null,
            "_model_module_version": "1.2.0",
            "_view_count": null,
            "flex_flow": null,
            "width": null,
            "min_width": null,
            "border": null,
            "align_items": null,
            "bottom": null,
            "_model_module": "@jupyter-widgets/base",
            "top": null,
            "grid_column": null,
            "overflow_y": null,
            "overflow_x": null,
            "grid_auto_flow": null,
            "grid_area": null,
            "grid_template_columns": null,
            "flex": null,
            "_model_name": "LayoutModel",
            "justify_items": null,
            "grid_row": null,
            "max_height": null,
            "align_content": null,
            "visibility": null,
            "align_self": null,
            "height": null,
            "min_height": null,
            "padding": null,
            "grid_auto_rows": null,
            "grid_gap": null,
            "max_width": null,
            "order": null,
            "_view_module_version": "1.2.0",
            "grid_template_areas": null,
            "object_position": null,
            "object_fit": null,
            "grid_auto_columns": null,
            "margin": null,
            "display": null,
            "left": null
          }
        },
        "490949acf0fa41e78cd7d611406cc294": {
          "model_module": "@jupyter-widgets/controls",
          "model_name": "DescriptionStyleModel",
          "model_module_version": "1.5.0",
          "state": {
            "_view_name": "StyleView",
            "_model_name": "DescriptionStyleModel",
            "description_width": "",
            "_view_module": "@jupyter-widgets/base",
            "_model_module_version": "1.5.0",
            "_view_count": null,
            "_view_module_version": "1.2.0",
            "_model_module": "@jupyter-widgets/controls"
          }
        },
        "0b806f3d4751445e8f90401f62766b80": {
          "model_module": "@jupyter-widgets/base",
          "model_name": "LayoutModel",
          "model_module_version": "1.2.0",
          "state": {
            "_view_name": "LayoutView",
            "grid_template_rows": null,
            "right": null,
            "justify_content": null,
            "_view_module": "@jupyter-widgets/base",
            "overflow": null,
            "_model_module_version": "1.2.0",
            "_view_count": null,
            "flex_flow": null,
            "width": null,
            "min_width": null,
            "border": null,
            "align_items": null,
            "bottom": null,
            "_model_module": "@jupyter-widgets/base",
            "top": null,
            "grid_column": null,
            "overflow_y": null,
            "overflow_x": null,
            "grid_auto_flow": null,
            "grid_area": null,
            "grid_template_columns": null,
            "flex": null,
            "_model_name": "LayoutModel",
            "justify_items": null,
            "grid_row": null,
            "max_height": null,
            "align_content": null,
            "visibility": null,
            "align_self": null,
            "height": null,
            "min_height": null,
            "padding": null,
            "grid_auto_rows": null,
            "grid_gap": null,
            "max_width": null,
            "order": null,
            "_view_module_version": "1.2.0",
            "grid_template_areas": null,
            "object_position": null,
            "object_fit": null,
            "grid_auto_columns": null,
            "margin": null,
            "display": null,
            "left": null
          }
        },
        "358c746a0a7a4ff78e27e7e461051646": {
          "model_module": "@jupyter-widgets/controls",
          "model_name": "HBoxModel",
          "model_module_version": "1.5.0",
          "state": {
            "_view_name": "HBoxView",
            "_dom_classes": [],
            "_model_name": "HBoxModel",
            "_view_module": "@jupyter-widgets/controls",
            "_model_module_version": "1.5.0",
            "_view_count": null,
            "_view_module_version": "1.5.0",
            "box_style": "",
            "layout": "IPY_MODEL_d52d2d280dec43b2abe02d54fe492933",
            "_model_module": "@jupyter-widgets/controls",
            "children": [
              "IPY_MODEL_ed45aeff4c894c1da2e8ed1142262346",
              "IPY_MODEL_eba67a0ca43148eab55638067ea940b1",
              "IPY_MODEL_d5709b84af82404e89ac87ca5aa6ace3"
            ]
          }
        },
        "d52d2d280dec43b2abe02d54fe492933": {
          "model_module": "@jupyter-widgets/base",
          "model_name": "LayoutModel",
          "model_module_version": "1.2.0",
          "state": {
            "_view_name": "LayoutView",
            "grid_template_rows": null,
            "right": null,
            "justify_content": null,
            "_view_module": "@jupyter-widgets/base",
            "overflow": null,
            "_model_module_version": "1.2.0",
            "_view_count": null,
            "flex_flow": null,
            "width": null,
            "min_width": null,
            "border": null,
            "align_items": null,
            "bottom": null,
            "_model_module": "@jupyter-widgets/base",
            "top": null,
            "grid_column": null,
            "overflow_y": null,
            "overflow_x": null,
            "grid_auto_flow": null,
            "grid_area": null,
            "grid_template_columns": null,
            "flex": null,
            "_model_name": "LayoutModel",
            "justify_items": null,
            "grid_row": null,
            "max_height": null,
            "align_content": null,
            "visibility": null,
            "align_self": null,
            "height": null,
            "min_height": null,
            "padding": null,
            "grid_auto_rows": null,
            "grid_gap": null,
            "max_width": null,
            "order": null,
            "_view_module_version": "1.2.0",
            "grid_template_areas": null,
            "object_position": null,
            "object_fit": null,
            "grid_auto_columns": null,
            "margin": null,
            "display": null,
            "left": null
          }
        },
        "ed45aeff4c894c1da2e8ed1142262346": {
          "model_module": "@jupyter-widgets/controls",
          "model_name": "HTMLModel",
          "model_module_version": "1.5.0",
          "state": {
            "_view_name": "HTMLView",
            "style": "IPY_MODEL_fdc1ab1dd16d46a2ae176a8d6d43922f",
            "_dom_classes": [],
            "description": "",
            "_model_name": "HTMLModel",
            "placeholder": "​",
            "_view_module": "@jupyter-widgets/controls",
            "_model_module_version": "1.5.0",
            "value": "100%",
            "_view_count": null,
            "_view_module_version": "1.5.0",
            "description_tooltip": null,
            "_model_module": "@jupyter-widgets/controls",
            "layout": "IPY_MODEL_47ca97273f904da19bd20bddad67bed0"
          }
        },
        "eba67a0ca43148eab55638067ea940b1": {
          "model_module": "@jupyter-widgets/controls",
          "model_name": "FloatProgressModel",
          "model_module_version": "1.5.0",
          "state": {
            "_view_name": "ProgressView",
            "style": "IPY_MODEL_4dd4eff366b7446bba313c0c89242caa",
            "_dom_classes": [],
            "description": "",
            "_model_name": "FloatProgressModel",
            "bar_style": "success",
            "max": 313,
            "_view_module": "@jupyter-widgets/controls",
            "_model_module_version": "1.5.0",
            "value": 313,
            "_view_count": null,
            "_view_module_version": "1.5.0",
            "orientation": "horizontal",
            "min": 0,
            "description_tooltip": null,
            "_model_module": "@jupyter-widgets/controls",
            "layout": "IPY_MODEL_a9e814feb7494be5997f8ce7a1d68001"
          }
        },
        "d5709b84af82404e89ac87ca5aa6ace3": {
          "model_module": "@jupyter-widgets/controls",
          "model_name": "HTMLModel",
          "model_module_version": "1.5.0",
          "state": {
            "_view_name": "HTMLView",
            "style": "IPY_MODEL_5c26f5790569439eb6fa2ebb4041f63e",
            "_dom_classes": [],
            "description": "",
            "_model_name": "HTMLModel",
            "placeholder": "​",
            "_view_module": "@jupyter-widgets/controls",
            "_model_module_version": "1.5.0",
            "value": " 313/313 [00:04&lt;00:00, 72.66it/s]",
            "_view_count": null,
            "_view_module_version": "1.5.0",
            "description_tooltip": null,
            "_model_module": "@jupyter-widgets/controls",
            "layout": "IPY_MODEL_3a36e0e9e1a0450da8a8bebaf290a8ba"
          }
        },
        "fdc1ab1dd16d46a2ae176a8d6d43922f": {
          "model_module": "@jupyter-widgets/controls",
          "model_name": "DescriptionStyleModel",
          "model_module_version": "1.5.0",
          "state": {
            "_view_name": "StyleView",
            "_model_name": "DescriptionStyleModel",
            "description_width": "",
            "_view_module": "@jupyter-widgets/base",
            "_model_module_version": "1.5.0",
            "_view_count": null,
            "_view_module_version": "1.2.0",
            "_model_module": "@jupyter-widgets/controls"
          }
        },
        "47ca97273f904da19bd20bddad67bed0": {
          "model_module": "@jupyter-widgets/base",
          "model_name": "LayoutModel",
          "model_module_version": "1.2.0",
          "state": {
            "_view_name": "LayoutView",
            "grid_template_rows": null,
            "right": null,
            "justify_content": null,
            "_view_module": "@jupyter-widgets/base",
            "overflow": null,
            "_model_module_version": "1.2.0",
            "_view_count": null,
            "flex_flow": null,
            "width": null,
            "min_width": null,
            "border": null,
            "align_items": null,
            "bottom": null,
            "_model_module": "@jupyter-widgets/base",
            "top": null,
            "grid_column": null,
            "overflow_y": null,
            "overflow_x": null,
            "grid_auto_flow": null,
            "grid_area": null,
            "grid_template_columns": null,
            "flex": null,
            "_model_name": "LayoutModel",
            "justify_items": null,
            "grid_row": null,
            "max_height": null,
            "align_content": null,
            "visibility": null,
            "align_self": null,
            "height": null,
            "min_height": null,
            "padding": null,
            "grid_auto_rows": null,
            "grid_gap": null,
            "max_width": null,
            "order": null,
            "_view_module_version": "1.2.0",
            "grid_template_areas": null,
            "object_position": null,
            "object_fit": null,
            "grid_auto_columns": null,
            "margin": null,
            "display": null,
            "left": null
          }
        },
        "4dd4eff366b7446bba313c0c89242caa": {
          "model_module": "@jupyter-widgets/controls",
          "model_name": "ProgressStyleModel",
          "model_module_version": "1.5.0",
          "state": {
            "_view_name": "StyleView",
            "_model_name": "ProgressStyleModel",
            "description_width": "",
            "_view_module": "@jupyter-widgets/base",
            "_model_module_version": "1.5.0",
            "_view_count": null,
            "_view_module_version": "1.2.0",
            "bar_color": null,
            "_model_module": "@jupyter-widgets/controls"
          }
        },
        "a9e814feb7494be5997f8ce7a1d68001": {
          "model_module": "@jupyter-widgets/base",
          "model_name": "LayoutModel",
          "model_module_version": "1.2.0",
          "state": {
            "_view_name": "LayoutView",
            "grid_template_rows": null,
            "right": null,
            "justify_content": null,
            "_view_module": "@jupyter-widgets/base",
            "overflow": null,
            "_model_module_version": "1.2.0",
            "_view_count": null,
            "flex_flow": null,
            "width": null,
            "min_width": null,
            "border": null,
            "align_items": null,
            "bottom": null,
            "_model_module": "@jupyter-widgets/base",
            "top": null,
            "grid_column": null,
            "overflow_y": null,
            "overflow_x": null,
            "grid_auto_flow": null,
            "grid_area": null,
            "grid_template_columns": null,
            "flex": null,
            "_model_name": "LayoutModel",
            "justify_items": null,
            "grid_row": null,
            "max_height": null,
            "align_content": null,
            "visibility": null,
            "align_self": null,
            "height": null,
            "min_height": null,
            "padding": null,
            "grid_auto_rows": null,
            "grid_gap": null,
            "max_width": null,
            "order": null,
            "_view_module_version": "1.2.0",
            "grid_template_areas": null,
            "object_position": null,
            "object_fit": null,
            "grid_auto_columns": null,
            "margin": null,
            "display": null,
            "left": null
          }
        },
        "5c26f5790569439eb6fa2ebb4041f63e": {
          "model_module": "@jupyter-widgets/controls",
          "model_name": "DescriptionStyleModel",
          "model_module_version": "1.5.0",
          "state": {
            "_view_name": "StyleView",
            "_model_name": "DescriptionStyleModel",
            "description_width": "",
            "_view_module": "@jupyter-widgets/base",
            "_model_module_version": "1.5.0",
            "_view_count": null,
            "_view_module_version": "1.2.0",
            "_model_module": "@jupyter-widgets/controls"
          }
        },
        "3a36e0e9e1a0450da8a8bebaf290a8ba": {
          "model_module": "@jupyter-widgets/base",
          "model_name": "LayoutModel",
          "model_module_version": "1.2.0",
          "state": {
            "_view_name": "LayoutView",
            "grid_template_rows": null,
            "right": null,
            "justify_content": null,
            "_view_module": "@jupyter-widgets/base",
            "overflow": null,
            "_model_module_version": "1.2.0",
            "_view_count": null,
            "flex_flow": null,
            "width": null,
            "min_width": null,
            "border": null,
            "align_items": null,
            "bottom": null,
            "_model_module": "@jupyter-widgets/base",
            "top": null,
            "grid_column": null,
            "overflow_y": null,
            "overflow_x": null,
            "grid_auto_flow": null,
            "grid_area": null,
            "grid_template_columns": null,
            "flex": null,
            "_model_name": "LayoutModel",
            "justify_items": null,
            "grid_row": null,
            "max_height": null,
            "align_content": null,
            "visibility": null,
            "align_self": null,
            "height": null,
            "min_height": null,
            "padding": null,
            "grid_auto_rows": null,
            "grid_gap": null,
            "max_width": null,
            "order": null,
            "_view_module_version": "1.2.0",
            "grid_template_areas": null,
            "object_position": null,
            "object_fit": null,
            "grid_auto_columns": null,
            "margin": null,
            "display": null,
            "left": null
          }
        },
        "f12094712f6046b4b9f45e655c47804f": {
          "model_module": "@jupyter-widgets/controls",
          "model_name": "HBoxModel",
          "model_module_version": "1.5.0",
          "state": {
            "_view_name": "HBoxView",
            "_dom_classes": [],
            "_model_name": "HBoxModel",
            "_view_module": "@jupyter-widgets/controls",
            "_model_module_version": "1.5.0",
            "_view_count": null,
            "_view_module_version": "1.5.0",
            "box_style": "",
            "layout": "IPY_MODEL_671f120c643f48a6809af89b87c9f09d",
            "_model_module": "@jupyter-widgets/controls",
            "children": [
              "IPY_MODEL_4aab6f3258c444e784ed28f6a59508f4",
              "IPY_MODEL_ea5ee2456f6f47a0872f04263148b36b",
              "IPY_MODEL_902d382a9baf42e397d9de39e9283078"
            ]
          }
        },
        "671f120c643f48a6809af89b87c9f09d": {
          "model_module": "@jupyter-widgets/base",
          "model_name": "LayoutModel",
          "model_module_version": "1.2.0",
          "state": {
            "_view_name": "LayoutView",
            "grid_template_rows": null,
            "right": null,
            "justify_content": null,
            "_view_module": "@jupyter-widgets/base",
            "overflow": null,
            "_model_module_version": "1.2.0",
            "_view_count": null,
            "flex_flow": null,
            "width": null,
            "min_width": null,
            "border": null,
            "align_items": null,
            "bottom": null,
            "_model_module": "@jupyter-widgets/base",
            "top": null,
            "grid_column": null,
            "overflow_y": null,
            "overflow_x": null,
            "grid_auto_flow": null,
            "grid_area": null,
            "grid_template_columns": null,
            "flex": null,
            "_model_name": "LayoutModel",
            "justify_items": null,
            "grid_row": null,
            "max_height": null,
            "align_content": null,
            "visibility": null,
            "align_self": null,
            "height": null,
            "min_height": null,
            "padding": null,
            "grid_auto_rows": null,
            "grid_gap": null,
            "max_width": null,
            "order": null,
            "_view_module_version": "1.2.0",
            "grid_template_areas": null,
            "object_position": null,
            "object_fit": null,
            "grid_auto_columns": null,
            "margin": null,
            "display": null,
            "left": null
          }
        },
        "4aab6f3258c444e784ed28f6a59508f4": {
          "model_module": "@jupyter-widgets/controls",
          "model_name": "HTMLModel",
          "model_module_version": "1.5.0",
          "state": {
            "_view_name": "HTMLView",
            "style": "IPY_MODEL_bface4a04ba54e579db9efa7ed5b734e",
            "_dom_classes": [],
            "description": "",
            "_model_name": "HTMLModel",
            "placeholder": "​",
            "_view_module": "@jupyter-widgets/controls",
            "_model_module_version": "1.5.0",
            "value": "100%",
            "_view_count": null,
            "_view_module_version": "1.5.0",
            "description_tooltip": null,
            "_model_module": "@jupyter-widgets/controls",
            "layout": "IPY_MODEL_99f6583b59964012b46a1f3e23b0bed0"
          }
        },
        "ea5ee2456f6f47a0872f04263148b36b": {
          "model_module": "@jupyter-widgets/controls",
          "model_name": "FloatProgressModel",
          "model_module_version": "1.5.0",
          "state": {
            "_view_name": "ProgressView",
            "style": "IPY_MODEL_4f87bceaa9d044bfb8af45f1b8285316",
            "_dom_classes": [],
            "description": "",
            "_model_name": "FloatProgressModel",
            "bar_style": "success",
            "max": 1563,
            "_view_module": "@jupyter-widgets/controls",
            "_model_module_version": "1.5.0",
            "value": 1563,
            "_view_count": null,
            "_view_module_version": "1.5.0",
            "orientation": "horizontal",
            "min": 0,
            "description_tooltip": null,
            "_model_module": "@jupyter-widgets/controls",
            "layout": "IPY_MODEL_d47db601a19c40b6aa438437b7930f2f"
          }
        },
        "902d382a9baf42e397d9de39e9283078": {
          "model_module": "@jupyter-widgets/controls",
          "model_name": "HTMLModel",
          "model_module_version": "1.5.0",
          "state": {
            "_view_name": "HTMLView",
            "style": "IPY_MODEL_2247cfd4af194682855f0a62370d72d6",
            "_dom_classes": [],
            "description": "",
            "_model_name": "HTMLModel",
            "placeholder": "​",
            "_view_module": "@jupyter-widgets/controls",
            "_model_module_version": "1.5.0",
            "value": " 1563/1563 [01:28&lt;00:00, 17.61it/s]",
            "_view_count": null,
            "_view_module_version": "1.5.0",
            "description_tooltip": null,
            "_model_module": "@jupyter-widgets/controls",
            "layout": "IPY_MODEL_09161e76494749c4bc4b082ad38f4d23"
          }
        },
        "bface4a04ba54e579db9efa7ed5b734e": {
          "model_module": "@jupyter-widgets/controls",
          "model_name": "DescriptionStyleModel",
          "model_module_version": "1.5.0",
          "state": {
            "_view_name": "StyleView",
            "_model_name": "DescriptionStyleModel",
            "description_width": "",
            "_view_module": "@jupyter-widgets/base",
            "_model_module_version": "1.5.0",
            "_view_count": null,
            "_view_module_version": "1.2.0",
            "_model_module": "@jupyter-widgets/controls"
          }
        },
        "99f6583b59964012b46a1f3e23b0bed0": {
          "model_module": "@jupyter-widgets/base",
          "model_name": "LayoutModel",
          "model_module_version": "1.2.0",
          "state": {
            "_view_name": "LayoutView",
            "grid_template_rows": null,
            "right": null,
            "justify_content": null,
            "_view_module": "@jupyter-widgets/base",
            "overflow": null,
            "_model_module_version": "1.2.0",
            "_view_count": null,
            "flex_flow": null,
            "width": null,
            "min_width": null,
            "border": null,
            "align_items": null,
            "bottom": null,
            "_model_module": "@jupyter-widgets/base",
            "top": null,
            "grid_column": null,
            "overflow_y": null,
            "overflow_x": null,
            "grid_auto_flow": null,
            "grid_area": null,
            "grid_template_columns": null,
            "flex": null,
            "_model_name": "LayoutModel",
            "justify_items": null,
            "grid_row": null,
            "max_height": null,
            "align_content": null,
            "visibility": null,
            "align_self": null,
            "height": null,
            "min_height": null,
            "padding": null,
            "grid_auto_rows": null,
            "grid_gap": null,
            "max_width": null,
            "order": null,
            "_view_module_version": "1.2.0",
            "grid_template_areas": null,
            "object_position": null,
            "object_fit": null,
            "grid_auto_columns": null,
            "margin": null,
            "display": null,
            "left": null
          }
        },
        "4f87bceaa9d044bfb8af45f1b8285316": {
          "model_module": "@jupyter-widgets/controls",
          "model_name": "ProgressStyleModel",
          "model_module_version": "1.5.0",
          "state": {
            "_view_name": "StyleView",
            "_model_name": "ProgressStyleModel",
            "description_width": "",
            "_view_module": "@jupyter-widgets/base",
            "_model_module_version": "1.5.0",
            "_view_count": null,
            "_view_module_version": "1.2.0",
            "bar_color": null,
            "_model_module": "@jupyter-widgets/controls"
          }
        },
        "d47db601a19c40b6aa438437b7930f2f": {
          "model_module": "@jupyter-widgets/base",
          "model_name": "LayoutModel",
          "model_module_version": "1.2.0",
          "state": {
            "_view_name": "LayoutView",
            "grid_template_rows": null,
            "right": null,
            "justify_content": null,
            "_view_module": "@jupyter-widgets/base",
            "overflow": null,
            "_model_module_version": "1.2.0",
            "_view_count": null,
            "flex_flow": null,
            "width": null,
            "min_width": null,
            "border": null,
            "align_items": null,
            "bottom": null,
            "_model_module": "@jupyter-widgets/base",
            "top": null,
            "grid_column": null,
            "overflow_y": null,
            "overflow_x": null,
            "grid_auto_flow": null,
            "grid_area": null,
            "grid_template_columns": null,
            "flex": null,
            "_model_name": "LayoutModel",
            "justify_items": null,
            "grid_row": null,
            "max_height": null,
            "align_content": null,
            "visibility": null,
            "align_self": null,
            "height": null,
            "min_height": null,
            "padding": null,
            "grid_auto_rows": null,
            "grid_gap": null,
            "max_width": null,
            "order": null,
            "_view_module_version": "1.2.0",
            "grid_template_areas": null,
            "object_position": null,
            "object_fit": null,
            "grid_auto_columns": null,
            "margin": null,
            "display": null,
            "left": null
          }
        },
        "2247cfd4af194682855f0a62370d72d6": {
          "model_module": "@jupyter-widgets/controls",
          "model_name": "DescriptionStyleModel",
          "model_module_version": "1.5.0",
          "state": {
            "_view_name": "StyleView",
            "_model_name": "DescriptionStyleModel",
            "description_width": "",
            "_view_module": "@jupyter-widgets/base",
            "_model_module_version": "1.5.0",
            "_view_count": null,
            "_view_module_version": "1.2.0",
            "_model_module": "@jupyter-widgets/controls"
          }
        },
        "09161e76494749c4bc4b082ad38f4d23": {
          "model_module": "@jupyter-widgets/base",
          "model_name": "LayoutModel",
          "model_module_version": "1.2.0",
          "state": {
            "_view_name": "LayoutView",
            "grid_template_rows": null,
            "right": null,
            "justify_content": null,
            "_view_module": "@jupyter-widgets/base",
            "overflow": null,
            "_model_module_version": "1.2.0",
            "_view_count": null,
            "flex_flow": null,
            "width": null,
            "min_width": null,
            "border": null,
            "align_items": null,
            "bottom": null,
            "_model_module": "@jupyter-widgets/base",
            "top": null,
            "grid_column": null,
            "overflow_y": null,
            "overflow_x": null,
            "grid_auto_flow": null,
            "grid_area": null,
            "grid_template_columns": null,
            "flex": null,
            "_model_name": "LayoutModel",
            "justify_items": null,
            "grid_row": null,
            "max_height": null,
            "align_content": null,
            "visibility": null,
            "align_self": null,
            "height": null,
            "min_height": null,
            "padding": null,
            "grid_auto_rows": null,
            "grid_gap": null,
            "max_width": null,
            "order": null,
            "_view_module_version": "1.2.0",
            "grid_template_areas": null,
            "object_position": null,
            "object_fit": null,
            "grid_auto_columns": null,
            "margin": null,
            "display": null,
            "left": null
          }
        },
        "90853b7539764858be23039085a5d026": {
          "model_module": "@jupyter-widgets/controls",
          "model_name": "HBoxModel",
          "model_module_version": "1.5.0",
          "state": {
            "_view_name": "HBoxView",
            "_dom_classes": [],
            "_model_name": "HBoxModel",
            "_view_module": "@jupyter-widgets/controls",
            "_model_module_version": "1.5.0",
            "_view_count": null,
            "_view_module_version": "1.5.0",
            "box_style": "",
            "layout": "IPY_MODEL_d3328ea9122e4577a418b5973ce1cbc5",
            "_model_module": "@jupyter-widgets/controls",
            "children": [
              "IPY_MODEL_eba0913dadda4ae2bce65b6b91326f3a",
              "IPY_MODEL_155d8cb2a1f545fe846b7c056d1e2330",
              "IPY_MODEL_06a85453c5ed483997cd785aab7d96d1"
            ]
          }
        },
        "d3328ea9122e4577a418b5973ce1cbc5": {
          "model_module": "@jupyter-widgets/base",
          "model_name": "LayoutModel",
          "model_module_version": "1.2.0",
          "state": {
            "_view_name": "LayoutView",
            "grid_template_rows": null,
            "right": null,
            "justify_content": null,
            "_view_module": "@jupyter-widgets/base",
            "overflow": null,
            "_model_module_version": "1.2.0",
            "_view_count": null,
            "flex_flow": null,
            "width": null,
            "min_width": null,
            "border": null,
            "align_items": null,
            "bottom": null,
            "_model_module": "@jupyter-widgets/base",
            "top": null,
            "grid_column": null,
            "overflow_y": null,
            "overflow_x": null,
            "grid_auto_flow": null,
            "grid_area": null,
            "grid_template_columns": null,
            "flex": null,
            "_model_name": "LayoutModel",
            "justify_items": null,
            "grid_row": null,
            "max_height": null,
            "align_content": null,
            "visibility": null,
            "align_self": null,
            "height": null,
            "min_height": null,
            "padding": null,
            "grid_auto_rows": null,
            "grid_gap": null,
            "max_width": null,
            "order": null,
            "_view_module_version": "1.2.0",
            "grid_template_areas": null,
            "object_position": null,
            "object_fit": null,
            "grid_auto_columns": null,
            "margin": null,
            "display": null,
            "left": null
          }
        },
        "eba0913dadda4ae2bce65b6b91326f3a": {
          "model_module": "@jupyter-widgets/controls",
          "model_name": "HTMLModel",
          "model_module_version": "1.5.0",
          "state": {
            "_view_name": "HTMLView",
            "style": "IPY_MODEL_44aa630c475942919983d70fb707ea1c",
            "_dom_classes": [],
            "description": "",
            "_model_name": "HTMLModel",
            "placeholder": "​",
            "_view_module": "@jupyter-widgets/controls",
            "_model_module_version": "1.5.0",
            "value": "100%",
            "_view_count": null,
            "_view_module_version": "1.5.0",
            "description_tooltip": null,
            "_model_module": "@jupyter-widgets/controls",
            "layout": "IPY_MODEL_f511f8af29e34dcbaa29cb1f261829db"
          }
        },
        "155d8cb2a1f545fe846b7c056d1e2330": {
          "model_module": "@jupyter-widgets/controls",
          "model_name": "FloatProgressModel",
          "model_module_version": "1.5.0",
          "state": {
            "_view_name": "ProgressView",
            "style": "IPY_MODEL_a444e77263ef42c9b0f7718ebbb81beb",
            "_dom_classes": [],
            "description": "",
            "_model_name": "FloatProgressModel",
            "bar_style": "success",
            "max": 313,
            "_view_module": "@jupyter-widgets/controls",
            "_model_module_version": "1.5.0",
            "value": 313,
            "_view_count": null,
            "_view_module_version": "1.5.0",
            "orientation": "horizontal",
            "min": 0,
            "description_tooltip": null,
            "_model_module": "@jupyter-widgets/controls",
            "layout": "IPY_MODEL_a9d7c3a92912488fa56a2f173633182b"
          }
        },
        "06a85453c5ed483997cd785aab7d96d1": {
          "model_module": "@jupyter-widgets/controls",
          "model_name": "HTMLModel",
          "model_module_version": "1.5.0",
          "state": {
            "_view_name": "HTMLView",
            "style": "IPY_MODEL_a5539e1316e24c249ecf3f4d308ddaa9",
            "_dom_classes": [],
            "description": "",
            "_model_name": "HTMLModel",
            "placeholder": "​",
            "_view_module": "@jupyter-widgets/controls",
            "_model_module_version": "1.5.0",
            "value": " 313/313 [00:04&lt;00:00, 75.66it/s]",
            "_view_count": null,
            "_view_module_version": "1.5.0",
            "description_tooltip": null,
            "_model_module": "@jupyter-widgets/controls",
            "layout": "IPY_MODEL_0904176e66c846f2bac1f4721275c2f9"
          }
        },
        "44aa630c475942919983d70fb707ea1c": {
          "model_module": "@jupyter-widgets/controls",
          "model_name": "DescriptionStyleModel",
          "model_module_version": "1.5.0",
          "state": {
            "_view_name": "StyleView",
            "_model_name": "DescriptionStyleModel",
            "description_width": "",
            "_view_module": "@jupyter-widgets/base",
            "_model_module_version": "1.5.0",
            "_view_count": null,
            "_view_module_version": "1.2.0",
            "_model_module": "@jupyter-widgets/controls"
          }
        },
        "f511f8af29e34dcbaa29cb1f261829db": {
          "model_module": "@jupyter-widgets/base",
          "model_name": "LayoutModel",
          "model_module_version": "1.2.0",
          "state": {
            "_view_name": "LayoutView",
            "grid_template_rows": null,
            "right": null,
            "justify_content": null,
            "_view_module": "@jupyter-widgets/base",
            "overflow": null,
            "_model_module_version": "1.2.0",
            "_view_count": null,
            "flex_flow": null,
            "width": null,
            "min_width": null,
            "border": null,
            "align_items": null,
            "bottom": null,
            "_model_module": "@jupyter-widgets/base",
            "top": null,
            "grid_column": null,
            "overflow_y": null,
            "overflow_x": null,
            "grid_auto_flow": null,
            "grid_area": null,
            "grid_template_columns": null,
            "flex": null,
            "_model_name": "LayoutModel",
            "justify_items": null,
            "grid_row": null,
            "max_height": null,
            "align_content": null,
            "visibility": null,
            "align_self": null,
            "height": null,
            "min_height": null,
            "padding": null,
            "grid_auto_rows": null,
            "grid_gap": null,
            "max_width": null,
            "order": null,
            "_view_module_version": "1.2.0",
            "grid_template_areas": null,
            "object_position": null,
            "object_fit": null,
            "grid_auto_columns": null,
            "margin": null,
            "display": null,
            "left": null
          }
        },
        "a444e77263ef42c9b0f7718ebbb81beb": {
          "model_module": "@jupyter-widgets/controls",
          "model_name": "ProgressStyleModel",
          "model_module_version": "1.5.0",
          "state": {
            "_view_name": "StyleView",
            "_model_name": "ProgressStyleModel",
            "description_width": "",
            "_view_module": "@jupyter-widgets/base",
            "_model_module_version": "1.5.0",
            "_view_count": null,
            "_view_module_version": "1.2.0",
            "bar_color": null,
            "_model_module": "@jupyter-widgets/controls"
          }
        },
        "a9d7c3a92912488fa56a2f173633182b": {
          "model_module": "@jupyter-widgets/base",
          "model_name": "LayoutModel",
          "model_module_version": "1.2.0",
          "state": {
            "_view_name": "LayoutView",
            "grid_template_rows": null,
            "right": null,
            "justify_content": null,
            "_view_module": "@jupyter-widgets/base",
            "overflow": null,
            "_model_module_version": "1.2.0",
            "_view_count": null,
            "flex_flow": null,
            "width": null,
            "min_width": null,
            "border": null,
            "align_items": null,
            "bottom": null,
            "_model_module": "@jupyter-widgets/base",
            "top": null,
            "grid_column": null,
            "overflow_y": null,
            "overflow_x": null,
            "grid_auto_flow": null,
            "grid_area": null,
            "grid_template_columns": null,
            "flex": null,
            "_model_name": "LayoutModel",
            "justify_items": null,
            "grid_row": null,
            "max_height": null,
            "align_content": null,
            "visibility": null,
            "align_self": null,
            "height": null,
            "min_height": null,
            "padding": null,
            "grid_auto_rows": null,
            "grid_gap": null,
            "max_width": null,
            "order": null,
            "_view_module_version": "1.2.0",
            "grid_template_areas": null,
            "object_position": null,
            "object_fit": null,
            "grid_auto_columns": null,
            "margin": null,
            "display": null,
            "left": null
          }
        },
        "a5539e1316e24c249ecf3f4d308ddaa9": {
          "model_module": "@jupyter-widgets/controls",
          "model_name": "DescriptionStyleModel",
          "model_module_version": "1.5.0",
          "state": {
            "_view_name": "StyleView",
            "_model_name": "DescriptionStyleModel",
            "description_width": "",
            "_view_module": "@jupyter-widgets/base",
            "_model_module_version": "1.5.0",
            "_view_count": null,
            "_view_module_version": "1.2.0",
            "_model_module": "@jupyter-widgets/controls"
          }
        },
        "0904176e66c846f2bac1f4721275c2f9": {
          "model_module": "@jupyter-widgets/base",
          "model_name": "LayoutModel",
          "model_module_version": "1.2.0",
          "state": {
            "_view_name": "LayoutView",
            "grid_template_rows": null,
            "right": null,
            "justify_content": null,
            "_view_module": "@jupyter-widgets/base",
            "overflow": null,
            "_model_module_version": "1.2.0",
            "_view_count": null,
            "flex_flow": null,
            "width": null,
            "min_width": null,
            "border": null,
            "align_items": null,
            "bottom": null,
            "_model_module": "@jupyter-widgets/base",
            "top": null,
            "grid_column": null,
            "overflow_y": null,
            "overflow_x": null,
            "grid_auto_flow": null,
            "grid_area": null,
            "grid_template_columns": null,
            "flex": null,
            "_model_name": "LayoutModel",
            "justify_items": null,
            "grid_row": null,
            "max_height": null,
            "align_content": null,
            "visibility": null,
            "align_self": null,
            "height": null,
            "min_height": null,
            "padding": null,
            "grid_auto_rows": null,
            "grid_gap": null,
            "max_width": null,
            "order": null,
            "_view_module_version": "1.2.0",
            "grid_template_areas": null,
            "object_position": null,
            "object_fit": null,
            "grid_auto_columns": null,
            "margin": null,
            "display": null,
            "left": null
          }
        },
        "84b382cc19824e2e895ba48e81de6217": {
          "model_module": "@jupyter-widgets/controls",
          "model_name": "HBoxModel",
          "model_module_version": "1.5.0",
          "state": {
            "_view_name": "HBoxView",
            "_dom_classes": [],
            "_model_name": "HBoxModel",
            "_view_module": "@jupyter-widgets/controls",
            "_model_module_version": "1.5.0",
            "_view_count": null,
            "_view_module_version": "1.5.0",
            "box_style": "",
            "layout": "IPY_MODEL_11332e76921e43d488ffb3826bc28f54",
            "_model_module": "@jupyter-widgets/controls",
            "children": [
              "IPY_MODEL_28687a11046647beb8877b036e84acd5",
              "IPY_MODEL_9ceb4616641a46839ac5b98b868494f6",
              "IPY_MODEL_ae2730c5424640f88192258e154371e5"
            ]
          }
        },
        "11332e76921e43d488ffb3826bc28f54": {
          "model_module": "@jupyter-widgets/base",
          "model_name": "LayoutModel",
          "model_module_version": "1.2.0",
          "state": {
            "_view_name": "LayoutView",
            "grid_template_rows": null,
            "right": null,
            "justify_content": null,
            "_view_module": "@jupyter-widgets/base",
            "overflow": null,
            "_model_module_version": "1.2.0",
            "_view_count": null,
            "flex_flow": null,
            "width": null,
            "min_width": null,
            "border": null,
            "align_items": null,
            "bottom": null,
            "_model_module": "@jupyter-widgets/base",
            "top": null,
            "grid_column": null,
            "overflow_y": null,
            "overflow_x": null,
            "grid_auto_flow": null,
            "grid_area": null,
            "grid_template_columns": null,
            "flex": null,
            "_model_name": "LayoutModel",
            "justify_items": null,
            "grid_row": null,
            "max_height": null,
            "align_content": null,
            "visibility": null,
            "align_self": null,
            "height": null,
            "min_height": null,
            "padding": null,
            "grid_auto_rows": null,
            "grid_gap": null,
            "max_width": null,
            "order": null,
            "_view_module_version": "1.2.0",
            "grid_template_areas": null,
            "object_position": null,
            "object_fit": null,
            "grid_auto_columns": null,
            "margin": null,
            "display": null,
            "left": null
          }
        },
        "28687a11046647beb8877b036e84acd5": {
          "model_module": "@jupyter-widgets/controls",
          "model_name": "HTMLModel",
          "model_module_version": "1.5.0",
          "state": {
            "_view_name": "HTMLView",
            "style": "IPY_MODEL_972f1c00554543e1b1dd2b8ec736c001",
            "_dom_classes": [],
            "description": "",
            "_model_name": "HTMLModel",
            "placeholder": "​",
            "_view_module": "@jupyter-widgets/controls",
            "_model_module_version": "1.5.0",
            "value": "100%",
            "_view_count": null,
            "_view_module_version": "1.5.0",
            "description_tooltip": null,
            "_model_module": "@jupyter-widgets/controls",
            "layout": "IPY_MODEL_11f5b20a72874be58667b0137d65e1f7"
          }
        },
        "9ceb4616641a46839ac5b98b868494f6": {
          "model_module": "@jupyter-widgets/controls",
          "model_name": "FloatProgressModel",
          "model_module_version": "1.5.0",
          "state": {
            "_view_name": "ProgressView",
            "style": "IPY_MODEL_b40c7d5085aa48f0afbe1be4f038b276",
            "_dom_classes": [],
            "description": "",
            "_model_name": "FloatProgressModel",
            "bar_style": "success",
            "max": 1563,
            "_view_module": "@jupyter-widgets/controls",
            "_model_module_version": "1.5.0",
            "value": 1563,
            "_view_count": null,
            "_view_module_version": "1.5.0",
            "orientation": "horizontal",
            "min": 0,
            "description_tooltip": null,
            "_model_module": "@jupyter-widgets/controls",
            "layout": "IPY_MODEL_3886ad6f9ab24aafa1e53bbe262f3248"
          }
        },
        "ae2730c5424640f88192258e154371e5": {
          "model_module": "@jupyter-widgets/controls",
          "model_name": "HTMLModel",
          "model_module_version": "1.5.0",
          "state": {
            "_view_name": "HTMLView",
            "style": "IPY_MODEL_20a11a1e5f364adbbc4597a2d336d46f",
            "_dom_classes": [],
            "description": "",
            "_model_name": "HTMLModel",
            "placeholder": "​",
            "_view_module": "@jupyter-widgets/controls",
            "_model_module_version": "1.5.0",
            "value": " 1563/1563 [01:27&lt;00:00, 17.65it/s]",
            "_view_count": null,
            "_view_module_version": "1.5.0",
            "description_tooltip": null,
            "_model_module": "@jupyter-widgets/controls",
            "layout": "IPY_MODEL_dc58fc13e0294c6fb37f168a94b807e9"
          }
        },
        "972f1c00554543e1b1dd2b8ec736c001": {
          "model_module": "@jupyter-widgets/controls",
          "model_name": "DescriptionStyleModel",
          "model_module_version": "1.5.0",
          "state": {
            "_view_name": "StyleView",
            "_model_name": "DescriptionStyleModel",
            "description_width": "",
            "_view_module": "@jupyter-widgets/base",
            "_model_module_version": "1.5.0",
            "_view_count": null,
            "_view_module_version": "1.2.0",
            "_model_module": "@jupyter-widgets/controls"
          }
        },
        "11f5b20a72874be58667b0137d65e1f7": {
          "model_module": "@jupyter-widgets/base",
          "model_name": "LayoutModel",
          "model_module_version": "1.2.0",
          "state": {
            "_view_name": "LayoutView",
            "grid_template_rows": null,
            "right": null,
            "justify_content": null,
            "_view_module": "@jupyter-widgets/base",
            "overflow": null,
            "_model_module_version": "1.2.0",
            "_view_count": null,
            "flex_flow": null,
            "width": null,
            "min_width": null,
            "border": null,
            "align_items": null,
            "bottom": null,
            "_model_module": "@jupyter-widgets/base",
            "top": null,
            "grid_column": null,
            "overflow_y": null,
            "overflow_x": null,
            "grid_auto_flow": null,
            "grid_area": null,
            "grid_template_columns": null,
            "flex": null,
            "_model_name": "LayoutModel",
            "justify_items": null,
            "grid_row": null,
            "max_height": null,
            "align_content": null,
            "visibility": null,
            "align_self": null,
            "height": null,
            "min_height": null,
            "padding": null,
            "grid_auto_rows": null,
            "grid_gap": null,
            "max_width": null,
            "order": null,
            "_view_module_version": "1.2.0",
            "grid_template_areas": null,
            "object_position": null,
            "object_fit": null,
            "grid_auto_columns": null,
            "margin": null,
            "display": null,
            "left": null
          }
        },
        "b40c7d5085aa48f0afbe1be4f038b276": {
          "model_module": "@jupyter-widgets/controls",
          "model_name": "ProgressStyleModel",
          "model_module_version": "1.5.0",
          "state": {
            "_view_name": "StyleView",
            "_model_name": "ProgressStyleModel",
            "description_width": "",
            "_view_module": "@jupyter-widgets/base",
            "_model_module_version": "1.5.0",
            "_view_count": null,
            "_view_module_version": "1.2.0",
            "bar_color": null,
            "_model_module": "@jupyter-widgets/controls"
          }
        },
        "3886ad6f9ab24aafa1e53bbe262f3248": {
          "model_module": "@jupyter-widgets/base",
          "model_name": "LayoutModel",
          "model_module_version": "1.2.0",
          "state": {
            "_view_name": "LayoutView",
            "grid_template_rows": null,
            "right": null,
            "justify_content": null,
            "_view_module": "@jupyter-widgets/base",
            "overflow": null,
            "_model_module_version": "1.2.0",
            "_view_count": null,
            "flex_flow": null,
            "width": null,
            "min_width": null,
            "border": null,
            "align_items": null,
            "bottom": null,
            "_model_module": "@jupyter-widgets/base",
            "top": null,
            "grid_column": null,
            "overflow_y": null,
            "overflow_x": null,
            "grid_auto_flow": null,
            "grid_area": null,
            "grid_template_columns": null,
            "flex": null,
            "_model_name": "LayoutModel",
            "justify_items": null,
            "grid_row": null,
            "max_height": null,
            "align_content": null,
            "visibility": null,
            "align_self": null,
            "height": null,
            "min_height": null,
            "padding": null,
            "grid_auto_rows": null,
            "grid_gap": null,
            "max_width": null,
            "order": null,
            "_view_module_version": "1.2.0",
            "grid_template_areas": null,
            "object_position": null,
            "object_fit": null,
            "grid_auto_columns": null,
            "margin": null,
            "display": null,
            "left": null
          }
        },
        "20a11a1e5f364adbbc4597a2d336d46f": {
          "model_module": "@jupyter-widgets/controls",
          "model_name": "DescriptionStyleModel",
          "model_module_version": "1.5.0",
          "state": {
            "_view_name": "StyleView",
            "_model_name": "DescriptionStyleModel",
            "description_width": "",
            "_view_module": "@jupyter-widgets/base",
            "_model_module_version": "1.5.0",
            "_view_count": null,
            "_view_module_version": "1.2.0",
            "_model_module": "@jupyter-widgets/controls"
          }
        },
        "dc58fc13e0294c6fb37f168a94b807e9": {
          "model_module": "@jupyter-widgets/base",
          "model_name": "LayoutModel",
          "model_module_version": "1.2.0",
          "state": {
            "_view_name": "LayoutView",
            "grid_template_rows": null,
            "right": null,
            "justify_content": null,
            "_view_module": "@jupyter-widgets/base",
            "overflow": null,
            "_model_module_version": "1.2.0",
            "_view_count": null,
            "flex_flow": null,
            "width": null,
            "min_width": null,
            "border": null,
            "align_items": null,
            "bottom": null,
            "_model_module": "@jupyter-widgets/base",
            "top": null,
            "grid_column": null,
            "overflow_y": null,
            "overflow_x": null,
            "grid_auto_flow": null,
            "grid_area": null,
            "grid_template_columns": null,
            "flex": null,
            "_model_name": "LayoutModel",
            "justify_items": null,
            "grid_row": null,
            "max_height": null,
            "align_content": null,
            "visibility": null,
            "align_self": null,
            "height": null,
            "min_height": null,
            "padding": null,
            "grid_auto_rows": null,
            "grid_gap": null,
            "max_width": null,
            "order": null,
            "_view_module_version": "1.2.0",
            "grid_template_areas": null,
            "object_position": null,
            "object_fit": null,
            "grid_auto_columns": null,
            "margin": null,
            "display": null,
            "left": null
          }
        },
        "cd74802841394435b81412158046ede8": {
          "model_module": "@jupyter-widgets/controls",
          "model_name": "HBoxModel",
          "model_module_version": "1.5.0",
          "state": {
            "_view_name": "HBoxView",
            "_dom_classes": [],
            "_model_name": "HBoxModel",
            "_view_module": "@jupyter-widgets/controls",
            "_model_module_version": "1.5.0",
            "_view_count": null,
            "_view_module_version": "1.5.0",
            "box_style": "",
            "layout": "IPY_MODEL_49ec689516e24362a253f7b030a97912",
            "_model_module": "@jupyter-widgets/controls",
            "children": [
              "IPY_MODEL_3d9576b6a36e4089935096bd8f5a083a",
              "IPY_MODEL_3a572b57103a4534ba1584109c8f2e78",
              "IPY_MODEL_25780e37321144d9b879d2e31f935f8e"
            ]
          }
        },
        "49ec689516e24362a253f7b030a97912": {
          "model_module": "@jupyter-widgets/base",
          "model_name": "LayoutModel",
          "model_module_version": "1.2.0",
          "state": {
            "_view_name": "LayoutView",
            "grid_template_rows": null,
            "right": null,
            "justify_content": null,
            "_view_module": "@jupyter-widgets/base",
            "overflow": null,
            "_model_module_version": "1.2.0",
            "_view_count": null,
            "flex_flow": null,
            "width": null,
            "min_width": null,
            "border": null,
            "align_items": null,
            "bottom": null,
            "_model_module": "@jupyter-widgets/base",
            "top": null,
            "grid_column": null,
            "overflow_y": null,
            "overflow_x": null,
            "grid_auto_flow": null,
            "grid_area": null,
            "grid_template_columns": null,
            "flex": null,
            "_model_name": "LayoutModel",
            "justify_items": null,
            "grid_row": null,
            "max_height": null,
            "align_content": null,
            "visibility": null,
            "align_self": null,
            "height": null,
            "min_height": null,
            "padding": null,
            "grid_auto_rows": null,
            "grid_gap": null,
            "max_width": null,
            "order": null,
            "_view_module_version": "1.2.0",
            "grid_template_areas": null,
            "object_position": null,
            "object_fit": null,
            "grid_auto_columns": null,
            "margin": null,
            "display": null,
            "left": null
          }
        },
        "3d9576b6a36e4089935096bd8f5a083a": {
          "model_module": "@jupyter-widgets/controls",
          "model_name": "HTMLModel",
          "model_module_version": "1.5.0",
          "state": {
            "_view_name": "HTMLView",
            "style": "IPY_MODEL_463f944886504085a3d2139325ec263f",
            "_dom_classes": [],
            "description": "",
            "_model_name": "HTMLModel",
            "placeholder": "​",
            "_view_module": "@jupyter-widgets/controls",
            "_model_module_version": "1.5.0",
            "value": "100%",
            "_view_count": null,
            "_view_module_version": "1.5.0",
            "description_tooltip": null,
            "_model_module": "@jupyter-widgets/controls",
            "layout": "IPY_MODEL_05ebb2a2184b49f689ee4d889b1b53e0"
          }
        },
        "3a572b57103a4534ba1584109c8f2e78": {
          "model_module": "@jupyter-widgets/controls",
          "model_name": "FloatProgressModel",
          "model_module_version": "1.5.0",
          "state": {
            "_view_name": "ProgressView",
            "style": "IPY_MODEL_0e6c6ba38bbe40faa941b7d9691fff67",
            "_dom_classes": [],
            "description": "",
            "_model_name": "FloatProgressModel",
            "bar_style": "success",
            "max": 313,
            "_view_module": "@jupyter-widgets/controls",
            "_model_module_version": "1.5.0",
            "value": 313,
            "_view_count": null,
            "_view_module_version": "1.5.0",
            "orientation": "horizontal",
            "min": 0,
            "description_tooltip": null,
            "_model_module": "@jupyter-widgets/controls",
            "layout": "IPY_MODEL_f329c997575b48768a2251a349bed0ed"
          }
        },
        "25780e37321144d9b879d2e31f935f8e": {
          "model_module": "@jupyter-widgets/controls",
          "model_name": "HTMLModel",
          "model_module_version": "1.5.0",
          "state": {
            "_view_name": "HTMLView",
            "style": "IPY_MODEL_444501a738374400a812a25074a05dc3",
            "_dom_classes": [],
            "description": "",
            "_model_name": "HTMLModel",
            "placeholder": "​",
            "_view_module": "@jupyter-widgets/controls",
            "_model_module_version": "1.5.0",
            "value": " 313/313 [00:04&lt;00:00, 73.24it/s]",
            "_view_count": null,
            "_view_module_version": "1.5.0",
            "description_tooltip": null,
            "_model_module": "@jupyter-widgets/controls",
            "layout": "IPY_MODEL_ec2447d81afc473580ba7ab0ffa72bf9"
          }
        },
        "463f944886504085a3d2139325ec263f": {
          "model_module": "@jupyter-widgets/controls",
          "model_name": "DescriptionStyleModel",
          "model_module_version": "1.5.0",
          "state": {
            "_view_name": "StyleView",
            "_model_name": "DescriptionStyleModel",
            "description_width": "",
            "_view_module": "@jupyter-widgets/base",
            "_model_module_version": "1.5.0",
            "_view_count": null,
            "_view_module_version": "1.2.0",
            "_model_module": "@jupyter-widgets/controls"
          }
        },
        "05ebb2a2184b49f689ee4d889b1b53e0": {
          "model_module": "@jupyter-widgets/base",
          "model_name": "LayoutModel",
          "model_module_version": "1.2.0",
          "state": {
            "_view_name": "LayoutView",
            "grid_template_rows": null,
            "right": null,
            "justify_content": null,
            "_view_module": "@jupyter-widgets/base",
            "overflow": null,
            "_model_module_version": "1.2.0",
            "_view_count": null,
            "flex_flow": null,
            "width": null,
            "min_width": null,
            "border": null,
            "align_items": null,
            "bottom": null,
            "_model_module": "@jupyter-widgets/base",
            "top": null,
            "grid_column": null,
            "overflow_y": null,
            "overflow_x": null,
            "grid_auto_flow": null,
            "grid_area": null,
            "grid_template_columns": null,
            "flex": null,
            "_model_name": "LayoutModel",
            "justify_items": null,
            "grid_row": null,
            "max_height": null,
            "align_content": null,
            "visibility": null,
            "align_self": null,
            "height": null,
            "min_height": null,
            "padding": null,
            "grid_auto_rows": null,
            "grid_gap": null,
            "max_width": null,
            "order": null,
            "_view_module_version": "1.2.0",
            "grid_template_areas": null,
            "object_position": null,
            "object_fit": null,
            "grid_auto_columns": null,
            "margin": null,
            "display": null,
            "left": null
          }
        },
        "0e6c6ba38bbe40faa941b7d9691fff67": {
          "model_module": "@jupyter-widgets/controls",
          "model_name": "ProgressStyleModel",
          "model_module_version": "1.5.0",
          "state": {
            "_view_name": "StyleView",
            "_model_name": "ProgressStyleModel",
            "description_width": "",
            "_view_module": "@jupyter-widgets/base",
            "_model_module_version": "1.5.0",
            "_view_count": null,
            "_view_module_version": "1.2.0",
            "bar_color": null,
            "_model_module": "@jupyter-widgets/controls"
          }
        },
        "f329c997575b48768a2251a349bed0ed": {
          "model_module": "@jupyter-widgets/base",
          "model_name": "LayoutModel",
          "model_module_version": "1.2.0",
          "state": {
            "_view_name": "LayoutView",
            "grid_template_rows": null,
            "right": null,
            "justify_content": null,
            "_view_module": "@jupyter-widgets/base",
            "overflow": null,
            "_model_module_version": "1.2.0",
            "_view_count": null,
            "flex_flow": null,
            "width": null,
            "min_width": null,
            "border": null,
            "align_items": null,
            "bottom": null,
            "_model_module": "@jupyter-widgets/base",
            "top": null,
            "grid_column": null,
            "overflow_y": null,
            "overflow_x": null,
            "grid_auto_flow": null,
            "grid_area": null,
            "grid_template_columns": null,
            "flex": null,
            "_model_name": "LayoutModel",
            "justify_items": null,
            "grid_row": null,
            "max_height": null,
            "align_content": null,
            "visibility": null,
            "align_self": null,
            "height": null,
            "min_height": null,
            "padding": null,
            "grid_auto_rows": null,
            "grid_gap": null,
            "max_width": null,
            "order": null,
            "_view_module_version": "1.2.0",
            "grid_template_areas": null,
            "object_position": null,
            "object_fit": null,
            "grid_auto_columns": null,
            "margin": null,
            "display": null,
            "left": null
          }
        },
        "444501a738374400a812a25074a05dc3": {
          "model_module": "@jupyter-widgets/controls",
          "model_name": "DescriptionStyleModel",
          "model_module_version": "1.5.0",
          "state": {
            "_view_name": "StyleView",
            "_model_name": "DescriptionStyleModel",
            "description_width": "",
            "_view_module": "@jupyter-widgets/base",
            "_model_module_version": "1.5.0",
            "_view_count": null,
            "_view_module_version": "1.2.0",
            "_model_module": "@jupyter-widgets/controls"
          }
        },
        "ec2447d81afc473580ba7ab0ffa72bf9": {
          "model_module": "@jupyter-widgets/base",
          "model_name": "LayoutModel",
          "model_module_version": "1.2.0",
          "state": {
            "_view_name": "LayoutView",
            "grid_template_rows": null,
            "right": null,
            "justify_content": null,
            "_view_module": "@jupyter-widgets/base",
            "overflow": null,
            "_model_module_version": "1.2.0",
            "_view_count": null,
            "flex_flow": null,
            "width": null,
            "min_width": null,
            "border": null,
            "align_items": null,
            "bottom": null,
            "_model_module": "@jupyter-widgets/base",
            "top": null,
            "grid_column": null,
            "overflow_y": null,
            "overflow_x": null,
            "grid_auto_flow": null,
            "grid_area": null,
            "grid_template_columns": null,
            "flex": null,
            "_model_name": "LayoutModel",
            "justify_items": null,
            "grid_row": null,
            "max_height": null,
            "align_content": null,
            "visibility": null,
            "align_self": null,
            "height": null,
            "min_height": null,
            "padding": null,
            "grid_auto_rows": null,
            "grid_gap": null,
            "max_width": null,
            "order": null,
            "_view_module_version": "1.2.0",
            "grid_template_areas": null,
            "object_position": null,
            "object_fit": null,
            "grid_auto_columns": null,
            "margin": null,
            "display": null,
            "left": null
          }
        },
        "240fa4f579d3486f959c947d4b850c69": {
          "model_module": "@jupyter-widgets/controls",
          "model_name": "HBoxModel",
          "model_module_version": "1.5.0",
          "state": {
            "_view_name": "HBoxView",
            "_dom_classes": [],
            "_model_name": "HBoxModel",
            "_view_module": "@jupyter-widgets/controls",
            "_model_module_version": "1.5.0",
            "_view_count": null,
            "_view_module_version": "1.5.0",
            "box_style": "",
            "layout": "IPY_MODEL_cd7be66f3f9b4c468d742cd13a077f36",
            "_model_module": "@jupyter-widgets/controls",
            "children": [
              "IPY_MODEL_5a11ad5a03be4c4289adf9d5da37fe63",
              "IPY_MODEL_03f271eb7fdb4e2887bb04aab5f06651",
              "IPY_MODEL_1810429f47c44da0890a69580dd76d21"
            ]
          }
        },
        "cd7be66f3f9b4c468d742cd13a077f36": {
          "model_module": "@jupyter-widgets/base",
          "model_name": "LayoutModel",
          "model_module_version": "1.2.0",
          "state": {
            "_view_name": "LayoutView",
            "grid_template_rows": null,
            "right": null,
            "justify_content": null,
            "_view_module": "@jupyter-widgets/base",
            "overflow": null,
            "_model_module_version": "1.2.0",
            "_view_count": null,
            "flex_flow": null,
            "width": null,
            "min_width": null,
            "border": null,
            "align_items": null,
            "bottom": null,
            "_model_module": "@jupyter-widgets/base",
            "top": null,
            "grid_column": null,
            "overflow_y": null,
            "overflow_x": null,
            "grid_auto_flow": null,
            "grid_area": null,
            "grid_template_columns": null,
            "flex": null,
            "_model_name": "LayoutModel",
            "justify_items": null,
            "grid_row": null,
            "max_height": null,
            "align_content": null,
            "visibility": null,
            "align_self": null,
            "height": null,
            "min_height": null,
            "padding": null,
            "grid_auto_rows": null,
            "grid_gap": null,
            "max_width": null,
            "order": null,
            "_view_module_version": "1.2.0",
            "grid_template_areas": null,
            "object_position": null,
            "object_fit": null,
            "grid_auto_columns": null,
            "margin": null,
            "display": null,
            "left": null
          }
        },
        "5a11ad5a03be4c4289adf9d5da37fe63": {
          "model_module": "@jupyter-widgets/controls",
          "model_name": "HTMLModel",
          "model_module_version": "1.5.0",
          "state": {
            "_view_name": "HTMLView",
            "style": "IPY_MODEL_9bdba28467a34e1a9fd937945f840256",
            "_dom_classes": [],
            "description": "",
            "_model_name": "HTMLModel",
            "placeholder": "​",
            "_view_module": "@jupyter-widgets/controls",
            "_model_module_version": "1.5.0",
            "value": "100%",
            "_view_count": null,
            "_view_module_version": "1.5.0",
            "description_tooltip": null,
            "_model_module": "@jupyter-widgets/controls",
            "layout": "IPY_MODEL_4ef245b875ac4c02a0418de4b7d8e821"
          }
        },
        "03f271eb7fdb4e2887bb04aab5f06651": {
          "model_module": "@jupyter-widgets/controls",
          "model_name": "FloatProgressModel",
          "model_module_version": "1.5.0",
          "state": {
            "_view_name": "ProgressView",
            "style": "IPY_MODEL_72b1c8de89024ccdb5f4981e7bddf8d8",
            "_dom_classes": [],
            "description": "",
            "_model_name": "FloatProgressModel",
            "bar_style": "success",
            "max": 1563,
            "_view_module": "@jupyter-widgets/controls",
            "_model_module_version": "1.5.0",
            "value": 1563,
            "_view_count": null,
            "_view_module_version": "1.5.0",
            "orientation": "horizontal",
            "min": 0,
            "description_tooltip": null,
            "_model_module": "@jupyter-widgets/controls",
            "layout": "IPY_MODEL_dfdd100212c647e4af937eab02fa5a8c"
          }
        },
        "1810429f47c44da0890a69580dd76d21": {
          "model_module": "@jupyter-widgets/controls",
          "model_name": "HTMLModel",
          "model_module_version": "1.5.0",
          "state": {
            "_view_name": "HTMLView",
            "style": "IPY_MODEL_56ed5dd1b8b5468aa610ead8510f4f89",
            "_dom_classes": [],
            "description": "",
            "_model_name": "HTMLModel",
            "placeholder": "​",
            "_view_module": "@jupyter-widgets/controls",
            "_model_module_version": "1.5.0",
            "value": " 1563/1563 [01:28&lt;00:00, 17.07it/s]",
            "_view_count": null,
            "_view_module_version": "1.5.0",
            "description_tooltip": null,
            "_model_module": "@jupyter-widgets/controls",
            "layout": "IPY_MODEL_dc8dd0a205fb49ec963392f2b3a065a1"
          }
        },
        "9bdba28467a34e1a9fd937945f840256": {
          "model_module": "@jupyter-widgets/controls",
          "model_name": "DescriptionStyleModel",
          "model_module_version": "1.5.0",
          "state": {
            "_view_name": "StyleView",
            "_model_name": "DescriptionStyleModel",
            "description_width": "",
            "_view_module": "@jupyter-widgets/base",
            "_model_module_version": "1.5.0",
            "_view_count": null,
            "_view_module_version": "1.2.0",
            "_model_module": "@jupyter-widgets/controls"
          }
        },
        "4ef245b875ac4c02a0418de4b7d8e821": {
          "model_module": "@jupyter-widgets/base",
          "model_name": "LayoutModel",
          "model_module_version": "1.2.0",
          "state": {
            "_view_name": "LayoutView",
            "grid_template_rows": null,
            "right": null,
            "justify_content": null,
            "_view_module": "@jupyter-widgets/base",
            "overflow": null,
            "_model_module_version": "1.2.0",
            "_view_count": null,
            "flex_flow": null,
            "width": null,
            "min_width": null,
            "border": null,
            "align_items": null,
            "bottom": null,
            "_model_module": "@jupyter-widgets/base",
            "top": null,
            "grid_column": null,
            "overflow_y": null,
            "overflow_x": null,
            "grid_auto_flow": null,
            "grid_area": null,
            "grid_template_columns": null,
            "flex": null,
            "_model_name": "LayoutModel",
            "justify_items": null,
            "grid_row": null,
            "max_height": null,
            "align_content": null,
            "visibility": null,
            "align_self": null,
            "height": null,
            "min_height": null,
            "padding": null,
            "grid_auto_rows": null,
            "grid_gap": null,
            "max_width": null,
            "order": null,
            "_view_module_version": "1.2.0",
            "grid_template_areas": null,
            "object_position": null,
            "object_fit": null,
            "grid_auto_columns": null,
            "margin": null,
            "display": null,
            "left": null
          }
        },
        "72b1c8de89024ccdb5f4981e7bddf8d8": {
          "model_module": "@jupyter-widgets/controls",
          "model_name": "ProgressStyleModel",
          "model_module_version": "1.5.0",
          "state": {
            "_view_name": "StyleView",
            "_model_name": "ProgressStyleModel",
            "description_width": "",
            "_view_module": "@jupyter-widgets/base",
            "_model_module_version": "1.5.0",
            "_view_count": null,
            "_view_module_version": "1.2.0",
            "bar_color": null,
            "_model_module": "@jupyter-widgets/controls"
          }
        },
        "dfdd100212c647e4af937eab02fa5a8c": {
          "model_module": "@jupyter-widgets/base",
          "model_name": "LayoutModel",
          "model_module_version": "1.2.0",
          "state": {
            "_view_name": "LayoutView",
            "grid_template_rows": null,
            "right": null,
            "justify_content": null,
            "_view_module": "@jupyter-widgets/base",
            "overflow": null,
            "_model_module_version": "1.2.0",
            "_view_count": null,
            "flex_flow": null,
            "width": null,
            "min_width": null,
            "border": null,
            "align_items": null,
            "bottom": null,
            "_model_module": "@jupyter-widgets/base",
            "top": null,
            "grid_column": null,
            "overflow_y": null,
            "overflow_x": null,
            "grid_auto_flow": null,
            "grid_area": null,
            "grid_template_columns": null,
            "flex": null,
            "_model_name": "LayoutModel",
            "justify_items": null,
            "grid_row": null,
            "max_height": null,
            "align_content": null,
            "visibility": null,
            "align_self": null,
            "height": null,
            "min_height": null,
            "padding": null,
            "grid_auto_rows": null,
            "grid_gap": null,
            "max_width": null,
            "order": null,
            "_view_module_version": "1.2.0",
            "grid_template_areas": null,
            "object_position": null,
            "object_fit": null,
            "grid_auto_columns": null,
            "margin": null,
            "display": null,
            "left": null
          }
        },
        "56ed5dd1b8b5468aa610ead8510f4f89": {
          "model_module": "@jupyter-widgets/controls",
          "model_name": "DescriptionStyleModel",
          "model_module_version": "1.5.0",
          "state": {
            "_view_name": "StyleView",
            "_model_name": "DescriptionStyleModel",
            "description_width": "",
            "_view_module": "@jupyter-widgets/base",
            "_model_module_version": "1.5.0",
            "_view_count": null,
            "_view_module_version": "1.2.0",
            "_model_module": "@jupyter-widgets/controls"
          }
        },
        "dc8dd0a205fb49ec963392f2b3a065a1": {
          "model_module": "@jupyter-widgets/base",
          "model_name": "LayoutModel",
          "model_module_version": "1.2.0",
          "state": {
            "_view_name": "LayoutView",
            "grid_template_rows": null,
            "right": null,
            "justify_content": null,
            "_view_module": "@jupyter-widgets/base",
            "overflow": null,
            "_model_module_version": "1.2.0",
            "_view_count": null,
            "flex_flow": null,
            "width": null,
            "min_width": null,
            "border": null,
            "align_items": null,
            "bottom": null,
            "_model_module": "@jupyter-widgets/base",
            "top": null,
            "grid_column": null,
            "overflow_y": null,
            "overflow_x": null,
            "grid_auto_flow": null,
            "grid_area": null,
            "grid_template_columns": null,
            "flex": null,
            "_model_name": "LayoutModel",
            "justify_items": null,
            "grid_row": null,
            "max_height": null,
            "align_content": null,
            "visibility": null,
            "align_self": null,
            "height": null,
            "min_height": null,
            "padding": null,
            "grid_auto_rows": null,
            "grid_gap": null,
            "max_width": null,
            "order": null,
            "_view_module_version": "1.2.0",
            "grid_template_areas": null,
            "object_position": null,
            "object_fit": null,
            "grid_auto_columns": null,
            "margin": null,
            "display": null,
            "left": null
          }
        },
        "5af400fea59e4b459d9216e4037adf90": {
          "model_module": "@jupyter-widgets/controls",
          "model_name": "HBoxModel",
          "model_module_version": "1.5.0",
          "state": {
            "_view_name": "HBoxView",
            "_dom_classes": [],
            "_model_name": "HBoxModel",
            "_view_module": "@jupyter-widgets/controls",
            "_model_module_version": "1.5.0",
            "_view_count": null,
            "_view_module_version": "1.5.0",
            "box_style": "",
            "layout": "IPY_MODEL_85fae6438c8344f1b29af36649c7677f",
            "_model_module": "@jupyter-widgets/controls",
            "children": [
              "IPY_MODEL_2b2a94c5fe8449a0ad29cdd2062006c9",
              "IPY_MODEL_71cd9ac52299435da4ae5dee0cbd61ab",
              "IPY_MODEL_7243ecf30bd944fe871cb62d285084e9"
            ]
          }
        },
        "85fae6438c8344f1b29af36649c7677f": {
          "model_module": "@jupyter-widgets/base",
          "model_name": "LayoutModel",
          "model_module_version": "1.2.0",
          "state": {
            "_view_name": "LayoutView",
            "grid_template_rows": null,
            "right": null,
            "justify_content": null,
            "_view_module": "@jupyter-widgets/base",
            "overflow": null,
            "_model_module_version": "1.2.0",
            "_view_count": null,
            "flex_flow": null,
            "width": null,
            "min_width": null,
            "border": null,
            "align_items": null,
            "bottom": null,
            "_model_module": "@jupyter-widgets/base",
            "top": null,
            "grid_column": null,
            "overflow_y": null,
            "overflow_x": null,
            "grid_auto_flow": null,
            "grid_area": null,
            "grid_template_columns": null,
            "flex": null,
            "_model_name": "LayoutModel",
            "justify_items": null,
            "grid_row": null,
            "max_height": null,
            "align_content": null,
            "visibility": null,
            "align_self": null,
            "height": null,
            "min_height": null,
            "padding": null,
            "grid_auto_rows": null,
            "grid_gap": null,
            "max_width": null,
            "order": null,
            "_view_module_version": "1.2.0",
            "grid_template_areas": null,
            "object_position": null,
            "object_fit": null,
            "grid_auto_columns": null,
            "margin": null,
            "display": null,
            "left": null
          }
        },
        "2b2a94c5fe8449a0ad29cdd2062006c9": {
          "model_module": "@jupyter-widgets/controls",
          "model_name": "HTMLModel",
          "model_module_version": "1.5.0",
          "state": {
            "_view_name": "HTMLView",
            "style": "IPY_MODEL_003a1f8f19c14a568631ebd251f1dba1",
            "_dom_classes": [],
            "description": "",
            "_model_name": "HTMLModel",
            "placeholder": "​",
            "_view_module": "@jupyter-widgets/controls",
            "_model_module_version": "1.5.0",
            "value": "100%",
            "_view_count": null,
            "_view_module_version": "1.5.0",
            "description_tooltip": null,
            "_model_module": "@jupyter-widgets/controls",
            "layout": "IPY_MODEL_b36927634a204cc5b57596e44cf62f04"
          }
        },
        "71cd9ac52299435da4ae5dee0cbd61ab": {
          "model_module": "@jupyter-widgets/controls",
          "model_name": "FloatProgressModel",
          "model_module_version": "1.5.0",
          "state": {
            "_view_name": "ProgressView",
            "style": "IPY_MODEL_c693d67fd4fb458f8e91f718666fa19f",
            "_dom_classes": [],
            "description": "",
            "_model_name": "FloatProgressModel",
            "bar_style": "success",
            "max": 313,
            "_view_module": "@jupyter-widgets/controls",
            "_model_module_version": "1.5.0",
            "value": 313,
            "_view_count": null,
            "_view_module_version": "1.5.0",
            "orientation": "horizontal",
            "min": 0,
            "description_tooltip": null,
            "_model_module": "@jupyter-widgets/controls",
            "layout": "IPY_MODEL_bd4d7d76c2b74175b6120ded94ab4ab7"
          }
        },
        "7243ecf30bd944fe871cb62d285084e9": {
          "model_module": "@jupyter-widgets/controls",
          "model_name": "HTMLModel",
          "model_module_version": "1.5.0",
          "state": {
            "_view_name": "HTMLView",
            "style": "IPY_MODEL_77765c2fdd8b4100b32eeba63c52db2b",
            "_dom_classes": [],
            "description": "",
            "_model_name": "HTMLModel",
            "placeholder": "​",
            "_view_module": "@jupyter-widgets/controls",
            "_model_module_version": "1.5.0",
            "value": " 313/313 [00:04&lt;00:00, 69.80it/s]",
            "_view_count": null,
            "_view_module_version": "1.5.0",
            "description_tooltip": null,
            "_model_module": "@jupyter-widgets/controls",
            "layout": "IPY_MODEL_aaaf3e0572364b9086ce3be180fca2e5"
          }
        },
        "003a1f8f19c14a568631ebd251f1dba1": {
          "model_module": "@jupyter-widgets/controls",
          "model_name": "DescriptionStyleModel",
          "model_module_version": "1.5.0",
          "state": {
            "_view_name": "StyleView",
            "_model_name": "DescriptionStyleModel",
            "description_width": "",
            "_view_module": "@jupyter-widgets/base",
            "_model_module_version": "1.5.0",
            "_view_count": null,
            "_view_module_version": "1.2.0",
            "_model_module": "@jupyter-widgets/controls"
          }
        },
        "b36927634a204cc5b57596e44cf62f04": {
          "model_module": "@jupyter-widgets/base",
          "model_name": "LayoutModel",
          "model_module_version": "1.2.0",
          "state": {
            "_view_name": "LayoutView",
            "grid_template_rows": null,
            "right": null,
            "justify_content": null,
            "_view_module": "@jupyter-widgets/base",
            "overflow": null,
            "_model_module_version": "1.2.0",
            "_view_count": null,
            "flex_flow": null,
            "width": null,
            "min_width": null,
            "border": null,
            "align_items": null,
            "bottom": null,
            "_model_module": "@jupyter-widgets/base",
            "top": null,
            "grid_column": null,
            "overflow_y": null,
            "overflow_x": null,
            "grid_auto_flow": null,
            "grid_area": null,
            "grid_template_columns": null,
            "flex": null,
            "_model_name": "LayoutModel",
            "justify_items": null,
            "grid_row": null,
            "max_height": null,
            "align_content": null,
            "visibility": null,
            "align_self": null,
            "height": null,
            "min_height": null,
            "padding": null,
            "grid_auto_rows": null,
            "grid_gap": null,
            "max_width": null,
            "order": null,
            "_view_module_version": "1.2.0",
            "grid_template_areas": null,
            "object_position": null,
            "object_fit": null,
            "grid_auto_columns": null,
            "margin": null,
            "display": null,
            "left": null
          }
        },
        "c693d67fd4fb458f8e91f718666fa19f": {
          "model_module": "@jupyter-widgets/controls",
          "model_name": "ProgressStyleModel",
          "model_module_version": "1.5.0",
          "state": {
            "_view_name": "StyleView",
            "_model_name": "ProgressStyleModel",
            "description_width": "",
            "_view_module": "@jupyter-widgets/base",
            "_model_module_version": "1.5.0",
            "_view_count": null,
            "_view_module_version": "1.2.0",
            "bar_color": null,
            "_model_module": "@jupyter-widgets/controls"
          }
        },
        "bd4d7d76c2b74175b6120ded94ab4ab7": {
          "model_module": "@jupyter-widgets/base",
          "model_name": "LayoutModel",
          "model_module_version": "1.2.0",
          "state": {
            "_view_name": "LayoutView",
            "grid_template_rows": null,
            "right": null,
            "justify_content": null,
            "_view_module": "@jupyter-widgets/base",
            "overflow": null,
            "_model_module_version": "1.2.0",
            "_view_count": null,
            "flex_flow": null,
            "width": null,
            "min_width": null,
            "border": null,
            "align_items": null,
            "bottom": null,
            "_model_module": "@jupyter-widgets/base",
            "top": null,
            "grid_column": null,
            "overflow_y": null,
            "overflow_x": null,
            "grid_auto_flow": null,
            "grid_area": null,
            "grid_template_columns": null,
            "flex": null,
            "_model_name": "LayoutModel",
            "justify_items": null,
            "grid_row": null,
            "max_height": null,
            "align_content": null,
            "visibility": null,
            "align_self": null,
            "height": null,
            "min_height": null,
            "padding": null,
            "grid_auto_rows": null,
            "grid_gap": null,
            "max_width": null,
            "order": null,
            "_view_module_version": "1.2.0",
            "grid_template_areas": null,
            "object_position": null,
            "object_fit": null,
            "grid_auto_columns": null,
            "margin": null,
            "display": null,
            "left": null
          }
        },
        "77765c2fdd8b4100b32eeba63c52db2b": {
          "model_module": "@jupyter-widgets/controls",
          "model_name": "DescriptionStyleModel",
          "model_module_version": "1.5.0",
          "state": {
            "_view_name": "StyleView",
            "_model_name": "DescriptionStyleModel",
            "description_width": "",
            "_view_module": "@jupyter-widgets/base",
            "_model_module_version": "1.5.0",
            "_view_count": null,
            "_view_module_version": "1.2.0",
            "_model_module": "@jupyter-widgets/controls"
          }
        },
        "aaaf3e0572364b9086ce3be180fca2e5": {
          "model_module": "@jupyter-widgets/base",
          "model_name": "LayoutModel",
          "model_module_version": "1.2.0",
          "state": {
            "_view_name": "LayoutView",
            "grid_template_rows": null,
            "right": null,
            "justify_content": null,
            "_view_module": "@jupyter-widgets/base",
            "overflow": null,
            "_model_module_version": "1.2.0",
            "_view_count": null,
            "flex_flow": null,
            "width": null,
            "min_width": null,
            "border": null,
            "align_items": null,
            "bottom": null,
            "_model_module": "@jupyter-widgets/base",
            "top": null,
            "grid_column": null,
            "overflow_y": null,
            "overflow_x": null,
            "grid_auto_flow": null,
            "grid_area": null,
            "grid_template_columns": null,
            "flex": null,
            "_model_name": "LayoutModel",
            "justify_items": null,
            "grid_row": null,
            "max_height": null,
            "align_content": null,
            "visibility": null,
            "align_self": null,
            "height": null,
            "min_height": null,
            "padding": null,
            "grid_auto_rows": null,
            "grid_gap": null,
            "max_width": null,
            "order": null,
            "_view_module_version": "1.2.0",
            "grid_template_areas": null,
            "object_position": null,
            "object_fit": null,
            "grid_auto_columns": null,
            "margin": null,
            "display": null,
            "left": null
          }
        },
        "debe5ebfd5374ec0be90e2d0801b02ee": {
          "model_module": "@jupyter-widgets/controls",
          "model_name": "HBoxModel",
          "model_module_version": "1.5.0",
          "state": {
            "_view_name": "HBoxView",
            "_dom_classes": [],
            "_model_name": "HBoxModel",
            "_view_module": "@jupyter-widgets/controls",
            "_model_module_version": "1.5.0",
            "_view_count": null,
            "_view_module_version": "1.5.0",
            "box_style": "",
            "layout": "IPY_MODEL_e12fb4bf47f44461a50bcda6b8ffacc7",
            "_model_module": "@jupyter-widgets/controls",
            "children": [
              "IPY_MODEL_8ca86c08c9cb4c65af45908c830296cf",
              "IPY_MODEL_ae67306609a743ea9e3ff58b1f1c86b7",
              "IPY_MODEL_33e2bd8193824e4d8121ee3554c835ee"
            ]
          }
        },
        "e12fb4bf47f44461a50bcda6b8ffacc7": {
          "model_module": "@jupyter-widgets/base",
          "model_name": "LayoutModel",
          "model_module_version": "1.2.0",
          "state": {
            "_view_name": "LayoutView",
            "grid_template_rows": null,
            "right": null,
            "justify_content": null,
            "_view_module": "@jupyter-widgets/base",
            "overflow": null,
            "_model_module_version": "1.2.0",
            "_view_count": null,
            "flex_flow": null,
            "width": null,
            "min_width": null,
            "border": null,
            "align_items": null,
            "bottom": null,
            "_model_module": "@jupyter-widgets/base",
            "top": null,
            "grid_column": null,
            "overflow_y": null,
            "overflow_x": null,
            "grid_auto_flow": null,
            "grid_area": null,
            "grid_template_columns": null,
            "flex": null,
            "_model_name": "LayoutModel",
            "justify_items": null,
            "grid_row": null,
            "max_height": null,
            "align_content": null,
            "visibility": null,
            "align_self": null,
            "height": null,
            "min_height": null,
            "padding": null,
            "grid_auto_rows": null,
            "grid_gap": null,
            "max_width": null,
            "order": null,
            "_view_module_version": "1.2.0",
            "grid_template_areas": null,
            "object_position": null,
            "object_fit": null,
            "grid_auto_columns": null,
            "margin": null,
            "display": null,
            "left": null
          }
        },
        "8ca86c08c9cb4c65af45908c830296cf": {
          "model_module": "@jupyter-widgets/controls",
          "model_name": "HTMLModel",
          "model_module_version": "1.5.0",
          "state": {
            "_view_name": "HTMLView",
            "style": "IPY_MODEL_9f54bb4de90a4b89a3113866df905450",
            "_dom_classes": [],
            "description": "",
            "_model_name": "HTMLModel",
            "placeholder": "​",
            "_view_module": "@jupyter-widgets/controls",
            "_model_module_version": "1.5.0",
            "value": "100%",
            "_view_count": null,
            "_view_module_version": "1.5.0",
            "description_tooltip": null,
            "_model_module": "@jupyter-widgets/controls",
            "layout": "IPY_MODEL_cb3e8dff0348415c92aca3ccb2a95b02"
          }
        },
        "ae67306609a743ea9e3ff58b1f1c86b7": {
          "model_module": "@jupyter-widgets/controls",
          "model_name": "FloatProgressModel",
          "model_module_version": "1.5.0",
          "state": {
            "_view_name": "ProgressView",
            "style": "IPY_MODEL_d2d267de1ad74f50994236b5a4a11b38",
            "_dom_classes": [],
            "description": "",
            "_model_name": "FloatProgressModel",
            "bar_style": "success",
            "max": 1563,
            "_view_module": "@jupyter-widgets/controls",
            "_model_module_version": "1.5.0",
            "value": 1563,
            "_view_count": null,
            "_view_module_version": "1.5.0",
            "orientation": "horizontal",
            "min": 0,
            "description_tooltip": null,
            "_model_module": "@jupyter-widgets/controls",
            "layout": "IPY_MODEL_976c41ae022f4e568526f68a20dd0e47"
          }
        },
        "33e2bd8193824e4d8121ee3554c835ee": {
          "model_module": "@jupyter-widgets/controls",
          "model_name": "HTMLModel",
          "model_module_version": "1.5.0",
          "state": {
            "_view_name": "HTMLView",
            "style": "IPY_MODEL_89f94306b36a440a82dfc80383de7226",
            "_dom_classes": [],
            "description": "",
            "_model_name": "HTMLModel",
            "placeholder": "​",
            "_view_module": "@jupyter-widgets/controls",
            "_model_module_version": "1.5.0",
            "value": " 1563/1563 [01:28&lt;00:00, 18.57it/s]",
            "_view_count": null,
            "_view_module_version": "1.5.0",
            "description_tooltip": null,
            "_model_module": "@jupyter-widgets/controls",
            "layout": "IPY_MODEL_0a29ea633632417ca686c944edf3a387"
          }
        },
        "9f54bb4de90a4b89a3113866df905450": {
          "model_module": "@jupyter-widgets/controls",
          "model_name": "DescriptionStyleModel",
          "model_module_version": "1.5.0",
          "state": {
            "_view_name": "StyleView",
            "_model_name": "DescriptionStyleModel",
            "description_width": "",
            "_view_module": "@jupyter-widgets/base",
            "_model_module_version": "1.5.0",
            "_view_count": null,
            "_view_module_version": "1.2.0",
            "_model_module": "@jupyter-widgets/controls"
          }
        },
        "cb3e8dff0348415c92aca3ccb2a95b02": {
          "model_module": "@jupyter-widgets/base",
          "model_name": "LayoutModel",
          "model_module_version": "1.2.0",
          "state": {
            "_view_name": "LayoutView",
            "grid_template_rows": null,
            "right": null,
            "justify_content": null,
            "_view_module": "@jupyter-widgets/base",
            "overflow": null,
            "_model_module_version": "1.2.0",
            "_view_count": null,
            "flex_flow": null,
            "width": null,
            "min_width": null,
            "border": null,
            "align_items": null,
            "bottom": null,
            "_model_module": "@jupyter-widgets/base",
            "top": null,
            "grid_column": null,
            "overflow_y": null,
            "overflow_x": null,
            "grid_auto_flow": null,
            "grid_area": null,
            "grid_template_columns": null,
            "flex": null,
            "_model_name": "LayoutModel",
            "justify_items": null,
            "grid_row": null,
            "max_height": null,
            "align_content": null,
            "visibility": null,
            "align_self": null,
            "height": null,
            "min_height": null,
            "padding": null,
            "grid_auto_rows": null,
            "grid_gap": null,
            "max_width": null,
            "order": null,
            "_view_module_version": "1.2.0",
            "grid_template_areas": null,
            "object_position": null,
            "object_fit": null,
            "grid_auto_columns": null,
            "margin": null,
            "display": null,
            "left": null
          }
        },
        "d2d267de1ad74f50994236b5a4a11b38": {
          "model_module": "@jupyter-widgets/controls",
          "model_name": "ProgressStyleModel",
          "model_module_version": "1.5.0",
          "state": {
            "_view_name": "StyleView",
            "_model_name": "ProgressStyleModel",
            "description_width": "",
            "_view_module": "@jupyter-widgets/base",
            "_model_module_version": "1.5.0",
            "_view_count": null,
            "_view_module_version": "1.2.0",
            "bar_color": null,
            "_model_module": "@jupyter-widgets/controls"
          }
        },
        "976c41ae022f4e568526f68a20dd0e47": {
          "model_module": "@jupyter-widgets/base",
          "model_name": "LayoutModel",
          "model_module_version": "1.2.0",
          "state": {
            "_view_name": "LayoutView",
            "grid_template_rows": null,
            "right": null,
            "justify_content": null,
            "_view_module": "@jupyter-widgets/base",
            "overflow": null,
            "_model_module_version": "1.2.0",
            "_view_count": null,
            "flex_flow": null,
            "width": null,
            "min_width": null,
            "border": null,
            "align_items": null,
            "bottom": null,
            "_model_module": "@jupyter-widgets/base",
            "top": null,
            "grid_column": null,
            "overflow_y": null,
            "overflow_x": null,
            "grid_auto_flow": null,
            "grid_area": null,
            "grid_template_columns": null,
            "flex": null,
            "_model_name": "LayoutModel",
            "justify_items": null,
            "grid_row": null,
            "max_height": null,
            "align_content": null,
            "visibility": null,
            "align_self": null,
            "height": null,
            "min_height": null,
            "padding": null,
            "grid_auto_rows": null,
            "grid_gap": null,
            "max_width": null,
            "order": null,
            "_view_module_version": "1.2.0",
            "grid_template_areas": null,
            "object_position": null,
            "object_fit": null,
            "grid_auto_columns": null,
            "margin": null,
            "display": null,
            "left": null
          }
        },
        "89f94306b36a440a82dfc80383de7226": {
          "model_module": "@jupyter-widgets/controls",
          "model_name": "DescriptionStyleModel",
          "model_module_version": "1.5.0",
          "state": {
            "_view_name": "StyleView",
            "_model_name": "DescriptionStyleModel",
            "description_width": "",
            "_view_module": "@jupyter-widgets/base",
            "_model_module_version": "1.5.0",
            "_view_count": null,
            "_view_module_version": "1.2.0",
            "_model_module": "@jupyter-widgets/controls"
          }
        },
        "0a29ea633632417ca686c944edf3a387": {
          "model_module": "@jupyter-widgets/base",
          "model_name": "LayoutModel",
          "model_module_version": "1.2.0",
          "state": {
            "_view_name": "LayoutView",
            "grid_template_rows": null,
            "right": null,
            "justify_content": null,
            "_view_module": "@jupyter-widgets/base",
            "overflow": null,
            "_model_module_version": "1.2.0",
            "_view_count": null,
            "flex_flow": null,
            "width": null,
            "min_width": null,
            "border": null,
            "align_items": null,
            "bottom": null,
            "_model_module": "@jupyter-widgets/base",
            "top": null,
            "grid_column": null,
            "overflow_y": null,
            "overflow_x": null,
            "grid_auto_flow": null,
            "grid_area": null,
            "grid_template_columns": null,
            "flex": null,
            "_model_name": "LayoutModel",
            "justify_items": null,
            "grid_row": null,
            "max_height": null,
            "align_content": null,
            "visibility": null,
            "align_self": null,
            "height": null,
            "min_height": null,
            "padding": null,
            "grid_auto_rows": null,
            "grid_gap": null,
            "max_width": null,
            "order": null,
            "_view_module_version": "1.2.0",
            "grid_template_areas": null,
            "object_position": null,
            "object_fit": null,
            "grid_auto_columns": null,
            "margin": null,
            "display": null,
            "left": null
          }
        },
        "bdf4ed3caf0e49e1bdb45c630f859a80": {
          "model_module": "@jupyter-widgets/controls",
          "model_name": "HBoxModel",
          "model_module_version": "1.5.0",
          "state": {
            "_view_name": "HBoxView",
            "_dom_classes": [],
            "_model_name": "HBoxModel",
            "_view_module": "@jupyter-widgets/controls",
            "_model_module_version": "1.5.0",
            "_view_count": null,
            "_view_module_version": "1.5.0",
            "box_style": "",
            "layout": "IPY_MODEL_30b1ed08c8d249919a44146756c1a200",
            "_model_module": "@jupyter-widgets/controls",
            "children": [
              "IPY_MODEL_8622a4fd14fb4bf395bc7bb8bfdf7091",
              "IPY_MODEL_4630049955ae4786bf551bac7cd7f35b",
              "IPY_MODEL_0994a43984954785921d70ffa11def09"
            ]
          }
        },
        "30b1ed08c8d249919a44146756c1a200": {
          "model_module": "@jupyter-widgets/base",
          "model_name": "LayoutModel",
          "model_module_version": "1.2.0",
          "state": {
            "_view_name": "LayoutView",
            "grid_template_rows": null,
            "right": null,
            "justify_content": null,
            "_view_module": "@jupyter-widgets/base",
            "overflow": null,
            "_model_module_version": "1.2.0",
            "_view_count": null,
            "flex_flow": null,
            "width": null,
            "min_width": null,
            "border": null,
            "align_items": null,
            "bottom": null,
            "_model_module": "@jupyter-widgets/base",
            "top": null,
            "grid_column": null,
            "overflow_y": null,
            "overflow_x": null,
            "grid_auto_flow": null,
            "grid_area": null,
            "grid_template_columns": null,
            "flex": null,
            "_model_name": "LayoutModel",
            "justify_items": null,
            "grid_row": null,
            "max_height": null,
            "align_content": null,
            "visibility": null,
            "align_self": null,
            "height": null,
            "min_height": null,
            "padding": null,
            "grid_auto_rows": null,
            "grid_gap": null,
            "max_width": null,
            "order": null,
            "_view_module_version": "1.2.0",
            "grid_template_areas": null,
            "object_position": null,
            "object_fit": null,
            "grid_auto_columns": null,
            "margin": null,
            "display": null,
            "left": null
          }
        },
        "8622a4fd14fb4bf395bc7bb8bfdf7091": {
          "model_module": "@jupyter-widgets/controls",
          "model_name": "HTMLModel",
          "model_module_version": "1.5.0",
          "state": {
            "_view_name": "HTMLView",
            "style": "IPY_MODEL_9a9b3b5bb9764b17ab8445962d63bc76",
            "_dom_classes": [],
            "description": "",
            "_model_name": "HTMLModel",
            "placeholder": "​",
            "_view_module": "@jupyter-widgets/controls",
            "_model_module_version": "1.5.0",
            "value": "100%",
            "_view_count": null,
            "_view_module_version": "1.5.0",
            "description_tooltip": null,
            "_model_module": "@jupyter-widgets/controls",
            "layout": "IPY_MODEL_515b44cc0d1a4695b80f67f9457cae78"
          }
        },
        "4630049955ae4786bf551bac7cd7f35b": {
          "model_module": "@jupyter-widgets/controls",
          "model_name": "FloatProgressModel",
          "model_module_version": "1.5.0",
          "state": {
            "_view_name": "ProgressView",
            "style": "IPY_MODEL_7d2a685321c048a3954a129c49953b71",
            "_dom_classes": [],
            "description": "",
            "_model_name": "FloatProgressModel",
            "bar_style": "success",
            "max": 313,
            "_view_module": "@jupyter-widgets/controls",
            "_model_module_version": "1.5.0",
            "value": 313,
            "_view_count": null,
            "_view_module_version": "1.5.0",
            "orientation": "horizontal",
            "min": 0,
            "description_tooltip": null,
            "_model_module": "@jupyter-widgets/controls",
            "layout": "IPY_MODEL_e410fd12e6e6437cba63a0d89cda12bf"
          }
        },
        "0994a43984954785921d70ffa11def09": {
          "model_module": "@jupyter-widgets/controls",
          "model_name": "HTMLModel",
          "model_module_version": "1.5.0",
          "state": {
            "_view_name": "HTMLView",
            "style": "IPY_MODEL_a8cf0357b6f640c39aa55ad24a7e594b",
            "_dom_classes": [],
            "description": "",
            "_model_name": "HTMLModel",
            "placeholder": "​",
            "_view_module": "@jupyter-widgets/controls",
            "_model_module_version": "1.5.0",
            "value": " 313/313 [00:04&lt;00:00, 74.43it/s]",
            "_view_count": null,
            "_view_module_version": "1.5.0",
            "description_tooltip": null,
            "_model_module": "@jupyter-widgets/controls",
            "layout": "IPY_MODEL_da2a1093b1a0459b9e4cbef2fdef1837"
          }
        },
        "9a9b3b5bb9764b17ab8445962d63bc76": {
          "model_module": "@jupyter-widgets/controls",
          "model_name": "DescriptionStyleModel",
          "model_module_version": "1.5.0",
          "state": {
            "_view_name": "StyleView",
            "_model_name": "DescriptionStyleModel",
            "description_width": "",
            "_view_module": "@jupyter-widgets/base",
            "_model_module_version": "1.5.0",
            "_view_count": null,
            "_view_module_version": "1.2.0",
            "_model_module": "@jupyter-widgets/controls"
          }
        },
        "515b44cc0d1a4695b80f67f9457cae78": {
          "model_module": "@jupyter-widgets/base",
          "model_name": "LayoutModel",
          "model_module_version": "1.2.0",
          "state": {
            "_view_name": "LayoutView",
            "grid_template_rows": null,
            "right": null,
            "justify_content": null,
            "_view_module": "@jupyter-widgets/base",
            "overflow": null,
            "_model_module_version": "1.2.0",
            "_view_count": null,
            "flex_flow": null,
            "width": null,
            "min_width": null,
            "border": null,
            "align_items": null,
            "bottom": null,
            "_model_module": "@jupyter-widgets/base",
            "top": null,
            "grid_column": null,
            "overflow_y": null,
            "overflow_x": null,
            "grid_auto_flow": null,
            "grid_area": null,
            "grid_template_columns": null,
            "flex": null,
            "_model_name": "LayoutModel",
            "justify_items": null,
            "grid_row": null,
            "max_height": null,
            "align_content": null,
            "visibility": null,
            "align_self": null,
            "height": null,
            "min_height": null,
            "padding": null,
            "grid_auto_rows": null,
            "grid_gap": null,
            "max_width": null,
            "order": null,
            "_view_module_version": "1.2.0",
            "grid_template_areas": null,
            "object_position": null,
            "object_fit": null,
            "grid_auto_columns": null,
            "margin": null,
            "display": null,
            "left": null
          }
        },
        "7d2a685321c048a3954a129c49953b71": {
          "model_module": "@jupyter-widgets/controls",
          "model_name": "ProgressStyleModel",
          "model_module_version": "1.5.0",
          "state": {
            "_view_name": "StyleView",
            "_model_name": "ProgressStyleModel",
            "description_width": "",
            "_view_module": "@jupyter-widgets/base",
            "_model_module_version": "1.5.0",
            "_view_count": null,
            "_view_module_version": "1.2.0",
            "bar_color": null,
            "_model_module": "@jupyter-widgets/controls"
          }
        },
        "e410fd12e6e6437cba63a0d89cda12bf": {
          "model_module": "@jupyter-widgets/base",
          "model_name": "LayoutModel",
          "model_module_version": "1.2.0",
          "state": {
            "_view_name": "LayoutView",
            "grid_template_rows": null,
            "right": null,
            "justify_content": null,
            "_view_module": "@jupyter-widgets/base",
            "overflow": null,
            "_model_module_version": "1.2.0",
            "_view_count": null,
            "flex_flow": null,
            "width": null,
            "min_width": null,
            "border": null,
            "align_items": null,
            "bottom": null,
            "_model_module": "@jupyter-widgets/base",
            "top": null,
            "grid_column": null,
            "overflow_y": null,
            "overflow_x": null,
            "grid_auto_flow": null,
            "grid_area": null,
            "grid_template_columns": null,
            "flex": null,
            "_model_name": "LayoutModel",
            "justify_items": null,
            "grid_row": null,
            "max_height": null,
            "align_content": null,
            "visibility": null,
            "align_self": null,
            "height": null,
            "min_height": null,
            "padding": null,
            "grid_auto_rows": null,
            "grid_gap": null,
            "max_width": null,
            "order": null,
            "_view_module_version": "1.2.0",
            "grid_template_areas": null,
            "object_position": null,
            "object_fit": null,
            "grid_auto_columns": null,
            "margin": null,
            "display": null,
            "left": null
          }
        },
        "a8cf0357b6f640c39aa55ad24a7e594b": {
          "model_module": "@jupyter-widgets/controls",
          "model_name": "DescriptionStyleModel",
          "model_module_version": "1.5.0",
          "state": {
            "_view_name": "StyleView",
            "_model_name": "DescriptionStyleModel",
            "description_width": "",
            "_view_module": "@jupyter-widgets/base",
            "_model_module_version": "1.5.0",
            "_view_count": null,
            "_view_module_version": "1.2.0",
            "_model_module": "@jupyter-widgets/controls"
          }
        },
        "da2a1093b1a0459b9e4cbef2fdef1837": {
          "model_module": "@jupyter-widgets/base",
          "model_name": "LayoutModel",
          "model_module_version": "1.2.0",
          "state": {
            "_view_name": "LayoutView",
            "grid_template_rows": null,
            "right": null,
            "justify_content": null,
            "_view_module": "@jupyter-widgets/base",
            "overflow": null,
            "_model_module_version": "1.2.0",
            "_view_count": null,
            "flex_flow": null,
            "width": null,
            "min_width": null,
            "border": null,
            "align_items": null,
            "bottom": null,
            "_model_module": "@jupyter-widgets/base",
            "top": null,
            "grid_column": null,
            "overflow_y": null,
            "overflow_x": null,
            "grid_auto_flow": null,
            "grid_area": null,
            "grid_template_columns": null,
            "flex": null,
            "_model_name": "LayoutModel",
            "justify_items": null,
            "grid_row": null,
            "max_height": null,
            "align_content": null,
            "visibility": null,
            "align_self": null,
            "height": null,
            "min_height": null,
            "padding": null,
            "grid_auto_rows": null,
            "grid_gap": null,
            "max_width": null,
            "order": null,
            "_view_module_version": "1.2.0",
            "grid_template_areas": null,
            "object_position": null,
            "object_fit": null,
            "grid_auto_columns": null,
            "margin": null,
            "display": null,
            "left": null
          }
        }
      }
    }
  },
  "cells": [
    {
      "cell_type": "markdown",
      "metadata": {
        "id": "view-in-github",
        "colab_type": "text"
      },
      "source": [
        "<a href=\"https://colab.research.google.com/github/naoya1110/nitkc-ncku-ai-robotics/blob/main/Week06_Practical_Tips_for_Training_CNNs.ipynb\" target=\"_parent\"><img src=\"https://colab.research.google.com/assets/colab-badge.svg\" alt=\"Open In Colab\"/></a>"
      ]
    },
    {
      "cell_type": "markdown",
      "metadata": {
        "id": "vPlzxYAbJQmc"
      },
      "source": [
        "# Introduction"
      ]
    },
    {
      "cell_type": "markdown",
      "metadata": {
        "id": "NfXlnZElde0Z"
      },
      "source": [
        "In this week we are going to learn about practical techniques for training convolutional neural network (CNN) models including\n",
        "\n",
        "\n",
        "*   Data Standardization\n",
        "*   Data Augmentation\n",
        "*   Dropout Layer\n",
        "\n",
        "\n",
        "\n",
        " As we have seen last week deep neural network models including CNNs can easily fall into the overfit state. So we always have to be careful about the models not to be overfitted during the training. However thanks to the intensive researches in this field, a lot of practical techniques that are effective for avoiding overfitting are already developed. In this notebook we are going to implement some of those techniques and see how they work."
      ]
    },
    {
      "cell_type": "markdown",
      "metadata": {
        "id": "VYw3uTxyQMFq"
      },
      "source": [
        "**GPU**\n",
        "\n",
        "We will need a GPU to train CNN models, so please make sure your runtime type is GPU (cuda)."
      ]
    },
    {
      "cell_type": "code",
      "metadata": {
        "colab": {
          "base_uri": "https://localhost:8080/"
        },
        "id": "LlOLjP7qjakr",
        "outputId": "cb9cd60b-b7d8-48f0-972d-f0afca87424a"
      },
      "source": [
        "import torch\n",
        "\n",
        "if torch.cuda.is_available():\n",
        "    device = \"cuda\"\n",
        "else:\n",
        "    device = \"cpu\"\n",
        "\n",
        "print(device)"
      ],
      "execution_count": 1,
      "outputs": [
        {
          "output_type": "stream",
          "name": "stdout",
          "text": [
            "cuda\n"
          ]
        }
      ]
    },
    {
      "cell_type": "markdown",
      "metadata": {
        "id": "4r6qw_6s_hyU"
      },
      "source": [
        "**General Packages**\n",
        "\n",
        "Then let's import some general Python packages."
      ]
    },
    {
      "cell_type": "code",
      "metadata": {
        "id": "uBE01BMv7DVI"
      },
      "source": [
        "import numpy as np\n",
        "import pandas as pd\n",
        "import matplotlib.pyplot as plt\n",
        "import seaborn as sns\n",
        "from tqdm.notebook import tqdm"
      ],
      "execution_count": 2,
      "outputs": []
    },
    {
      "cell_type": "markdown",
      "metadata": {
        "id": "ZX-bp6XjJSdL"
      },
      "source": [
        "# Data Preparation"
      ]
    },
    {
      "cell_type": "markdown",
      "metadata": {
        "id": "YKruW7wm7Dtg"
      },
      "source": [
        "**CIFAR10**\n",
        "\n",
        "We will use CIFAR10 dataset again."
      ]
    },
    {
      "cell_type": "code",
      "metadata": {
        "colab": {
          "base_uri": "https://localhost:8080/",
          "height": 101,
          "referenced_widgets": [
            "37851efa6f704678b12dbc66e5c2f65d",
            "94c50d4f0ed84ec59a5c41b7dae589d8",
            "53e0e6a43deb43e2ae83020d36d48b25",
            "e63910826cf9414ab227a49370650f47",
            "c2585a622bb74e1abcbe1f96cf5f7875",
            "a3eef58dad9d4b158c3eb7800fffc4e9",
            "21d9764ce09e4d15a757f9dff7c479fe",
            "b0b6cde22ed3443fb0e544a77ad74cda",
            "f492ae5fc8f94bb097768f0b105d1464",
            "2e05aa4252d9404cbe8600a2f76c4631",
            "79aca80061b6401c8341394ab5c37bc9"
          ]
        },
        "id": "RP5pCP3GZX3k",
        "outputId": "4d28565c-6578-450d-9cb6-935c4d0bd8fa"
      },
      "source": [
        "from torchvision.datasets import CIFAR10\n",
        "\n",
        "xy_train = CIFAR10(root=\"cifar10\", train=True, download=True)\n",
        "xy_test = CIFAR10(root=\"cifar10\", train=False, download=True)\n",
        "\n",
        "classnames = {0:\"plane\", \n",
        "              1:\"car\", \n",
        "              2:\"bird\", \n",
        "              3:\"cat\", \n",
        "              4:\"deer\",\n",
        "              5:\"dog\", \n",
        "              6:\"frog\", \n",
        "              7:\"horse\",\n",
        "              8:\"ship\",\n",
        "              9:\"truck\"}"
      ],
      "execution_count": 3,
      "outputs": [
        {
          "output_type": "stream",
          "name": "stdout",
          "text": [
            "Downloading https://www.cs.toronto.edu/~kriz/cifar-10-python.tar.gz to cifar10/cifar-10-python.tar.gz\n"
          ]
        },
        {
          "output_type": "display_data",
          "data": {
            "application/vnd.jupyter.widget-view+json": {
              "model_id": "37851efa6f704678b12dbc66e5c2f65d",
              "version_minor": 0,
              "version_major": 2
            },
            "text/plain": [
              "  0%|          | 0/170498071 [00:00<?, ?it/s]"
            ]
          },
          "metadata": {}
        },
        {
          "output_type": "stream",
          "name": "stdout",
          "text": [
            "Extracting cifar10/cifar-10-python.tar.gz to cifar10\n",
            "Files already downloaded and verified\n"
          ]
        }
      ]
    },
    {
      "cell_type": "markdown",
      "metadata": {
        "id": "gLiwE5Ea_Nil"
      },
      "source": [
        "**Rescaling Data (Standardization, z-score normalization)**\n",
        "\n",
        "Data rescaling is often performed as a preprocessing step before training. One of the data rescaling methods is standardization (aka. z-score normalization). The standardized data $z_i$ is converted from the raw data $x_i$ by the equation below, where $\\mu$ and $\\sigma$ are mean and standard deviation of all raw data, respectively.\n",
        "\n",
        "$\\displaystyle z_i=\\dfrac{x_i-\\mu}{\\sigma}$ \n",
        "\n",
        "The mean and the standard deviation of the standardized data will be 0 and 1 respectively."
      ]
    },
    {
      "cell_type": "markdown",
      "metadata": {
        "id": "lJavoZVdedzb"
      },
      "source": [
        "![image.png](data:image/png;base64,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)"
      ]
    },
    {
      "cell_type": "markdown",
      "metadata": {
        "id": "likI2ZCCPPc5"
      },
      "source": [
        "In order to standardize CIFAR10 image data, we need to know means $\\mu$ and standard deviations $\\sigma$ of red, green, blue pixels in training data. To do this, first we collect all red, green and blue pixels data in numpy arrays."
      ]
    },
    {
      "cell_type": "code",
      "metadata": {
        "id": "wYavpB4WILQS",
        "colab": {
          "base_uri": "https://localhost:8080/",
          "height": 101,
          "referenced_widgets": [
            "6be860bb6b6f43918bce3804b33d90b8",
            "3f9afd2f539a4564bf7f13b98b955c47",
            "26bbc608247148318e666ac7245dd01f",
            "22422e38245648a0bc5616c22f7adf99",
            "ab12ae2a8c154c52928f08050611a423",
            "82a85111869a48eb94e3e5257f62189d",
            "319b4a4d686c4bb1b16d59c265cda8fc",
            "f9bc89c368d040518cbb07281f8b2864",
            "8768897999304cac98dc96487b86cfa5",
            "eca73bf370b94cca9baf5861d22cd874",
            "d094c8c7a4434db1a9a180352a6f33e4"
          ]
        },
        "outputId": "43608040-086b-4dde-8793-921aea7b4cff"
      },
      "source": [
        "red_pixels = []\n",
        "green_pixels = []\n",
        "blue_pixels = []\n",
        "\n",
        "for image, label in tqdm(xy_train):\n",
        "    image = np.array(image)/255.     # normalize data from 0-255 to 0.0-1.0\n",
        "    image = image.astype(\"float32\")\n",
        "\n",
        "    red_pixels.append(image[:,:,0])       # red pixels\n",
        "    green_pixels.append(image[:,:,1])   # green pixels\n",
        "    blue_pixels.append(image[:,:,2])     # blue pixels\n",
        "\n",
        "# convert data to 1D array\n",
        "red_pixels = np.array(red_pixels).flatten()\n",
        "green_pixels = np.array(green_pixels).flatten()\n",
        "blue_pixels = np.array(blue_pixels).flatten()\n",
        "\n",
        "print(\"red pixels\", red_pixels.shape)\n",
        "print(\"green pixels\", green_pixels.shape)\n",
        "print(\"blue pixels\", blue_pixels.shape)"
      ],
      "execution_count": 4,
      "outputs": [
        {
          "output_type": "display_data",
          "data": {
            "application/vnd.jupyter.widget-view+json": {
              "model_id": "6be860bb6b6f43918bce3804b33d90b8",
              "version_minor": 0,
              "version_major": 2
            },
            "text/plain": [
              "  0%|          | 0/50000 [00:00<?, ?it/s]"
            ]
          },
          "metadata": {}
        },
        {
          "output_type": "stream",
          "name": "stdout",
          "text": [
            "red pixels (51200000,)\n",
            "green pixels (51200000,)\n",
            "blue pixels (51200000,)\n"
          ]
        }
      ]
    },
    {
      "cell_type": "markdown",
      "metadata": {
        "id": "G_lwc2CoRmdZ"
      },
      "source": [
        "Let's take a look at their distributions."
      ]
    },
    {
      "cell_type": "code",
      "metadata": {
        "colab": {
          "base_uri": "https://localhost:8080/",
          "height": 453
        },
        "id": "09319F9NLVUY",
        "outputId": "e72230aa-378b-43ba-c3a5-92e5223eb082"
      },
      "source": [
        "plt.figure(figsize=(5, 5))\n",
        "\n",
        "bins = np.arange(0, 1.01, 0.05)\n",
        "\n",
        "plt.subplot(3, 1, 1)\n",
        "plt.hist(red_pixels, bins=bins, color=\"r\")\n",
        "\n",
        "plt.subplot(3, 1, 2)\n",
        "plt.hist(green_pixels, bins=bins, color=\"g\")\n",
        "\n",
        "plt.subplot(3, 1, 3)\n",
        "plt.hist(blue_pixels, bins=bins, color=\"b\")"
      ],
      "execution_count": 5,
      "outputs": [
        {
          "output_type": "execute_result",
          "data": {
            "text/plain": [
              "(array([1551988., 2281534., 2971214., 3189966., 3747945., 3881195.,\n",
              "        3823561., 3368245., 3428782., 3141754., 2837695., 2386688.,\n",
              "        2341215., 2117185., 1936989., 1645889., 1617958., 1472561.,\n",
              "        1328403., 2129233.]),\n",
              " array([0.  , 0.05, 0.1 , 0.15, 0.2 , 0.25, 0.3 , 0.35, 0.4 , 0.45, 0.5 ,\n",
              "        0.55, 0.6 , 0.65, 0.7 , 0.75, 0.8 , 0.85, 0.9 , 0.95, 1.  ]),\n",
              " <a list of 20 Patch objects>)"
            ]
          },
          "metadata": {},
          "execution_count": 5
        },
        {
          "output_type": "display_data",
          "data": {
            "image/png": "[encoded data removed]",
            "text/plain": [
              "<Figure size 360x360 with 3 Axes>"
            ]
          },
          "metadata": {
            "needs_background": "light"
          }
        }
      ]
    },
    {
      "cell_type": "markdown",
      "metadata": {
        "id": "mAQqNi4JRuX5"
      },
      "source": [
        "Now we can determine means of red, green and blue pixels."
      ]
    },
    {
      "cell_type": "code",
      "metadata": {
        "colab": {
          "base_uri": "https://localhost:8080/"
        },
        "id": "oVzdkiXWJ2xK",
        "outputId": "b8300bcf-5746-4968-8594-70c2af70d652"
      },
      "source": [
        "means = (red_pixels.mean(), green_pixels.mean(), blue_pixels.mean())\n",
        "means"
      ],
      "execution_count": 6,
      "outputs": [
        {
          "output_type": "execute_result",
          "data": {
            "text/plain": [
              "(0.49139968, 0.48215827, 0.44653124)"
            ]
          },
          "metadata": {},
          "execution_count": 6
        }
      ]
    },
    {
      "cell_type": "markdown",
      "metadata": {
        "id": "hi-zNuRyR21A"
      },
      "source": [
        "Also standard deviations of red, green and blue pixels."
      ]
    },
    {
      "cell_type": "code",
      "metadata": {
        "colab": {
          "base_uri": "https://localhost:8080/"
        },
        "id": "SVsVfhkCK3Ov",
        "outputId": "8b6adcb1-0f6f-491f-84b4-ff7a05c0239b"
      },
      "source": [
        "stds = (red_pixels.std(), green_pixels.std(), blue_pixels.std())\n",
        "stds"
      ],
      "execution_count": 7,
      "outputs": [
        {
          "output_type": "execute_result",
          "data": {
            "text/plain": [
              "(0.24703233, 0.24348505, 0.26158768)"
            ]
          },
          "metadata": {},
          "execution_count": 7
        }
      ]
    },
    {
      "cell_type": "markdown",
      "metadata": {
        "id": "jQ6C0P2KDHhE"
      },
      "source": [
        "Then we can standardize the raw data by using `means` and `stds` data, and see how the standardized data distributes."
      ]
    },
    {
      "cell_type": "code",
      "metadata": {
        "colab": {
          "base_uri": "https://localhost:8080/",
          "height": 574
        },
        "id": "eXO1x5twP2UF",
        "outputId": "1174df58-3607-4373-be05-b3b0f1f9fe7e"
      },
      "source": [
        "# standardization\n",
        "red_pixels_z = (red_pixels-means[0])/stds[0]\n",
        "green_pixels_z = (green_pixels-means[1])/stds[1]\n",
        "blue_pixels_z = (blue_pixels-means[2])/stds[2]\n",
        "\n",
        "# visualize distributions\n",
        "plt.figure(figsize=(5, 5))\n",
        "\n",
        "bins=np.arange(-3,3.1,0.2)\n",
        "\n",
        "plt.subplot(3, 1, 1)\n",
        "plt.hist(red_pixels_z, bins=bins, color=\"r\")\n",
        "\n",
        "plt.subplot(3, 1, 2)\n",
        "plt.hist(green_pixels_z, bins=bins, color=\"g\")\n",
        "\n",
        "plt.subplot(3, 1, 3)\n",
        "plt.hist(blue_pixels_z, bins=bins, color=\"b\")"
      ],
      "execution_count": 8,
      "outputs": [
        {
          "output_type": "execute_result",
          "data": {
            "text/plain": [
              "(array([      0.,       0.,       0.,       0.,       0.,       0.,\n",
              "         898852., 1966181., 2732543., 3569531., 3693052., 3868509.,\n",
              "        4139301., 3673354., 3447925., 3396936., 2837695., 2575272.,\n",
              "        2490425., 2086986., 1916065., 1876472., 1569945., 1423793.,\n",
              "        1400024., 1637139.,       0.,       0.,       0.,       0.]),\n",
              " array([-3.00000000e+00, -2.80000000e+00, -2.60000000e+00, -2.40000000e+00,\n",
              "        -2.20000000e+00, -2.00000000e+00, -1.80000000e+00, -1.60000000e+00,\n",
              "        -1.40000000e+00, -1.20000000e+00, -1.00000000e+00, -8.00000000e-01,\n",
              "        -6.00000000e-01, -4.00000000e-01, -2.00000000e-01,  2.66453526e-15,\n",
              "         2.00000000e-01,  4.00000000e-01,  6.00000000e-01,  8.00000000e-01,\n",
              "         1.00000000e+00,  1.20000000e+00,  1.40000000e+00,  1.60000000e+00,\n",
              "         1.80000000e+00,  2.00000000e+00,  2.20000000e+00,  2.40000000e+00,\n",
              "         2.60000000e+00,  2.80000000e+00,  3.00000000e+00]),\n",
              " <a list of 30 Patch objects>)"
            ]
          },
          "metadata": {},
          "execution_count": 8
        },
        {
          "output_type": "display_data",
          "data": {
            "image/png": "[encoded data removed]",
            "text/plain": [
              "<Figure size 360x360 with 3 Axes>"
            ]
          },
          "metadata": {
            "needs_background": "light"
          }
        }
      ]
    },
    {
      "cell_type": "markdown",
      "metadata": {
        "id": "noFAUvTfXmFe"
      },
      "source": [
        "We will use the `means` and `stds` data later when we reload the CIFAR10 data as `torch.tensor` format."
      ]
    },
    {
      "cell_type": "markdown",
      "metadata": {
        "id": "hH_7MJz0cAlr"
      },
      "source": [
        "**Data Augmentation**\n",
        "\n",
        "Another technique that is often used as a preprocessing step is data augmentation. Data augmentation is very powerful for avoiding the model being overfitted especially when number of training data is limited. In each training epoch, slightly modified copies of images are generated from original images and those copies will be used for training.This is effective to prevent the model from just remembering training data because the model will never see exactly same data. The data augmention can be implemented very easily by using `torchvision.transforms` module.\n",
        "\n",
        "Here we take one image from training data and let's see how this image can be augmented."
      ]
    },
    {
      "cell_type": "code",
      "metadata": {
        "colab": {
          "base_uri": "https://localhost:8080/",
          "height": 281
        },
        "id": "XVWJPehLZ1ox",
        "outputId": "4827bd7d-e4fa-44ac-aa24-b5c2d8e9cf40"
      },
      "source": [
        "image, label = xy_train[1]\n",
        "plt.imshow(image)\n",
        "plt.title(classnames[label])\n",
        "\n",
        "x = image"
      ],
      "execution_count": 9,
      "outputs": [
        {
          "output_type": "display_data",
          "data": {
            "image/png": "[encoded data removed]",
            "text/plain": [
              "<Figure size 432x288 with 1 Axes>"
            ]
          },
          "metadata": {
            "needs_background": "light"
          }
        }
      ]
    },
    {
      "cell_type": "markdown",
      "metadata": {
        "id": "2G6BFbOKib7k"
      },
      "source": [
        "Random Horizontal Flip\n",
        "\n"
      ]
    },
    {
      "cell_type": "code",
      "metadata": {
        "colab": {
          "base_uri": "https://localhost:8080/",
          "height": 166
        },
        "id": "lU84qQFZWLrb",
        "outputId": "e9f06e03-ad70-4d16-d3b1-dfe014524d3c"
      },
      "source": [
        "from torchvision import transforms\n",
        "transform = transforms.RandomHorizontalFlip(p=0.5)\n",
        "\n",
        "def show_transformed_images(transform, x):\n",
        "    plt.figure(figsize=(12, 3))\n",
        "    for i in range(5):\n",
        "        output_image = transform(x)\n",
        "        plt.subplot(1, 5, i+1)\n",
        "        plt.imshow(output_image)\n",
        "\n",
        "show_transformed_images(transform, x)"
      ],
      "execution_count": 10,
      "outputs": [
        {
          "output_type": "display_data",
          "data": {
            "image/png": "[encoded data removed]",
            "text/plain": [
              "<Figure size 864x216 with 5 Axes>"
            ]
          },
          "metadata": {
            "needs_background": "light"
          }
        }
      ]
    },
    {
      "cell_type": "markdown",
      "metadata": {
        "id": "EpdUF-oliirr"
      },
      "source": [
        "Random Vertical Flip"
      ]
    },
    {
      "cell_type": "code",
      "metadata": {
        "colab": {
          "base_uri": "https://localhost:8080/",
          "height": 166
        },
        "id": "tT6WZLh1XYvX",
        "outputId": "d843e27c-67a3-4f12-8114-5254e65a08de"
      },
      "source": [
        "transform = transforms.RandomVerticalFlip(p=0.5)\n",
        "\n",
        "show_transformed_images(transform, x)"
      ],
      "execution_count": 11,
      "outputs": [
        {
          "output_type": "display_data",
          "data": {
            "image/png": "[encoded data removed]",
            "text/plain": [
              "<Figure size 864x216 with 5 Axes>"
            ]
          },
          "metadata": {
            "needs_background": "light"
          }
        }
      ]
    },
    {
      "cell_type": "markdown",
      "metadata": {
        "id": "NXwOrPzhimkn"
      },
      "source": [
        "Random Roation"
      ]
    },
    {
      "cell_type": "code",
      "metadata": {
        "colab": {
          "base_uri": "https://localhost:8080/",
          "height": 166
        },
        "id": "qLfRInF6Vwwt",
        "outputId": "0caabf63-9654-49a4-d7e0-e4cbe32ce2b5"
      },
      "source": [
        "transform = transforms.RandomRotation(degrees=30)\n",
        "\n",
        "show_transformed_images(transform, x)"
      ],
      "execution_count": 12,
      "outputs": [
        {
          "output_type": "display_data",
          "data": {
            "image/png": "[encoded data removed]",
            "text/plain": [
              "<Figure size 864x216 with 5 Axes>"
            ]
          },
          "metadata": {
            "needs_background": "light"
          }
        }
      ]
    },
    {
      "cell_type": "markdown",
      "metadata": {
        "id": "eN9BGOsAipyG"
      },
      "source": [
        "Random Perspective"
      ]
    },
    {
      "cell_type": "code",
      "metadata": {
        "colab": {
          "base_uri": "https://localhost:8080/",
          "height": 342
        },
        "id": "Fjsmc1SgYqDz",
        "outputId": "b14bd142-ff68-4d99-aa3b-7f1bef401ffc"
      },
      "source": [
        "transform = transforms.RandomPerspective(distortion_scale=0.5, p=0.5)\n",
        "\n",
        "show_transformed_images(transform, x)"
      ],
      "execution_count": 13,
      "outputs": [
        {
          "output_type": "stream",
          "name": "stderr",
          "text": [
            "/usr/local/lib/python3.7/dist-packages/torchvision/transforms/functional.py:594: UserWarning: torch.lstsq is deprecated in favor of torch.linalg.lstsq and will be removed in a future PyTorch release.\n",
            "torch.linalg.lstsq has reversed arguments and does not return the QR decomposition in the returned tuple (although it returns other information about the problem).\n",
            "To get the qr decomposition consider using torch.linalg.qr.\n",
            "The returned solution in torch.lstsq stored the residuals of the solution in the last m - n columns of the returned value whenever m > n. In torch.linalg.lstsq, the residuals in the field 'residuals' of the returned named tuple.\n",
            "The unpacking of the solution, as in\n",
            "X, _ = torch.lstsq(B, A).solution[:A.size(1)]\n",
            "should be replaced with\n",
            "X = torch.linalg.lstsq(A, B).solution (Triggered internally at  /pytorch/aten/src/ATen/LegacyTHFunctionsCPU.cpp:389.)\n",
            "  res = torch.lstsq(b_matrix, a_matrix)[0]\n"
          ]
        },
        {
          "output_type": "display_data",
          "data": {
            "image/png": "[encoded data removed]",
            "text/plain": [
              "<Figure size 864x216 with 5 Axes>"
            ]
          },
          "metadata": {
            "needs_background": "light"
          }
        }
      ]
    },
    {
      "cell_type": "markdown",
      "metadata": {
        "id": "R__uA3j2tWch"
      },
      "source": [
        "We can combine several different transoforms by using `transform.Compose()`."
      ]
    },
    {
      "cell_type": "code",
      "metadata": {
        "colab": {
          "base_uri": "https://localhost:8080/",
          "height": 166
        },
        "id": "e3bgWFH5tE-h",
        "outputId": "b9a3b6ba-42fa-4dbb-94e0-e01f5c335441"
      },
      "source": [
        "transform = transforms.Compose([\n",
        "                                transforms.RandomHorizontalFlip(p=0.5),\n",
        "                                transforms.RandomRotation(degrees=30),\n",
        "                                transforms.RandomPerspective(distortion_scale=0.5, p=0.5)\n",
        "])\n",
        "\n",
        "show_transformed_images(transform, x)"
      ],
      "execution_count": 14,
      "outputs": [
        {
          "output_type": "display_data",
          "data": {
            "image/png": "[encoded data removed]",
            "text/plain": [
              "<Figure size 864x216 with 5 Axes>"
            ]
          },
          "metadata": {
            "needs_background": "light"
          }
        }
      ]
    },
    {
      "cell_type": "markdown",
      "metadata": {
        "id": "XAKdrX6BtnzL"
      },
      "source": [
        "There are lots of other transforms' modules that can be used for data augmentation. Please refer the information below.\n",
        "\n",
        "`torchvision.transforms` https://pytorch.org/vision/stable/transforms.html"
      ]
    },
    {
      "cell_type": "markdown",
      "metadata": {
        "id": "-HjPSgjrkMG3"
      },
      "source": [
        "**Reload Data**\n",
        "\n",
        "Now we reload CIFAR10 dataset in `torch.tensor` format. At the same time we enable the data standardization and the data augmentation. The standardization should be enabled for testing data too, but data augmentation should not."
      ]
    },
    {
      "cell_type": "code",
      "metadata": {
        "id": "rbkcR_cbdqwz"
      },
      "source": [
        "from torchvision import transforms\n",
        "\n",
        "xy_train = CIFAR10(root=\"cifar10\", train=True, download=False, \n",
        "                   transform=transforms.Compose([\n",
        "                                                  transforms.ToTensor(),\n",
        "                                                  transforms.Normalize(means, stds),        # standardization\n",
        "                                                  transforms.RandomRotation(degrees=10),    # data augmentation\n",
        "                                                  transforms.RandomHorizontalFlip(p=0.5),\n",
        "                                                  transforms.RandomPerspective(distortion_scale=0.5, p=0.5)\n",
        "                                                  ])\n",
        "                   )\n",
        "                   \n",
        "xy_test = CIFAR10(root=\"cifar10\", train=False, download=False,\n",
        "                   transform=transforms.Compose([\n",
        "                                                  transforms.ToTensor(),\n",
        "                                                  transforms.Normalize(means, stds)\n",
        "                                                  ])\n",
        "                   )"
      ],
      "execution_count": 15,
      "outputs": []
    },
    {
      "cell_type": "markdown",
      "metadata": {
        "id": "irrugvHJ4yRb"
      },
      "source": [
        "**Data Loader**\n",
        "\n",
        "Then we create `DataLoader` objects for feeding data to the model. This is exactly same as we did with Iris dataset."
      ]
    },
    {
      "cell_type": "code",
      "metadata": {
        "id": "11_M7Y70CrX2"
      },
      "source": [
        "from torch.utils.data import DataLoader\n",
        "\n",
        "train_loader = DataLoader(xy_train, batch_size=32, shuffle=True)\n",
        "test_loader = DataLoader(xy_test, batch_size=32, shuffle=False)"
      ],
      "execution_count": 16,
      "outputs": []
    },
    {
      "cell_type": "markdown",
      "metadata": {
        "id": "Rfk-lz-g60Tc"
      },
      "source": [
        "That's it for data preparation!"
      ]
    },
    {
      "cell_type": "markdown",
      "metadata": {
        "id": "QhtajLTTNmSx"
      },
      "source": [
        "# Model Building"
      ]
    },
    {
      "cell_type": "markdown",
      "metadata": {
        "id": "xrHtrmLj65gs"
      },
      "source": [
        "**Model Architecture**\n",
        "\n",
        "Next step is to build a convolutional neural network (CNN) and load it to GPU."
      ]
    },
    {
      "cell_type": "code",
      "metadata": {
        "colab": {
          "base_uri": "https://localhost:8080/"
        },
        "id": "T6bJXIb_f0qV",
        "outputId": "ee6c3d5e-7d48-4a7f-84e3-77310d05ab91"
      },
      "source": [
        "import torch.nn as nn\n",
        "import torch.nn.functional as F\n",
        "\n",
        "class Model(nn.Module):\n",
        "\n",
        "    def __init__(self):\n",
        "        super(Model, self).__init__()\n",
        "        self.features = nn.Sequential(\n",
        "            nn.Conv2d(in_channels=3, out_channels=64, kernel_size=3, padding=1),\n",
        "            nn.ReLU(),\n",
        "            nn.MaxPool2d(kernel_size=2),\n",
        "            nn.Conv2d(in_channels=64, out_channels=128, kernel_size=3, padding=1),\n",
        "            nn.ReLU(),\n",
        "            nn.MaxPool2d(kernel_size=2),\n",
        "        )\n",
        "\n",
        "        self.classifier = nn.Sequential(\n",
        "            nn.Linear(128*8*8, 256),\n",
        "            nn.ReLU(),\n",
        "            nn.Dropout(p=0.5),    # add a dropout layer\n",
        "            nn.Linear(256, 10)\n",
        "        )\n",
        "\n",
        "    def forward(self, x):\n",
        "        x = self.features(x)\n",
        "        x = torch.flatten(x, 1)\n",
        "        x = self.classifier(x)  \n",
        "        return x\n",
        "    \n",
        "model = Model().to(device)\n",
        "print(model)"
      ],
      "execution_count": 17,
      "outputs": [
        {
          "output_type": "stream",
          "name": "stdout",
          "text": [
            "Model(\n",
            "  (features): Sequential(\n",
            "    (0): Conv2d(3, 64, kernel_size=(3, 3), stride=(1, 1), padding=(1, 1))\n",
            "    (1): ReLU()\n",
            "    (2): MaxPool2d(kernel_size=2, stride=2, padding=0, dilation=1, ceil_mode=False)\n",
            "    (3): Conv2d(64, 128, kernel_size=(3, 3), stride=(1, 1), padding=(1, 1))\n",
            "    (4): ReLU()\n",
            "    (5): MaxPool2d(kernel_size=2, stride=2, padding=0, dilation=1, ceil_mode=False)\n",
            "  )\n",
            "  (classifier): Sequential(\n",
            "    (0): Linear(in_features=8192, out_features=256, bias=True)\n",
            "    (1): ReLU()\n",
            "    (2): Dropout(p=0.5, inplace=False)\n",
            "    (3): Linear(in_features=256, out_features=10, bias=True)\n",
            "  )\n",
            ")\n"
          ]
        }
      ]
    },
    {
      "cell_type": "markdown",
      "metadata": {
        "id": "LBth8hitQSzd"
      },
      "source": [
        "**Dropout Layer**\n",
        "\n",
        "The model we defined here is identical to one we used last week, except for the dropout layer in the classifier. The dropout layer zeros some of input nodes randomly with the probability of `p` during training. Since less information will be propageted through the dropout layer, the model will be trained under more difficult condition. This will make the model more rubust."
      ]
    },
    {
      "cell_type": "markdown",
      "metadata": {
        "id": "AOesnRNXDbCw"
      },
      "source": [
        "![image.png](data:image/png;base64,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)"
      ]
    },
    {
      "cell_type": "markdown",
      "metadata": {
        "id": "Zx70tleP-boX"
      },
      "source": [
        "The dropout layer can be implemented with `nn.Dropout()`. The parameter `p` indicates the probabitlty of nodes to be 0 with a Bernoulli distribution. Also non-zero nodes will be scaled by a factor of 1/(1-p).\n",
        "\n",
        "`nn.Dropout()` https://pytorch.org/docs/stable/generated/torch.nn.Dropout.html"
      ]
    },
    {
      "cell_type": "code",
      "metadata": {
        "colab": {
          "base_uri": "https://localhost:8080/"
        },
        "id": "UCCELpQe90C3",
        "outputId": "dfc6dd58-aed7-409a-88b6-b6f3998ca999"
      },
      "source": [
        "x = torch.ones(10)\n",
        "y = nn.Dropout(p=0.3)(x)\n",
        "print(y)"
      ],
      "execution_count": 18,
      "outputs": [
        {
          "output_type": "stream",
          "name": "stdout",
          "text": [
            "tensor([1.4286, 0.0000, 1.4286, 1.4286, 1.4286, 1.4286, 1.4286, 1.4286, 0.0000,\n",
            "        1.4286])\n"
          ]
        }
      ]
    },
    {
      "cell_type": "markdown",
      "metadata": {
        "id": "TdLLqTr2pLXx"
      },
      "source": [
        "Let's see the model archtecture."
      ]
    },
    {
      "cell_type": "code",
      "metadata": {
        "colab": {
          "base_uri": "https://localhost:8080/"
        },
        "id": "9rICJ-KOhQaS",
        "outputId": "dd9431f0-99eb-4512-9f8d-82d4e176f8dd"
      },
      "source": [
        "! pip install torchinfo\n",
        "from torchinfo import summary\n",
        "\n",
        "for x_batch, _ in train_loader:\n",
        "    break\n",
        "\n",
        "input_shape = x_batch.shape\n",
        "print(input_shape)\n",
        "\n",
        "summary(model, input_shape)"
      ],
      "execution_count": 19,
      "outputs": [
        {
          "output_type": "stream",
          "name": "stdout",
          "text": [
            "Collecting torchinfo\n",
            "  Downloading torchinfo-1.5.3-py3-none-any.whl (19 kB)\n",
            "Installing collected packages: torchinfo\n",
            "Successfully installed torchinfo-1.5.3\n",
            "torch.Size([32, 3, 32, 32])\n"
          ]
        },
        {
          "output_type": "stream",
          "name": "stderr",
          "text": [
            "/usr/local/lib/python3.7/dist-packages/torch/nn/functional.py:718: UserWarning: Named tensors and all their associated APIs are an experimental feature and subject to change. Please do not use them for anything important until they are released as stable. (Triggered internally at  /pytorch/c10/core/TensorImpl.h:1156.)\n",
            "  return torch.max_pool2d(input, kernel_size, stride, padding, dilation, ceil_mode)\n"
          ]
        },
        {
          "output_type": "execute_result",
          "data": {
            "text/plain": [
              "==========================================================================================\n",
              "Layer (type:depth-idx)                   Output Shape              Param #\n",
              "==========================================================================================\n",
              "Model                                    --                        --\n",
              "├─Sequential: 1-1                        [32, 128, 8, 8]           --\n",
              "│    └─Conv2d: 2-1                       [32, 64, 32, 32]          1,792\n",
              "│    └─ReLU: 2-2                         [32, 64, 32, 32]          --\n",
              "│    └─MaxPool2d: 2-3                    [32, 64, 16, 16]          --\n",
              "│    └─Conv2d: 2-4                       [32, 128, 16, 16]         73,856\n",
              "│    └─ReLU: 2-5                         [32, 128, 16, 16]         --\n",
              "│    └─MaxPool2d: 2-6                    [32, 128, 8, 8]           --\n",
              "├─Sequential: 1-2                        [32, 10]                  --\n",
              "│    └─Linear: 2-7                       [32, 256]                 2,097,408\n",
              "│    └─ReLU: 2-8                         [32, 256]                 --\n",
              "│    └─Dropout: 2-9                      [32, 256]                 --\n",
              "│    └─Linear: 2-10                      [32, 10]                  2,570\n",
              "==========================================================================================\n",
              "Total params: 2,175,626\n",
              "Trainable params: 2,175,626\n",
              "Non-trainable params: 0\n",
              "Total mult-adds (M): 730.95\n",
              "==========================================================================================\n",
              "Input size (MB): 0.39\n",
              "Forward/backward pass size (MB): 25.23\n",
              "Params size (MB): 8.70\n",
              "Estimated Total Size (MB): 34.33\n",
              "=========================================================================================="
            ]
          },
          "metadata": {},
          "execution_count": 19
        }
      ]
    },
    {
      "cell_type": "markdown",
      "metadata": {
        "id": "aAlXGXFDRsjw"
      },
      "source": [
        "# Training"
      ]
    },
    {
      "cell_type": "markdown",
      "metadata": {
        "id": "tXO7oPT_PKN4"
      },
      "source": [
        "**Loss Function**\n",
        "\n",
        "We use the cross-entropy loss as the loss function since this is a classification task."
      ]
    },
    {
      "cell_type": "code",
      "metadata": {
        "id": "lU5T3gRuUHtQ"
      },
      "source": [
        "loss_func = nn.CrossEntropyLoss()"
      ],
      "execution_count": 20,
      "outputs": []
    },
    {
      "cell_type": "markdown",
      "metadata": {
        "id": "52Qod7jdQusX"
      },
      "source": [
        "**Optimizer**\n",
        "\n",
        "We use the Adam optimizer."
      ]
    },
    {
      "cell_type": "code",
      "metadata": {
        "id": "wZWtxHVoUL44"
      },
      "source": [
        "import torch.optim as optim\n",
        "\n",
        "optimizer = optim.Adam(model.parameters(), lr=1E-3)"
      ],
      "execution_count": 21,
      "outputs": []
    },
    {
      "cell_type": "markdown",
      "metadata": {
        "id": "MCzH5589Rn-7"
      },
      "source": [
        "**Training Loop**\n",
        "\n",
        "Now we train the model. This time we save the model after each epoch if the test accuracy is better than before. Then later we can load the best model.\n",
        "\n",
        "\n",
        "\n",
        "\n",
        "\n"
      ]
    },
    {
      "cell_type": "code",
      "metadata": {
        "colab": {
          "base_uri": "https://localhost:8080/",
          "height": 1000,
          "referenced_widgets": [
            "b33e93393f5b4621955943db60d49f5d",
            "8d701ff54a2f43c8b267ac4835c215fa",
            "4c6cce2fac8c44fabc4c2c62896801d9",
            "6a4c08affb96454caf6c99a784697532",
            "21702411f69844f9b091cdaca33280d4",
            "9e58bdf0ba2a484f8a2a439df01fe605",
            "f7ba4249f39b43639defd80d81ae3595",
            "fe34fa0cb249451b8815f0ed0a09e9ed",
            "ddaaaca8bbf6480298bf75f13fac7821",
            "f1f8a7c774ed4bd399ccc02a9c03b484",
            "c459093a4303440091c730114ab3708d",
            "8b2186b28d3b4687bb8268164c142c02",
            "3751e2fa9f644c759cc05a97593d29f4",
            "64016b28848a4e7388c5ee674dbd8033",
            "dfc2589771bc4d038c47ecd6a7c08215",
            "4605d389383b40cf8bfd88008e084c52",
            "598a2b7173e04aeca03d3ecb677fcfeb",
            "4ed74991986a4f7985dadb94197836d9",
            "e29e5edc65aa44c5a88a1a7eaf46b060",
            "8ed51fb09768450088808237c8781c6c",
            "519e5ca5b71a4e15a6b690b75dd59697",
            "042381a635a74e6cb0214dbaf0a64404",
            "6f89be8572b44eafb507d202efd7f7ab",
            "3e25aa6a5ed74fefa5df908c5c8c273a",
            "c1da8127456245fe8ecf60e9125c2f92",
            "59377159027942f797ea0b89fc3a5266",
            "50da573ef2ba47d6921d49c4d8c4e383",
            "3276d0dc2c674c4d9227987c3eb4798e",
            "2ca0fd9982294ed0934071655d217a5d",
            "141119dabd724cefb9f1b2487abd97c0",
            "c63c7a557d71440da8405a69bdbc582b",
            "4d04190bf86a45f9842cc9b53fb22c6e",
            "902fc9faf6384d4d8b64f581b7c10283",
            "459959ee210849b9ba19b97f69f823c4",
            "081571ffd87849f5aeb975c27f854ba4",
            "83821b148b7b407c97cf83e6e91d5743",
            "59e54672e39749829c185c49a5271b58",
            "5066bf22b3ab4357a1b9325db46902ad",
            "2c286a0882c14151a0de5a965336a651",
            "5fa263ec18fd49a49fd84a8bb2f11f73",
            "35e63041ac2244a8afb54b6eb0275dce",
            "baba3101b0a741aeb6c0c062706292de",
            "4fe829288ae54f6b8871b2eed191fe56",
            "1222a92538ea4be9bcc4edfc9cf50316",
            "38407ab06e2f46a3ba93e188f756629c",
            "22164eb4d7fb4b61a5ffab3021dca138",
            "ffa20eec17a246d694e6965453947b68",
            "17edd5725ef2482eafb70e22d6de5b67",
            "35e3f071d7d24a50bc6fd90e8e6b6f2d",
            "91cd6c87567a4eb986e0bf2b5a91276d",
            "1c2b861588c747e499cf5a98729c8862",
            "42603c8cca7f4509b472137602e1ae6e",
            "be599d08427d4c6c9d9beef7495e2729",
            "f7a8984b41ac49c39efe1d102d4930e8",
            "dbfa7c707f344ee1b9506e81929a4d88",
            "8ae0fb3aadb544028f6f849eb2d7e99e",
            "06596dad322a443f9af418d2dc54561a",
            "1539e5acb8314c698c59017189705b64",
            "55c3490cf6334f589ffe0f492d8397d0",
            "5f1bb815da364c4abc45bea860d29443",
            "8343b9881a664068b2a8f82e28698b86",
            "01fa1314db3943a08c95546bd5166afb",
            "b707b8d3e6964aff9083f0dcd50f08d5",
            "1f68a82022c24ea09a06ae3e3942e930",
            "4db72e8b9d7c4ad394a301e406766d40",
            "61885071b42e4347a00c03feada74d5e",
            "e4b0ec04b1264a44a3158ef958d9a214",
            "6e89fc23c14c4341a3892e090bb833e4",
            "0a430aa2bff74436bfcef290d49bbeea",
            "dc441927024b4368a8fc189e8927d110",
            "31443ba7ee354acfa9d19fa46a74d451",
            "e8c3699aa87d45dab678f71d8aa90f07",
            "9f2b9f3764484e8c8f9f97a6c79b818d",
            "686ca5d5104f47b2ab46ebfb46ce37e6",
            "f2a87d31f8784da49f52b71625fc192b",
            "00d039bf072147138b2a31e9e967d367",
            "6888630caa4049fb95c187b3d7e7fbd8",
            "e810de4a00ba4c8d911338e0aeb788a2",
            "ab06eeddec54412c85fd30f14f7315b8",
            "c0b3d829092449708b011f65b5d122df",
            "774be40cbb4940cf941461566aa7569d",
            "0414d9745d6e481f9be631046eb48dab",
            "59cb4c23b7c64c868d5aa7f335253b29",
            "a21b94146fb4486e90bcf3f6a10f1daa",
            "22eadb8939044d22a34b30e3ff86de11",
            "433714da11f1435dbedb8ea8fc3dc2fc",
            "00079806872a42dfbce37d2cc23df052",
            "91f5d4dbc4754d029e330200da6885eb",
            "b09c57ab4ac54614a8028ad90a865ad7",
            "618707388c3947e59a6c07b2b302670d",
            "bcb7875df9cd41adbda4d364dfac3908",
            "223d5d96d06b4b5ab59249bfe3cf699a",
            "c2e0cc6d2a7c469e8d300afd76d4c833",
            "3258bfdacb0349b4b2a1f847b7955c05",
            "fbc2cc34395e4c48acd60e27e132189b",
            "97cacf350a924063bee8f3fd30b1ec2c",
            "c9e0e96cdc684085ab6d6c2e1b02d6c6",
            "dfdb9b29892449a289996d11be3b929d",
            "d54dfee7e0db44688fd5d130bebc1f5a",
            "0537d140d5184632af269ee39115417c",
            "d56e055b176c44a7b6ada0cfcec8ffd3",
            "53ec8f1910204466b607c3126892f7a2",
            "17659cd412274453921176c25209e884",
            "868d4d75d56442feaa380ffb91db97fa",
            "beb30bd7c2fa4b018fbd39b3e0b80122",
            "87dbe1f368bd4974a39cf219735c5113",
            "4160a46405ed4880b0664e91bb9a4a0e",
            "3fa7f435ad394f648bfa6fc98bfb3b1d",
            "39d5b4d1f7ed4958836891f33e08273c",
            "b4945d15296f418f8ec9388ebdf16632",
            "5dadfdc278d74e12811d49f349af7b99",
            "e3866727f7d240ae869d4f4c60fe7a82",
            "a047cd01464249369931422a94687931",
            "20e8f17423ee415987a8157c32296cd1",
            "de84f0d1b65447bc9fc8122c79feeb29",
            "5f7784f5aafd49c58414e01f58c9cacd",
            "7673e7d0bc074dc5a4722faf980767ee",
            "a3dc5a8027d44b43aeeef3e382e55f44",
            "45d5cb18a9e44b8e88185467a1b8b84e",
            "490949acf0fa41e78cd7d611406cc294",
            "0b806f3d4751445e8f90401f62766b80",
            "358c746a0a7a4ff78e27e7e461051646",
            "d52d2d280dec43b2abe02d54fe492933",
            "ed45aeff4c894c1da2e8ed1142262346",
            "eba67a0ca43148eab55638067ea940b1",
            "d5709b84af82404e89ac87ca5aa6ace3",
            "fdc1ab1dd16d46a2ae176a8d6d43922f",
            "47ca97273f904da19bd20bddad67bed0",
            "4dd4eff366b7446bba313c0c89242caa",
            "a9e814feb7494be5997f8ce7a1d68001",
            "5c26f5790569439eb6fa2ebb4041f63e",
            "3a36e0e9e1a0450da8a8bebaf290a8ba",
            "f12094712f6046b4b9f45e655c47804f",
            "671f120c643f48a6809af89b87c9f09d",
            "4aab6f3258c444e784ed28f6a59508f4",
            "ea5ee2456f6f47a0872f04263148b36b",
            "902d382a9baf42e397d9de39e9283078",
            "bface4a04ba54e579db9efa7ed5b734e",
            "99f6583b59964012b46a1f3e23b0bed0",
            "4f87bceaa9d044bfb8af45f1b8285316",
            "d47db601a19c40b6aa438437b7930f2f",
            "2247cfd4af194682855f0a62370d72d6",
            "09161e76494749c4bc4b082ad38f4d23",
            "90853b7539764858be23039085a5d026",
            "d3328ea9122e4577a418b5973ce1cbc5",
            "eba0913dadda4ae2bce65b6b91326f3a",
            "155d8cb2a1f545fe846b7c056d1e2330",
            "06a85453c5ed483997cd785aab7d96d1",
            "44aa630c475942919983d70fb707ea1c",
            "f511f8af29e34dcbaa29cb1f261829db",
            "a444e77263ef42c9b0f7718ebbb81beb",
            "a9d7c3a92912488fa56a2f173633182b",
            "a5539e1316e24c249ecf3f4d308ddaa9",
            "0904176e66c846f2bac1f4721275c2f9",
            "84b382cc19824e2e895ba48e81de6217",
            "11332e76921e43d488ffb3826bc28f54",
            "28687a11046647beb8877b036e84acd5",
            "9ceb4616641a46839ac5b98b868494f6",
            "ae2730c5424640f88192258e154371e5",
            "972f1c00554543e1b1dd2b8ec736c001",
            "11f5b20a72874be58667b0137d65e1f7",
            "b40c7d5085aa48f0afbe1be4f038b276",
            "3886ad6f9ab24aafa1e53bbe262f3248",
            "20a11a1e5f364adbbc4597a2d336d46f",
            "dc58fc13e0294c6fb37f168a94b807e9",
            "cd74802841394435b81412158046ede8",
            "49ec689516e24362a253f7b030a97912",
            "3d9576b6a36e4089935096bd8f5a083a",
            "3a572b57103a4534ba1584109c8f2e78",
            "25780e37321144d9b879d2e31f935f8e",
            "463f944886504085a3d2139325ec263f",
            "05ebb2a2184b49f689ee4d889b1b53e0",
            "0e6c6ba38bbe40faa941b7d9691fff67",
            "f329c997575b48768a2251a349bed0ed",
            "444501a738374400a812a25074a05dc3",
            "ec2447d81afc473580ba7ab0ffa72bf9",
            "240fa4f579d3486f959c947d4b850c69",
            "cd7be66f3f9b4c468d742cd13a077f36",
            "5a11ad5a03be4c4289adf9d5da37fe63",
            "03f271eb7fdb4e2887bb04aab5f06651",
            "1810429f47c44da0890a69580dd76d21",
            "9bdba28467a34e1a9fd937945f840256",
            "4ef245b875ac4c02a0418de4b7d8e821",
            "72b1c8de89024ccdb5f4981e7bddf8d8",
            "dfdd100212c647e4af937eab02fa5a8c",
            "56ed5dd1b8b5468aa610ead8510f4f89",
            "dc8dd0a205fb49ec963392f2b3a065a1",
            "5af400fea59e4b459d9216e4037adf90",
            "85fae6438c8344f1b29af36649c7677f",
            "2b2a94c5fe8449a0ad29cdd2062006c9",
            "71cd9ac52299435da4ae5dee0cbd61ab",
            "7243ecf30bd944fe871cb62d285084e9",
            "003a1f8f19c14a568631ebd251f1dba1",
            "b36927634a204cc5b57596e44cf62f04",
            "c693d67fd4fb458f8e91f718666fa19f",
            "bd4d7d76c2b74175b6120ded94ab4ab7",
            "77765c2fdd8b4100b32eeba63c52db2b",
            "aaaf3e0572364b9086ce3be180fca2e5",
            "debe5ebfd5374ec0be90e2d0801b02ee",
            "e12fb4bf47f44461a50bcda6b8ffacc7",
            "8ca86c08c9cb4c65af45908c830296cf",
            "ae67306609a743ea9e3ff58b1f1c86b7",
            "33e2bd8193824e4d8121ee3554c835ee",
            "9f54bb4de90a4b89a3113866df905450",
            "cb3e8dff0348415c92aca3ccb2a95b02",
            "d2d267de1ad74f50994236b5a4a11b38",
            "976c41ae022f4e568526f68a20dd0e47",
            "89f94306b36a440a82dfc80383de7226",
            "0a29ea633632417ca686c944edf3a387",
            "bdf4ed3caf0e49e1bdb45c630f859a80",
            "30b1ed08c8d249919a44146756c1a200",
            "8622a4fd14fb4bf395bc7bb8bfdf7091",
            "4630049955ae4786bf551bac7cd7f35b",
            "0994a43984954785921d70ffa11def09",
            "9a9b3b5bb9764b17ab8445962d63bc76",
            "515b44cc0d1a4695b80f67f9457cae78",
            "7d2a685321c048a3954a129c49953b71",
            "e410fd12e6e6437cba63a0d89cda12bf",
            "a8cf0357b6f640c39aa55ad24a7e594b",
            "da2a1093b1a0459b9e4cbef2fdef1837"
          ]
        },
        "id": "B9ONh4giaSQD",
        "outputId": "5d877f8e-c871-4fd3-e717-1d6ea13b7a88"
      },
      "source": [
        "epochs = 10\n",
        "best_model_path = 'best_model.pth'\n",
        "best_accuracy = 0.0\n",
        "\n",
        "# create empty lists for saving metrics during training\n",
        "train_loss_list = []\n",
        "train_accuracy_list = []\n",
        "test_loss_list = []\n",
        "test_accuracy_list = []\n",
        "\n",
        "for epoch in range(epochs):\n",
        "\n",
        "    print(f\"Epoch {epoch+1}/{epochs}\")\n",
        "\n",
        "    # initialize metrics value\n",
        "    train_accuracy = 0\n",
        "    train_loss = 0\n",
        "    test_accuracy = 0\n",
        "    test_loss = 0\n",
        "\n",
        "    model.train()          # set model to training mode\n",
        "\n",
        "    for x_batch, y_batch in tqdm(train_loader):      # take mini batch data from train_loader\n",
        "        \n",
        "        x_batch = x_batch.to(device)     # load x_batch data on GPU\n",
        "        y_batch = y_batch.to(device)     # load y_batch data on GPU\n",
        "        \n",
        "        optimizer.zero_grad()                  # reset gradients to 0\n",
        "        p_batch = model(x_batch)                # do prediction\n",
        "        loss = loss_func(p_batch, y_batch)        # measure loss\n",
        "        loss.backward()                        # calculate gradients\n",
        "        optimizer.step()                       # update model parameters\n",
        "\n",
        "        train_loss += loss.item()                           # accumulate loss value\n",
        "        p_batch_label = torch.argmax(p_batch, dim=1)          # \n",
        "        train_accuracy += (p_batch_label == y_batch).sum()   # count up number of correct predictions\n",
        "\n",
        "    with torch.no_grad():     # disable autograd for saving memory usage\n",
        "        model.eval()          # set model to evaluation mode\n",
        "\n",
        "        for x_batch, y_batch in tqdm(test_loader):   # take mini batch data from test_loader\n",
        "\n",
        "            x_batch = x_batch.to(device)     # load x_batch data on GPU\n",
        "            y_batch = y_batch.to(device)     # load y_batch data on GPU\n",
        "\n",
        "            p_batch = model(x_batch)            # do prediction\n",
        "            loss = loss_func(p_batch, y_batch)    # measure loss\n",
        "\n",
        "            test_loss += loss.item()                          # accumulate loss value\n",
        "            p_batch_label = torch.argmax(p_batch, dim=1)        # convert p_batch vector to target class index\n",
        "            test_accuracy += (p_batch_label == y_batch).sum()  # count up number of correct predictions\n",
        "\n",
        "    train_accuracy = train_accuracy/len(xy_train)   # determine accuracy for training data\n",
        "    test_accuracy = test_accuracy/len(xy_test)      # determin accuracy for test data\n",
        "    train_loss = train_loss/len(train_loader)           # determin loss for training data\n",
        "    test_loss = test_loss/len(test_loader)              # determin loss for test data \n",
        "\n",
        "    # show and store metrics\n",
        "    print(f\"Train: Accuracy={train_accuracy:.3f} Loss={train_loss:.3f}, Test: Accuracy={test_accuracy:.3f} Loss={test_loss:.3f}\")\n",
        "    train_accuracy_list.append(train_accuracy)\n",
        "    train_loss_list.append(train_loss)\n",
        "    test_accuracy_list.append(test_accuracy)\n",
        "    test_loss_list.append(test_loss)\n",
        "\n",
        "    # save the model if test accuracy is better than before\n",
        "    if test_accuracy > best_accuracy:\n",
        "        torch.save(model.state_dict(), best_model_path)\n",
        "        print(f\"Test accuracy improved from {best_accuracy:.3f} to {test_accuracy:.3f}\")\n",
        "        print(f\"Model saved at {best_model_path}\")\n",
        "        best_accuracy = test_accuracy\n",
        "    \n",
        "    print(\"---------------------\")"
      ],
      "execution_count": 22,
      "outputs": [
        {
          "output_type": "stream",
          "name": "stdout",
          "text": [
            "Epoch 1/10\n"
          ]
        },
        {
          "output_type": "display_data",
          "data": {
            "application/vnd.jupyter.widget-view+json": {
              "model_id": "b33e93393f5b4621955943db60d49f5d",
              "version_minor": 0,
              "version_major": 2
            },
            "text/plain": [
              "  0%|          | 0/1563 [00:00<?, ?it/s]"
            ]
          },
          "metadata": {}
        },
        {
          "output_type": "display_data",
          "data": {
            "application/vnd.jupyter.widget-view+json": {
              "model_id": "8b2186b28d3b4687bb8268164c142c02",
              "version_minor": 0,
              "version_major": 2
            },
            "text/plain": [
              "  0%|          | 0/313 [00:00<?, ?it/s]"
            ]
          },
          "metadata": {}
        },
        {
          "output_type": "stream",
          "name": "stdout",
          "text": [
            "Train: Accuracy=0.409 Loss=1.616, Test: Accuracy=0.551 Loss=1.260\n",
            "Test accuracy improved from 0.000 to 0.551\n",
            "Model saved at best_model.pth\n",
            "---------------------\n",
            "Epoch 2/10\n"
          ]
        },
        {
          "output_type": "display_data",
          "data": {
            "application/vnd.jupyter.widget-view+json": {
              "model_id": "6f89be8572b44eafb507d202efd7f7ab",
              "version_minor": 0,
              "version_major": 2
            },
            "text/plain": [
              "  0%|          | 0/1563 [00:00<?, ?it/s]"
            ]
          },
          "metadata": {}
        },
        {
          "output_type": "display_data",
          "data": {
            "application/vnd.jupyter.widget-view+json": {
              "model_id": "459959ee210849b9ba19b97f69f823c4",
              "version_minor": 0,
              "version_major": 2
            },
            "text/plain": [
              "  0%|          | 0/313 [00:00<?, ?it/s]"
            ]
          },
          "metadata": {}
        },
        {
          "output_type": "stream",
          "name": "stdout",
          "text": [
            "Train: Accuracy=0.498 Loss=1.385, Test: Accuracy=0.599 Loss=1.114\n",
            "Test accuracy improved from 0.551 to 0.599\n",
            "Model saved at best_model.pth\n",
            "---------------------\n",
            "Epoch 3/10\n"
          ]
        },
        {
          "output_type": "display_data",
          "data": {
            "application/vnd.jupyter.widget-view+json": {
              "model_id": "38407ab06e2f46a3ba93e188f756629c",
              "version_minor": 0,
              "version_major": 2
            },
            "text/plain": [
              "  0%|          | 0/1563 [00:00<?, ?it/s]"
            ]
          },
          "metadata": {}
        },
        {
          "output_type": "display_data",
          "data": {
            "application/vnd.jupyter.widget-view+json": {
              "model_id": "8ae0fb3aadb544028f6f849eb2d7e99e",
              "version_minor": 0,
              "version_major": 2
            },
            "text/plain": [
              "  0%|          | 0/313 [00:00<?, ?it/s]"
            ]
          },
          "metadata": {}
        },
        {
          "output_type": "stream",
          "name": "stdout",
          "text": [
            "Train: Accuracy=0.536 Loss=1.292, Test: Accuracy=0.635 Loss=1.030\n",
            "Test accuracy improved from 0.599 to 0.635\n",
            "Model saved at best_model.pth\n",
            "---------------------\n",
            "Epoch 4/10\n"
          ]
        },
        {
          "output_type": "display_data",
          "data": {
            "application/vnd.jupyter.widget-view+json": {
              "model_id": "e4b0ec04b1264a44a3158ef958d9a214",
              "version_minor": 0,
              "version_major": 2
            },
            "text/plain": [
              "  0%|          | 0/1563 [00:00<?, ?it/s]"
            ]
          },
          "metadata": {}
        },
        {
          "output_type": "display_data",
          "data": {
            "application/vnd.jupyter.widget-view+json": {
              "model_id": "e810de4a00ba4c8d911338e0aeb788a2",
              "version_minor": 0,
              "version_major": 2
            },
            "text/plain": [
              "  0%|          | 0/313 [00:00<?, ?it/s]"
            ]
          },
          "metadata": {}
        },
        {
          "output_type": "stream",
          "name": "stdout",
          "text": [
            "Train: Accuracy=0.558 Loss=1.240, Test: Accuracy=0.655 Loss=1.001\n",
            "Test accuracy improved from 0.635 to 0.655\n",
            "Model saved at best_model.pth\n",
            "---------------------\n",
            "Epoch 5/10\n"
          ]
        },
        {
          "output_type": "display_data",
          "data": {
            "application/vnd.jupyter.widget-view+json": {
              "model_id": "b09c57ab4ac54614a8028ad90a865ad7",
              "version_minor": 0,
              "version_major": 2
            },
            "text/plain": [
              "  0%|          | 0/1563 [00:00<?, ?it/s]"
            ]
          },
          "metadata": {}
        },
        {
          "output_type": "display_data",
          "data": {
            "application/vnd.jupyter.widget-view+json": {
              "model_id": "0537d140d5184632af269ee39115417c",
              "version_minor": 0,
              "version_major": 2
            },
            "text/plain": [
              "  0%|          | 0/313 [00:00<?, ?it/s]"
            ]
          },
          "metadata": {}
        },
        {
          "output_type": "stream",
          "name": "stdout",
          "text": [
            "Train: Accuracy=0.574 Loss=1.197, Test: Accuracy=0.658 Loss=0.963\n",
            "Test accuracy improved from 0.655 to 0.658\n",
            "Model saved at best_model.pth\n",
            "---------------------\n",
            "Epoch 6/10\n"
          ]
        },
        {
          "output_type": "display_data",
          "data": {
            "application/vnd.jupyter.widget-view+json": {
              "model_id": "5dadfdc278d74e12811d49f349af7b99",
              "version_minor": 0,
              "version_major": 2
            },
            "text/plain": [
              "  0%|          | 0/1563 [00:00<?, ?it/s]"
            ]
          },
          "metadata": {}
        },
        {
          "output_type": "display_data",
          "data": {
            "application/vnd.jupyter.widget-view+json": {
              "model_id": "358c746a0a7a4ff78e27e7e461051646",
              "version_minor": 0,
              "version_major": 2
            },
            "text/plain": [
              "  0%|          | 0/313 [00:00<?, ?it/s]"
            ]
          },
          "metadata": {}
        },
        {
          "output_type": "stream",
          "name": "stdout",
          "text": [
            "Train: Accuracy=0.583 Loss=1.177, Test: Accuracy=0.667 Loss=0.962\n",
            "Test accuracy improved from 0.658 to 0.667\n",
            "Model saved at best_model.pth\n",
            "---------------------\n",
            "Epoch 7/10\n"
          ]
        },
        {
          "output_type": "display_data",
          "data": {
            "application/vnd.jupyter.widget-view+json": {
              "model_id": "f12094712f6046b4b9f45e655c47804f",
              "version_minor": 0,
              "version_major": 2
            },
            "text/plain": [
              "  0%|          | 0/1563 [00:00<?, ?it/s]"
            ]
          },
          "metadata": {}
        },
        {
          "output_type": "display_data",
          "data": {
            "application/vnd.jupyter.widget-view+json": {
              "model_id": "90853b7539764858be23039085a5d026",
              "version_minor": 0,
              "version_major": 2
            },
            "text/plain": [
              "  0%|          | 0/313 [00:00<?, ?it/s]"
            ]
          },
          "metadata": {}
        },
        {
          "output_type": "stream",
          "name": "stdout",
          "text": [
            "Train: Accuracy=0.591 Loss=1.153, Test: Accuracy=0.682 Loss=0.912\n",
            "Test accuracy improved from 0.667 to 0.682\n",
            "Model saved at best_model.pth\n",
            "---------------------\n",
            "Epoch 8/10\n"
          ]
        },
        {
          "output_type": "display_data",
          "data": {
            "application/vnd.jupyter.widget-view+json": {
              "model_id": "84b382cc19824e2e895ba48e81de6217",
              "version_minor": 0,
              "version_major": 2
            },
            "text/plain": [
              "  0%|          | 0/1563 [00:00<?, ?it/s]"
            ]
          },
          "metadata": {}
        },
        {
          "output_type": "display_data",
          "data": {
            "application/vnd.jupyter.widget-view+json": {
              "model_id": "cd74802841394435b81412158046ede8",
              "version_minor": 0,
              "version_major": 2
            },
            "text/plain": [
              "  0%|          | 0/313 [00:00<?, ?it/s]"
            ]
          },
          "metadata": {}
        },
        {
          "output_type": "stream",
          "name": "stdout",
          "text": [
            "Train: Accuracy=0.599 Loss=1.139, Test: Accuracy=0.679 Loss=0.927\n",
            "---------------------\n",
            "Epoch 9/10\n"
          ]
        },
        {
          "output_type": "display_data",
          "data": {
            "application/vnd.jupyter.widget-view+json": {
              "model_id": "240fa4f579d3486f959c947d4b850c69",
              "version_minor": 0,
              "version_major": 2
            },
            "text/plain": [
              "  0%|          | 0/1563 [00:00<?, ?it/s]"
            ]
          },
          "metadata": {}
        },
        {
          "output_type": "display_data",
          "data": {
            "application/vnd.jupyter.widget-view+json": {
              "model_id": "5af400fea59e4b459d9216e4037adf90",
              "version_minor": 0,
              "version_major": 2
            },
            "text/plain": [
              "  0%|          | 0/313 [00:00<?, ?it/s]"
            ]
          },
          "metadata": {}
        },
        {
          "output_type": "stream",
          "name": "stdout",
          "text": [
            "Train: Accuracy=0.600 Loss=1.124, Test: Accuracy=0.697 Loss=0.889\n",
            "Test accuracy improved from 0.682 to 0.697\n",
            "Model saved at best_model.pth\n",
            "---------------------\n",
            "Epoch 10/10\n"
          ]
        },
        {
          "output_type": "display_data",
          "data": {
            "application/vnd.jupyter.widget-view+json": {
              "model_id": "debe5ebfd5374ec0be90e2d0801b02ee",
              "version_minor": 0,
              "version_major": 2
            },
            "text/plain": [
              "  0%|          | 0/1563 [00:00<?, ?it/s]"
            ]
          },
          "metadata": {}
        },
        {
          "output_type": "display_data",
          "data": {
            "application/vnd.jupyter.widget-view+json": {
              "model_id": "bdf4ed3caf0e49e1bdb45c630f859a80",
              "version_minor": 0,
              "version_major": 2
            },
            "text/plain": [
              "  0%|          | 0/313 [00:00<?, ?it/s]"
            ]
          },
          "metadata": {}
        },
        {
          "output_type": "stream",
          "name": "stdout",
          "text": [
            "Train: Accuracy=0.606 Loss=1.117, Test: Accuracy=0.698 Loss=0.863\n",
            "Test accuracy improved from 0.697 to 0.698\n",
            "Model saved at best_model.pth\n",
            "---------------------\n"
          ]
        }
      ]
    },
    {
      "cell_type": "markdown",
      "metadata": {
        "id": "77tsvYTj_MjF"
      },
      "source": [
        "**Learning Curves**\n",
        "\n",
        "Let's visualize the accuracy and the loss curves for train and test data."
      ]
    },
    {
      "cell_type": "code",
      "metadata": {
        "colab": {
          "base_uri": "https://localhost:8080/",
          "height": 296
        },
        "id": "r41u3qmIig-t",
        "outputId": "07a3cebd-5252-4cc0-d886-7db54c9b595c"
      },
      "source": [
        "plt.rcParams[\"font.size\"]=14\n",
        "plt.plot(np.arange(epochs)+1, train_accuracy_list, label=\"train\")\n",
        "plt.plot(np.arange(epochs)+1, test_accuracy_list, label=\"test\")\n",
        "plt.xlabel(\"Epoch\")\n",
        "plt.ylabel(\"Accuracy\")\n",
        "plt.grid()\n",
        "plt.legend()"
      ],
      "execution_count": 23,
      "outputs": [
        {
          "output_type": "execute_result",
          "data": {
            "text/plain": [
              "<matplotlib.legend.Legend at 0x7f71ec2bd390>"
            ]
          },
          "metadata": {},
          "execution_count": 23
        },
        {
          "output_type": "display_data",
          "data": {
            "image/png": "[encoded data removed]",
            "text/plain": [
              "<Figure size 432x288 with 1 Axes>"
            ]
          },
          "metadata": {
            "needs_background": "light"
          }
        }
      ]
    },
    {
      "cell_type": "code",
      "metadata": {
        "colab": {
          "base_uri": "https://localhost:8080/",
          "height": 296
        },
        "id": "gEfROle1leF7",
        "outputId": "3e0cdfe8-7170-4b82-c303-a2c8635bf8da"
      },
      "source": [
        "plt.plot(np.arange(epochs)+1, train_loss_list, label=\"train\")\n",
        "plt.plot(np.arange(epochs)+1, test_loss_list, label=\"test\")\n",
        "plt.xlabel(\"Epoch\")\n",
        "plt.ylabel(\"Loss\")\n",
        "plt.grid()\n",
        "plt.legend()"
      ],
      "execution_count": 24,
      "outputs": [
        {
          "output_type": "execute_result",
          "data": {
            "text/plain": [
              "<matplotlib.legend.Legend at 0x7f71ebcc2350>"
            ]
          },
          "metadata": {},
          "execution_count": 24
        },
        {
          "output_type": "display_data",
          "data": {
            "image/png": "[encoded data removed]",
            "text/plain": [
              "<Figure size 432x288 with 1 Axes>"
            ]
          },
          "metadata": {
            "needs_background": "light"
          }
        }
      ]
    },
    {
      "cell_type": "markdown",
      "metadata": {
        "id": "8eDR3R1BULUJ"
      },
      "source": [
        "As you see above, the test accuracy keeps increasing up to at least 10 epochs and is still higher than the train accuracy. Similarly the test loss keeps decreasing up to at least 10 epochs and still lower than the test loss. This indicates the model is not overfitted yet. Therefore we can continue to train the model until we see the overfitting."
      ]
    },
    {
      "cell_type": "markdown",
      "metadata": {
        "id": "JXu1FpcD6fod"
      },
      "source": [
        "# Evaluation"
      ]
    },
    {
      "cell_type": "markdown",
      "metadata": {
        "id": "O3SGX3oKxNfP"
      },
      "source": [
        "**Load the Best Model**\n",
        "\n",
        "Now we can load the best model."
      ]
    },
    {
      "cell_type": "code",
      "metadata": {
        "colab": {
          "base_uri": "https://localhost:8080/"
        },
        "id": "XovWZ9dteQGz",
        "outputId": "aa2beb36-3a08-4288-e039-a848d51b4f7e"
      },
      "source": [
        "model = Model().to(device)\n",
        "model.load_state_dict(torch.load(best_model_path))"
      ],
      "execution_count": 25,
      "outputs": [
        {
          "output_type": "execute_result",
          "data": {
            "text/plain": [
              "<All keys matched successfully>"
            ]
          },
          "metadata": {},
          "execution_count": 25
        }
      ]
    },
    {
      "cell_type": "markdown",
      "metadata": {
        "id": "5s6cASjZdghi"
      },
      "source": [
        "**Test Accuracy**\n",
        "\n",
        "We should check accuracy of the model for all of the test data."
      ]
    },
    {
      "cell_type": "code",
      "metadata": {
        "colab": {
          "base_uri": "https://localhost:8080/"
        },
        "id": "Y-0SvVqUp92Z",
        "outputId": "5ff9b1d5-5d72-456b-9670-d1cf6393d160"
      },
      "source": [
        "test_accuracy = 0\n",
        "\n",
        "y_test_all = np.array([])\n",
        "p_label_all = np.array([])\n",
        "\n",
        "with torch.no_grad():    # disable autograd\n",
        "    model.eval()         # set model to evaluation mode\n",
        "    \n",
        "    for x_batch, y_batch in test_loader:    # take mini batch data from train_loader\n",
        "        x_batch = x_batch.to(device)        # transfer x_batch to gpu\n",
        "        y_batch = y_batch.to(device)        # transfer y_batch to gpu\n",
        "        p_batch = model(x_batch)            # do prediction\n",
        "\n",
        "        p_batch_label = torch.argmax(p_batch, dim=1)       # convert p_batch vector to p_batch_label\n",
        "        test_accuracy += (p_batch_label == y_batch).sum()  # count up number of correct predictions\n",
        "\n",
        "        y_test_all = np.append(y_test_all, y_batch.to(\"cpu\").numpy())          # append y_batch in y_test_all\n",
        "        p_label_all = np.append(p_label_all, p_batch_label.to(\"cpu\").numpy())  # append p_batch_label in p_label_all\n",
        "\n",
        "test_accuracy = test_accuracy/len(xy_test)      # determine accuracy for test data\n",
        "print(f\"Test Accuracy = {test_accuracy:.3f}\")"
      ],
      "execution_count": 26,
      "outputs": [
        {
          "output_type": "stream",
          "name": "stdout",
          "text": [
            "Test Accuracy = 0.698\n"
          ]
        }
      ]
    },
    {
      "cell_type": "markdown",
      "metadata": {
        "id": "fgk35ZoQeXHJ"
      },
      "source": [
        "**Confusion Matrix**\n",
        "\n",
        "Then let's check the confusion matrix."
      ]
    },
    {
      "cell_type": "code",
      "metadata": {
        "colab": {
          "base_uri": "https://localhost:8080/",
          "height": 530
        },
        "id": "MIqnDbffcVM6",
        "outputId": "4274df77-9846-4336-d4f4-6c1b972d5504"
      },
      "source": [
        "from sklearn.metrics import confusion_matrix\n",
        "\n",
        "cmx = confusion_matrix(y_test_all, p_label_all)\n",
        "\n",
        "cmx_pct = np.zeros(cmx.shape)\n",
        "\n",
        "for i in range(cmx.shape[0]):\n",
        "    for j in range(cmx.shape[1]):\n",
        "        cmx_pct[i, j] = cmx[i, j]/cmx[i, :].sum()\n",
        "\n",
        "plt.figure(figsize=(10,8))\n",
        "labels = classnames.values()\n",
        "\n",
        "sns.heatmap(cmx_pct, annot=True, fmt=\".2f\", cmap=\"Blues\", vmin=0, vmax=1,\n",
        "            xticklabels=classnames.values(), yticklabels=classnames.values(), square=True)\n",
        "\n",
        "plt.ylabel(\"True\")\n",
        "plt.xlabel(\"Pred\")\n",
        "plt.title(\"confusion matrix\")"
      ],
      "execution_count": 27,
      "outputs": [
        {
          "output_type": "execute_result",
          "data": {
            "text/plain": [
              "Text(0.5, 1.0, 'confusion matrix')"
            ]
          },
          "metadata": {},
          "execution_count": 27
        },
        {
          "output_type": "display_data",
          "data": {
            "image/png": "[encoded data removed]",
            "text/plain": [
              "<Figure size 720x576 with 2 Axes>"
            ]
          },
          "metadata": {
            "needs_background": "light"
          }
        }
      ]
    },
    {
      "cell_type": "markdown",
      "metadata": {
        "id": "wPvNhkGzK2QY"
      },
      "source": [
        "**Predictions for Test Data**\n",
        "\n",
        "Let's see predictions for some test data."
      ]
    },
    {
      "cell_type": "code",
      "metadata": {
        "colab": {
          "base_uri": "https://localhost:8080/",
          "height": 363
        },
        "id": "h7payXveIf_Y",
        "outputId": "1893b2dd-97c5-4955-d67c-39d488716e9a"
      },
      "source": [
        "with torch.no_grad():\n",
        "    model.eval()\n",
        "\n",
        "    for x_batch, y_batch in test_loader:\n",
        "        x_batch = x_batch.to(device)\n",
        "        y_batch = y_batch.to(device)\n",
        "        p_batch = model(x_batch)\n",
        "        p_batch_label = torch.argmax(p_batch, dim=1)\n",
        "\n",
        "        plt.figure(figsize=(20, 8))\n",
        "        for i in range(30):\n",
        "            image = x_batch[i].to(\"cpu\").numpy()\n",
        "            image = np.transpose(image, (1,2,0))\n",
        "            plt.subplot(3, 10, i+1)\n",
        "            plt.imshow(image)\n",
        "\n",
        "            true_class = classnames[y_batch[i].item()]\n",
        "            pred_class = classnames[p_batch_label[i].item()]\n",
        "            if true_class == pred_class:\n",
        "                color = \"green\"\n",
        "            else:\n",
        "                color = \"red\"\n",
        "            plt.title(f\"T={true_class}\\nP={pred_class}\", color=color)\n",
        "            plt.axis(\"off\")\n",
        "        \n",
        "        break"
      ],
      "execution_count": 28,
      "outputs": [
        {
          "output_type": "display_data",
          "data": {
            "image/png": "[encoded data removed]",
            "text/plain": [
              "<Figure size 1080x432 with 30 Axes>"
            ]
          },
          "metadata": {
            "needs_background": "light"
          }
        }
      ]
    },
    {
      "cell_type": "markdown",
      "metadata": {
        "id": "wke7cdi2fVBZ"
      },
      "source": [
        "# Conclusion"
      ]
    },
    {
      "cell_type": "markdown",
      "metadata": {
        "id": "bBKeg1o-fWd5"
      },
      "source": [
        "That's it for this week. Now you can try to increase the test accuracy by changing data augmentation methods, model architecture, training epochs and so on..."
      ]
    }
  ]
}