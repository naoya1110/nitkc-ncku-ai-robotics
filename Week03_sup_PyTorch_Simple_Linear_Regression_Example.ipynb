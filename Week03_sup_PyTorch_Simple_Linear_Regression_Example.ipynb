{
  "nbformat": 4,
  "nbformat_minor": 0,
  "metadata": {
    "colab": {
      "name": "Week03_sup_PyTorch_Simple_Linear_Regression_Example.ipynb",
      "provenance": [],
      "collapsed_sections": [],
      "authorship_tag": "ABX9TyMXacmMY8sV/mLigFGu4tLl",
      "include_colab_link": true
    },
    "kernelspec": {
      "name": "python3",
      "display_name": "Python 3"
    },
    "language_info": {
      "name": "python"
    }
  },
  "cells": [
    {
      "cell_type": "markdown",
      "metadata": {
        "id": "view-in-github",
        "colab_type": "text"
      },
      "source": [
        "<a href=\"https://colab.research.google.com/github/naoya1110/nitkc-ncku-ai-robotics/blob/main/Week03_sup_PyTorch_Simple_Linear_Regression_Example.ipynb\" target=\"_parent\"><img src=\"https://colab.research.google.com/assets/colab-badge.svg\" alt=\"Open In Colab\"/></a>"
      ]
    },
    {
      "cell_type": "markdown",
      "metadata": {
        "id": "f3N0fVQqIH-w"
      },
      "source": [
        "This is a supplemental material for Week03 to explain how the model parameters are updated with stochastic gradient decent (SGD).\n",
        "\n",
        "In this example, we are going to implement a simple linear regression model with PyTorch.\n",
        "\n",
        "First of all, let's import packages of PyTorch, Numpy and Matplotlib."
      ]
    },
    {
      "cell_type": "code",
      "metadata": {
        "id": "PVx3kr0D4Ppr"
      },
      "source": [
        "import torch\n",
        "import numpy as np\n",
        "import matplotlib.pyplot as plt"
      ],
      "execution_count": 1,
      "outputs": []
    },
    {
      "cell_type": "markdown",
      "metadata": {
        "id": "iFGAxPumJKhm"
      },
      "source": [
        "Here we create a dataset of $x$ (input) and $y$ (output) with a simple linear equation below. Note that output data $y$ contains some random noise. \n",
        "\n",
        "$y = 5x + 3 + \\mathrm{noise}$"
      ]
    },
    {
      "cell_type": "code",
      "metadata": {
        "colab": {
          "base_uri": "https://localhost:8080/",
          "height": 279
        },
        "id": "d12jiZah4lAV",
        "outputId": "80ac077d-e2c3-452c-ce2c-e61b593761f9"
      },
      "source": [
        "x = 10*np.random.rand(100)-5\n",
        "noise = 3*np.random.randn(x.shape[0])\n",
        "y = 5*x + 3 + noise\n",
        "plt.plot(x, y, marker=\"o\", lw= 0, label=\"data\")\n",
        "plt.xlabel(\"x\")\n",
        "plt.ylabel(\"y\")\n",
        "plt.legend()\n",
        "plt.grid()"
      ],
      "execution_count": 2,
      "outputs": [
        {
          "output_type": "display_data",
          "data": {
            "image/png": "[encoded data removed]",
            "text/plain": [
              "<Figure size 432x288 with 1 Axes>"
            ]
          },
          "metadata": {
            "needs_background": "light"
          }
        }
      ]
    },
    {
      "cell_type": "markdown",
      "metadata": {
        "id": "V1d9TcZJKOAH"
      },
      "source": [
        "Our goal is to find a linear function model (equation) that can fit the x-y dataset well.\n",
        "\n",
        "Instead of using PyTorch, we can simply use `np.polyfit()` to fit the dataset. Then we can obtain the fitting parameters of $w$ and $b$ of a linear function of $y = wx + b$, where $w$ and $b$ are called weight and bias, respectively."
      ]
    },
    {
      "cell_type": "code",
      "metadata": {
        "colab": {
          "base_uri": "https://localhost:8080/"
        },
        "id": "REAk1xWzG4cs",
        "outputId": "1b4e7269-a958-4968-d172-a08eadf19361"
      },
      "source": [
        "w, b = np.polyfit(x, y, 1)\n",
        "print(f\"w={w:.3f}, b={b:.3f}\")"
      ],
      "execution_count": 3,
      "outputs": [
        {
          "output_type": "stream",
          "name": "stdout",
          "text": [
            "w=5.093, b=3.398\n"
          ]
        }
      ]
    },
    {
      "cell_type": "markdown",
      "metadata": {
        "id": "beBJ2jmvOnsi"
      },
      "source": [
        "Because the x-y dataset contains some noise, obtained $w$ and $b$ are not exactly same as we used for creating the dataset, but they are close enough. Anyway we can make a fitting line with the obtained parameters of $w$ and $b$."
      ]
    },
    {
      "cell_type": "code",
      "metadata": {
        "colab": {
          "base_uri": "https://localhost:8080/",
          "height": 279
        },
        "id": "7KIJCGZ_5KD8",
        "outputId": "259a3d62-a44a-4628-e2ce-3e96aa71184a"
      },
      "source": [
        "y_fit = w*x + b\n",
        "\n",
        "plt.plot(x, y, marker=\"o\", lw=0, label=\"dataset\")\n",
        "plt.plot(x, y_fit, lw=2, label=\"fit\")\n",
        "plt.xlabel(\"x\")\n",
        "plt.ylabel(\"y\")\n",
        "plt.legend()\n",
        "plt.grid()"
      ],
      "execution_count": 4,
      "outputs": [
        {
          "output_type": "display_data",
          "data": {
            "image/png": "[encoded data removed]",
            "text/plain": [
              "<Figure size 432x288 with 1 Axes>"
            ]
          },
          "metadata": {
            "needs_background": "light"
          }
        }
      ]
    },
    {
      "cell_type": "markdown",
      "metadata": {
        "id": "CAT9dny8FhRW"
      },
      "source": [
        "So `np.polyfit()` works very well. But in this example we will do the same thing with PyTorch.\n",
        "\n",
        "Now we convert the dataset of $x$ and $y$ into PyTorch Tensor."
      ]
    },
    {
      "cell_type": "code",
      "metadata": {
        "id": "3mbf0APf5yYF",
        "colab": {
          "base_uri": "https://localhost:8080/"
        },
        "outputId": "7ef3226e-c786-4c49-805c-2cf3e6569c8a"
      },
      "source": [
        "x = torch.tensor(x)\n",
        "y = torch.tensor(y)\n",
        "\n",
        "print(type(x))\n",
        "print(type(y))"
      ],
      "execution_count": 5,
      "outputs": [
        {
          "output_type": "stream",
          "name": "stdout",
          "text": [
            "<class 'torch.Tensor'>\n",
            "<class 'torch.Tensor'>\n"
          ]
        }
      ]
    },
    {
      "cell_type": "markdown",
      "metadata": {
        "id": "GWY-KZbAJopr"
      },
      "source": [
        "Then we define a function named `model()` that predicts an output value of $y$ from an input value of $x$ with the parameters of $w$ and $b$."
      ]
    },
    {
      "cell_type": "code",
      "metadata": {
        "id": "T-FhluBo7Ea1"
      },
      "source": [
        "def model(x):\n",
        "    return w*x + b"
      ],
      "execution_count": 6,
      "outputs": []
    },
    {
      "cell_type": "markdown",
      "metadata": {
        "id": "vemQxk48K_mz"
      },
      "source": [
        "Also we define a function named `loss_func()` to calculate the mean squared error between $p$ and $y$, where $p$ is the output values, i.e. prediction, of the `model()`. This kind of function is called loss function which can be used for measuring how wrong the model prediction was."
      ]
    },
    {
      "cell_type": "markdown",
      "metadata": {
        "id": "do3Ll8sEkMb6"
      },
      "source": [
        "$\\displaystyle \\mathrm{loss} = \\mathrm{mse}(p, y) = \\frac{1}{N}\\sum_{i=0}^{N-1}(p_i-y_i)^2$"
      ]
    },
    {
      "cell_type": "code",
      "metadata": {
        "id": "BJX-xDCl7Le1"
      },
      "source": [
        "def loss_func(p, y):\n",
        "    return ((p-y)**2).mean()"
      ],
      "execution_count": 7,
      "outputs": []
    },
    {
      "cell_type": "markdown",
      "metadata": {
        "id": "MZdLCxF8NkXD"
      },
      "source": [
        "At this point we don't know what $w$ and $b$ are. So we initialize those values with arbitary numbers."
      ]
    },
    {
      "cell_type": "code",
      "metadata": {
        "id": "m_fsb7vWO6Dy"
      },
      "source": [
        "w = torch.tensor(1.0, requires_grad=True)   # you can set any number here\n",
        "b = torch.tensor(-5.0, requires_grad=True)  # you can set any number here"
      ],
      "execution_count": 8,
      "outputs": []
    },
    {
      "cell_type": "markdown",
      "metadata": {
        "id": "s_4S2EQYO8wl"
      },
      "source": [
        "Now we can make a prediction using `model()`"
      ]
    },
    {
      "cell_type": "code",
      "metadata": {
        "id": "WLHoWRI7O8Rz",
        "colab": {
          "base_uri": "https://localhost:8080/"
        },
        "outputId": "5375f8fb-ca48-441e-aa96-f96284fe3912"
      },
      "source": [
        "p = model(x)\n",
        "print(p)"
      ],
      "execution_count": 9,
      "outputs": [
        {
          "output_type": "stream",
          "name": "stdout",
          "text": [
            "tensor([-4.6717, -3.3686, -4.5741, -1.1753, -8.9409, -2.0899, -4.1413, -2.4630,\n",
            "        -1.9338, -4.1171, -5.7585, -6.4729, -5.8835, -2.1996, -4.8134, -5.2558,\n",
            "        -4.5199, -2.3923, -1.0443, -4.0651, -8.4577, -1.4489, -1.1500, -8.1449,\n",
            "        -4.6178, -9.1521, -8.8452, -5.7126, -8.9207, -9.0395, -0.9193, -9.9658,\n",
            "        -3.4497, -6.4615, -0.3727, -4.1418, -9.9496, -2.1847, -5.1290, -6.1410,\n",
            "        -0.9449, -1.6929, -9.2647, -1.3612, -8.4650, -1.1769, -4.6298, -6.5554,\n",
            "        -6.7773, -1.3255, -6.4612, -6.1049, -3.7974, -7.8653, -1.5326, -7.6355,\n",
            "        -2.7992, -4.3653, -2.2325, -2.9983, -2.1367, -9.6084, -7.8805, -6.9248,\n",
            "        -4.8201, -0.1023, -3.7552, -3.2330, -7.2903, -8.0451, -9.0362, -3.3425,\n",
            "        -7.8217, -6.5833, -2.4687, -1.3720, -9.5909, -5.7612, -2.4184, -4.9878,\n",
            "        -9.4853, -5.3360, -7.1489, -8.2045, -1.9271, -6.3897, -3.7082, -0.6095,\n",
            "        -3.1531, -4.5502, -0.7562, -7.3477, -4.2000, -1.0335, -9.6941, -8.6453,\n",
            "        -9.0431, -1.3494, -2.6228, -9.7174], dtype=torch.float64,\n",
            "       grad_fn=<AddBackward0>)\n"
          ]
        }
      ]
    },
    {
      "cell_type": "markdown",
      "metadata": {
        "id": "QtXwQ3nIttbt"
      },
      "source": [
        "Let's visualize current prediction. As we set arbitary number for $w$ and $b$, the model prediction does not fit the data well for sure."
      ]
    },
    {
      "cell_type": "code",
      "metadata": {
        "colab": {
          "base_uri": "https://localhost:8080/",
          "height": 296
        },
        "id": "7Gvw_X_MPKhL",
        "outputId": "156d6970-2cff-497e-fc34-91b63e534dc1"
      },
      "source": [
        "plt.plot(x, y, marker=\"o\", lw=0, label=\"data\")\n",
        "plt.plot(x, p.detach().numpy(), label=\"prediction\")\n",
        "plt.grid()\n",
        "plt.legend()\n",
        "plt.xlabel(\"x\")\n",
        "plt.ylabel(\"y\")"
      ],
      "execution_count": 10,
      "outputs": [
        {
          "output_type": "execute_result",
          "data": {
            "text/plain": [
              "Text(0, 0.5, 'y')"
            ]
          },
          "metadata": {},
          "execution_count": 10
        },
        {
          "output_type": "display_data",
          "data": {
            "image/png": "[encoded data removed]",
            "text/plain": [
              "<Figure size 432x288 with 1 Axes>"
            ]
          },
          "metadata": {
            "needs_background": "light"
          }
        }
      ]
    },
    {
      "cell_type": "markdown",
      "metadata": {
        "id": "PV7CxsLjPsnR"
      },
      "source": [
        "Then we calculate loss (mean squared error) value by using `loss_func()`. Note that the loss value is very large because $w$ and $b$ are arbitaly values and not optimized yet."
      ]
    },
    {
      "cell_type": "code",
      "metadata": {
        "colab": {
          "base_uri": "https://localhost:8080/"
        },
        "id": "EIXfD63wPzVm",
        "outputId": "5c465510-aad7-4a3b-8020-d0a88cb6d567"
      },
      "source": [
        "loss = loss_func(p, y)\n",
        "print(loss)"
      ],
      "execution_count": 11,
      "outputs": [
        {
          "output_type": "stream",
          "name": "stdout",
          "text": [
            "tensor(225.0396, dtype=torch.float64, grad_fn=<MeanBackward0>)\n"
          ]
        }
      ]
    },
    {
      "cell_type": "markdown",
      "metadata": {
        "id": "roLiOg-dQp_q"
      },
      "source": [
        "In order to optimize $w$ amd $b$, we need to know the gradients of loss respect to current $w$ and $b$ respectively. This can be done with `loss.backward()`. The gradients of $ \\frac{\\partial \\mathrm{loss}}{\\partial w}$ and $\\frac{\\partial \\mathrm{loss}}{\\partial b}$ can be accessed by `w.grad` and `b.grad`, respectively."
      ]
    },
    {
      "cell_type": "code",
      "metadata": {
        "colab": {
          "base_uri": "https://localhost:8080/"
        },
        "id": "kNT7UuCnQh2X",
        "outputId": "c8415064-7d30-4f35-f58f-f3248c9dd5f2"
      },
      "source": [
        "loss.backward()\n",
        "print(w.grad)\n",
        "print(b.grad)"
      ],
      "execution_count": 12,
      "outputs": [
        {
          "output_type": "stream",
          "name": "stdout",
          "text": [
            "tensor(-68.8243)\n",
            "tensor(-17.2722)\n"
          ]
        }
      ]
    },
    {
      "cell_type": "markdown",
      "metadata": {
        "id": "DWPnNfKsTLW_"
      },
      "source": [
        "Then we can update $w$ and $b$ by using equations below where $\\eta$ is learning rate. This is a method called stochastic gradient descent (SGD).\n",
        "\n",
        "$\\displaystyle w := w - \\eta\\frac{\\partial \\mathrm{loss}}{\\partial w}$\n",
        "\n",
        "$\\displaystyle b := b - \\eta\\frac{\\partial \\mathrm{loss}}{\\partial b}$\n",
        "\n",
        "\n",
        "When we update those values we don't want to calculate the gradients. For this purpose `with torch.no_grad()` is stated at the beginning."
      ]
    },
    {
      "cell_type": "code",
      "metadata": {
        "id": "mpoxdQ0WTK9X"
      },
      "source": [
        "lr = 0.01    # define learning rate\n",
        "\n",
        "with torch.no_grad():    # disable gradients calculations\n",
        "    w -= w.grad*lr       # update w\n",
        "    b -= b.grad*lr       # update b"
      ],
      "execution_count": 13,
      "outputs": []
    },
    {
      "cell_type": "markdown",
      "metadata": {
        "id": "aen0JWycU6BN"
      },
      "source": [
        "At this point you can find the values of $w$ and $b$ are a bit closer to the true values ($w$=5.0, $b$=3.0) than the initial values."
      ]
    },
    {
      "cell_type": "code",
      "metadata": {
        "colab": {
          "base_uri": "https://localhost:8080/"
        },
        "id": "3H6yLMDgU4Yr",
        "outputId": "30e202e0-aa9e-4ccc-905e-3a09b0869066"
      },
      "source": [
        "print(w)\n",
        "print(b)"
      ],
      "execution_count": 14,
      "outputs": [
        {
          "output_type": "stream",
          "name": "stdout",
          "text": [
            "tensor(1.6882, requires_grad=True)\n",
            "tensor(-4.8273, requires_grad=True)\n"
          ]
        }
      ]
    },
    {
      "cell_type": "markdown",
      "metadata": {
        "id": "2G7G6xIpYnlk"
      },
      "source": [
        "In order to optimize $w$ and $b$ further, we repeat above process many times."
      ]
    },
    {
      "cell_type": "code",
      "metadata": {
        "colab": {
          "base_uri": "https://localhost:8080/"
        },
        "id": "oVJCrKHR7UPk",
        "outputId": "762a3491-7c82-468c-98bc-0f448aa2f3a5"
      },
      "source": [
        "w = torch.tensor(1.0, requires_grad=True)   # you can set any number here\n",
        "b = torch.tensor(-5.0, requires_grad=True)  # you can set any number here\n",
        "\n",
        "lr = 0.01    # learning rate \n",
        "epochs = 50  # how many times we repeat training\n",
        "\n",
        "w = torch.tensor(3.0, requires_grad=True)    # initialize w\n",
        "b = torch.tensor(-1.0, requires_grad=True)   # initialize b\n",
        "\n",
        "# empty lists for saving loss, w, b\n",
        "loss_list = []\n",
        "w_list = []\n",
        "b_list = []\n",
        "\n",
        "for epoch in range(epochs):\n",
        "\n",
        "    p = model(x)              # prediction\n",
        "    loss = loss_func(p, y)    # measure loss\n",
        "    loss.backward()           # determine gradients\n",
        "\n",
        "    with torch.no_grad():     # disable autograd\n",
        "        w -= w.grad*lr        # update w \n",
        "        b -= b.grad*lr        # update b\n",
        "        \n",
        "        w.grad.zero_() # reset gradient\n",
        "        b.grad.zero_() # reset gradient\n",
        "\n",
        "    # save loss, w, b\n",
        "    loss_list.append(loss.item())\n",
        "    w_list.append(w.item())\n",
        "    b_list.append(b.item())\n",
        "\n",
        "    print(f\"Epoch {epoch+1}, loss={loss.item():.3f}, w={w.item():.3f}, b={b.item():.3f}\")"
      ],
      "execution_count": 15,
      "outputs": [
        {
          "output_type": "stream",
          "name": "stdout",
          "text": [
            "Epoch 1, loss=68.386, w=3.352, b=-0.910\n",
            "Epoch 2, loss=56.212, w=3.646, b=-0.821\n",
            "Epoch 3, loss=47.540, w=3.891, b=-0.735\n",
            "Epoch 4, loss=41.311, w=4.095, b=-0.651\n",
            "Epoch 5, loss=36.791, w=4.265, b=-0.569\n",
            "Epoch 6, loss=33.467, w=4.407, b=-0.489\n",
            "Epoch 7, loss=30.983, w=4.525, b=-0.410\n",
            "Epoch 8, loss=29.091, w=4.624, b=-0.334\n",
            "Epoch 9, loss=27.616, w=4.706, b=-0.258\n",
            "Epoch 10, loss=26.438, w=4.774, b=-0.185\n",
            "Epoch 11, loss=25.473, w=4.831, b=-0.113\n",
            "Epoch 12, loss=24.662, w=4.879, b=-0.042\n",
            "Epoch 13, loss=23.963, w=4.918, b=0.027\n",
            "Epoch 14, loss=23.348, w=4.951, b=0.094\n",
            "Epoch 15, loss=22.796, w=4.979, b=0.161\n",
            "Epoch 16, loss=22.294, w=5.001, b=0.226\n",
            "Epoch 17, loss=21.830, w=5.020, b=0.289\n",
            "Epoch 18, loss=21.397, w=5.036, b=0.351\n",
            "Epoch 19, loss=20.991, w=5.049, b=0.412\n",
            "Epoch 20, loss=20.607, w=5.060, b=0.472\n",
            "Epoch 21, loss=20.243, w=5.069, b=0.531\n",
            "Epoch 22, loss=19.897, w=5.076, b=0.588\n",
            "Epoch 23, loss=19.566, w=5.082, b=0.644\n",
            "Epoch 24, loss=19.250, w=5.087, b=0.699\n",
            "Epoch 25, loss=18.947, w=5.091, b=0.753\n",
            "Epoch 26, loss=18.657, w=5.095, b=0.806\n",
            "Epoch 27, loss=18.379, w=5.097, b=0.858\n",
            "Epoch 28, loss=18.113, w=5.100, b=0.909\n",
            "Epoch 29, loss=17.857, w=5.102, b=0.959\n",
            "Epoch 30, loss=17.611, w=5.103, b=1.007\n",
            "Epoch 31, loss=17.376, w=5.104, b=1.055\n",
            "Epoch 32, loss=17.149, w=5.105, b=1.102\n",
            "Epoch 33, loss=16.932, w=5.106, b=1.148\n",
            "Epoch 34, loss=16.724, w=5.106, b=1.193\n",
            "Epoch 35, loss=16.523, w=5.107, b=1.237\n",
            "Epoch 36, loss=16.331, w=5.107, b=1.280\n",
            "Epoch 37, loss=16.146, w=5.107, b=1.322\n",
            "Epoch 38, loss=15.969, w=5.107, b=1.364\n",
            "Epoch 39, loss=15.798, w=5.107, b=1.405\n",
            "Epoch 40, loss=15.635, w=5.107, b=1.444\n",
            "Epoch 41, loss=15.477, w=5.107, b=1.483\n",
            "Epoch 42, loss=15.327, w=5.107, b=1.522\n",
            "Epoch 43, loss=15.182, w=5.107, b=1.559\n",
            "Epoch 44, loss=15.042, w=5.107, b=1.596\n",
            "Epoch 45, loss=14.909, w=5.107, b=1.632\n",
            "Epoch 46, loss=14.780, w=5.106, b=1.667\n",
            "Epoch 47, loss=14.657, w=5.106, b=1.702\n",
            "Epoch 48, loss=14.538, w=5.106, b=1.736\n",
            "Epoch 49, loss=14.425, w=5.106, b=1.769\n",
            "Epoch 50, loss=14.315, w=5.106, b=1.802\n"
          ]
        }
      ]
    },
    {
      "cell_type": "markdown",
      "metadata": {
        "id": "P7wmY5X4VF8I"
      },
      "source": [
        "Now you see $w$ is close to 5.0 and $b$ is close to 3.0."
      ]
    },
    {
      "cell_type": "markdown",
      "metadata": {
        "id": "prLVOe3NUHXZ"
      },
      "source": [
        "Let's visualize how the loss value decreased."
      ]
    },
    {
      "cell_type": "code",
      "metadata": {
        "colab": {
          "base_uri": "https://localhost:8080/",
          "height": 279
        },
        "id": "jKNMYl8W-YPu",
        "outputId": "fee45117-d093-4731-c8b6-7cc5562c9253"
      },
      "source": [
        "plt.plot(np.arange(epochs)+1, loss_list)\n",
        "plt.xlabel(\"Epochs\")\n",
        "plt.ylabel(\"Loss\")\n",
        "plt.grid()"
      ],
      "execution_count": 16,
      "outputs": [
        {
          "output_type": "display_data",
          "data": {
            "image/png": "[encoded data removed]",
            "text/plain": [
              "<Figure size 432x288 with 1 Axes>"
            ]
          },
          "metadata": {
            "needs_background": "light"
          }
        }
      ]
    },
    {
      "cell_type": "markdown",
      "metadata": {
        "id": "SuWi5tIEUNty"
      },
      "source": [
        "Let's visualize how the `w` value updated with epochs."
      ]
    },
    {
      "cell_type": "code",
      "metadata": {
        "colab": {
          "base_uri": "https://localhost:8080/",
          "height": 279
        },
        "id": "7g9-IoVMT5dB",
        "outputId": "df546b74-df11-4534-a54f-7080e398d4eb"
      },
      "source": [
        "plt.plot(np.arange(epochs)+1, w_list)\n",
        "plt.xlabel(\"Epochs\")\n",
        "plt.ylabel(\"w\")\n",
        "plt.grid()"
      ],
      "execution_count": 17,
      "outputs": [
        {
          "output_type": "display_data",
          "data": {
            "image/png": "[encoded data removed]",
            "text/plain": [
              "<Figure size 432x288 with 1 Axes>"
            ]
          },
          "metadata": {
            "needs_background": "light"
          }
        }
      ]
    },
    {
      "cell_type": "markdown",
      "metadata": {
        "id": "8NimP-NFUW7p"
      },
      "source": [
        "Let's visualize how the `b` value updated with epochs."
      ]
    },
    {
      "cell_type": "code",
      "metadata": {
        "colab": {
          "base_uri": "https://localhost:8080/",
          "height": 279
        },
        "id": "1hgnOPXWUA_p",
        "outputId": "ac9d0be3-4975-4c4a-9a41-0e75a6550984"
      },
      "source": [
        "plt.plot(np.arange(epochs)+1, b_list)\n",
        "plt.xlabel(\"Epochs\")\n",
        "plt.ylabel(\"b\")\n",
        "plt.grid()"
      ],
      "execution_count": 18,
      "outputs": [
        {
          "output_type": "display_data",
          "data": {
            "image/png": "[encoded data removed]",
            "text/plain": [
              "<Figure size 432x288 with 1 Axes>"
            ]
          },
          "metadata": {
            "needs_background": "light"
          }
        }
      ]
    },
    {
      "cell_type": "code",
      "metadata": {
        "colab": {
          "base_uri": "https://localhost:8080/",
          "height": 296
        },
        "id": "bYXitcRHQQ9L",
        "outputId": "875bbd6b-ee3c-494d-ae9c-5715e6f564b1"
      },
      "source": [
        "plt.plot(x, y, marker=\"o\", lw=0, label=\"dataset\")\n",
        "plt.plot(x, p.detach().numpy(), label=\"prediction\")\n",
        "plt.grid()\n",
        "plt.legend()\n",
        "plt.xlabel(\"x\")\n",
        "plt.ylabel(\"y\")"
      ],
      "execution_count": 19,
      "outputs": [
        {
          "output_type": "execute_result",
          "data": {
            "text/plain": [
              "Text(0, 0.5, 'y')"
            ]
          },
          "metadata": {},
          "execution_count": 19
        },
        {
          "output_type": "display_data",
          "data": {
            "image/png": "[encoded data removed]",
            "text/plain": [
              "<Figure size 432x288 with 1 Axes>"
            ]
          },
          "metadata": {
            "needs_background": "light"
          }
        }
      ]
    },
    {
      "cell_type": "markdown",
      "metadata": {
        "id": "iU83IdbgUqfo"
      },
      "source": [
        "Now you can try to change initial values of `epochs`, `lr`, `w`, `b` etc. and see what happens."
      ]
    }
  ]
}