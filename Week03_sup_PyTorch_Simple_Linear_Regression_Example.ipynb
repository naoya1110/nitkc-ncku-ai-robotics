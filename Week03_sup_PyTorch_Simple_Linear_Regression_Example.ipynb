{
  "nbformat": 4,
  "nbformat_minor": 0,
  "metadata": {
    "colab": {
      "name": "Week03_sup_PyTorch_Simple_Linear_Regression_Example.ipynb",
      "provenance": [],
      "collapsed_sections": [],
      "authorship_tag": "ABX9TyMKBsangbdyzIT1R7PTD0ye",
      "include_colab_link": true
    },
    "kernelspec": {
      "name": "python3",
      "display_name": "Python 3"
    },
    "language_info": {
      "name": "python"
    }
  },
  "cells": [
    {
      "cell_type": "markdown",
      "metadata": {
        "id": "view-in-github",
        "colab_type": "text"
      },
      "source": [
        "<a href=\"https://colab.research.google.com/github/naoya1110/nitkc-ncku-ai-robotics/blob/main/Week03_sup_PyTorch_Simple_Linear_Regression_Example.ipynb\" target=\"_parent\"><img src=\"https://colab.research.google.com/assets/colab-badge.svg\" alt=\"Open In Colab\"/></a>"
      ]
    },
    {
      "cell_type": "markdown",
      "metadata": {
        "id": "f3N0fVQqIH-w"
      },
      "source": [
        "This is a supplemental material for Week03 to explain how the model parameters are updated with stochastic gradient decent (SGD).\n",
        "\n",
        "In this example, we are going to implement a simple linear regression model with PyTorch.\n",
        "\n",
        "First of all, let's import packages of PyTorch, Numpy and Matplotlib."
      ]
    },
    {
      "cell_type": "code",
      "metadata": {
        "id": "PVx3kr0D4Ppr"
      },
      "source": [
        "import torch\n",
        "import numpy as np\n",
        "import matplotlib.pyplot as plt\n",
        "plt.rcParams[\"font.size\"] = 14"
      ],
      "execution_count": 1,
      "outputs": []
    },
    {
      "cell_type": "markdown",
      "metadata": {
        "id": "iFGAxPumJKhm"
      },
      "source": [
        "Here we create a dataset of $x$ (input) and $y$ (output) with a simple linear equation below. Note that output data $y$ contains some random noise. \n",
        "\n",
        "$y = 5x + 3 + \\mathrm{noise}$"
      ]
    },
    {
      "cell_type": "code",
      "metadata": {
        "colab": {
          "base_uri": "https://localhost:8080/",
          "height": 279
        },
        "id": "d12jiZah4lAV",
        "outputId": "f0cb63ca-891d-4434-dc3c-7184afb5c03f"
      },
      "source": [
        "x = 10*np.random.rand(100)-5\n",
        "noise = 3*np.random.randn(x.shape[0])\n",
        "y = 5*x + 3 + noise\n",
        "plt.plot(x, y, marker=\"o\", lw= 0, label=\"data\")\n",
        "plt.xlabel(\"x\")\n",
        "plt.ylabel(\"y\")\n",
        "plt.legend()\n",
        "plt.grid()"
      ],
      "execution_count": 2,
      "outputs": [
        {
          "output_type": "display_data",
          "data": {
            "image/png": "[encoded data removed]",
            "text/plain": [
              "<Figure size 432x288 with 1 Axes>"
            ]
          },
          "metadata": {
            "needs_background": "light"
          }
        }
      ]
    },
    {
      "cell_type": "markdown",
      "metadata": {
        "id": "V1d9TcZJKOAH"
      },
      "source": [
        "Our goal is to find a linear function model (equation) that can fit the x-y dataset well.\n",
        "\n",
        "Instead of using PyTorch, we can simply use `np.polyfit()` to fit the dataset. Then we can obtain the fitting parameters of $w$ and $b$ of a linear function of $y = wx + b$, where $w$ and $b$ are called weight and bias, respectively."
      ]
    },
    {
      "cell_type": "code",
      "metadata": {
        "colab": {
          "base_uri": "https://localhost:8080/"
        },
        "id": "REAk1xWzG4cs",
        "outputId": "f34a7ecb-10c8-4115-9c7a-32a12c3641d3"
      },
      "source": [
        "w, b = np.polyfit(x, y, 1)\n",
        "print(f\"w={w:.3f}, b={b:.3f}\")"
      ],
      "execution_count": 3,
      "outputs": [
        {
          "output_type": "stream",
          "name": "stdout",
          "text": [
            "w=4.926, b=3.251\n"
          ]
        }
      ]
    },
    {
      "cell_type": "markdown",
      "metadata": {
        "id": "beBJ2jmvOnsi"
      },
      "source": [
        "Because the x-y dataset contains some noise, obtained $w$ and $b$ are not exactly same as we used for creating the dataset, but they are close enough. Anyway we can make a fitting line with the obtained parameters of $w$ and $b$."
      ]
    },
    {
      "cell_type": "code",
      "metadata": {
        "colab": {
          "base_uri": "https://localhost:8080/",
          "height": 279
        },
        "id": "7KIJCGZ_5KD8",
        "outputId": "c95e4b7c-b6c6-4173-e9d7-fd24f4cb2b67"
      },
      "source": [
        "y_fit = w*x + b\n",
        "\n",
        "plt.plot(x, y, marker=\"o\", lw=0, label=\"dataset\")\n",
        "plt.plot(x, y_fit, lw=2, label=\"fit\")\n",
        "plt.xlabel(\"x\")\n",
        "plt.ylabel(\"y\")\n",
        "plt.legend()\n",
        "plt.grid()"
      ],
      "execution_count": 4,
      "outputs": [
        {
          "output_type": "display_data",
          "data": {
            "image/png": "[encoded data removed]",
            "text/plain": [
              "<Figure size 432x288 with 1 Axes>"
            ]
          },
          "metadata": {
            "needs_background": "light"
          }
        }
      ]
    },
    {
      "cell_type": "markdown",
      "metadata": {
        "id": "CAT9dny8FhRW"
      },
      "source": [
        "So `np.polyfit()` works very well. But in this example we will do the same thing with PyTorch.\n",
        "\n",
        "Now we convert the dataset of $x$ and $y$ into PyTorch Tensor."
      ]
    },
    {
      "cell_type": "code",
      "metadata": {
        "id": "3mbf0APf5yYF",
        "colab": {
          "base_uri": "https://localhost:8080/"
        },
        "outputId": "11c7d33f-8bb5-4fe7-9ab9-4acb20dac8df"
      },
      "source": [
        "x = torch.tensor(x)\n",
        "y = torch.tensor(y)\n",
        "\n",
        "print(type(x))\n",
        "print(type(y))"
      ],
      "execution_count": 5,
      "outputs": [
        {
          "output_type": "stream",
          "name": "stdout",
          "text": [
            "<class 'torch.Tensor'>\n",
            "<class 'torch.Tensor'>\n"
          ]
        }
      ]
    },
    {
      "cell_type": "markdown",
      "metadata": {
        "id": "GWY-KZbAJopr"
      },
      "source": [
        "Then we define a function named `model()` that predicts an output value of $y$ from an input value of $x$ with the parameters of $w$ and $b$."
      ]
    },
    {
      "cell_type": "code",
      "metadata": {
        "id": "T-FhluBo7Ea1"
      },
      "source": [
        "def model(x):\n",
        "    return w*x + b"
      ],
      "execution_count": 6,
      "outputs": []
    },
    {
      "cell_type": "markdown",
      "metadata": {
        "id": "vemQxk48K_mz"
      },
      "source": [
        "Also we define a function named `loss_func()` to calculate the mean squared error between $p$ and $y$, where $p$ is the output values, i.e. prediction, of the `model()`. This type of function is called loss function which can be used for measuring how wrong the model prediction was."
      ]
    },
    {
      "cell_type": "markdown",
      "metadata": {
        "id": "do3Ll8sEkMb6"
      },
      "source": [
        "$\\displaystyle \\mathrm{loss} = \\mathrm{mse}(p, y) = \\frac{1}{N}\\sum_{i=0}^{N-1}(p_i-y_i)^2$"
      ]
    },
    {
      "cell_type": "code",
      "metadata": {
        "id": "BJX-xDCl7Le1"
      },
      "source": [
        "def loss_func(p, y):\n",
        "    return ((p-y)**2).mean()"
      ],
      "execution_count": 7,
      "outputs": []
    },
    {
      "cell_type": "markdown",
      "metadata": {
        "id": "MZdLCxF8NkXD"
      },
      "source": [
        "At this point we don't know what $w$ and $b$ are. So we initialize those values with arbitary numbers."
      ]
    },
    {
      "cell_type": "code",
      "metadata": {
        "id": "m_fsb7vWO6Dy"
      },
      "source": [
        "w = torch.tensor(1.0, requires_grad=True)   # you can set any number here\n",
        "b = torch.tensor(-5.0, requires_grad=True)  # you can set any number here"
      ],
      "execution_count": 8,
      "outputs": []
    },
    {
      "cell_type": "markdown",
      "metadata": {
        "id": "s_4S2EQYO8wl"
      },
      "source": [
        "Now we can make a prediction using `model()`"
      ]
    },
    {
      "cell_type": "code",
      "metadata": {
        "id": "WLHoWRI7O8Rz",
        "colab": {
          "base_uri": "https://localhost:8080/"
        },
        "outputId": "08dba87f-696d-4cd1-e0b4-010229e67e93"
      },
      "source": [
        "p = model(x)\n",
        "print(p)"
      ],
      "execution_count": 9,
      "outputs": [
        {
          "output_type": "stream",
          "name": "stdout",
          "text": [
            "tensor([-7.3325, -0.3014, -7.8545, -7.1885, -6.0622, -6.1398, -4.2106, -6.7053,\n",
            "        -9.6850, -3.0545, -9.9729, -6.3118, -9.1018, -0.1772, -1.6892, -9.6614,\n",
            "        -5.6722, -6.3727, -1.6479, -7.6854, -0.1578, -9.4802, -8.0634, -1.4524,\n",
            "        -2.8903, -7.8666, -8.7209, -5.2882, -6.7658, -8.9692, -2.7710, -0.3309,\n",
            "        -1.6578, -6.9711, -9.2722, -0.4157, -6.0045, -3.4285, -2.4088, -8.7212,\n",
            "        -6.7615, -2.7240, -7.2700, -1.6734, -6.5652, -9.0944, -8.8251, -1.1054,\n",
            "        -4.1287, -6.9867, -0.6773, -5.9279, -8.5537, -9.9615, -4.4727, -4.3806,\n",
            "        -5.9636, -2.0415, -4.3781, -6.9844, -4.5450, -3.5224, -3.2208, -5.9609,\n",
            "        -4.5170, -9.0259, -4.8921, -8.4418, -1.8098, -2.9876, -6.4007, -1.3511,\n",
            "        -7.9874, -8.1744, -8.1223, -5.0745, -4.7050, -9.8937, -7.7857, -9.4130,\n",
            "        -5.2162, -8.4049, -4.7649, -9.2893, -7.9608, -2.4504, -7.1255, -7.6218,\n",
            "        -6.9894, -7.7524, -5.2378, -9.7088, -0.4350, -3.4286, -6.3330, -4.1811,\n",
            "        -3.4518, -4.1029, -6.0705, -8.5043], dtype=torch.float64,\n",
            "       grad_fn=<AddBackward0>)\n"
          ]
        }
      ]
    },
    {
      "cell_type": "markdown",
      "metadata": {
        "id": "QtXwQ3nIttbt"
      },
      "source": [
        "Let's visualize current prediction. As we set arbitary number for $w$ and $b$, the model prediction does not fit the data well."
      ]
    },
    {
      "cell_type": "code",
      "metadata": {
        "colab": {
          "base_uri": "https://localhost:8080/",
          "height": 297
        },
        "id": "7Gvw_X_MPKhL",
        "outputId": "203e2721-97cc-4d20-8c22-dff473b6bc84"
      },
      "source": [
        "plt.plot(x, y, marker=\"o\", lw=0, label=\"data\")\n",
        "plt.plot(x, p.detach().numpy(), label=\"prediction\")\n",
        "plt.grid()\n",
        "plt.legend()\n",
        "plt.xlabel(\"x\")\n",
        "plt.ylabel(\"y\")"
      ],
      "execution_count": 10,
      "outputs": [
        {
          "output_type": "execute_result",
          "data": {
            "text/plain": [
              "Text(0, 0.5, 'y')"
            ]
          },
          "metadata": {},
          "execution_count": 10
        },
        {
          "output_type": "display_data",
          "data": {
            "image/png": "[encoded data removed]",
            "text/plain": [
              "<Figure size 432x288 with 1 Axes>"
            ]
          },
          "metadata": {
            "needs_background": "light"
          }
        }
      ]
    },
    {
      "cell_type": "markdown",
      "metadata": {
        "id": "PV7CxsLjPsnR"
      },
      "source": [
        "Then we calculate loss (mean squared error) value by using `loss_func()`. Note that the loss value is very large because $w$ and $b$ are arbitaly values and not optimized yet."
      ]
    },
    {
      "cell_type": "code",
      "metadata": {
        "colab": {
          "base_uri": "https://localhost:8080/"
        },
        "id": "EIXfD63wPzVm",
        "outputId": "6d6c9cd2-49d1-4039-b124-c4f8058024c8"
      },
      "source": [
        "loss = loss_func(p, y)\n",
        "print(loss)"
      ],
      "execution_count": 11,
      "outputs": [
        {
          "output_type": "stream",
          "name": "stdout",
          "text": [
            "tensor(164.3660, dtype=torch.float64, grad_fn=<MeanBackward0>)\n"
          ]
        }
      ]
    },
    {
      "cell_type": "markdown",
      "metadata": {
        "id": "roLiOg-dQp_q"
      },
      "source": [
        "In order to optimize $w$ amd $b$, we need to know the gradients of loss respect to current $w$ and $b$ respectively. This can be done with `loss.backward()`. The gradients of $\\frac{\\partial \\mathrm{loss}}{\\partial w}$ and $\\frac{\\partial \\mathrm{loss}}{\\partial b}$ can be accessed by `w.grad` and `b.grad`, respectively."
      ]
    },
    {
      "cell_type": "code",
      "metadata": {
        "colab": {
          "base_uri": "https://localhost:8080/"
        },
        "id": "kNT7UuCnQh2X",
        "outputId": "208bf8e4-bb78-46ea-99b6-6ee4a8acbca5"
      },
      "source": [
        "loss.backward()\n",
        "print(w.grad)\n",
        "print(b.grad)"
      ],
      "execution_count": 12,
      "outputs": [
        {
          "output_type": "stream",
          "name": "stdout",
          "text": [
            "tensor(-55.0377)\n",
            "tensor(-11.4936)\n"
          ]
        }
      ]
    },
    {
      "cell_type": "markdown",
      "metadata": {
        "id": "DWPnNfKsTLW_"
      },
      "source": [
        "Then we can update $w$ and $b$ by using equations below where $\\eta$ is learning rate. This is a method called stochastic gradient descent (SGD).\n",
        "\n",
        "$\\displaystyle w := w - \\eta\\frac{\\partial \\mathrm{loss}}{\\partial w}$\n",
        "\n",
        "$\\displaystyle b := b - \\eta\\frac{\\partial \\mathrm{loss}}{\\partial b}$\n",
        "\n",
        "\n",
        "When we update those values we don't want to calculate the gradients. For this purpose `with torch.no_grad()` is stated at the beginning."
      ]
    },
    {
      "cell_type": "code",
      "metadata": {
        "id": "mpoxdQ0WTK9X"
      },
      "source": [
        "lr = 0.01    # define learning rate\n",
        "\n",
        "with torch.no_grad():    # disable gradients calculations\n",
        "    w -= w.grad*lr       # update w\n",
        "    b -= b.grad*lr       # update b"
      ],
      "execution_count": 13,
      "outputs": []
    },
    {
      "cell_type": "markdown",
      "metadata": {
        "id": "aen0JWycU6BN"
      },
      "source": [
        "At this point you can find the values of $w$ and $b$ are a bit closer to the true values ($w$=5.0, $b$=3.0) than the initial values."
      ]
    },
    {
      "cell_type": "code",
      "metadata": {
        "colab": {
          "base_uri": "https://localhost:8080/"
        },
        "id": "3H6yLMDgU4Yr",
        "outputId": "5dea23ca-41c4-4262-eb8b-d2ad143d68a6"
      },
      "source": [
        "print(w)\n",
        "print(b)"
      ],
      "execution_count": 14,
      "outputs": [
        {
          "output_type": "stream",
          "name": "stdout",
          "text": [
            "tensor(1.5504, requires_grad=True)\n",
            "tensor(-4.8851, requires_grad=True)\n"
          ]
        }
      ]
    },
    {
      "cell_type": "markdown",
      "metadata": {
        "id": "2G7G6xIpYnlk"
      },
      "source": [
        "In order to optimize $w$ and $b$ further, we repeat above process many times."
      ]
    },
    {
      "cell_type": "code",
      "metadata": {
        "colab": {
          "base_uri": "https://localhost:8080/"
        },
        "id": "oVJCrKHR7UPk",
        "outputId": "c386b307-418b-437f-d626-4541a00e9b91"
      },
      "source": [
        "w = torch.tensor(1.0, requires_grad=True)   # you can set any number here\n",
        "b = torch.tensor(-5.0, requires_grad=True)  # you can set any number here\n",
        "\n",
        "lr = 0.01    # learning rate \n",
        "epochs = 50  # how many times we repeat training\n",
        "\n",
        "w = torch.tensor(3.0, requires_grad=True)    # initialize w\n",
        "b = torch.tensor(-1.0, requires_grad=True)   # initialize b\n",
        "\n",
        "# empty lists for saving loss, w, b\n",
        "loss_list = []\n",
        "w_list = []\n",
        "b_list = []\n",
        "\n",
        "for epoch in range(epochs):\n",
        "\n",
        "    p = model(x)              # prediction\n",
        "    loss = loss_func(p, y)    # measure loss\n",
        "    loss.backward()           # determine gradients\n",
        "\n",
        "    with torch.no_grad():     # disable autograd\n",
        "        w -= w.grad*lr        # update w \n",
        "        b -= b.grad*lr        # update b\n",
        "        \n",
        "        w.grad.zero_() # reset gradient\n",
        "        b.grad.zero_() # reset gradient\n",
        "\n",
        "    # save loss, w, b\n",
        "    loss_list.append(loss.item())\n",
        "    w_list.append(w.item())\n",
        "    b_list.append(b.item())\n",
        "\n",
        "    print(f\"Epoch {epoch+1}, loss={loss.item():.3f}, w={w.item():.3f}, b={b.item():.3f}\")"
      ],
      "execution_count": 15,
      "outputs": [
        {
          "output_type": "stream",
          "name": "stdout",
          "text": [
            "Epoch 1, loss=47.514, w=3.267, b=-0.940\n",
            "Epoch 2, loss=40.580, w=3.491, b=-0.877\n",
            "Epoch 3, loss=35.596, w=3.678, b=-0.813\n",
            "Epoch 4, loss=31.969, w=3.834, b=-0.747\n",
            "Epoch 5, loss=29.287, w=3.966, b=-0.681\n",
            "Epoch 6, loss=27.266, w=4.076, b=-0.615\n",
            "Epoch 7, loss=25.708, w=4.168, b=-0.548\n",
            "Epoch 8, loss=24.476, w=4.246, b=-0.482\n",
            "Epoch 9, loss=23.477, w=4.312, b=-0.416\n",
            "Epoch 10, loss=22.643, w=4.368, b=-0.351\n",
            "Epoch 11, loss=21.930, w=4.415, b=-0.286\n",
            "Epoch 12, loss=21.304, w=4.455, b=-0.221\n",
            "Epoch 13, loss=20.745, w=4.489, b=-0.158\n",
            "Epoch 14, loss=20.236, w=4.519, b=-0.095\n",
            "Epoch 15, loss=19.767, w=4.544, b=-0.034\n",
            "Epoch 16, loss=19.329, w=4.566, b=0.027\n",
            "Epoch 17, loss=18.917, w=4.585, b=0.087\n",
            "Epoch 18, loss=18.528, w=4.601, b=0.146\n",
            "Epoch 19, loss=18.158, w=4.616, b=0.204\n",
            "Epoch 20, loss=17.805, w=4.629, b=0.261\n",
            "Epoch 21, loss=17.467, w=4.640, b=0.317\n",
            "Epoch 22, loss=17.144, w=4.650, b=0.372\n",
            "Epoch 23, loss=16.833, w=4.660, b=0.426\n",
            "Epoch 24, loss=16.535, w=4.668, b=0.479\n",
            "Epoch 25, loss=16.249, w=4.676, b=0.531\n",
            "Epoch 26, loss=15.974, w=4.683, b=0.583\n",
            "Epoch 27, loss=15.710, w=4.689, b=0.633\n",
            "Epoch 28, loss=15.455, w=4.695, b=0.682\n",
            "Epoch 29, loss=15.210, w=4.701, b=0.731\n",
            "Epoch 30, loss=14.975, w=4.706, b=0.778\n",
            "Epoch 31, loss=14.748, w=4.711, b=0.825\n",
            "Epoch 32, loss=14.530, w=4.716, b=0.871\n",
            "Epoch 33, loss=14.320, w=4.721, b=0.916\n",
            "Epoch 34, loss=14.117, w=4.725, b=0.960\n",
            "Epoch 35, loss=13.923, w=4.729, b=1.003\n",
            "Epoch 36, loss=13.736, w=4.733, b=1.045\n",
            "Epoch 37, loss=13.555, w=4.737, b=1.087\n",
            "Epoch 38, loss=13.382, w=4.741, b=1.128\n",
            "Epoch 39, loss=13.215, w=4.745, b=1.168\n",
            "Epoch 40, loss=13.054, w=4.748, b=1.207\n",
            "Epoch 41, loss=12.899, w=4.752, b=1.246\n",
            "Epoch 42, loss=12.751, w=4.755, b=1.284\n",
            "Epoch 43, loss=12.607, w=4.759, b=1.321\n",
            "Epoch 44, loss=12.469, w=4.762, b=1.358\n",
            "Epoch 45, loss=12.336, w=4.765, b=1.393\n",
            "Epoch 46, loss=12.209, w=4.768, b=1.429\n",
            "Epoch 47, loss=12.086, w=4.771, b=1.463\n",
            "Epoch 48, loss=11.967, w=4.774, b=1.497\n",
            "Epoch 49, loss=11.853, w=4.777, b=1.530\n",
            "Epoch 50, loss=11.743, w=4.780, b=1.562\n"
          ]
        }
      ]
    },
    {
      "cell_type": "markdown",
      "metadata": {
        "id": "P7wmY5X4VF8I"
      },
      "source": [
        "Now you see $w$ is close to 5.0 and $b$ is close to 3.0."
      ]
    },
    {
      "cell_type": "markdown",
      "metadata": {
        "id": "prLVOe3NUHXZ"
      },
      "source": [
        "Let's visualize how the loss value decreased."
      ]
    },
    {
      "cell_type": "code",
      "metadata": {
        "colab": {
          "base_uri": "https://localhost:8080/",
          "height": 279
        },
        "id": "jKNMYl8W-YPu",
        "outputId": "1f9dc600-4482-45ec-c9a4-fb10f40da72c"
      },
      "source": [
        "plt.plot(np.arange(epochs)+1, loss_list)\n",
        "plt.xlabel(\"Epochs\")\n",
        "plt.ylabel(\"Loss\")\n",
        "plt.grid()"
      ],
      "execution_count": 16,
      "outputs": [
        {
          "output_type": "display_data",
          "data": {
            "image/png": "[encoded data removed]",
            "text/plain": [
              "<Figure size 432x288 with 1 Axes>"
            ]
          },
          "metadata": {
            "needs_background": "light"
          }
        }
      ]
    },
    {
      "cell_type": "markdown",
      "metadata": {
        "id": "SuWi5tIEUNty"
      },
      "source": [
        "Let's visualize how the `w` value updated with epochs."
      ]
    },
    {
      "cell_type": "code",
      "metadata": {
        "colab": {
          "base_uri": "https://localhost:8080/",
          "height": 279
        },
        "id": "7g9-IoVMT5dB",
        "outputId": "b3f825b7-d0ef-41a7-f01e-1744e93e4cde"
      },
      "source": [
        "plt.plot(np.arange(epochs)+1, w_list)\n",
        "plt.xlabel(\"Epochs\")\n",
        "plt.ylabel(\"w\")\n",
        "plt.grid()"
      ],
      "execution_count": 17,
      "outputs": [
        {
          "output_type": "display_data",
          "data": {
            "image/png": "[encoded data removed]",
            "text/plain": [
              "<Figure size 432x288 with 1 Axes>"
            ]
          },
          "metadata": {
            "needs_background": "light"
          }
        }
      ]
    },
    {
      "cell_type": "markdown",
      "metadata": {
        "id": "8NimP-NFUW7p"
      },
      "source": [
        "Let's visualize how the `b` value updated with epochs."
      ]
    },
    {
      "cell_type": "code",
      "metadata": {
        "colab": {
          "base_uri": "https://localhost:8080/",
          "height": 279
        },
        "id": "1hgnOPXWUA_p",
        "outputId": "a4ec0ce8-abf0-4568-906b-5ab3063cae7a"
      },
      "source": [
        "plt.plot(np.arange(epochs)+1, b_list)\n",
        "plt.xlabel(\"Epochs\")\n",
        "plt.ylabel(\"b\")\n",
        "plt.grid()"
      ],
      "execution_count": 18,
      "outputs": [
        {
          "output_type": "display_data",
          "data": {
            "image/png": "[encoded data removed]",
            "text/plain": [
              "<Figure size 432x288 with 1 Axes>"
            ]
          },
          "metadata": {
            "needs_background": "light"
          }
        }
      ]
    },
    {
      "cell_type": "code",
      "metadata": {
        "colab": {
          "base_uri": "https://localhost:8080/",
          "height": 297
        },
        "id": "bYXitcRHQQ9L",
        "outputId": "52375edb-2616-48ed-8f9c-d52d34fe1b43"
      },
      "source": [
        "plt.plot(x, y, marker=\"o\", lw=0, label=\"dataset\")\n",
        "plt.plot(x, p.detach().numpy(), label=\"prediction\")\n",
        "plt.grid()\n",
        "plt.legend()\n",
        "plt.xlabel(\"x\")\n",
        "plt.ylabel(\"y\")"
      ],
      "execution_count": 19,
      "outputs": [
        {
          "output_type": "execute_result",
          "data": {
            "text/plain": [
              "Text(0, 0.5, 'y')"
            ]
          },
          "metadata": {},
          "execution_count": 19
        },
        {
          "output_type": "display_data",
          "data": {
            "image/png": "[encoded data removed]",
            "text/plain": [
              "<Figure size 432x288 with 1 Axes>"
            ]
          },
          "metadata": {
            "needs_background": "light"
          }
        }
      ]
    },
    {
      "cell_type": "markdown",
      "metadata": {
        "id": "iU83IdbgUqfo"
      },
      "source": [
        "Now you can try to change initial values of `epochs`, `lr`, `w`, `b` etc. and see what happens."
      ]
    }
  ]
}