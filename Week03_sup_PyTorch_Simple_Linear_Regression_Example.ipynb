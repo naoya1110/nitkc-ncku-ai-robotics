{
  "nbformat": 4,
  "nbformat_minor": 0,
  "metadata": {
    "colab": {
      "name": "Week03_sup_PyTorch_Simple_Linear_Regression_Example.ipynb",
      "provenance": [],
      "collapsed_sections": [],
      "authorship_tag": "ABX9TyMXacmMY8sV/mLigFGu4tLl",
      "include_colab_link": true
    },
    "kernelspec": {
      "name": "python3",
      "display_name": "Python 3"
    },
    "language_info": {
      "name": "python"
    }
  },
  "cells": [
    {
      "cell_type": "markdown",
      "metadata": {
        "id": "view-in-github",
        "colab_type": "text"
      },
      "source": [
        "<a href=\"https://colab.research.google.com/github/naoya1110/nitkc-ncku-ai-robotics/blob/main/Week03_sup_PyTorch_Simple_Linear_Regression_Example.ipynb\" target=\"_parent\"><img src=\"https://colab.research.google.com/assets/colab-badge.svg\" alt=\"Open In Colab\"/></a>"
      ]
    },
    {
      "cell_type": "markdown",
      "metadata": {
        "id": "f3N0fVQqIH-w"
      },
      "source": [
        "This is a supplemental material for Week03 to explain how the model parameters are updated with stochastic gradient decent (SGD).\n",
        "\n",
        "In this example, we are going to implement a simple linear regression model with PyTorch.\n",
        "\n",
        "First of all, let's import packages of PyTorch, Numpy and Matplotlib."
      ]
    },
    {
      "cell_type": "code",
      "metadata": {
        "id": "PVx3kr0D4Ppr"
      },
      "source": [
        "import torch\n",
        "import numpy as np\n",
        "import matplotlib.pyplot as plt"
      ],
      "execution_count": 1,
      "outputs": []
    },
    {
      "cell_type": "markdown",
      "metadata": {
        "id": "iFGAxPumJKhm"
      },
      "source": [
        "Here we create a dataset of $x$ (input) and $y$ (output) with a simple linear equation below. Note that output data $y$ contains some random noise. \n",
        "\n",
        "$y = 5x + 3 + \\mathrm{noise}$"
      ]
    },
    {
      "cell_type": "code",
      "metadata": {
        "colab": {
          "base_uri": "https://localhost:8080/",
          "height": 279
        },
        "id": "d12jiZah4lAV",
        "outputId": "5a1a53a1-160e-4502-846d-b53b6c624bda"
      },
      "source": [
        "x = 10*np.random.rand(100)-5\n",
        "noise = 3*np.random.randn(x.shape[0])\n",
        "y = 5*x + 3 + noise\n",
        "plt.plot(x, y, marker=\"o\", lw= 0, label=\"data\")\n",
        "plt.xlabel(\"x\")\n",
        "plt.ylabel(\"y\")\n",
        "plt.legend()\n",
        "plt.grid()"
      ],
      "execution_count": 2,
      "outputs": [
        {
          "output_type": "display_data",
          "data": {
            "image/png": "[encoded data removed]",
            "text/plain": [
              "<Figure size 432x288 with 1 Axes>"
            ]
          },
          "metadata": {
            "needs_background": "light"
          }
        }
      ]
    },
    {
      "cell_type": "markdown",
      "metadata": {
        "id": "V1d9TcZJKOAH"
      },
      "source": [
        "Our goal is to find a linear function model (equation) that can fit the x-y dataset well.\n",
        "\n",
        "Instead of using PyTorch, we can simply use `np.polyfit()` to fit the dataset. Then we can obtain the fitting parameters of $w$ and $b$ of a linear function of $y = wx + b$, where $w$ and $b$ are called weight and bias, respectively."
      ]
    },
    {
      "cell_type": "code",
      "metadata": {
        "colab": {
          "base_uri": "https://localhost:8080/"
        },
        "id": "REAk1xWzG4cs",
        "outputId": "52b1c7eb-7fbd-4b81-d425-fe5a44938379"
      },
      "source": [
        "w, b = np.polyfit(x, y, 1)\n",
        "print(f\"w={w:.3f}, b={b:.3f}\")"
      ],
      "execution_count": 3,
      "outputs": [
        {
          "output_type": "stream",
          "name": "stdout",
          "text": [
            "w=5.107, b=2.525\n"
          ]
        }
      ]
    },
    {
      "cell_type": "markdown",
      "metadata": {
        "id": "beBJ2jmvOnsi"
      },
      "source": [
        "Because the x-y dataset contains some noise, obtained $w$ and $b$ are not exactly same as we used for creating the dataset, but they are close enough. Anyway we can make a fitting line with the obtained parameters of $w$ and $b$."
      ]
    },
    {
      "cell_type": "code",
      "metadata": {
        "colab": {
          "base_uri": "https://localhost:8080/",
          "height": 279
        },
        "id": "7KIJCGZ_5KD8",
        "outputId": "1275fefd-78bc-44b9-9c3b-ec4bc1f0023d"
      },
      "source": [
        "y_fit = w*x + b\n",
        "\n",
        "plt.plot(x, y, marker=\"o\", lw=0, label=\"dataset\")\n",
        "plt.plot(x, y_fit, lw=2, label=\"fit\")\n",
        "plt.xlabel(\"x\")\n",
        "plt.ylabel(\"y\")\n",
        "plt.legend()\n",
        "plt.grid()"
      ],
      "execution_count": 4,
      "outputs": [
        {
          "output_type": "display_data",
          "data": {
            "image/png": "[encoded data removed]",
            "text/plain": [
              "<Figure size 432x288 with 1 Axes>"
            ]
          },
          "metadata": {
            "needs_background": "light"
          }
        }
      ]
    },
    {
      "cell_type": "markdown",
      "metadata": {
        "id": "CAT9dny8FhRW"
      },
      "source": [
        "So `np.polyfit()` works very well. But in this example we will do the same thing with PyTorch.\n",
        "\n",
        "Now we convert the dataset of $x$ and $y$ into PyTorch Tensor."
      ]
    },
    {
      "cell_type": "code",
      "metadata": {
        "id": "3mbf0APf5yYF",
        "colab": {
          "base_uri": "https://localhost:8080/"
        },
        "outputId": "4f482b92-e15f-44bc-ce97-d44916416cd0"
      },
      "source": [
        "x = torch.tensor(x)\n",
        "y = torch.tensor(y)\n",
        "\n",
        "print(type(x))\n",
        "print(type(y))"
      ],
      "execution_count": 5,
      "outputs": [
        {
          "output_type": "stream",
          "name": "stdout",
          "text": [
            "<class 'torch.Tensor'>\n",
            "<class 'torch.Tensor'>\n"
          ]
        }
      ]
    },
    {
      "cell_type": "markdown",
      "metadata": {
        "id": "GWY-KZbAJopr"
      },
      "source": [
        "Then we define a function named `model()` that predicts an output value of $y$ from an input value of $x$ with the parameters of $w$ and $b$."
      ]
    },
    {
      "cell_type": "code",
      "metadata": {
        "id": "T-FhluBo7Ea1"
      },
      "source": [
        "def model(x):\n",
        "    return w*x + b"
      ],
      "execution_count": 6,
      "outputs": []
    },
    {
      "cell_type": "markdown",
      "metadata": {
        "id": "vemQxk48K_mz"
      },
      "source": [
        "Also we define a function named `loss_func()` to calculate the mean squared error between $p$ and $y$, where $p$ is the output values, i.e. prediction, of the `model()`. This kind of function is called loss function which can be used for measuring how wrong the model prediction was."
      ]
    },
    {
      "cell_type": "markdown",
      "metadata": {
        "id": "do3Ll8sEkMb6"
      },
      "source": [
        "$\\displaystyle \\mathrm{loss} = \\mathrm{mse}(p, y) = \\frac{1}{N}\\sum_{i=0}^{N-1}(p_i-y_i)^2$"
      ]
    },
    {
      "cell_type": "code",
      "metadata": {
        "id": "BJX-xDCl7Le1"
      },
      "source": [
        "def loss_func(p, y):\n",
        "    return ((p-y)**2).mean()"
      ],
      "execution_count": 7,
      "outputs": []
    },
    {
      "cell_type": "markdown",
      "metadata": {
        "id": "MZdLCxF8NkXD"
      },
      "source": [
        "At this point we don't know what $w$ and $b$ are. So we initialize those values with arbitary numbers."
      ]
    },
    {
      "cell_type": "code",
      "metadata": {
        "id": "m_fsb7vWO6Dy"
      },
      "source": [
        "w = torch.tensor(1.0, requires_grad=True)   # you can set any number here\n",
        "b = torch.tensor(-5.0, requires_grad=True)  # you can set any number here"
      ],
      "execution_count": 8,
      "outputs": []
    },
    {
      "cell_type": "markdown",
      "metadata": {
        "id": "s_4S2EQYO8wl"
      },
      "source": [
        "Now we can make a prediction using `model()`"
      ]
    },
    {
      "cell_type": "code",
      "metadata": {
        "id": "WLHoWRI7O8Rz",
        "colab": {
          "base_uri": "https://localhost:8080/"
        },
        "outputId": "dad6ae59-e0d6-4ba6-b135-67d75d9d6de2"
      },
      "source": [
        "p = model(x)\n",
        "print(p)"
      ],
      "execution_count": 9,
      "outputs": [
        {
          "output_type": "stream",
          "name": "stdout",
          "text": [
            "tensor([-6.9090, -6.0654, -3.0937, -5.7917, -5.7115, -3.4717, -8.7601, -4.5679,\n",
            "        -0.9026, -0.9544, -2.9302, -3.7497, -3.8395, -7.7006, -7.5426, -8.9182,\n",
            "        -9.7162, -3.8657, -8.7676, -9.3101, -5.0809, -8.8078, -8.9749, -0.2524,\n",
            "        -3.7611, -4.3712, -8.9369, -0.2295, -6.7696, -8.5229, -0.8283, -3.1773,\n",
            "        -5.6613, -7.6688, -6.1523, -5.9351, -9.8551, -9.9706, -0.3591, -7.2883,\n",
            "        -3.3032, -3.3153, -2.1373, -6.0786, -3.6610, -2.5942, -7.3536, -7.2526,\n",
            "        -8.8964, -4.5438, -1.6691, -9.5263, -4.5637, -0.2657, -6.3248, -9.2647,\n",
            "        -5.9228, -8.9456, -7.5606, -0.1998, -0.6116, -3.2620, -9.8923, -5.0013,\n",
            "        -3.0208, -0.4007, -4.6110, -9.2969, -6.7807, -2.2253, -1.5715, -8.2570,\n",
            "        -6.9024, -1.8255, -2.5232, -9.5375, -9.5042, -6.2998, -2.1795, -6.5042,\n",
            "        -8.2633, -7.1963, -6.2495, -1.0211, -2.1607, -1.0974, -1.1929, -5.5332,\n",
            "        -1.1467, -0.6900, -4.4267, -7.2282, -2.0079, -3.7284, -2.0079, -3.7968,\n",
            "        -9.0650, -5.9944, -3.8666, -9.0196], dtype=torch.float64,\n",
            "       grad_fn=<AddBackward0>)\n"
          ]
        }
      ]
    },
    {
      "cell_type": "markdown",
      "metadata": {
        "id": "QtXwQ3nIttbt"
      },
      "source": [
        "Let's visualize current prediction. As we set arbitary number for $w$ and $b$, the model prediction does not fit the data well for sure."
      ]
    },
    {
      "cell_type": "code",
      "metadata": {
        "colab": {
          "base_uri": "https://localhost:8080/",
          "height": 296
        },
        "id": "7Gvw_X_MPKhL",
        "outputId": "32d2d5e7-8cde-4049-dc27-61aaa8bf7e5e"
      },
      "source": [
        "plt.plot(x, y, marker=\"o\", lw=0, label=\"data\")\n",
        "plt.plot(x, p.detach().numpy(), label=\"prediction\")\n",
        "plt.grid()\n",
        "plt.legend()\n",
        "plt.xlabel(\"x\")\n",
        "plt.ylabel(\"y\")"
      ],
      "execution_count": 10,
      "outputs": [
        {
          "output_type": "execute_result",
          "data": {
            "text/plain": [
              "Text(0, 0.5, 'y')"
            ]
          },
          "metadata": {},
          "execution_count": 10
        },
        {
          "output_type": "display_data",
          "data": {
            "image/png": "[encoded data removed]",
            "text/plain": [
              "<Figure size 432x288 with 1 Axes>"
            ]
          },
          "metadata": {
            "needs_background": "light"
          }
        }
      ]
    },
    {
      "cell_type": "markdown",
      "metadata": {
        "id": "PV7CxsLjPsnR"
      },
      "source": [
        "Then we calculate loss (mean squared error) value by using `loss_func()`. Note that the loss value is very large because $w$ and $b$ are arbitaly values and not optimized yet."
      ]
    },
    {
      "cell_type": "code",
      "metadata": {
        "colab": {
          "base_uri": "https://localhost:8080/"
        },
        "id": "EIXfD63wPzVm",
        "outputId": "b808d568-2bc9-431b-e815-9986b7e9889d"
      },
      "source": [
        "loss = loss_func(p, y)\n",
        "print(loss)"
      ],
      "execution_count": 11,
      "outputs": [
        {
          "output_type": "stream",
          "name": "stdout",
          "text": [
            "tensor(208.6528, dtype=torch.float64, grad_fn=<MeanBackward0>)\n"
          ]
        }
      ]
    },
    {
      "cell_type": "markdown",
      "metadata": {
        "id": "roLiOg-dQp_q"
      },
      "source": [
        "In order to optimize $w$ amd $b$, we need to know the gradients of loss respect to current $w$ and $b$ respectively. This can be done with `loss.backward()`. The gradients of $ \\frac{\\partial \\mathrm{loss}}{\\partial w}$ and $\\frac{\\partial \\mathrm{loss}}{\\partial b}$ can be accessed by `w.grad` and `b.grad`, respectively."
      ]
    },
    {
      "cell_type": "code",
      "metadata": {
        "colab": {
          "base_uri": "https://localhost:8080/"
        },
        "id": "kNT7UuCnQh2X",
        "outputId": "63c2de6c-53ca-44c1-e0ca-1c8b1149657c"
      },
      "source": [
        "loss.backward()\n",
        "print(w.grad)\n",
        "print(b.grad)"
      ],
      "execution_count": 12,
      "outputs": [
        {
          "output_type": "stream",
          "name": "stdout",
          "text": [
            "tensor(-71.4447)\n",
            "tensor(-13.8626)\n"
          ]
        }
      ]
    },
    {
      "cell_type": "markdown",
      "metadata": {
        "id": "DWPnNfKsTLW_"
      },
      "source": [
        "Then we can update $w$ and $b$ by using equations below where $\\eta$ is learning rate. This is a method called stochastic gradient descent (SGD).\n",
        "\n",
        "$\\displaystyle w := w - \\eta\\frac{\\partial \\mathrm{loss}}{\\partial w}$\n",
        "\n",
        "$\\displaystyle b := b - \\eta\\frac{\\partial \\mathrm{loss}}{\\partial b}$\n",
        "\n",
        "\n",
        "When we update those values we don't want to calculate the gradients. For this purpose `with torch.no_grad()` is stated at the beginning."
      ]
    },
    {
      "cell_type": "code",
      "metadata": {
        "id": "mpoxdQ0WTK9X"
      },
      "source": [
        "lr = 0.01    # define learning rate\n",
        "\n",
        "with torch.no_grad():    # disable gradients calculations\n",
        "    w -= w.grad*lr       # update w\n",
        "    b -= b.grad*lr       # update b"
      ],
      "execution_count": 13,
      "outputs": []
    },
    {
      "cell_type": "markdown",
      "metadata": {
        "id": "aen0JWycU6BN"
      },
      "source": [
        "At this point you can find the values of $w$ and $b$ are a bit closer to the true values ($w$=5.0, $b$=3.0) than the initial values."
      ]
    },
    {
      "cell_type": "code",
      "metadata": {
        "colab": {
          "base_uri": "https://localhost:8080/"
        },
        "id": "3H6yLMDgU4Yr",
        "outputId": "6a4ff8a1-416f-4db5-816b-cc1a99940186"
      },
      "source": [
        "print(w)\n",
        "print(b)"
      ],
      "execution_count": 14,
      "outputs": [
        {
          "output_type": "stream",
          "name": "stdout",
          "text": [
            "tensor(1.7144, requires_grad=True)\n",
            "tensor(-4.8614, requires_grad=True)\n"
          ]
        }
      ]
    },
    {
      "cell_type": "markdown",
      "metadata": {
        "id": "2G7G6xIpYnlk"
      },
      "source": [
        "In order to optimize $w$ and $b$ further, we repeat above process many times."
      ]
    },
    {
      "cell_type": "code",
      "metadata": {
        "colab": {
          "base_uri": "https://localhost:8080/"
        },
        "id": "oVJCrKHR7UPk",
        "outputId": "8da8cf79-e05b-4ab5-ea2f-51e970e7af26"
      },
      "source": [
        "w = torch.tensor(1.0, requires_grad=True)   # you can set any number here\n",
        "b = torch.tensor(-5.0, requires_grad=True)  # you can set any number here\n",
        "\n",
        "lr = 0.01    # learning rate \n",
        "epochs = 50  # how many times we repeat training\n",
        "\n",
        "w = torch.tensor(3.0, requires_grad=True)    # initialize w\n",
        "b = torch.tensor(-1.0, requires_grad=True)   # initialize b\n",
        "\n",
        "# empty lists for saving loss, w, b\n",
        "loss_list = []\n",
        "w_list = []\n",
        "b_list = []\n",
        "\n",
        "for epoch in range(epochs):\n",
        "\n",
        "    p = model(x)              # prediction\n",
        "    loss = loss_func(p, y)    # measure loss\n",
        "    loss.backward()           # determine gradients\n",
        "\n",
        "    with torch.no_grad():     # disable autograd\n",
        "        w -= w.grad*lr        # update w \n",
        "        b -= b.grad*lr        # update b\n",
        "        \n",
        "        w.grad.zero_() # reset gradient\n",
        "        b.grad.zero_() # reset gradient\n",
        "\n",
        "    # save loss, w, b\n",
        "    loss_list.append(loss.item())\n",
        "    w_list.append(w.item())\n",
        "    b_list.append(b.item())\n",
        "\n",
        "    print(f\"Epoch {epoch+1}, loss={loss.item():.3f}, w={w.item():.3f}, b={b.item():.3f}\")"
      ],
      "execution_count": 15,
      "outputs": [
        {
          "output_type": "stream",
          "name": "stdout",
          "text": [
            "Epoch 1, loss=59.850, w=3.368, b=-0.936\n",
            "Epoch 2, loss=47.135, w=3.669, b=-0.871\n",
            "Epoch 3, loss=38.428, w=3.917, b=-0.808\n",
            "Epoch 4, loss=32.426, w=4.121, b=-0.744\n",
            "Epoch 5, loss=28.250, w=4.288, b=-0.682\n",
            "Epoch 6, loss=25.311, w=4.426, b=-0.620\n",
            "Epoch 7, loss=23.209, w=4.539, b=-0.559\n",
            "Epoch 8, loss=21.676, w=4.632, b=-0.499\n",
            "Epoch 9, loss=20.530, w=4.708, b=-0.440\n",
            "Epoch 10, loss=19.651, w=4.771, b=-0.382\n",
            "Epoch 11, loss=18.954, w=4.823, b=-0.325\n",
            "Epoch 12, loss=18.386, w=4.866, b=-0.269\n",
            "Epoch 13, loss=17.907, w=4.901, b=-0.213\n",
            "Epoch 14, loss=17.492, w=4.930, b=-0.159\n",
            "Epoch 15, loss=17.124, w=4.954, b=-0.106\n",
            "Epoch 16, loss=16.791, w=4.974, b=-0.054\n",
            "Epoch 17, loss=16.486, w=4.990, b=-0.003\n",
            "Epoch 18, loss=16.201, w=5.004, b=0.048\n",
            "Epoch 19, loss=15.934, w=5.015, b=0.097\n",
            "Epoch 20, loss=15.682, w=5.025, b=0.145\n",
            "Epoch 21, loss=15.443, w=5.033, b=0.192\n",
            "Epoch 22, loss=15.215, w=5.039, b=0.239\n",
            "Epoch 23, loss=14.998, w=5.045, b=0.284\n",
            "Epoch 24, loss=14.790, w=5.050, b=0.329\n",
            "Epoch 25, loss=14.591, w=5.054, b=0.373\n",
            "Epoch 26, loss=14.400, w=5.057, b=0.416\n",
            "Epoch 27, loss=14.216, w=5.060, b=0.458\n",
            "Epoch 28, loss=14.041, w=5.062, b=0.499\n",
            "Epoch 29, loss=13.872, w=5.065, b=0.539\n",
            "Epoch 30, loss=13.710, w=5.066, b=0.579\n",
            "Epoch 31, loss=13.555, w=5.068, b=0.618\n",
            "Epoch 32, loss=13.405, w=5.070, b=0.656\n",
            "Epoch 33, loss=13.262, w=5.071, b=0.693\n",
            "Epoch 34, loss=13.124, w=5.072, b=0.729\n",
            "Epoch 35, loss=12.992, w=5.073, b=0.765\n",
            "Epoch 36, loss=12.865, w=5.074, b=0.800\n",
            "Epoch 37, loss=12.743, w=5.075, b=0.835\n",
            "Epoch 38, loss=12.626, w=5.076, b=0.868\n",
            "Epoch 39, loss=12.513, w=5.077, b=0.902\n",
            "Epoch 40, loss=12.405, w=5.078, b=0.934\n",
            "Epoch 41, loss=12.301, w=5.078, b=0.966\n",
            "Epoch 42, loss=12.201, w=5.079, b=0.997\n",
            "Epoch 43, loss=12.105, w=5.080, b=1.027\n",
            "Epoch 44, loss=12.013, w=5.080, b=1.057\n",
            "Epoch 45, loss=11.925, w=5.081, b=1.086\n",
            "Epoch 46, loss=11.840, w=5.081, b=1.115\n",
            "Epoch 47, loss=11.759, w=5.082, b=1.143\n",
            "Epoch 48, loss=11.680, w=5.083, b=1.171\n",
            "Epoch 49, loss=11.605, w=5.083, b=1.198\n",
            "Epoch 50, loss=11.533, w=5.084, b=1.224\n"
          ]
        }
      ]
    },
    {
      "cell_type": "markdown",
      "metadata": {
        "id": "P7wmY5X4VF8I"
      },
      "source": [
        "Now you see $w$ is close to 5.0 and $b$ is close to 3.0."
      ]
    },
    {
      "cell_type": "markdown",
      "metadata": {
        "id": "prLVOe3NUHXZ"
      },
      "source": [
        "Let's visualize how the loss value decreased."
      ]
    },
    {
      "cell_type": "code",
      "metadata": {
        "colab": {
          "base_uri": "https://localhost:8080/",
          "height": 279
        },
        "id": "jKNMYl8W-YPu",
        "outputId": "30448554-69d9-4243-cc15-76fff1ae1cf7"
      },
      "source": [
        "plt.plot(np.arange(epochs)+1, loss_list)\n",
        "plt.xlabel(\"Epochs\")\n",
        "plt.ylabel(\"Loss\")\n",
        "plt.grid()"
      ],
      "execution_count": 16,
      "outputs": [
        {
          "output_type": "display_data",
          "data": {
            "image/png": "[encoded data removed]",
            "text/plain": [
              "<Figure size 432x288 with 1 Axes>"
            ]
          },
          "metadata": {
            "needs_background": "light"
          }
        }
      ]
    },
    {
      "cell_type": "markdown",
      "metadata": {
        "id": "SuWi5tIEUNty"
      },
      "source": [
        "Let's visualize how the `w` value updated with epochs."
      ]
    },
    {
      "cell_type": "code",
      "metadata": {
        "colab": {
          "base_uri": "https://localhost:8080/",
          "height": 279
        },
        "id": "7g9-IoVMT5dB",
        "outputId": "30db98d3-19f4-4b75-d24e-461f50b25439"
      },
      "source": [
        "plt.plot(np.arange(epochs)+1, w_list)\n",
        "plt.xlabel(\"Epochs\")\n",
        "plt.ylabel(\"w\")\n",
        "plt.grid()"
      ],
      "execution_count": 17,
      "outputs": [
        {
          "output_type": "display_data",
          "data": {
            "image/png": "[encoded data removed]",
            "text/plain": [
              "<Figure size 432x288 with 1 Axes>"
            ]
          },
          "metadata": {
            "needs_background": "light"
          }
        }
      ]
    },
    {
      "cell_type": "markdown",
      "metadata": {
        "id": "8NimP-NFUW7p"
      },
      "source": [
        "Let's visualize how the `b` value updated with epochs."
      ]
    },
    {
      "cell_type": "code",
      "metadata": {
        "colab": {
          "base_uri": "https://localhost:8080/",
          "height": 279
        },
        "id": "1hgnOPXWUA_p",
        "outputId": "01ee9c3f-9627-436d-81d2-47c4f7febcc8"
      },
      "source": [
        "plt.plot(np.arange(epochs)+1, b_list)\n",
        "plt.xlabel(\"Epochs\")\n",
        "plt.ylabel(\"b\")\n",
        "plt.grid()"
      ],
      "execution_count": 18,
      "outputs": [
        {
          "output_type": "display_data",
          "data": {
            "image/png": "[encoded data removed]",
            "text/plain": [
              "<Figure size 432x288 with 1 Axes>"
            ]
          },
          "metadata": {
            "needs_background": "light"
          }
        }
      ]
    },
    {
      "cell_type": "code",
      "metadata": {
        "colab": {
          "base_uri": "https://localhost:8080/",
          "height": 296
        },
        "id": "bYXitcRHQQ9L",
        "outputId": "35704e3d-7874-4610-ce20-c924a8a57ba3"
      },
      "source": [
        "plt.plot(x, y, marker=\"o\", lw=0, label=\"dataset\")\n",
        "plt.plot(x, p.detach().numpy(), label=\"prediction\")\n",
        "plt.grid()\n",
        "plt.legend()\n",
        "plt.xlabel(\"x\")\n",
        "plt.ylabel(\"y\")"
      ],
      "execution_count": 19,
      "outputs": [
        {
          "output_type": "execute_result",
          "data": {
            "text/plain": [
              "Text(0, 0.5, 'y')"
            ]
          },
          "metadata": {},
          "execution_count": 19
        },
        {
          "output_type": "display_data",
          "data": {
            "image/png": "[encoded data removed]",
            "text/plain": [
              "<Figure size 432x288 with 1 Axes>"
            ]
          },
          "metadata": {
            "needs_background": "light"
          }
        }
      ]
    },
    {
      "cell_type": "markdown",
      "metadata": {
        "id": "iU83IdbgUqfo"
      },
      "source": [
        "Now you can try to change initial values of `epochs`, `lr`, `w`, `b` etc. and see what happens."
      ]
    }
  ]
}