{
  "nbformat": 4,
  "nbformat_minor": 0,
  "metadata": {
    "colab": {
      "name": "Week03_Introduction_to_PyTorch_with_Answer.ipynb",
      "provenance": [],
      "collapsed_sections": [],
      "authorship_tag": "ABX9TyNiYdJjDP//5M2N3AVzVxcj",
      "include_colab_link": true
    },
    "kernelspec": {
      "name": "python3",
      "display_name": "Python 3"
    },
    "language_info": {
      "name": "python"
    }
  },
  "cells": [
    {
      "cell_type": "markdown",
      "metadata": {
        "id": "view-in-github",
        "colab_type": "text"
      },
      "source": [
        "<a href=\"https://colab.research.google.com/github/naoya1110/nitkc-ncku-ai-robotics/blob/main/Week03_Introduction_to_PyTorch_with_Answer.ipynb\" target=\"_parent\"><img src=\"https://colab.research.google.com/assets/colab-badge.svg\" alt=\"Open In Colab\"/></a>"
      ]
    },
    {
      "cell_type": "markdown",
      "metadata": {
        "id": "lp3-fTEk3CXr"
      },
      "source": [
        "# NCKU-NITKC AI Robotics Lab - Week 03\n",
        "\n",
        "In this AI Robotics Lab course, we will be using PyTorch for implementing deep neural networks. In this notebook we will learn basic functions of PyTorch. So let's get used to it.\n",
        "\n",
        "\n",
        "*If you are not familier with basic Python programming, you may want to go through some other tutorials such as\n",
        "\n",
        "https://colab.research.google.com/github/cs231n/cs231n.github.io/blob/master/python-colab.ipynb"
      ]
    },
    {
      "cell_type": "markdown",
      "metadata": {
        "id": "TXeweKspo2c2"
      },
      "source": [
        "## Torch.Tensor\n",
        "First we need to import PyTorch."
      ]
    },
    {
      "cell_type": "code",
      "metadata": {
        "id": "2iNt9kVFhkVq"
      },
      "source": [
        "import torch"
      ],
      "execution_count": 36,
      "outputs": []
    },
    {
      "cell_type": "markdown",
      "metadata": {
        "id": "amh_RRDe5YCu"
      },
      "source": [
        "PyTorch handles multi-dimensional array data as `torch.tensor`. To make a `torch.tensor` data, we pass a Python `list` data to `torch.tensor()`."
      ]
    },
    {
      "cell_type": "code",
      "metadata": {
        "id": "tCi4UpU6iaEQ",
        "colab": {
          "base_uri": "https://localhost:8080/"
        },
        "outputId": "e4961688-841b-4336-84bc-fbd62027aa00"
      },
      "source": [
        "a = [1, 2, 3]           # create list named \"a\"\n",
        "\n",
        "print(a)                # show \"a\"\n",
        "print(type(a))          # show data type of \"a\""
      ],
      "execution_count": 37,
      "outputs": [
        {
          "output_type": "stream",
          "name": "stdout",
          "text": [
            "[1, 2, 3]\n",
            "<class 'list'>\n"
          ]
        }
      ]
    },
    {
      "cell_type": "code",
      "metadata": {
        "id": "dwRCeeZL6ZPt",
        "colab": {
          "base_uri": "https://localhost:8080/"
        },
        "outputId": "70df67da-18f0-497b-9002-350b740aaf1e"
      },
      "source": [
        "a = torch.tensor(a)     # convert list \"a\" to torch.tensor \"a\"\n",
        "\n",
        "print(a)\n",
        "print(type(a))"
      ],
      "execution_count": 38,
      "outputs": [
        {
          "output_type": "stream",
          "name": "stdout",
          "text": [
            "tensor([1, 2, 3])\n",
            "<class 'torch.Tensor'>\n"
          ]
        }
      ]
    },
    {
      "cell_type": "markdown",
      "metadata": {
        "id": "FclCLLUg6iZq"
      },
      "source": [
        "Also a `torch.tensor` data can be made from a `numpy.ndarray` data."
      ]
    },
    {
      "cell_type": "code",
      "metadata": {
        "id": "OY_t_qCkgLFR",
        "colab": {
          "base_uri": "https://localhost:8080/"
        },
        "outputId": "f84ed1bf-e994-4af3-c75e-7404045e9b81"
      },
      "source": [
        "import numpy as np               # import Numpy package, \"np\" is abbreviation for numpy\n",
        "\n",
        "b = np.array([0.4, 0.5, 0.6])    # create a np.ndarray named \"b\"\n",
        "b = torch.tensor(b)              # convert np.ndarry \"b\" to torch.tensor \"b\"\n",
        "\n",
        "print(b)\n",
        "print(type(b))"
      ],
      "execution_count": 39,
      "outputs": [
        {
          "output_type": "stream",
          "name": "stdout",
          "text": [
            "tensor([0.4000, 0.5000, 0.6000], dtype=torch.float64)\n",
            "<class 'torch.Tensor'>\n"
          ]
        }
      ]
    },
    {
      "cell_type": "markdown",
      "metadata": {
        "id": "IScSA6AF88v6"
      },
      "source": [
        "It is also possible to convert a `torch.tensor` to a `numpy.ndarray`."
      ]
    },
    {
      "cell_type": "code",
      "metadata": {
        "id": "OOrCjtoa88MJ",
        "colab": {
          "base_uri": "https://localhost:8080/"
        },
        "outputId": "6ffa9e23-13c9-4ff4-d4cb-9e1a867598cf"
      },
      "source": [
        "c = b.numpy()        # convert torch.tensor data \"b\" to np.ndarray data \"c\"\n",
        "\n",
        "print(c)\n",
        "print(type(c))"
      ],
      "execution_count": 40,
      "outputs": [
        {
          "output_type": "stream",
          "name": "stdout",
          "text": [
            "[0.4 0.5 0.6]\n",
            "<class 'numpy.ndarray'>\n"
          ]
        }
      ]
    },
    {
      "cell_type": "markdown",
      "metadata": {
        "id": "GanF3Gg0CJ_J"
      },
      "source": [
        "To know the shape of torch.tensor data, there are 2 different ways. One is `.shape` and the other is `.size()` but they return same result."
      ]
    },
    {
      "cell_type": "code",
      "metadata": {
        "id": "WwgqCsOkCSbK",
        "colab": {
          "base_uri": "https://localhost:8080/"
        },
        "outputId": "66a58296-f54b-408f-b709-5f2cd6c09c81"
      },
      "source": [
        "a = torch.tensor([1, 2, 3])\n",
        "print(a.shape)\n",
        "print(a.size())"
      ],
      "execution_count": 41,
      "outputs": [
        {
          "output_type": "stream",
          "name": "stdout",
          "text": [
            "torch.Size([3])\n",
            "torch.Size([3])\n"
          ]
        }
      ]
    },
    {
      "cell_type": "markdown",
      "metadata": {
        "id": "2QWTZQTy76Av"
      },
      "source": [
        "## Simple Calculations\n",
        "\n",
        "Let's do some simple arithmetic operations with a `torch.tensor` and a number."
      ]
    },
    {
      "cell_type": "code",
      "metadata": {
        "id": "BQMs27Ky6huP",
        "colab": {
          "base_uri": "https://localhost:8080/"
        },
        "outputId": "8768ef1b-1068-4883-e214-2ff8bd423ecb"
      },
      "source": [
        "a = torch.tensor([1, 2, 3])\n",
        "print(\"a =\", a)\n",
        "\n",
        "print(\"a+1=\", a+1)    # addition\n",
        "print(\"a-2=\", a-2)    # subtraction\n",
        "print(\"a*3=\", a*3)    # multiplication\n",
        "print(\"a/4=\", a/4)    # division"
      ],
      "execution_count": 42,
      "outputs": [
        {
          "output_type": "stream",
          "name": "stdout",
          "text": [
            "a = tensor([1, 2, 3])\n",
            "a+1= tensor([2, 3, 4])\n",
            "a-2= tensor([-1,  0,  1])\n",
            "a*3= tensor([3, 6, 9])\n",
            "a/4= tensor([0.2500, 0.5000, 0.7500])\n"
          ]
        }
      ]
    },
    {
      "cell_type": "markdown",
      "metadata": {
        "id": "KR3Hze5ux40x"
      },
      "source": [
        "operations with two `torch.tensor`s."
      ]
    },
    {
      "cell_type": "code",
      "metadata": {
        "id": "t3sRUzEN8M5b",
        "colab": {
          "base_uri": "https://localhost:8080/"
        },
        "outputId": "5b7b195b-b06b-460b-bc06-59fe5d56f248"
      },
      "source": [
        "a = torch.tensor([1, 2, 3])\n",
        "b = torch.tensor([0.4, 0.5, 0.6])\n",
        "\n",
        "print(\"a =\", a)\n",
        "print(\"b =\", b)\n",
        "\n",
        "print(\"a+b=\", a+b)\n",
        "print(\"a-b=\", a-b)\n",
        "print(\"a*b=\", a*b)\n",
        "print(\"a/b=\", a/b)"
      ],
      "execution_count": 43,
      "outputs": [
        {
          "output_type": "stream",
          "name": "stdout",
          "text": [
            "a = tensor([1, 2, 3])\n",
            "b = tensor([0.4000, 0.5000, 0.6000])\n",
            "a+b= tensor([1.4000, 2.5000, 3.6000])\n",
            "a-b= tensor([0.6000, 1.5000, 2.4000])\n",
            "a*b= tensor([0.4000, 1.0000, 1.8000])\n",
            "a/b= tensor([2.5000, 4.0000, 5.0000])\n"
          ]
        }
      ]
    },
    {
      "cell_type": "markdown",
      "metadata": {
        "id": "SdgTI4FS9nSA"
      },
      "source": [
        "## PyTorch and Numpy\n",
        "\n",
        "Since PyTorch is based on Numpy, they have a lot of similarities. If you are already familier with Numpy, you might feel confortable with PyTorch as well. Let's see some examples."
      ]
    },
    {
      "cell_type": "markdown",
      "metadata": {
        "id": "41so0Zm8_MLZ"
      },
      "source": [
        "**Zeros Array** - all zero array with given shape"
      ]
    },
    {
      "cell_type": "code",
      "metadata": {
        "id": "vyJZEQdDkSYp",
        "colab": {
          "base_uri": "https://localhost:8080/"
        },
        "outputId": "398f137a-d6f9-472d-ee37-2b0637a533e5"
      },
      "source": [
        "np.zeros(3)    # 1D np.ndarray of 3 zeros"
      ],
      "execution_count": 44,
      "outputs": [
        {
          "output_type": "execute_result",
          "data": {
            "text/plain": [
              "array([0., 0., 0.])"
            ]
          },
          "metadata": {},
          "execution_count": 44
        }
      ]
    },
    {
      "cell_type": "code",
      "metadata": {
        "id": "ewQFFBZvhsLO",
        "colab": {
          "base_uri": "https://localhost:8080/"
        },
        "outputId": "6c882e34-65fa-4898-dcd1-7fde9fd04537"
      },
      "source": [
        "torch.zeros(3) # 1D torch.tensor of 3 zeros"
      ],
      "execution_count": 45,
      "outputs": [
        {
          "output_type": "execute_result",
          "data": {
            "text/plain": [
              "tensor([0., 0., 0.])"
            ]
          },
          "metadata": {},
          "execution_count": 45
        }
      ]
    },
    {
      "cell_type": "code",
      "metadata": {
        "id": "c2TCbmXzHMwI",
        "colab": {
          "base_uri": "https://localhost:8080/"
        },
        "outputId": "013df977-adb0-4aec-fd4d-37948264c870"
      },
      "source": [
        "torch.zeros((2, 3)) # 2D torch.tensor of 2x3 zeros"
      ],
      "execution_count": 46,
      "outputs": [
        {
          "output_type": "execute_result",
          "data": {
            "text/plain": [
              "tensor([[0., 0., 0.],\n",
              "        [0., 0., 0.]])"
            ]
          },
          "metadata": {},
          "execution_count": 46
        }
      ]
    },
    {
      "cell_type": "markdown",
      "metadata": {
        "id": "XViCDzHK_Phe"
      },
      "source": [
        "**Ones Array** - all one array with given shape"
      ]
    },
    {
      "cell_type": "code",
      "metadata": {
        "id": "g45dgf4Vk1-W",
        "colab": {
          "base_uri": "https://localhost:8080/"
        },
        "outputId": "b30ac01a-7b0a-4918-f618-1590fa93020a"
      },
      "source": [
        "np.ones(5)"
      ],
      "execution_count": 47,
      "outputs": [
        {
          "output_type": "execute_result",
          "data": {
            "text/plain": [
              "array([1., 1., 1., 1., 1.])"
            ]
          },
          "metadata": {},
          "execution_count": 47
        }
      ]
    },
    {
      "cell_type": "code",
      "metadata": {
        "id": "wL64K2wb-J6s",
        "colab": {
          "base_uri": "https://localhost:8080/"
        },
        "outputId": "ea4cc051-9a17-4ef8-f9d2-5d421bf3e76f"
      },
      "source": [
        "torch.ones(5)"
      ],
      "execution_count": 48,
      "outputs": [
        {
          "output_type": "execute_result",
          "data": {
            "text/plain": [
              "tensor([1., 1., 1., 1., 1.])"
            ]
          },
          "metadata": {},
          "execution_count": 48
        }
      ]
    },
    {
      "cell_type": "markdown",
      "metadata": {
        "id": "um9Kdk8V_qIy"
      },
      "source": [
        "**Random Number Array** - an array of rundom numbers between 0.0 and 1.0 with given shape"
      ]
    },
    {
      "cell_type": "code",
      "metadata": {
        "id": "XxuC3DwclKoE",
        "colab": {
          "base_uri": "https://localhost:8080/"
        },
        "outputId": "6bf913af-ac88-4095-d547-e83ab7670cd0"
      },
      "source": [
        "np.random.rand(3)"
      ],
      "execution_count": 49,
      "outputs": [
        {
          "output_type": "execute_result",
          "data": {
            "text/plain": [
              "array([0.0063031 , 0.44664481, 0.87148433])"
            ]
          },
          "metadata": {},
          "execution_count": 49
        }
      ]
    },
    {
      "cell_type": "code",
      "metadata": {
        "id": "Epe4Tk_6-PFn",
        "colab": {
          "base_uri": "https://localhost:8080/"
        },
        "outputId": "2179ffb3-4ab1-4d2e-f96e-2c098705dee9"
      },
      "source": [
        "torch.rand(3)"
      ],
      "execution_count": 50,
      "outputs": [
        {
          "output_type": "execute_result",
          "data": {
            "text/plain": [
              "tensor([0.2755, 0.1680, 0.6739])"
            ]
          },
          "metadata": {},
          "execution_count": 50
        }
      ]
    },
    {
      "cell_type": "markdown",
      "metadata": {
        "id": "1xErEqhS_UK_"
      },
      "source": [
        "**Arange Array** - 1D array with evenly spaced values"
      ]
    },
    {
      "cell_type": "code",
      "metadata": {
        "id": "D8uf-3lgk6FK",
        "colab": {
          "base_uri": "https://localhost:8080/"
        },
        "outputId": "2c625218-1d07-4d57-a4f7-12c68d36ea70"
      },
      "source": [
        "np.arange(0, 5, 1)    # np.arange(start, stop, step) --- stop will not be included"
      ],
      "execution_count": 51,
      "outputs": [
        {
          "output_type": "execute_result",
          "data": {
            "text/plain": [
              "array([0, 1, 2, 3, 4])"
            ]
          },
          "metadata": {},
          "execution_count": 51
        }
      ]
    },
    {
      "cell_type": "code",
      "metadata": {
        "id": "mJMTsPNn-o5_",
        "colab": {
          "base_uri": "https://localhost:8080/"
        },
        "outputId": "8bb80598-d0df-4323-8726-072da1946cde"
      },
      "source": [
        "torch.arange(0, 5, 1)"
      ],
      "execution_count": 52,
      "outputs": [
        {
          "output_type": "execute_result",
          "data": {
            "text/plain": [
              "tensor([0, 1, 2, 3, 4])"
            ]
          },
          "metadata": {},
          "execution_count": 52
        }
      ]
    },
    {
      "cell_type": "code",
      "metadata": {
        "id": "35Gv_cjGHopY",
        "colab": {
          "base_uri": "https://localhost:8080/"
        },
        "outputId": "1c256828-53a3-4b4b-bb69-578a67e94bb5"
      },
      "source": [
        "torch.arange(5)     # start and step parameters can be omitted"
      ],
      "execution_count": 53,
      "outputs": [
        {
          "output_type": "execute_result",
          "data": {
            "text/plain": [
              "tensor([0, 1, 2, 3, 4])"
            ]
          },
          "metadata": {},
          "execution_count": 53
        }
      ]
    },
    {
      "cell_type": "markdown",
      "metadata": {
        "id": "1m-AEvuAABNN"
      },
      "source": [
        "**Slicing/Indexing** - take a part of data from original array by specifying indexes"
      ]
    },
    {
      "cell_type": "code",
      "metadata": {
        "id": "dAR_SciliEd0",
        "colab": {
          "base_uri": "https://localhost:8080/"
        },
        "outputId": "dfc431ec-4a7e-499f-d17d-3feba47aad7f"
      },
      "source": [
        "a = np.arange(10) \n",
        "print(a)\n",
        "print(a[2:5])    # take data from index 2 to before index 5"
      ],
      "execution_count": 54,
      "outputs": [
        {
          "output_type": "stream",
          "name": "stdout",
          "text": [
            "[0 1 2 3 4 5 6 7 8 9]\n",
            "[2 3 4]\n"
          ]
        }
      ]
    },
    {
      "cell_type": "code",
      "metadata": {
        "id": "RVPtoMeslvhq",
        "colab": {
          "base_uri": "https://localhost:8080/"
        },
        "outputId": "769ec142-8235-4003-f933-cf82be21a58c"
      },
      "source": [
        "a = torch.arange(10)\n",
        "print(a)\n",
        "print(a[2:5])    # take data from index 2 to before index 5"
      ],
      "execution_count": 55,
      "outputs": [
        {
          "output_type": "stream",
          "name": "stdout",
          "text": [
            "tensor([0, 1, 2, 3, 4, 5, 6, 7, 8, 9])\n",
            "tensor([2, 3, 4])\n"
          ]
        }
      ]
    },
    {
      "cell_type": "code",
      "metadata": {
        "id": "-k2H6sqvJNIo",
        "colab": {
          "base_uri": "https://localhost:8080/"
        },
        "outputId": "06115bc0-fb4c-4e86-b902-4d781385e82a"
      },
      "source": [
        "a = torch.arange(100).view(10,10)    # 10x10 torch.tensor\n",
        "print(a)\n",
        "print(a[1:3, 4:8])   # take 2D data from 10x10 torch.tensor"
      ],
      "execution_count": 56,
      "outputs": [
        {
          "output_type": "stream",
          "name": "stdout",
          "text": [
            "tensor([[ 0,  1,  2,  3,  4,  5,  6,  7,  8,  9],\n",
            "        [10, 11, 12, 13, 14, 15, 16, 17, 18, 19],\n",
            "        [20, 21, 22, 23, 24, 25, 26, 27, 28, 29],\n",
            "        [30, 31, 32, 33, 34, 35, 36, 37, 38, 39],\n",
            "        [40, 41, 42, 43, 44, 45, 46, 47, 48, 49],\n",
            "        [50, 51, 52, 53, 54, 55, 56, 57, 58, 59],\n",
            "        [60, 61, 62, 63, 64, 65, 66, 67, 68, 69],\n",
            "        [70, 71, 72, 73, 74, 75, 76, 77, 78, 79],\n",
            "        [80, 81, 82, 83, 84, 85, 86, 87, 88, 89],\n",
            "        [90, 91, 92, 93, 94, 95, 96, 97, 98, 99]])\n",
            "tensor([[14, 15, 16, 17],\n",
            "        [24, 25, 26, 27]])\n"
          ]
        }
      ]
    },
    {
      "cell_type": "markdown",
      "metadata": {
        "id": "tPblm8JmEE1B"
      },
      "source": [
        "**Reshaping** \n",
        "\n",
        "In order to reshape the `numpy.ndarray`, we can use `.reshape()`."
      ]
    },
    {
      "cell_type": "code",
      "metadata": {
        "id": "-UzSo7ajiJGN",
        "colab": {
          "base_uri": "https://localhost:8080/"
        },
        "outputId": "3eca2ba3-b897-47fb-ba03-efabbe0e3ac4"
      },
      "source": [
        "a = np.arange(10) # 1D data\n",
        "a.reshape(2,5)    # reshape data into 2x5 np.ndarray"
      ],
      "execution_count": 57,
      "outputs": [
        {
          "output_type": "execute_result",
          "data": {
            "text/plain": [
              "array([[0, 1, 2, 3, 4],\n",
              "       [5, 6, 7, 8, 9]])"
            ]
          },
          "metadata": {},
          "execution_count": 57
        }
      ]
    },
    {
      "cell_type": "markdown",
      "metadata": {
        "id": "q1TGVrNszb7d"
      },
      "source": [
        "In PyTorch we need to use `.view()` instead of `.reshape()`."
      ]
    },
    {
      "cell_type": "code",
      "metadata": {
        "id": "rK5JSboHETjP",
        "colab": {
          "base_uri": "https://localhost:8080/"
        },
        "outputId": "4d498fe3-48ee-4d27-f8fa-9f6fbc34ca96"
      },
      "source": [
        "a = torch.arange(10)\n",
        "a.view(2,5)   # reshape data into 2x5 torch.tensor"
      ],
      "execution_count": 58,
      "outputs": [
        {
          "output_type": "execute_result",
          "data": {
            "text/plain": [
              "tensor([[0, 1, 2, 3, 4],\n",
              "        [5, 6, 7, 8, 9]])"
            ]
          },
          "metadata": {},
          "execution_count": 58
        }
      ]
    },
    {
      "cell_type": "markdown",
      "metadata": {
        "id": "BrqFpnM_DRDa"
      },
      "source": [
        "**Argmax** - returns the index of element with the maximum value in given data"
      ]
    },
    {
      "cell_type": "code",
      "metadata": {
        "id": "6CDgTCGzleaA",
        "colab": {
          "base_uri": "https://localhost:8080/"
        },
        "outputId": "179cd977-6b12-4c55-9105-e33f1d5e8e57"
      },
      "source": [
        "a = np.random.rand(5)\n",
        "\n",
        "print(\"a=\", a)\n",
        "print(\"argmax(a) =\", np.argmax(a))    # Remenber: index number starts from 0 in Python"
      ],
      "execution_count": 59,
      "outputs": [
        {
          "output_type": "stream",
          "name": "stdout",
          "text": [
            "a= [0.09005914 0.72343934 0.25995967 0.47883614 0.56590859]\n",
            "argmax(a) = 1\n"
          ]
        }
      ]
    },
    {
      "cell_type": "code",
      "metadata": {
        "id": "dTSKNliMDSMA",
        "colab": {
          "base_uri": "https://localhost:8080/"
        },
        "outputId": "6a7097c8-3b28-46c4-aa87-c89adcaac7c3"
      },
      "source": [
        "a = torch.rand(5)\n",
        "\n",
        "print(\"a=\", a)\n",
        "print(\"argmax(a) =\", torch.argmax(a))"
      ],
      "execution_count": 60,
      "outputs": [
        {
          "output_type": "stream",
          "name": "stdout",
          "text": [
            "a= tensor([0.4743, 0.4548, 0.6001, 0.0029, 0.2232])\n",
            "argmax(a) = tensor(2)\n"
          ]
        }
      ]
    },
    {
      "cell_type": "markdown",
      "metadata": {
        "id": "TACcs9ikbTav"
      },
      "source": [
        "**Practice**\n",
        "\n",
        "Draw a graph of $y=sin(x)$ by using PyTorch and Matplotlib, but not Numpy."
      ]
    },
    {
      "cell_type": "code",
      "metadata": {
        "id": "DtmtbEPGevub",
        "colab": {
          "base_uri": "https://localhost:8080/",
          "height": 282
        },
        "outputId": "97e82740-42f6-47ad-85b9-ca70e061d6db"
      },
      "source": [
        "# WRITE YOUR CODE HERE\n",
        "import matplotlib.pyplot as plt   # import Matplotlib\n",
        "\n",
        "x = torch.arange(0, 10, 0.1)      # define x\n",
        "y = torch.sin(x)                  # determine sin(x)\n",
        "\n",
        "plt.plot(x, y)                    # plot x-y"
      ],
      "execution_count": 61,
      "outputs": [
        {
          "output_type": "execute_result",
          "data": {
            "text/plain": [
              "[<matplotlib.lines.Line2D at 0x7f81c04e7f10>]"
            ]
          },
          "metadata": {},
          "execution_count": 61
        },
        {
          "output_type": "display_data",
          "data": {
            "image/png": "[encoded data removed]",
            "text/plain": [
              "<Figure size 432x288 with 1 Axes>"
            ]
          },
          "metadata": {
            "needs_background": "light"
          }
        }
      ]
    },
    {
      "cell_type": "markdown",
      "metadata": {
        "id": "cjMYEqSyEmVe"
      },
      "source": [
        "## AutoGrad\n",
        "One of the most important features of PyTorch is automatic differentiation package `torch.autograd`. PyTorch performs calculations using computation graphs, and this allows us to access the gradients of outputs with respect to the inputs. This is the key for training neural networks.\n",
        "\n",
        "Let's see a simple example of $y=2x+5$, where $x$ is input and $y$ is output.\n",
        "\n",
        "In order to enable` torch.autograd` function, we need to set parameters of input `x` as `dtype=torch.float32`,  `requires_grad=True`."
      ]
    },
    {
      "cell_type": "code",
      "metadata": {
        "id": "3p0UxGo6jjYf",
        "colab": {
          "base_uri": "https://localhost:8080/"
        },
        "outputId": "ac65e893-63b9-4173-c8c8-aaeaeb45edb6"
      },
      "source": [
        "x = torch.tensor(3.0, dtype=torch.float32, requires_grad=True)\n",
        "y = 2*x + 5\n",
        "print(\"y=\", y)"
      ],
      "execution_count": 62,
      "outputs": [
        {
          "output_type": "stream",
          "name": "stdout",
          "text": [
            "y= tensor(11., grad_fn=<AddBackward0>)\n"
          ]
        }
      ]
    },
    {
      "cell_type": "markdown",
      "metadata": {
        "id": "VyW7S_k5Zk0A"
      },
      "source": [
        "By the way `y` is a torch.tensor data. You can take the value of `y` by `y.item()`."
      ]
    },
    {
      "cell_type": "code",
      "metadata": {
        "id": "uTpwq-vBZibA",
        "colab": {
          "base_uri": "https://localhost:8080/"
        },
        "outputId": "b83f665b-03d8-47de-b7f8-8868b147afad"
      },
      "source": [
        "y.item()"
      ],
      "execution_count": 63,
      "outputs": [
        {
          "output_type": "execute_result",
          "data": {
            "text/plain": [
              "11.0"
            ]
          },
          "metadata": {},
          "execution_count": 63
        }
      ]
    },
    {
      "cell_type": "markdown",
      "metadata": {
        "id": "4GPBCOJUNeX4"
      },
      "source": [
        "The gradients of `y` is calculated by `y.backward()`"
      ]
    },
    {
      "cell_type": "code",
      "metadata": {
        "id": "6aV0uFOBMxv1"
      },
      "source": [
        "y.backward()"
      ],
      "execution_count": 64,
      "outputs": []
    },
    {
      "cell_type": "markdown",
      "metadata": {
        "id": "dorxjIugOLJd"
      },
      "source": [
        "Now the gradient of `y` respect to `x`, namely $dy/dx$, can be accessed by `x.grad`."
      ]
    },
    {
      "cell_type": "code",
      "metadata": {
        "id": "OALTZ7JJNX4l",
        "colab": {
          "base_uri": "https://localhost:8080/"
        },
        "outputId": "39990319-5c87-4eb4-d77d-aa1546e06e26"
      },
      "source": [
        "print(\"dy/dx =\", x.grad)"
      ],
      "execution_count": 65,
      "outputs": [
        {
          "output_type": "stream",
          "name": "stdout",
          "text": [
            "dy/dx = tensor(2.)\n"
          ]
        }
      ]
    },
    {
      "cell_type": "markdown",
      "metadata": {
        "id": "ah3ijRIWkcRW"
      },
      "source": [
        "**Practice**\n",
        "\n",
        "\n",
        "1.   Define a new `torch.tensor` $x=5.0$\n",
        "2.   Do calculation of $y=x^2 + 3x + 1$\n",
        "3.   Determine the gradient of $dy/dx$ and check if that is correct."
      ]
    },
    {
      "cell_type": "code",
      "metadata": {
        "id": "frllAWONlULP",
        "colab": {
          "base_uri": "https://localhost:8080/"
        },
        "outputId": "53d33e4c-e2c1-4a42-c546-c9135d73cad0"
      },
      "source": [
        "# WRITE YOUR CODE HERE\n",
        "x = torch.tensor(5.0, dtype=torch.float32, requires_grad=True)\n",
        "y = x**2 + 3*x + 1\n",
        "y.backward()\n",
        "print(\"dy/dx =\", x.grad)"
      ],
      "execution_count": 66,
      "outputs": [
        {
          "output_type": "stream",
          "name": "stdout",
          "text": [
            "dy/dx = tensor(13.)\n"
          ]
        }
      ]
    },
    {
      "cell_type": "markdown",
      "metadata": {
        "id": "dBAONFRxnU05"
      },
      "source": [
        "**Practice**\n",
        "\n",
        "\n",
        "1.   Define a new `torch.tensor` $x=3.0$ and $y=2.0$\n",
        "2.   Do calculation of $z=x^2 + 2y^3$\n",
        "3.   Determine the partial gradients of $\\partial z/\\partial x$, $\\partial z/\\partial y$"
      ]
    },
    {
      "cell_type": "code",
      "metadata": {
        "id": "12oprH7wOo7Q",
        "colab": {
          "base_uri": "https://localhost:8080/"
        },
        "outputId": "105a4228-e779-4f97-d4e4-33895e240a5c"
      },
      "source": [
        "# WRITE YOUR CODE HERE\n",
        "x = torch.tensor(3.0, dtype=torch.float32, requires_grad=True)\n",
        "y = torch.tensor(2.0, dtype=torch.float32, requires_grad=True)\n",
        "z = x**2 + 2*y**3\n",
        "z.backward()\n",
        "print(\"dz/dx =\", x.grad)\n",
        "print(\"dz/dy =\", y.grad)"
      ],
      "execution_count": 67,
      "outputs": [
        {
          "output_type": "stream",
          "name": "stdout",
          "text": [
            "dz/dx = tensor(6.)\n",
            "dz/dy = tensor(24.)\n"
          ]
        }
      ]
    },
    {
      "cell_type": "markdown",
      "metadata": {
        "id": "BioIAR-F3oDN"
      },
      "source": [
        "In deep learning the gradient values are used for optimizing parameters of neural network models by a method so-called stochastic gradient descent (SGD) method. As we have seen above, PyTorch calculates the gradients of torch.tensors automatically. This is why PyTorch is used for deep learning programming.\n",
        "\n",
        "If you are interested in how SGD works for optimizing parameters, here is an example.\n",
        "\n",
        "https://colab.research.google.com/drive/1L4wrhEZojLRWqF8Dnui5qoyxwrcK29pf?usp=sharing\n"
      ]
    }
  ]
}