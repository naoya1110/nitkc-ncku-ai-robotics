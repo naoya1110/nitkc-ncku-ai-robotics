{
  "nbformat": 4,
  "nbformat_minor": 0,
  "metadata": {
    "colab": {
      "name": "Week03_Introduction_to_PyTorch.ipynb",
      "provenance": [],
      "collapsed_sections": [],
      "authorship_tag": "ABX9TyOSPbyEh+Vb5/BUsxsEPAr9",
      "include_colab_link": true
    },
    "kernelspec": {
      "name": "python3",
      "display_name": "Python 3"
    },
    "language_info": {
      "name": "python"
    }
  },
  "cells": [
    {
      "cell_type": "markdown",
      "metadata": {
        "id": "view-in-github",
        "colab_type": "text"
      },
      "source": [
        "<a href=\"https://colab.research.google.com/github/naoya1110/nitkc-ncku-ai-robotics/blob/main/Week03_Introduction_to_PyTorch.ipynb\" target=\"_parent\"><img src=\"https://colab.research.google.com/assets/colab-badge.svg\" alt=\"Open In Colab\"/></a>"
      ]
    },
    {
      "cell_type": "markdown",
      "metadata": {
        "id": "lp3-fTEk3CXr"
      },
      "source": [
        "In this AI Robotics Lab course, we will be using PyTorch for implementing deep neural networks. In this notebook we will learn basic functions of PyTorch. So let's get used to it.\n",
        "\n",
        "\n",
        "*If you are not familier with basic Python programming, you may want to go through some other tutorials such as\n",
        "\n",
        "https://colab.research.google.com/github/cs231n/cs231n.github.io/blob/master/python-colab.ipynb"
      ]
    },
    {
      "cell_type": "markdown",
      "metadata": {
        "id": "TXeweKspo2c2"
      },
      "source": [
        "## Torch.Tensor\n",
        "First we need to import PyTorch."
      ]
    },
    {
      "cell_type": "code",
      "metadata": {
        "id": "2iNt9kVFhkVq"
      },
      "source": [
        "import torch"
      ],
      "execution_count": 1,
      "outputs": []
    },
    {
      "cell_type": "markdown",
      "metadata": {
        "id": "amh_RRDe5YCu"
      },
      "source": [
        "PyTorch handles multi-dimensional array data as `torch.tensor`. To make a `torch.tensor` data, we pass a Python `list` data to `torch.tensor()`."
      ]
    },
    {
      "cell_type": "code",
      "metadata": {
        "colab": {
          "base_uri": "https://localhost:8080/"
        },
        "id": "tCi4UpU6iaEQ",
        "outputId": "236d0cbf-71fd-4dee-c7c3-8b5ee09449ca"
      },
      "source": [
        "a = [1, 2, 3]           # create list named \"a\"\n",
        "\n",
        "print(a)                # show \"a\"\n",
        "print(type(a))          # show data type of \"a\""
      ],
      "execution_count": 2,
      "outputs": [
        {
          "output_type": "stream",
          "name": "stdout",
          "text": [
            "[1, 2, 3]\n",
            "<class 'list'>\n"
          ]
        }
      ]
    },
    {
      "cell_type": "code",
      "metadata": {
        "colab": {
          "base_uri": "https://localhost:8080/"
        },
        "id": "dwRCeeZL6ZPt",
        "outputId": "c5ac23b0-94b9-4528-d822-e90570998e35"
      },
      "source": [
        "a = torch.tensor(a)     # convert list \"a\" to torch.tensor \"a\"\n",
        "\n",
        "print(a)\n",
        "print(type(a))"
      ],
      "execution_count": 3,
      "outputs": [
        {
          "output_type": "stream",
          "name": "stdout",
          "text": [
            "tensor([1, 2, 3])\n",
            "<class 'torch.Tensor'>\n"
          ]
        }
      ]
    },
    {
      "cell_type": "markdown",
      "metadata": {
        "id": "FclCLLUg6iZq"
      },
      "source": [
        "Also a `torch.tensor` data can be made from a `numpy.ndarray` data."
      ]
    },
    {
      "cell_type": "code",
      "metadata": {
        "colab": {
          "base_uri": "https://localhost:8080/"
        },
        "id": "OY_t_qCkgLFR",
        "outputId": "71434a9d-4953-4a6f-9b11-46cef31e0edb"
      },
      "source": [
        "import numpy as np               # import Numpy package, \"np\" is abbreviation for numpy\n",
        "\n",
        "b = np.array([0.4, 0.5, 0.6])    # create a np.ndarray named \"b\"\n",
        "b = torch.tensor(b)              # convert np.ndarry \"b\" to torch.tensor \"b\"\n",
        "\n",
        "print(b)\n",
        "print(type(b))"
      ],
      "execution_count": 4,
      "outputs": [
        {
          "output_type": "stream",
          "name": "stdout",
          "text": [
            "tensor([0.4000, 0.5000, 0.6000], dtype=torch.float64)\n",
            "<class 'torch.Tensor'>\n"
          ]
        }
      ]
    },
    {
      "cell_type": "markdown",
      "metadata": {
        "id": "IScSA6AF88v6"
      },
      "source": [
        "It is also possible to convert a `torch.tensor` to a `numpy.ndarray`."
      ]
    },
    {
      "cell_type": "code",
      "metadata": {
        "colab": {
          "base_uri": "https://localhost:8080/"
        },
        "id": "OOrCjtoa88MJ",
        "outputId": "909ebbb4-dc79-4f30-d969-1be4983f4335"
      },
      "source": [
        "c = b.numpy()        # convert torch.tensor data \"b\" to np.ndarray data \"c\"\n",
        "\n",
        "print(c)\n",
        "print(type(c))"
      ],
      "execution_count": 5,
      "outputs": [
        {
          "output_type": "stream",
          "name": "stdout",
          "text": [
            "[0.4 0.5 0.6]\n",
            "<class 'numpy.ndarray'>\n"
          ]
        }
      ]
    },
    {
      "cell_type": "markdown",
      "metadata": {
        "id": "GanF3Gg0CJ_J"
      },
      "source": [
        "To know the shape of torch.tensor data, there are 2 different ways. One is `.shape` and the other is `.size()` but they return same result."
      ]
    },
    {
      "cell_type": "code",
      "metadata": {
        "colab": {
          "base_uri": "https://localhost:8080/"
        },
        "id": "WwgqCsOkCSbK",
        "outputId": "293cb7f4-6457-46f5-dcee-42455fc1aca4"
      },
      "source": [
        "a = torch.tensor([1, 2, 3])\n",
        "print(a.shape)\n",
        "print(a.size())"
      ],
      "execution_count": 6,
      "outputs": [
        {
          "output_type": "stream",
          "name": "stdout",
          "text": [
            "torch.Size([3])\n",
            "torch.Size([3])\n"
          ]
        }
      ]
    },
    {
      "cell_type": "markdown",
      "metadata": {
        "id": "2QWTZQTy76Av"
      },
      "source": [
        "## Simple Calculations\n",
        "\n",
        "Let's do some simple numerical calculations with a `torch.tensor` and a number."
      ]
    },
    {
      "cell_type": "code",
      "metadata": {
        "colab": {
          "base_uri": "https://localhost:8080/"
        },
        "id": "BQMs27Ky6huP",
        "outputId": "89c43cac-ad51-40c0-90ff-2d3b59c7e355"
      },
      "source": [
        "a = torch.tensor([1, 2, 3])\n",
        "print(\"a =\", a)\n",
        "\n",
        "print(\"a+1=\", a+1)    # addition\n",
        "print(\"a-2=\", a-2)    # subtraction\n",
        "print(\"a*3=\", a*3)    # multiplication\n",
        "print(\"a/4=\", a/4)    # division"
      ],
      "execution_count": 7,
      "outputs": [
        {
          "output_type": "stream",
          "name": "stdout",
          "text": [
            "a = tensor([1, 2, 3])\n",
            "a+1= tensor([2, 3, 4])\n",
            "a-2= tensor([-1,  0,  1])\n",
            "a*3= tensor([3, 6, 9])\n",
            "a/4= tensor([0.2500, 0.5000, 0.7500])\n"
          ]
        }
      ]
    },
    {
      "cell_type": "markdown",
      "metadata": {
        "id": "KR3Hze5ux40x"
      },
      "source": [
        "calculations with two `torch.tensor`s."
      ]
    },
    {
      "cell_type": "code",
      "metadata": {
        "colab": {
          "base_uri": "https://localhost:8080/"
        },
        "id": "t3sRUzEN8M5b",
        "outputId": "48faadb8-51bc-49c3-b7fc-1ffe80a0f906"
      },
      "source": [
        "a = torch.tensor([1, 2, 3])\n",
        "b = torch.tensor([0.4, 0.5, 0.6])\n",
        "\n",
        "print(\"a =\", a)\n",
        "print(\"b =\", b)\n",
        "\n",
        "print(\"a+b=\", a+b)\n",
        "print(\"a-b=\", a-b)\n",
        "print(\"a*b=\", a*b)\n",
        "print(\"a/b=\", a/b)"
      ],
      "execution_count": 8,
      "outputs": [
        {
          "output_type": "stream",
          "name": "stdout",
          "text": [
            "a = tensor([1, 2, 3])\n",
            "b = tensor([0.4000, 0.5000, 0.6000])\n",
            "a+b= tensor([1.4000, 2.5000, 3.6000])\n",
            "a-b= tensor([0.6000, 1.5000, 2.4000])\n",
            "a*b= tensor([0.4000, 1.0000, 1.8000])\n",
            "a/b= tensor([2.5000, 4.0000, 5.0000])\n"
          ]
        }
      ]
    },
    {
      "cell_type": "markdown",
      "metadata": {
        "id": "SdgTI4FS9nSA"
      },
      "source": [
        "## PyTorch and Numpy\n",
        "\n",
        "Since PyTorch is based on Numpy, they have a lot of similarities. If you are already familier with Numpy, you might feel confortable with PyTorch as well. Let's see some examples."
      ]
    },
    {
      "cell_type": "markdown",
      "metadata": {
        "id": "41so0Zm8_MLZ"
      },
      "source": [
        "**Zeros Array** - all zero array with given shape"
      ]
    },
    {
      "cell_type": "code",
      "metadata": {
        "colab": {
          "base_uri": "https://localhost:8080/"
        },
        "id": "vyJZEQdDkSYp",
        "outputId": "02ab42df-5e52-4401-8520-107862c63ad4"
      },
      "source": [
        "np.zeros(3)    # 1D np.ndarray of 3 zeros"
      ],
      "execution_count": 9,
      "outputs": [
        {
          "output_type": "execute_result",
          "data": {
            "text/plain": [
              "array([0., 0., 0.])"
            ]
          },
          "metadata": {},
          "execution_count": 9
        }
      ]
    },
    {
      "cell_type": "code",
      "metadata": {
        "colab": {
          "base_uri": "https://localhost:8080/"
        },
        "id": "ewQFFBZvhsLO",
        "outputId": "ef895255-910a-4de8-b1dd-0bd75c4fc079"
      },
      "source": [
        "torch.zeros(3) # 1D torch.tensor of 3 zeros"
      ],
      "execution_count": 10,
      "outputs": [
        {
          "output_type": "execute_result",
          "data": {
            "text/plain": [
              "tensor([0., 0., 0.])"
            ]
          },
          "metadata": {},
          "execution_count": 10
        }
      ]
    },
    {
      "cell_type": "code",
      "metadata": {
        "colab": {
          "base_uri": "https://localhost:8080/"
        },
        "id": "c2TCbmXzHMwI",
        "outputId": "91088e54-10c3-4045-c353-1f1cc6dc93b4"
      },
      "source": [
        "torch.zeros((2, 3)) # 2D torch.tensor of 2x3 zeros"
      ],
      "execution_count": 11,
      "outputs": [
        {
          "output_type": "execute_result",
          "data": {
            "text/plain": [
              "tensor([[0., 0., 0.],\n",
              "        [0., 0., 0.]])"
            ]
          },
          "metadata": {},
          "execution_count": 11
        }
      ]
    },
    {
      "cell_type": "markdown",
      "metadata": {
        "id": "XViCDzHK_Phe"
      },
      "source": [
        "**Ones Array** - all one array with given shape"
      ]
    },
    {
      "cell_type": "code",
      "metadata": {
        "colab": {
          "base_uri": "https://localhost:8080/"
        },
        "id": "g45dgf4Vk1-W",
        "outputId": "726f89b1-e9de-41cb-96d5-ef75a245a2ae"
      },
      "source": [
        "np.ones(5)"
      ],
      "execution_count": 12,
      "outputs": [
        {
          "output_type": "execute_result",
          "data": {
            "text/plain": [
              "array([1., 1., 1., 1., 1.])"
            ]
          },
          "metadata": {},
          "execution_count": 12
        }
      ]
    },
    {
      "cell_type": "code",
      "metadata": {
        "colab": {
          "base_uri": "https://localhost:8080/"
        },
        "id": "wL64K2wb-J6s",
        "outputId": "b51c910e-ceba-4d26-eb17-46efb4510a9d"
      },
      "source": [
        "torch.ones(5)"
      ],
      "execution_count": 13,
      "outputs": [
        {
          "output_type": "execute_result",
          "data": {
            "text/plain": [
              "tensor([1., 1., 1., 1., 1.])"
            ]
          },
          "metadata": {},
          "execution_count": 13
        }
      ]
    },
    {
      "cell_type": "markdown",
      "metadata": {
        "id": "um9Kdk8V_qIy"
      },
      "source": [
        "**Random Number Array** - an array of rundom numbers between 0.0 and 1.0 with given shape"
      ]
    },
    {
      "cell_type": "code",
      "metadata": {
        "colab": {
          "base_uri": "https://localhost:8080/"
        },
        "id": "XxuC3DwclKoE",
        "outputId": "9412ae60-0ac0-4e38-f989-80d5e3f6928b"
      },
      "source": [
        "np.random.rand(3)"
      ],
      "execution_count": 14,
      "outputs": [
        {
          "output_type": "execute_result",
          "data": {
            "text/plain": [
              "array([0.40130924, 0.68578873, 0.88641541])"
            ]
          },
          "metadata": {},
          "execution_count": 14
        }
      ]
    },
    {
      "cell_type": "code",
      "metadata": {
        "colab": {
          "base_uri": "https://localhost:8080/"
        },
        "id": "Epe4Tk_6-PFn",
        "outputId": "8276de9d-47c3-4052-8c25-a2b29d5dba21"
      },
      "source": [
        "torch.rand(3)"
      ],
      "execution_count": 15,
      "outputs": [
        {
          "output_type": "execute_result",
          "data": {
            "text/plain": [
              "tensor([0.5077, 0.8224, 0.4994])"
            ]
          },
          "metadata": {},
          "execution_count": 15
        }
      ]
    },
    {
      "cell_type": "markdown",
      "metadata": {
        "id": "1xErEqhS_UK_"
      },
      "source": [
        "**Arange Array** - 1D array with evenly spaced values"
      ]
    },
    {
      "cell_type": "code",
      "metadata": {
        "colab": {
          "base_uri": "https://localhost:8080/"
        },
        "id": "D8uf-3lgk6FK",
        "outputId": "362612c6-74e4-4312-e8ee-0e471d2e6c08"
      },
      "source": [
        "np.arange(1, 5, 1)    # np.arange(start, stop, step) --- stop will not be included"
      ],
      "execution_count": 16,
      "outputs": [
        {
          "output_type": "execute_result",
          "data": {
            "text/plain": [
              "array([1, 2, 3, 4])"
            ]
          },
          "metadata": {},
          "execution_count": 16
        }
      ]
    },
    {
      "cell_type": "code",
      "metadata": {
        "colab": {
          "base_uri": "https://localhost:8080/"
        },
        "id": "mJMTsPNn-o5_",
        "outputId": "675d5f01-651a-46e8-ee9a-da172f886505"
      },
      "source": [
        "torch.arange(1, 5, 1)"
      ],
      "execution_count": 17,
      "outputs": [
        {
          "output_type": "execute_result",
          "data": {
            "text/plain": [
              "tensor([1, 2, 3, 4])"
            ]
          },
          "metadata": {},
          "execution_count": 17
        }
      ]
    },
    {
      "cell_type": "code",
      "metadata": {
        "colab": {
          "base_uri": "https://localhost:8080/"
        },
        "id": "35Gv_cjGHopY",
        "outputId": "6ceca1d2-dbb4-4a1b-f987-977dcf8de25e"
      },
      "source": [
        "torch.arange(5)     # start and step parameters can be omitted"
      ],
      "execution_count": 18,
      "outputs": [
        {
          "output_type": "execute_result",
          "data": {
            "text/plain": [
              "tensor([0, 1, 2, 3, 4])"
            ]
          },
          "metadata": {},
          "execution_count": 18
        }
      ]
    },
    {
      "cell_type": "markdown",
      "metadata": {
        "id": "1m-AEvuAABNN"
      },
      "source": [
        "**Slicing** - take a part of data from original array by specifying indexes"
      ]
    },
    {
      "cell_type": "code",
      "metadata": {
        "colab": {
          "base_uri": "https://localhost:8080/"
        },
        "id": "dAR_SciliEd0",
        "outputId": "4cfd4973-658a-4fe5-b2e7-5f6a01542962"
      },
      "source": [
        "a = np.arange(10) \n",
        "print(a)\n",
        "print(a[2:5])    # take data from index 2 to before index 5"
      ],
      "execution_count": 19,
      "outputs": [
        {
          "output_type": "stream",
          "name": "stdout",
          "text": [
            "[0 1 2 3 4 5 6 7 8 9]\n",
            "[2 3 4]\n"
          ]
        }
      ]
    },
    {
      "cell_type": "code",
      "metadata": {
        "colab": {
          "base_uri": "https://localhost:8080/"
        },
        "id": "RVPtoMeslvhq",
        "outputId": "72cf554b-7749-4cad-85e1-b67ab1ef1bbd"
      },
      "source": [
        "a = torch.arange(10)\n",
        "print(a)\n",
        "print(a[2:5])    # take data from index 2 to before index 5"
      ],
      "execution_count": 20,
      "outputs": [
        {
          "output_type": "stream",
          "name": "stdout",
          "text": [
            "tensor([0, 1, 2, 3, 4, 5, 6, 7, 8, 9])\n",
            "tensor([2, 3, 4])\n"
          ]
        }
      ]
    },
    {
      "cell_type": "code",
      "metadata": {
        "colab": {
          "base_uri": "https://localhost:8080/"
        },
        "id": "-k2H6sqvJNIo",
        "outputId": "6c89fc95-5ff4-406f-89db-cbe0e13a9404"
      },
      "source": [
        "a = torch.arange(100).view(10,10)    # 10x10 torch.tensor\n",
        "print(a)\n",
        "print(a[1:3, 4:8])   # take 2D data from 10x10 torch.tensor"
      ],
      "execution_count": 21,
      "outputs": [
        {
          "output_type": "stream",
          "name": "stdout",
          "text": [
            "tensor([[ 0,  1,  2,  3,  4,  5,  6,  7,  8,  9],\n",
            "        [10, 11, 12, 13, 14, 15, 16, 17, 18, 19],\n",
            "        [20, 21, 22, 23, 24, 25, 26, 27, 28, 29],\n",
            "        [30, 31, 32, 33, 34, 35, 36, 37, 38, 39],\n",
            "        [40, 41, 42, 43, 44, 45, 46, 47, 48, 49],\n",
            "        [50, 51, 52, 53, 54, 55, 56, 57, 58, 59],\n",
            "        [60, 61, 62, 63, 64, 65, 66, 67, 68, 69],\n",
            "        [70, 71, 72, 73, 74, 75, 76, 77, 78, 79],\n",
            "        [80, 81, 82, 83, 84, 85, 86, 87, 88, 89],\n",
            "        [90, 91, 92, 93, 94, 95, 96, 97, 98, 99]])\n",
            "tensor([[14, 15, 16, 17],\n",
            "        [24, 25, 26, 27]])\n"
          ]
        }
      ]
    },
    {
      "cell_type": "markdown",
      "metadata": {
        "id": "tPblm8JmEE1B"
      },
      "source": [
        "**Reshaping** \n",
        "\n",
        "There are also differences between PyTorch and Numpy. One of them is the method for reshaping the array data.\n",
        "\n",
        "In order to reshape the `numpy.ndarray`, we can use `.reshape()`."
      ]
    },
    {
      "cell_type": "code",
      "metadata": {
        "colab": {
          "base_uri": "https://localhost:8080/"
        },
        "id": "-UzSo7ajiJGN",
        "outputId": "fe5372ea-d58a-473c-f7a0-8e68b8ff94df"
      },
      "source": [
        "a = np.arange(10) # 1D data\n",
        "a.reshape(2,5)    # reshape data into 2x5 np.ndarray"
      ],
      "execution_count": 22,
      "outputs": [
        {
          "output_type": "execute_result",
          "data": {
            "text/plain": [
              "array([[0, 1, 2, 3, 4],\n",
              "       [5, 6, 7, 8, 9]])"
            ]
          },
          "metadata": {},
          "execution_count": 22
        }
      ]
    },
    {
      "cell_type": "markdown",
      "metadata": {
        "id": "q1TGVrNszb7d"
      },
      "source": [
        "In PyTorch we need to use `.view()` instead of `.reshape()`."
      ]
    },
    {
      "cell_type": "code",
      "metadata": {
        "colab": {
          "base_uri": "https://localhost:8080/"
        },
        "id": "rK5JSboHETjP",
        "outputId": "7c1040ce-7449-486f-b4f7-3ff499e0ef5f"
      },
      "source": [
        "a = torch.arange(10)\n",
        "a.view(2,5)   # reshape data into 2x5 torch.tensor"
      ],
      "execution_count": 23,
      "outputs": [
        {
          "output_type": "execute_result",
          "data": {
            "text/plain": [
              "tensor([[0, 1, 2, 3, 4],\n",
              "        [5, 6, 7, 8, 9]])"
            ]
          },
          "metadata": {},
          "execution_count": 23
        }
      ]
    },
    {
      "cell_type": "markdown",
      "metadata": {
        "id": "BrqFpnM_DRDa"
      },
      "source": [
        "**Argmax** - returns the index of element with the maximum value in given data"
      ]
    },
    {
      "cell_type": "code",
      "metadata": {
        "colab": {
          "base_uri": "https://localhost:8080/"
        },
        "id": "6CDgTCGzleaA",
        "outputId": "ab199ed9-73c6-4d44-db3c-6df0b6b7ed59"
      },
      "source": [
        "a = np.random.rand(5)\n",
        "\n",
        "print(\"a=\", a)\n",
        "print(\"argmax(a) =\", np.argmax(a))    # Remenber: index number starts from 0 in Python"
      ],
      "execution_count": 24,
      "outputs": [
        {
          "output_type": "stream",
          "name": "stdout",
          "text": [
            "a= [0.68473178 0.08741851 0.39847874 0.82447906 0.95912053]\n",
            "argmax(a) = 4\n"
          ]
        }
      ]
    },
    {
      "cell_type": "code",
      "metadata": {
        "colab": {
          "base_uri": "https://localhost:8080/"
        },
        "id": "dTSKNliMDSMA",
        "outputId": "0efacfe6-a09b-4dea-82d8-f07039e71986"
      },
      "source": [
        "a = torch.rand(5)\n",
        "\n",
        "print(\"a=\", a)\n",
        "print(\"argmax(a) =\", torch.argmax(a))"
      ],
      "execution_count": 25,
      "outputs": [
        {
          "output_type": "stream",
          "name": "stdout",
          "text": [
            "a= tensor([0.9370, 0.8328, 0.2007, 0.4619, 0.0289])\n",
            "argmax(a) = tensor(0)\n"
          ]
        }
      ]
    },
    {
      "cell_type": "markdown",
      "metadata": {
        "id": "cjMYEqSyEmVe"
      },
      "source": [
        "## AutoGrad\n",
        "One of the most important features of PyTorch is automatic differentiation package `torch.autograd`. PyTorch performs calculations using computation graphs, and this allows us to access the gradients of outputs with respect to the inputs. This is the key for training neural networks.\n",
        "\n",
        "Let's see a simple example of $y=2x+5$, where $x$ is input and $y$ is output.\n",
        "\n",
        "In order to enable` torch.autograd` function, we need to set parameters of input `x` as `dtype=torch.float32`,  `requires_grad=True`."
      ]
    },
    {
      "cell_type": "code",
      "metadata": {
        "colab": {
          "base_uri": "https://localhost:8080/"
        },
        "id": "3p0UxGo6jjYf",
        "outputId": "9ecfb9a7-93b5-4794-9a73-f7dbb0159914"
      },
      "source": [
        "x = torch.tensor(3.0, dtype=torch.float32, requires_grad=True)\n",
        "y = 2*x + 5\n",
        "print(\"y=\", y)"
      ],
      "execution_count": 26,
      "outputs": [
        {
          "output_type": "stream",
          "name": "stdout",
          "text": [
            "y= tensor(11., grad_fn=<AddBackward0>)\n"
          ]
        }
      ]
    },
    {
      "cell_type": "markdown",
      "metadata": {
        "id": "VyW7S_k5Zk0A"
      },
      "source": [
        "By the way `y` is a torch.tensor data. You can take the value of `y` by `y.item()`."
      ]
    },
    {
      "cell_type": "code",
      "metadata": {
        "colab": {
          "base_uri": "https://localhost:8080/"
        },
        "id": "uTpwq-vBZibA",
        "outputId": "b8ca45d0-cf88-4912-dc56-74640cdf425c"
      },
      "source": [
        "y.item()"
      ],
      "execution_count": 27,
      "outputs": [
        {
          "output_type": "execute_result",
          "data": {
            "text/plain": [
              "11.0"
            ]
          },
          "metadata": {},
          "execution_count": 27
        }
      ]
    },
    {
      "cell_type": "markdown",
      "metadata": {
        "id": "4GPBCOJUNeX4"
      },
      "source": [
        "The gradients of `y` is calculated by `y.backward()`"
      ]
    },
    {
      "cell_type": "code",
      "metadata": {
        "id": "6aV0uFOBMxv1"
      },
      "source": [
        "y.backward()"
      ],
      "execution_count": 28,
      "outputs": []
    },
    {
      "cell_type": "markdown",
      "metadata": {
        "id": "dorxjIugOLJd"
      },
      "source": [
        "Now the gradient of `y` respect to `x`, namely $dy/dx$, can be accessed by `x.grad`."
      ]
    },
    {
      "cell_type": "code",
      "metadata": {
        "colab": {
          "base_uri": "https://localhost:8080/"
        },
        "id": "OALTZ7JJNX4l",
        "outputId": "8651975a-1fb1-4062-d0d7-16f3b1082277"
      },
      "source": [
        "print(\"dy/dx =\", x.grad)"
      ],
      "execution_count": 29,
      "outputs": [
        {
          "output_type": "stream",
          "name": "stdout",
          "text": [
            "dy/dx = tensor(2.)\n"
          ]
        }
      ]
    },
    {
      "cell_type": "markdown",
      "metadata": {
        "id": "ah3ijRIWkcRW"
      },
      "source": [
        "**Practice**\n",
        "\n",
        "\n",
        "1.   Define a new `torch.tensor` $x=5.0$\n",
        "2.   Do calculation of $y=x^2 + 3x + 1$\n",
        "3.   Determine the gradient of $dy/dx$ and check if that is correct."
      ]
    },
    {
      "cell_type": "code",
      "metadata": {
        "id": "frllAWONlULP"
      },
      "source": [
        "# write code by yourself\n"
      ],
      "execution_count": 30,
      "outputs": []
    },
    {
      "cell_type": "markdown",
      "metadata": {
        "id": "dBAONFRxnU05"
      },
      "source": [
        "**Practice**\n",
        "\n",
        "\n",
        "1.   Define a new `torch.tensor` $x=3.0$ and $y=2.0$\n",
        "2.   Do calculation of $z=x^2 + 2y^3$\n",
        "3.   Determine the partial gradients of $\\partial z/\\partial x$, $\\partial z/\\partial y$"
      ]
    },
    {
      "cell_type": "code",
      "metadata": {
        "id": "12oprH7wOo7Q"
      },
      "source": [
        "# write code by yourself\n"
      ],
      "execution_count": 31,
      "outputs": []
    },
    {
      "cell_type": "markdown",
      "metadata": {
        "id": "BioIAR-F3oDN"
      },
      "source": [
        "In deep learning the gradient values are used for optimizing parameters of neural network models by a method so-called stochastic gradient descent (SGD) method. As we have seen above, PyTorch calculates the gradients of torch.tensors automatically. This is why PyTorch is used for deep learning programming."
      ]
    }
  ]
}