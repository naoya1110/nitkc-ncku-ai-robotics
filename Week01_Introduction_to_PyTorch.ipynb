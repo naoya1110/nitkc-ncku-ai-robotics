{
  "nbformat": 4,
  "nbformat_minor": 0,
  "metadata": {
    "colab": {
      "name": "Week01_Introduction_to_PyTorch.ipynb",
      "provenance": [],
      "collapsed_sections": [],
      "authorship_tag": "ABX9TyMc1FQwVgBkSWAY7FXM0b6e",
      "include_colab_link": true
    },
    "kernelspec": {
      "name": "python3",
      "display_name": "Python 3"
    },
    "language_info": {
      "name": "python"
    }
  },
  "cells": [
    {
      "cell_type": "markdown",
      "metadata": {
        "id": "view-in-github",
        "colab_type": "text"
      },
      "source": [
        "<a href=\"https://colab.research.google.com/github/naoya1110/nitkc-ncku-ai-robotics/blob/main/Week01_Introduction_to_PyTorch.ipynb\" target=\"_parent\"><img src=\"https://colab.research.google.com/assets/colab-badge.svg\" alt=\"Open In Colab\"/></a>"
      ]
    },
    {
      "cell_type": "markdown",
      "metadata": {
        "id": "lp3-fTEk3CXr"
      },
      "source": [
        "In this AI Robotics Lab course, we will be using PyTorch for implementing deep neural networks. Let's get used to it.\n",
        "\n",
        "First we need to import PyTorch."
      ]
    },
    {
      "cell_type": "code",
      "metadata": {
        "id": "2iNt9kVFhkVq"
      },
      "source": [
        "import torch"
      ],
      "execution_count": 1,
      "outputs": []
    },
    {
      "cell_type": "markdown",
      "metadata": {
        "id": "amh_RRDe5YCu"
      },
      "source": [
        "PyTorch can handle multi-dimensional array data as `torch.tensor`. To make a `torch.tensor` data, we can simply pass a python `list` data to `torch.tensor()`."
      ]
    },
    {
      "cell_type": "code",
      "metadata": {
        "colab": {
          "base_uri": "https://localhost:8080/"
        },
        "id": "dwRCeeZL6ZPt",
        "outputId": "101d4b73-efad-47fc-8f17-a4a3ae997ff9"
      },
      "source": [
        "a = [1, 2, 3]           # create list named \"a\"\n",
        "a = torch.tensor(a)     # convert list \"a\" to torch.tensor \"a\"\n",
        "print(a)                # show \"a\"\n",
        "print(type(a))          # show data type of \"a\""
      ],
      "execution_count": 2,
      "outputs": [
        {
          "output_type": "stream",
          "name": "stdout",
          "text": [
            "tensor([1, 2, 3])\n",
            "<class 'torch.Tensor'>\n"
          ]
        }
      ]
    },
    {
      "cell_type": "markdown",
      "metadata": {
        "id": "FclCLLUg6iZq"
      },
      "source": [
        "Also a `torch.tensor` data can be made from a `numpy.ndarray` data."
      ]
    },
    {
      "cell_type": "code",
      "metadata": {
        "colab": {
          "base_uri": "https://localhost:8080/"
        },
        "id": "OY_t_qCkgLFR",
        "outputId": "229295e7-9da7-4cfe-ce9a-c61c418106ec"
      },
      "source": [
        "import numpy as np               # import numpy package\n",
        "\n",
        "b = np.array([0.4, 0.5, 0.6])    # create a numpy.ndarray named \"b\"\n",
        "b = torch.tensor(b)              # convert numpy.ndarry \"b\" to torch.tensor \"b\"\n",
        "print(b)\n",
        "print(type(b))"
      ],
      "execution_count": 3,
      "outputs": [
        {
          "output_type": "stream",
          "name": "stdout",
          "text": [
            "tensor([0.4000, 0.5000, 0.6000], dtype=torch.float64)\n",
            "<class 'torch.Tensor'>\n"
          ]
        }
      ]
    },
    {
      "cell_type": "markdown",
      "metadata": {
        "id": "IScSA6AF88v6"
      },
      "source": [
        "It is also possible to convert a `torch.tensor` to a `numpy.ndarray`."
      ]
    },
    {
      "cell_type": "code",
      "metadata": {
        "colab": {
          "base_uri": "https://localhost:8080/"
        },
        "id": "OOrCjtoa88MJ",
        "outputId": "5a992bc2-e2c4-4509-8eba-d1c14637799c"
      },
      "source": [
        "c = b.numpy()                  # convert torch.tensor data \"b\" to numpy.ndarray data \"c\"\n",
        "print(c)\n",
        "print(type(c))"
      ],
      "execution_count": 5,
      "outputs": [
        {
          "output_type": "stream",
          "name": "stdout",
          "text": [
            "[0.4 0.5 0.6]\n",
            "<class 'numpy.ndarray'>\n"
          ]
        }
      ]
    },
    {
      "cell_type": "markdown",
      "metadata": {
        "id": "GanF3Gg0CJ_J"
      },
      "source": [
        "To know the shape of torch.tensor data, there are 2 different ways. One is `.shape` and other is `.size()` but results are same."
      ]
    },
    {
      "cell_type": "code",
      "metadata": {
        "colab": {
          "base_uri": "https://localhost:8080/"
        },
        "id": "WwgqCsOkCSbK",
        "outputId": "2b642954-968d-4581-e961-03c1011ca919"
      },
      "source": [
        "print(a.shape)\n",
        "print(a.size())"
      ],
      "execution_count": 6,
      "outputs": [
        {
          "output_type": "stream",
          "name": "stdout",
          "text": [
            "torch.Size([3])\n",
            "torch.Size([3])\n"
          ]
        }
      ]
    },
    {
      "cell_type": "markdown",
      "metadata": {
        "id": "2QWTZQTy76Av"
      },
      "source": [
        "Let's do some simple numerical calculations with a `torch.tensor` and a number."
      ]
    },
    {
      "cell_type": "code",
      "metadata": {
        "colab": {
          "base_uri": "https://localhost:8080/"
        },
        "id": "BQMs27Ky6huP",
        "outputId": "de976f0c-1f36-4e1b-9eff-76fda87b5cdc"
      },
      "source": [
        "a = torch.tensor([1, 2, 3])\n",
        "print(\"a =\", a)\n",
        "print(a+1)\n",
        "print(a-2)\n",
        "print(a*3)\n",
        "print(a/4)"
      ],
      "execution_count": 7,
      "outputs": [
        {
          "output_type": "stream",
          "name": "stdout",
          "text": [
            "a = tensor([1, 2, 3])\n",
            "tensor([2, 3, 4])\n",
            "tensor([-1,  0,  1])\n",
            "tensor([3, 6, 9])\n",
            "tensor([0.2500, 0.5000, 0.7500])\n"
          ]
        }
      ]
    },
    {
      "cell_type": "markdown",
      "metadata": {
        "id": "KR3Hze5ux40x"
      },
      "source": [
        "calculations with two `torch.tensor`s."
      ]
    },
    {
      "cell_type": "code",
      "metadata": {
        "colab": {
          "base_uri": "https://localhost:8080/"
        },
        "id": "t3sRUzEN8M5b",
        "outputId": "5b7ca21e-88ef-4418-b07d-f328c50a0a3f"
      },
      "source": [
        "a = torch.tensor([1, 2, 3])\n",
        "b = torch.tensor([0.4, 0.5, 0.6])\n",
        "\n",
        "print(\"a =\", a)\n",
        "print(\"b =\", b)\n",
        "print(a+b)\n",
        "print(a-b)\n",
        "print(a*b)\n",
        "print(a/b)"
      ],
      "execution_count": 8,
      "outputs": [
        {
          "output_type": "stream",
          "name": "stdout",
          "text": [
            "a = tensor([1, 2, 3])\n",
            "b = tensor([0.4000, 0.5000, 0.6000])\n",
            "tensor([1.4000, 2.5000, 3.6000])\n",
            "tensor([0.6000, 1.5000, 2.4000])\n",
            "tensor([0.4000, 1.0000, 1.8000])\n",
            "tensor([2.5000, 4.0000, 5.0000])\n"
          ]
        }
      ]
    },
    {
      "cell_type": "markdown",
      "metadata": {
        "id": "RIqrgn0ZheTR"
      },
      "source": [
        "If you want to do some calculations with two `torch.tensor`s, their shapes need to be same."
      ]
    },
    {
      "cell_type": "code",
      "metadata": {
        "colab": {
          "base_uri": "https://localhost:8080/",
          "height": 205
        },
        "id": "4ROostzthZ1j",
        "outputId": "0f8b2774-83e2-4fa3-bc6f-7759ceb4379a"
      },
      "source": [
        "a = torch.tensor([1, 2, 3])\n",
        "c = torch.tensor([0.4, 0.5])\n",
        "\n",
        "print(a+c)"
      ],
      "execution_count": 11,
      "outputs": [
        {
          "output_type": "error",
          "ename": "RuntimeError",
          "evalue": "ignored",
          "traceback": [
            "\u001b[0;31m---------------------------------------------------------------------------\u001b[0m",
            "\u001b[0;31mRuntimeError\u001b[0m                              Traceback (most recent call last)",
            "\u001b[0;32m<ipython-input-11-7e7eedc16ace>\u001b[0m in \u001b[0;36m<module>\u001b[0;34m()\u001b[0m\n\u001b[1;32m      2\u001b[0m \u001b[0mc\u001b[0m \u001b[0;34m=\u001b[0m \u001b[0mtorch\u001b[0m\u001b[0;34m.\u001b[0m\u001b[0mtensor\u001b[0m\u001b[0;34m(\u001b[0m\u001b[0;34m[\u001b[0m\u001b[0;36m0.4\u001b[0m\u001b[0;34m,\u001b[0m \u001b[0;36m0.5\u001b[0m\u001b[0;34m]\u001b[0m\u001b[0;34m)\u001b[0m\u001b[0;34m\u001b[0m\u001b[0;34m\u001b[0m\u001b[0m\n\u001b[1;32m      3\u001b[0m \u001b[0;34m\u001b[0m\u001b[0m\n\u001b[0;32m----> 4\u001b[0;31m \u001b[0mprint\u001b[0m\u001b[0;34m(\u001b[0m\u001b[0ma\u001b[0m\u001b[0;34m+\u001b[0m\u001b[0mc\u001b[0m\u001b[0;34m)\u001b[0m\u001b[0;34m\u001b[0m\u001b[0;34m\u001b[0m\u001b[0m\n\u001b[0m",
            "\u001b[0;31mRuntimeError\u001b[0m: The size of tensor a (3) must match the size of tensor b (2) at non-singleton dimension 0"
          ]
        }
      ]
    },
    {
      "cell_type": "markdown",
      "metadata": {
        "id": "SdgTI4FS9nSA"
      },
      "source": [
        "PyTorch and Numpy have a lot of similarities. If you are already familier with Numpy, you might feel confortable with PyTorch as well. Let's see some examples."
      ]
    },
    {
      "cell_type": "markdown",
      "metadata": {
        "id": "41so0Zm8_MLZ"
      },
      "source": [
        "Zeros Array"
      ]
    },
    {
      "cell_type": "code",
      "metadata": {
        "colab": {
          "base_uri": "https://localhost:8080/"
        },
        "id": "ewQFFBZvhsLO",
        "outputId": "69a819c7-448e-43a2-e3a7-bbc3965b15c8"
      },
      "source": [
        "torch.zeros(3)    # create an all zero array with given shape"
      ],
      "execution_count": 12,
      "outputs": [
        {
          "output_type": "execute_result",
          "data": {
            "text/plain": [
              "tensor([0., 0., 0.])"
            ]
          },
          "metadata": {},
          "execution_count": 12
        }
      ]
    },
    {
      "cell_type": "markdown",
      "metadata": {
        "id": "XViCDzHK_Phe"
      },
      "source": [
        "Ones Array"
      ]
    },
    {
      "cell_type": "code",
      "metadata": {
        "colab": {
          "base_uri": "https://localhost:8080/"
        },
        "id": "wL64K2wb-J6s",
        "outputId": "6dce432b-e6c7-4a3c-bc50-201402e413b5"
      },
      "source": [
        "torch.ones(3)    # create an all one array with given shape"
      ],
      "execution_count": 13,
      "outputs": [
        {
          "output_type": "execute_result",
          "data": {
            "text/plain": [
              "tensor([1., 1., 1.])"
            ]
          },
          "metadata": {},
          "execution_count": 13
        }
      ]
    },
    {
      "cell_type": "markdown",
      "metadata": {
        "id": "1xErEqhS_UK_"
      },
      "source": [
        "Arange Array"
      ]
    },
    {
      "cell_type": "code",
      "metadata": {
        "colab": {
          "base_uri": "https://localhost:8080/"
        },
        "id": "mJMTsPNn-o5_",
        "outputId": "242a8521-0902-49ae-b350-6a7f7e2275f7"
      },
      "source": [
        "torch.arange(1, 5, 1)    # create evenly spaced values"
      ],
      "execution_count": 14,
      "outputs": [
        {
          "output_type": "execute_result",
          "data": {
            "text/plain": [
              "tensor([1, 2, 3, 4])"
            ]
          },
          "metadata": {},
          "execution_count": 14
        }
      ]
    },
    {
      "cell_type": "markdown",
      "metadata": {
        "id": "um9Kdk8V_qIy"
      },
      "source": [
        "Random Number Array"
      ]
    },
    {
      "cell_type": "code",
      "metadata": {
        "colab": {
          "base_uri": "https://localhost:8080/"
        },
        "id": "Epe4Tk_6-PFn",
        "outputId": "82c9579a-ba9f-4ae3-b64b-460b844d7d76"
      },
      "source": [
        "torch.rand(3)    # create random numbers between 0.0 and 1.0 with given shape"
      ],
      "execution_count": 15,
      "outputs": [
        {
          "output_type": "execute_result",
          "data": {
            "text/plain": [
              "tensor([0.5264, 0.2333, 0.9691])"
            ]
          },
          "metadata": {},
          "execution_count": 15
        }
      ]
    },
    {
      "cell_type": "markdown",
      "metadata": {
        "id": "BrqFpnM_DRDa"
      },
      "source": [
        "Argmax"
      ]
    },
    {
      "cell_type": "code",
      "metadata": {
        "colab": {
          "base_uri": "https://localhost:8080/"
        },
        "id": "dTSKNliMDSMA",
        "outputId": "770c5be4-90db-4e09-d8f5-772e849e26ba"
      },
      "source": [
        "a = torch.rand(5)\n",
        "print(a)\n",
        "torch.argmax(a)  # returns the index of element with the maximum value in given data"
      ],
      "execution_count": 16,
      "outputs": [
        {
          "output_type": "stream",
          "name": "stdout",
          "text": [
            "tensor([0.3140, 0.8220, 0.7811, 0.7246, 0.2833])\n"
          ]
        },
        {
          "output_type": "execute_result",
          "data": {
            "text/plain": [
              "tensor(1)"
            ]
          },
          "metadata": {},
          "execution_count": 16
        }
      ]
    },
    {
      "cell_type": "markdown",
      "metadata": {
        "id": "1m-AEvuAABNN"
      },
      "source": [
        "Slicing data with index"
      ]
    },
    {
      "cell_type": "code",
      "metadata": {
        "colab": {
          "base_uri": "https://localhost:8080/"
        },
        "id": "dAR_SciliEd0",
        "outputId": "b0b57d5e-3844-41c7-fe8d-20999004d469"
      },
      "source": [
        "d = np.arange(10)\n",
        "print(d)\n",
        "print(d[2:5])    # take data from index 2 to before index 5"
      ],
      "execution_count": 17,
      "outputs": [
        {
          "output_type": "stream",
          "name": "stdout",
          "text": [
            "[0 1 2 3 4 5 6 7 8 9]\n",
            "[2 3 4]\n"
          ]
        }
      ]
    },
    {
      "cell_type": "markdown",
      "metadata": {
        "id": "tPblm8JmEE1B"
      },
      "source": [
        "There are also differences between PyTorch and Numpy. One of them is the method for reshaping the array data.\n",
        "\n",
        "In order to reshape the `numpy.ndarray`, we can use `.reshape()`."
      ]
    },
    {
      "cell_type": "code",
      "metadata": {
        "colab": {
          "base_uri": "https://localhost:8080/"
        },
        "id": "-UzSo7ajiJGN",
        "outputId": "8cde8046-8a19-47ba-9dc7-1cef2adf69aa"
      },
      "source": [
        "a = np.arange(10) # 1D data\n",
        "a.reshape(2,5)    # reshape data into 2x5 (2D data)"
      ],
      "execution_count": 18,
      "outputs": [
        {
          "output_type": "execute_result",
          "data": {
            "text/plain": [
              "array([[0, 1, 2, 3, 4],\n",
              "       [5, 6, 7, 8, 9]])"
            ]
          },
          "metadata": {},
          "execution_count": 18
        }
      ]
    },
    {
      "cell_type": "markdown",
      "metadata": {
        "id": "q1TGVrNszb7d"
      },
      "source": [
        "In PyTorch we use `.view()` instead of `.reshape()`."
      ]
    },
    {
      "cell_type": "code",
      "metadata": {
        "colab": {
          "base_uri": "https://localhost:8080/"
        },
        "id": "rK5JSboHETjP",
        "outputId": "ab2e77a7-5b5c-4f14-c25e-80b4d79a24c9"
      },
      "source": [
        "a = torch.arange(10)\n",
        "a.view(2,5)   # reshape data into 2x5"
      ],
      "execution_count": 19,
      "outputs": [
        {
          "output_type": "execute_result",
          "data": {
            "text/plain": [
              "tensor([[0, 1, 2, 3, 4],\n",
              "        [5, 6, 7, 8, 9]])"
            ]
          },
          "metadata": {},
          "execution_count": 19
        }
      ]
    },
    {
      "cell_type": "markdown",
      "metadata": {
        "id": "cjMYEqSyEmVe"
      },
      "source": [
        "One of the most important features of PyTorch is the differential calculation engine `torch.autograd`. PyTorch performs calculation with a computation graph, and this allows us to access the gradients of outputs with respect to the inputs. This is the key for training neural networks.\n",
        "\n",
        "In order to enable` torch.autograd` function, we set the parameter of `requires_grad=True` in `torch.tensor`.\n",
        "\n",
        "Let's do a simple calculation of $y=2x+5$, where $x$ is input and $y$ is output.\n",
        "\n",
        "Note that `torch.tensor` data has to be floating point number when we set `requires_grad=True` ."
      ]
    },
    {
      "cell_type": "code",
      "metadata": {
        "colab": {
          "base_uri": "https://localhost:8080/"
        },
        "id": "3p0UxGo6jjYf",
        "outputId": "ef0d0f1f-6cf0-4e55-f460-5229b963728f"
      },
      "source": [
        "x = torch.tensor(3.0, requires_grad=True)\n",
        "y = 2*x + 5\n",
        "print(y)"
      ],
      "execution_count": 27,
      "outputs": [
        {
          "output_type": "stream",
          "name": "stdout",
          "text": [
            "tensor(11., grad_fn=<AddBackward0>)\n"
          ]
        }
      ]
    },
    {
      "cell_type": "markdown",
      "metadata": {
        "id": "VyW7S_k5Zk0A"
      },
      "source": [
        "As you see above `y` is a torch.tensor data. You can take the value of `y` by `y.item()`."
      ]
    },
    {
      "cell_type": "code",
      "metadata": {
        "colab": {
          "base_uri": "https://localhost:8080/"
        },
        "id": "uTpwq-vBZibA",
        "outputId": "fc02c73a-46cc-4785-a881-c5f00da143dd"
      },
      "source": [
        "y.item()"
      ],
      "execution_count": 28,
      "outputs": [
        {
          "output_type": "execute_result",
          "data": {
            "text/plain": [
              "11.0"
            ]
          },
          "metadata": {},
          "execution_count": 28
        }
      ]
    },
    {
      "cell_type": "markdown",
      "metadata": {
        "id": "4GPBCOJUNeX4"
      },
      "source": [
        "The gradients of $y$ can be calculated by `y.backward()`"
      ]
    },
    {
      "cell_type": "code",
      "metadata": {
        "id": "6aV0uFOBMxv1"
      },
      "source": [
        "y.backward()"
      ],
      "execution_count": 29,
      "outputs": []
    },
    {
      "cell_type": "markdown",
      "metadata": {
        "id": "dorxjIugOLJd"
      },
      "source": [
        "Then we can access to the gradients of output respect to the input.\n",
        "\n",
        "For example, $dy/dx$ can be accessed by `x.grad`."
      ]
    },
    {
      "cell_type": "code",
      "metadata": {
        "colab": {
          "base_uri": "https://localhost:8080/"
        },
        "id": "OALTZ7JJNX4l",
        "outputId": "77c1cd11-a666-4352-be68-be4acc6cb79a"
      },
      "source": [
        "print(\"dy/dx =\", x.grad)"
      ],
      "execution_count": 30,
      "outputs": [
        {
          "output_type": "stream",
          "name": "stdout",
          "text": [
            "dy/dx = tensor(2.)\n"
          ]
        }
      ]
    },
    {
      "cell_type": "markdown",
      "metadata": {
        "id": "ah3ijRIWkcRW"
      },
      "source": [
        "**Exercise**\n",
        "\n",
        "\n",
        "1.   Define a new `torch.tensor` $x=5.0$\n",
        "2.   Do calculation of $y=x^2 + 3x + 1$\n",
        "3.   Determine the gradient of $dy/dx$ and check if that is correct."
      ]
    },
    {
      "cell_type": "code",
      "metadata": {
        "id": "frllAWONlULP"
      },
      "source": [
        ""
      ],
      "execution_count": 31,
      "outputs": []
    },
    {
      "cell_type": "markdown",
      "metadata": {
        "id": "BioIAR-F3oDN"
      },
      "source": [
        "In deep learning the gradient values are used for optimizing parameters of neural network models. As we saw above the gradient values can be obtained very easily by using PyTorch. This is why PyTorch is used for deep learning programming."
      ]
    }
  ]
}