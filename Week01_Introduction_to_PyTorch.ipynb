{
  "nbformat": 4,
  "nbformat_minor": 0,
  "metadata": {
    "colab": {
      "name": "Week01_Introduction_to_PyTorch.ipynb",
      "provenance": [],
      "collapsed_sections": [],
      "toc_visible": true,
      "authorship_tag": "ABX9TyMj81j8Dfqzw91pofSiFZqe",
      "include_colab_link": true
    },
    "kernelspec": {
      "name": "python3",
      "display_name": "Python 3"
    },
    "language_info": {
      "name": "python"
    }
  },
  "cells": [
    {
      "cell_type": "markdown",
      "metadata": {
        "id": "view-in-github",
        "colab_type": "text"
      },
      "source": [
        "<a href=\"https://colab.research.google.com/github/naoya1110/nitkc-ncku-ai-robotics/blob/main/Week01_Introduction_to_PyTorch.ipynb\" target=\"_parent\"><img src=\"https://colab.research.google.com/assets/colab-badge.svg\" alt=\"Open In Colab\"/></a>"
      ]
    },
    {
      "cell_type": "markdown",
      "metadata": {
        "id": "lp3-fTEk3CXr"
      },
      "source": [
        "In this AI Robotics Lab course, we will be using PyTorch for implementing deep neural networks. In this notebook we will learn basic functions of PyTorch. So let's get used to it.\n",
        "\n",
        "First we need to import PyTorch."
      ]
    },
    {
      "cell_type": "markdown",
      "metadata": {
        "id": "TXeweKspo2c2"
      },
      "source": [
        "## Torch.Tensor\n",
        "First we need to import PyTorch."
      ]
    },
    {
      "cell_type": "code",
      "metadata": {
        "id": "2iNt9kVFhkVq"
      },
      "source": [
        "import torch"
      ],
      "execution_count": 1,
      "outputs": []
    },
    {
      "cell_type": "markdown",
      "metadata": {
        "id": "amh_RRDe5YCu"
      },
      "source": [
        "PyTorch handles multi-dimensional array data as `torch.tensor`. To make a `torch.tensor` data, we can simply pass a Python `list` data to `torch.tensor()`."
      ]
    },
    {
      "cell_type": "code",
      "metadata": {
        "colab": {
          "base_uri": "https://localhost:8080/"
        },
        "id": "tCi4UpU6iaEQ",
        "outputId": "5dc0ba0e-6f5b-4833-de92-52dfbf7bddd2"
      },
      "source": [
        "a = [1, 2, 3]           # create list named \"a\"\n",
        "print(a)                # show \"a\"\n",
        "print(type(a))          # show data type of \"a\""
      ],
      "execution_count": 2,
      "outputs": [
        {
          "output_type": "stream",
          "name": "stdout",
          "text": [
            "[1, 2, 3]\n",
            "<class 'list'>\n"
          ]
        }
      ]
    },
    {
      "cell_type": "code",
      "metadata": {
        "colab": {
          "base_uri": "https://localhost:8080/"
        },
        "id": "dwRCeeZL6ZPt",
        "outputId": "c052de48-d670-45bb-887d-68ec457781ad"
      },
      "source": [
        "a = torch.tensor(a)     # convert list \"a\" to torch.tensor \"a\"\n",
        "print(a)                # show \"a\"\n",
        "print(type(a))          # show data type of \"a\""
      ],
      "execution_count": 3,
      "outputs": [
        {
          "output_type": "stream",
          "name": "stdout",
          "text": [
            "tensor([1, 2, 3])\n",
            "<class 'torch.Tensor'>\n"
          ]
        }
      ]
    },
    {
      "cell_type": "markdown",
      "metadata": {
        "id": "FclCLLUg6iZq"
      },
      "source": [
        "Also a `torch.tensor` data can be made from a `numpy.ndarray` data."
      ]
    },
    {
      "cell_type": "code",
      "metadata": {
        "colab": {
          "base_uri": "https://localhost:8080/"
        },
        "id": "OY_t_qCkgLFR",
        "outputId": "e89570f0-1bb5-4387-8113-7df51dccd134"
      },
      "source": [
        "import numpy as np               # import Numpy package\n",
        "\n",
        "b = np.array([0.4, 0.5, 0.6])    # create a numpy.ndarray named \"b\"\n",
        "b = torch.tensor(b)              # convert numpy.ndarry \"b\" to torch.tensor \"b\"\n",
        "print(b)\n",
        "print(type(b))"
      ],
      "execution_count": 4,
      "outputs": [
        {
          "output_type": "stream",
          "name": "stdout",
          "text": [
            "tensor([0.4000, 0.5000, 0.6000], dtype=torch.float64)\n",
            "<class 'torch.Tensor'>\n"
          ]
        }
      ]
    },
    {
      "cell_type": "markdown",
      "metadata": {
        "id": "IScSA6AF88v6"
      },
      "source": [
        "It is also possible to convert a `torch.tensor` to a `numpy.ndarray`."
      ]
    },
    {
      "cell_type": "code",
      "metadata": {
        "colab": {
          "base_uri": "https://localhost:8080/"
        },
        "id": "OOrCjtoa88MJ",
        "outputId": "eb72c131-d0f0-4c00-9e38-2b797fb06a10"
      },
      "source": [
        "c = b.numpy()                  # convert torch.tensor data \"b\" to numpy.ndarray data \"c\"\n",
        "print(c)\n",
        "print(type(c))"
      ],
      "execution_count": 5,
      "outputs": [
        {
          "output_type": "stream",
          "name": "stdout",
          "text": [
            "[0.4 0.5 0.6]\n",
            "<class 'numpy.ndarray'>\n"
          ]
        }
      ]
    },
    {
      "cell_type": "markdown",
      "metadata": {
        "id": "GanF3Gg0CJ_J"
      },
      "source": [
        "To know the shape of torch.tensor data, there are 2 different ways. One is `.shape` and other is `.size()` but results are same."
      ]
    },
    {
      "cell_type": "code",
      "metadata": {
        "colab": {
          "base_uri": "https://localhost:8080/"
        },
        "id": "WwgqCsOkCSbK",
        "outputId": "95ea9ed6-7ad8-46c6-e32a-b1d5c265f68b"
      },
      "source": [
        "print(a.shape)\n",
        "print(a.size())"
      ],
      "execution_count": 6,
      "outputs": [
        {
          "output_type": "stream",
          "name": "stdout",
          "text": [
            "torch.Size([3])\n",
            "torch.Size([3])\n"
          ]
        }
      ]
    },
    {
      "cell_type": "markdown",
      "metadata": {
        "id": "2QWTZQTy76Av"
      },
      "source": [
        "## Simple Calculations\n",
        "\n",
        "Now let's do some simple numerical calculations with a `torch.tensor` and a number."
      ]
    },
    {
      "cell_type": "code",
      "metadata": {
        "colab": {
          "base_uri": "https://localhost:8080/"
        },
        "id": "BQMs27Ky6huP",
        "outputId": "f804a006-30ff-4f85-fde0-a7268fa6050e"
      },
      "source": [
        "a = torch.tensor([1, 2, 3])\n",
        "print(\"a =\", a)\n",
        "\n",
        "print(a+1)    # addition\n",
        "print(a-2)    # subtraction\n",
        "print(a*3)    # multiplication\n",
        "print(a/4)    # division"
      ],
      "execution_count": 7,
      "outputs": [
        {
          "output_type": "stream",
          "name": "stdout",
          "text": [
            "a = tensor([1, 2, 3])\n",
            "tensor([2, 3, 4])\n",
            "tensor([-1,  0,  1])\n",
            "tensor([3, 6, 9])\n",
            "tensor([0.2500, 0.5000, 0.7500])\n"
          ]
        }
      ]
    },
    {
      "cell_type": "markdown",
      "metadata": {
        "id": "KR3Hze5ux40x"
      },
      "source": [
        "calculations with two `torch.tensor`s."
      ]
    },
    {
      "cell_type": "code",
      "metadata": {
        "colab": {
          "base_uri": "https://localhost:8080/"
        },
        "id": "t3sRUzEN8M5b",
        "outputId": "ec1199f3-a2ae-4f56-eae0-4b69b6b30d6c"
      },
      "source": [
        "a = torch.tensor([1, 2, 3])\n",
        "b = torch.tensor([0.4, 0.5, 0.6])\n",
        "\n",
        "print(\"a =\", a)\n",
        "print(\"b =\", b)\n",
        "\n",
        "print(a+b)\n",
        "print(a-b)\n",
        "print(a*b)\n",
        "print(a/b)"
      ],
      "execution_count": 8,
      "outputs": [
        {
          "output_type": "stream",
          "name": "stdout",
          "text": [
            "a = tensor([1, 2, 3])\n",
            "b = tensor([0.4000, 0.5000, 0.6000])\n",
            "tensor([1.4000, 2.5000, 3.6000])\n",
            "tensor([0.6000, 1.5000, 2.4000])\n",
            "tensor([0.4000, 1.0000, 1.8000])\n",
            "tensor([2.5000, 4.0000, 5.0000])\n"
          ]
        }
      ]
    },
    {
      "cell_type": "markdown",
      "metadata": {
        "id": "RIqrgn0ZheTR"
      },
      "source": [
        "If you want to do some calculations with two `torch.tensor`s, their shapes need to be exactly same."
      ]
    },
    {
      "cell_type": "code",
      "metadata": {
        "colab": {
          "base_uri": "https://localhost:8080/",
          "height": 200
        },
        "id": "4ROostzthZ1j",
        "outputId": "a0b26dd8-ea3c-41c0-c57c-634655de0914"
      },
      "source": [
        "a = torch.tensor([1, 2, 3])    # shape is 3\n",
        "c = torch.tensor([0.4, 0.5])   # shape is 2\n",
        "\n",
        "print(a+c)    # this raises an error"
      ],
      "execution_count": 9,
      "outputs": [
        {
          "output_type": "error",
          "ename": "RuntimeError",
          "evalue": "ignored",
          "traceback": [
            "\u001b[0;31m---------------------------------------------------------------------------\u001b[0m",
            "\u001b[0;31mRuntimeError\u001b[0m                              Traceback (most recent call last)",
            "\u001b[0;32m<ipython-input-9-4f16d6399d2d>\u001b[0m in \u001b[0;36m<module>\u001b[0;34m()\u001b[0m\n\u001b[1;32m      2\u001b[0m \u001b[0mc\u001b[0m \u001b[0;34m=\u001b[0m \u001b[0mtorch\u001b[0m\u001b[0;34m.\u001b[0m\u001b[0mtensor\u001b[0m\u001b[0;34m(\u001b[0m\u001b[0;34m[\u001b[0m\u001b[0;36m0.4\u001b[0m\u001b[0;34m,\u001b[0m \u001b[0;36m0.5\u001b[0m\u001b[0;34m]\u001b[0m\u001b[0;34m)\u001b[0m   \u001b[0;31m# shape is 2\u001b[0m\u001b[0;34m\u001b[0m\u001b[0;34m\u001b[0m\u001b[0m\n\u001b[1;32m      3\u001b[0m \u001b[0;34m\u001b[0m\u001b[0m\n\u001b[0;32m----> 4\u001b[0;31m \u001b[0mprint\u001b[0m\u001b[0;34m(\u001b[0m\u001b[0ma\u001b[0m\u001b[0;34m+\u001b[0m\u001b[0mc\u001b[0m\u001b[0;34m)\u001b[0m    \u001b[0;31m# this raises an error\u001b[0m\u001b[0;34m\u001b[0m\u001b[0;34m\u001b[0m\u001b[0m\n\u001b[0m",
            "\u001b[0;31mRuntimeError\u001b[0m: The size of tensor a (3) must match the size of tensor b (2) at non-singleton dimension 0"
          ]
        }
      ]
    },
    {
      "cell_type": "markdown",
      "metadata": {
        "id": "SdgTI4FS9nSA"
      },
      "source": [
        "## Similarities and Differences between PyTorch and Numpy\n",
        "\n",
        "Since PyTorch is based on Numpy, they have have a lot of similarities. If you are already familier with Numpy, you might feel confortable with PyTorch as well. Let's see some examples."
      ]
    },
    {
      "cell_type": "markdown",
      "metadata": {
        "id": "41so0Zm8_MLZ"
      },
      "source": [
        "**Zeros Array** - all zero array with given shape"
      ]
    },
    {
      "cell_type": "code",
      "metadata": {
        "colab": {
          "base_uri": "https://localhost:8080/"
        },
        "id": "vyJZEQdDkSYp",
        "outputId": "73a69e00-3aab-4a20-c445-8db4df25d22a"
      },
      "source": [
        "np.zeros(3)"
      ],
      "execution_count": 10,
      "outputs": [
        {
          "output_type": "execute_result",
          "data": {
            "text/plain": [
              "array([0., 0., 0.])"
            ]
          },
          "metadata": {},
          "execution_count": 10
        }
      ]
    },
    {
      "cell_type": "code",
      "metadata": {
        "colab": {
          "base_uri": "https://localhost:8080/"
        },
        "id": "ewQFFBZvhsLO",
        "outputId": "896f7619-46f2-4423-c4aa-860c4b1049b8"
      },
      "source": [
        "torch.zeros(3)"
      ],
      "execution_count": 11,
      "outputs": [
        {
          "output_type": "execute_result",
          "data": {
            "text/plain": [
              "tensor([0., 0., 0.])"
            ]
          },
          "metadata": {},
          "execution_count": 11
        }
      ]
    },
    {
      "cell_type": "markdown",
      "metadata": {
        "id": "XViCDzHK_Phe"
      },
      "source": [
        "**Ones Array** - all one array with given shape"
      ]
    },
    {
      "cell_type": "code",
      "metadata": {
        "colab": {
          "base_uri": "https://localhost:8080/"
        },
        "id": "g45dgf4Vk1-W",
        "outputId": "fda5afa9-7337-4212-bad5-35c6b5d17722"
      },
      "source": [
        "np.ones(3)"
      ],
      "execution_count": 12,
      "outputs": [
        {
          "output_type": "execute_result",
          "data": {
            "text/plain": [
              "array([1., 1., 1.])"
            ]
          },
          "metadata": {},
          "execution_count": 12
        }
      ]
    },
    {
      "cell_type": "code",
      "metadata": {
        "colab": {
          "base_uri": "https://localhost:8080/"
        },
        "id": "wL64K2wb-J6s",
        "outputId": "b3470e40-07db-4c76-abb4-f52596033a2b"
      },
      "source": [
        "torch.ones(3)"
      ],
      "execution_count": 13,
      "outputs": [
        {
          "output_type": "execute_result",
          "data": {
            "text/plain": [
              "tensor([1., 1., 1.])"
            ]
          },
          "metadata": {},
          "execution_count": 13
        }
      ]
    },
    {
      "cell_type": "markdown",
      "metadata": {
        "id": "1xErEqhS_UK_"
      },
      "source": [
        "**Arange Array** - 1D array with evenly spaced values"
      ]
    },
    {
      "cell_type": "code",
      "metadata": {
        "colab": {
          "base_uri": "https://localhost:8080/"
        },
        "id": "D8uf-3lgk6FK",
        "outputId": "fbba016f-5258-4421-df97-5849318dc52a"
      },
      "source": [
        "np.arange(1, 5, 1)"
      ],
      "execution_count": 14,
      "outputs": [
        {
          "output_type": "execute_result",
          "data": {
            "text/plain": [
              "array([1, 2, 3, 4])"
            ]
          },
          "metadata": {},
          "execution_count": 14
        }
      ]
    },
    {
      "cell_type": "code",
      "metadata": {
        "colab": {
          "base_uri": "https://localhost:8080/"
        },
        "id": "mJMTsPNn-o5_",
        "outputId": "cb76882b-7e75-44ed-ff2b-6c8dc2724358"
      },
      "source": [
        "torch.arange(1, 5, 1)"
      ],
      "execution_count": 15,
      "outputs": [
        {
          "output_type": "execute_result",
          "data": {
            "text/plain": [
              "tensor([1, 2, 3, 4])"
            ]
          },
          "metadata": {},
          "execution_count": 15
        }
      ]
    },
    {
      "cell_type": "markdown",
      "metadata": {
        "id": "um9Kdk8V_qIy"
      },
      "source": [
        "**Random Number Array** - an array of rundom numbers between 0.0 and 1.0 with given shape"
      ]
    },
    {
      "cell_type": "code",
      "metadata": {
        "colab": {
          "base_uri": "https://localhost:8080/"
        },
        "id": "XxuC3DwclKoE",
        "outputId": "bde0bb4b-c98f-424b-ec6f-b59035eb7fe0"
      },
      "source": [
        "np.random.rand(3)"
      ],
      "execution_count": 16,
      "outputs": [
        {
          "output_type": "execute_result",
          "data": {
            "text/plain": [
              "array([0.8548529 , 0.64075198, 0.67978074])"
            ]
          },
          "metadata": {},
          "execution_count": 16
        }
      ]
    },
    {
      "cell_type": "code",
      "metadata": {
        "colab": {
          "base_uri": "https://localhost:8080/"
        },
        "id": "Epe4Tk_6-PFn",
        "outputId": "6bad4a08-b187-42da-ee36-d59ccbd9b57d"
      },
      "source": [
        "torch.rand(3)"
      ],
      "execution_count": 17,
      "outputs": [
        {
          "output_type": "execute_result",
          "data": {
            "text/plain": [
              "tensor([9.8348e-06, 6.4450e-01, 8.0100e-01])"
            ]
          },
          "metadata": {},
          "execution_count": 17
        }
      ]
    },
    {
      "cell_type": "markdown",
      "metadata": {
        "id": "BrqFpnM_DRDa"
      },
      "source": [
        "**Argmax** - returns returns the index of element with the maximum value in given data"
      ]
    },
    {
      "cell_type": "code",
      "metadata": {
        "colab": {
          "base_uri": "https://localhost:8080/"
        },
        "id": "6CDgTCGzleaA",
        "outputId": "871fad02-7a0d-4c0f-b6fc-e8345c1a220d"
      },
      "source": [
        "d = np.random.rand(5)\n",
        "print(d)\n",
        "np.argmax(d)"
      ],
      "execution_count": 18,
      "outputs": [
        {
          "output_type": "stream",
          "name": "stdout",
          "text": [
            "[0.59590716 0.26945965 0.07791799 0.46846373 0.19457603]\n"
          ]
        },
        {
          "output_type": "execute_result",
          "data": {
            "text/plain": [
              "0"
            ]
          },
          "metadata": {},
          "execution_count": 18
        }
      ]
    },
    {
      "cell_type": "code",
      "metadata": {
        "colab": {
          "base_uri": "https://localhost:8080/"
        },
        "id": "dTSKNliMDSMA",
        "outputId": "bcad246e-205f-4f24-ef32-ee50e1f816df"
      },
      "source": [
        "d = torch.rand(5)\n",
        "print(d)\n",
        "torch.argmax(d)"
      ],
      "execution_count": 19,
      "outputs": [
        {
          "output_type": "stream",
          "name": "stdout",
          "text": [
            "tensor([0.3008, 0.4571, 0.2526, 0.1323, 0.2252])\n"
          ]
        },
        {
          "output_type": "execute_result",
          "data": {
            "text/plain": [
              "tensor(1)"
            ]
          },
          "metadata": {},
          "execution_count": 19
        }
      ]
    },
    {
      "cell_type": "markdown",
      "metadata": {
        "id": "1m-AEvuAABNN"
      },
      "source": [
        "**Slicing data with index**"
      ]
    },
    {
      "cell_type": "code",
      "metadata": {
        "colab": {
          "base_uri": "https://localhost:8080/"
        },
        "id": "dAR_SciliEd0",
        "outputId": "e4c1b0b5-f610-4164-97e2-58398fe71bf2"
      },
      "source": [
        "e = np.arange(10)\n",
        "print(e)\n",
        "print(e[2:5])    # take data from index 2 to before index 5"
      ],
      "execution_count": 20,
      "outputs": [
        {
          "output_type": "stream",
          "name": "stdout",
          "text": [
            "[0 1 2 3 4 5 6 7 8 9]\n",
            "[2 3 4]\n"
          ]
        }
      ]
    },
    {
      "cell_type": "code",
      "metadata": {
        "colab": {
          "base_uri": "https://localhost:8080/"
        },
        "id": "RVPtoMeslvhq",
        "outputId": "1641a871-65ef-43e5-c6d8-4e16d33b35bc"
      },
      "source": [
        "e = torch.arange(10)\n",
        "print(e)\n",
        "print(e[2:5])    # take data from index 2 to before index 5"
      ],
      "execution_count": 21,
      "outputs": [
        {
          "output_type": "stream",
          "name": "stdout",
          "text": [
            "tensor([0, 1, 2, 3, 4, 5, 6, 7, 8, 9])\n",
            "tensor([2, 3, 4])\n"
          ]
        }
      ]
    },
    {
      "cell_type": "markdown",
      "metadata": {
        "id": "tPblm8JmEE1B"
      },
      "source": [
        "There are also differences between PyTorch and Numpy. One of them is the method for reshaping the array data.\n",
        "\n",
        "**Reshaping** \n",
        "\n",
        "In order to reshape the `numpy.ndarray`, we can use `.reshape()`."
      ]
    },
    {
      "cell_type": "code",
      "metadata": {
        "colab": {
          "base_uri": "https://localhost:8080/"
        },
        "id": "-UzSo7ajiJGN",
        "outputId": "fbf53dc3-4a6a-4f05-ec8e-8536985b9b71"
      },
      "source": [
        "f = np.arange(10) # 1D data\n",
        "f.reshape(2,5)    # reshape data into 2x5 (2D data)"
      ],
      "execution_count": 22,
      "outputs": [
        {
          "output_type": "execute_result",
          "data": {
            "text/plain": [
              "array([[0, 1, 2, 3, 4],\n",
              "       [5, 6, 7, 8, 9]])"
            ]
          },
          "metadata": {},
          "execution_count": 22
        }
      ]
    },
    {
      "cell_type": "markdown",
      "metadata": {
        "id": "q1TGVrNszb7d"
      },
      "source": [
        "In PyTorch we need to use `.view()` instead of `.reshape()`."
      ]
    },
    {
      "cell_type": "code",
      "metadata": {
        "colab": {
          "base_uri": "https://localhost:8080/"
        },
        "id": "rK5JSboHETjP",
        "outputId": "a241f0c4-fa25-443b-c5db-072edacbe641"
      },
      "source": [
        "f = torch.arange(10)\n",
        "f.view(2,5)   # reshape data into 2x5"
      ],
      "execution_count": 23,
      "outputs": [
        {
          "output_type": "execute_result",
          "data": {
            "text/plain": [
              "tensor([[0, 1, 2, 3, 4],\n",
              "        [5, 6, 7, 8, 9]])"
            ]
          },
          "metadata": {},
          "execution_count": 23
        }
      ]
    },
    {
      "cell_type": "markdown",
      "metadata": {
        "id": "cjMYEqSyEmVe"
      },
      "source": [
        "## AutoGrad\n",
        "One of the most important features of PyTorch is the differential calculation engine `torch.autograd`. PyTorch performs calculation with a computation graph, and this allows us to access the gradients of outputs with respect to the inputs. This is the key for training neural networks.\n",
        "\n",
        "In order to enable` torch.autograd` function, we set the parameter of `requires_grad=True` in `torch.tensor`.\n",
        "\n",
        "Let's do a simple calculation of $y=2x+5$, where $x$ is input and $y$ is output.\n",
        "\n",
        "Note that `torch.tensor` data has to be floating point number when we set `requires_grad=True` ."
      ]
    },
    {
      "cell_type": "code",
      "metadata": {
        "colab": {
          "base_uri": "https://localhost:8080/"
        },
        "id": "3p0UxGo6jjYf",
        "outputId": "56edb58a-9e32-4acd-9113-e5ce9c71095e"
      },
      "source": [
        "x = torch.tensor(3.0, dtype=torch.float64, requires_grad=True)\n",
        "y = 2*x + 5\n",
        "print(y)"
      ],
      "execution_count": 24,
      "outputs": [
        {
          "output_type": "stream",
          "name": "stdout",
          "text": [
            "tensor(11., dtype=torch.float64, grad_fn=<AddBackward0>)\n"
          ]
        }
      ]
    },
    {
      "cell_type": "markdown",
      "metadata": {
        "id": "VyW7S_k5Zk0A"
      },
      "source": [
        "As you see above `y` is a torch.tensor data. You can take the value of `y` by `y.item()`."
      ]
    },
    {
      "cell_type": "code",
      "metadata": {
        "colab": {
          "base_uri": "https://localhost:8080/"
        },
        "id": "uTpwq-vBZibA",
        "outputId": "50cffe2e-4fe6-4aad-8920-5a204af565ef"
      },
      "source": [
        "y.item()"
      ],
      "execution_count": 25,
      "outputs": [
        {
          "output_type": "execute_result",
          "data": {
            "text/plain": [
              "11.0"
            ]
          },
          "metadata": {},
          "execution_count": 25
        }
      ]
    },
    {
      "cell_type": "markdown",
      "metadata": {
        "id": "4GPBCOJUNeX4"
      },
      "source": [
        "The gradients of $y$ can be calculated by `y.backward()`"
      ]
    },
    {
      "cell_type": "code",
      "metadata": {
        "id": "6aV0uFOBMxv1"
      },
      "source": [
        "y.backward()"
      ],
      "execution_count": 26,
      "outputs": []
    },
    {
      "cell_type": "markdown",
      "metadata": {
        "id": "dorxjIugOLJd"
      },
      "source": [
        "Then we can access to the gradients of output respect to the input.\n",
        "\n",
        "For example, $dy/dx$ can be accessed by `x.grad`."
      ]
    },
    {
      "cell_type": "code",
      "metadata": {
        "colab": {
          "base_uri": "https://localhost:8080/"
        },
        "id": "OALTZ7JJNX4l",
        "outputId": "31276490-7796-4ef2-f949-01df435fe9f2"
      },
      "source": [
        "print(\"dy/dx =\", x.grad)"
      ],
      "execution_count": 27,
      "outputs": [
        {
          "output_type": "stream",
          "name": "stdout",
          "text": [
            "dy/dx = tensor(2., dtype=torch.float64)\n"
          ]
        }
      ]
    },
    {
      "cell_type": "markdown",
      "metadata": {
        "id": "ah3ijRIWkcRW"
      },
      "source": [
        "**Practice**\n",
        "\n",
        "\n",
        "1.   Define a new `torch.tensor` $x=5.0$\n",
        "2.   Do calculation of $y=x^2 + 3x + 1$\n",
        "3.   Determine the gradient of $dy/dx$ and check if that is correct."
      ]
    },
    {
      "cell_type": "code",
      "metadata": {
        "id": "frllAWONlULP"
      },
      "source": [
        ""
      ],
      "execution_count": 27,
      "outputs": []
    },
    {
      "cell_type": "markdown",
      "metadata": {
        "id": "dBAONFRxnU05"
      },
      "source": [
        "**Practice**\n",
        "\n",
        "\n",
        "1.   Define a new `torch.tensor` $x=3.0$ and $y=2.0$\n",
        "2.   Do calculation of $z=x^2 + 2y^3$\n",
        "3.   Determine the partial gradients of $\\partial z/\\partial x$, $\\partial z/\\partial y$"
      ]
    },
    {
      "cell_type": "code",
      "metadata": {
        "id": "hxWW5_swnR3g"
      },
      "source": [
        ""
      ],
      "execution_count": 27,
      "outputs": []
    },
    {
      "cell_type": "markdown",
      "metadata": {
        "id": "BioIAR-F3oDN"
      },
      "source": [
        "In deep learning the gradient values are used for optimizing parameters of neural network models. As we have seen above we can obtain the gradient values very easily by using PyTorch. This is why PyTorch is used for deep learning programming."
      ]
    }
  ]
}